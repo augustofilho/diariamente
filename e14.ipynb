{
 "cells": [
  {
   "cell_type": "markdown",
   "metadata": {},
   "source": [
    "# Day 14:30 daily statistics - Regressão Linear Múltipla - P1"
   ]
  },
  {
   "cell_type": "markdown",
   "metadata": {},
   "source": [
    "$\\color{red}{\\text{Exercício 1}}$ - **Retirado do livro: Análise de Modelos de Regressão Linear com Aplicações, de Charnet, Freire, Charnet e Bonvino** - Considere os seguintes valores da variável X:\n",
    "\n",
    "| Obs. |   X   | Obs |   X   |\n",
    "|:----:|:-----:|:---:|:-----:|\n",
    "|   1  |  0,86 |  11 | -0,03 |\n",
    "|   2  |  0,61 |  12 | -0,29 |\n",
    "|   3  |  0,55 |  13 | -1,16 |\n",
    "|   4  |  0,24 |  14 |  0,31 |\n",
    "|   5  | -0,27 |  15 | -0,32 |\n",
    "|   6  | -0,75 |  16 |  0,11 |\n",
    "|   7  | -1,46 |  17 |  0,44 |\n",
    "|   8  |  0,37 |  18 |  0,41 |\n",
    "|   9  | -0,40 |  19 |  0,47 |\n",
    "|  10  | -1,21 |  20 |  1,01 |\n",
    "\n",
    "+ a) Considere $Y=X^3$. Faça o gráfico de Y em X\n",
    "+ b) Calcule a correlação entre Y e X\n",
    "+ c) Comente os resultados obtidos."
   ]
  },
  {
   "cell_type": "code",
   "execution_count": 1,
   "metadata": {},
   "outputs": [
    {
     "data": {
      "image/png": "[encoded data removed]",
      "text/plain": [
       "plot without title"
      ]
     },
     "metadata": {},
     "output_type": "display_data"
    }
   ],
   "source": [
    "#Entrando com os daods\n",
    "x=c(0.86, 0.61, 0.55, 0.24, -0.27, -0.75, -1.46, 0.37, -0.40, -1.21, -0.03, -0.29, -1.16, 0.31, -0.32, 0.11, 0.44, 0.41, 0.47, 1.01)\n",
    "y=x^3\n",
    "\n",
    "#Grafico de Y em X\n",
    "scatter.smooth(x=x,y=y)"
   ]
  },
  {
   "cell_type": "markdown",
   "metadata": {},
   "source": [
    "$\\color{red}{\\text{b)}}$ - **A correlação entre X e Y é dado por**:"
   ]
  },
  {
   "cell_type": "code",
   "execution_count": 2,
   "metadata": {},
   "outputs": [
    {
     "data": {
      "text/html": [
       "0.882295383050905"
      ],
      "text/latex": [
       "0.882295383050905"
      ],
      "text/markdown": [
       "0.882295383050905"
      ],
      "text/plain": [
       "[1] 0.8822954"
      ]
     },
     "metadata": {},
     "output_type": "display_data"
    }
   ],
   "source": [
    "cor(x,y)"
   ]
  },
  {
   "cell_type": "markdown",
   "metadata": {},
   "source": [
    "$\\color{red}{\\text{c)}}$ - **Comente os resultados encontrados**"
   ]
  },
  {
   "cell_type": "markdown",
   "metadata": {},
   "source": [
    "Os resultados encontrados apresentam as variavíes X e Y com uma correlação linear de 0,88, indicando que à medida que o valor de X aumenta o valor de Y também aumenta. "
   ]
  },
  {
   "cell_type": "markdown",
   "metadata": {},
   "source": [
    "$\\color{red}{\\text{Exercício 2}}$ - **Retirado do livro: Análise de Modelos de Regressão Linear com Aplicações, de Charnet, Freire, Charnet e Bonvino**  Uma faculdade de eonomia realizou uma pesquisa para estudar a evolução de salário médio inicial mensal dos seus ex-alunos formados durante o período de 1987 a 1993. Para tanto selecionou 20 formandos de cada ano, para os quais foram calculadas as médias salariais para cada ano. Os dados encontram-se a seguir:\n",
    "\n",
    "| Ano | Média Salarial |\n",
    "|:---:|:--------------:|\n",
    "|  87 |    1.092,31    |\n",
    "|  88 |    1.203,46    |\n",
    "|  89 |    1.265,54    |\n",
    "|  90 |    1.298,77    |\n",
    "|  91 |    1.396,85    |\n",
    "|  92 |    1.588,46    |\n",
    "|  93 |    1.683,85    |\n",
    "\n",
    "+ a) Faça um gráfico de dispersão do salário médio em função do ano. Comente a possível relação visual entre as duas variáveis.\n",
    "+ b) Estime o MRLS que relaciona o salário médio e o ano de formatura;\n",
    "+ c) Encontre os valores estimados dos salários médios, pelo modelo obtido em (b). O que você poderia dizer sobre o ajuste do modelo, considerando as estimativas fornecidas pelo modelo?\n",
    "+ d) Calcule a correlação entre os salários e os anos;\n",
    "+ e) O que está indicando a correlação encontrada no item (d)?\n",
    "+ f) Calcule a correlação entre os valores observados dos salários e os estimados pelo modelo;\n",
    "+ g) Comente o valor encontrado no item (f)  e a sua análise feita no item (c)."
   ]
  },
  {
   "cell_type": "markdown",
   "metadata": {},
   "source": [
    "$\\color{red}{\\text{a)}}$ - **O gráfico de dispersão é apresentado a seguir:**"
   ]
  },
  {
   "cell_type": "code",
   "execution_count": 3,
   "metadata": {},
   "outputs": [
    {
     "data": {
      "image/png": "[encoded data removed]",
      "text/plain": [
       "plot without title"
      ]
     },
     "metadata": {},
     "output_type": "display_data"
    }
   ],
   "source": [
    "#entrando com os dados\n",
    "x=seq(87,93,by=1)\n",
    "y=c(1092.31, 1203.46, 1265.54, 1298.77, 1396.85, 1588.46, 1683.85)\n",
    "base=data.frame(x,y)\n",
    "\n",
    "plot(x,y)"
   ]
  },
  {
   "cell_type": "markdown",
   "metadata": {},
   "source": [
    "$\\color{red}{\\text{b)}}$ - **O modelo de regressão linear simples que relaciona o salário médio e o ano de formatura é apresentado por:**"
   ]
  },
  {
   "cell_type": "code",
   "execution_count": 4,
   "metadata": {},
   "outputs": [
    {
     "data": {
      "text/plain": [
       "\n",
       "Call:\n",
       "lm(formula = y ~ x, data = base)\n",
       "\n",
       "Residuals:\n",
       "       1        2        3        4        5        6        7 \n",
       " 17.6968  33.2779  -0.2111 -62.5500 -60.0389  36.0021  35.8232 \n",
       "\n",
       "Coefficients:\n",
       "            Estimate Std. Error t value Pr(>|t|)    \n",
       "(Intercept) -7239.88     816.51  -8.867 0.000303 ***\n",
       "x              95.57       9.07  10.537 0.000133 ***\n",
       "---\n",
       "Signif. codes:  0 '***' 0.001 '**' 0.01 '*' 0.05 '.' 0.1 ' ' 1\n",
       "\n",
       "Residual standard error: 47.99 on 5 degrees of freedom\n",
       "Multiple R-squared:  0.9569,\tAdjusted R-squared:  0.9483 \n",
       "F-statistic:   111 on 1 and 5 DF,  p-value: 0.000133\n"
      ]
     },
     "metadata": {},
     "output_type": "display_data"
    }
   ],
   "source": [
    "summary(lm(y~x,data=base))"
   ]
  },
  {
   "cell_type": "markdown",
   "metadata": {},
   "source": [
    "$\\color{red}{\\text{c)}}$ - **Encontre os valores estimados dos salários médios, pelo modelo obtido em (b). O que você poderia dizer sobre o ajuste do modelo, considerando as estimativas fornecidas pelo modelo?**"
   ]
  },
  {
   "cell_type": "markdown",
   "metadata": {},
   "source": [
    "Com o modelo obtido  $\\hat{y}=-7239,88 + 95,57X$  é possível chegarmos as seguintes estimativas para o salário médio."
   ]
  },
  {
   "cell_type": "code",
   "execution_count": 5,
   "metadata": {},
   "outputs": [
    {
     "data": {
      "text/html": [
       "<table>\n",
       "<thead><tr><th scope=col>y</th><th scope=col>previsao</th><th scope=col>residuos</th></tr></thead>\n",
       "<tbody>\n",
       "\t<tr><td>1092.31    </td><td>1074.613   </td><td> 17.6967857</td></tr>\n",
       "\t<tr><td>1203.46    </td><td>1170.182   </td><td> 33.2778571</td></tr>\n",
       "\t<tr><td>1265.54    </td><td>1265.751   </td><td> -0.2110714</td></tr>\n",
       "\t<tr><td>1298.77    </td><td>1361.320   </td><td>-62.5500000</td></tr>\n",
       "\t<tr><td>1396.85    </td><td>1456.889   </td><td>-60.0389286</td></tr>\n",
       "\t<tr><td>1588.46    </td><td>1552.458   </td><td> 36.0021429</td></tr>\n",
       "\t<tr><td>1683.85    </td><td>1648.027   </td><td> 35.8232143</td></tr>\n",
       "</tbody>\n",
       "</table>\n"
      ],
      "text/latex": [
       "\\begin{tabular}{r|lll}\n",
       " y & previsao & residuos\\\\\n",
       "\\hline\n",
       "\t 1092.31     & 1074.613    &  17.6967857\\\\\n",
       "\t 1203.46     & 1170.182    &  33.2778571\\\\\n",
       "\t 1265.54     & 1265.751    &  -0.2110714\\\\\n",
       "\t 1298.77     & 1361.320    & -62.5500000\\\\\n",
       "\t 1396.85     & 1456.889    & -60.0389286\\\\\n",
       "\t 1588.46     & 1552.458    &  36.0021429\\\\\n",
       "\t 1683.85     & 1648.027    &  35.8232143\\\\\n",
       "\\end{tabular}\n"
      ],
      "text/markdown": [
       "\n",
       "| y | previsao | residuos |\n",
       "|---|---|---|\n",
       "| 1092.31     | 1074.613    |  17.6967857 |\n",
       "| 1203.46     | 1170.182    |  33.2778571 |\n",
       "| 1265.54     | 1265.751    |  -0.2110714 |\n",
       "| 1298.77     | 1361.320    | -62.5500000 |\n",
       "| 1396.85     | 1456.889    | -60.0389286 |\n",
       "| 1588.46     | 1552.458    |  36.0021429 |\n",
       "| 1683.85     | 1648.027    |  35.8232143 |\n",
       "\n"
      ],
      "text/plain": [
       "  y       previsao residuos   \n",
       "1 1092.31 1074.613  17.6967857\n",
       "2 1203.46 1170.182  33.2778571\n",
       "3 1265.54 1265.751  -0.2110714\n",
       "4 1298.77 1361.320 -62.5500000\n",
       "5 1396.85 1456.889 -60.0389286\n",
       "6 1588.46 1552.458  36.0021429\n",
       "7 1683.85 1648.027  35.8232143"
      ]
     },
     "metadata": {},
     "output_type": "display_data"
    }
   ],
   "source": [
    "previsao=predict(lm(y~x))\n",
    "residuos=residuals(lm(y~x))\n",
    "resultado=data.frame(y,previsao,residuos)\n",
    "resultado"
   ]
  },
  {
   "cell_type": "code",
   "execution_count": 6,
   "metadata": {},
   "outputs": [
    {
     "data": {
      "image/png": "[encoded data removed]",
      "text/plain": [
       "plot without title"
      ]
     },
     "metadata": {},
     "output_type": "display_data"
    }
   ],
   "source": [
    "ajuste=lm(y~x,data=base)\n",
    "plot(x,y,pch=16)\n",
    "abline(ajuste,col=\"red\")"
   ]
  },
  {
   "cell_type": "markdown",
   "metadata": {},
   "source": [
    "Os parâmetros para o modelo estimado são signficativos para o modelo, o p-valor associado a regressão considera o modelo estimado como sendo significativo ao nível de 95% de confiança, o coeficiente de determianção para o modelo é 95,68% indicando que o modelo consegue explicar em 95,68% as variações que são inerentes ao processo e a variação em torno da reta média estimada é de 47,99."
   ]
  },
  {
   "cell_type": "markdown",
   "metadata": {},
   "source": [
    "$\\color{red}{\\text{d)}}$ - **A correlação entre os salários e os anos é dada por:**"
   ]
  },
  {
   "cell_type": "code",
   "execution_count": 7,
   "metadata": {},
   "outputs": [
    {
     "data": {
      "text/html": [
       "0.978215212348241"
      ],
      "text/latex": [
       "0.978215212348241"
      ],
      "text/markdown": [
       "0.978215212348241"
      ],
      "text/plain": [
       "[1] 0.9782152"
      ]
     },
     "metadata": {},
     "output_type": "display_data"
    }
   ],
   "source": [
    "cor(x,y)"
   ]
  },
  {
   "cell_type": "markdown",
   "metadata": {},
   "source": [
    "A correlação entre salário e anos é dada por 0,9782, indicando que as duas variáveis são estritamente relacionadas linearmente. "
   ]
  },
  {
   "cell_type": "markdown",
   "metadata": {},
   "source": [
    "$\\color{red}{\\text{e)}}$ - **O que esta indicando a correlação encontrada anteriormente?**"
   ]
  },
  {
   "cell_type": "markdown",
   "metadata": {},
   "source": [
    "As duas variáveis apresentam uma forte correlação linear, indicando que é possível prever o comportamento da variável  salário conhecendo-se o comportamento do ano de formatura. "
   ]
  },
  {
   "cell_type": "markdown",
   "metadata": {},
   "source": [
    "$\\color{red}{\\text{f)}}$ - **A correlação entre salarios e os salarios estimados pelo modelo é apresetado a seguir:**"
   ]
  },
  {
   "cell_type": "code",
   "execution_count": 8,
   "metadata": {},
   "outputs": [
    {
     "data": {
      "text/html": [
       "0.978215212348241"
      ],
      "text/latex": [
       "0.978215212348241"
      ],
      "text/markdown": [
       "0.978215212348241"
      ],
      "text/plain": [
       "[1] 0.9782152"
      ]
     },
     "metadata": {},
     "output_type": "display_data"
    }
   ],
   "source": [
    "cor(y,previsao)"
   ]
  },
  {
   "cell_type": "markdown",
   "metadata": {},
   "source": [
    "$\\color{red}{\\text{g)}}$ - **Comente o resultado encontrado no item (f) e no item (c)**"
   ]
  },
  {
   "cell_type": "markdown",
   "metadata": {},
   "source": [
    "O modelo encontrado no item (c) é linear com um coeficiente de determinação considerado alto. Em relação ao item (f) a correlação estimada entre o salário real e o salário estimado pelo modelo de previsão apresentou um coeficiente de correlação que pode ser considerado alto, indicando uma associação linear entre as duas variáveis. "
   ]
  },
  {
   "cell_type": "markdown",
   "metadata": {},
   "source": [
    "$\\color{red}{\\text{Exercício 3}}$ - **Retirado do livro: Análise de Modelos de Regressão Linear com Aplicações, de Charnet, Freire, Charnet e Bonvino** - Se $(S_{xx})^2=0,15(S_{yy})^{1/2}$ e $r=0,76$, encontre $\\beta_1$."
   ]
  },
  {
   "cell_type": "markdown",
   "metadata": {},
   "source": [
    "É sabique que $$\\hat{\\rho}_{x,y}=\\hat{\\beta_1}\\cdot \\sqrt{\\frac{S_{xx}}{S_{yy}}}$$\n",
    "\n",
    "Portanto, temos: $$\\hat{\\beta_1}\\sqrt{\\frac{S_{xx}}{S_{yy}}}=\\hat{\\rho}_{x,y}$$\n",
    "\n",
    "$$\\hat{\\beta_1}=\\frac{\\hat{\\rho}_{x,y}}{\\sqrt{\\frac{S_{xx}}{S_{yy}}}}$$\n",
    "\n",
    "O enunciado nos fornecem as seguintes informações $r=0,76$ e ainda $(S_{xx})^{1/2}=0,15(S_{yy})^{1/2}$. E tendo em vista que o coeficiente de correlação amostral (r) é o estimador natural do coeficiente do correlação populacional $\\hat{\\rho}$, temos que $\\hat{\\rho}=r=0,15$, logo substituindo na equação acima, teremos:\n",
    "$$\\hat{\\beta_1}=\\frac{\\hat{\\rho}_{x,y}}{\\sqrt{\\frac{S_{xx}}{S_{yy}}}}$$\n",
    "$$\\hat{\\beta_1}=\\frac{0,76}{0,15}$$\n",
    "visto que: $$(S_{xx})^{1/2}=0,15(S_{yy})^{1/2}$$\n",
    "$$\\frac{(S_{xx})^{1/2}}{(S_{yy})^{1/2}}=0,15$$\n",
    "$$\\frac{\\sqrt{S_{xx}}}{\\sqrt{S_{yy}}}=0,15$$\n",
    "$$\\sqrt{\\frac{S_{xx}}{S_{yy}}}=0,15$$\n",
    "\n",
    "Portanto, $$\\hat{\\beta_1}=\\frac{0,76}{0,15}$$\n",
    "$$\\hat{\\beta}_1=5,0667$$\n"
   ]
  },
  {
   "cell_type": "markdown",
   "metadata": {},
   "source": [
    "$\\color{red}{\\text{Exercício 4}}$ - **Retirado do livro: Análise de Modelos de Regressão Linear com Aplicações, de Charnet, Freire, Charnet e Bonvino** - Considere os seguintes dados:\n",
    "\n",
    "$$n=100; \\qquad \\sum x = 1.120.000 \\qquad (S_{xx})^{1/2}=4.800 $$\n",
    "$$\\overline{y}=10.200 \\qquad (S_{yy})^{1/2}=4.500 \\qquad Cov(x,y)=3.600$$\n",
    "\n",
    "Encontre:\n",
    "+ a) a reta de melhor ajuste para estes dados;\n",
    "+ b) O coeficiente de correlação;\n",
    "+ c) O coeficiente de determinação;\n",
    "+ d) $S_e$ e $S_b$;\n",
    "+ e) o intervalo de 95% de confiança para $\\beta_1$"
   ]
  },
  {
   "cell_type": "markdown",
   "metadata": {},
   "source": [
    "$\\color{red}{\\text{a)}}$ **Para encontrar os coeficientes do modelo de regressão, temos:** $\\hat{y}=\\hat{\\beta_0}+\\hat{\\beta_1}X$, onde $\\hat{\\beta_1}=\\frac{\\hat{\\rho}_{(x,y)}}{\\sqrt{\\frac{S_{xx}}{S_{yy}}}}$, pois $\\hat{\\rho}_{(x,y)}=\\hat{\\beta_1}\\sqrt{\\frac{S_{xx}}{S_{yy}}}$. Tendo em vista que a correlação populacional é dada por $\\hat{\\rho}_{(x,y)}=\\frac{cov(x,y)}{\\sigma_x\\sigma_y}$ e $\\sigma_x=\\sqrt{\\sigma_x^2}$ com $\\sigma^2_x=\\frac{\\sum (x_i-\\overline{x})^2}{n-1}$, dado que $S_{xx}=\\sum(x_i-\\overline{x})^2$.\n",
    "\n",
    "Temos:\n",
    "\n",
    "$(S_{xx})^{1/2}=4.800$ nos levando a isolar o valor de $S_{xx}=\\sum(x_i-\\overline{x})^2=4.800^2$. Logo $\\sigma^2_x=\\frac{\\sum(x_i-\\overline{x})^2}{n-1}=\\frac{4800^2}{100-2}=\\frac{4.800^2}{99}$. Desta forma, o valor do desvio padrão $\\sigma_x$ é dado por $\\sigma_x=\\sqrt{\\sigma^2_x}=\\sqrt{\\frac{4.800^2}{99}}=482,4182$.\n",
    "\n",
    "Para $\\sigma_y$, temos:\n",
    "\n",
    "$\\sigma_y=\\sqrt{\\sigma^2_y}=\\sqrt{\\frac{\\sum(y_i-\\overline{y})^2}{n-1}}=\\sqrt{\\frac{4.500^2}{100-1}}=452,2670$.\n",
    "\n",
    "Logo o valor da correlação populacional é dada por:\n",
    "\n",
    "$\\hat{\\rho}=\\frac{cov(x,y)}{\\sigma_x\\sigma_y}=\\frac{3.600}{482,4182 \\times 452,2670}=\\frac{33}{2000}=0,0165$.\n",
    "\n",
    "Portanto a estimativa para $\\beta_1$ é dada por:\n",
    "\n",
    "$\\hat{\\beta_1}=\\frac{\\hat{\\rho}_{(x,y)}}{\\sqrt{\\frac{S_{xx}}{S_{yy}}}}=\\frac{0,0165}{\\sqrt{\\frac{4.800}{4.500}}}=0,0160$.\n",
    "\n",
    "Para determinar $\\hat{\\beta_0}$, temos: $\\overline{y}=\\hat{\\beta_0}+\\hat{\\beta_1}X$, tendo $\\hat{\\beta_0}=\\overline{y}-\\hat{\\beta_1}\\overline{X}$, com $\\hat{\\beta_1}=0,0160$, logo temos:\n",
    "\n",
    "$\\hat{\\beta_0}=\\overline{y}-\\hat{\\beta_1}\\overline{X}=10.200-0,0160\\times \\frac{1.120.000}{100}$, obtendo um resuldado igual a $\\hat{\\beta_0}=10.020,8$. Portanto o modelo estimado com os parâmetros encontrados é dado por:\n",
    "\n",
    "$\\hat{y}=\\beta_0+\\beta_1X=10.020,8+0,0160X$.\n",
    "\n",
    "$\\color{red}{\\text{b)}}$  **Para o cálculo do coeficiente de correlação, temos:**\n",
    "\n",
    "$\\hat{\\rho}_{(x,y)}=\\frac{cov(x,y)}{\\sigma_x \\times \\sigma_y}=\\frac{33}{2000}$\n",
    "\n",
    "\n",
    "$\\color{red}{\\text{c)}}$ **O cálculo do coeficiente de determinação é dado por:**\n",
    "\n",
    "$R^2=\\frac{SQ_{regressao}}{SQ_{total}}$\n",
    "\n",
    "No entanto $SQ_{regressao}=\\hat{\\beta_1}^2\\times \\sum(x_i-\\overline{x})^2$. Logo, temos:\n",
    "\n",
    "$SQ_{regressao}=0,0160^2 \\times 4.800^2=5.898,24$. Para determinar o $SQ_{total}$,temos:\n",
    "\n",
    "$SQ_{total}=\\sum(y_i-\\overline{y})^2=S_{yy}=4.500^2$, portanto o $R^2$ é dado por:\n",
    "\n",
    "$R^2=\\frac{SQ_{regressao}}{SQ_{total}}=\\frac{5.898,24}{4.500^2}=0,0003$.\n",
    "\n",
    "$\\color{red}{\\text{d)}}$ **O cálculo do desvio padrão residual é dado por:**\n",
    "\n",
    "$S^2_e=\\frac{SQ_{residuo}}{(n-2)}$, onde $SQ_{residuo}=SQ_{total}-SQ_{regressao}=4.500^2-5.898,24=20.244.101,76$, portanto $S_e=\\sqrt{S^2_e}=\\sqrt{\\frac{20244101,76}{(100-2)}}=\\sqrt{206572,46}=454,5024$.\n",
    "\n",
    "$\\color{red}{\\text{e)}}$ **O intervalo de confiança para $\\beta_1$ ao nível de 95% de confiança é dado por:**\n",
    "\n",
    "$IC(\\hat{\\beta}_1;1-\\alpha)=\\hat{\\beta_1}\\pm t_{\\alpha/2;(n-2)}S_e\\times \\frac{1}{\\sum(x_i-\\overline{x})^2}$\n",
    "\n",
    "Portanto, temos:\n",
    "\n",
    "$IC(\\hat{\\beta}_1;0,95)=(0,016 \\pm 1,98 \\times 454,50 \\times \\sqrt{\\frac{1}{4.800^2}})=(-0,1705 ; 0,2025)$.\n",
    "\n",
    "O cálculo acima é feito no R passo a passo da seguinte forma:"
   ]
  },
  {
   "cell_type": "code",
   "execution_count": 9,
   "metadata": {},
   "outputs": [
    {
     "name": "stdout",
     "output_type": "stream",
     "text": [
      "a) O valor do modelo de regressão é dado por y = 10021.07 + 0.01597606 X\n",
      "b) O valor do coeficiente de correlação populacional é dado por 0.0165\n",
      "c) O valor do coeficiente de determinação é 0.0002904\n",
      "d) O desvio padrão residual é dada por 454.5026\n",
      "e) O IC para B1 ao nível de 95% de confiança é ( -0.1719293 0.2038814 ) \n",
      "\n",
      "\n"
     ]
    }
   ],
   "source": [
    "#Entrando com os dados\n",
    "n=100; SomaX=1120000; raizSXX=4800; mediaY=10200; raizSYY=4500; cov=3600\n",
    "\n",
    "\n",
    "#Criando uma função no R\n",
    "q4=function(n,SomaX,raizSXX,mediaY,raizSYY,cov){\n",
    "\n",
    "#Primeiro, determinar os desvios padrões de X e Y\n",
    "dpX=sqrt(raizSXX^2/(n-1))\n",
    "dpY=sqrt(raizSYY^2/(n-1))\n",
    "\n",
    "#Calculo da correlação populacional entre X e Y\n",
    "correlacao=cov/(dpX*dpY)\n",
    "\n",
    "#Calculando B1\n",
    "beta1=correlacao/sqrt(raizSXX/raizSYY)\n",
    "\n",
    "#Calculando B0\n",
    "beta0=mediaY-beta1*(SomaX/n)\n",
    "    \n",
    "#Calculando o SQregressao\n",
    "SQregressao=beta1^2*raizSXX^2\n",
    "    \n",
    "#Calculando o SQtotal\n",
    "SQtotal=raizSYY^2\n",
    "\n",
    "#Variância residual\n",
    "SQresiduo=SQtotal-SQregressao\n",
    "dpresidual=sqrt(SQresiduo/(n-2))\n",
    "    \n",
    "#intervalo de confiança para B1\n",
    "tab=qt(c(0.025,0.975),df=n-2)\n",
    "    cat(\"a) O valor do modelo de regressão é dado por\", \"y\",\"=\",beta0,\"+\",beta1,\"X\")\n",
    "    cat(\"\\nb) O valor do coeficiente de correlação populacional é dado por\",correlacao)\n",
    "    cat(\"\\nc) O valor do coeficiente de determinação é\",SQregressao/SQtotal)\n",
    "    cat(\"\\nd) O desvio padrão residual é dada por\",dpresidual)\n",
    "    cat(\"\\ne) O IC para B1 ao nível de 95% de confiança é\",\"(\",beta1+tab*dpresidual*sqrt(1/raizSXX^2),\")\",\"\\n\\n\\n\")\n",
    "}\n",
    "\n",
    "#Para fazer o código rodar, utilize:\n",
    "q4(n,SomaX,raizSXX,mediaY,raizSYY,cov)"
   ]
  },
  {
   "cell_type": "markdown",
   "metadata": {},
   "source": [
    "$\\color{red}{\\text{Exercício 6}}$ - **Retirado do livro: Análise de Modelos de Regressão Linear com Aplicações, de Charnet, Freire, Charnet e Bonvino** - Em um estudo sobre o efeito do carbono (em %) contido em fios de aço utilizados em resistências elétricas, nessas resistências (em $\\mu$ ohms cm a 20 graus centígrados), foram observados os resultados apresentados na tabela a seguir:\n",
    "\n",
    "+ a) Calcule a correlação entre o carbono contido e a resistência;\n",
    "+ b) Estime o MRLS que relaciona a resistência com o carbono contido nos fios;\n",
    "+ c) Calcule o valor estimado para a resistência, relativo a cada quantidade de carbono contido nos fios;\n",
    "+ d) Calcule a correlação entre os valores observados e os estimados pelo modelo.\n",
    "\n",
    "| Carbono contido | Resistência ($\\mu$ ohms cm a 20C) | Carbono contido | Resistência ($\\mu$ ohm cm a 20C) |\n",
    "|:---------------:|:---------------------------------:|:---------------:|:--------------------------------:|\n",
    "|       0,05      |                12,3               |       0,55      |               21,2               |\n",
    "|       0,10      |                 15                |       0,60      |               21,9               |\n",
    "|       0,15      |                15,7               |       0,70      |               22,6               |\n",
    "|       0,20      |                16,2               |       0,80      |               23,8               |\n",
    "|       0,25      |                17,1               |       0,85      |               24,2               |\n",
    "|       0,30      |                 18                |       0,90      |               25,3               |\n",
    "|       0,40      |                19,2               |       0,95      |                26                |\n",
    "|       0,50      |                20,4               |                 |                                  |"
   ]
  },
  {
   "cell_type": "markdown",
   "metadata": {},
   "source": [
    "$\\color{red}{\\text{a)}}$ **Entrando com os dados e calculando a correlação**"
   ]
  },
  {
   "cell_type": "code",
   "execution_count": 10,
   "metadata": {},
   "outputs": [
    {
     "name": "stdout",
     "output_type": "stream",
     "text": [
      "A correlação entre carbono e resistência é de 0.9895449"
     ]
    }
   ],
   "source": [
    "#Entrando com os dados\n",
    "carbono=c(0.05,0.10,0.15,0.20,0.25,0.30,0.40,0.5,0.55,0.6,0.7, 0.8,0.85,0.90,0.95)\n",
    "resist=c(12.3,15,15.7,16.2,17.1,18,19.2,20.4,21.2,21.9,22.6,23.8,24.2,25.3,26)\n",
    "\n",
    "questao6a=function(carbono,resist){\n",
    "    cat(\"A correlação entre carbono e resistência é de\",cor(carbono,resist))\n",
    "}\n",
    "\n",
    "#Executando a pequena função criada\n",
    "questao6a(carbono,resist)"
   ]
  },
  {
   "cell_type": "markdown",
   "metadata": {},
   "source": [
    "$\\color{red}{\\text{b)}}$ **Estime o MRLS que relaciona a resistência com o carbono contido nos fios;**"
   ]
  },
  {
   "cell_type": "code",
   "execution_count": 11,
   "metadata": {},
   "outputs": [
    {
     "data": {
      "text/plain": [
       "\n",
       "Call:\n",
       "lm(formula = resist ~ carbono, data = dados)\n",
       "\n",
       "Residuals:\n",
       "    Min      1Q  Median      3Q     Max \n",
       "-1.8036 -0.1550  0.2296  0.3791  0.5626 \n",
       "\n",
       "Coefficients:\n",
       "            Estimate Std. Error t value Pr(>|t|)    \n",
       "(Intercept)  13.4368     0.3070   43.77 1.68e-15 ***\n",
       "carbono      13.3353     0.5391   24.74 2.56e-12 ***\n",
       "---\n",
       "Signif. codes:  0 '***' 0.001 '**' 0.01 '*' 0.05 '.' 0.1 ' ' 1\n",
       "\n",
       "Residual standard error: 0.6175 on 13 degrees of freedom\n",
       "Multiple R-squared:  0.9792,\tAdjusted R-squared:  0.9776 \n",
       "F-statistic:   612 on 1 and 13 DF,  p-value: 2.559e-12\n"
      ]
     },
     "metadata": {},
     "output_type": "display_data"
    }
   ],
   "source": [
    "dados=data.frame(carbono,resist)\n",
    "ajuste=lm(resist~carbono,data=dados)\n",
    "summary(ajuste)"
   ]
  },
  {
   "cell_type": "markdown",
   "metadata": {},
   "source": [
    "O modelo estimado é $\\hat{y}=13.4368+13.3353X$, explicando 97,92% a variabilidade que é inerente ao processo."
   ]
  },
  {
   "cell_type": "markdown",
   "metadata": {},
   "source": [
    "$\\color{red}{\\text{c)}}$ **O valor estimado para a resistência, relativo a cada quantidade de carbono contido nos fios é dado abaixo:**"
   ]
  },
  {
   "cell_type": "code",
   "execution_count": 12,
   "metadata": {},
   "outputs": [
    {
     "data": {
      "text/html": [
       "<table>\n",
       "<thead><tr><th scope=col>resist</th><th scope=col>estimado</th><th scope=col>residuos</th></tr></thead>\n",
       "<tbody>\n",
       "\t<tr><td>12.3       </td><td>14.10359   </td><td>-1.80359411</td></tr>\n",
       "\t<tr><td>15.0       </td><td>14.77036   </td><td> 0.22964186</td></tr>\n",
       "\t<tr><td>15.7       </td><td>15.43712   </td><td> 0.26287783</td></tr>\n",
       "\t<tr><td>16.2       </td><td>16.10389   </td><td> 0.09611379</td></tr>\n",
       "\t<tr><td>17.1       </td><td>16.77065   </td><td> 0.32934976</td></tr>\n",
       "\t<tr><td>18.0       </td><td>17.43741   </td><td> 0.56258573</td></tr>\n",
       "\t<tr><td>19.2       </td><td>18.77094   </td><td> 0.42905766</td></tr>\n",
       "\t<tr><td>20.4       </td><td>20.10447   </td><td> 0.29552959</td></tr>\n",
       "\t<tr><td>21.2       </td><td>20.77123   </td><td> 0.42876556</td></tr>\n",
       "\t<tr><td>21.9       </td><td>21.43800   </td><td> 0.46200152</td></tr>\n",
       "\t<tr><td>22.6       </td><td>22.77153   </td><td>-0.17152654</td></tr>\n",
       "\t<tr><td>23.8       </td><td>24.10505   </td><td>-0.30505461</td></tr>\n",
       "\t<tr><td>24.2       </td><td>24.77182   </td><td>-0.57181864</td></tr>\n",
       "\t<tr><td>25.3       </td><td>25.43858   </td><td>-0.13858268</td></tr>\n",
       "\t<tr><td>26.0       </td><td>26.10535   </td><td>-0.10534671</td></tr>\n",
       "</tbody>\n",
       "</table>\n"
      ],
      "text/latex": [
       "\\begin{tabular}{r|lll}\n",
       " resist & estimado & residuos\\\\\n",
       "\\hline\n",
       "\t 12.3        & 14.10359    & -1.80359411\\\\\n",
       "\t 15.0        & 14.77036    &  0.22964186\\\\\n",
       "\t 15.7        & 15.43712    &  0.26287783\\\\\n",
       "\t 16.2        & 16.10389    &  0.09611379\\\\\n",
       "\t 17.1        & 16.77065    &  0.32934976\\\\\n",
       "\t 18.0        & 17.43741    &  0.56258573\\\\\n",
       "\t 19.2        & 18.77094    &  0.42905766\\\\\n",
       "\t 20.4        & 20.10447    &  0.29552959\\\\\n",
       "\t 21.2        & 20.77123    &  0.42876556\\\\\n",
       "\t 21.9        & 21.43800    &  0.46200152\\\\\n",
       "\t 22.6        & 22.77153    & -0.17152654\\\\\n",
       "\t 23.8        & 24.10505    & -0.30505461\\\\\n",
       "\t 24.2        & 24.77182    & -0.57181864\\\\\n",
       "\t 25.3        & 25.43858    & -0.13858268\\\\\n",
       "\t 26.0        & 26.10535    & -0.10534671\\\\\n",
       "\\end{tabular}\n"
      ],
      "text/markdown": [
       "\n",
       "| resist | estimado | residuos |\n",
       "|---|---|---|\n",
       "| 12.3        | 14.10359    | -1.80359411 |\n",
       "| 15.0        | 14.77036    |  0.22964186 |\n",
       "| 15.7        | 15.43712    |  0.26287783 |\n",
       "| 16.2        | 16.10389    |  0.09611379 |\n",
       "| 17.1        | 16.77065    |  0.32934976 |\n",
       "| 18.0        | 17.43741    |  0.56258573 |\n",
       "| 19.2        | 18.77094    |  0.42905766 |\n",
       "| 20.4        | 20.10447    |  0.29552959 |\n",
       "| 21.2        | 20.77123    |  0.42876556 |\n",
       "| 21.9        | 21.43800    |  0.46200152 |\n",
       "| 22.6        | 22.77153    | -0.17152654 |\n",
       "| 23.8        | 24.10505    | -0.30505461 |\n",
       "| 24.2        | 24.77182    | -0.57181864 |\n",
       "| 25.3        | 25.43858    | -0.13858268 |\n",
       "| 26.0        | 26.10535    | -0.10534671 |\n",
       "\n"
      ],
      "text/plain": [
       "   resist estimado residuos   \n",
       "1  12.3   14.10359 -1.80359411\n",
       "2  15.0   14.77036  0.22964186\n",
       "3  15.7   15.43712  0.26287783\n",
       "4  16.2   16.10389  0.09611379\n",
       "5  17.1   16.77065  0.32934976\n",
       "6  18.0   17.43741  0.56258573\n",
       "7  19.2   18.77094  0.42905766\n",
       "8  20.4   20.10447  0.29552959\n",
       "9  21.2   20.77123  0.42876556\n",
       "10 21.9   21.43800  0.46200152\n",
       "11 22.6   22.77153 -0.17152654\n",
       "12 23.8   24.10505 -0.30505461\n",
       "13 24.2   24.77182 -0.57181864\n",
       "14 25.3   25.43858 -0.13858268\n",
       "15 26.0   26.10535 -0.10534671"
      ]
     },
     "metadata": {},
     "output_type": "display_data"
    }
   ],
   "source": [
    "estimado=predict(ajuste)\n",
    "residuos=residuals(ajuste)\n",
    "resultado=data.frame(resist,estimado,residuos)\n",
    "resultado"
   ]
  },
  {
   "cell_type": "markdown",
   "metadata": {},
   "source": [
    "$\\color{red}{\\text{d)}}$ **A correlação entre os valores observados e os estimados pelo modelo é apresentado a seguir:**"
   ]
  },
  {
   "cell_type": "code",
   "execution_count": 13,
   "metadata": {},
   "outputs": [
    {
     "name": "stdout",
     "output_type": "stream",
     "text": [
      "A correlação entre os valores observado e estimados é igual a: 0.9895449"
     ]
    }
   ],
   "source": [
    "cat(\"A correlação entre os valores observado e estimados é igual a:\",cor(resist,estimado))"
   ]
  }
 ],
 "metadata": {
  "kernelspec": {
   "display_name": "R",
   "language": "R",
   "name": "ir"
  },
  "language_info": {
   "codemirror_mode": "r",
   "file_extension": ".r",
   "mimetype": "text/x-r-source",
   "name": "R",
   "pygments_lexer": "r",
   "version": "3.6.1"
  }
 },
 "nbformat": 4,
 "nbformat_minor": 4
}
