{
 "cells": [
  {
   "cell_type": "markdown",
   "metadata": {},
   "source": [
    "# Day 5:30 daily statistics"
   ]
  },
  {
   "cell_type": "markdown",
   "metadata": {},
   "source": [
    "O objetivo de hoje é modelar usando regressão polinomial multipla. Os modelos múltiplos são aqueles em que duas ou mais variáveis independentes influenciam na variação da variável dependente. Estes modelos podem ser de grau 1, 2 ou de maiores graus. Mostrarei uma aplicação simples de uma regressão polinomial de grau 2, com apenas duas variáveis independentes, simuladas no R apenas para termos ideia de sua aplicação. Um modelo polinomial de grau 2, tem a seguinte forma: $\\hat{z}=\\beta_0+\\beta_1x+\\beta_2y+\\beta_3x^2+\\beta_4xy+\\beta_5y^2+\\epsilon$, tendo isso em vista, abaixo será apresentado uma descrição dos passos para realizar uma modelagem em um modelo polinomial."
   ]
  },
  {
   "cell_type": "code",
   "execution_count": 1,
   "metadata": {},
   "outputs": [
    {
     "data": {
      "text/plain": [
       "\n",
       "Call:\n",
       "lm(formula = modelo, data = base)\n",
       "\n",
       "Coefficients:\n",
       "(Intercept)            x            y       I(x^2)     I(x * y)       I(y^2)  \n",
       "    34.0073      -1.9540       1.7797       0.1138       0.0632      -0.2002  \n"
      ]
     },
     "metadata": {},
     "output_type": "display_data"
    }
   ],
   "source": [
    "x= rep(1:10,10)                      #criando valores para x             \n",
    "y=as.numeric(gl(10,10))              #criando valores para y\n",
    "set.seed(2020)                       #fixando a sememente inicial em 2020, sem essa linha a cada iteração será\n",
    "                                     #apresentado um resultado diferente\n",
    "z=rnorm(100,30,15)                   #Criando 100 valores para z com média 30 e variância 15\n",
    "\n",
    "base= data.frame(x,y,z)              #reunindo os valores x, y e z em um data frame\n",
    "\n",
    "modelo = z~x+y+I(x^2)+I(x*y)+I(y^2)  #Polinômio de grau 2, criado seguindo a equação apresentada no texto acima\n",
    "\n",
    "ajuste =lm(                          #Ajuste da regressao\n",
    "        modelo,                      #Modelo descrito z~x+y+I(x^2)+I(x*y)+I(y^2)\n",
    "        base)                        #Base de dados\n",
    "\n",
    "ajuste                               #Apresentando os resultados do ajuste exponencial de grau 2\n"
   ]
  },
  {
   "cell_type": "code",
   "execution_count": 2,
   "metadata": {},
   "outputs": [
    {
     "data": {
      "text/plain": [
       "\n",
       "Call:\n",
       "lm(formula = modelo, data = base)\n",
       "\n",
       "Residuals:\n",
       "    Min      1Q  Median      3Q     Max \n",
       "-45.012 -10.137   0.033   8.868  45.597 \n",
       "\n",
       "Coefficients:\n",
       "            Estimate Std. Error t value Pr(>|t|)   \n",
       "(Intercept)  34.0073    10.8309   3.140  0.00226 **\n",
       "x            -1.9540     2.8908  -0.676  0.50073   \n",
       "y             1.7797     2.8908   0.616  0.53962   \n",
       "I(x^2)        0.1138     0.2354   0.484  0.62974   \n",
       "I(x * y)      0.0632     0.2073   0.305  0.76112   \n",
       "I(y^2)       -0.2003     0.2354  -0.851  0.39702   \n",
       "---\n",
       "Signif. codes:  0 '***' 0.001 '**' 0.01 '*' 0.05 '.' 0.1 ' ' 1\n",
       "\n",
       "Residual standard error: 17.1 on 94 degrees of freedom\n",
       "Multiple R-squared:  0.01489,\tAdjusted R-squared:  -0.03751 \n",
       "F-statistic: 0.2842 on 5 and 94 DF,  p-value: 0.9207\n"
      ]
     },
     "metadata": {},
     "output_type": "display_data"
    }
   ],
   "source": [
    "#Apresentando um teste para os coeficientes encontrados no ajuste anterior\n",
    "summary(ajuste)"
   ]
  },
  {
   "cell_type": "markdown",
   "metadata": {},
   "source": [
    "O objetivo aqui foi apenas mostrar os passos para realizar um estudo em um modelo de regressão polinomial de grau 2, não se interessando em encontrar o melhor modelo para ser ajustado. No entanto, se fosse necessário uma análise no modelo encontrado, poderemos dizer que somente o ***intercepto*** poderá ser considerado significativo para o modelo polinomial de grau 2, em outras palavras, o modelo estimado não é considerado significativo.\n",
    "\n",
    "\n",
    "Um dos grande problemas dos modelos polinomiais é a determinação do número de coeficientes que serão incorporados na equação de forma manual. Se tivermos um problema que apresente $d=10$ variáveis explicativas, teríamos que incorporar $\\frac{(10+1)\\cdot (10+2)}{2}=66$ termos no modelo. A fórmula para o número de termos é apresentada por: $\\frac{(d+1)\\cdot (d+2)}{2}$. "
   ]
  },
  {
   "cell_type": "markdown",
   "metadata": {},
   "source": [
    "Conversando com o professor Hidelbrando surgiu uma pergunta: e se tivessemos um modelo com $15$ variáveis, então teríamos que inserir manualmente 136 termos no modelo? Neste caso a criação de uma função no R poderia diminuir o trabalho de inserção manual dos termos na equação polinomial."
   ]
  },
  {
   "cell_type": "code",
   "execution_count": 3,
   "metadata": {},
   "outputs": [],
   "source": [
    "#função para criação de um modelo polinomial de grau n\n",
    "\n",
    "hidel=function(d){\n",
    "    ntermos=(((d+1)*(d+2))/2)-1\n",
    "    termos =rep(\"vazio\",ntermos)\n",
    "    cont=1\n",
    "    for(j in 1:d)\n",
    "        for(i in j:0)\n",
    "            {\n",
    "            termos[cont]=paste(\"I(x^\", i, \"*y^\",(j-i),\")\",sep=\"\")\n",
    "            cont=cont+1\n",
    "        }\n",
    "        f=as.formula(paste(\"z~\",paste(termos,collapse=\"+\")))\n",
    "    return(f)\n",
    "}"
   ]
  },
  {
   "cell_type": "markdown",
   "metadata": {},
   "source": [
    "Para uma aplicação real, usarei a seguinte tabela extraída do livro **Estatístia Aplicada** de Fonseca, Martins e Toledo, página 139."
   ]
  },
  {
   "cell_type": "code",
   "execution_count": 4,
   "metadata": {},
   "outputs": [],
   "source": [
    "#Entrada de dados\n",
    "y=c(30542, 60983, 96114, 133041, 145584, 191194, 174191, 183707, 185187, 224574,225362,278473,349519,416047,516038,608985,729135)"
   ]
  },
  {
   "cell_type": "code",
   "execution_count": 5,
   "metadata": {},
   "outputs": [
    {
     "data": {
      "image/png": "[encoded data removed]",
      "text/plain": [
       "plot without title"
      ]
     },
     "metadata": {},
     "output_type": "display_data"
    }
   ],
   "source": [
    "#gráfico para o comportamento de y\n",
    "plot(y,type=\"l\")"
   ]
  },
  {
   "cell_type": "markdown",
   "metadata": {},
   "source": [
    "Portanto, para a base de dados *y*, tentaremos ajustar alguns modelos:\n",
    "\n",
    "+ a) Ajuste Linear\n",
    "+ b) Ajuste Polinomial\n"
   ]
  },
  {
   "cell_type": "code",
   "execution_count": 6,
   "metadata": {},
   "outputs": [
    {
     "data": {
      "image/png": "[encoded data removed]",
      "text/plain": [
       "plot without title"
      ]
     },
     "metadata": {},
     "output_type": "display_data"
    }
   ],
   "source": [
    "#ajuste linear\n",
    "\n",
    "x=c(1:17)                     #Entrada de dados de x\n",
    "plot(x,y,type=\"l\")\n",
    "abline(lm(y~x))               #Modelagem linear simples\n"
   ]
  },
  {
   "cell_type": "code",
   "execution_count": 7,
   "metadata": {},
   "outputs": [
    {
     "data": {
      "text/plain": [
       "\n",
       "Call:\n",
       "lm(formula = y ~ x)\n",
       "\n",
       "Residuals:\n",
       "    Min      1Q  Median      3Q     Max \n",
       "-113678  -60993   20957   43563  175681 \n",
       "\n",
       "Coefficients:\n",
       "            Estimate Std. Error t value Pr(>|t|)    \n",
       "(Intercept)   -54051      39823  -1.357    0.195    \n",
       "x              35736       3886   9.195 1.49e-07 ***\n",
       "---\n",
       "Signif. codes:  0 '***' 0.001 '**' 0.01 '*' 0.05 '.' 0.1 ' ' 1\n",
       "\n",
       "Residual standard error: 78500 on 15 degrees of freedom\n",
       "Multiple R-squared:  0.8493,\tAdjusted R-squared:  0.8393 \n",
       "F-statistic: 84.55 on 1 and 15 DF,  p-value: 1.489e-07\n"
      ]
     },
     "metadata": {},
     "output_type": "display_data"
    }
   ],
   "source": [
    "# Análise do modelo estimado\n",
    "\n",
    "ajuste=lm(y~x)              #Realizando o ajuste do modelo\n",
    "summary(ajuste)             #Apresentando o resultado do ajuste\n",
    "\n"
   ]
  },
  {
   "cell_type": "markdown",
   "metadata": {},
   "source": [
    "Observando o p-valor de 1,489e-07, conclui-se pela significância do modelo, sendo ainda capaz de explicar 84,93% as variações que ocorrem no processo."
   ]
  },
  {
   "cell_type": "code",
   "execution_count": 8,
   "metadata": {},
   "outputs": [],
   "source": [
    "# Aplicação do modelo polinomial.\n",
    "# foi necessário a criação de mais duas outras variáveis para ser utilizado o modelo polinomial de grau 2.\n",
    "x1=seq(from=-8,to=8,by=1)        #x1 varia de -8 até 8\n",
    "y=c(30542, 60983, 96114, 133041, 145584, 191194, 174191, 183707, 185187, 224574,225362,278473,349519,416047,516038,608985,729135)\n",
    "x2=x1^2             #x2 é o valor de x1 ao quadrado\n",
    "\n",
    "dados=data.frame(x1,y)\n"
   ]
  },
  {
   "cell_type": "code",
   "execution_count": 9,
   "metadata": {},
   "outputs": [
    {
     "data": {
      "text/plain": [
       "\n",
       "Call:\n",
       "lm(formula = modelo, data = dados)\n",
       "\n",
       "Residuals:\n",
       "   Min     1Q Median     3Q    Max \n",
       "-65690 -33064   -309  35367  73787 \n",
       "\n",
       "Coefficients:\n",
       "            Estimate Std. Error t value Pr(>|t|)    \n",
       "(Intercept) 198840.5    16566.2  12.003 9.33e-09 ***\n",
       "x1           35735.6     2247.8  15.898 2.35e-10 ***\n",
       "I(x1^2)       2863.7      515.7   5.553 7.11e-05 ***\n",
       "---\n",
       "Signif. codes:  0 '***' 0.001 '**' 0.01 '*' 0.05 '.' 0.1 ' ' 1\n",
       "\n",
       "Residual standard error: 45400 on 14 degrees of freedom\n",
       "Multiple R-squared:  0.953,\tAdjusted R-squared:  0.9462 \n",
       "F-statistic: 141.8 on 2 and 14 DF,  p-value: 5.101e-10\n"
      ]
     },
     "metadata": {},
     "output_type": "display_data"
    }
   ],
   "source": [
    "\n",
    "#Modelo polinomial usado\n",
    "modelo= y~x1+I(x1^2)                           \n",
    "ajuste=lm(modelo,dados)\n",
    "summary(ajuste)\n"
   ]
  },
  {
   "cell_type": "markdown",
   "metadata": {},
   "source": [
    "O modelo encontrado foi $\\hat{y}=198840.5+35735.6x_1+2863.7x_1^2$, com os parâmetros significativos para o modelo ao nível de 5% de significância. O coeficiente de determinação encontrado para o modelo é de 95,3%."
   ]
  },
  {
   "cell_type": "code",
   "execution_count": 10,
   "metadata": {},
   "outputs": [
    {
     "data": {
      "text/html": [
       "<table>\n",
       "<thead><tr><th></th><th scope=col>Df</th><th scope=col>Sum Sq</th><th scope=col>Mean Sq</th><th scope=col>F value</th><th scope=col>Pr(&gt;F)</th></tr></thead>\n",
       "<tbody>\n",
       "\t<tr><th scope=row>x1</th><td> 1          </td><td>521029021799</td><td>521029021799</td><td>252.74363   </td><td>2.352772e-10</td></tr>\n",
       "\t<tr><th scope=row>I(x1^2)</th><td> 1          </td><td> 63572139992</td><td> 63572139992</td><td> 30.83792   </td><td>7.114555e-05</td></tr>\n",
       "\t<tr><th scope=row>Residuals</th><td>14          </td><td> 28860891291</td><td>  2061492235</td><td>       NA   </td><td>          NA</td></tr>\n",
       "</tbody>\n",
       "</table>\n"
      ],
      "text/latex": [
       "\\begin{tabular}{r|lllll}\n",
       "  & Df & Sum Sq & Mean Sq & F value & Pr(>F)\\\\\n",
       "\\hline\n",
       "\tx1 &  1           & 521029021799 & 521029021799 & 252.74363    & 2.352772e-10\\\\\n",
       "\tI(x1\\textasciicircum{}2) &  1           &  63572139992 &  63572139992 &  30.83792    & 7.114555e-05\\\\\n",
       "\tResiduals & 14           &  28860891291 &   2061492235 &        NA    &           NA\\\\\n",
       "\\end{tabular}\n"
      ],
      "text/markdown": [
       "\n",
       "| <!--/--> | Df | Sum Sq | Mean Sq | F value | Pr(>F) |\n",
       "|---|---|---|---|---|---|\n",
       "| x1 |  1           | 521029021799 | 521029021799 | 252.74363    | 2.352772e-10 |\n",
       "| I(x1^2) |  1           |  63572139992 |  63572139992 |  30.83792    | 7.114555e-05 |\n",
       "| Residuals | 14           |  28860891291 |   2061492235 |        NA    |           NA |\n",
       "\n"
      ],
      "text/plain": [
       "          Df Sum Sq       Mean Sq      F value   Pr(>F)      \n",
       "x1         1 521029021799 521029021799 252.74363 2.352772e-10\n",
       "I(x1^2)    1  63572139992  63572139992  30.83792 7.114555e-05\n",
       "Residuals 14  28860891291   2061492235        NA           NA"
      ]
     },
     "metadata": {},
     "output_type": "display_data"
    }
   ],
   "source": [
    "#Anova para o modelo encontrado\n",
    "anova(ajuste)"
   ]
  },
  {
   "cell_type": "markdown",
   "metadata": {},
   "source": [
    "Como visto anteriormente a ANOVA, aponta para a significância dos parâmetros para compor o modelo e consequentemente na significância do modelo encontrado."
   ]
  },
  {
   "cell_type": "code",
   "execution_count": 11,
   "metadata": {},
   "outputs": [
    {
     "data": {
      "text/html": [
       "<table>\n",
       "<thead><tr><th scope=col>x1</th><th scope=col>y</th><th scope=col>preditos</th><th scope=col>residuos</th></tr></thead>\n",
       "<tbody>\n",
       "\t<tr><td>-8         </td><td> 30542     </td><td> 96232.25  </td><td>-65690.2497</td></tr>\n",
       "\t<tr><td>-7         </td><td> 60983     </td><td> 89012.43  </td><td>-28029.4306</td></tr>\n",
       "\t<tr><td>-6         </td><td> 96114     </td><td> 87520.00  </td><td>  8594.0015</td></tr>\n",
       "\t<tr><td>-5         </td><td>133041     </td><td> 91754.95  </td><td> 41286.0467</td></tr>\n",
       "\t<tr><td>-4         </td><td>145584     </td><td>101717.30  </td><td> 43866.7049</td></tr>\n",
       "\t<tr><td>-3         </td><td>191194     </td><td>117407.02  </td><td> 73786.9760</td></tr>\n",
       "\t<tr><td>-2         </td><td>174191     </td><td>138824.14  </td><td> 35366.8602</td></tr>\n",
       "\t<tr><td>-1         </td><td>183707     </td><td>165968.64  </td><td> 17738.3573</td></tr>\n",
       "\t<tr><td> 0         </td><td>185187     </td><td>198840.53  </td><td>-13653.5325</td></tr>\n",
       "\t<tr><td> 1         </td><td>224574     </td><td>237439.81  </td><td>-12865.8093</td></tr>\n",
       "\t<tr><td> 2         </td><td>225362     </td><td>281766.47  </td><td>-56404.4732</td></tr>\n",
       "\t<tr><td> 3         </td><td>278473     </td><td>331820.52  </td><td>-53347.5240</td></tr>\n",
       "\t<tr><td> 4         </td><td>349519     </td><td>387601.96  </td><td>-38082.9618</td></tr>\n",
       "\t<tr><td> 5         </td><td>416047     </td><td>449110.79  </td><td>-33063.7866</td></tr>\n",
       "\t<tr><td> 6         </td><td>516038     </td><td>516347.00  </td><td>  -308.9985</td></tr>\n",
       "\t<tr><td> 7         </td><td>608985     </td><td>589310.60  </td><td> 19674.4027</td></tr>\n",
       "\t<tr><td> 8         </td><td>729135     </td><td>668001.58  </td><td> 61133.4169</td></tr>\n",
       "</tbody>\n",
       "</table>\n"
      ],
      "text/latex": [
       "\\begin{tabular}{r|llll}\n",
       " x1 & y & preditos & residuos\\\\\n",
       "\\hline\n",
       "\t -8          &  30542      &  96232.25   & -65690.2497\\\\\n",
       "\t -7          &  60983      &  89012.43   & -28029.4306\\\\\n",
       "\t -6          &  96114      &  87520.00   &   8594.0015\\\\\n",
       "\t -5          & 133041      &  91754.95   &  41286.0467\\\\\n",
       "\t -4          & 145584      & 101717.30   &  43866.7049\\\\\n",
       "\t -3          & 191194      & 117407.02   &  73786.9760\\\\\n",
       "\t -2          & 174191      & 138824.14   &  35366.8602\\\\\n",
       "\t -1          & 183707      & 165968.64   &  17738.3573\\\\\n",
       "\t  0          & 185187      & 198840.53   & -13653.5325\\\\\n",
       "\t  1          & 224574      & 237439.81   & -12865.8093\\\\\n",
       "\t  2          & 225362      & 281766.47   & -56404.4732\\\\\n",
       "\t  3          & 278473      & 331820.52   & -53347.5240\\\\\n",
       "\t  4          & 349519      & 387601.96   & -38082.9618\\\\\n",
       "\t  5          & 416047      & 449110.79   & -33063.7866\\\\\n",
       "\t  6          & 516038      & 516347.00   &   -308.9985\\\\\n",
       "\t  7          & 608985      & 589310.60   &  19674.4027\\\\\n",
       "\t  8          & 729135      & 668001.58   &  61133.4169\\\\\n",
       "\\end{tabular}\n"
      ],
      "text/markdown": [
       "\n",
       "| x1 | y | preditos | residuos |\n",
       "|---|---|---|---|\n",
       "| -8          |  30542      |  96232.25   | -65690.2497 |\n",
       "| -7          |  60983      |  89012.43   | -28029.4306 |\n",
       "| -6          |  96114      |  87520.00   |   8594.0015 |\n",
       "| -5          | 133041      |  91754.95   |  41286.0467 |\n",
       "| -4          | 145584      | 101717.30   |  43866.7049 |\n",
       "| -3          | 191194      | 117407.02   |  73786.9760 |\n",
       "| -2          | 174191      | 138824.14   |  35366.8602 |\n",
       "| -1          | 183707      | 165968.64   |  17738.3573 |\n",
       "|  0          | 185187      | 198840.53   | -13653.5325 |\n",
       "|  1          | 224574      | 237439.81   | -12865.8093 |\n",
       "|  2          | 225362      | 281766.47   | -56404.4732 |\n",
       "|  3          | 278473      | 331820.52   | -53347.5240 |\n",
       "|  4          | 349519      | 387601.96   | -38082.9618 |\n",
       "|  5          | 416047      | 449110.79   | -33063.7866 |\n",
       "|  6          | 516038      | 516347.00   |   -308.9985 |\n",
       "|  7          | 608985      | 589310.60   |  19674.4027 |\n",
       "|  8          | 729135      | 668001.58   |  61133.4169 |\n",
       "\n"
      ],
      "text/plain": [
       "   x1 y      preditos  residuos   \n",
       "1  -8  30542  96232.25 -65690.2497\n",
       "2  -7  60983  89012.43 -28029.4306\n",
       "3  -6  96114  87520.00   8594.0015\n",
       "4  -5 133041  91754.95  41286.0467\n",
       "5  -4 145584 101717.30  43866.7049\n",
       "6  -3 191194 117407.02  73786.9760\n",
       "7  -2 174191 138824.14  35366.8602\n",
       "8  -1 183707 165968.64  17738.3573\n",
       "9   0 185187 198840.53 -13653.5325\n",
       "10  1 224574 237439.81 -12865.8093\n",
       "11  2 225362 281766.47 -56404.4732\n",
       "12  3 278473 331820.52 -53347.5240\n",
       "13  4 349519 387601.96 -38082.9618\n",
       "14  5 416047 449110.79 -33063.7866\n",
       "15  6 516038 516347.00   -308.9985\n",
       "16  7 608985 589310.60  19674.4027\n",
       "17  8 729135 668001.58  61133.4169"
      ]
     },
     "metadata": {},
     "output_type": "display_data"
    }
   ],
   "source": [
    "#Uma tabela com os valores previsto e estimados é apresentado a seguir:\n",
    "\n",
    "preditos=predict(ajuste)\n",
    "residuos=residuals(ajuste)\n",
    "resultado=data.frame(x1,y,preditos,residuos)\n",
    "resultado\n"
   ]
  },
  {
   "cell_type": "code",
   "execution_count": 12,
   "metadata": {},
   "outputs": [
    {
     "data": {
      "image/png": "[encoded data removed]",
      "text/plain": [
       "plot without title"
      ]
     },
     "metadata": {},
     "output_type": "display_data"
    }
   ],
   "source": [
    "#Gráficos\n",
    "\n",
    "plot(resid(ajuste)~predict(ajuste),pch=16)\n",
    "abline(0,0,col=\"red\")"
   ]
  },
  {
   "cell_type": "code",
   "execution_count": 13,
   "metadata": {},
   "outputs": [
    {
     "data": {
      "image/png": "[encoded data removed]",
      "text/plain": [
       "Plot with title \"\""
      ]
     },
     "metadata": {},
     "output_type": "display_data"
    }
   ],
   "source": [
    "par(mfrow=c(2,2))\n",
    "plot(ajuste)"
   ]
  }
 ],
 "metadata": {
  "kernelspec": {
   "display_name": "R",
   "language": "R",
   "name": "ir"
  },
  "language_info": {
   "codemirror_mode": "r",
   "file_extension": ".r",
   "mimetype": "text/x-r-source",
   "name": "R",
   "pygments_lexer": "r",
   "version": "3.6.1"
  }
 },
 "nbformat": 4,
 "nbformat_minor": 4
}
