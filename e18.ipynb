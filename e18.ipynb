{
 "cells": [
  {
   "cell_type": "markdown",
   "metadata": {},
   "source": [
    "# Day 18:30 daily statistics - Adequacao - P3"
   ]
  },
  {
   "cell_type": "markdown",
   "metadata": {},
   "source": [
    "$\\color{red}{\\text{Exercício 11}}$ - **Retirado do livro: Análise de Modelos de Regressão Linear com Aplicações, de Charnet, Freire, Charnet e Bonvino** Os dados abaixo são referentes ao lucro e ao gasto com publicidade, de uma loja de eletrônicos, em milhares de reais, para um período de 19 meses.\n",
    "\n",
    "| Lucros | Gastos | Lucros | Gastos |\n",
    "|:------:|:------:|:------:|:------:|\n",
    "|   260  |   12   |   436  |   46   |\n",
    "|   328  |   25   |   439  |   47   |\n",
    "|   376  |   30   |   452  |   47   |\n",
    "|   356  |   35   |   465  |   55   |\n",
    "|   404  |   41   |   461  |   59   |\n",
    "|   399  |   41   |   475  |   64   |\n",
    "|   404  |   41   |   462  |   66   |\n",
    "|   414  |   44   |   472  |   73   |\n",
    "|   428  |   45   |   456  |   74   |\n",
    "|   496  |   87   |        |        |\n",
    "\n",
    "+ a) Construa um diagrama de dispersão dos lucros em função dos gastos;\n",
    "+ b) Ajuste um MRLS dos lucros em termos dos gastos;\n",
    "+ c) Calcule o coeficiente de determinação do modelo e comente as estimativas dos parâmetros;\n",
    "+ d) O gerente de propaganda da loja afirma que investindo 100.000 reais em um determinado mês o lucro estimado seria de 700.000 reais. O que você diria dessa afirmação? Justifique sua resposta;\n",
    "+ e) Esboce as bandas de confiança para os lucros médios."
   ]
  },
  {
   "cell_type": "code",
   "execution_count": 1,
   "metadata": {},
   "outputs": [
    {
     "data": {
      "image/png": "[encoded data removed]",
      "text/plain": [
       "Plot with title \"Gastos vs Lucros\""
      ]
     },
     "metadata": {},
     "output_type": "display_data"
    }
   ],
   "source": [
    "#Entrando com os dados\n",
    "lucros=c(260, 328, 376, 356, 404, 399, 404,414, 428, 496, 436, 439, 452, 465, 461, 475, 462, 472, 456)\n",
    "gastos=c(12,25,30,35,41,41,41,44,45,87,46,47,47,55,59,64,66,73,74)\n",
    "\n",
    "#O diagrama de dispersão\n",
    "plot(gastos,lucros, main=\"Gastos vs Lucros\")"
   ]
  },
  {
   "cell_type": "markdown",
   "metadata": {},
   "source": [
    "$\\color{red}{\\text{b)}}$ **O Ajuste dos lucros em termos dos gastos** é apresentado a seguir"
   ]
  },
  {
   "cell_type": "code",
   "execution_count": 2,
   "metadata": {},
   "outputs": [
    {
     "data": {
      "text/plain": [
       "\n",
       "Call:\n",
       "lm(formula = lucros ~ gastos, data = dados11)\n",
       "\n",
       "Residuals:\n",
       "    Min      1Q  Median      3Q     Max \n",
       "-53.620 -20.007   6.996  15.868  37.744 \n",
       "\n",
       "Coefficients:\n",
       "            Estimate Std. Error t value Pr(>|t|)    \n",
       "(Intercept) 279.1164    17.1269  16.297 8.25e-12 ***\n",
       "gastos        2.8753     0.3281   8.763 1.03e-07 ***\n",
       "---\n",
       "Signif. codes:  0 '***' 0.001 '**' 0.01 '*' 0.05 '.' 0.1 ' ' 1\n",
       "\n",
       "Residual standard error: 25.52 on 17 degrees of freedom\n",
       "Multiple R-squared:  0.8187,\tAdjusted R-squared:  0.8081 \n",
       "F-statistic: 76.79 on 1 and 17 DF,  p-value: 1.034e-07\n"
      ]
     },
     "metadata": {},
     "output_type": "display_data"
    }
   ],
   "source": [
    "dados11=data.frame(lucros,gastos)\n",
    "ajuste11=lm(lucros~gastos,data=dados11)\n",
    "summary(ajuste11)"
   ]
  },
  {
   "cell_type": "markdown",
   "metadata": {},
   "source": [
    "O modelo estimado dos lucros em termos dos gastos é dado por $\\hat{y}=279,11+2,87$, indicando que a cada aumento de uma unidade nos gastos, os lucros crescem em média 2,8753."
   ]
  },
  {
   "cell_type": "markdown",
   "metadata": {},
   "source": [
    "$\\color{red}{\\text{c)}}$  **O coeficiente de determinação é apresentado a seguir**"
   ]
  },
  {
   "cell_type": "code",
   "execution_count": 3,
   "metadata": {},
   "outputs": [
    {
     "name": "stdout",
     "output_type": "stream",
     "text": [
      "O coeficiente de determinação é dado por 0.8187375"
     ]
    }
   ],
   "source": [
    "#Forma alternativa de calcular o coeficiente de determinação - R^2\n",
    "r2=cor(lucros,gastos)^2\n",
    "cat(\"O coeficiente de determinação é dado por\",r2)"
   ]
  },
  {
   "cell_type": "markdown",
   "metadata": {},
   "source": [
    "O modelo estimado apresenta coeficientes estatisticamente significativos para compor o modelo e um coeficiente de determinação de 81,87% indicando que os gastos explicam em 81,87% do valor do lucro."
   ]
  },
  {
   "cell_type": "markdown",
   "metadata": {},
   "source": [
    "$\\color{red}{\\text{d)}}$  **O gerente de propaganda da loja afirma que investindo 100.000 reais em um determinado mês o lucro estimado seria de 700.000 reais**, o que pode ser dito sobre essa afirmação?"
   ]
  },
  {
   "cell_type": "code",
   "execution_count": 4,
   "metadata": {},
   "outputs": [
    {
     "data": {
      "text/html": [
       "<table>\n",
       "<thead><tr><th scope=col>fit</th><th scope=col>lwr</th><th scope=col>upr</th></tr></thead>\n",
       "<tbody>\n",
       "\t<tr><td>566.6473</td><td>501.1142</td><td>632.1804</td></tr>\n",
       "</tbody>\n",
       "</table>\n"
      ],
      "text/latex": [
       "\\begin{tabular}{r|lll}\n",
       " fit & lwr & upr\\\\\n",
       "\\hline\n",
       "\t 566.6473 & 501.1142 & 632.1804\\\\\n",
       "\\end{tabular}\n"
      ],
      "text/markdown": [
       "\n",
       "| fit | lwr | upr |\n",
       "|---|---|---|\n",
       "| 566.6473 | 501.1142 | 632.1804 |\n",
       "\n"
      ],
      "text/plain": [
       "  fit      lwr      upr     \n",
       "1 566.6473 501.1142 632.1804"
      ]
     },
     "metadata": {},
     "output_type": "display_data"
    },
    {
     "name": "stdout",
     "output_type": "stream",
     "text": [
      "Portanto se o gasto em um determinado mês for de 100.000 o lucro esperado é de 566.64, logo o gerente não esta correto em sua afirmação."
     ]
    }
   ],
   "source": [
    "gastos2=data.frame(gastos=100)\n",
    "predict(ajuste11,gastos2,interval=\"prediction\",level=0.95)\n",
    "cat(\"Portanto se o gasto em um determinado mês for de 100.000 o lucro esperado é de 566.64, logo o gerente não esta correto em sua afirmação.\")"
   ]
  },
  {
   "cell_type": "markdown",
   "metadata": {},
   "source": [
    "$\\color{red}{\\text{e)}}$  **O intervalo de confiança para os lucros médios estimados são apresentados a seguir:**"
   ]
  },
  {
   "cell_type": "code",
   "execution_count": 5,
   "metadata": {},
   "outputs": [
    {
     "data": {
      "text/html": [
       "<table>\n",
       "<thead><tr><th scope=col>fit</th><th scope=col>lwr</th><th scope=col>upr</th></tr></thead>\n",
       "<tbody>\n",
       "\t<tr><td>313.6201</td><td>285.1507</td><td>342.0895</td></tr>\n",
       "\t<tr><td>350.9991</td><td>330.2676</td><td>371.7307</td></tr>\n",
       "\t<tr><td>365.3757</td><td>347.3063</td><td>383.4451</td></tr>\n",
       "\t<tr><td>379.7522</td><td>364.0305</td><td>395.4740</td></tr>\n",
       "\t<tr><td>397.0041</td><td>383.4539</td><td>410.5543</td></tr>\n",
       "\t<tr><td>397.0041</td><td>383.4539</td><td>410.5543</td></tr>\n",
       "\t<tr><td>397.0041</td><td>383.4539</td><td>410.5543</td></tr>\n",
       "\t<tr><td>405.6300</td><td>392.7939</td><td>418.4661</td></tr>\n",
       "\t<tr><td>408.5053</td><td>395.8404</td><td>421.1703</td></tr>\n",
       "\t<tr><td>529.2683</td><td>500.2396</td><td>558.2970</td></tr>\n",
       "\t<tr><td>411.3806</td><td>398.8508</td><td>423.9104</td></tr>\n",
       "\t<tr><td>414.2559</td><td>401.8242</td><td>426.6877</td></tr>\n",
       "\t<tr><td>414.2559</td><td>401.8242</td><td>426.6877</td></tr>\n",
       "\t<tr><td>437.2584</td><td>424.2399</td><td>450.2769</td></tr>\n",
       "\t<tr><td>448.7597</td><td>434.6192</td><td>462.9001</td></tr>\n",
       "\t<tr><td>463.1362</td><td>447.0238</td><td>479.2486</td></tr>\n",
       "\t<tr><td>468.8868</td><td>451.8521</td><td>485.9215</td></tr>\n",
       "\t<tr><td>489.0140</td><td>468.3409</td><td>509.6870</td></tr>\n",
       "\t<tr><td>491.8893</td><td>470.6570</td><td>513.1215</td></tr>\n",
       "</tbody>\n",
       "</table>\n"
      ],
      "text/latex": [
       "\\begin{tabular}{r|lll}\n",
       " fit & lwr & upr\\\\\n",
       "\\hline\n",
       "\t 313.6201 & 285.1507 & 342.0895\\\\\n",
       "\t 350.9991 & 330.2676 & 371.7307\\\\\n",
       "\t 365.3757 & 347.3063 & 383.4451\\\\\n",
       "\t 379.7522 & 364.0305 & 395.4740\\\\\n",
       "\t 397.0041 & 383.4539 & 410.5543\\\\\n",
       "\t 397.0041 & 383.4539 & 410.5543\\\\\n",
       "\t 397.0041 & 383.4539 & 410.5543\\\\\n",
       "\t 405.6300 & 392.7939 & 418.4661\\\\\n",
       "\t 408.5053 & 395.8404 & 421.1703\\\\\n",
       "\t 529.2683 & 500.2396 & 558.2970\\\\\n",
       "\t 411.3806 & 398.8508 & 423.9104\\\\\n",
       "\t 414.2559 & 401.8242 & 426.6877\\\\\n",
       "\t 414.2559 & 401.8242 & 426.6877\\\\\n",
       "\t 437.2584 & 424.2399 & 450.2769\\\\\n",
       "\t 448.7597 & 434.6192 & 462.9001\\\\\n",
       "\t 463.1362 & 447.0238 & 479.2486\\\\\n",
       "\t 468.8868 & 451.8521 & 485.9215\\\\\n",
       "\t 489.0140 & 468.3409 & 509.6870\\\\\n",
       "\t 491.8893 & 470.6570 & 513.1215\\\\\n",
       "\\end{tabular}\n"
      ],
      "text/markdown": [
       "\n",
       "| fit | lwr | upr |\n",
       "|---|---|---|\n",
       "| 313.6201 | 285.1507 | 342.0895 |\n",
       "| 350.9991 | 330.2676 | 371.7307 |\n",
       "| 365.3757 | 347.3063 | 383.4451 |\n",
       "| 379.7522 | 364.0305 | 395.4740 |\n",
       "| 397.0041 | 383.4539 | 410.5543 |\n",
       "| 397.0041 | 383.4539 | 410.5543 |\n",
       "| 397.0041 | 383.4539 | 410.5543 |\n",
       "| 405.6300 | 392.7939 | 418.4661 |\n",
       "| 408.5053 | 395.8404 | 421.1703 |\n",
       "| 529.2683 | 500.2396 | 558.2970 |\n",
       "| 411.3806 | 398.8508 | 423.9104 |\n",
       "| 414.2559 | 401.8242 | 426.6877 |\n",
       "| 414.2559 | 401.8242 | 426.6877 |\n",
       "| 437.2584 | 424.2399 | 450.2769 |\n",
       "| 448.7597 | 434.6192 | 462.9001 |\n",
       "| 463.1362 | 447.0238 | 479.2486 |\n",
       "| 468.8868 | 451.8521 | 485.9215 |\n",
       "| 489.0140 | 468.3409 | 509.6870 |\n",
       "| 491.8893 | 470.6570 | 513.1215 |\n",
       "\n"
      ],
      "text/plain": [
       "   fit      lwr      upr     \n",
       "1  313.6201 285.1507 342.0895\n",
       "2  350.9991 330.2676 371.7307\n",
       "3  365.3757 347.3063 383.4451\n",
       "4  379.7522 364.0305 395.4740\n",
       "5  397.0041 383.4539 410.5543\n",
       "6  397.0041 383.4539 410.5543\n",
       "7  397.0041 383.4539 410.5543\n",
       "8  405.6300 392.7939 418.4661\n",
       "9  408.5053 395.8404 421.1703\n",
       "10 529.2683 500.2396 558.2970\n",
       "11 411.3806 398.8508 423.9104\n",
       "12 414.2559 401.8242 426.6877\n",
       "13 414.2559 401.8242 426.6877\n",
       "14 437.2584 424.2399 450.2769\n",
       "15 448.7597 434.6192 462.9001\n",
       "16 463.1362 447.0238 479.2486\n",
       "17 468.8868 451.8521 485.9215\n",
       "18 489.0140 468.3409 509.6870\n",
       "19 491.8893 470.6570 513.1215"
      ]
     },
     "metadata": {},
     "output_type": "display_data"
    }
   ],
   "source": [
    "predict(ajuste11,interval=\"confidence\",level=0.95)"
   ]
  },
  {
   "cell_type": "markdown",
   "metadata": {},
   "source": [
    "$\\color{red}{\\text{Exercício 12}}$ - **Retirado do livro: Análise de Modelos de Regressão Linear com Aplicações, de Charnet, Freire, Charnet e Bonvino** Um experimento químico foi repetido 5 vezes, sob uma mesma temperatura fixa, e foi observada a quantidade de um certo composto químico catalisado em 100 mo de água. Os dados abaixo são relativos à quantidade, em gramas do componente químico, a várias temperaturas, em C.\n",
    "\n",
    "| Temperatura | 0 | 10 | 20 | 30 | 40 | 50 | 60 | 70 | 80 | 90 |\n",
    "|:-----------:|:-:|:--:|:--:|:--:|:--:|:--:|:--:|:--:|:--:|:--:|\n",
    "|    Qtdade   | 7 | 10 | 15 | 22 | 32 | 38 | 46 | 50 | 55 | 60 |\n",
    "|    Qtdade   | 8 | 12 | 18 | 25 | 30 | 37 | 43 | 52 | 58 | 64 |\n",
    "|    Qtdade   | 8 | 11 | 17 | 28 | 35 | 38 | 49 | 54 | 56 | 58 |\n",
    "|    Qtdade   | 6 | 10 | 18 | 21 | 33 | 40 | 45 | 52 | 58 | 59 |\n",
    "|    Qtdade   | 7 | 12 | 20 | 26 | 32 | 41 | 48 | 53 | 56 | 61 |\n",
    "\n",
    "+ a) Ajuste um modelo que explique a quantidade de composto hidrolizado, em função da temperatura;\n",
    "+ b) Encontre os coeficientes de correlação e de determinação;\n",
    "+ c) Construa um gráfico com estes dados, trace a reta ajustada e esboce as bandas de confiança e de predição, para nível de 98%;\n",
    "+ d) Faça comentários sobre os resultados obtidos"
   ]
  },
  {
   "cell_type": "markdown",
   "metadata": {},
   "source": [
    "$\\color{red}{\\text{a)}}$ **Ajuste um modelo que explique a quantidade de composto hidrolizado, em função da temperatura;**"
   ]
  },
  {
   "cell_type": "code",
   "execution_count": 6,
   "metadata": {},
   "outputs": [
    {
     "data": {
      "text/plain": [
       "\n",
       "Call:\n",
       "lm(formula = qtdade ~ temp, data = dados12)\n",
       "\n",
       "Residuals:\n",
       "   Min     1Q Median     3Q    Max \n",
       " -5.12  -1.43   0.16   1.51   4.84 \n",
       "\n",
       "Coefficients:\n",
       "            Estimate Std. Error t value Pr(>|t|)    \n",
       "(Intercept)  6.24000    0.59583   10.47 5.46e-14 ***\n",
       "temp         0.63200    0.01116   56.63  < 2e-16 ***\n",
       "---\n",
       "Signif. codes:  0 '***' 0.001 '**' 0.01 '*' 0.05 '.' 0.1 ' ' 1\n",
       "\n",
       "Residual standard error: 2.267 on 48 degrees of freedom\n",
       "Multiple R-squared:  0.9853,\tAdjusted R-squared:  0.9849 \n",
       "F-statistic:  3207 on 1 and 48 DF,  p-value: < 2.2e-16\n"
      ]
     },
     "metadata": {},
     "output_type": "display_data"
    }
   ],
   "source": [
    "#Entrando com os dados\n",
    "x=seq(0,90,by=10)\n",
    "temp=rep(x,each=5)\n",
    "qtdade=c(7,8,8,6,7,10,12,11,10,12,15,18,17,18,20,22,25,28,21,26,32,30,35,33,32,38,37,38,40,41,46,43,49,45,48,50,52,54,52,53,55,58,56,58,56,60,64,58,59,61)\n",
    "dados12=data.frame(temp,qtdade)\n",
    "\n",
    "#Ajustano o modelo de regressao linear simples\n",
    "ajuste12=lm(qtdade~temp,data=dados12)\n",
    "summary(ajuste12)"
   ]
  },
  {
   "cell_type": "markdown",
   "metadata": {},
   "source": [
    "O modelo estimado é dado por $\\hat{y}=6.24+0,632X$. Os coeficientes do modelo são estatísticamente significativos para o modelo."
   ]
  },
  {
   "cell_type": "markdown",
   "metadata": {},
   "source": [
    "$\\color{red}{\\text{b)}}$ **Encontre os coeficientes de correlação e de determinação**"
   ]
  },
  {
   "cell_type": "code",
   "execution_count": 7,
   "metadata": {},
   "outputs": [
    {
     "name": "stdout",
     "output_type": "stream",
     "text": [
      "O coeficiente de correlação é igual a  0.9925983 e o coeficiente de determinação é igual a 0.9852513"
     ]
    }
   ],
   "source": [
    "cat(\"O coeficiente de correlação é igual a \",cor(temp,qtdade),\"e o coeficiente de determinação é igual a\",cor(temp,qtdade)^2)"
   ]
  },
  {
   "cell_type": "markdown",
   "metadata": {},
   "source": [
    "$\\color{red}{\\text{c)}}$ **Construa um gráfico com estes dados, trace a reta ajustada e esboce as bandas de confiança e de predição, para um nível de 98%**"
   ]
  },
  {
   "cell_type": "code",
   "execution_count": 8,
   "metadata": {},
   "outputs": [
    {
     "data": {
      "image/png": "[encoded data removed]",
      "text/plain": [
       "Plot with title \"Ajuste do modelo estimado\""
      ]
     },
     "metadata": {},
     "output_type": "display_data"
    }
   ],
   "source": [
    "plot(qtdade~temp,pch=16,main=\"Ajuste do modelo estimado\")\n",
    "abline(ajuste12,col=\"red\")"
   ]
  },
  {
   "cell_type": "code",
   "execution_count": 9,
   "metadata": {},
   "outputs": [
    {
     "data": {
      "text/html": [
       "<table>\n",
       "<thead><tr><th scope=col>fit</th><th scope=col>lwr</th><th scope=col>upr</th></tr></thead>\n",
       "<tbody>\n",
       "\t<tr><td> 6.24    </td><td> 4.806089</td><td> 7.673911</td></tr>\n",
       "\t<tr><td> 6.24    </td><td> 4.806089</td><td> 7.673911</td></tr>\n",
       "\t<tr><td> 6.24    </td><td> 4.806089</td><td> 7.673911</td></tr>\n",
       "\t<tr><td> 6.24    </td><td> 4.806089</td><td> 7.673911</td></tr>\n",
       "\t<tr><td> 6.24    </td><td> 4.806089</td><td> 7.673911</td></tr>\n",
       "\t<tr><td>12.56    </td><td>11.343879</td><td>13.776121</td></tr>\n",
       "\t<tr><td>12.56    </td><td>11.343879</td><td>13.776121</td></tr>\n",
       "\t<tr><td>12.56    </td><td>11.343879</td><td>13.776121</td></tr>\n",
       "\t<tr><td>12.56    </td><td>11.343879</td><td>13.776121</td></tr>\n",
       "\t<tr><td>12.56    </td><td>11.343879</td><td>13.776121</td></tr>\n",
       "\t<tr><td>18.88    </td><td>17.857217</td><td>19.902783</td></tr>\n",
       "\t<tr><td>18.88    </td><td>17.857217</td><td>19.902783</td></tr>\n",
       "\t<tr><td>18.88    </td><td>17.857217</td><td>19.902783</td></tr>\n",
       "\t<tr><td>18.88    </td><td>17.857217</td><td>19.902783</td></tr>\n",
       "\t<tr><td>18.88    </td><td>17.857217</td><td>19.902783</td></tr>\n",
       "\t<tr><td>25.20    </td><td>24.329649</td><td>26.070351</td></tr>\n",
       "\t<tr><td>25.20    </td><td>24.329649</td><td>26.070351</td></tr>\n",
       "\t<tr><td>25.20    </td><td>24.329649</td><td>26.070351</td></tr>\n",
       "\t<tr><td>25.20    </td><td>24.329649</td><td>26.070351</td></tr>\n",
       "\t<tr><td>25.20    </td><td>24.329649</td><td>26.070351</td></tr>\n",
       "\t<tr><td>31.52    </td><td>30.736915</td><td>32.303085</td></tr>\n",
       "\t<tr><td>31.52    </td><td>30.736915</td><td>32.303085</td></tr>\n",
       "\t<tr><td>31.52    </td><td>30.736915</td><td>32.303085</td></tr>\n",
       "\t<tr><td>31.52    </td><td>30.736915</td><td>32.303085</td></tr>\n",
       "\t<tr><td>31.52    </td><td>30.736915</td><td>32.303085</td></tr>\n",
       "\t<tr><td>37.84    </td><td>37.056915</td><td>38.623085</td></tr>\n",
       "\t<tr><td>37.84    </td><td>37.056915</td><td>38.623085</td></tr>\n",
       "\t<tr><td>37.84    </td><td>37.056915</td><td>38.623085</td></tr>\n",
       "\t<tr><td>37.84    </td><td>37.056915</td><td>38.623085</td></tr>\n",
       "\t<tr><td>37.84    </td><td>37.056915</td><td>38.623085</td></tr>\n",
       "\t<tr><td>44.16    </td><td>43.289649</td><td>45.030351</td></tr>\n",
       "\t<tr><td>44.16    </td><td>43.289649</td><td>45.030351</td></tr>\n",
       "\t<tr><td>44.16    </td><td>43.289649</td><td>45.030351</td></tr>\n",
       "\t<tr><td>44.16    </td><td>43.289649</td><td>45.030351</td></tr>\n",
       "\t<tr><td>44.16    </td><td>43.289649</td><td>45.030351</td></tr>\n",
       "\t<tr><td>50.48    </td><td>49.457217</td><td>51.502783</td></tr>\n",
       "\t<tr><td>50.48    </td><td>49.457217</td><td>51.502783</td></tr>\n",
       "\t<tr><td>50.48    </td><td>49.457217</td><td>51.502783</td></tr>\n",
       "\t<tr><td>50.48    </td><td>49.457217</td><td>51.502783</td></tr>\n",
       "\t<tr><td>50.48    </td><td>49.457217</td><td>51.502783</td></tr>\n",
       "\t<tr><td>56.80    </td><td>55.583879</td><td>58.016121</td></tr>\n",
       "\t<tr><td>56.80    </td><td>55.583879</td><td>58.016121</td></tr>\n",
       "\t<tr><td>56.80    </td><td>55.583879</td><td>58.016121</td></tr>\n",
       "\t<tr><td>56.80    </td><td>55.583879</td><td>58.016121</td></tr>\n",
       "\t<tr><td>56.80    </td><td>55.583879</td><td>58.016121</td></tr>\n",
       "\t<tr><td>63.12    </td><td>61.686089</td><td>64.553911</td></tr>\n",
       "\t<tr><td>63.12    </td><td>61.686089</td><td>64.553911</td></tr>\n",
       "\t<tr><td>63.12    </td><td>61.686089</td><td>64.553911</td></tr>\n",
       "\t<tr><td>63.12    </td><td>61.686089</td><td>64.553911</td></tr>\n",
       "\t<tr><td>63.12    </td><td>61.686089</td><td>64.553911</td></tr>\n",
       "</tbody>\n",
       "</table>\n"
      ],
      "text/latex": [
       "\\begin{tabular}{r|lll}\n",
       " fit & lwr & upr\\\\\n",
       "\\hline\n",
       "\t  6.24     &  4.806089 &  7.673911\\\\\n",
       "\t  6.24     &  4.806089 &  7.673911\\\\\n",
       "\t  6.24     &  4.806089 &  7.673911\\\\\n",
       "\t  6.24     &  4.806089 &  7.673911\\\\\n",
       "\t  6.24     &  4.806089 &  7.673911\\\\\n",
       "\t 12.56     & 11.343879 & 13.776121\\\\\n",
       "\t 12.56     & 11.343879 & 13.776121\\\\\n",
       "\t 12.56     & 11.343879 & 13.776121\\\\\n",
       "\t 12.56     & 11.343879 & 13.776121\\\\\n",
       "\t 12.56     & 11.343879 & 13.776121\\\\\n",
       "\t 18.88     & 17.857217 & 19.902783\\\\\n",
       "\t 18.88     & 17.857217 & 19.902783\\\\\n",
       "\t 18.88     & 17.857217 & 19.902783\\\\\n",
       "\t 18.88     & 17.857217 & 19.902783\\\\\n",
       "\t 18.88     & 17.857217 & 19.902783\\\\\n",
       "\t 25.20     & 24.329649 & 26.070351\\\\\n",
       "\t 25.20     & 24.329649 & 26.070351\\\\\n",
       "\t 25.20     & 24.329649 & 26.070351\\\\\n",
       "\t 25.20     & 24.329649 & 26.070351\\\\\n",
       "\t 25.20     & 24.329649 & 26.070351\\\\\n",
       "\t 31.52     & 30.736915 & 32.303085\\\\\n",
       "\t 31.52     & 30.736915 & 32.303085\\\\\n",
       "\t 31.52     & 30.736915 & 32.303085\\\\\n",
       "\t 31.52     & 30.736915 & 32.303085\\\\\n",
       "\t 31.52     & 30.736915 & 32.303085\\\\\n",
       "\t 37.84     & 37.056915 & 38.623085\\\\\n",
       "\t 37.84     & 37.056915 & 38.623085\\\\\n",
       "\t 37.84     & 37.056915 & 38.623085\\\\\n",
       "\t 37.84     & 37.056915 & 38.623085\\\\\n",
       "\t 37.84     & 37.056915 & 38.623085\\\\\n",
       "\t 44.16     & 43.289649 & 45.030351\\\\\n",
       "\t 44.16     & 43.289649 & 45.030351\\\\\n",
       "\t 44.16     & 43.289649 & 45.030351\\\\\n",
       "\t 44.16     & 43.289649 & 45.030351\\\\\n",
       "\t 44.16     & 43.289649 & 45.030351\\\\\n",
       "\t 50.48     & 49.457217 & 51.502783\\\\\n",
       "\t 50.48     & 49.457217 & 51.502783\\\\\n",
       "\t 50.48     & 49.457217 & 51.502783\\\\\n",
       "\t 50.48     & 49.457217 & 51.502783\\\\\n",
       "\t 50.48     & 49.457217 & 51.502783\\\\\n",
       "\t 56.80     & 55.583879 & 58.016121\\\\\n",
       "\t 56.80     & 55.583879 & 58.016121\\\\\n",
       "\t 56.80     & 55.583879 & 58.016121\\\\\n",
       "\t 56.80     & 55.583879 & 58.016121\\\\\n",
       "\t 56.80     & 55.583879 & 58.016121\\\\\n",
       "\t 63.12     & 61.686089 & 64.553911\\\\\n",
       "\t 63.12     & 61.686089 & 64.553911\\\\\n",
       "\t 63.12     & 61.686089 & 64.553911\\\\\n",
       "\t 63.12     & 61.686089 & 64.553911\\\\\n",
       "\t 63.12     & 61.686089 & 64.553911\\\\\n",
       "\\end{tabular}\n"
      ],
      "text/markdown": [
       "\n",
       "| fit | lwr | upr |\n",
       "|---|---|---|\n",
       "|  6.24     |  4.806089 |  7.673911 |\n",
       "|  6.24     |  4.806089 |  7.673911 |\n",
       "|  6.24     |  4.806089 |  7.673911 |\n",
       "|  6.24     |  4.806089 |  7.673911 |\n",
       "|  6.24     |  4.806089 |  7.673911 |\n",
       "| 12.56     | 11.343879 | 13.776121 |\n",
       "| 12.56     | 11.343879 | 13.776121 |\n",
       "| 12.56     | 11.343879 | 13.776121 |\n",
       "| 12.56     | 11.343879 | 13.776121 |\n",
       "| 12.56     | 11.343879 | 13.776121 |\n",
       "| 18.88     | 17.857217 | 19.902783 |\n",
       "| 18.88     | 17.857217 | 19.902783 |\n",
       "| 18.88     | 17.857217 | 19.902783 |\n",
       "| 18.88     | 17.857217 | 19.902783 |\n",
       "| 18.88     | 17.857217 | 19.902783 |\n",
       "| 25.20     | 24.329649 | 26.070351 |\n",
       "| 25.20     | 24.329649 | 26.070351 |\n",
       "| 25.20     | 24.329649 | 26.070351 |\n",
       "| 25.20     | 24.329649 | 26.070351 |\n",
       "| 25.20     | 24.329649 | 26.070351 |\n",
       "| 31.52     | 30.736915 | 32.303085 |\n",
       "| 31.52     | 30.736915 | 32.303085 |\n",
       "| 31.52     | 30.736915 | 32.303085 |\n",
       "| 31.52     | 30.736915 | 32.303085 |\n",
       "| 31.52     | 30.736915 | 32.303085 |\n",
       "| 37.84     | 37.056915 | 38.623085 |\n",
       "| 37.84     | 37.056915 | 38.623085 |\n",
       "| 37.84     | 37.056915 | 38.623085 |\n",
       "| 37.84     | 37.056915 | 38.623085 |\n",
       "| 37.84     | 37.056915 | 38.623085 |\n",
       "| 44.16     | 43.289649 | 45.030351 |\n",
       "| 44.16     | 43.289649 | 45.030351 |\n",
       "| 44.16     | 43.289649 | 45.030351 |\n",
       "| 44.16     | 43.289649 | 45.030351 |\n",
       "| 44.16     | 43.289649 | 45.030351 |\n",
       "| 50.48     | 49.457217 | 51.502783 |\n",
       "| 50.48     | 49.457217 | 51.502783 |\n",
       "| 50.48     | 49.457217 | 51.502783 |\n",
       "| 50.48     | 49.457217 | 51.502783 |\n",
       "| 50.48     | 49.457217 | 51.502783 |\n",
       "| 56.80     | 55.583879 | 58.016121 |\n",
       "| 56.80     | 55.583879 | 58.016121 |\n",
       "| 56.80     | 55.583879 | 58.016121 |\n",
       "| 56.80     | 55.583879 | 58.016121 |\n",
       "| 56.80     | 55.583879 | 58.016121 |\n",
       "| 63.12     | 61.686089 | 64.553911 |\n",
       "| 63.12     | 61.686089 | 64.553911 |\n",
       "| 63.12     | 61.686089 | 64.553911 |\n",
       "| 63.12     | 61.686089 | 64.553911 |\n",
       "| 63.12     | 61.686089 | 64.553911 |\n",
       "\n"
      ],
      "text/plain": [
       "   fit   lwr       upr      \n",
       "1   6.24  4.806089  7.673911\n",
       "2   6.24  4.806089  7.673911\n",
       "3   6.24  4.806089  7.673911\n",
       "4   6.24  4.806089  7.673911\n",
       "5   6.24  4.806089  7.673911\n",
       "6  12.56 11.343879 13.776121\n",
       "7  12.56 11.343879 13.776121\n",
       "8  12.56 11.343879 13.776121\n",
       "9  12.56 11.343879 13.776121\n",
       "10 12.56 11.343879 13.776121\n",
       "11 18.88 17.857217 19.902783\n",
       "12 18.88 17.857217 19.902783\n",
       "13 18.88 17.857217 19.902783\n",
       "14 18.88 17.857217 19.902783\n",
       "15 18.88 17.857217 19.902783\n",
       "16 25.20 24.329649 26.070351\n",
       "17 25.20 24.329649 26.070351\n",
       "18 25.20 24.329649 26.070351\n",
       "19 25.20 24.329649 26.070351\n",
       "20 25.20 24.329649 26.070351\n",
       "21 31.52 30.736915 32.303085\n",
       "22 31.52 30.736915 32.303085\n",
       "23 31.52 30.736915 32.303085\n",
       "24 31.52 30.736915 32.303085\n",
       "25 31.52 30.736915 32.303085\n",
       "26 37.84 37.056915 38.623085\n",
       "27 37.84 37.056915 38.623085\n",
       "28 37.84 37.056915 38.623085\n",
       "29 37.84 37.056915 38.623085\n",
       "30 37.84 37.056915 38.623085\n",
       "31 44.16 43.289649 45.030351\n",
       "32 44.16 43.289649 45.030351\n",
       "33 44.16 43.289649 45.030351\n",
       "34 44.16 43.289649 45.030351\n",
       "35 44.16 43.289649 45.030351\n",
       "36 50.48 49.457217 51.502783\n",
       "37 50.48 49.457217 51.502783\n",
       "38 50.48 49.457217 51.502783\n",
       "39 50.48 49.457217 51.502783\n",
       "40 50.48 49.457217 51.502783\n",
       "41 56.80 55.583879 58.016121\n",
       "42 56.80 55.583879 58.016121\n",
       "43 56.80 55.583879 58.016121\n",
       "44 56.80 55.583879 58.016121\n",
       "45 56.80 55.583879 58.016121\n",
       "46 63.12 61.686089 64.553911\n",
       "47 63.12 61.686089 64.553911\n",
       "48 63.12 61.686089 64.553911\n",
       "49 63.12 61.686089 64.553911\n",
       "50 63.12 61.686089 64.553911"
      ]
     },
     "metadata": {},
     "output_type": "display_data"
    }
   ],
   "source": [
    "#As bandas de confiança e de predição ao nível de 98% são apresentadas a seguir\n",
    "\n",
    "#Intervalos de confiança\n",
    "predict(ajuste12,interval=\"confidence\",level=0.98)"
   ]
  },
  {
   "cell_type": "code",
   "execution_count": 10,
   "metadata": {},
   "outputs": [
    {
     "name": "stderr",
     "output_type": "stream",
     "text": [
      "Warning message in predict.lm(ajuste12, interval = \"prediction\", level = 0.98):\n",
      "\"predictions on current data refer to _future_ responses\n",
      "\""
     ]
    },
    {
     "data": {
      "text/html": [
       "<table>\n",
       "<thead><tr><th scope=col>fit</th><th scope=col>lwr</th><th scope=col>upr</th></tr></thead>\n",
       "<tbody>\n",
       "\t<tr><td> 6.24    </td><td> 0.599482</td><td>11.88052 </td></tr>\n",
       "\t<tr><td> 6.24    </td><td> 0.599482</td><td>11.88052 </td></tr>\n",
       "\t<tr><td> 6.24    </td><td> 0.599482</td><td>11.88052 </td></tr>\n",
       "\t<tr><td> 6.24    </td><td> 0.599482</td><td>11.88052 </td></tr>\n",
       "\t<tr><td> 6.24    </td><td> 0.599482</td><td>11.88052 </td></tr>\n",
       "\t<tr><td>12.56    </td><td> 6.970877</td><td>18.14912 </td></tr>\n",
       "\t<tr><td>12.56    </td><td> 6.970877</td><td>18.14912 </td></tr>\n",
       "\t<tr><td>12.56    </td><td> 6.970877</td><td>18.14912 </td></tr>\n",
       "\t<tr><td>12.56    </td><td> 6.970877</td><td>18.14912 </td></tr>\n",
       "\t<tr><td>12.56    </td><td> 6.970877</td><td>18.14912 </td></tr>\n",
       "\t<tr><td>18.88    </td><td>13.329736</td><td>24.43026 </td></tr>\n",
       "\t<tr><td>18.88    </td><td>13.329736</td><td>24.43026 </td></tr>\n",
       "\t<tr><td>18.88    </td><td>13.329736</td><td>24.43026 </td></tr>\n",
       "\t<tr><td>18.88    </td><td>13.329736</td><td>24.43026 </td></tr>\n",
       "\t<tr><td>18.88    </td><td>13.329736</td><td>24.43026 </td></tr>\n",
       "\t<tr><td>25.20    </td><td>19.675794</td><td>30.72421 </td></tr>\n",
       "\t<tr><td>25.20    </td><td>19.675794</td><td>30.72421 </td></tr>\n",
       "\t<tr><td>25.20    </td><td>19.675794</td><td>30.72421 </td></tr>\n",
       "\t<tr><td>25.20    </td><td>19.675794</td><td>30.72421 </td></tr>\n",
       "\t<tr><td>25.20    </td><td>19.675794</td><td>30.72421 </td></tr>\n",
       "\t<tr><td>31.52    </td><td>26.008869</td><td>37.03113 </td></tr>\n",
       "\t<tr><td>31.52    </td><td>26.008869</td><td>37.03113 </td></tr>\n",
       "\t<tr><td>31.52    </td><td>26.008869</td><td>37.03113 </td></tr>\n",
       "\t<tr><td>31.52    </td><td>26.008869</td><td>37.03113 </td></tr>\n",
       "\t<tr><td>31.52    </td><td>26.008869</td><td>37.03113 </td></tr>\n",
       "\t<tr><td>37.84    </td><td>32.328869</td><td>43.35113 </td></tr>\n",
       "\t<tr><td>37.84    </td><td>32.328869</td><td>43.35113 </td></tr>\n",
       "\t<tr><td>37.84    </td><td>32.328869</td><td>43.35113 </td></tr>\n",
       "\t<tr><td>37.84    </td><td>32.328869</td><td>43.35113 </td></tr>\n",
       "\t<tr><td>37.84    </td><td>32.328869</td><td>43.35113 </td></tr>\n",
       "\t<tr><td>44.16    </td><td>38.635794</td><td>49.68421 </td></tr>\n",
       "\t<tr><td>44.16    </td><td>38.635794</td><td>49.68421 </td></tr>\n",
       "\t<tr><td>44.16    </td><td>38.635794</td><td>49.68421 </td></tr>\n",
       "\t<tr><td>44.16    </td><td>38.635794</td><td>49.68421 </td></tr>\n",
       "\t<tr><td>44.16    </td><td>38.635794</td><td>49.68421 </td></tr>\n",
       "\t<tr><td>50.48    </td><td>44.929736</td><td>56.03026 </td></tr>\n",
       "\t<tr><td>50.48    </td><td>44.929736</td><td>56.03026 </td></tr>\n",
       "\t<tr><td>50.48    </td><td>44.929736</td><td>56.03026 </td></tr>\n",
       "\t<tr><td>50.48    </td><td>44.929736</td><td>56.03026 </td></tr>\n",
       "\t<tr><td>50.48    </td><td>44.929736</td><td>56.03026 </td></tr>\n",
       "\t<tr><td>56.80    </td><td>51.210877</td><td>62.38912 </td></tr>\n",
       "\t<tr><td>56.80    </td><td>51.210877</td><td>62.38912 </td></tr>\n",
       "\t<tr><td>56.80    </td><td>51.210877</td><td>62.38912 </td></tr>\n",
       "\t<tr><td>56.80    </td><td>51.210877</td><td>62.38912 </td></tr>\n",
       "\t<tr><td>56.80    </td><td>51.210877</td><td>62.38912 </td></tr>\n",
       "\t<tr><td>63.12    </td><td>57.479482</td><td>68.76052 </td></tr>\n",
       "\t<tr><td>63.12    </td><td>57.479482</td><td>68.76052 </td></tr>\n",
       "\t<tr><td>63.12    </td><td>57.479482</td><td>68.76052 </td></tr>\n",
       "\t<tr><td>63.12    </td><td>57.479482</td><td>68.76052 </td></tr>\n",
       "\t<tr><td>63.12    </td><td>57.479482</td><td>68.76052 </td></tr>\n",
       "</tbody>\n",
       "</table>\n"
      ],
      "text/latex": [
       "\\begin{tabular}{r|lll}\n",
       " fit & lwr & upr\\\\\n",
       "\\hline\n",
       "\t  6.24     &  0.599482 & 11.88052 \\\\\n",
       "\t  6.24     &  0.599482 & 11.88052 \\\\\n",
       "\t  6.24     &  0.599482 & 11.88052 \\\\\n",
       "\t  6.24     &  0.599482 & 11.88052 \\\\\n",
       "\t  6.24     &  0.599482 & 11.88052 \\\\\n",
       "\t 12.56     &  6.970877 & 18.14912 \\\\\n",
       "\t 12.56     &  6.970877 & 18.14912 \\\\\n",
       "\t 12.56     &  6.970877 & 18.14912 \\\\\n",
       "\t 12.56     &  6.970877 & 18.14912 \\\\\n",
       "\t 12.56     &  6.970877 & 18.14912 \\\\\n",
       "\t 18.88     & 13.329736 & 24.43026 \\\\\n",
       "\t 18.88     & 13.329736 & 24.43026 \\\\\n",
       "\t 18.88     & 13.329736 & 24.43026 \\\\\n",
       "\t 18.88     & 13.329736 & 24.43026 \\\\\n",
       "\t 18.88     & 13.329736 & 24.43026 \\\\\n",
       "\t 25.20     & 19.675794 & 30.72421 \\\\\n",
       "\t 25.20     & 19.675794 & 30.72421 \\\\\n",
       "\t 25.20     & 19.675794 & 30.72421 \\\\\n",
       "\t 25.20     & 19.675794 & 30.72421 \\\\\n",
       "\t 25.20     & 19.675794 & 30.72421 \\\\\n",
       "\t 31.52     & 26.008869 & 37.03113 \\\\\n",
       "\t 31.52     & 26.008869 & 37.03113 \\\\\n",
       "\t 31.52     & 26.008869 & 37.03113 \\\\\n",
       "\t 31.52     & 26.008869 & 37.03113 \\\\\n",
       "\t 31.52     & 26.008869 & 37.03113 \\\\\n",
       "\t 37.84     & 32.328869 & 43.35113 \\\\\n",
       "\t 37.84     & 32.328869 & 43.35113 \\\\\n",
       "\t 37.84     & 32.328869 & 43.35113 \\\\\n",
       "\t 37.84     & 32.328869 & 43.35113 \\\\\n",
       "\t 37.84     & 32.328869 & 43.35113 \\\\\n",
       "\t 44.16     & 38.635794 & 49.68421 \\\\\n",
       "\t 44.16     & 38.635794 & 49.68421 \\\\\n",
       "\t 44.16     & 38.635794 & 49.68421 \\\\\n",
       "\t 44.16     & 38.635794 & 49.68421 \\\\\n",
       "\t 44.16     & 38.635794 & 49.68421 \\\\\n",
       "\t 50.48     & 44.929736 & 56.03026 \\\\\n",
       "\t 50.48     & 44.929736 & 56.03026 \\\\\n",
       "\t 50.48     & 44.929736 & 56.03026 \\\\\n",
       "\t 50.48     & 44.929736 & 56.03026 \\\\\n",
       "\t 50.48     & 44.929736 & 56.03026 \\\\\n",
       "\t 56.80     & 51.210877 & 62.38912 \\\\\n",
       "\t 56.80     & 51.210877 & 62.38912 \\\\\n",
       "\t 56.80     & 51.210877 & 62.38912 \\\\\n",
       "\t 56.80     & 51.210877 & 62.38912 \\\\\n",
       "\t 56.80     & 51.210877 & 62.38912 \\\\\n",
       "\t 63.12     & 57.479482 & 68.76052 \\\\\n",
       "\t 63.12     & 57.479482 & 68.76052 \\\\\n",
       "\t 63.12     & 57.479482 & 68.76052 \\\\\n",
       "\t 63.12     & 57.479482 & 68.76052 \\\\\n",
       "\t 63.12     & 57.479482 & 68.76052 \\\\\n",
       "\\end{tabular}\n"
      ],
      "text/markdown": [
       "\n",
       "| fit | lwr | upr |\n",
       "|---|---|---|\n",
       "|  6.24     |  0.599482 | 11.88052  |\n",
       "|  6.24     |  0.599482 | 11.88052  |\n",
       "|  6.24     |  0.599482 | 11.88052  |\n",
       "|  6.24     |  0.599482 | 11.88052  |\n",
       "|  6.24     |  0.599482 | 11.88052  |\n",
       "| 12.56     |  6.970877 | 18.14912  |\n",
       "| 12.56     |  6.970877 | 18.14912  |\n",
       "| 12.56     |  6.970877 | 18.14912  |\n",
       "| 12.56     |  6.970877 | 18.14912  |\n",
       "| 12.56     |  6.970877 | 18.14912  |\n",
       "| 18.88     | 13.329736 | 24.43026  |\n",
       "| 18.88     | 13.329736 | 24.43026  |\n",
       "| 18.88     | 13.329736 | 24.43026  |\n",
       "| 18.88     | 13.329736 | 24.43026  |\n",
       "| 18.88     | 13.329736 | 24.43026  |\n",
       "| 25.20     | 19.675794 | 30.72421  |\n",
       "| 25.20     | 19.675794 | 30.72421  |\n",
       "| 25.20     | 19.675794 | 30.72421  |\n",
       "| 25.20     | 19.675794 | 30.72421  |\n",
       "| 25.20     | 19.675794 | 30.72421  |\n",
       "| 31.52     | 26.008869 | 37.03113  |\n",
       "| 31.52     | 26.008869 | 37.03113  |\n",
       "| 31.52     | 26.008869 | 37.03113  |\n",
       "| 31.52     | 26.008869 | 37.03113  |\n",
       "| 31.52     | 26.008869 | 37.03113  |\n",
       "| 37.84     | 32.328869 | 43.35113  |\n",
       "| 37.84     | 32.328869 | 43.35113  |\n",
       "| 37.84     | 32.328869 | 43.35113  |\n",
       "| 37.84     | 32.328869 | 43.35113  |\n",
       "| 37.84     | 32.328869 | 43.35113  |\n",
       "| 44.16     | 38.635794 | 49.68421  |\n",
       "| 44.16     | 38.635794 | 49.68421  |\n",
       "| 44.16     | 38.635794 | 49.68421  |\n",
       "| 44.16     | 38.635794 | 49.68421  |\n",
       "| 44.16     | 38.635794 | 49.68421  |\n",
       "| 50.48     | 44.929736 | 56.03026  |\n",
       "| 50.48     | 44.929736 | 56.03026  |\n",
       "| 50.48     | 44.929736 | 56.03026  |\n",
       "| 50.48     | 44.929736 | 56.03026  |\n",
       "| 50.48     | 44.929736 | 56.03026  |\n",
       "| 56.80     | 51.210877 | 62.38912  |\n",
       "| 56.80     | 51.210877 | 62.38912  |\n",
       "| 56.80     | 51.210877 | 62.38912  |\n",
       "| 56.80     | 51.210877 | 62.38912  |\n",
       "| 56.80     | 51.210877 | 62.38912  |\n",
       "| 63.12     | 57.479482 | 68.76052  |\n",
       "| 63.12     | 57.479482 | 68.76052  |\n",
       "| 63.12     | 57.479482 | 68.76052  |\n",
       "| 63.12     | 57.479482 | 68.76052  |\n",
       "| 63.12     | 57.479482 | 68.76052  |\n",
       "\n"
      ],
      "text/plain": [
       "   fit   lwr       upr     \n",
       "1   6.24  0.599482 11.88052\n",
       "2   6.24  0.599482 11.88052\n",
       "3   6.24  0.599482 11.88052\n",
       "4   6.24  0.599482 11.88052\n",
       "5   6.24  0.599482 11.88052\n",
       "6  12.56  6.970877 18.14912\n",
       "7  12.56  6.970877 18.14912\n",
       "8  12.56  6.970877 18.14912\n",
       "9  12.56  6.970877 18.14912\n",
       "10 12.56  6.970877 18.14912\n",
       "11 18.88 13.329736 24.43026\n",
       "12 18.88 13.329736 24.43026\n",
       "13 18.88 13.329736 24.43026\n",
       "14 18.88 13.329736 24.43026\n",
       "15 18.88 13.329736 24.43026\n",
       "16 25.20 19.675794 30.72421\n",
       "17 25.20 19.675794 30.72421\n",
       "18 25.20 19.675794 30.72421\n",
       "19 25.20 19.675794 30.72421\n",
       "20 25.20 19.675794 30.72421\n",
       "21 31.52 26.008869 37.03113\n",
       "22 31.52 26.008869 37.03113\n",
       "23 31.52 26.008869 37.03113\n",
       "24 31.52 26.008869 37.03113\n",
       "25 31.52 26.008869 37.03113\n",
       "26 37.84 32.328869 43.35113\n",
       "27 37.84 32.328869 43.35113\n",
       "28 37.84 32.328869 43.35113\n",
       "29 37.84 32.328869 43.35113\n",
       "30 37.84 32.328869 43.35113\n",
       "31 44.16 38.635794 49.68421\n",
       "32 44.16 38.635794 49.68421\n",
       "33 44.16 38.635794 49.68421\n",
       "34 44.16 38.635794 49.68421\n",
       "35 44.16 38.635794 49.68421\n",
       "36 50.48 44.929736 56.03026\n",
       "37 50.48 44.929736 56.03026\n",
       "38 50.48 44.929736 56.03026\n",
       "39 50.48 44.929736 56.03026\n",
       "40 50.48 44.929736 56.03026\n",
       "41 56.80 51.210877 62.38912\n",
       "42 56.80 51.210877 62.38912\n",
       "43 56.80 51.210877 62.38912\n",
       "44 56.80 51.210877 62.38912\n",
       "45 56.80 51.210877 62.38912\n",
       "46 63.12 57.479482 68.76052\n",
       "47 63.12 57.479482 68.76052\n",
       "48 63.12 57.479482 68.76052\n",
       "49 63.12 57.479482 68.76052\n",
       "50 63.12 57.479482 68.76052"
      ]
     },
     "metadata": {},
     "output_type": "display_data"
    }
   ],
   "source": [
    "#Intervalos de predição\n",
    "predict(ajuste12,interval=\"prediction\",level=0.98)"
   ]
  },
  {
   "cell_type": "markdown",
   "metadata": {},
   "source": [
    "$\\color{red}{\\text{d)}}$ **Comente os resultados encontrados**\n",
    "\n",
    "O modelo possui parâmetros significativos e explica bem a variabilidade que é inerente ao processo."
   ]
  },
  {
   "cell_type": "markdown",
   "metadata": {},
   "source": [
    "$\\color{red}{\\text{Exercício 13}}$ - **Retirado do livro: Análise de Modelos de Regressão Linear com Aplicações, de Charnet, Freire, Charnet e Bonvino** Foram registrados, para cada um de 16 pacientes com enfisema pulmonar, o número de anos que ele fumou e o grau dos danos nos pulmões, medido na escala de 0 a 100, obtendo-se os seguintes resultados:\n",
    "\n",
    "| Paciente | Anos | Danos | Paciente | Anos | Danos |\n",
    "|:--------:|:----:|:-----:|:--------:|:----:|:-----:|\n",
    "|     1    |  26  |   35  |     9    |  17  |   30  |\n",
    "|     2    |  32  |   60  |    10    |  27  |   55  |\n",
    "|     3    |  29  |   45  |    11    |  35  |   60  |\n",
    "|     4    |  22  |   40  |    12    |  25  |   30  |\n",
    "|     5    |  44  |   70  |    13    |  29  |   50  |\n",
    "|     6    |  23  |   50  |    14    |  33  |   35  |\n",
    "|     7    |  46  |   75  |    15    |  21  |   45  |\n",
    "|     8    |  40  |   65  |    16    |  40  |   70  |\n",
    "\n",
    "+ a) Ajuste um MRLS a estes dados;\n",
    "+ b) Encontre o coeficiente de determinação. Faça comentários;\n",
    "+ c) Obtenha um intervalo de 99% de confiança e de predição. Esboce as bandas em um gráfico."
   ]
  },
  {
   "cell_type": "markdown",
   "metadata": {},
   "source": [
    "$\\color{red}{\\text{a)}}$ **Para encontrar um MRLS** a estes dados, primeiramente iremos entrar com os dados"
   ]
  },
  {
   "cell_type": "code",
   "execution_count": 11,
   "metadata": {},
   "outputs": [
    {
     "data": {
      "text/plain": [
       "\n",
       "Call:\n",
       "lm(formula = danos ~ anos, data = dados13)\n",
       "\n",
       "Residuals:\n",
       "    Min      1Q  Median      3Q     Max \n",
       "-16.692  -9.318  -1.279   8.423  20.336 \n",
       "\n",
       "Coefficients:\n",
       "            Estimate Std. Error t value Pr(>|t|)    \n",
       "(Intercept)  -6.9044    11.2774  -0.612 0.550197    \n",
       "anos          1.5899     0.3561   4.465 0.000534 ***\n",
       "---\n",
       "Signif. codes:  0 '***' 0.001 '**' 0.01 '*' 0.05 '.' 0.1 ' ' 1\n",
       "\n",
       "Residual standard error: 11.81 on 14 degrees of freedom\n",
       "Multiple R-squared:  0.5874,\tAdjusted R-squared:  0.5579 \n",
       "F-statistic: 19.93 on 1 and 14 DF,  p-value: 0.0005343\n"
      ]
     },
     "metadata": {},
     "output_type": "display_data"
    }
   ],
   "source": [
    "#Entrando com os dados\n",
    "paciente=seq(1:16)\n",
    "anos=c(26,32,29,22,44,23,46,40,17,27,35,25,29,33,21,40)\n",
    "danos=c(35,60,45,40,70,50,75,65,17,27,35,25,29,33,21,40)\n",
    "dados13=data.frame(paciente,anos,danos)\n",
    "\n",
    "#Ajuste do modelo\n",
    "ajuste13=lm(danos~anos,data=dados13)\n",
    "summary(ajuste13)"
   ]
  },
  {
   "cell_type": "markdown",
   "metadata": {},
   "source": [
    "O modelo estimado é dado por $\\hat{y}=-6,9044+1,5899X$, com um coeficiente de determinação de 58,74%."
   ]
  },
  {
   "cell_type": "markdown",
   "metadata": {},
   "source": [
    "$\\color{red}{\\text{b)}}$ **Determine o coeficiente de determinação para estes dados:**"
   ]
  },
  {
   "cell_type": "code",
   "execution_count": 12,
   "metadata": {},
   "outputs": [
    {
     "name": "stdout",
     "output_type": "stream",
     "text": [
      "O coeficiente de determinação é dado por 0.5874107"
     ]
    }
   ],
   "source": [
    "cat(\"O coeficiente de determinação é dado por\",cor(danos,anos)^2)"
   ]
  },
  {
   "cell_type": "markdown",
   "metadata": {},
   "source": [
    "O modelo apresenta um coeficiente de determinação baixo para os dados apresentados."
   ]
  },
  {
   "cell_type": "markdown",
   "metadata": {},
   "source": [
    "$\\color{red}{\\text{c)}}$ **Obtenha intervalos de 99% de confiança e de predição** para os valores estimados."
   ]
  },
  {
   "cell_type": "code",
   "execution_count": 13,
   "metadata": {},
   "outputs": [
    {
     "data": {
      "text/html": [
       "<table>\n",
       "<thead><tr><th scope=col>fit</th><th scope=col>lwr</th><th scope=col>upr</th></tr></thead>\n",
       "<tbody>\n",
       "\t<tr><td>34.43349 </td><td>24.400780</td><td>44.46620 </td></tr>\n",
       "\t<tr><td>43.97301 </td><td>35.052080</td><td>52.89394 </td></tr>\n",
       "\t<tr><td>39.20325 </td><td>30.258730</td><td>48.14777 </td></tr>\n",
       "\t<tr><td>28.07381 </td><td>15.438239</td><td>40.70938 </td></tr>\n",
       "\t<tr><td>63.05205 </td><td>46.313137</td><td>79.79096 </td></tr>\n",
       "\t<tr><td>29.66373 </td><td>17.766861</td><td>41.56060 </td></tr>\n",
       "\t<tr><td>66.23189 </td><td>47.655188</td><td>84.80859 </td></tr>\n",
       "\t<tr><td>56.69237 </td><td>43.374771</td><td>70.00997 </td></tr>\n",
       "\t<tr><td>20.12421 </td><td> 3.272382</td><td>36.97604 </td></tr>\n",
       "\t<tr><td>36.02341 </td><td>26.456595</td><td>45.59023 </td></tr>\n",
       "\t<tr><td>48.74277 </td><td>38.773269</td><td>58.71227 </td></tr>\n",
       "\t<tr><td>32.84357 </td><td>22.258944</td><td>43.42820 </td></tr>\n",
       "\t<tr><td>39.20325 </td><td>30.258730</td><td>48.14777 </td></tr>\n",
       "\t<tr><td>45.56293 </td><td>36.401165</td><td>54.72469 </td></tr>\n",
       "\t<tr><td>26.48389 </td><td>13.066456</td><td>39.90133 </td></tr>\n",
       "\t<tr><td>56.69237 </td><td>43.374771</td><td>70.00997 </td></tr>\n",
       "</tbody>\n",
       "</table>\n"
      ],
      "text/latex": [
       "\\begin{tabular}{r|lll}\n",
       " fit & lwr & upr\\\\\n",
       "\\hline\n",
       "\t 34.43349  & 24.400780 & 44.46620 \\\\\n",
       "\t 43.97301  & 35.052080 & 52.89394 \\\\\n",
       "\t 39.20325  & 30.258730 & 48.14777 \\\\\n",
       "\t 28.07381  & 15.438239 & 40.70938 \\\\\n",
       "\t 63.05205  & 46.313137 & 79.79096 \\\\\n",
       "\t 29.66373  & 17.766861 & 41.56060 \\\\\n",
       "\t 66.23189  & 47.655188 & 84.80859 \\\\\n",
       "\t 56.69237  & 43.374771 & 70.00997 \\\\\n",
       "\t 20.12421  &  3.272382 & 36.97604 \\\\\n",
       "\t 36.02341  & 26.456595 & 45.59023 \\\\\n",
       "\t 48.74277  & 38.773269 & 58.71227 \\\\\n",
       "\t 32.84357  & 22.258944 & 43.42820 \\\\\n",
       "\t 39.20325  & 30.258730 & 48.14777 \\\\\n",
       "\t 45.56293  & 36.401165 & 54.72469 \\\\\n",
       "\t 26.48389  & 13.066456 & 39.90133 \\\\\n",
       "\t 56.69237  & 43.374771 & 70.00997 \\\\\n",
       "\\end{tabular}\n"
      ],
      "text/markdown": [
       "\n",
       "| fit | lwr | upr |\n",
       "|---|---|---|\n",
       "| 34.43349  | 24.400780 | 44.46620  |\n",
       "| 43.97301  | 35.052080 | 52.89394  |\n",
       "| 39.20325  | 30.258730 | 48.14777  |\n",
       "| 28.07381  | 15.438239 | 40.70938  |\n",
       "| 63.05205  | 46.313137 | 79.79096  |\n",
       "| 29.66373  | 17.766861 | 41.56060  |\n",
       "| 66.23189  | 47.655188 | 84.80859  |\n",
       "| 56.69237  | 43.374771 | 70.00997  |\n",
       "| 20.12421  |  3.272382 | 36.97604  |\n",
       "| 36.02341  | 26.456595 | 45.59023  |\n",
       "| 48.74277  | 38.773269 | 58.71227  |\n",
       "| 32.84357  | 22.258944 | 43.42820  |\n",
       "| 39.20325  | 30.258730 | 48.14777  |\n",
       "| 45.56293  | 36.401165 | 54.72469  |\n",
       "| 26.48389  | 13.066456 | 39.90133  |\n",
       "| 56.69237  | 43.374771 | 70.00997  |\n",
       "\n"
      ],
      "text/plain": [
       "   fit      lwr       upr     \n",
       "1  34.43349 24.400780 44.46620\n",
       "2  43.97301 35.052080 52.89394\n",
       "3  39.20325 30.258730 48.14777\n",
       "4  28.07381 15.438239 40.70938\n",
       "5  63.05205 46.313137 79.79096\n",
       "6  29.66373 17.766861 41.56060\n",
       "7  66.23189 47.655188 84.80859\n",
       "8  56.69237 43.374771 70.00997\n",
       "9  20.12421  3.272382 36.97604\n",
       "10 36.02341 26.456595 45.59023\n",
       "11 48.74277 38.773269 58.71227\n",
       "12 32.84357 22.258944 43.42820\n",
       "13 39.20325 30.258730 48.14777\n",
       "14 45.56293 36.401165 54.72469\n",
       "15 26.48389 13.066456 39.90133\n",
       "16 56.69237 43.374771 70.00997"
      ]
     },
     "metadata": {},
     "output_type": "display_data"
    }
   ],
   "source": [
    "#intervalo de confiança de 99% obtido\n",
    "predict(ajuste13,interval=\"confidence\",level=.99)"
   ]
  },
  {
   "cell_type": "code",
   "execution_count": 14,
   "metadata": {},
   "outputs": [
    {
     "name": "stderr",
     "output_type": "stream",
     "text": [
      "Warning message in predict.lm(ajuste13, interval = \"prediction\", level = 0.99):\n",
      "\"predictions on current data refer to _future_ responses\n",
      "\""
     ]
    },
    {
     "data": {
      "text/html": [
       "<table>\n",
       "<thead><tr><th scope=col>fit</th><th scope=col>lwr</th><th scope=col>upr</th></tr></thead>\n",
       "<tbody>\n",
       "\t<tr><td>34.43349   </td><td> -2.1291375</td><td> 70.99612  </td></tr>\n",
       "\t<tr><td>43.97301   </td><td>  7.6996934</td><td> 80.24633  </td></tr>\n",
       "\t<tr><td>39.20325   </td><td>  2.9241249</td><td> 75.48238  </td></tr>\n",
       "\t<tr><td>28.07381   </td><td> -9.2869728</td><td> 65.43459  </td></tr>\n",
       "\t<tr><td>63.05205   </td><td> 24.1115600</td><td>101.99254  </td></tr>\n",
       "\t<tr><td>29.66373   </td><td> -7.4537314</td><td> 66.78119  </td></tr>\n",
       "\t<tr><td>66.23189   </td><td> 26.4667743</td><td>105.99700  </td></tr>\n",
       "\t<tr><td>56.69237   </td><td> 19.0954423</td><td> 94.28930  </td></tr>\n",
       "\t<tr><td>20.12421   </td><td>-18.8649491</td><td> 59.11337  </td></tr>\n",
       "\t<tr><td>36.02341   </td><td> -0.4141313</td><td> 72.46095  </td></tr>\n",
       "\t<tr><td>48.74277   </td><td> 12.1974355</td><td> 85.28810  </td></tr>\n",
       "\t<tr><td>32.84357   </td><td> -3.8743379</td><td> 69.56148  </td></tr>\n",
       "\t<tr><td>39.20325   </td><td>  2.9241249</td><td> 75.48238  </td></tr>\n",
       "\t<tr><td>45.56293   </td><td>  9.2296333</td><td> 81.89623  </td></tr>\n",
       "\t<tr><td>26.48389   </td><td>-11.1485157</td><td> 64.11630  </td></tr>\n",
       "\t<tr><td>56.69237   </td><td> 19.0954423</td><td> 94.28930  </td></tr>\n",
       "</tbody>\n",
       "</table>\n"
      ],
      "text/latex": [
       "\\begin{tabular}{r|lll}\n",
       " fit & lwr & upr\\\\\n",
       "\\hline\n",
       "\t 34.43349    &  -2.1291375 &  70.99612  \\\\\n",
       "\t 43.97301    &   7.6996934 &  80.24633  \\\\\n",
       "\t 39.20325    &   2.9241249 &  75.48238  \\\\\n",
       "\t 28.07381    &  -9.2869728 &  65.43459  \\\\\n",
       "\t 63.05205    &  24.1115600 & 101.99254  \\\\\n",
       "\t 29.66373    &  -7.4537314 &  66.78119  \\\\\n",
       "\t 66.23189    &  26.4667743 & 105.99700  \\\\\n",
       "\t 56.69237    &  19.0954423 &  94.28930  \\\\\n",
       "\t 20.12421    & -18.8649491 &  59.11337  \\\\\n",
       "\t 36.02341    &  -0.4141313 &  72.46095  \\\\\n",
       "\t 48.74277    &  12.1974355 &  85.28810  \\\\\n",
       "\t 32.84357    &  -3.8743379 &  69.56148  \\\\\n",
       "\t 39.20325    &   2.9241249 &  75.48238  \\\\\n",
       "\t 45.56293    &   9.2296333 &  81.89623  \\\\\n",
       "\t 26.48389    & -11.1485157 &  64.11630  \\\\\n",
       "\t 56.69237    &  19.0954423 &  94.28930  \\\\\n",
       "\\end{tabular}\n"
      ],
      "text/markdown": [
       "\n",
       "| fit | lwr | upr |\n",
       "|---|---|---|\n",
       "| 34.43349    |  -2.1291375 |  70.99612   |\n",
       "| 43.97301    |   7.6996934 |  80.24633   |\n",
       "| 39.20325    |   2.9241249 |  75.48238   |\n",
       "| 28.07381    |  -9.2869728 |  65.43459   |\n",
       "| 63.05205    |  24.1115600 | 101.99254   |\n",
       "| 29.66373    |  -7.4537314 |  66.78119   |\n",
       "| 66.23189    |  26.4667743 | 105.99700   |\n",
       "| 56.69237    |  19.0954423 |  94.28930   |\n",
       "| 20.12421    | -18.8649491 |  59.11337   |\n",
       "| 36.02341    |  -0.4141313 |  72.46095   |\n",
       "| 48.74277    |  12.1974355 |  85.28810   |\n",
       "| 32.84357    |  -3.8743379 |  69.56148   |\n",
       "| 39.20325    |   2.9241249 |  75.48238   |\n",
       "| 45.56293    |   9.2296333 |  81.89623   |\n",
       "| 26.48389    | -11.1485157 |  64.11630   |\n",
       "| 56.69237    |  19.0954423 |  94.28930   |\n",
       "\n"
      ],
      "text/plain": [
       "   fit      lwr         upr      \n",
       "1  34.43349  -2.1291375  70.99612\n",
       "2  43.97301   7.6996934  80.24633\n",
       "3  39.20325   2.9241249  75.48238\n",
       "4  28.07381  -9.2869728  65.43459\n",
       "5  63.05205  24.1115600 101.99254\n",
       "6  29.66373  -7.4537314  66.78119\n",
       "7  66.23189  26.4667743 105.99700\n",
       "8  56.69237  19.0954423  94.28930\n",
       "9  20.12421 -18.8649491  59.11337\n",
       "10 36.02341  -0.4141313  72.46095\n",
       "11 48.74277  12.1974355  85.28810\n",
       "12 32.84357  -3.8743379  69.56148\n",
       "13 39.20325   2.9241249  75.48238\n",
       "14 45.56293   9.2296333  81.89623\n",
       "15 26.48389 -11.1485157  64.11630\n",
       "16 56.69237  19.0954423  94.28930"
      ]
     },
     "metadata": {},
     "output_type": "display_data"
    }
   ],
   "source": [
    "#Intervalo de confiança para os valores previstos\n",
    "predict(ajuste13,interval=\"prediction\",level=.99)"
   ]
  },
  {
   "cell_type": "markdown",
   "metadata": {},
   "source": [
    "$\\color{red}{\\text{Exercício 14}}$ - **Retirado do livro: Análise de Modelos de Regressão Linear com Aplicações, de Charnet, Freire, Charnet e Bonvino** Uma amostra de tamanho 9 forneceu os seguintes resultados:\n",
    "\n",
    "$$S_{xx}=727,3556 \\qquad S_{yy}=1.101,6489; \\qquad S_{xy}=-861,7822; \\qquad \\overline{x}=21,91 \\qquad e \\qquad \\overline{y}=51,62$$\n",
    "\n",
    "+ a) Encontre o coeficiente de determinação;\n",
    "+ b) Determien um intervalo de 95% de confiança para $x=25$;\n",
    "+ c) Encontre o intervalo de predição de 95%, quando $x=25$."
   ]
  },
  {
   "cell_type": "markdown",
   "metadata": {},
   "source": [
    "O coeficiente de determinação é dado por:\n",
    "\n",
    "$$R^2=\\frac{SQ_{regressao}}{SQ_{Total}}$$\n",
    "\n",
    "\n",
    "\n",
    "A $SQ_{regressao}$ é dado por ($SQ_{regressao}=\\hat{\\beta}_1^2\\times S_{xx}$). Logo deveremos determinar o parâmetro $\\beta_1$ do modelo de predição através da seguinte fórmula: $\\hat{\\beta}_1=\\frac{S_{xy}}{S_{xx}}$, portanto temos:\n",
    "\n",
    "$$\\hat{\\beta}_1=\\frac{S_{xy}}{S_{xx}}=\\frac{-861,7822}{727,3556}=-1,1848$$\n",
    "\n",
    "Portanto\n",
    "\n",
    "$$SQ_{regressao}=\\hat{\\beta}_1^2\\times S_{xx}=(-1,1848)^2 \\times 727,3556=1021,0529$$\n",
    "\n",
    "$$SQ_{regressao}=1021,0529$$\n",
    "\n",
    "Para $SQ_{Total}$, temos:\n",
    "\n",
    "$$SQ_{Total}=S_{yy}=1.101,6489$$\n",
    "\n",
    "Logo o valor do coeficiente de determinação é dado por:\n",
    "\n",
    "$$R^2=\\frac{SQ_{regressao}}{SQ_{Total}}$$\n",
    "\n",
    "$$R^2=\\frac{1021,0529}{1.101,6489}=0,9268$$"
   ]
  },
  {
   "cell_type": "code",
   "execution_count": 15,
   "metadata": {},
   "outputs": [
    {
     "name": "stdout",
     "output_type": "stream",
     "text": [
      "Portanto, o coeficiente de determinação é dado por 0.9268406 indicando explica bem as variabilidades que são inerentes ao processo.\n",
      "\n"
     ]
    }
   ],
   "source": [
    "#O mesmo cálculo feito pelo R\n",
    "Sxx=727.3556\n",
    "Sxy=-861.7822\n",
    "Syy=1101.6489\n",
    "\n",
    "#Beta1\n",
    "beta1=Sxy/Sxx\n",
    "\n",
    "#SQregressao\n",
    "SQregressao=beta1^2*Sxx\n",
    "\n",
    "SQtotal=Syy\n",
    "R2=SQregressao/SQtotal\n",
    "cat(\"Portanto, o coeficiente de determinação é dado por\",R2,\"indicando explica bem as variabilidades que são inerentes ao processo.\\n\\n\")"
   ]
  },
  {
   "cell_type": "markdown",
   "metadata": {},
   "source": [
    "$\\color{red}{\\text{b)}}$ **O intervalo de 95% de confiança para x=25** é dado por:\n",
    "\n",
    "$$\\hat{\\beta}_0+\\hat{\\beta}_1x \\pm t_{(\\frac{\\alpha}{2};n-2)}\\sqrt{\\hat{\\sigma}^2\\bigg(\\frac{1}{n}+\\frac{(x-\\overline{x})^2}{S_{xx}}\\bigg)}$$\n",
    "\n",
    "Portanto, deveremos determinar algumas medidas para encontrar o intervalo de confiança para $E[Y/x]$.\n",
    "\n",
    "Para determinar a variância residual $\\hat{\\sigma}^2$, temos:\n",
    "\n",
    "$$\\hat{\\sigma}^2=\\frac{\\sum(y_i-\\hat{y}_i)^2}{n-2}=\\frac{SQ_{residuo}}{n-2}$$\n",
    "\n",
    "A soma de quadrados dos resíduos é dado por:\n",
    "\n",
    "$$SQ_{Total}=SQ_{residuo}+SQ_{regressao}$$\n",
    "\n",
    "$$SQ_{residuo}=SQ_{Total}-SQ_{regressao}=1101,6489-1021,0529=80,596$$\n",
    "\n",
    "Portanto a variância do resíduo é dado por:\n",
    "\n",
    "$$\\hat{\\sigma}^2=\\frac{SQ_{residuo}}{n-2}=\\frac{80,596}{9-2}=11,5137$$\n",
    "\n",
    "Para o cálculo de $\\hat{\\beta}_0$, temos:\n",
    "\n",
    "$$y=\\beta_0+\\beta_1X$$\n",
    "\n",
    "$$\\hat{\\beta}_0=\\overline{y}-\\hat{\\beta}_1\\overline{x}$$\n",
    "\n",
    "Onde o enunciado nos apresentou os valores de $\\overline{x}=21,91$, $\\hat{\\beta_1}=−1,1848$,  $\\overline{y}=51,62$ e $𝑆_{𝑥𝑥}=727,3556$ temos:\n",
    "\n",
    "$$\\hat{\\beta}_0=51,62-(-1,1848)\\times 21,91=77,5789$$\n",
    "\n",
    "Logo, temos:\n",
    "\n",
    "$$\\hat{\\beta}_0+\\hat{\\beta}_1x \\pm t_{(\\frac{\\alpha}{2};n-2)}\\sqrt{\\hat{\\sigma}^2\\bigg(\\frac{1}{n}+\\frac{(x-\\overline{x})^2}{S_{xx}}\\bigg)}$$\n",
    "\n",
    "$$77,5789 + (-1,1848)x \\pm t_{(0,025;7)}\\sqrt{11,5137\\bigg(\\frac{1}{9}+\\frac{(x-21,91)^2}{727,3556}\\bigg)}$$\n",
    "\n",
    "Portanto, o intervalo de 95% de confiança para $x=25$ é dado por:\n",
    "\n",
    "$$77,5789 + (-1,1848)\\times 25 \\pm t_{(0,025;7)}\\sqrt{11,5137\\bigg(\\frac{1}{9}+\\frac{(25-21,91)^2}{727,3556}\\bigg)}$$\n",
    "\n",
    "$$77,5789 + (-1,1848)\\times 25 \\pm 2,3646\\sqrt{11,5137\\bigg(\\frac{1}{9}+\\frac{(25-21,91)^2}{727,3556}\\bigg)}$$\n",
    "\n",
    "$$47,9589 \\pm 2,3646 \\cdot 1,1960 $$\n",
    "\n",
    "$$[45,13081 ; 50,7869 ]$$\n"
   ]
  },
  {
   "cell_type": "code",
   "execution_count": 16,
   "metadata": {},
   "outputs": [
    {
     "name": "stdout",
     "output_type": "stream",
     "text": [
      "O intervalo de confiança ao nivel de 95% para x=25 é [ 45.13081 , 50.78699 ] \n",
      "\n",
      "\n"
     ]
    }
   ],
   "source": [
    "#O intervalo no R passo a passo é apresentado a seguir:\n",
    "beta0=77.5789; beta1=-1.1848; tcal=2.3646; sigma2=11.5137; n=9; mediaX=21.91; Sxx=727.3556; x=25;\n",
    "\n",
    "Lim_inf=beta0+beta1*x-tcal*sqrt(sigma2*(1/n+(x-mediaX)^2/Sxx))\n",
    "Lim_sup=beta0+beta1*x+tcal*sqrt(sigma2*(1/n+(x-mediaX)^2/Sxx))\n",
    "cat(\"O intervalo de confiança ao nivel de 95% para x=25 é\",\"[\",Lim_inf,\",\",Lim_sup,\"]\",\"\\n\\n\\n\")"
   ]
  },
  {
   "cell_type": "markdown",
   "metadata": {},
   "source": [
    "$\\color{red}{\\text{c)}}$ **O intervalo de predição $(1-\\alpha)100%$ de Y, para $X={x_0}$ é dado por:**\n",
    "\n",
    "$$\\hat{Y}_0\\pm t_{(\\frac{\\alpha}{2},n-2)}\\sqrt{\\hat{\\sigma}^2\\bigg(1+\\frac{1}{n}+\\frac{(x_0-\\overline{x})^2}{S_{xx}}\\bigg)}$$\n",
    "\n",
    "Onde $\\hat{Y}=77,5789+(-1,1848)X$ com o valor tabela t-student de 2,3646 e $\\overline{x}=21,91$, $S_{xx}=727,3556$ e $\\hat{\\sigma}^2=11,5137$:\n",
    "\n",
    "$$[77,5789+(-1,1848)\\cdot 25] \\pm t(0,025;7)\\sqrt{11,5137\\bigg(1+\\frac{1}{9}+\\frac{(25-21,91)^2}{727,3556}\\bigg)}$$\n",
    "\n",
    "$$47,9589 \\pm 2,3646 \\cdot \\sqrt{11,5137 \\bigg( 1+ \\frac{1}{9}+ \\frac{(25-21,91)^2}{727,3556}\\bigg)}$$\n",
    "\n",
    "$$47,9589 \\pm 2,3656 \\cdot 3,5977$$\n",
    "\n",
    "Portanto o intervalo de confiança para a predição com um nível de 95% de confiança é entre:\n",
    "\n",
    "$$[39,4517 ; 56,4660]$$\n",
    "\n",
    "\n"
   ]
  },
  {
   "cell_type": "code",
   "execution_count": 17,
   "metadata": {},
   "outputs": [
    {
     "name": "stdout",
     "output_type": "stream",
     "text": [
      "O intervalo de predição é dado por [ 39.45155 ; 56.46625 ] ao nível de 95% de confiança"
     ]
    }
   ],
   "source": [
    "#O intervalo apresentado no R\n",
    "xbarra=21.91; tcal=2.3646; sigma2=11.5137; n=9; x0=25; Sxx=727.3556; beta0=77.5789; beta1=-1.1848;\n",
    "lim_inf=(beta0+beta1*x0) - tcal*sqrt(sigma2*(1+1/n+(x0-xbarra)^2/Sxx))\n",
    "lim_sup=(beta0+beta1*x0) + tcal*sqrt(sigma2*(1+1/n+(x0-xbarra)^2/Sxx))\n",
    "cat(\"O intervalo de predição é dado por\",\"[\",lim_inf,\";\",lim_sup,\"]\",\"ao nível de 95% de confiança\")"
   ]
  },
  {
   "cell_type": "code",
   "execution_count": null,
   "metadata": {},
   "outputs": [],
   "source": []
  },
  {
   "cell_type": "code",
   "execution_count": null,
   "metadata": {},
   "outputs": [],
   "source": []
  },
  {
   "cell_type": "code",
   "execution_count": null,
   "metadata": {},
   "outputs": [],
   "source": []
  },
  {
   "cell_type": "code",
   "execution_count": null,
   "metadata": {},
   "outputs": [],
   "source": []
  },
  {
   "cell_type": "code",
   "execution_count": null,
   "metadata": {},
   "outputs": [],
   "source": []
  },
  {
   "cell_type": "code",
   "execution_count": null,
   "metadata": {},
   "outputs": [],
   "source": []
  },
  {
   "cell_type": "code",
   "execution_count": null,
   "metadata": {},
   "outputs": [],
   "source": []
  }
 ],
 "metadata": {
  "kernelspec": {
   "display_name": "R",
   "language": "R",
   "name": "ir"
  },
  "language_info": {
   "codemirror_mode": "r",
   "file_extension": ".r",
   "mimetype": "text/x-r-source",
   "name": "R",
   "pygments_lexer": "r",
   "version": "3.6.1"
  }
 },
 "nbformat": 4,
 "nbformat_minor": 4
}
