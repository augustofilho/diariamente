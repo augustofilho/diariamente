{
 "cells": [
  {
   "cell_type": "markdown",
   "metadata": {},
   "source": [
    "# Day 3:30 daily statistics"
   ]
  },
  {
   "cell_type": "markdown",
   "metadata": {},
   "source": [
    "No desafio de hoje aplicarei o **teste de falta de ajuste** e o **Erro Puro** em um modelo de **regressão linear simples**. Para isso irei considerar duas variáveis, uma relacionada a massa muscular de uma pessoa e a idade para 26 indivíduos. Os dados são apresentados na tabela abaixo: \n",
    "\n",
    "\n",
    "| Massa | 100 | 95 | 116 | 97 | 100 | 95 | 105 | 100 | 105 | 97 | 87 | 80 | 76 | 91 | 84 | 90 | 80 | 68 | 78 | 82 | 76 | 84 |  3 | 65 | 68 | 77 |\n",
    "|:-----:|:---:|:--:|:---:|:--:|:---:|:--:|:---:|:---:|:---:|:--:|:--:|:--:|:--:|:--:|:--:|:--:|:--:|:--:|:--:|:--:|:--:|:--:|:--:|:--:|:--:|:--:|\n",
    "| Idade |  43 | 43 |  45 | 45 |  45 | 16 |  49 |  53 |  53 | 53 | 56 | 56 | 58 | 64 | 65 | 65 | 65 | 67 | 68 | 71 | 71 | 71 | 73 | 76 | 76 | 78 |\n",
    "\n",
    "O nosso objetivo é determinar um modelo de previsão para a variável Massa Muscular (Y) considerando como  variável independente a Idade."
   ]
  },
  {
   "cell_type": "markdown",
   "metadata": {},
   "source": [
    "$\\color{red}{\\text{Passo 1}}$ - Neste passo iremos criar as variáveis de entrada Massa Muscular e Idade. "
   ]
  },
  {
   "cell_type": "code",
   "execution_count": 1,
   "metadata": {},
   "outputs": [],
   "source": [
    "#Criação da base de dados\n",
    "massa=c(100,95,116,97,100,95,105,100,105,97,87,80,76,91,84,90,80,68,78,82,76,84,73,65,68,77)\n",
    "idade=c(43,43,45,45,45,46,49,53,53,53,56,56,58,64,65,65,65,67,68,71,71,71,73,76,76,78)\n"
   ]
  },
  {
   "cell_type": "markdown",
   "metadata": {},
   "source": [
    "$\\color{red}{\\text{Passo 2}}$ - Nesta etapa construiremos o diagrama de dispersão entre as variáveis em estudo. O objetivo é determinar se existe relação entre as variáveis objeto de estudo."
   ]
  },
  {
   "cell_type": "code",
   "execution_count": 2,
   "metadata": {},
   "outputs": [
    {
     "data": {
      "image/png": "[encoded data removed]",
      "text/plain": [
       "plot without title"
      ]
     },
     "metadata": {},
     "output_type": "display_data"
    }
   ],
   "source": [
    "#cosntruindo o diagrama de dispersão \n",
    "plot(massa,idade)"
   ]
  },
  {
   "cell_type": "markdown",
   "metadata": {},
   "source": [
    "Os dados nos sugerem que quanto ***maior*** for a massa ***menor*** será a idade associada."
   ]
  },
  {
   "cell_type": "markdown",
   "metadata": {},
   "source": [
    "$\\color{red}{\\text{Passo 3}}$ - Com uma possível relação entre massa e idade, o próximo passo é a determinação do modelo de previsão linear, usando o comando $lm$, portanto, temos:"
   ]
  },
  {
   "cell_type": "code",
   "execution_count": 3,
   "metadata": {},
   "outputs": [
    {
     "data": {
      "text/plain": [
       "\n",
       "Call:\n",
       "lm(formula = massa ~ idade)\n",
       "\n",
       "Coefficients:\n",
       "(Intercept)        idade  \n",
       "   143.6514      -0.9427  \n"
      ]
     },
     "metadata": {},
     "output_type": "display_data"
    }
   ],
   "source": [
    "#Criação do modelo de previsão linear\n",
    "reg <- lm(massa~idade)\n",
    "reg"
   ]
  },
  {
   "cell_type": "markdown",
   "metadata": {},
   "source": [
    "O modelo estimado é apresentado pela seguinte equação: $\\hat{Y}=143,6514-0,9427\\cdot idade_i$\n",
    "\n",
    "Usando o comando $summary()$ é possível determinar se o modelo encontrado poderá ser considerado significativo."
   ]
  },
  {
   "cell_type": "code",
   "execution_count": 4,
   "metadata": {},
   "outputs": [
    {
     "data": {
      "text/plain": [
       "\n",
       "Call:\n",
       "lm(formula = massa ~ idade)\n",
       "\n",
       "Residuals:\n",
       "    Min      1Q  Median      3Q     Max \n",
       "-12.973  -4.173  -1.387   6.739  14.771 \n",
       "\n",
       "Coefficients:\n",
       "            Estimate Std. Error t value Pr(>|t|)    \n",
       "(Intercept) 143.6514     7.9441  18.083 1.74e-15 ***\n",
       "idade        -0.9427     0.1305  -7.223 1.83e-07 ***\n",
       "---\n",
       "Signif. codes:  0 '***' 0.001 '**' 0.01 '*' 0.05 '.' 0.1 ' ' 1\n",
       "\n",
       "Residual standard error: 7.525 on 24 degrees of freedom\n",
       "Multiple R-squared:  0.6849,\tAdjusted R-squared:  0.6718 \n",
       "F-statistic: 52.17 on 1 and 24 DF,  p-value: 1.832e-07\n"
      ]
     },
     "metadata": {},
     "output_type": "display_data"
    }
   ],
   "source": [
    "#Determinação do R^2 e determinação da significância dos coeficientes do modelo estimado\n",
    "summary(reg)"
   ]
  },
  {
   "cell_type": "markdown",
   "metadata": {},
   "source": [
    "O modelo estimado possui parâmetros $\\beta_0$ e $\\beta_1$ significativos ao nível de 5% de significância além de apresentar um coeficiente de determinação $R^2=0,6849$, indicando que o modelo estimado explica cerca de 68,49% a variação que é inerente ao processo."
   ]
  },
  {
   "cell_type": "markdown",
   "metadata": {},
   "source": [
    "$\\color{red}{\\text{Passo 4}}$ - Apresentação do gráfico de dispersão com a reta estimada "
   ]
  },
  {
   "cell_type": "code",
   "execution_count": 5,
   "metadata": {},
   "outputs": [
    {
     "data": {
      "image/png": "[encoded data removed]",
      "text/plain": [
       "plot without title"
      ]
     },
     "metadata": {},
     "output_type": "display_data"
    }
   ],
   "source": [
    "#Gráfico estimado\n",
    "plot(massa,idade)\n",
    "abline(lm(massa~idade))"
   ]
  },
  {
   "cell_type": "markdown",
   "metadata": {},
   "source": [
    "O gráfico acima apresenta valores diferentes de Y para valores fixos de X, desta forma é coerente a determinação do ***coeficiente de determinação real***, além das medidas de ***erro puro*** e ***falta de ajuste***. \n",
    "\n",
    "Para determinar o (erro puro) e a (falta de ajuste) dentro da tabela da ANOVA basta declarar a variável preditora como se fosse um ***factor***, como será visto no código abaixo."
   ]
  },
  {
   "cell_type": "code",
   "execution_count": 6,
   "metadata": {},
   "outputs": [
    {
     "data": {
      "text/html": [
       "<table>\n",
       "<thead><tr><th scope=col>Res.Df</th><th scope=col>RSS</th><th scope=col>Df</th><th scope=col>Sum of Sq</th><th scope=col>F</th><th scope=col>Pr(&gt;F)</th></tr></thead>\n",
       "<tbody>\n",
       "\t<tr><td>24       </td><td>1358.9419</td><td>NA       </td><td>      NA </td><td>      NA </td><td>       NA</td></tr>\n",
       "\t<tr><td>11       </td><td> 368.1667</td><td>13       </td><td>990.7752 </td><td>2.277089 </td><td>0.0898696</td></tr>\n",
       "</tbody>\n",
       "</table>\n"
      ],
      "text/latex": [
       "\\begin{tabular}{r|llllll}\n",
       " Res.Df & RSS & Df & Sum of Sq & F & Pr(>F)\\\\\n",
       "\\hline\n",
       "\t 24        & 1358.9419 & NA        &       NA  &       NA  &        NA\\\\\n",
       "\t 11        &  368.1667 & 13        & 990.7752  & 2.277089  & 0.0898696\\\\\n",
       "\\end{tabular}\n"
      ],
      "text/markdown": [
       "\n",
       "| Res.Df | RSS | Df | Sum of Sq | F | Pr(>F) |\n",
       "|---|---|---|---|---|---|\n",
       "| 24        | 1358.9419 | NA        |       NA  |       NA  |        NA |\n",
       "| 11        |  368.1667 | 13        | 990.7752  | 2.277089  | 0.0898696 |\n",
       "\n"
      ],
      "text/plain": [
       "  Res.Df RSS       Df Sum of Sq F        Pr(>F)   \n",
       "1 24     1358.9419 NA       NA        NA        NA\n",
       "2 11      368.1667 13 990.7752  2.277089 0.0898696"
      ]
     },
     "metadata": {},
     "output_type": "display_data"
    }
   ],
   "source": [
    "erro_puro <- lm(massa~factor(idade))\n",
    "anova(reg,erro_puro)"
   ]
  },
  {
   "cell_type": "markdown",
   "metadata": {},
   "source": [
    "Dos resultados encontrados na tabela acima temos: ***Soma dos quadrados dos resíduos = 1358.9419***, ***Soma dos Quadrados do Erro Puro = 368.1667*** e a ***Soma de Quadrados da Falta de Ajuste = 990.7752***, com 24, 11 e 13 graus de liberdade respectivamente. \n",
    "\n",
    "Portanto o coeficiente de determinação Real será a razão entre o coeficiente de determinação encontrado no primeiro modelo (R^2 = 0.6849) e o coeficiente de determinação máximo, que será obtido no ajuste da categorização da variável idade, para isso temos: "
   ]
  },
  {
   "cell_type": "code",
   "execution_count": 7,
   "metadata": {},
   "outputs": [
    {
     "data": {
      "text/html": [
       "0.914640199986327"
      ],
      "text/latex": [
       "0.914640199986327"
      ],
      "text/markdown": [
       "0.914640199986327"
      ],
      "text/plain": [
       "[1] 0.9146402"
      ]
     },
     "metadata": {},
     "output_type": "display_data"
    }
   ],
   "source": [
    "#determinação do coeficiente de determinação para a categorização da variável idade\n",
    "\n",
    "erro_puro_s=summary(erro_puro)\n",
    "erro_puro_s$r.squared\n"
   ]
  },
  {
   "cell_type": "markdown",
   "metadata": {},
   "source": [
    "Portanto o coeficiente de determinação real é dado por: $R^2_{real}=R^2/R^2_{max}=\\frac{0,6849}{0,9146401}=0,7488$. Portanto 74,88% da variabilidade total dos dados podem ser explicado pelo modelo de regressão, esse valor da uma ideia melhor do que foi alcançado pelo modelo dentro do que era possível."
   ]
  },
  {
   "cell_type": "markdown",
   "metadata": {},
   "source": [
    "O cálculo do $R^2_{real}$ é devido as seguintes circunstâncias observadas:\n",
    "\n",
    "+ i) Observou-se em X valores repetidos;\n",
    "+ ii) Observou-se no gráfico do modelo ajustado pontos que estavam fora da reta ajustada, tal situação é devido a falta de ajuste no modelo estimado ou existe uma variação aleatória em torno da reta conhecido como erro puro.\n",
    "\n",
    "Portanto o teste para a falta de ajuste é dado a seguir, levando-se em consideração a seguinte hipótese:\n",
    "\n",
    "\\begin{array}{ll}\n",
    "         H_0: \\mbox{O modelo linear é adequado};\\\\\n",
    "        H_1: \\mbox{O modelo linear não é adequado}\\end{array}\n",
    "        \n",
    "Logo a estatística encontrada para o teste F foi de 2.277089 com um p-valor de 0.0898696 nos indicando que a hipótese nula não poderá ser rejeitada ao nível de 5\\% de significância, ou seja, o modelo poderá ser considerado adequado."
   ]
  },
  {
   "cell_type": "markdown",
   "metadata": {},
   "source": [
    "$\\color{red}{\\text{Passo 5}}$ - Até o momento o modelo foi considerado adequado, no entanto não fizemos uma análise nos resíduos. Tais resíduos do modelo devem ser $IID(0;\\sigma^2)$, independentes e identicamente distribuídos para serem considerados válidos para realizarem inferência. "
   ]
  },
  {
   "cell_type": "code",
   "execution_count": 8,
   "metadata": {},
   "outputs": [
    {
     "data": {
      "image/png": "[encoded data removed]",
      "text/plain": [
       "plot without title"
      ]
     },
     "metadata": {},
     "output_type": "display_data"
    }
   ],
   "source": [
    "#Gráfico dos resíduso versus valores ajustados\n",
    "plot(fitted(reg),residuals(reg),xlab=\"Valores Ajustados\",ylab=\"Resíduos\")\n",
    "abline(h=0)"
   ]
  },
  {
   "cell_type": "markdown",
   "metadata": {},
   "source": [
    "O gráfico dos valores ajustados versus resíduos não apresenta suposição de homocedasticidade. O próximo gráfico irá traçar o comportamento dos resíduos versus a variável explicativa."
   ]
  },
  {
   "cell_type": "code",
   "execution_count": 9,
   "metadata": {},
   "outputs": [
    {
     "data": {
      "image/png": "[encoded data removed]",
      "text/plain": [
       "plot without title"
      ]
     },
     "metadata": {},
     "output_type": "display_data"
    }
   ],
   "source": [
    "#gráfico para detectar a correlaçã dos erros \n",
    "plot(idade,residuals(reg),xlab=\"Idade\",ylab=\"Resíduos\")\n",
    "abline(h=0)"
   ]
  },
  {
   "cell_type": "markdown",
   "metadata": {},
   "source": [
    "O gráfico acima não apresenta correlação nos resíduos. O próximo gráfico irá nos mostrar a normalidade dos resíduos, no entanto a mesma resposta poderia ser obtida com um teste de normalidade dos resíduos."
   ]
  },
  {
   "cell_type": "code",
   "execution_count": 10,
   "metadata": {},
   "outputs": [
    {
     "data": {
      "image/png": "[encoded data removed]",
      "text/plain": [
       "Plot with title \"\""
      ]
     },
     "metadata": {},
     "output_type": "display_data"
    }
   ],
   "source": [
    "#normalidade dos resíduos\n",
    "qqnorm(residuals(reg),ylab=\"Resíduos\",main=\"\")\n",
    "qqline(residuals(reg))"
   ]
  },
  {
   "cell_type": "markdown",
   "metadata": {},
   "source": [
    "O gráfico acima apresenta os dados seguindo uma distribuição normal. O teste de normalidade é apresentado para confirmar o resultado do gráfico. O teste de normalidade dos resíduos é determinado pelo comando $shapiro.test()$:"
   ]
  },
  {
   "cell_type": "code",
   "execution_count": 11,
   "metadata": {},
   "outputs": [
    {
     "data": {
      "text/plain": [
       "\n",
       "\tShapiro-Wilk normality test\n",
       "\n",
       "data:  residuals(reg)\n",
       "W = 0.96767, p-value = 0.564\n"
      ]
     },
     "metadata": {},
     "output_type": "display_data"
    }
   ],
   "source": [
    "#Teste de normalidade nos resíduos\n",
    "shapiro.test(residuals(reg))"
   ]
  },
  {
   "cell_type": "markdown",
   "metadata": {},
   "source": [
    "A hipótese nula afirma que os dados possuem uma distribuição normal, portanto com um p-valor = 0,564 não possuímos evidencias amostrais suficientes para rejeitarmos a hipótese nula, ou seja, os resíduos seguem uma distribuição normal. "
   ]
  }
 ],
 "metadata": {
  "kernelspec": {
   "display_name": "R",
   "language": "R",
   "name": "ir"
  },
  "language_info": {
   "codemirror_mode": "r",
   "file_extension": ".r",
   "mimetype": "text/x-r-source",
   "name": "R",
   "pygments_lexer": "r",
   "version": "3.6.1"
  }
 },
 "nbformat": 4,
 "nbformat_minor": 4
}
