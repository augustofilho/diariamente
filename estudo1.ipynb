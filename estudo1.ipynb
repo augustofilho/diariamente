{
 "cells": [
  {
   "cell_type": "markdown",
   "metadata": {},
   "source": [
    "# Regressão Linear Simples e Correlação - Com uso de Markdown e R"
   ]
  },
  {
   "cell_type": "markdown",
   "metadata": {},
   "source": [
    "14-1 - Um engenheiro químico está estudando o efeito da temperatura de operação do processo sobre o resultado da produção. O estudo resulta nos seguintes dados:"
   ]
  },
  {
   "cell_type": "markdown",
   "metadata": {},
   "source": [
    "| Temperatura, C (x) | 100 | 110 | 120 | 130 | 140 | 150 | 160 | 170 | 180 | 190 |\n",
    "|:------------------:|:---:|:---:|:---:|:---:|:---:|:---:|:---:|:---:|:---:|:---:|\n",
    "|   Resultado, (y)   |  45 |  51 |  54 |  61 |  66 |  70 |  74 |  78 |  85 |  89 |"
   ]
  },
  {
   "cell_type": "markdown",
   "metadata": {},
   "source": [
    "Determine:\n",
    "\n",
    "+ a) Crie um dataframe com os dados acima;\n",
    "+ b) Determine o diagrama de dispersão do (resultado(y) versus temperatura(x)); \n",
    "+ c) Encontre os valores de $\\beta_0$ e $\\beta_1$;\n",
    "+ d) Os valores de $\\beta_0$ e $\\beta_1$ são signficativos, use o $summary$ para analisar;\n",
    "+ e) Determine o intervalo de confiança para $\\beta_0$ e $\\beta_1$ ao nível de 95\\% de confiança;\n",
    "+ f) Determine um intervalo de confiança para a resposta média $\\hat{y}$, considerando $x_0=140$;\n",
    "+ g) Apresente um dataframe com os resultados de y, x, $\\hat{y}$ e residuos;\n",
    "+ h) Construa um gráfico acrescentando ao gráfico, além da reta de regressão ajustada, segmentos de reta represetando os resíduos;"
   ]
  },
  {
   "cell_type": "code",
   "execution_count": 1,
   "metadata": {},
   "outputs": [
    {
     "data": {
      "text/html": [
       "<table>\n",
       "<thead><tr><th scope=col>temperatura</th><th scope=col>resultado</th></tr></thead>\n",
       "<tbody>\n",
       "\t<tr><td>100</td><td>45 </td></tr>\n",
       "\t<tr><td>110</td><td>51 </td></tr>\n",
       "\t<tr><td>120</td><td>54 </td></tr>\n",
       "\t<tr><td>130</td><td>61 </td></tr>\n",
       "\t<tr><td>140</td><td>66 </td></tr>\n",
       "\t<tr><td>150</td><td>70 </td></tr>\n",
       "\t<tr><td>160</td><td>74 </td></tr>\n",
       "\t<tr><td>170</td><td>78 </td></tr>\n",
       "\t<tr><td>180</td><td>85 </td></tr>\n",
       "\t<tr><td>190</td><td>89 </td></tr>\n",
       "</tbody>\n",
       "</table>\n"
      ],
      "text/latex": [
       "\\begin{tabular}{r|ll}\n",
       " temperatura & resultado\\\\\n",
       "\\hline\n",
       "\t 100 & 45 \\\\\n",
       "\t 110 & 51 \\\\\n",
       "\t 120 & 54 \\\\\n",
       "\t 130 & 61 \\\\\n",
       "\t 140 & 66 \\\\\n",
       "\t 150 & 70 \\\\\n",
       "\t 160 & 74 \\\\\n",
       "\t 170 & 78 \\\\\n",
       "\t 180 & 85 \\\\\n",
       "\t 190 & 89 \\\\\n",
       "\\end{tabular}\n"
      ],
      "text/markdown": [
       "\n",
       "| temperatura | resultado |\n",
       "|---|---|\n",
       "| 100 | 45  |\n",
       "| 110 | 51  |\n",
       "| 120 | 54  |\n",
       "| 130 | 61  |\n",
       "| 140 | 66  |\n",
       "| 150 | 70  |\n",
       "| 160 | 74  |\n",
       "| 170 | 78  |\n",
       "| 180 | 85  |\n",
       "| 190 | 89  |\n",
       "\n"
      ],
      "text/plain": [
       "   temperatura resultado\n",
       "1  100         45       \n",
       "2  110         51       \n",
       "3  120         54       \n",
       "4  130         61       \n",
       "5  140         66       \n",
       "6  150         70       \n",
       "7  160         74       \n",
       "8  170         78       \n",
       "9  180         85       \n",
       "10 190         89       "
      ]
     },
     "metadata": {},
     "output_type": "display_data"
    }
   ],
   "source": [
    "# a) Criando o dataframe\n",
    "\n",
    "temperatura =c(100,110,120,130,140,150,160,170,180,190)\n",
    "resultado =c(45,51,54,61,66,70,74,78,85,89)\n",
    "\n",
    "dados=data.frame(temperatura,resultado)\n",
    "dados\n"
   ]
  },
  {
   "cell_type": "markdown",
   "metadata": {},
   "source": [
    "$\\color{red}{\\text{b}}$ -  O diagrama de dispersão é apresentado  com a utização do código em R dado por: `plot(temperatura,resultado)`"
   ]
  },
  {
   "cell_type": "code",
   "execution_count": 2,
   "metadata": {},
   "outputs": [
    {
     "data": {
      "image/png": "[encoded data removed]",
      "text/plain": [
       "plot without title"
      ]
     },
     "metadata": {},
     "output_type": "display_data"
    }
   ],
   "source": [
    "plot(temperatura,resultado) "
   ]
  },
  {
   "cell_type": "markdown",
   "metadata": {},
   "source": [
    "O gráfico de dispersão sugere uma relação linear entre as variáveis **temperatura** e **resposta**."
   ]
  },
  {
   "cell_type": "markdown",
   "metadata": {},
   "source": [
    "$\\color{red}{\\text{c)}}$ Os valores de $\\beta_0$ e $\\beta_1$ são apresentados no R pelo comando `lm(y~x)`, em que y é a variável ***resultado*** e x é a variável ***temperatura***."
   ]
  },
  {
   "cell_type": "code",
   "execution_count": 3,
   "metadata": {},
   "outputs": [
    {
     "data": {
      "text/html": [
       "<dl class=dl-horizontal>\n",
       "\t<dt>(Intercept)</dt>\n",
       "\t\t<dd>-2.73939393939395</dd>\n",
       "\t<dt>temperatura</dt>\n",
       "\t\t<dd>0.483030303030303</dd>\n",
       "</dl>\n"
      ],
      "text/latex": [
       "\\begin{description*}\n",
       "\\item[(Intercept)] -2.73939393939395\n",
       "\\item[temperatura] 0.483030303030303\n",
       "\\end{description*}\n"
      ],
      "text/markdown": [
       "(Intercept)\n",
       ":   -2.73939393939395temperatura\n",
       ":   0.483030303030303\n",
       "\n"
      ],
      "text/plain": [
       "(Intercept) temperatura \n",
       " -2.7393939   0.4830303 "
      ]
     },
     "metadata": {},
     "output_type": "display_data"
    }
   ],
   "source": [
    "reglin <- lm(resultado~temperatura,dados)\n",
    "reglin$coefficients"
   ]
  },
  {
   "cell_type": "markdown",
   "metadata": {},
   "source": [
    "Portanto o valore de $\\beta_0=-2,739$ e $\\beta_1=0,483$."
   ]
  },
  {
   "cell_type": "markdown",
   "metadata": {},
   "source": [
    "$\\color{red}{\\text{d)}}$ -  Para verificar se os coeficientes do modelo de regressão linear são signficativos, deveremos analisar a significância do modelo em luz da ANOVA ou em termos dos coeficientes encontrados. Se usarmos a signficância em relação aos coeficientes encontrados, usaremos a seguinte regra de decisão, usando um nível de significância de 5%.\n",
    "\n",
    "\n",
    "\\begin{array}{ll}\n",
    "         H_0: \\beta_i = 0 & \\mbox{Coeficiente não é significativo};\\\\\n",
    "        H_1: \\beta_i \\neq 0 & \\mbox{Coeficiente é signficativo}.\\end{array}\n",
    "\n",
    "Portanto, usa-se o comando $summary()$, para encontrar a resposta usando o R. - $\\color{red}{\\text{Rejeita-se H0 se p-valor <= 0,05}}$. \n"
   ]
  },
  {
   "cell_type": "code",
   "execution_count": 4,
   "metadata": {},
   "outputs": [
    {
     "data": {
      "text/plain": [
       "\n",
       "Call:\n",
       "lm(formula = resultado ~ temperatura, data = dados)\n",
       "\n",
       "Residuals:\n",
       "    Min      1Q  Median      3Q     Max \n",
       "-1.3758 -0.5591  0.1242  0.7470  1.1152 \n",
       "\n",
       "Coefficients:\n",
       "            Estimate Std. Error t value Pr(>|t|)    \n",
       "(Intercept) -2.73939    1.54650  -1.771    0.114    \n",
       "temperatura  0.48303    0.01046  46.169 5.35e-11 ***\n",
       "---\n",
       "Signif. codes:  0 '***' 0.001 '**' 0.01 '*' 0.05 '.' 0.1 ' ' 1\n",
       "\n",
       "Residual standard error: 0.9503 on 8 degrees of freedom\n",
       "Multiple R-squared:  0.9963,\tAdjusted R-squared:  0.9958 \n",
       "F-statistic:  2132 on 1 and 8 DF,  p-value: 5.353e-11\n"
      ]
     },
     "metadata": {},
     "output_type": "display_data"
    }
   ],
   "source": [
    "summary(reglin)"
   ]
  },
  {
   "cell_type": "markdown",
   "metadata": {},
   "source": [
    "Portanto, ao analisar $\\beta_0=-2,73939$  foi constatado a não significativo do parâmetro, visto que o p-valor associado foi de 0,144 levando a não rejeição da hipótese nula em contrapartida $\\beta_1=0,48303$ é considerado signficativo, visto que o p-valor (5.35e-11) nos levado a rejeição da hipótese nula ao nível de 5% de signficância, ou seja, a variável temperatura influencia significativamente a variável resultado."
   ]
  },
  {
   "cell_type": "markdown",
   "metadata": {},
   "source": [
    "$\\color{red}{\\text{e)}}$ -  Os intervalos de confiança para $\\beta_0$ e $\\beta_1$ ao nível de 95% de confiança são apresentados a seguir, através do comando $confint()$."
   ]
  },
  {
   "cell_type": "code",
   "execution_count": 5,
   "metadata": {},
   "outputs": [
    {
     "data": {
      "text/html": [
       "<table>\n",
       "<thead><tr><th></th><th scope=col>2.5 %</th><th scope=col>97.5 %</th></tr></thead>\n",
       "<tbody>\n",
       "\t<tr><th scope=row>(Intercept)</th><td>-6.3056292</td><td>0.8268413 </td></tr>\n",
       "\t<tr><th scope=row>temperatura</th><td> 0.4589044</td><td>0.5071562 </td></tr>\n",
       "</tbody>\n",
       "</table>\n"
      ],
      "text/latex": [
       "\\begin{tabular}{r|ll}\n",
       "  & 2.5 \\% & 97.5 \\%\\\\\n",
       "\\hline\n",
       "\t(Intercept) & -6.3056292 & 0.8268413 \\\\\n",
       "\ttemperatura &  0.4589044 & 0.5071562 \\\\\n",
       "\\end{tabular}\n"
      ],
      "text/markdown": [
       "\n",
       "| <!--/--> | 2.5 % | 97.5 % |\n",
       "|---|---|---|\n",
       "| (Intercept) | -6.3056292 | 0.8268413  |\n",
       "| temperatura |  0.4589044 | 0.5071562  |\n",
       "\n"
      ],
      "text/plain": [
       "            2.5 %      97.5 %   \n",
       "(Intercept) -6.3056292 0.8268413\n",
       "temperatura  0.4589044 0.5071562"
      ]
     },
     "metadata": {},
     "output_type": "display_data"
    }
   ],
   "source": [
    "confint(reglin)"
   ]
  },
  {
   "cell_type": "markdown",
   "metadata": {},
   "source": [
    "Portanto o intervalo de confiança para $\\beta_1$ é dado por: $0.4589044 \\leq \\beta_1 \\leq 0.5071562$."
   ]
  },
  {
   "cell_type": "markdown",
   "metadata": {},
   "source": [
    "$\\color{red}{\\text{f)}}$ - O intervalo de confiança para a resposta média $\\hat{y}$, considerando $x_0=140$ fixo é dado no R por $confidence$;"
   ]
  },
  {
   "cell_type": "code",
   "execution_count": 6,
   "metadata": {},
   "outputs": [
    {
     "data": {
      "text/html": [
       "<table>\n",
       "<thead><tr><th scope=col>fit</th><th scope=col>lwr</th><th scope=col>upr</th></tr></thead>\n",
       "<tbody>\n",
       "\t<tr><td>64.88485</td><td>64.18146</td><td>65.58823</td></tr>\n",
       "</tbody>\n",
       "</table>\n"
      ],
      "text/latex": [
       "\\begin{tabular}{r|lll}\n",
       " fit & lwr & upr\\\\\n",
       "\\hline\n",
       "\t 64.88485 & 64.18146 & 65.58823\\\\\n",
       "\\end{tabular}\n"
      ],
      "text/markdown": [
       "\n",
       "| fit | lwr | upr |\n",
       "|---|---|---|\n",
       "| 64.88485 | 64.18146 | 65.58823 |\n",
       "\n"
      ],
      "text/plain": [
       "  fit      lwr      upr     \n",
       "1 64.88485 64.18146 65.58823"
      ]
     },
     "metadata": {},
     "output_type": "display_data"
    }
   ],
   "source": [
    "x0=data.frame(temperatura=140)\n",
    "predict(reglin, x0,interval=\"confidence\")"
   ]
  },
  {
   "cell_type": "markdown",
   "metadata": {},
   "source": [
    "Portanto, o intervalo de confiança para a resposta média de $\\hat{y}$ considerando $x_0=140$ é dado por  $64.18146 \\leq E(y|x_0=140)\\leq 65.58823$."
   ]
  },
  {
   "cell_type": "markdown",
   "metadata": {},
   "source": [
    "$\\color{red}{\\text{g)}}$ - Um data frame com os resultado $y, x, \\hat{y}, erro$, são apresentados a seguir:"
   ]
  },
  {
   "cell_type": "code",
   "execution_count": 7,
   "metadata": {},
   "outputs": [
    {
     "data": {
      "text/html": [
       "<table>\n",
       "<thead><tr><th scope=col>temperatura</th><th scope=col>resultado</th><th scope=col>estimados</th><th scope=col>residuos</th></tr></thead>\n",
       "<tbody>\n",
       "\t<tr><td>100        </td><td>45         </td><td>45.56364   </td><td>-0.56363636</td></tr>\n",
       "\t<tr><td>110        </td><td>51         </td><td>50.39394   </td><td> 0.60606061</td></tr>\n",
       "\t<tr><td>120        </td><td>54         </td><td>55.22424   </td><td>-1.22424242</td></tr>\n",
       "\t<tr><td>130        </td><td>61         </td><td>60.05455   </td><td> 0.94545455</td></tr>\n",
       "\t<tr><td>140        </td><td>66         </td><td>64.88485   </td><td> 1.11515152</td></tr>\n",
       "\t<tr><td>150        </td><td>70         </td><td>69.71515   </td><td> 0.28484848</td></tr>\n",
       "\t<tr><td>160        </td><td>74         </td><td>74.54545   </td><td>-0.54545455</td></tr>\n",
       "\t<tr><td>170        </td><td>78         </td><td>79.37576   </td><td>-1.37575758</td></tr>\n",
       "\t<tr><td>180        </td><td>85         </td><td>84.20606   </td><td> 0.79393939</td></tr>\n",
       "\t<tr><td>190        </td><td>89         </td><td>89.03636   </td><td>-0.03636364</td></tr>\n",
       "</tbody>\n",
       "</table>\n"
      ],
      "text/latex": [
       "\\begin{tabular}{r|llll}\n",
       " temperatura & resultado & estimados & residuos\\\\\n",
       "\\hline\n",
       "\t 100         & 45          & 45.56364    & -0.56363636\\\\\n",
       "\t 110         & 51          & 50.39394    &  0.60606061\\\\\n",
       "\t 120         & 54          & 55.22424    & -1.22424242\\\\\n",
       "\t 130         & 61          & 60.05455    &  0.94545455\\\\\n",
       "\t 140         & 66          & 64.88485    &  1.11515152\\\\\n",
       "\t 150         & 70          & 69.71515    &  0.28484848\\\\\n",
       "\t 160         & 74          & 74.54545    & -0.54545455\\\\\n",
       "\t 170         & 78          & 79.37576    & -1.37575758\\\\\n",
       "\t 180         & 85          & 84.20606    &  0.79393939\\\\\n",
       "\t 190         & 89          & 89.03636    & -0.03636364\\\\\n",
       "\\end{tabular}\n"
      ],
      "text/markdown": [
       "\n",
       "| temperatura | resultado | estimados | residuos |\n",
       "|---|---|---|---|\n",
       "| 100         | 45          | 45.56364    | -0.56363636 |\n",
       "| 110         | 51          | 50.39394    |  0.60606061 |\n",
       "| 120         | 54          | 55.22424    | -1.22424242 |\n",
       "| 130         | 61          | 60.05455    |  0.94545455 |\n",
       "| 140         | 66          | 64.88485    |  1.11515152 |\n",
       "| 150         | 70          | 69.71515    |  0.28484848 |\n",
       "| 160         | 74          | 74.54545    | -0.54545455 |\n",
       "| 170         | 78          | 79.37576    | -1.37575758 |\n",
       "| 180         | 85          | 84.20606    |  0.79393939 |\n",
       "| 190         | 89          | 89.03636    | -0.03636364 |\n",
       "\n"
      ],
      "text/plain": [
       "   temperatura resultado estimados residuos   \n",
       "1  100         45        45.56364  -0.56363636\n",
       "2  110         51        50.39394   0.60606061\n",
       "3  120         54        55.22424  -1.22424242\n",
       "4  130         61        60.05455   0.94545455\n",
       "5  140         66        64.88485   1.11515152\n",
       "6  150         70        69.71515   0.28484848\n",
       "7  160         74        74.54545  -0.54545455\n",
       "8  170         78        79.37576  -1.37575758\n",
       "9  180         85        84.20606   0.79393939\n",
       "10 190         89        89.03636  -0.03636364"
      ]
     },
     "metadata": {},
     "output_type": "display_data"
    }
   ],
   "source": [
    "estimados <- predict(reglin)\n",
    "residuos <- resid(reglin)\n",
    "\n",
    "result <- data.frame(          #criando um data.frame\n",
    "          temperatura,         #variável independente\n",
    "          resultado,           #variável dependente\n",
    "          estimados,           #valores estimados\n",
    "          residuos)            #residuos\n",
    "result"
   ]
  },
  {
   "cell_type": "markdown",
   "metadata": {},
   "source": [
    "$\\color{red}{\\text{h)}}$ - O gráfico da reta de regressão ajustada com segmentos de reta represetando os resíduos é apresentado a seguir:"
   ]
  },
  {
   "cell_type": "code",
   "execution_count": 8,
   "metadata": {},
   "outputs": [
    {
     "data": {
      "image/png": "[encoded data removed]",
      "text/plain": [
       "plot without title"
      ]
     },
     "metadata": {},
     "output_type": "display_data"
    }
   ],
   "source": [
    "plot(temperatura,resultado)               #diagrama de dispersão\n",
    "abline(reglin,                            #reta de regressão ajustada\n",
    "       col=2)                             #cor vermelha\n",
    "\n",
    "segments(                                 #desenha segmentos de reta    \n",
    "  result$temperatura,                     #de (coord.x)\n",
    "  result$resultado,                       #de (coord.y)\n",
    "  result$temperatura,                     #para (coord. x)\n",
    "  result$estimados,                       #para (coord. y)\n",
    "  col=4)                                  #cor azul\n"
   ]
  }
 ],
 "metadata": {
  "kernelspec": {
   "display_name": "R",
   "language": "R",
   "name": "ir"
  },
  "language_info": {
   "codemirror_mode": "r",
   "file_extension": ".r",
   "mimetype": "text/x-r-source",
   "name": "R",
   "pygments_lexer": "r",
   "version": "3.6.1"
  }
 },
 "nbformat": 4,
 "nbformat_minor": 4
}
