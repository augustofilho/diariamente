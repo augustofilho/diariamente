{
 "cells": [
  {
   "cell_type": "markdown",
   "metadata": {},
   "source": [
    "# Day 13:30 daily statistics - Regressão Simples - Parte 4"
   ]
  },
  {
   "cell_type": "markdown",
   "metadata": {},
   "source": [
    "$\\color{red}{\\text{Exercício 8}}$ - **Retirado do livro: Análise de Modelos de Regressão Linear com Aplicações, de Charnet, Freire, Charnet e Bonvino** - Dois testes de avaliação de personalidade foram aplicados a 20 indivíduos, obtendo-se os seguintes resultados (em pontos):\n",
    "\n",
    "| Teste I(x) | Teste II (y) | Teste I(x) | Teste II (y) |\n",
    "|:----------:|:------------:|:----------:|:------------:|\n",
    "|     77     |      41      |     75     |      45      |\n",
    "|     92     |      59      |     55     |      32      |\n",
    "|     60     |      35      |     77     |      47      |\n",
    "|     82     |      49      |     89     |      56      |\n",
    "|     73     |      52      |     82     |      52      |\n",
    "|     75     |      38      |     89     |      53      |\n",
    "|     92     |      58      |     75     |      43      |\n",
    "|     103    |      70      |     71     |      39      |\n",
    "|     71     |      45      |     60     |      41      |\n",
    "|     73     |      48      |     85     |      54      |\n",
    "\n",
    "Construa intervalos de 90% de confiança para $\\beta_0$, $\\beta_1$ e $\\sigma^2$.\n"
   ]
  },
  {
   "cell_type": "code",
   "execution_count": 1,
   "metadata": {},
   "outputs": [
    {
     "data": {
      "text/plain": [
       "\n",
       "Call:\n",
       "lm(formula = y ~ x, data = dados)\n",
       "\n",
       "Residuals:\n",
       "    Min      1Q  Median      3Q     Max \n",
       "-7.8722 -2.0529  0.1791  1.3758  7.5406 \n",
       "\n",
       "Coefficients:\n",
       "            Estimate Std. Error t value Pr(>|t|)    \n",
       "(Intercept) -7.10571    5.83496  -1.218    0.239    \n",
       "x            0.70637    0.07418   9.523 1.89e-08 ***\n",
       "---\n",
       "Signif. codes:  0 '***' 0.001 '**' 0.01 '*' 0.05 '.' 0.1 ' ' 1\n",
       "\n",
       "Residual standard error: 3.85 on 18 degrees of freedom\n",
       "Multiple R-squared:  0.8344,\tAdjusted R-squared:  0.8252 \n",
       "F-statistic: 90.68 on 1 and 18 DF,  p-value: 1.886e-08\n"
      ]
     },
     "metadata": {},
     "output_type": "display_data"
    }
   ],
   "source": [
    "#Entrando com os dados \n",
    "x=c(77,92,60,82,73,75,92,103,71,73,75,55,77,89,82,89,75,71,60,85)\n",
    "y=c(41,59,35,49,52,38,58,70,45,48,45,32,47,56,52,53,43,39,41,54)\n",
    "dados=data.frame(x,y)\n",
    "\n",
    "#Ajuste do modelo\n",
    "ajuste=lm(y~x,data=dados)\n",
    "summary(ajuste)\n"
   ]
  },
  {
   "cell_type": "code",
   "execution_count": 2,
   "metadata": {},
   "outputs": [
    {
     "data": {
      "text/html": [
       "<table>\n",
       "<thead><tr><th></th><th scope=col>5 %</th><th scope=col>95 %</th></tr></thead>\n",
       "<tbody>\n",
       "\t<tr><th scope=row>(Intercept)</th><td>-17.2239093</td><td>3.0124879  </td></tr>\n",
       "\t<tr><th scope=row>x</th><td>  0.5777406</td><td>0.8350026  </td></tr>\n",
       "</tbody>\n",
       "</table>\n"
      ],
      "text/latex": [
       "\\begin{tabular}{r|ll}\n",
       "  & 5 \\% & 95 \\%\\\\\n",
       "\\hline\n",
       "\t(Intercept) & -17.2239093 & 3.0124879  \\\\\n",
       "\tx &   0.5777406 & 0.8350026  \\\\\n",
       "\\end{tabular}\n"
      ],
      "text/markdown": [
       "\n",
       "| <!--/--> | 5 % | 95 % |\n",
       "|---|---|---|\n",
       "| (Intercept) | -17.2239093 | 3.0124879   |\n",
       "| x |   0.5777406 | 0.8350026   |\n",
       "\n"
      ],
      "text/plain": [
       "            5 %         95 %     \n",
       "(Intercept) -17.2239093 3.0124879\n",
       "x             0.5777406 0.8350026"
      ]
     },
     "metadata": {},
     "output_type": "display_data"
    }
   ],
   "source": [
    "#O intervalo de confiança para B0 e B1 são dados por:\n",
    "confint(ajuste,level=0.9)"
   ]
  },
  {
   "cell_type": "markdown",
   "metadata": {},
   "source": [
    "O intervalo de confiança para $\\beta_0$ e $\\beta_1$ ao nível de 90% de confiança é dado por: ($-17.2239093 \\leq \\beta_0\\leq 3.0124879 $) e ($0.5777406 \\leq \\beta_1 \\leq 0.8350026$)."
   ]
  },
  {
   "cell_type": "markdown",
   "metadata": {},
   "source": [
    "$\\color{red}{\\text{Exercício 9}}$ - **Retirado do livro: Análise de Modelos de Regressão Linear com Aplicações, de Charnet, Freire, Charnet e Bonvino** - A tabela  a seguir apresenta a velocidade (em milhas por hora) e o consumo de combustível (em milhas por galão) em testes feitos com um certo tipo de carro.\n",
    "\n",
    "\n",
    "| Velocidade | Consumo | Consumo | Consumo |\n",
    "|:----------:|:-------:|:-------:|:-------:|\n",
    "|     50     |   17,3  |   16,4  |         |\n",
    "|     55     |   16,9  |   16,1  |    15   |\n",
    "|     60     |   15,8  |   14,8  |   15,3  |\n",
    "|     65     |   15,2  |   14,7  |         |\n",
    "|     70     |   14,8  |   14,6  |   13,4  |\n",
    "|     75     |   13,6  |   12,4  |         |\n",
    "|     80     |   13,5  |   11,3  |   12,4  |\n",
    "|     85     |   11,5  |         |         |\n",
    "|     90     |   9,8   |   10,1  |   9,5   |\n",
    "|     95     |   9,2   |   9,6   |    10   |\n",
    "|     100    |   9,0   |   9,5   |   9,3   |\n",
    "\n",
    "+ a) Ajuste um MRLS a estes dados;\n",
    "+ b) Construa intervalos de 98% de confiança para os coeficientes do modelo ajustado;\n",
    "+ c) Encontre um intervalo de 90% de confiança para o consumo médio de combustível, quando a velocidade for de 93 milhões por hora."
   ]
  },
  {
   "cell_type": "markdown",
   "metadata": {},
   "source": [
    "$\\color{red}{\\text{a)}}$ - Ajustar um MRLS a estes dados:"
   ]
  },
  {
   "cell_type": "code",
   "execution_count": 3,
   "metadata": {},
   "outputs": [
    {
     "data": {
      "text/plain": [
       "\n",
       "Call:\n",
       "lm(formula = con ~ vel, data = dados9)\n",
       "\n",
       "Residuals:\n",
       "     Min       1Q   Median       3Q      Max \n",
       "-1.21696 -0.55153  0.08445  0.43608  1.32977 \n",
       "\n",
       "Coefficients:\n",
       "             Estimate Std. Error t value Pr(>|t|)    \n",
       "(Intercept) 25.119780   0.592740   42.38   <2e-16 ***\n",
       "vel         -0.161869   0.007673  -21.09   <2e-16 ***\n",
       "---\n",
       "Signif. codes:  0 '***' 0.001 '**' 0.01 '*' 0.05 '.' 0.1 ' ' 1\n",
       "\n",
       "Residual standard error: 0.6564 on 26 degrees of freedom\n",
       "Multiple R-squared:  0.9448,\tAdjusted R-squared:  0.9427 \n",
       "F-statistic:   445 on 1 and 26 DF,  p-value: < 2.2e-16\n"
      ]
     },
     "metadata": {},
     "output_type": "display_data"
    }
   ],
   "source": [
    "# Entrando com os dados \n",
    "x=seq(50,100,by=5)\n",
    "vel=rep(x,c(2,3,3,2,3,2,3,1,3,3,3))\n",
    "con=c(17.3,16.4,16.9,16.1,15,15.8,14.8,15.3,15.2,14.7,14.8,14.6,13.4,13.6,12.4,13.5,11.3,12.4,11.5,9.8,10.1,9.5,9.2,9.6,10,9,9.5,9.3)\n",
    "dados9=data.frame(vel,con)\n",
    "\n",
    "#Realizando o ajuste no modelo\n",
    "ajuste9=lm(con~vel,data=dados9)\n",
    "summary(ajuste9)"
   ]
  },
  {
   "cell_type": "markdown",
   "metadata": {},
   "source": [
    "O modelo estimado apresenta $\\beta_0=25.119780$ e $\\beta_1=-0.161869$. Portanto o modelo estimado é dado por $\\hat{y}=25.119780-0.161869X$."
   ]
  },
  {
   "cell_type": "markdown",
   "metadata": {},
   "source": [
    "$\\color{red}{\\text{b)}}$ - Coeficientes de confiança de 98% para os parâmetros estimados"
   ]
  },
  {
   "cell_type": "code",
   "execution_count": 4,
   "metadata": {},
   "outputs": [
    {
     "data": {
      "text/html": [
       "<table>\n",
       "<thead><tr><th></th><th scope=col>1 %</th><th scope=col>99 %</th></tr></thead>\n",
       "<tbody>\n",
       "\t<tr><th scope=row>(Intercept)</th><td>23.6505979</td><td>26.5889628</td></tr>\n",
       "\t<tr><th scope=row>vel</th><td>-0.1808889</td><td>-0.1428499</td></tr>\n",
       "</tbody>\n",
       "</table>\n"
      ],
      "text/latex": [
       "\\begin{tabular}{r|ll}\n",
       "  & 1 \\% & 99 \\%\\\\\n",
       "\\hline\n",
       "\t(Intercept) & 23.6505979 & 26.5889628\\\\\n",
       "\tvel & -0.1808889 & -0.1428499\\\\\n",
       "\\end{tabular}\n"
      ],
      "text/markdown": [
       "\n",
       "| <!--/--> | 1 % | 99 % |\n",
       "|---|---|---|\n",
       "| (Intercept) | 23.6505979 | 26.5889628 |\n",
       "| vel | -0.1808889 | -0.1428499 |\n",
       "\n"
      ],
      "text/plain": [
       "            1 %        99 %      \n",
       "(Intercept) 23.6505979 26.5889628\n",
       "vel         -0.1808889 -0.1428499"
      ]
     },
     "metadata": {},
     "output_type": "display_data"
    }
   ],
   "source": [
    "confint(ajuste9,level=0.98)"
   ]
  },
  {
   "cell_type": "markdown",
   "metadata": {},
   "source": [
    "O intervalo de confiança para $\\beta_0$ e $\\beta_1$ são respectivamente: ($23.6505979 \\leq \\beta_0 \\leq 26.5889628$) e $(-0.1808889 \\leq \\beta_1 \\leq -0.1428499)$."
   ]
  },
  {
   "cell_type": "markdown",
   "metadata": {},
   "source": [
    "$\\color{red}{\\text{c)}}$ - Intervalo de 90% de confiança para o consumo médio de combustível, quando a velocidade for de 93 milhas por hora"
   ]
  },
  {
   "cell_type": "code",
   "execution_count": 5,
   "metadata": {},
   "outputs": [
    {
     "data": {
      "text/html": [
       "<table>\n",
       "<thead><tr><th scope=col>fit</th><th scope=col>lwr</th><th scope=col>upr</th></tr></thead>\n",
       "<tbody>\n",
       "\t<tr><td>10.06592</td><td>9.754464</td><td>10.37738</td></tr>\n",
       "</tbody>\n",
       "</table>\n"
      ],
      "text/latex": [
       "\\begin{tabular}{r|lll}\n",
       " fit & lwr & upr\\\\\n",
       "\\hline\n",
       "\t 10.06592 & 9.754464 & 10.37738\\\\\n",
       "\\end{tabular}\n"
      ],
      "text/markdown": [
       "\n",
       "| fit | lwr | upr |\n",
       "|---|---|---|\n",
       "| 10.06592 | 9.754464 | 10.37738 |\n",
       "\n"
      ],
      "text/plain": [
       "  fit      lwr      upr     \n",
       "1 10.06592 9.754464 10.37738"
      ]
     },
     "metadata": {},
     "output_type": "display_data"
    }
   ],
   "source": [
    "velocidade=data.frame(vel=93)\n",
    "predict(ajuste9, velocidade,interval=\"confidence\",level=0.90)"
   ]
  },
  {
   "cell_type": "markdown",
   "metadata": {},
   "source": [
    "O consumo médio de combustível quando a velocidade for de 93 milhas por hora é 10.06 (mi/gal), variando entre (9,754464;10.37738) ao nível de 90% de confiança."
   ]
  },
  {
   "cell_type": "markdown",
   "metadata": {},
   "source": [
    "$\\color{red}{\\text{Exercício 10}}$ - **Retirado do livro: Análise de Modelos de Regressão Linear com Aplicações, de Charnet, Freire, Charnet e Bonvino** - As tabelas abaixo fazem parte da saída de uma análise de regressão realizada pelo Minitab\n",
    "\n",
    "| Predictor |   Coef  |  Stdev | t-ratio |   p   |\n",
    "|:---------:|:-------:|:------:|:-------:|:-----:|\n",
    "|  Constant |  83.074 |  6.593 |  12.60  | 0.000 |\n",
    "|     x     | -1.1848 | 0.1258 |  -9.42  | 0.000 |\n",
    "\n",
    "e\n",
    "\n",
    "|   SOURCE   | DF |   SS   |   MS   |   F   |   P   |\n",
    "|:----------:|:--:|:------:|:------:|:-----:|:-----:|\n",
    "| Regression |  1 | 1021.1 | 1021.1 | 88.68 | 0.000 |\n",
    "|    Error   |  7 |  80.6  |  11.5  |       |       |\n",
    "|    Total   |  8 | 1101.6 |        |       |       |\n",
    "\n",
    "\n",
    "+ a) Escreva a equação da reta ajustada\n",
    "+ b) Encontre um intervalo de confiança de 95%, para o coeficiente angular da reta;\n",
    "+ c) Verifique se o modelo contribui para explicar a variável resposta;\n",
    "+ d) Encontre SSE\n",
    "+ e) O modelo é adequado? Justifique a sua resposta."
   ]
  },
  {
   "cell_type": "markdown",
   "metadata": {},
   "source": [
    "$\\color{red}{\\text{a)}}$ A equação ajustada é dada por: $\\hat{y}=83.074-1.1848X$"
   ]
  },
  {
   "cell_type": "markdown",
   "metadata": {},
   "source": [
    "$\\color{red}{\\text{b)}}$ O intervalo de confiança de 95% para o coeficiente angular estimado é dado por: $\\hat{\\beta_1}\\pm t_{((1-\\alpha/2);(n-2))}S_e\\sqrt{\\frac{1}{\\sum(x_i-\\overline{x})^2}}$ "
   ]
  },
  {
   "cell_type": "markdown",
   "metadata": {},
   "source": [
    "Temos: $$SQ_{reg}=\\hat{\\beta_1}^2\\cdot \\sum (x_i-\\overline{x})^2$$\n",
    "$$1021,1 = (-1,1848)^2\\cdot \\sum(x_i-\\overline{x})^2$$\n",
    "$$\\sum(x_i-\\overline{x})^2=\\frac{1021,1}{(-1,1848)^2}$$\n",
    "$$\\sum(x_i-\\overline{x})^2=727.4082$$\n",
    "\n",
    "Logo, com os resultados acima, o valor de $\\sum(x_i-\\overline{x})^2=727.4082$. Com isso o intervalo de confiança para $\\beta_1$ ao nível de 95% de confiança é dado por:\n",
    "\n",
    "$$IC[\\beta_1;0,95]=-1.1848 \\pm (2,4469)\\cdot \\sqrt{11,5}\\cdot \\sqrt{\\frac{1}{727,4082}}$$\n",
    "$$IC[\\beta_1;0,95]=[-1,492464 ; -0,8771365]$$"
   ]
  },
  {
   "cell_type": "markdown",
   "metadata": {},
   "source": [
    "$\\color{red}{\\text{c)}}$ -  O coeficiente de determinação para o modelo estimado é dado por:\n",
    "\n",
    "$$R^2=\\frac{SQ_{reg}}{SQ_{total}}$$\n",
    "$$R^2=\\frac{1021.1}{1101.6}$$\n",
    "$$R^2=0,9269$$\n",
    "\n",
    "Portanto o modelo estimado explica em 92,69% a variação que é inerente ao processo."
   ]
  },
  {
   "cell_type": "markdown",
   "metadata": {},
   "source": [
    "$\\color{red}{\\text{d)}}$ -  Determine o SSE.\n",
    "\n",
    "De acordo com a tabela da Anova acima o SSE é dado por 80,6"
   ]
  },
  {
   "cell_type": "markdown",
   "metadata": {},
   "source": [
    "$\\color{red}{\\text{e)}}$ - O modelo poderá ser considerado adequado?\n",
    "\n",
    "Os parâmetros estimados para o modelo ($\\beta_0$) e ($\\beta_1$) apresentaram os p-valores menores do que 0,00, indicando que ambos podem ser considerados significativos para o modelo. O modelo estimado apresenta um coeficiente de determinação de 92,69% e uma variância residual de 11.5 em torno da reta média estimada. Ao realizar a ANOVA para a regressão o p-valor associado ao modelo foi igual a zero, nos levando a rejeitarmos a hipótese de não significancia do modelo, ou seja, existem evidencias amostrais ao nível de 95% de confiança que nos garantem que o modelo é significativo."
   ]
  }
 ],
 "metadata": {
  "kernelspec": {
   "display_name": "R",
   "language": "R",
   "name": "ir"
  },
  "language_info": {
   "codemirror_mode": "r",
   "file_extension": ".r",
   "mimetype": "text/x-r-source",
   "name": "R",
   "pygments_lexer": "r",
   "version": "3.6.1"
  }
 },
 "nbformat": 4,
 "nbformat_minor": 4
}
