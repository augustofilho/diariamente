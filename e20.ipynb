{
 "cells": [
  {
   "cell_type": "markdown",
   "metadata": {},
   "source": [
    "# Day 20:30 daily statistics - Residuos P2"
   ]
  },
  {
   "cell_type": "markdown",
   "metadata": {},
   "source": [
    "$\\color{red}{\\text{Exercício 6}}$ - **Retirado do livro: Análise de Modelos de Regressão Linear com Aplicações, de Charnet, Freire, Charnet e Bonvino** Considere o seguinte conjunto de dados:\n",
    "\n",
    "| X      | Y     |\n",
    "|--------|-------|\n",
    "| 10,875 | 71,05 |\n",
    "| 11,000 | 70,59 |\n",
    "| 11,125 | 69,21 |\n",
    "| 11,500 | 68,82 |\n",
    "| 12,000 | 69,24 |\n",
    "| 12,250 | 68,14 |\n",
    "| 12,500 | 67,80 |\n",
    "| 13,750 | 67,03 |\n",
    "| 13,750 | 67,42 |\n",
    "| 14,000 | 66,94 |\n",
    "| 14,500 | 68,80 |\n",
    "| 15,500 | 65,14 |\n",
    "| 16,250 | 64,04 |\n",
    "| 17,000 | 63,98 |\n",
    "| 19,000 | 62,96 |\n",
    "\n",
    "+ a) Ajuste um MRLS de Y em X;\n",
    "+ b) Teste a significância do modelo e calcule o coeficiente de determinação;\n",
    "+ c) Identifique possíveis observações discrepantes;\n",
    "+ d) Verifique a normalidade dos resíduos;\n",
    "+ e) Faça o gráfico dos resíduos padronizados contra os $Y's$ estimados. Comente;\n",
    "+ f) Ajuste outro MRLS de Y em X desconsiderando possíveis observações discrepantes;\n",
    "+ g) Considere a transformação $T=\\frac{1}{Y}$, ajuste um MRLS de T em X, considerando as mesmas observações usadas em (f);\n",
    "+ h) Faça a análise de resíduos do modelo em (g), verificando normalidade;\n",
    "+ i) Repita o item (e) para o modelo em (g);\n",
    "+ j) Compare os três modelos ajustados, com relação a coeficiente de determinação e análise de resíduos."
   ]
  },
  {
   "cell_type": "markdown",
   "metadata": {},
   "source": [
    "$\\color{red}{\\text{a)}}$ **Ajuste um MRLS de Y em X**. O modelo é apresentado a seguir: "
   ]
  },
  {
   "cell_type": "code",
   "execution_count": 1,
   "metadata": {},
   "outputs": [
    {
     "data": {
      "text/plain": [
       "\n",
       "Call:\n",
       "lm(formula = y ~ x, data = dados6)\n",
       "\n",
       "Residuals:\n",
       "    Min      1Q  Median      3Q     Max \n",
       "-0.9356 -0.6013 -0.2886  0.4175  2.1749 \n",
       "\n",
       "Coefficients:\n",
       "            Estimate Std. Error t value Pr(>|t|)    \n",
       "(Intercept) 80.29314    1.31054  61.267  < 2e-16 ***\n",
       "x           -0.94262    0.09451  -9.974 1.85e-07 ***\n",
       "---\n",
       "Signif. codes:  0 '***' 0.001 '**' 0.01 '*' 0.05 '.' 0.1 ' ' 1\n",
       "\n",
       "Residual standard error: 0.859 on 13 degrees of freedom\n",
       "Multiple R-squared:  0.8844,\tAdjusted R-squared:  0.8755 \n",
       "F-statistic: 99.48 on 1 and 13 DF,  p-value: 1.855e-07\n"
      ]
     },
     "metadata": {},
     "output_type": "display_data"
    }
   ],
   "source": [
    "#Entrada de dados\n",
    "x=c(10.875, 11, 11.125, 11.5, 12, 12.25, 12.5, 13.75, 13.75, 14, 14.5, 15.5, 16.25, 17, 19)\n",
    "y=c(71.05, 70.59, 69.21, 68.82, 69.24, 68.14, 67.8, 67.03, 67.42, 66.94, 68.80, 65.14, 64.04, 63.98, 62.96)\n",
    "\n",
    "#Ajustando o modelo aos dados\n",
    "dados6=data.frame(x,y)\n",
    "mod1=lm(y~x,data=dados6)\n",
    "summary(mod1)"
   ]
  },
  {
   "cell_type": "markdown",
   "metadata": {},
   "source": [
    "O modelo estimado é dado por $\\hat{y}=80,29-0.9426X$, sendo considerado significativo para a realização de inferências. "
   ]
  },
  {
   "cell_type": "markdown",
   "metadata": {},
   "source": [
    "$\\color{red}{\\text{b)}}$ **Teste a significância do modelo e calcule o coeficiente de determinação:** Para isso determinaremos a anova para os dados apresentados acima. "
   ]
  },
  {
   "cell_type": "code",
   "execution_count": 2,
   "metadata": {},
   "outputs": [
    {
     "data": {
      "text/html": [
       "<table>\n",
       "<thead><tr><th></th><th scope=col>Df</th><th scope=col>Sum Sq</th><th scope=col>Mean Sq</th><th scope=col>F value</th><th scope=col>Pr(&gt;F)</th></tr></thead>\n",
       "<tbody>\n",
       "\t<tr><th scope=row>x</th><td> 1          </td><td>73.405755   </td><td>73.4057546  </td><td>99.4768     </td><td>1.854825e-07</td></tr>\n",
       "\t<tr><th scope=row>Residuals</th><td>13          </td><td> 9.592939   </td><td> 0.7379184  </td><td>     NA     </td><td>          NA</td></tr>\n",
       "</tbody>\n",
       "</table>\n"
      ],
      "text/latex": [
       "\\begin{tabular}{r|lllll}\n",
       "  & Df & Sum Sq & Mean Sq & F value & Pr(>F)\\\\\n",
       "\\hline\n",
       "\tx &  1           & 73.405755    & 73.4057546   & 99.4768      & 1.854825e-07\\\\\n",
       "\tResiduals & 13           &  9.592939    &  0.7379184   &      NA      &           NA\\\\\n",
       "\\end{tabular}\n"
      ],
      "text/markdown": [
       "\n",
       "| <!--/--> | Df | Sum Sq | Mean Sq | F value | Pr(>F) |\n",
       "|---|---|---|---|---|---|\n",
       "| x |  1           | 73.405755    | 73.4057546   | 99.4768      | 1.854825e-07 |\n",
       "| Residuals | 13           |  9.592939    |  0.7379184   |      NA      |           NA |\n",
       "\n"
      ],
      "text/plain": [
       "          Df Sum Sq    Mean Sq    F value Pr(>F)      \n",
       "x          1 73.405755 73.4057546 99.4768 1.854825e-07\n",
       "Residuals 13  9.592939  0.7379184      NA           NA"
      ]
     },
     "metadata": {},
     "output_type": "display_data"
    }
   ],
   "source": [
    "#Analise de variância para o modelo\n",
    "anova(mod1)"
   ]
  },
  {
   "cell_type": "markdown",
   "metadata": {},
   "source": [
    "Através da análise de variância acima, pode-se concluir que o modelo é significativo para realizar inferências. O cálculo no R para determinar isoladamente o coeficiente de determianção é apresentado a seguir:"
   ]
  },
  {
   "cell_type": "code",
   "execution_count": 3,
   "metadata": {},
   "outputs": [
    {
     "name": "stdout",
     "output_type": "stream",
     "text": [
      "O valor do coeficiente de determinação é dado por 88.44206 % \n"
     ]
    }
   ],
   "source": [
    "cal=summary(mod1)\n",
    "r2=cal$r.squared\n",
    "cat(\"O valor do coeficiente de determinação é dado por\",r2*100,\"%\",\"\\n\")"
   ]
  },
  {
   "cell_type": "markdown",
   "metadata": {},
   "source": [
    "$\\color{red}{\\text{c)}}$ **Identifique possíveis observações discrepantes:** Para isso utilizaremos o *boxplot* para o conjunto de dados"
   ]
  },
  {
   "cell_type": "code",
   "execution_count": 4,
   "metadata": {},
   "outputs": [
    {
     "data": {
      "image/png": "[encoded data removed]",
      "text/plain": [
       "Plot with title \"Variável Y\""
      ]
     },
     "metadata": {},
     "output_type": "display_data"
    }
   ],
   "source": [
    "par(mfrow=c(1,2))\n",
    "boxplot(x,main=\"Variável X\")\n",
    "boxplot(y,main=\"Variável Y\")"
   ]
  },
  {
   "cell_type": "markdown",
   "metadata": {},
   "source": [
    "Após análise dos boxplot acima não foi observado informações discrepantes nos conjuntos de dados X e Y."
   ]
  },
  {
   "cell_type": "markdown",
   "metadata": {},
   "source": [
    "$\\color{red}{\\text{d)}}$ **A normalidade dos resíduos** é apresentada a seguir através do teste de **Shapiro Wilk**:"
   ]
  },
  {
   "cell_type": "code",
   "execution_count": 5,
   "metadata": {},
   "outputs": [
    {
     "data": {
      "text/plain": [
       "\n",
       "\tShapiro-Wilk normality test\n",
       "\n",
       "data:  residuals(mod1)\n",
       "W = 0.87283, p-value = 0.03714\n"
      ]
     },
     "metadata": {},
     "output_type": "display_data"
    }
   ],
   "source": [
    "#Teste de normalidade dos resíduos\n",
    "shapiro.test(residuals(mod1))"
   ]
  },
  {
   "cell_type": "markdown",
   "metadata": {},
   "source": [
    "A formulação para o teste de normalidade usada é apresentada a seguir:\n",
    "\n",
    "$$H_0: \\text{Residuos normalmente distribuidos}$$\n",
    "$$H_1: \\text{Residuos nao normalmente distribuidos}$$"
   ]
  },
  {
   "cell_type": "markdown",
   "metadata": {},
   "source": [
    "Através da análise de Shaprio-Wilk, pode-se concluir que os resíduos não apresentam a suposição de normalidade, visto que o p-valor associado ao teste foi de 0,03714 ficando abaixo do nível de 5% de significância usado para o teste. "
   ]
  },
  {
   "cell_type": "markdown",
   "metadata": {},
   "source": [
    "$\\color{red}{\\text{e)}}$ **Faça o gráfico dos resíduos padronizados contra os Y's estimados**. Comente:"
   ]
  },
  {
   "cell_type": "code",
   "execution_count": 6,
   "metadata": {},
   "outputs": [
    {
     "data": {
      "text/html": [
       "<table>\n",
       "<thead><tr><th scope=col>previstos</th><th scope=col>residuos_padronizados</th></tr></thead>\n",
       "<tbody>\n",
       "\t<tr><td>70.04215  </td><td> 1.2808905</td></tr>\n",
       "\t<tr><td>69.92432  </td><td> 0.8418863</td></tr>\n",
       "\t<tr><td>69.80649  </td><td>-0.7509014</td></tr>\n",
       "\t<tr><td>69.45301  </td><td>-0.7870968</td></tr>\n",
       "\t<tr><td>68.98170  </td><td> 0.3170069</td></tr>\n",
       "\t<tr><td>68.74605  </td><td>-0.7399616</td></tr>\n",
       "\t<tr><td>68.51039  </td><td>-0.8636579</td></tr>\n",
       "\t<tr><td>67.33211  </td><td>-0.3640569</td></tr>\n",
       "\t<tr><td>67.33211  </td><td> 0.1059039</td></tr>\n",
       "\t<tr><td>67.09646  </td><td>-0.1886661</td></tr>\n",
       "\t<tr><td>66.62515  </td><td> 2.6325178</td></tr>\n",
       "\t<tr><td>65.68253  </td><td>-0.6684656</td></tr>\n",
       "\t<tr><td>64.97556  </td><td>-1.1795298</td></tr>\n",
       "\t<tr><td>64.26860  </td><td>-0.3758909</td></tr>\n",
       "\t<tr><td>62.38336  </td><td> 0.8746457</td></tr>\n",
       "</tbody>\n",
       "</table>\n"
      ],
      "text/latex": [
       "\\begin{tabular}{r|ll}\n",
       " previstos & residuos\\_padronizados\\\\\n",
       "\\hline\n",
       "\t 70.04215   &  1.2808905\\\\\n",
       "\t 69.92432   &  0.8418863\\\\\n",
       "\t 69.80649   & -0.7509014\\\\\n",
       "\t 69.45301   & -0.7870968\\\\\n",
       "\t 68.98170   &  0.3170069\\\\\n",
       "\t 68.74605   & -0.7399616\\\\\n",
       "\t 68.51039   & -0.8636579\\\\\n",
       "\t 67.33211   & -0.3640569\\\\\n",
       "\t 67.33211   &  0.1059039\\\\\n",
       "\t 67.09646   & -0.1886661\\\\\n",
       "\t 66.62515   &  2.6325178\\\\\n",
       "\t 65.68253   & -0.6684656\\\\\n",
       "\t 64.97556   & -1.1795298\\\\\n",
       "\t 64.26860   & -0.3758909\\\\\n",
       "\t 62.38336   &  0.8746457\\\\\n",
       "\\end{tabular}\n"
      ],
      "text/markdown": [
       "\n",
       "| previstos | residuos_padronizados |\n",
       "|---|---|\n",
       "| 70.04215   |  1.2808905 |\n",
       "| 69.92432   |  0.8418863 |\n",
       "| 69.80649   | -0.7509014 |\n",
       "| 69.45301   | -0.7870968 |\n",
       "| 68.98170   |  0.3170069 |\n",
       "| 68.74605   | -0.7399616 |\n",
       "| 68.51039   | -0.8636579 |\n",
       "| 67.33211   | -0.3640569 |\n",
       "| 67.33211   |  0.1059039 |\n",
       "| 67.09646   | -0.1886661 |\n",
       "| 66.62515   |  2.6325178 |\n",
       "| 65.68253   | -0.6684656 |\n",
       "| 64.97556   | -1.1795298 |\n",
       "| 64.26860   | -0.3758909 |\n",
       "| 62.38336   |  0.8746457 |\n",
       "\n"
      ],
      "text/plain": [
       "   previstos residuos_padronizados\n",
       "1  70.04215   1.2808905           \n",
       "2  69.92432   0.8418863           \n",
       "3  69.80649  -0.7509014           \n",
       "4  69.45301  -0.7870968           \n",
       "5  68.98170   0.3170069           \n",
       "6  68.74605  -0.7399616           \n",
       "7  68.51039  -0.8636579           \n",
       "8  67.33211  -0.3640569           \n",
       "9  67.33211   0.1059039           \n",
       "10 67.09646  -0.1886661           \n",
       "11 66.62515   2.6325178           \n",
       "12 65.68253  -0.6684656           \n",
       "13 64.97556  -1.1795298           \n",
       "14 64.26860  -0.3758909           \n",
       "15 62.38336   0.8746457           "
      ]
     },
     "metadata": {},
     "output_type": "display_data"
    },
    {
     "data": {
      "image/png": "[encoded data removed]",
      "text/plain": [
       "Plot with title \"Valores Previstos vs Erros Padronizados\""
      ]
     },
     "metadata": {},
     "output_type": "display_data"
    }
   ],
   "source": [
    "#Obtenção dos residuos padronizados pelo comando rstandard\n",
    "residuos_padronizados=rstandard(mod1)\n",
    "\n",
    "#Y previstos\n",
    "previstos=predict(mod1)\n",
    "resultado=cbind(previstos,residuos_padronizados)\n",
    "resultado\n",
    "\n",
    "#Grafico do residuos x previstos\n",
    "plot(resultado,main=\"Valores Previstos vs Erros Padronizados\")\n",
    "abline(h=0,col=\"red\")\n"
   ]
  },
  {
   "cell_type": "markdown",
   "metadata": {},
   "source": [
    "O gráfico dos resíduos versos os valores padronizados não mostram violação da suposição de homogeneidade da variância dos resíduos."
   ]
  },
  {
   "cell_type": "markdown",
   "metadata": {},
   "source": [
    "$\\color{red}{\\text{f)}}$ **Ajuste outro MRLS de Y em X desconsiderando possíveis observações discrepantes**, para esta análise sugou-se que o resíduo padronizado acima da faixa 2 poderia ser obtido através de uma informação discrepante, para isso optou-se por remover a décima primeira informação do conjunto de dados que equivale ao par ordenador (14.5 e 68.80)"
   ]
  },
  {
   "cell_type": "code",
   "execution_count": 7,
   "metadata": {},
   "outputs": [
    {
     "data": {
      "text/plain": [
       "\n",
       "Call:\n",
       "lm(formula = y ~ x, data = dados2n)\n",
       "\n",
       "Residuals:\n",
       "     Min       1Q   Median       3Q      Max \n",
       "-0.71753 -0.49574 -0.09808  0.34330  1.09840 \n",
       "\n",
       "Coefficients:\n",
       "            Estimate Std. Error t value Pr(>|t|)    \n",
       "(Intercept) 80.46053    0.93316   86.22  < 2e-16 ***\n",
       "x           -0.96634    0.06752  -14.31 6.64e-09 ***\n",
       "---\n",
       "Signif. codes:  0 '***' 0.001 '**' 0.01 '*' 0.05 '.' 0.1 ' ' 1\n",
       "\n",
       "Residual standard error: 0.6109 on 12 degrees of freedom\n",
       "Multiple R-squared:  0.9447,\tAdjusted R-squared:   0.94 \n",
       "F-statistic: 204.8 on 1 and 12 DF,  p-value: 6.642e-09\n"
      ]
     },
     "metadata": {},
     "output_type": "display_data"
    }
   ],
   "source": [
    "#Entrada de dados\n",
    "x=c(10.875, 11, 11.125, 11.5, 12, 12.25, 12.5, 13.75, 13.75, 14, 15.5, 16.25, 17, 19)\n",
    "y=c(71.05, 70.59, 69.21, 68.82, 69.24, 68.14, 67.8, 67.03, 67.42, 66.94, 65.14, 64.04, 63.98, 62.96)\n",
    "\n",
    "#Ajustando o modelo aos dados\n",
    "dados2n=data.frame(x,y)\n",
    "mod2=lm(y~x,data=dados2n)\n",
    "summary(mod2)"
   ]
  },
  {
   "cell_type": "markdown",
   "metadata": {},
   "source": [
    "Os novo modelo continua sendo significativo, após a remoção do par ordenado (14,5 e 68,80) o modelo aumentou o coeficiente de determinação passando para 94,47%, tornando-se um modelo mais explicativo para o conjunto de dados em análise."
   ]
  },
  {
   "cell_type": "markdown",
   "metadata": {},
   "source": [
    "$\\color{red}{\\text{g)}}$ **Considere a transformação $T=1/Y$, ajuste um MRLS de T em X, considerando as mesmas observações usadas em (f)**"
   ]
  },
  {
   "cell_type": "code",
   "execution_count": 8,
   "metadata": {},
   "outputs": [
    {
     "data": {
      "text/plain": [
       "\n",
       "Call:\n",
       "lm(formula = T ~ x, data = base3)\n",
       "\n",
       "Residuals:\n",
       "       Min         1Q     Median         3Q        Max \n",
       "-2.068e-04 -8.118e-05  1.431e-05  1.086e-04  1.650e-04 \n",
       "\n",
       "Coefficients:\n",
       "             Estimate Std. Error t value Pr(>|t|)    \n",
       "(Intercept) 1.192e-02  1.886e-04   63.20  < 2e-16 ***\n",
       "x           2.175e-04  1.364e-05   15.94 1.94e-09 ***\n",
       "---\n",
       "Signif. codes:  0 '***' 0.001 '**' 0.01 '*' 0.05 '.' 0.1 ' ' 1\n",
       "\n",
       "Residual standard error: 0.0001234 on 12 degrees of freedom\n",
       "Multiple R-squared:  0.9549,\tAdjusted R-squared:  0.9511 \n",
       "F-statistic: 254.1 on 1 and 12 DF,  p-value: 1.936e-09\n"
      ]
     },
     "metadata": {},
     "output_type": "display_data"
    }
   ],
   "source": [
    "#Ajustando o modelo para a transformação T = 1/Y\n",
    "x=c(10.875, 11, 11.125, 11.5, 12, 12.25, 12.5, 13.75, 13.75, 14, 15.5, 16.25, 17, 19)\n",
    "y=c(71.05, 70.59, 69.21, 68.82, 69.24, 68.14, 67.8, 67.03, 67.42, 66.94, 65.14, 64.04, 63.98, 62.96)\n",
    "T=1/y\n",
    "\n",
    "base3=data.frame(x,T)\n",
    "mod3=lm(T~x,data=base3)\n",
    "summary(mod3)"
   ]
  },
  {
   "cell_type": "markdown",
   "metadata": {},
   "source": [
    "O novo modelo obtido após a transformação dos dados é dado por $\\hat{y}=1.192e-02+2.175e-04X$, sendo considerado um modelo significativo e com coeficiente de determinação ($R^2=95,49$%) maior que os outros modelos obtidos para o mesmo problema. "
   ]
  },
  {
   "cell_type": "markdown",
   "metadata": {},
   "source": [
    "$\\color{red}{\\text{h)}}$ **Faça a análise de resíduos do modelo em (g), verifiando normalidade**"
   ]
  },
  {
   "cell_type": "code",
   "execution_count": 9,
   "metadata": {},
   "outputs": [
    {
     "data": {
      "text/plain": [
       "\n",
       "\tShapiro-Wilk normality test\n",
       "\n",
       "data:  residuals(mod3)\n",
       "W = 0.93604, p-value = 0.37\n"
      ]
     },
     "metadata": {},
     "output_type": "display_data"
    }
   ],
   "source": [
    "#Teste de normalidade\n",
    "shapiro.test(residuals(mod3))"
   ]
  },
  {
   "cell_type": "markdown",
   "metadata": {},
   "source": [
    "O teste de Shapiro-Wilk apresenta um p-valor de 0,37, indicando que a hipótese nula de normalidade não deve ser rejeitada ao nível de 5% de significância, ou seja, os resíduos distribuem-se normalmente. "
   ]
  },
  {
   "cell_type": "markdown",
   "metadata": {},
   "source": [
    "$\\color{red}{\\text{i)}}$ **Repita o item (e) para o modelo em (g)**"
   ]
  },
  {
   "cell_type": "code",
   "execution_count": 10,
   "metadata": {},
   "outputs": [
    {
     "data": {
      "image/png": "[encoded data removed]",
      "text/plain": [
       "Plot with title \"Resíduos Padronizados\""
      ]
     },
     "metadata": {},
     "output_type": "display_data"
    }
   ],
   "source": [
    "#Resíduos padronizados \n",
    "Res_Padronizados=rstandard(mod3)\n",
    "\n",
    "#Valores Previstos\n",
    "Previstos=predict(mod3)\n",
    "\n",
    "#Gráfico\n",
    "plot(Previstos,Res_Padronizados,main=\"Resíduos Padronizados\")\n",
    "abline(h=0,col=\"red\")"
   ]
  },
  {
   "cell_type": "markdown",
   "metadata": {},
   "source": [
    "Os resíduos padronizados não apresentaram quebra dos pressupostos exigidos para o modelo."
   ]
  },
  {
   "cell_type": "markdown",
   "metadata": {},
   "source": [
    "$\\color{red}{\\text{j)}}$ **Compare os três modelos ajustados, com relação a coeficiente de determinação e análise de resíduos**"
   ]
  },
  {
   "cell_type": "code",
   "execution_count": 11,
   "metadata": {},
   "outputs": [
    {
     "data": {
      "text/html": [
       "<table>\n",
       "<thead><tr><th scope=col>R2_mod1</th><th scope=col>R2_mod2</th><th scope=col>R2_mod3</th></tr></thead>\n",
       "<tbody>\n",
       "\t<tr><td>0.8844206</td><td>0.9446556</td><td>0.9549025</td></tr>\n",
       "</tbody>\n",
       "</table>\n"
      ],
      "text/latex": [
       "\\begin{tabular}{lll}\n",
       " R2\\_mod1 & R2\\_mod2 & R2\\_mod3\\\\\n",
       "\\hline\n",
       "\t 0.8844206 & 0.9446556 & 0.9549025\\\\\n",
       "\\end{tabular}\n"
      ],
      "text/markdown": [
       "\n",
       "| R2_mod1 | R2_mod2 | R2_mod3 |\n",
       "|---|---|---|\n",
       "| 0.8844206 | 0.9446556 | 0.9549025 |\n",
       "\n"
      ],
      "text/plain": [
       "     R2_mod1   R2_mod2   R2_mod3  \n",
       "[1,] 0.8844206 0.9446556 0.9549025"
      ]
     },
     "metadata": {},
     "output_type": "display_data"
    }
   ],
   "source": [
    "#Coeficientes de determianção dos modelos\n",
    "resp1=summary(mod1); R2_mod1=resp1$r.squared\n",
    "resp2=summary(mod2); R2_mod2=resp2$r.squared\n",
    "resp3=summary(mod3); R2_mod3=resp3$r.squared\n",
    "cbind(R2_mod1,R2_mod2,R2_mod3)\n"
   ]
  },
  {
   "cell_type": "markdown",
   "metadata": {},
   "source": [
    "O terceiro modelo apresentou o maior coeficiente de determinação, não apresentou violação na análise dos resíduos e poderia ser escolhido para ser utilizado para realizar inferências. "
   ]
  },
  {
   "cell_type": "markdown",
   "metadata": {},
   "source": [
    "$\\color{red}{\\text{Exercício 7}}$ - **Retirado do livro: Análise de Modelos de Regressão Linear com Aplicações, de Charnet, Freire, Charnet e Bonvino** CEm uma agência de correios de uma cidade, o gerente realizou um estudo para relacionar o peso do total de correspondências recebidas por dia com o número efetivo de correspondências. O levantamento feito em 11 dias, apresentou os seguintes dados:\n",
    "\n",
    "| Pesos (Kg) | Correspondências (1.000) |\n",
    "|:----------:|:------------------------:|\n",
    "|     10     |            4,1           |\n",
    "|     35     |            6,5           |\n",
    "|     13     |            3,6           |\n",
    "|     34     |            6,7           |\n",
    "|     21     |            5,2           |\n",
    "|     24     |            5,3           |\n",
    "|     18     |            4,7           |\n",
    "|     29     |            6,3           |\n",
    "|     16     |            4,1           |\n",
    "|     25     |            5,8           |\n",
    "|     20     |            5,4           |\n",
    "\n",
    "+ a) Ajuste um MRLS que explique o número de correspondências em termos do peso total;\n",
    "+ b) Faça as análises usuais para o modelo e calcule o coeficiente de determianção;\n",
    "+ c) Verifique a normalidade dos resíduos;\n",
    "+ d) Faça o gráfico dos resíduos padronizados contra a variável regressora. Comente.\n",
    "+ e) Considere duas transformações $T_1=\\log(Y)$ e $T_2=\\frac{1}{Y}$. Ajuste um MRLS para cada uma das transformações em termos da regressora peso;\n",
    "+ f) Repita os itens (b), (c) e (d) para os dois modelos de (e);\n",
    "+ g) Compare os três gráficos de resíduos comentando-os;\n",
    "+ h) Ajuste um MRLS do número de correspondência em termos do peso ao quadrado, calcule o coeficiente de determinação e compare com o dos outros modelos;\n",
    "+ i) Faça o gráfico dos resíduos padronizados contra a regressora do modelo em (h);\n",
    "+ j) Desconsidere a observação número um do conjunto de dados e repita os itens de (a) a (i). Comente os resultados com os encontrados nesses itens."
   ]
  },
  {
   "cell_type": "markdown",
   "metadata": {},
   "source": [
    "$\\color{red}{\\text{a)}}$ **Ajuste um MRLS que explique o número de correspondências em termos do peso total**"
   ]
  },
  {
   "cell_type": "code",
   "execution_count": 12,
   "metadata": {},
   "outputs": [
    {
     "data": {
      "text/plain": [
       "\n",
       "Call:\n",
       "lm(formula = corres ~ pesos, data = model1)\n",
       "\n",
       "Residuals:\n",
       "     Min       1Q   Median       3Q      Max \n",
       "-0.51122 -0.22949  0.02007  0.22631  0.43254 \n",
       "\n",
       "Coefficients:\n",
       "            Estimate Std. Error t value Pr(>|t|)    \n",
       "(Intercept)  2.52107    0.29891   8.434 1.45e-05 ***\n",
       "pesos        0.12232    0.01268   9.647 4.82e-06 ***\n",
       "---\n",
       "Signif. codes:  0 '***' 0.001 '**' 0.01 '*' 0.05 '.' 0.1 ' ' 1\n",
       "\n",
       "Residual standard error: 0.3248 on 9 degrees of freedom\n",
       "Multiple R-squared:  0.9118,\tAdjusted R-squared:  0.902 \n",
       "F-statistic: 93.06 on 1 and 9 DF,  p-value: 4.823e-06\n"
      ]
     },
     "metadata": {},
     "output_type": "display_data"
    }
   ],
   "source": [
    "#Entrando com os dados\n",
    "pesos=c(10,35,13,34,21,24,18,29,16,25,20)\n",
    "corres=c(4.1,6.5,3.6,6.7,5.2,5.3,4.7,6.3,4.1,5.8,5.4)\n",
    "model1=data.frame(pesos,corres)\n",
    "\n",
    "#Ajuste do modelo 1\n",
    "modelo1=lm(corres~pesos,data=model1)\n",
    "summary(modelo1)"
   ]
  },
  {
   "cell_type": "markdown",
   "metadata": {},
   "source": [
    "O modelo estimado é dado por $\\hat{y}=2,52107+0,12232X$, indicando que para cada aumento no peso em uma unidade o número de correspondência aumenta em 0,12232. O modelo estimado é significativo para a realização de inferências."
   ]
  },
  {
   "cell_type": "markdown",
   "metadata": {},
   "source": [
    "$\\color{red}{\\text{b)}}$ **Faça as análises usuais para o modelo e calcule o coeficiente de determinação:** O modelo possui parâmetros significativos, além de ser significativo para a realização de inferências. Ainda é possível dizer que o peso explica em 91,18% do valor do número de correspondência. Além disso, $\\hat{\\sigma}=0,3248$, indicando uma variação em torno de 0,32 em torno da reta estimada."
   ]
  },
  {
   "cell_type": "code",
   "execution_count": 13,
   "metadata": {},
   "outputs": [
    {
     "name": "stdout",
     "output_type": "stream",
     "text": [
      "Um dos cálculos do coeficiente de determinação é apresentado acima e o valor encontrado é 91.18 % , uma outra maneira é determinar o quadrado da correlação 0.9548912  dado por \n",
      "cor^2 sendo igual a 0.9118172"
     ]
    }
   ],
   "source": [
    "#Cálculo do coeficiente de determinação para o modelo1\n",
    "mod1=summary(modelo1)\n",
    "R2_mod1=mod1$r.squared;\n",
    "cat(\"Um dos cálculos do coeficiente de determinação é apresentado acima e o valor encontrado é\",round(R2_mod1*100,2),\"%\",\", uma outra maneira é determinar o quadrado da correlação\",cor(pesos,corres),\" dado por \n",
    "cor^2 sendo igual a\",cor(pesos,corres)^2)"
   ]
  },
  {
   "cell_type": "markdown",
   "metadata": {},
   "source": [
    "$\\color{red}{\\text{c)}}$ **Verifique a normalidade dos resíduos**"
   ]
  },
  {
   "cell_type": "code",
   "execution_count": 14,
   "metadata": {},
   "outputs": [
    {
     "data": {
      "text/plain": [
       "\n",
       "\tShapiro-Wilk normality test\n",
       "\n",
       "data:  residuals(modelo1)\n",
       "W = 0.96234, p-value = 0.8006\n"
      ]
     },
     "metadata": {},
     "output_type": "display_data"
    }
   ],
   "source": [
    "#Teste de Normalidade dos resíduos estimados\n",
    "shapiro.test(residuals(modelo1))"
   ]
  },
  {
   "cell_type": "markdown",
   "metadata": {},
   "source": [
    "Através do teste de **Shapiro-Wilk**, constatou-se que os resíduos distribuiem-se normalmente. A hipótese testada é apresentada a seguir:\n",
    "\n",
    "$$H_0: Normal$$\n",
    "$$H_1: \\text{Outra distribuicao}$$\n",
    "\n",
    "Portanto, visto que o p-valor=0,8006, não existem evidências amostrais suficientes ao nível de 5% de significância que nos levem a rejeição da hipótese nula, ou seja, os resíduos distribuem-se normalmente."
   ]
  },
  {
   "cell_type": "markdown",
   "metadata": {},
   "source": [
    "$\\color{red}{\\text{d)}}$ **Faça o gráfico dos resíduos padronizados contra a variável regressora**"
   ]
  },
  {
   "cell_type": "code",
   "execution_count": 15,
   "metadata": {},
   "outputs": [
    {
     "data": {
      "image/png": "[encoded data removed]",
      "text/plain": [
       "Plot with title \"Resíduos padronizados vs Y's Estimados\""
      ]
     },
     "metadata": {},
     "output_type": "display_data"
    }
   ],
   "source": [
    "#Residuos padronizados\n",
    "residuos1=rstandard(modelo1)\n",
    "prev1=predict(modelo1)\n",
    "\n",
    "#Gráfico\n",
    "plot(prev1,residuos1,main=\"Resíduos padronizados vs Y's Estimados\")\n",
    "abline(h=0,col=\"red\")"
   ]
  },
  {
   "cell_type": "markdown",
   "metadata": {},
   "source": [
    "O gráfico dos resíduos padronizados versus a variável regressora estimada não apresenta violação das pressuposições básicas (falta de constância da variância)."
   ]
  },
  {
   "cell_type": "markdown",
   "metadata": {},
   "source": [
    "$\\color{red}{\\text{e)}}$ **Considere duas transformações $T_1=\\log(Y)$ e $T_2=\\frac{1}{Y}$, ajuste um MRLS para cada uma das transformações em termos da regressora peso.**"
   ]
  },
  {
   "cell_type": "code",
   "execution_count": 16,
   "metadata": {},
   "outputs": [
    {
     "data": {
      "text/plain": [
       "\n",
       "Call:\n",
       "lm(formula = T1 ~ pesos, data = model2)\n",
       "\n",
       "Residuals:\n",
       "     Min       1Q   Median       3Q      Max \n",
       "-0.13734 -0.04238  0.01044  0.04815  0.10174 \n",
       "\n",
       "Coefficients:\n",
       "            Estimate Std. Error t value Pr(>|t|)    \n",
       "(Intercept) 1.109258   0.069362  15.992 6.46e-08 ***\n",
       "pesos       0.023770   0.002942   8.079 2.05e-05 ***\n",
       "---\n",
       "Signif. codes:  0 '***' 0.001 '**' 0.01 '*' 0.05 '.' 0.1 ' ' 1\n",
       "\n",
       "Residual standard error: 0.07537 on 9 degrees of freedom\n",
       "Multiple R-squared:  0.8788,\tAdjusted R-squared:  0.8653 \n",
       "F-statistic: 65.27 on 1 and 9 DF,  p-value: 2.047e-05\n"
      ]
     },
     "metadata": {},
     "output_type": "display_data"
    }
   ],
   "source": [
    "#Entrando com os dados\n",
    "pesos=c(10,35,13,34,21,24,18,29,16,25,20)\n",
    "corres=c(4.1,6.5,3.6,6.7,5.2,5.3,4.7,6.3,4.1,5.8,5.4)\n",
    "T1=log(corres)\n",
    "model2=data.frame(pesos,T1)\n",
    "\n",
    "#Ajuste do modelo 2\n",
    "modelo2=lm(T1~pesos,data=model2)\n",
    "summary(modelo2)"
   ]
  },
  {
   "cell_type": "markdown",
   "metadata": {},
   "source": [
    "O modelo 2 apresenta a seguinte equação de regressão estimada $\\hat{y}=1,1092+0,023X$ com um coeficiente de determinação de 87,88%"
   ]
  },
  {
   "cell_type": "code",
   "execution_count": 17,
   "metadata": {},
   "outputs": [
    {
     "data": {
      "text/plain": [
       "\n",
       "Call:\n",
       "lm(formula = T2 ~ pesos, data = model3)\n",
       "\n",
       "Residuals:\n",
       "      Min        1Q    Median        3Q       Max \n",
       "-0.023626 -0.011976 -0.005499  0.011273  0.035881 \n",
       "\n",
       "Coefficients:\n",
       "             Estimate Std. Error t value Pr(>|t|)    \n",
       "(Intercept)  0.303341   0.016643  18.226 2.06e-08 ***\n",
       "pesos       -0.004726   0.000706  -6.695 8.91e-05 ***\n",
       "---\n",
       "Signif. codes:  0 '***' 0.001 '**' 0.01 '*' 0.05 '.' 0.1 ' ' 1\n",
       "\n",
       "Residual standard error: 0.01809 on 9 degrees of freedom\n",
       "Multiple R-squared:  0.8328,\tAdjusted R-squared:  0.8142 \n",
       "F-statistic: 44.82 on 1 and 9 DF,  p-value: 8.908e-05\n"
      ]
     },
     "metadata": {},
     "output_type": "display_data"
    }
   ],
   "source": [
    "#Terceiro modelo de regressão\n",
    "\n",
    "T2=1/(corres)\n",
    "model3=data.frame(pesos,T2)\n",
    "\n",
    "#Ajuste do modelo 3\n",
    "modelo3=lm(T2~pesos,data=model3)\n",
    "summary(modelo3)\n"
   ]
  },
  {
   "cell_type": "markdown",
   "metadata": {},
   "source": [
    "O terceiro modelo é dado por $\\hat{y}=0,303341-0,004726X$ com um coeficiente de determinação dado por $R^2=83,28\\%$. "
   ]
  },
  {
   "cell_type": "markdown",
   "metadata": {},
   "source": [
    "$\\color{red}{\\text{f)}}$ **Repita os itens (b), (c) e (d) para os dois modelos de (e)**\n",
    "\n",
    "Para o modelo $T1=\\log(Y)$, temos:"
   ]
  },
  {
   "cell_type": "code",
   "execution_count": 18,
   "metadata": {},
   "outputs": [
    {
     "name": "stdout",
     "output_type": "stream",
     "text": [
      "O coeficiente de determinação para o modelo T1 é 87.88 %"
     ]
    }
   ],
   "source": [
    "#Calcule o coeficiente de determinação para o modelo T1\n",
    "mod_T1=summary(modelo2)\n",
    "R2_T1=mod_T1$r.squared\n",
    "cat(\"O coeficiente de determinação para o modelo T1 é\",round(R2_T1*100,2),\"%\")"
   ]
  },
  {
   "cell_type": "markdown",
   "metadata": {},
   "source": [
    "O modelo T1 é dado por $\\hat{y}=1,10+0,023X$, indicando que para cada aumento de uma unidade no peso o número de correspondência aumenta em média 0,023. O modelo estimado para T1 é considerado significativo para a realização de inferências."
   ]
  },
  {
   "cell_type": "code",
   "execution_count": 19,
   "metadata": {},
   "outputs": [
    {
     "name": "stdout",
     "output_type": "stream",
     "text": [
      "O coeficiente de determinação para o modelo T2 é 83.28 %"
     ]
    }
   ],
   "source": [
    "#Calcule o coeficiente de determinação para o modelo T2\n",
    "modelo3=lm(T2~pesos,data=model3)\n",
    "mod_T2=summary(modelo3)\n",
    "R2_T2=mod_T2$r.squared\n",
    "cat(\"O coeficiente de determinação para o modelo T2 é\",round(R2_T2*100,2),\"%\")"
   ]
  },
  {
   "cell_type": "markdown",
   "metadata": {},
   "source": [
    "O modelo T2 apresenta coeficientes significativos e coeficiente de determinação de 83,28%, indicando que a taxa de pesos explica em 83,28% o número de correspondência atribuida ao modelo T2. "
   ]
  },
  {
   "cell_type": "markdown",
   "metadata": {},
   "source": [
    "A normalidade dos resíduos para o modelo T1 e T2 são apresentadas abaixo:"
   ]
  },
  {
   "cell_type": "code",
   "execution_count": 20,
   "metadata": {},
   "outputs": [
    {
     "data": {
      "text/plain": [
       "\n",
       "\tShapiro-Wilk normality test\n",
       "\n",
       "data:  residuals(modelo2)\n",
       "W = 0.95522, p-value = 0.7109\n"
      ]
     },
     "metadata": {},
     "output_type": "display_data"
    }
   ],
   "source": [
    "#normalidade para o modelo T1\n",
    "shapiro.test(residuals(modelo2))"
   ]
  },
  {
   "cell_type": "markdown",
   "metadata": {},
   "source": [
    "O teste de Shapiro-Wilk informa que os resíduos para o modelo T1 distribui-se normalmente, visto que o p-valor associado ao teste não rejeita a hipótese nula de normalidade nos resíduos. O mesmo teste é apresentado para o modelo T2:"
   ]
  },
  {
   "cell_type": "code",
   "execution_count": 21,
   "metadata": {},
   "outputs": [
    {
     "data": {
      "text/plain": [
       "\n",
       "\tShapiro-Wilk normality test\n",
       "\n",
       "data:  residuals(modelo3)\n",
       "W = 0.93102, p-value = 0.4212\n"
      ]
     },
     "metadata": {},
     "output_type": "display_data"
    }
   ],
   "source": [
    "#Teste de normalidade para o modelo T2\n",
    "shapiro.test(residuals(modelo3))"
   ]
  },
  {
   "cell_type": "markdown",
   "metadata": {},
   "source": [
    "O teste de Shapiro-Wilk não rejeita a hipótese nula associada a normalidade dos resíduos, visto que o p-valor associado ao teste é de 0,4212, ou seja, os resíduos para o modelo T2 distribui-se normalmente."
   ]
  },
  {
   "cell_type": "markdown",
   "metadata": {},
   "source": [
    "O gráfico dos resíduos padronizados dos modelos T1 e T2 são apresentados abaixo:"
   ]
  },
  {
   "cell_type": "code",
   "execution_count": 22,
   "metadata": {},
   "outputs": [
    {
     "data": {
      "image/png": "[encoded data removed]",
      "text/plain": [
       "Plot with title \"Resíduos vs Y's para T2\""
      ]
     },
     "metadata": {},
     "output_type": "display_data"
    }
   ],
   "source": [
    "#Resíduos padronizados para o modelo T1\n",
    "res_T1=rstandard(modelo2)\n",
    "pre_T1=predict(modelo2)\n",
    "\n",
    "#Resíduos padronizados para o modelo T2\n",
    "res_T2=rstandard(modelo3)\n",
    "pre_T2=predict(modelo3)\n",
    "\n",
    "#Agrupando os gráficos\n",
    "par(mfrow=c(1,2))\n",
    "plot(pre_T1,res_T1,main=\"Resíduos vs Y's para T1\",xlab=\"Valores Previstos\",ylab=\"Resíduos Padronizados\")\n",
    "abline(h=0,col=\"red\")\n",
    "plot(pre_T2,res_T2,main=\"Resíduos vs Y's para T2\",xlab=\"Valores Previstos\",ylab=\"Resíduos Padronizados\")\n",
    "abline(h=0,col=\"red\")"
   ]
  },
  {
   "cell_type": "markdown",
   "metadata": {},
   "source": [
    "$\\color{red}{\\text{g)}}$ **Compare os três gráficos de resíduos comentando-os:** Os três gráficos não apresentam quebra da suposição de variância constante nos resíduos."
   ]
  },
  {
   "cell_type": "markdown",
   "metadata": {},
   "source": [
    "$\\color{red}{\\text{h)}}$ **Ajuste um MRLS do número de correspondência em termos do peso ao quadrado, calcule o coeficiente de determinação e compare com o dos outros modelos**"
   ]
  },
  {
   "cell_type": "code",
   "execution_count": 23,
   "metadata": {},
   "outputs": [
    {
     "data": {
      "text/plain": [
       "\n",
       "Call:\n",
       "lm(formula = corres ~ pq, data = dados4)\n",
       "\n",
       "Residuals:\n",
       "     Min       1Q   Median       3Q      Max \n",
       "-0.65712 -0.22950  0.01922  0.28662  0.55253 \n",
       "\n",
       "Coefficients:\n",
       "             Estimate Std. Error t value Pr(>|t|)    \n",
       "(Intercept) 3.8252111  0.2189175  17.473 2.98e-08 ***\n",
       "pq          0.0025556  0.0003304   7.736 2.89e-05 ***\n",
       "---\n",
       "Signif. codes:  0 '***' 0.001 '**' 0.01 '*' 0.05 '.' 0.1 ' ' 1\n",
       "\n",
       "Residual standard error: 0.3955 on 9 degrees of freedom\n",
       "Multiple R-squared:  0.8693,\tAdjusted R-squared:  0.8547 \n",
       "F-statistic: 59.84 on 1 and 9 DF,  p-value: 2.892e-05\n"
      ]
     },
     "metadata": {},
     "output_type": "display_data"
    }
   ],
   "source": [
    "#Entrando com os dados\n",
    "pesos=c(10,35,13,34,21,24,18,29,16,25,20)\n",
    "corres=c(4.1,6.5,3.6,6.7,5.2,5.3,4.7,6.3,4.1,5.8,5.4)\n",
    "pq=pesos^2\n",
    "\n",
    "dados4=data.frame(corres,pq)\n",
    "modelo4=lm(corres~pq,data=dados4)\n",
    "summary(modelo4)"
   ]
  },
  {
   "cell_type": "markdown",
   "metadata": {},
   "source": [
    "O coeficiente de determinação para o novo modelo é de 86,93%.  Uma comparação entre os três modelos anteriores é apresentada a seguir:"
   ]
  },
  {
   "cell_type": "code",
   "execution_count": 24,
   "metadata": {},
   "outputs": [
    {
     "data": {
      "text/html": [
       "<table>\n",
       "<thead><tr><th scope=col>R2_T</th><th scope=col>R2_T1</th><th scope=col>R2_T2</th><th scope=col>R2_T3</th></tr></thead>\n",
       "<tbody>\n",
       "\t<tr><td>0.9118172</td><td>0.8788126</td><td>0.8327717</td><td>0.8692678</td></tr>\n",
       "</tbody>\n",
       "</table>\n"
      ],
      "text/latex": [
       "\\begin{tabular}{r|llll}\n",
       " R2\\_T & R2\\_T1 & R2\\_T2 & R2\\_T3\\\\\n",
       "\\hline\n",
       "\t 0.9118172 & 0.8788126 & 0.8327717 & 0.8692678\\\\\n",
       "\\end{tabular}\n"
      ],
      "text/markdown": [
       "\n",
       "| R2_T | R2_T1 | R2_T2 | R2_T3 |\n",
       "|---|---|---|---|\n",
       "| 0.9118172 | 0.8788126 | 0.8327717 | 0.8692678 |\n",
       "\n"
      ],
      "text/plain": [
       "  R2_T      R2_T1     R2_T2     R2_T3    \n",
       "1 0.9118172 0.8788126 0.8327717 0.8692678"
      ]
     },
     "metadata": {},
     "output_type": "display_data"
    }
   ],
   "source": [
    "#Comparação entre os coeficientes de determinação\n",
    "mod_T=summary(modelo1);  R2_T=mod_T$r.squared\n",
    "mod_T1=summary(modelo2); R2_T1=mod_T1$r.squared\n",
    "mod_T2=summary(modelo3); R2_T2=mod_T2$r.squared\n",
    "mod_T3=summary(modelo4); R2_T3=mod_T3$r.squared\n",
    "resposta_final=data.frame(R2_T,R2_T1,R2_T2,R2_T3)\n",
    "resposta_final\n",
    "\n"
   ]
  },
  {
   "cell_type": "markdown",
   "metadata": {},
   "source": [
    "Ao analisar os coeficientes de determinação é possível perceber que o maior coeficiente é o associado ao primeiro modelo."
   ]
  },
  {
   "cell_type": "markdown",
   "metadata": {},
   "source": [
    "$\\color{red}{\\text{i)}}$ **Faça o gráfico dos resíduos padronizados contra a regressora do modelo em (h)**"
   ]
  },
  {
   "cell_type": "code",
   "execution_count": 25,
   "metadata": {},
   "outputs": [
    {
     "data": {
      "image/png": "[encoded data removed]",
      "text/plain": [
       "Plot with title \"Gráfico dos Resíduos vs Previstos\""
      ]
     },
     "metadata": {},
     "output_type": "display_data"
    }
   ],
   "source": [
    "res4=rstandard(modelo4)\n",
    "prev4=predict(modelo4)\n",
    "plot(prev4,res4,main=\"Gráfico dos Resíduos vs Previstos\",xlab=\"Valores Previstos\",ylab=\"Resíduos Padronizados\")\n",
    "abline(h=0,col=\"red\")"
   ]
  },
  {
   "cell_type": "markdown",
   "metadata": {},
   "source": [
    "$\\color{red}{\\text{j)}}$ **Desconsidere a observação número um do conjunto de dados e repita os itens de (a) a (i). Comente os resultados com os encontrados nesse itens.**"
   ]
  },
  {
   "cell_type": "code",
   "execution_count": 26,
   "metadata": {},
   "outputs": [
    {
     "data": {
      "text/plain": [
       "\n",
       "Call:\n",
       "lm(formula = corres ~ pq, data = dados4)\n",
       "\n",
       "Residuals:\n",
       "     Min       1Q   Median       3Q      Max \n",
       "-0.65173 -0.30159  0.02788  0.30686  0.55606 \n",
       "\n",
       "Coefficients:\n",
       "             Estimate Std. Error t value Pr(>|t|)    \n",
       "(Intercept) 3.8184781  0.2653011  14.393 5.31e-07 ***\n",
       "pq          0.0025636  0.0003821   6.709 0.000151 ***\n",
       "---\n",
       "Signif. codes:  0 '***' 0.001 '**' 0.01 '*' 0.05 '.' 0.1 ' ' 1\n",
       "\n",
       "Residual standard error: 0.4194 on 8 degrees of freedom\n",
       "Multiple R-squared:  0.8491,\tAdjusted R-squared:  0.8302 \n",
       "F-statistic: 45.01 on 1 and 8 DF,  p-value: 0.0001513\n"
      ]
     },
     "metadata": {},
     "output_type": "display_data"
    }
   ],
   "source": [
    "#Entrando com os dados\n",
    "pesos=c(35,13,34,21,24,18,29,16,25,20)\n",
    "corres=c(6.5,3.6,6.7,5.2,5.3,4.7,6.3,4.1,5.8,5.4)\n",
    "pq=pesos^2\n",
    "\n",
    "dados4=data.frame(corres,pq)\n",
    "modelo4=lm(corres~pq,data=dados4)\n",
    "summary(modelo4)"
   ]
  },
  {
   "cell_type": "markdown",
   "metadata": {},
   "source": [
    "Após a exclusão da primeira observação o novo modelo é dado por $\\hat{y}=3,81+0,0025X$, indicando que para cada aumento de uma unidade no quadrado do peso o número de correspondência irá crescer em média 0,0025. O coeficiente de determinação associado ao modelo é de 84,91%."
   ]
  },
  {
   "cell_type": "markdown",
   "metadata": {},
   "source": [
    "$\\color{red}{\\text{Exercício 8}}$ - **Retirado do livro: Análise de Modelos de Regressão Linear com Aplicações, de Charnet, Freire, Charnet e Bonvino** Em um estudo sobre o efeito do carbono (em %) contido em fios de aço utilizados em resistências elétricas, nessas resistências (em $\\mu$ ohms cm a 20C), foram observados os seguintes resultados.\n",
    "\n",
    "| Carbono Contido | Resistência | Carbono Contido | Resistência |\n",
    "|:---------------:|:-----------:|:---------------:|:-----------:|\n",
    "|       0,05      |     12,3    |       0,55      |     21,2    |\n",
    "|       0,10      |     15,0    |       0,60      |     21,9    |\n",
    "|       0,15      |     15,7    |       0,70      |     22,6    |\n",
    "|       0,20      |     16,2    |       0,80      |     23,8    |\n",
    "|       0,25      |     17,1    |       0,85      |     24,2    |\n",
    "|       0,30      |     18,0    |       0,90      |     24,2    |\n",
    "|       0,40      |     19,2    |       0,95      |     26,0    |\n",
    "|       0,50      |     20,4    |                 |             |\n",
    "\n",
    "+ a) Ajuste um MRLS que relacione o carbono contido com a resistência\n",
    "+ b) Encontre o coeficiente de determinação\n",
    "+ c) Construa o gráfico de resíduos e analise-o."
   ]
  },
  {
   "cell_type": "code",
   "execution_count": 27,
   "metadata": {},
   "outputs": [],
   "source": [
    "#Entrando com os dados\n",
    "c1=seq(0.05,0.25,by=0.05); c2=seq(0.30,0.50,by=0.10); c3=seq(0.60,0.80,by=0.10); c4=seq(0.85,0.95,by=0.05)\n",
    "carbono=rep(c(c1,c2,0.55,c3,c4),each=1); \n",
    "\n",
    "resis=c(12.3, 15, 15.7, 16.2, 17.1, 18, 19.2, 20.4, 21.2, 21.9,22.6, 23.8, 24.2, 25.3, 26)\n",
    "base8=data.frame(carbono,resis)"
   ]
  },
  {
   "cell_type": "markdown",
   "metadata": {},
   "source": [
    "$\\color{red}{\\text{a)}}$ **Ajuste um MRLS que relacione o carbono contido com a resistência**"
   ]
  },
  {
   "cell_type": "code",
   "execution_count": 28,
   "metadata": {},
   "outputs": [
    {
     "data": {
      "text/plain": [
       "\n",
       "Call:\n",
       "lm(formula = resis ~ carbono, data = base8)\n",
       "\n",
       "Residuals:\n",
       "    Min      1Q  Median      3Q     Max \n",
       "-1.8036 -0.1550  0.2296  0.3791  0.5626 \n",
       "\n",
       "Coefficients:\n",
       "            Estimate Std. Error t value Pr(>|t|)    \n",
       "(Intercept)  13.4368     0.3070   43.77 1.68e-15 ***\n",
       "carbono      13.3353     0.5391   24.74 2.56e-12 ***\n",
       "---\n",
       "Signif. codes:  0 '***' 0.001 '**' 0.01 '*' 0.05 '.' 0.1 ' ' 1\n",
       "\n",
       "Residual standard error: 0.6175 on 13 degrees of freedom\n",
       "Multiple R-squared:  0.9792,\tAdjusted R-squared:  0.9776 \n",
       "F-statistic:   612 on 1 and 13 DF,  p-value: 2.559e-12\n"
      ]
     },
     "metadata": {},
     "output_type": "display_data"
    }
   ],
   "source": [
    "ajuste8=lm(resis~carbono,data=base8)\n",
    "summary(ajuste8)"
   ]
  },
  {
   "cell_type": "markdown",
   "metadata": {},
   "source": [
    "O modelo estimado é dado por $\\hat{y}=13,43+13,33X$, indicando que a cada aumento no carbono de uma unidade a resistência irá aumentar em média 13,33."
   ]
  },
  {
   "cell_type": "markdown",
   "metadata": {},
   "source": [
    "$\\color{red}{\\text{b)}}$ **Encontre o coeficiente de determinação** \n",
    "\n",
    "Neste caso, iremos determinar o coeficiente de determinação através da seguinte relação:\n",
    "\n",
    "$$R^2=cor(x,y)^2$$\n",
    "\n",
    "Portanto, iremos determinar o valor da correlação linear entre as variáveis carbono e resistência para determinar o coeficiente de determinação em seguida."
   ]
  },
  {
   "cell_type": "code",
   "execution_count": 29,
   "metadata": {},
   "outputs": [
    {
     "name": "stdout",
     "output_type": "stream",
     "text": [
      "Portanto, o coeficiente de determinação é 97.92 %"
     ]
    }
   ],
   "source": [
    "#Cálculo da correlação linear entre carbono e resistência\n",
    "R2=cor(carbono,resis)^2\n",
    "cat(\"Portanto, o coeficiente de determinação é\",round(R2*100,2),\"%\")"
   ]
  },
  {
   "cell_type": "markdown",
   "metadata": {},
   "source": [
    "$\\color{red}{\\text{c)}}$ **Construa o gráfico de resíduos e analise-o**"
   ]
  },
  {
   "cell_type": "code",
   "execution_count": 30,
   "metadata": {},
   "outputs": [
    {
     "data": {
      "image/png": "[encoded data removed]",
      "text/plain": [
       "Plot with title \"\""
      ]
     },
     "metadata": {},
     "output_type": "display_data"
    }
   ],
   "source": [
    "par(mfrow=c(2,2))\n",
    "plot(ajuste8)"
   ]
  },
  {
   "cell_type": "markdown",
   "metadata": {},
   "source": [
    "O gráfico dos resíduos padronizados versus valores previstos não apresentam quebra do pressuposto de homocedasticidade da variância dos resíduos. No entanto, o gráfico de normalidade dos resíduos apresenta sinais de quebra do pressuposto de normalidade dos resíduos. Dois testes estatísticos serão apresentados a seguir para validar essa afirmação. O primeiro teste será o teste de Brusch-Pagan que verifica a presença de variância constante nos resíduos (homocedasticidade) e o segundo teste (Shapiro Wilks), verificará a presença de normalidade dos resíduos."
   ]
  },
  {
   "cell_type": "code",
   "execution_count": 31,
   "metadata": {},
   "outputs": [
    {
     "name": "stderr",
     "output_type": "stream",
     "text": [
      "Loading required package: lmtest\n",
      "Warning message:\n",
      "\"package 'lmtest' was built under R version 3.6.3\"Loading required package: zoo\n",
      "Warning message:\n",
      "\"package 'zoo' was built under R version 3.6.3\"\n",
      "Attaching package: 'zoo'\n",
      "\n",
      "The following objects are masked from 'package:base':\n",
      "\n",
      "    as.Date, as.Date.numeric\n",
      "\n"
     ]
    },
    {
     "data": {
      "text/plain": [
       "\n",
       "\tstudentized Breusch-Pagan test\n",
       "\n",
       "data:  ajuste8\n",
       "BP = 2.2836, df = 1, p-value = 0.1307\n"
      ]
     },
     "metadata": {},
     "output_type": "display_data"
    }
   ],
   "source": [
    "#Teste de Homocedasticidade dos resíduos\n",
    "require(lmtest)\n",
    "bptest(ajuste8)"
   ]
  },
  {
   "cell_type": "markdown",
   "metadata": {},
   "source": [
    "Portanto, conforme foi visto no gráfico dos resíduos padronizados versus valores previstos, não é possível rejeitarmos a hipótese de homocedasticidade da variância dos resíduos, ou seja, os resíduos são homocedasticos (variância constantes). O próximo teste irá verificar a normalidade dos dados:"
   ]
  },
  {
   "cell_type": "code",
   "execution_count": 32,
   "metadata": {},
   "outputs": [
    {
     "data": {
      "text/plain": [
       "\n",
       "\tShapiro-Wilk normality test\n",
       "\n",
       "data:  residuals(ajuste8)\n",
       "W = 0.77662, p-value = 0.001871\n"
      ]
     },
     "metadata": {},
     "output_type": "display_data"
    }
   ],
   "source": [
    "shapiro.test(residuals(ajuste8))"
   ]
  },
  {
   "cell_type": "markdown",
   "metadata": {},
   "source": [
    "Portanto, neste caso, observa-se um p-valor inferior a 5%, indicando que a hipótese nula que afirma que os resíduos possuem um comportamento normal será rejeitada ao nível de 5% de significância."
   ]
  },
  {
   "cell_type": "markdown",
   "metadata": {},
   "source": [
    "$\\color{red}{\\text{Exercício 9}}$ - **Retirado do livro: Análise de Modelos de Regressão Linear com Aplicações, de Charnet, Freire, Charnet e Bonvino** Em uma grande empresa, a taxa de acidentes de trabalho, por milhão de horas/homem de exposição ao risco, nos últimos nove anos, foram as seguintes:\n",
    "\n",
    "|  Ano | 1989 | 1990 | 1991 | 1992 | 1993 | 1994 | 1995 | 1996 | 1997 |\n",
    "|:----:|:----:|:----:|:----:|:----:|:----:|:----:|:----:|:----:|:----:|\n",
    "| Taxa | 4,75 | 4,58 | 4,34 | 6,20 | 6,09 | 6,30 | 6,51 | 5,88 | 6,55 |\n",
    "\n",
    "+ a) Estime o MRLS que relaciona a taxa com o ano;\n",
    "+ b) Calcule os resíduos padronizados do modelo ajustado;\n",
    "+ c) Construa os gráficos de resíduos e analise-os."
   ]
  },
  {
   "cell_type": "markdown",
   "metadata": {},
   "source": [
    "$\\color{red}{\\text{a)}}$ **O modelo estimado é apresentado a seguir:**"
   ]
  },
  {
   "cell_type": "code",
   "execution_count": 33,
   "metadata": {},
   "outputs": [
    {
     "data": {
      "text/plain": [
       "\n",
       "Call:\n",
       "lm(formula = taxa ~ ano, data = dados9)\n",
       "\n",
       "Residuals:\n",
       "     Min       1Q   Median       3Q      Max \n",
       "-0.83089 -0.33189  0.09711  0.35211  0.77011 \n",
       "\n",
       "Coefficients:\n",
       "              Estimate Std. Error t value Pr(>|t|)   \n",
       "(Intercept) -510.49811  142.71462  -3.577  0.00901 **\n",
       "ano            0.25900    0.07161   3.617  0.00855 **\n",
       "---\n",
       "Signif. codes:  0 '***' 0.001 '**' 0.01 '*' 0.05 '.' 0.1 ' ' 1\n",
       "\n",
       "Residual standard error: 0.5547 on 7 degrees of freedom\n",
       "Multiple R-squared:  0.6514,\tAdjusted R-squared:  0.6016 \n",
       "F-statistic: 13.08 on 1 and 7 DF,  p-value: 0.008545\n"
      ]
     },
     "metadata": {},
     "output_type": "display_data"
    }
   ],
   "source": [
    "#Entrando com os dados\n",
    "ano=seq(1989,1997,by=1)\n",
    "taxa=c(4.75, 4.58, 4.34, 6.20, 6.09, 6.3, 6.51, 5.88, 6.55)\n",
    "\n",
    "dados9=data.frame(ano,taxa)\n",
    "ajuste9=lm(taxa~ano,data=dados9)\n",
    "summary(ajuste9)"
   ]
  },
  {
   "cell_type": "markdown",
   "metadata": {},
   "source": [
    "O modelo estimado é dado por $\\hat{y}=-510,49+0,2590X$, indicando que para cada aumento no ano em uma unidade a taxa aumenta em média 0,2590"
   ]
  },
  {
   "cell_type": "markdown",
   "metadata": {},
   "source": [
    "$\\color{red}{\\text{b)}}$ **Calcule os resíduos padronizados do modelo ajustado**"
   ]
  },
  {
   "cell_type": "code",
   "execution_count": 34,
   "metadata": {},
   "outputs": [
    {
     "data": {
      "text/html": [
       "<table>\n",
       "<thead><tr><th scope=col>residuospadronizados</th></tr></thead>\n",
       "<tbody>\n",
       "\t<tr><td> 0.2219524</td></tr>\n",
       "\t<tr><td>-0.6960921</td></tr>\n",
       "\t<tr><td>-1.6520072</td></tr>\n",
       "\t<tr><td> 1.4866317</td></tr>\n",
       "\t<tr><td> 0.7670162</td></tr>\n",
       "\t<tr><td> 0.6797195</td></tr>\n",
       "\t<tr><td> 0.6026579</td></tr>\n",
       "\t<tr><td>-1.2288229</td></tr>\n",
       "\t<tr><td>-0.3997174</td></tr>\n",
       "</tbody>\n",
       "</table>\n"
      ],
      "text/latex": [
       "\\begin{tabular}{r|l}\n",
       " residuospadronizados\\\\\n",
       "\\hline\n",
       "\t  0.2219524\\\\\n",
       "\t -0.6960921\\\\\n",
       "\t -1.6520072\\\\\n",
       "\t  1.4866317\\\\\n",
       "\t  0.7670162\\\\\n",
       "\t  0.6797195\\\\\n",
       "\t  0.6026579\\\\\n",
       "\t -1.2288229\\\\\n",
       "\t -0.3997174\\\\\n",
       "\\end{tabular}\n"
      ],
      "text/markdown": [
       "\n",
       "| residuospadronizados |\n",
       "|---|\n",
       "|  0.2219524 |\n",
       "| -0.6960921 |\n",
       "| -1.6520072 |\n",
       "|  1.4866317 |\n",
       "|  0.7670162 |\n",
       "|  0.6797195 |\n",
       "|  0.6026579 |\n",
       "| -1.2288229 |\n",
       "| -0.3997174 |\n",
       "\n"
      ],
      "text/plain": [
       "  residuospadronizados\n",
       "1  0.2219524          \n",
       "2 -0.6960921          \n",
       "3 -1.6520072          \n",
       "4  1.4866317          \n",
       "5  0.7670162          \n",
       "6  0.6797195          \n",
       "7  0.6026579          \n",
       "8 -1.2288229          \n",
       "9 -0.3997174          "
      ]
     },
     "metadata": {},
     "output_type": "display_data"
    }
   ],
   "source": [
    "residuospadronizados=rstandard(ajuste9)\n",
    "data.frame(residuospadronizados)\n"
   ]
  },
  {
   "cell_type": "markdown",
   "metadata": {},
   "source": [
    "$\\color{red}{\\text{c)}}$ **Construa o gráfico dos resíduos e comente**"
   ]
  },
  {
   "cell_type": "code",
   "execution_count": 35,
   "metadata": {},
   "outputs": [
    {
     "data": {
      "image/png": "[encoded data removed]",
      "text/plain": [
       "Plot with title \"\""
      ]
     },
     "metadata": {},
     "output_type": "display_data"
    }
   ],
   "source": [
    "par(mfrow=c(2,2))\n",
    "plot(ajuste9)"
   ]
  },
  {
   "cell_type": "code",
   "execution_count": 36,
   "metadata": {},
   "outputs": [
    {
     "data": {
      "text/plain": [
       "\n",
       "\tstudentized Breusch-Pagan test\n",
       "\n",
       "data:  ajuste9\n",
       "BP = 0.23642, df = 1, p-value = 0.6268\n"
      ]
     },
     "metadata": {},
     "output_type": "display_data"
    }
   ],
   "source": [
    "#Teste de Homocedasticidade dos resíduos\n",
    "bptest(ajuste9)"
   ]
  },
  {
   "cell_type": "markdown",
   "metadata": {},
   "source": [
    "Os resíduos comportam-se de forma homocedastica, ou seja, a variância dos resíduos são constantes. Esta conclusão só foi possível visto que o p-valor associado ao teste foi de 0,6268 indicando que não existem evidencias amostrais suficientes para rejeitarmos a hipótese de igualdade da variância dos resíduos, ou seja, os resíduos possuem variância constante (homocedasticidade)."
   ]
  },
  {
   "cell_type": "code",
   "execution_count": 37,
   "metadata": {},
   "outputs": [
    {
     "data": {
      "text/plain": [
       "\n",
       "\tShapiro-Wilk normality test\n",
       "\n",
       "data:  residuals(ajuste9)\n",
       "W = 0.96756, p-value = 0.8731\n"
      ]
     },
     "metadata": {},
     "output_type": "display_data"
    }
   ],
   "source": [
    "#Teste de Normalidade dos resíduos\n",
    "shapiro.test(residuals(ajuste9))"
   ]
  },
  {
   "cell_type": "markdown",
   "metadata": {},
   "source": [
    "Através do teste de Shapiro-Wilk, constatou-se que os resíduos distribuem-se normalmente, ao nível de 5% de significância."
   ]
  },
  {
   "cell_type": "markdown",
   "metadata": {},
   "source": [
    "$\\color{red}{\\text{Exercício 10}}$ - **Retirado do livro: Análise de Modelos de Regressão Linear com Aplicações, de Charnet, Freire, Charnet e Bonvino** O custo da produção de um lote de uma certa peça depende do número de peças produzidas, ou seja, do tamanho do lote. Em uma amostra de dez lotes observou-se os seguintes resultados:\n",
    "\n",
    "| Tamanho |  5 |  10 |  15 |  20 |  25 |  30 |  35 |  40 |  45 |  50 |\n",
    "|:-------:|:--:|:---:|:---:|:---:|:---:|:---:|:---:|:---:|:---:|:---:|\n",
    "|  Custo  | 65 | 120 | 210 | 260 | 380 | 450 | 510 | 555 | 615 | 660 |\n",
    "\n",
    "+ a) Ajuste um MRLS que explique o custo do lote em termos do seu tamanho;\n",
    "+ b) Obtenha o coeficiente de determinação;\n",
    "+ c) Verifique a normalidade dos resíduos;\n",
    "+ d) Construa o gráfico dos resíduos padronizados contra a variável regressora do modelo."
   ]
  },
  {
   "cell_type": "markdown",
   "metadata": {},
   "source": [
    "$\\color{red}{\\text{a)}}$ **Ajuste um MRLS que explique o custo do lote em termos do seu tamanho**"
   ]
  },
  {
   "cell_type": "code",
   "execution_count": 38,
   "metadata": {},
   "outputs": [
    {
     "data": {
      "text/plain": [
       "\n",
       "Call:\n",
       "lm(formula = custo ~ tamanho, data = base10)\n",
       "\n",
       "Residuals:\n",
       "    Min      1Q  Median      3Q     Max \n",
       "-32.455 -16.530  -3.924  18.212  33.061 \n",
       "\n",
       "Coefficients:\n",
       "            Estimate Std. Error t value Pr(>|t|)    \n",
       "(Intercept)   3.6667    16.5735   0.221     0.83    \n",
       "tamanho      13.7758     0.5342  25.787 5.49e-09 ***\n",
       "---\n",
       "Signif. codes:  0 '***' 0.001 '**' 0.01 '*' 0.05 '.' 0.1 ' ' 1\n",
       "\n",
       "Residual standard error: 24.26 on 8 degrees of freedom\n",
       "Multiple R-squared:  0.9881,\tAdjusted R-squared:  0.9866 \n",
       "F-statistic:   665 on 1 and 8 DF,  p-value: 5.487e-09\n"
      ]
     },
     "metadata": {},
     "output_type": "display_data"
    }
   ],
   "source": [
    "#Entrada de dados\n",
    "tamanho=seq(5,50,by=5)\n",
    "custo=c(65,120,210,260,380,450,510,555,615,660)\n",
    "\n",
    "base10=data.frame(tamanho,custo)\n",
    "ajuste10=lm(custo~tamanho,data=base10)\n",
    "summary(ajuste10)\n"
   ]
  },
  {
   "cell_type": "markdown",
   "metadata": {},
   "source": [
    "O modelo estimado é dado por $\\hat{y}=3,6667+12,7758$, indicando que para cada aumento no tamanho em uma unidade o custo aumenta em média 13,77."
   ]
  },
  {
   "cell_type": "markdown",
   "metadata": {},
   "source": [
    "$\\color{red}{\\text{b)}}$ **Obtenha o coeficiente de determinação**"
   ]
  },
  {
   "cell_type": "code",
   "execution_count": 39,
   "metadata": {},
   "outputs": [
    {
     "name": "stdout",
     "output_type": "stream",
     "text": [
      "O coeficiente de determinação associado ao modelo é dado por  98.81 %"
     ]
    }
   ],
   "source": [
    "cat(\"O coeficiente de determinação associado ao modelo é dado por \",round(cor(custo,tamanho)^2*100,2),\"%\")"
   ]
  },
  {
   "cell_type": "markdown",
   "metadata": {},
   "source": [
    "$\\color{red}{\\text{d)}}$ **A normalidade dos resíduos é dado abaixo**"
   ]
  },
  {
   "cell_type": "code",
   "execution_count": 40,
   "metadata": {},
   "outputs": [
    {
     "data": {
      "text/plain": [
       "\n",
       "\tShapiro-Wilk normality test\n",
       "\n",
       "data:  residuals(ajuste10)\n",
       "W = 0.91997, p-value = 0.3567\n"
      ]
     },
     "metadata": {},
     "output_type": "display_data"
    }
   ],
   "source": [
    "shapiro.test(residuals(ajuste10))"
   ]
  },
  {
   "cell_type": "markdown",
   "metadata": {},
   "source": [
    "O teste de Shapiro-Wilk apresenta que ao nível de 5% de significância não é possível rejeitarmos a hipótese nula que afirma que os resíduos se distribuem normalmente."
   ]
  },
  {
   "cell_type": "markdown",
   "metadata": {},
   "source": [
    "$\\color{red}{\\text{d)}}$ **Gráfico dos resíduos padronizados contra a variável regressora do modelo**"
   ]
  },
  {
   "cell_type": "code",
   "execution_count": 41,
   "metadata": {},
   "outputs": [
    {
     "data": {
      "image/png": "[encoded data removed]",
      "text/plain": [
       "Plot with title \"Gráfico dos resíduos padronizados\""
      ]
     },
     "metadata": {},
     "output_type": "display_data"
    }
   ],
   "source": [
    "residuos10=rstandard(ajuste10)\n",
    "previstos=predict(ajuste10)\n",
    "\n",
    "plot(previstos,residuos10,main=\"Gráfico dos resíduos padronizados\",xlab=\"Valores Previstos Ys\",ylab=\"Residuos Padronizados\")\n",
    "abline(h=0,col=\"red\")"
   ]
  }
 ],
 "metadata": {
  "kernelspec": {
   "display_name": "R",
   "language": "R",
   "name": "ir"
  },
  "language_info": {
   "codemirror_mode": "r",
   "file_extension": ".r",
   "mimetype": "text/x-r-source",
   "name": "R",
   "pygments_lexer": "r",
   "version": "3.6.1"
  }
 },
 "nbformat": 4,
 "nbformat_minor": 4
}
