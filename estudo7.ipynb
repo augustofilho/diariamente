{
 "cells": [
  {
   "cell_type": "markdown",
   "metadata": {},
   "source": [
    "# Day 7:30 daily statistics - Correção de Heterocedasticidade pelo Mínimos Quadrados Ponderados"
   ]
  },
  {
   "cell_type": "markdown",
   "metadata": {},
   "source": [
    "No **Day 6:30 daily statistics** de ontem eu apresentei uma base de dados que aparentemente possuia um bom comportamento dos dados, possuia um excelente valor para o coeficiente de determinação e a regressão era significativa. No entanto ao realizar uma rápida análise para os resíduos, através da visualização gráfica e pelo teste de Breusch e Pagan, observou-se que os resíduos não possuiam variância constante com o tempo, ou seja, os resíduos apresentavam problema de heterocedasticidade. Um dos primeiros métodos para a correção deste problema é a utilização do modelo $log-log$. Após o uso do modelo log-log, ainda foi possível detectar a presença de heterocedasticidade no modelo, indicando que a utilização do modelo log-log não foi eficaz para a solução do problema. No desafio de hoje utilizarei o Método dos Mínimo Quandrados Ponderados para tentar solucionar o problema da heterocedasticidade nos resíduos.\n",
    "\n",
    "Para a correção da Heterocedasticidade pelo método dos mínimos quadrados ponderados deveremos encontrar o ***erro puro***. Mais detalhes sobre o erro puro podem ser visto no (***Day 3:30 daily statistics***).\n",
    "\n",
    "A alternativa que será seguida é encontrar pesos que sejam inversamente proporcionais a $X_i$. Desta forma, temos:"
   ]
  },
  {
   "cell_type": "code",
   "execution_count": 1,
   "metadata": {},
   "outputs": [
    {
     "data": {
      "text/plain": [
       "\n",
       "Call:\n",
       "lm(formula = y ~ x, weights = 1/x)\n",
       "\n",
       "Weighted Residuals:\n",
       "    Min      1Q  Median      3Q     Max \n",
       "-0.3818 -0.1919  0.0356  0.2070  0.2711 \n",
       "\n",
       "Coefficients:\n",
       "            Estimate Std. Error t value Pr(>|t|)    \n",
       "(Intercept)  0.70936    0.43026   1.649    0.117    \n",
       "x            0.90478    0.01989  45.498   <2e-16 ***\n",
       "---\n",
       "Signif. codes:  0 '***' 0.001 '**' 0.01 '*' 0.05 '.' 0.1 ' ' 1\n",
       "\n",
       "Residual standard error: 0.2304 on 18 degrees of freedom\n",
       "Multiple R-squared:  0.9914,\tAdjusted R-squared:  0.9909 \n",
       "F-statistic:  2070 on 1 and 18 DF,  p-value: < 2.2e-16\n"
      ]
     },
     "metadata": {},
     "output_type": "display_data"
    }
   ],
   "source": [
    " #Base de dados\n",
    "y=c(19.9, 31.2, 31.8, 12.1, 40.7, 6.1, 38.6, 25.5, 10.3, 38.8, 8, 33.1, 33.5, 13.1, 14.8, 21.6, 29.3, 25, 17.9, 19.8)\n",
    "x=c(22.3, 32.3, 36.6, 12.1, 42.3, 6.2, 44.7, 26.1, 10.3, 40.2, 8.1,34.5, 38, 14.1, 16.4, 24.1, 30.1, 28.3, 18.2, 20.1)\n",
    "dados=data.frame(x,y)\n",
    "\n",
    "ajuste_ponderado=lm(y~x,weights=1/x)\n",
    "summary(ajuste_ponderado)"
   ]
  },
  {
   "cell_type": "markdown",
   "metadata": {},
   "source": [
    "Com as novas estimativas para os parâmetros do modelo, via métodos dos mínimos quadrados ponderados, obtemos o novo modelo de previsão $\\hat{y}=0.70936+0.90478\\cdot X + \\epsilon$. Agora, deveremos realizar uma nova análise nos resíduos da nova série encontrada."
   ]
  },
  {
   "cell_type": "code",
   "execution_count": 2,
   "metadata": {},
   "outputs": [
    {
     "data": {
      "image/png": "[encoded data removed]",
      "text/plain": [
       "Plot with title \"\""
      ]
     },
     "metadata": {},
     "output_type": "display_data"
    }
   ],
   "source": [
    "#Análise dos resíduos para o novo modelo estimado\n",
    "\n",
    "par(mfrow=c(2,2))\n",
    "plot(ajuste_ponderado)"
   ]
  },
  {
   "cell_type": "markdown",
   "metadata": {},
   "source": [
    "O primeiro gráfico dos resíduos ainda mostram um comportamento dos resíduos em forma de funil (V), indicando graficamente que a hipótese de homocedasticidade deve ser rejeitada, indicando que ainda existe falta de constância na variância dos resíduos (presença de heterocedasticidade). Para efeito didático será apresentado o teste de Breusch e Pagan para a confirmação do resultado gráfico."
   ]
  },
  {
   "cell_type": "code",
   "execution_count": 3,
   "metadata": {},
   "outputs": [
    {
     "name": "stderr",
     "output_type": "stream",
     "text": [
      "Loading required package: lmtest\n",
      "Warning message:\n",
      "\"package 'lmtest' was built under R version 3.6.3\"Loading required package: zoo\n",
      "Warning message:\n",
      "\"package 'zoo' was built under R version 3.6.3\"\n",
      "Attaching package: 'zoo'\n",
      "\n",
      "The following objects are masked from 'package:base':\n",
      "\n",
      "    as.Date, as.Date.numeric\n",
      "\n"
     ]
    },
    {
     "data": {
      "text/plain": [
       "\n",
       "\tstudentized Breusch-Pagan test\n",
       "\n",
       "data:  ajuste_ponderado\n",
       "BP = 15.842, df = 1, p-value = 6.885e-05\n"
      ]
     },
     "metadata": {},
     "output_type": "display_data"
    }
   ],
   "source": [
    "require(lmtest)\n",
    "bptest(ajuste_ponderado)"
   ]
  },
  {
   "cell_type": "markdown",
   "metadata": {},
   "source": [
    "Da mesma forma que o recurso gráfico, o teste de BP rejeita a hipótese nula (hipótese de igualdade entre as variâncias), indicando a presença de heterocedasticidade nos resíduos. Já foram utilizados dois métodos para para a resolução do problema de heterocedasticidade nos resíduos (Modelo log-log e Método dos Mínimos Quadrados Ponderados) e ambos mostraram-se ineficazes para a correção da falta de constância na variância dos resíduos. O próximo método que deverá ser apresentado é o Método da Deflação, onde a série será deflacionada por meio de alguma medida de tamanho."
   ]
  }
 ],
 "metadata": {
  "kernelspec": {
   "display_name": "R",
   "language": "R",
   "name": "ir"
  },
  "language_info": {
   "codemirror_mode": "r",
   "file_extension": ".r",
   "mimetype": "text/x-r-source",
   "name": "R",
   "pygments_lexer": "r",
   "version": "3.6.1"
  }
 },
 "nbformat": 4,
 "nbformat_minor": 4
}
