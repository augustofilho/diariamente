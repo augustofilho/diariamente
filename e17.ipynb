{
 "cells": [
  {
   "cell_type": "markdown",
   "metadata": {},
   "source": [
    "# Day 17:30 daily statistics - Adequacao - P2"
   ]
  },
  {
   "cell_type": "markdown",
   "metadata": {},
   "source": [
    "$\\color{red}{\\text{Exercício 6}}$ - **Retirado do livro: Análise de Modelos de Regressão Linear com Aplicações, de Charnet, Freire, Charnet e Bonvino** Com a finalidade de se tentar explicar o consumo de combustível de automóveis de passeio através do seus pesos, selecionou-se aleatoriamente 14 automóveis do mesmo ano de fabricação, pertencentes a uma frota de uma grande empresa. Foram registrados os pesos, em kg, e os consumos, em 1 dos automóveis durante um certo trecho de uma determinanda estrada. Os dados obtidos form os seguintes:\n",
    "\n",
    "| Peso | Consumo | Peso | Consumo |\n",
    "|:----:|:-------:|:----:|:-------:|\n",
    "| 1232 |   10,4  | 1760 |   6,8   |\n",
    "|  880 |   14,4  | 1320 |   9,2   |\n",
    "| 1320 |   10,4  | 1232 |   12,0  |\n",
    "|  880 |   13,2  | 1232 |   10,0  |\n",
    "|  880 |   12,4  | 1760 |   7,6   |\n",
    "| 1320 |   9,2   | 1232 |   11,2  |\n",
    "\n",
    "+ a) Ajuste uma reta de regressão para explicar o consumo em termos do peso dos veículos;\n",
    "+ b) Interprete as estimativas dos parâmetros."
   ]
  },
  {
   "cell_type": "markdown",
   "metadata": {},
   "source": [
    "$\\color{red}{\\text{a)}}$ **O ajuste da reta é apresentado a seguir:**"
   ]
  },
  {
   "cell_type": "code",
   "execution_count": 1,
   "metadata": {},
   "outputs": [
    {
     "data": {
      "text/plain": [
       "\n",
       "Call:\n",
       "lm(formula = consumo ~ peso, data = dados1)\n",
       "\n",
       "Residuals:\n",
       "     Min       1Q   Median       3Q      Max \n",
       "-1.03538 -0.74701  0.03555  0.63555  1.15299 \n",
       "\n",
       "Coefficients:\n",
       "              Estimate Std. Error t value Pr(>|t|)    \n",
       "(Intercept) 19.4098144  0.9210924  21.073 7.57e-11 ***\n",
       "peso        -0.0069503  0.0007081  -9.815 4.38e-07 ***\n",
       "---\n",
       "Signif. codes:  0 '***' 0.001 '**' 0.01 '*' 0.05 '.' 0.1 ' ' 1\n",
       "\n",
       "Residual standard error: 0.8201 on 12 degrees of freedom\n",
       "Multiple R-squared:  0.8892,\tAdjusted R-squared:   0.88 \n",
       "F-statistic: 96.34 on 1 and 12 DF,  p-value: 4.378e-07\n"
      ]
     },
     "metadata": {},
     "output_type": "display_data"
    }
   ],
   "source": [
    "#Entrada de dados\n",
    "peso=c(1232,880,1320,880,880,880,1320,1760,1320,1232,1232,1760,1760,1232)\n",
    "consumo=c(10.4,14.4,10.4,13.2,14,12.4,9.2,6.8, 9.2, 12,10,8,7.6,11.2)\n",
    "dados1=data.frame(peso,consumo)\n",
    "\n",
    "ajuste1=lm(consumo~peso,data=dados1)\n",
    "summary(ajuste1)"
   ]
  },
  {
   "cell_type": "markdown",
   "metadata": {},
   "source": [
    "$\\color{red}{\\text{b)}}$ - **Interprete as estimativas dos parâmetros:** O modelo estimado é dado por $\\hat{y}=19,40-0,0069X$, com um coeficiente de determinação de 82,01% e um coeficiente de correlação linear de 0,94 indicando que as variâncias estão extremamente correlacionadas. Para cada aumento de uma unidade no peso, o número do consumo diminuiu em -0,0069503. É possível ainda observar que o peso explica em 82,01% do valor do consumo."
   ]
  },
  {
   "cell_type": "markdown",
   "metadata": {},
   "source": [
    "$\\color{red}{\\text{Exemplo 5.2}}$ - **Retirado do livro: Análise de Modelos de Regressão Linear com Aplicações, de Charnet, Freire, Charnet e Bonvino** Um estudo foi feito para investigar o efeito de um desinfetante. Foram preparadas soluções, nas quais o desinfetante foi diluído em quantidades fixas de água, para concentrações do desinfetante de 1% a 8%. Foi observado o número de bactérias que sobreviveram, após superfíces serem limpas com uma das soluções. Os dados são apresentados a seguir:\n",
    "\n",
    "| Obs. | X:Concentração (%) | Y: N. de Bactérias |\n",
    "|:----:|:------------------:|:------------------:|\n",
    "|   1  |          1         |         29         |\n",
    "|   2  |          1         |         31         |\n",
    "|   3  |          2         |         26         |\n",
    "|   4  |          2         |         25         |\n",
    "|   5  |          3         |         21         |\n",
    "|   6  |          3         |         24         |\n",
    "|   7  |          3         |         26         |\n",
    "|   8  |          3         |         28         |\n",
    "|   9  |          4         |         21         |\n",
    "|  10  |          4         |         22         |\n",
    "|  11  |          5         |         14         |\n",
    "|  12  |          5         |         24         |\n",
    "|  13  |          6         |         23         |\n",
    "|  14  |          6         |         15         |\n",
    "|  15  |          7         |         18         |\n",
    "|  16  |          8         |         13         |\n",
    "\n",
    "+ a) Apresente um gráfico de dispersão para os dados;\n",
    "+ b) Estimo o MRLS para os dados;\n",
    "+ c) Apresente o coeficiente de determinação linear;\n",
    "+ d) Organize as informações em uma tabela da ANOVA;\n",
    "+ e) Apresente um gráfico com a reta estimada"
   ]
  },
  {
   "cell_type": "markdown",
   "metadata": {},
   "source": [
    "$\\color{red}{\\text{a)}}$ **O gráfico de dispersão é apresentado a seguir:** "
   ]
  },
  {
   "cell_type": "code",
   "execution_count": 2,
   "metadata": {},
   "outputs": [
    {
     "data": {
      "image/png": "[encoded data removed]",
      "text/plain": [
       "plot without title"
      ]
     },
     "metadata": {},
     "output_type": "display_data"
    }
   ],
   "source": [
    "#Entrando com os dados\n",
    "x=rep(seq(1:8),c(2,2,4,2,2,2,1,1))\n",
    "y=c(29,31,26,25,21,24,26,28,21,22,14,24,23,15,18,13)\n",
    "\n",
    "#Gráfico de dispersão\n",
    "plot(x,y)"
   ]
  },
  {
   "cell_type": "markdown",
   "metadata": {},
   "source": [
    "$\\color{red}{\\text{b)}}$ **O modelo estimado é apresentado a seguir:** "
   ]
  },
  {
   "cell_type": "code",
   "execution_count": 3,
   "metadata": {},
   "outputs": [
    {
     "data": {
      "text/plain": [
       "\n",
       "Call:\n",
       "lm(formula = y ~ x, data = dados2)\n",
       "\n",
       "Residuals:\n",
       "    Min      1Q  Median      3Q     Max \n",
       "-6.2339 -1.4331 -0.4331  2.0825  4.8989 \n",
       "\n",
       "Coefficients:\n",
       "            Estimate Std. Error t value Pr(>|t|)    \n",
       "(Intercept)  30.8980     1.6635  18.574 2.92e-11 ***\n",
       "x            -2.1328     0.3761  -5.671 5.78e-05 ***\n",
       "---\n",
       "Signif. codes:  0 '***' 0.001 '**' 0.01 '*' 0.05 '.' 0.1 ' ' 1\n",
       "\n",
       "Residual standard error: 3.031 on 14 degrees of freedom\n",
       "Multiple R-squared:  0.6967,\tAdjusted R-squared:  0.675 \n",
       "F-statistic: 32.16 on 1 and 14 DF,  p-value: 5.776e-05\n"
      ]
     },
     "metadata": {},
     "output_type": "display_data"
    }
   ],
   "source": [
    "dados2=data.frame(x,y)\n",
    "ajuste2=lm(y~x,data=dados2)\n",
    "summary(ajuste2)"
   ]
  },
  {
   "cell_type": "markdown",
   "metadata": {},
   "source": [
    "O modelo estimado para o número de bactérias em função de concentração do detergente é dado por $\\hat{y}=30,8980-2,1328X$"
   ]
  },
  {
   "cell_type": "code",
   "execution_count": 4,
   "metadata": {},
   "outputs": [
    {
     "data": {
      "text/html": [
       "<table>\n",
       "<thead><tr><th scope=col>SomaX2</th><th scope=col>SomaX</th><th scope=col>n</th><th scope=col>SomaY2</th><th scope=col>SomaY</th></tr></thead>\n",
       "<tbody>\n",
       "\t<tr><td>313 </td><td>63  </td><td>16  </td><td>8524</td><td>360 </td></tr>\n",
       "</tbody>\n",
       "</table>\n"
      ],
      "text/latex": [
       "\\begin{tabular}{r|lllll}\n",
       " SomaX2 & SomaX & n & SomaY2 & SomaY\\\\\n",
       "\\hline\n",
       "\t 313  & 63   & 16   & 8524 & 360 \\\\\n",
       "\\end{tabular}\n"
      ],
      "text/markdown": [
       "\n",
       "| SomaX2 | SomaX | n | SomaY2 | SomaY |\n",
       "|---|---|---|---|---|\n",
       "| 313  | 63   | 16   | 8524 | 360  |\n",
       "\n"
      ],
      "text/plain": [
       "  SomaX2 SomaX n  SomaY2 SomaY\n",
       "1 313    63    16 8524   360  "
      ]
     },
     "metadata": {},
     "output_type": "display_data"
    }
   ],
   "source": [
    "#Somatório de X^2\n",
    "SomaX2=sum(x^2)\n",
    "\n",
    "#Somatório de X\n",
    "SomaX=sum(x)\n",
    "\n",
    "#Tamanho da amostra\n",
    "n=length(x)\n",
    "\n",
    "#Soma de Y^2\n",
    "SomaY2=sum(y^2)\n",
    "\n",
    "#Soma de Y\n",
    "SomaY=sum(y)\n",
    "\n",
    "somas=data.frame(SomaX2,SomaX,n,SomaY2,SomaY)\n",
    "somas\n"
   ]
  },
  {
   "cell_type": "markdown",
   "metadata": {},
   "source": [
    "$\\color{red}{\\text{c)}}$ **O coeficiente de determinação linear é dado por:** \n",
    "\n",
    "$$R^2=\\frac{SQ_{regressao}}{SQ_{total}}$$\n",
    "\n",
    "Onde $SQ_{regressao}$ é dado por:\n",
    "\n",
    "$$SQ_{regressao}=\\hat{\\beta}^2_1\\times \\sum(x_i-\\overline{x})^2$$\n",
    "\n",
    "$$SQ_{regressao}=\\hat{\\beta}^2_1 \\times \\bigg(\\sum x_i^2 - \\frac{(\\sum x_i)^2}{n} \\bigg)$$\n",
    "\n",
    "Com $\\sum x_i^2=313$ e $\\sum x_i=63$ e $n=16$.\n",
    "\n",
    "$$SQ_{regressao}=(-2.1328)^2 \\times \\bigg(313-\\frac{(63)^2}{16}\\bigg)=295,39$$\n",
    "\n",
    "Assim como a $SQ_{total}$ é dado por:\n",
    "\n",
    "$$SQ_{total}=\\sum (y_i-\\overline{y})^2=\\bigg( \\sum y_i^2-\\frac{(\\sum y_i)^2}{n}\\bigg)$$\n",
    "\n",
    "$$SQ_{total}=8524-\\frac{(360)^2}{16}=424$$\n",
    "\n",
    "Portanto o valor do coeficiente de determinação é dado por:\n",
    "\n",
    "$$R^2=\\frac{SQ_{regressao}}{SQ_{total}}$$\n",
    "\n",
    "$$R^2=\\frac{295,39}{424}=0,6966$$"
   ]
  },
  {
   "cell_type": "code",
   "execution_count": 5,
   "metadata": {},
   "outputs": [
    {
     "name": "stdout",
     "output_type": "stream",
     "text": [
      "O coeficiente de determinação é dado por 0.6966877"
     ]
    }
   ],
   "source": [
    "# Levando-se em conta que o coeficiente de Determinação é igual ao coeficiente de correlação ao quadrado, temos:\n",
    "r2=(cor(x,y))^2\n",
    "cat(\"O coeficiente de determinação é dado por\",r2)"
   ]
  },
  {
   "cell_type": "markdown",
   "metadata": {},
   "source": [
    "$\\color{red}{\\text{d)}}$ **Organize as informações em uma tabela ANOVA**:"
   ]
  },
  {
   "cell_type": "code",
   "execution_count": 6,
   "metadata": {},
   "outputs": [
    {
     "data": {
      "text/html": [
       "<table>\n",
       "<thead><tr><th></th><th scope=col>Df</th><th scope=col>Sum Sq</th><th scope=col>Mean Sq</th><th scope=col>F value</th><th scope=col>Pr(&gt;F)</th></tr></thead>\n",
       "<tbody>\n",
       "\t<tr><th scope=row>x</th><td> 1          </td><td>295.3956    </td><td>295.395573  </td><td>32.15704    </td><td>5.776356e-05</td></tr>\n",
       "\t<tr><th scope=row>Residuals</th><td>14          </td><td>128.6044    </td><td>  9.186031  </td><td>      NA    </td><td>          NA</td></tr>\n",
       "</tbody>\n",
       "</table>\n"
      ],
      "text/latex": [
       "\\begin{tabular}{r|lllll}\n",
       "  & Df & Sum Sq & Mean Sq & F value & Pr(>F)\\\\\n",
       "\\hline\n",
       "\tx &  1           & 295.3956     & 295.395573   & 32.15704     & 5.776356e-05\\\\\n",
       "\tResiduals & 14           & 128.6044     &   9.186031   &       NA     &           NA\\\\\n",
       "\\end{tabular}\n"
      ],
      "text/markdown": [
       "\n",
       "| <!--/--> | Df | Sum Sq | Mean Sq | F value | Pr(>F) |\n",
       "|---|---|---|---|---|---|\n",
       "| x |  1           | 295.3956     | 295.395573   | 32.15704     | 5.776356e-05 |\n",
       "| Residuals | 14           | 128.6044     |   9.186031   |       NA     |           NA |\n",
       "\n"
      ],
      "text/plain": [
       "          Df Sum Sq   Mean Sq    F value  Pr(>F)      \n",
       "x          1 295.3956 295.395573 32.15704 5.776356e-05\n",
       "Residuals 14 128.6044   9.186031       NA           NA"
      ]
     },
     "metadata": {},
     "output_type": "display_data"
    }
   ],
   "source": [
    "anova(ajuste2)"
   ]
  },
  {
   "cell_type": "markdown",
   "metadata": {},
   "source": [
    "Notamos que $H_0$ é rejeitada, visto que o p-valor associado ao teste é inferior a 5%, indicando que o modelo é significativo ao nível de 5% de significância. \n",
    "\n",
    "$$H_0: \\beta_1=0$$\n",
    "$$H_1: \\beta_1\\neq 0$$\n",
    "\n",
    "É importante observar que temos **replicações** para as concentrações 1,2,3,4,5 e 6, desta forma, podemos testar a falta de ajuste do MRLS, ou seja, existem diferentes valores de Y para valores fixos de X, desta forma é coerente a determinação do coeficiente de **determinação real**, além das medidas de erro puro e falta de ajuste. \n",
    "\n",
    "Para determinar o (erro puro) e a (falta de ajuste) dentro da tabela da ANOVA basta declarar a variável preditora como se fosse um ***factor***, como será visto no código abaixo."
   ]
  },
  {
   "cell_type": "code",
   "execution_count": 7,
   "metadata": {},
   "outputs": [
    {
     "data": {
      "text/html": [
       "<table>\n",
       "<thead><tr><th scope=col>Res.Df</th><th scope=col>RSS</th><th scope=col>Df</th><th scope=col>Sum of Sq</th><th scope=col>F</th><th scope=col>Pr(&gt;F)</th></tr></thead>\n",
       "<tbody>\n",
       "\t<tr><td>14       </td><td>128.6044 </td><td>NA       </td><td>      NA </td><td>       NA</td><td>       NA</td></tr>\n",
       "\t<tr><td> 8       </td><td>111.7500 </td><td> 6       </td><td>16.85443 </td><td>0.2010968</td><td>0.9669143</td></tr>\n",
       "</tbody>\n",
       "</table>\n"
      ],
      "text/latex": [
       "\\begin{tabular}{r|llllll}\n",
       " Res.Df & RSS & Df & Sum of Sq & F & Pr(>F)\\\\\n",
       "\\hline\n",
       "\t 14        & 128.6044  & NA        &       NA  &        NA &        NA\\\\\n",
       "\t  8        & 111.7500  &  6        & 16.85443  & 0.2010968 & 0.9669143\\\\\n",
       "\\end{tabular}\n"
      ],
      "text/markdown": [
       "\n",
       "| Res.Df | RSS | Df | Sum of Sq | F | Pr(>F) |\n",
       "|---|---|---|---|---|---|\n",
       "| 14        | 128.6044  | NA        |       NA  |        NA |        NA |\n",
       "|  8        | 111.7500  |  6        | 16.85443  | 0.2010968 | 0.9669143 |\n",
       "\n"
      ],
      "text/plain": [
       "  Res.Df RSS      Df Sum of Sq F         Pr(>F)   \n",
       "1 14     128.6044 NA       NA         NA        NA\n",
       "2  8     111.7500  6 16.85443  0.2010968 0.9669143"
      ]
     },
     "metadata": {},
     "output_type": "display_data"
    }
   ],
   "source": [
    "erro_puro=lm(y~factor(x),data=dados2)\n",
    "anova(ajuste2,erro_puro)"
   ]
  },
  {
   "cell_type": "markdown",
   "metadata": {},
   "source": [
    "Dos resultados encontrados na tabela acima temos: ***Soma dos quadrados dos resíduos = 128.6044***, ***Soma dos Quadrados do Erro Puro = 111,75*** e a ***Soma de Quadrados da Falta de Ajuste = 16.85443***, com 14, 8 e 6 graus de liberdade respectivamente. \n",
    "\n",
    "Portanto o coeficiente de determinação Real será a razão entre o coeficiente de determinação encontrado no primeiro modelo (R^2 = 0.6966877) e o coeficiente de determinação máximo, que será obtido no ajuste da categorização da variável x, para isso temos: "
   ]
  },
  {
   "cell_type": "code",
   "execution_count": 8,
   "metadata": {},
   "outputs": [
    {
     "name": "stdout",
     "output_type": "stream",
     "text": [
      "O coeficiente de determinação máximo é dado por 0.7364387"
     ]
    }
   ],
   "source": [
    "#determinação do coeficiente de determinação para a categorização da variável idade\n",
    "\n",
    "erro_puro_s=summary(erro_puro)\n",
    "cat(\"O coeficiente de determinação máximo é dado por\",erro_puro_s$r.squared)"
   ]
  },
  {
   "cell_type": "markdown",
   "metadata": {},
   "source": [
    "Portanto o coeficiente de determinação real é dado por: $R^2_{real}=R^2/R^2_{max}=\\frac{0,6966}{0,7364}=0,9460$. Portanto 94,60% da variabilidade total dos dados podem ser explicado pelo modelo de regressão, esse valor da uma ideia melhor do que foi alcançado pelo modelo dentro do que era possível.\n",
    "\n",
    "Considerando os argumentos acima, podemos construir um teste para as hipóteses:\n",
    "\n",
    "$$H_O: \\textbf{O MRLS é adequado}$$\n",
    "$$H_1: \\textbf{O MRLS não é adequado}$$\n",
    "\n",
    "Portanto, para $\\alpha=0,05$ não existem evidências amostrais que nos levem a rejeição da hipótese nula, ou seja, o modelo é considerado adequado. \n",
    "\n",
    "Assim, a variância do número de bactérias após a limpeza é estimada em: $$\\hat{\\sigma}^2_y=\\frac{(SQ_{regressao}+SQ_{residuo})}{(GL_{regressao}+GL_{residuo})}=\\frac{424}{15}=28,27$$ \n",
    "\n",
    "Se usarmos a concentração do detergente como variável auxiliar, os números esperados de bactérias dependem do valor da concentração e estão dispostos na linha reta: $\\hat{y}_{bacteria}=30,9-2,13x_{deter}$, com variância de $(\\hat{\\sigma}^2=9,19)$ em torno da reta. Para cada aumento de uma unidade do percentual de concentração do detergente, o número de bactérias diminui em 2,13. Dizemos que a concentração do detergente explica 70% ($R^2$) do valor do número de bactérias. Além disso, $\\hat{\\sigma}^2$, a variância em torno da reta está próxima da variação pura $\\hat{\\sigma}^2_{ep}=\\frac{111,823}{8}=13,98$ e, portanto, o ajuste é bastante razoável. "
   ]
  },
  {
   "cell_type": "markdown",
   "metadata": {},
   "source": [
    "$\\color{red}{\\text{e)}}$ **A apresentação do gráfico com a reta estimada é apresentada a seguir**"
   ]
  },
  {
   "cell_type": "code",
   "execution_count": 9,
   "metadata": {},
   "outputs": [
    {
     "data": {
      "image/png": "[encoded data removed]",
      "text/plain": [
       "plot without title"
      ]
     },
     "metadata": {},
     "output_type": "display_data"
    }
   ],
   "source": [
    "plot(x,y,pch=16)\n",
    "abline(ajuste2,col=\"red\")"
   ]
  },
  {
   "cell_type": "markdown",
   "metadata": {},
   "source": [
    "$\\color{red}{\\text{Exercício 7}}$ - **Retirado do livro: Análise de Modelos de Regressão Linear com Aplicações, de Charnet, Freire, Charnet e Bonvino** Uma faculdade de economia fez uma pesquisa para estudar a evolução do salário médio inicial mensal dos seus ex-alunos formados durante o período de 1987 a 1993. Para tanto selecionou-se 20 formandos de cada ano, para os quais foram calculadas as médias salariais para cada ano. Os dados encontram-se a seguir:\n",
    "\n",
    "| Ano | Média salarial |\n",
    "|:---:|:--------------:|\n",
    "|  87 |    1.092,31    |\n",
    "|  88 |    1.203,46    |\n",
    "|  89 |    1.265,54    |\n",
    "|  90 |    1.298,77    |\n",
    "|  91 |    1.396,85    |\n",
    "|  92 |    1.588,46    |\n",
    "|  93 |    1.683,85    |\n",
    "\n",
    "Encontre um intervalo de predição de 95% para o salário médio para o ano de 94. Discuta o inconveniente de utilizarmos essa informação."
   ]
  },
  {
   "cell_type": "code",
   "execution_count": 10,
   "metadata": {},
   "outputs": [
    {
     "data": {
      "text/plain": [
       "\n",
       "Call:\n",
       "lm(formula = sal ~ ano, data = dados7)\n",
       "\n",
       "Residuals:\n",
       "       1        2        3        4        5        6        7 \n",
       " 17.6968  33.2779  -0.2111 -62.5500 -60.0389  36.0021  35.8232 \n",
       "\n",
       "Coefficients:\n",
       "            Estimate Std. Error t value Pr(>|t|)    \n",
       "(Intercept) -7239.88     816.51  -8.867 0.000303 ***\n",
       "ano            95.57       9.07  10.537 0.000133 ***\n",
       "---\n",
       "Signif. codes:  0 '***' 0.001 '**' 0.01 '*' 0.05 '.' 0.1 ' ' 1\n",
       "\n",
       "Residual standard error: 47.99 on 5 degrees of freedom\n",
       "Multiple R-squared:  0.9569,\tAdjusted R-squared:  0.9483 \n",
       "F-statistic:   111 on 1 and 5 DF,  p-value: 0.000133\n"
      ]
     },
     "metadata": {},
     "output_type": "display_data"
    }
   ],
   "source": [
    "#Entrada de dados\n",
    "ano=seq(87,93,by=1)\n",
    "sal=c(1092.31,  1203.46, 1265.54,  1298.77,   \n",
    "      1396.85,  1588.46,  1683.85)\n",
    "dados7=data.frame(ano,sal)\n",
    "ajuste7=lm(sal~ano,data=dados7)\n",
    "summary(ajuste7)"
   ]
  },
  {
   "cell_type": "code",
   "execution_count": 11,
   "metadata": {},
   "outputs": [
    {
     "name": "stdout",
     "output_type": "stream",
     "text": [
      "Valor previsto das vendas para o ano de 1994 é"
     ]
    },
    {
     "data": {
      "text/html": [
       "<table>\n",
       "<thead><tr><th scope=col>fit</th><th scope=col>lwr</th><th scope=col>upr</th></tr></thead>\n",
       "<tbody>\n",
       "\t<tr><td>1743.596</td><td>1582.062</td><td>1905.129</td></tr>\n",
       "</tbody>\n",
       "</table>\n"
      ],
      "text/latex": [
       "\\begin{tabular}{r|lll}\n",
       " fit & lwr & upr\\\\\n",
       "\\hline\n",
       "\t 1743.596 & 1582.062 & 1905.129\\\\\n",
       "\\end{tabular}\n"
      ],
      "text/markdown": [
       "\n",
       "| fit | lwr | upr |\n",
       "|---|---|---|\n",
       "| 1743.596 | 1582.062 | 1905.129 |\n",
       "\n"
      ],
      "text/plain": [
       "  fit      lwr      upr     \n",
       "1 1743.596 1582.062 1905.129"
      ]
     },
     "metadata": {},
     "output_type": "display_data"
    }
   ],
   "source": [
    "#Intervalo de predição para o ano de 94\n",
    "ano94=data.frame(ano=94)\n",
    "cat(\"Valor previsto das vendas para o ano de 1994 é\")\n",
    "predict(ajuste7,ano94,interval = \"prediction\",level=0.95)\n"
   ]
  },
  {
   "cell_type": "markdown",
   "metadata": {},
   "source": [
    "O incoveniente desta previsão é que o modelo de regressão linear simples consegue estimar com precisão somente os valores dos anos que estão entre 87 e 93. Para valores acima deste ano, o modelo já não é considerado eficaz, sendo necessário a utilização de outra modelagem, como por exemplo, métodos de séries temporais."
   ]
  },
  {
   "cell_type": "markdown",
   "metadata": {},
   "source": [
    "$\\color{red}{\\text{Exercício 8}}$ - **Retirado do livro: Análise de Modelos de Regressão Linear com Aplicações, de Charnet, Freire, Charnet e Bonvino** De acordo com o modelo encontrado no exercício 3, encontre um intervalo de predição de 95% para as velocidades que seriam assinaladas pelo velocímetro quando as velocidades reais forem 45, 55 e 70. Em qual dos 3 intrevalos encontrado você confiaria mais? Por quê?"
   ]
  },
  {
   "cell_type": "code",
   "execution_count": 12,
   "metadata": {},
   "outputs": [
    {
     "data": {
      "text/plain": [
       "\n",
       "Call:\n",
       "lm(formula = assinalada ~ real, data = dados8)\n",
       "\n",
       "Residuals:\n",
       "    Min      1Q  Median      3Q     Max \n",
       "-0.9480 -0.4035  0.0511  0.4771  0.9311 \n",
       "\n",
       "Coefficients:\n",
       "            Estimate Std. Error t value Pr(>|t|)    \n",
       "(Intercept) -3.43030    1.24267   -2.76   0.0328 *  \n",
       "real         0.91241    0.02395   38.10 2.18e-08 ***\n",
       "---\n",
       "Signif. codes:  0 '***' 0.001 '**' 0.01 '*' 0.05 '.' 0.1 ' ' 1\n",
       "\n",
       "Residual standard error: 0.7155 on 6 degrees of freedom\n",
       "Multiple R-squared:  0.9959,\tAdjusted R-squared:  0.9952 \n",
       "F-statistic:  1451 on 1 and 6 DF,  p-value: 2.184e-08\n"
      ]
     },
     "metadata": {},
     "output_type": "display_data"
    }
   ],
   "source": [
    "#Entrando com os dados\n",
    "real=c(40,50.24, 62.88, 61.44, 39.52, 64.16, 36.32, 51.84)\n",
    "assinalada=c(33.6, 41.6, 54.4, 51.68, 32.48, 55.36, 29.44, 44.80)\n",
    "\n",
    "dados8=data.frame(real,assinalada)\n",
    "ajuste8=lm(assinalada~real,data=dados8)\n",
    "summary(ajuste8)"
   ]
  },
  {
   "cell_type": "code",
   "execution_count": 13,
   "metadata": {},
   "outputs": [
    {
     "data": {
      "text/html": [
       "<table>\n",
       "<thead><tr><th scope=col>fit</th><th scope=col>lwr</th><th scope=col>upr</th></tr></thead>\n",
       "<tbody>\n",
       "\t<tr><td>37.62804</td><td>35.74017</td><td>39.51590</td></tr>\n",
       "\t<tr><td>46.75211</td><td>44.87885</td><td>48.62537</td></tr>\n",
       "\t<tr><td>60.43822</td><td>58.26693</td><td>62.60952</td></tr>\n",
       "</tbody>\n",
       "</table>\n"
      ],
      "text/latex": [
       "\\begin{tabular}{r|lll}\n",
       " fit & lwr & upr\\\\\n",
       "\\hline\n",
       "\t 37.62804 & 35.74017 & 39.51590\\\\\n",
       "\t 46.75211 & 44.87885 & 48.62537\\\\\n",
       "\t 60.43822 & 58.26693 & 62.60952\\\\\n",
       "\\end{tabular}\n"
      ],
      "text/markdown": [
       "\n",
       "| fit | lwr | upr |\n",
       "|---|---|---|\n",
       "| 37.62804 | 35.74017 | 39.51590 |\n",
       "| 46.75211 | 44.87885 | 48.62537 |\n",
       "| 60.43822 | 58.26693 | 62.60952 |\n",
       "\n"
      ],
      "text/plain": [
       "  fit      lwr      upr     \n",
       "1 37.62804 35.74017 39.51590\n",
       "2 46.75211 44.87885 48.62537\n",
       "3 60.43822 58.26693 62.60952"
      ]
     },
     "metadata": {},
     "output_type": "display_data"
    }
   ],
   "source": [
    "#Os intervalos de predição ao nivel de 95% de confiança para as velocidades assinaladas\n",
    "#quando os velocimetros marcarem 45, 55 e 70 são dadas a seguir:\n",
    "real_novo=data.frame(real=c(45,55,70))\n",
    "predict(ajuste8,real_novo,interval=\"prediction\",level=0.95)"
   ]
  },
  {
   "cell_type": "markdown",
   "metadata": {},
   "source": [
    "O intervalo de valores reais para a velocidade variam entre 36,32 e 64,16. Desta forma o modelo estimado determina de forma coerente os valores para y compreendidos para valores de x que esteja entre 36,32 e 64,16. Desta forma o modelo estimado consegue estimar de forma coerentes os valores de y correlacionados aos valores de x (45 e 55). O valor de (x=70) esta fora do intervalo de valores de $x$ apresentados, portanto o modelo estimado não leva em considerações valores acima de 55, sendo uma estimativa para (x=70) não considerado pelo modelo estimado. "
   ]
  },
  {
   "cell_type": "markdown",
   "metadata": {},
   "source": [
    "$\\color{red}{\\text{Exercício 9}}$ - **Retirado do livro: Análise de Modelos de Regressão Linear com Aplicações, de Charnet, Freire, Charnet e Bonvino** De acordo com o modelo proposto no exercício 6, encontre intervalos de predição de 90% para os consumos de combustível de carros com pesos iguais a 1.100, 1.200, 1400, 1.500, 1.600, 1.700, 1.800 e 2.000 kg. Compare esses intervalos Esboce as bandas de predição para esse modelo."
   ]
  },
  {
   "cell_type": "code",
   "execution_count": 14,
   "metadata": {},
   "outputs": [
    {
     "data": {
      "text/plain": [
       "\n",
       "Call:\n",
       "lm(formula = consumo ~ peso, data = dados1)\n",
       "\n",
       "Residuals:\n",
       "     Min       1Q   Median       3Q      Max \n",
       "-1.03538 -0.74701  0.03555  0.63555  1.15299 \n",
       "\n",
       "Coefficients:\n",
       "              Estimate Std. Error t value Pr(>|t|)    \n",
       "(Intercept) 19.4098144  0.9210924  21.073 7.57e-11 ***\n",
       "peso        -0.0069503  0.0007081  -9.815 4.38e-07 ***\n",
       "---\n",
       "Signif. codes:  0 '***' 0.001 '**' 0.01 '*' 0.05 '.' 0.1 ' ' 1\n",
       "\n",
       "Residual standard error: 0.8201 on 12 degrees of freedom\n",
       "Multiple R-squared:  0.8892,\tAdjusted R-squared:   0.88 \n",
       "F-statistic: 96.34 on 1 and 12 DF,  p-value: 4.378e-07\n"
      ]
     },
     "metadata": {},
     "output_type": "display_data"
    }
   ],
   "source": [
    "#Entrada de dados\n",
    "peso=c(1232,880,1320,880,880,880,1320,1760,1320,1232,1232,1760,1760,1232)\n",
    "consumo=c(10.4,14.4,10.4,13.2,14,12.4,9.2,6.8, 9.2, 12,10,8,7.6,11.2)\n",
    "dados9=data.frame(peso,consumo)\n",
    "\n",
    "ajuste9=lm(consumo~peso,data=dados1)\n",
    "summary(ajuste9)"
   ]
  },
  {
   "cell_type": "code",
   "execution_count": 15,
   "metadata": {},
   "outputs": [
    {
     "data": {
      "text/html": [
       "<table>\n",
       "<thead><tr><th scope=col>fit</th><th scope=col>lwr</th><th scope=col>upr</th></tr></thead>\n",
       "<tbody>\n",
       "\t<tr><td>11.764454</td><td>10.237495</td><td>13.291412</td></tr>\n",
       "\t<tr><td>11.069421</td><td> 9.554340</td><td>12.584501</td></tr>\n",
       "\t<tr><td> 9.679355</td><td> 8.156605</td><td>11.202106</td></tr>\n",
       "\t<tr><td> 8.984322</td><td> 7.442181</td><td>10.526464</td></tr>\n",
       "\t<tr><td> 8.289290</td><td> 6.717829</td><td> 9.860750</td></tr>\n",
       "\t<tr><td> 7.594257</td><td> 5.984092</td><td> 9.204421</td></tr>\n",
       "\t<tr><td> 6.899224</td><td> 5.241628</td><td> 8.556820</td></tr>\n",
       "\t<tr><td> 5.509158</td><td> 3.733438</td><td> 7.284879</td></tr>\n",
       "</tbody>\n",
       "</table>\n"
      ],
      "text/latex": [
       "\\begin{tabular}{r|lll}\n",
       " fit & lwr & upr\\\\\n",
       "\\hline\n",
       "\t 11.764454 & 10.237495 & 13.291412\\\\\n",
       "\t 11.069421 &  9.554340 & 12.584501\\\\\n",
       "\t  9.679355 &  8.156605 & 11.202106\\\\\n",
       "\t  8.984322 &  7.442181 & 10.526464\\\\\n",
       "\t  8.289290 &  6.717829 &  9.860750\\\\\n",
       "\t  7.594257 &  5.984092 &  9.204421\\\\\n",
       "\t  6.899224 &  5.241628 &  8.556820\\\\\n",
       "\t  5.509158 &  3.733438 &  7.284879\\\\\n",
       "\\end{tabular}\n"
      ],
      "text/markdown": [
       "\n",
       "| fit | lwr | upr |\n",
       "|---|---|---|\n",
       "| 11.764454 | 10.237495 | 13.291412 |\n",
       "| 11.069421 |  9.554340 | 12.584501 |\n",
       "|  9.679355 |  8.156605 | 11.202106 |\n",
       "|  8.984322 |  7.442181 | 10.526464 |\n",
       "|  8.289290 |  6.717829 |  9.860750 |\n",
       "|  7.594257 |  5.984092 |  9.204421 |\n",
       "|  6.899224 |  5.241628 |  8.556820 |\n",
       "|  5.509158 |  3.733438 |  7.284879 |\n",
       "\n"
      ],
      "text/plain": [
       "  fit       lwr       upr      \n",
       "1 11.764454 10.237495 13.291412\n",
       "2 11.069421  9.554340 12.584501\n",
       "3  9.679355  8.156605 11.202106\n",
       "4  8.984322  7.442181 10.526464\n",
       "5  8.289290  6.717829  9.860750\n",
       "6  7.594257  5.984092  9.204421\n",
       "7  6.899224  5.241628  8.556820\n",
       "8  5.509158  3.733438  7.284879"
      ]
     },
     "metadata": {},
     "output_type": "display_data"
    }
   ],
   "source": [
    "#Os intervalos de predição ao nível de 90% de confiança para os consumos de combutível de carros com \n",
    "#pesos iguais a 1.100, 1.200, 1400, 1.500, 1.600, 1.700, 1.800 e 2.000 kg são apresentados abaixo\n",
    "\n",
    "peso2=data.frame(peso=c(1100, 1200, 1400, 1500, 1600, 1700, 1800,  2000))\n",
    "predict(ajuste9,peso2,interval=\"prediction\",level=0.90)"
   ]
  },
  {
   "cell_type": "markdown",
   "metadata": {},
   "source": [
    "$\\color{red}{\\text{Exercício 10}}$ - **Retirado do livro: Análise de Modelos de Regressão Linear com Aplicações, de Charnet, Freire, Charnet e Bonvino** O jornal Los Angeles Times publicou, em 13 de dezembo de 1980, um levantamento das taxas de desemprego e o índice de suicídios nos EUA em 14 diferentes anos, no período de 1950 a 1977. O índice de suicídios foi calculado para cada 1.000 habitantes. Os dados estão apresentados na tabela a seguir.\n",
    "\n",
    "+ a) Construa um gráfico de dispersão dos índices de suicídios em termos das taxas de desempregos;\n",
    "+ b) Ajuste uma reta de regressão que explique suicídios em termos de desemprego;\n",
    "+ c) Teste a significância do modelo e calcule o coeficiente de determinação. Comente os resultados;\n",
    "+ d) Encontre um intervalo de confiança de 95% para o índice médio de suicídios quando temos uma taxa e desemprego igual a 8%;\n",
    "+ e) Esboce as bandas de predição de 95% para esse modelo.\n",
    "\n",
    "|  Ano | Desemprego | Suicídios |\n",
    "|:----:|:----------:|:---------:|\n",
    "| 1950 |     5,3    |    11,3   |\n",
    "| 1955 |     4,4    |    10,2   |\n",
    "| 1960 |     5,5    |    10,6   |\n",
    "| 1965 |     4,5    |    11,1   |\n",
    "| 1968 |     3,6    |    10,7   |\n",
    "| 1969 |     3,5    |    11,1   |\n",
    "| 1970 |     4,9    |    11,5   |\n",
    "| 1971 |     5,9    |    11,7   |\n",
    "| 1972 |     5,6    |    12,0   |\n",
    "| 1973 |     4,9    |    12,0   |\n",
    "| 1974 |     5,6    |    12,1   |\n",
    "| 1975 |     8,5    |    12,7   |\n",
    "| 1976 |     7,7    |    12,5   |\n",
    "| 1977 |     7,0    |    13,3   |\n"
   ]
  },
  {
   "cell_type": "markdown",
   "metadata": {},
   "source": [
    "$\\color{red}{\\text{a)}}$ **O gráfico de dispersão dos índices de suicídios em termos das taxas de desempregos** é apresentado a abaixo:"
   ]
  },
  {
   "cell_type": "code",
   "execution_count": 16,
   "metadata": {},
   "outputs": [
    {
     "data": {
      "text/html": [
       "<table>\n",
       "<thead><tr><th scope=col>ano</th><th scope=col>desem</th><th scope=col>sui</th></tr></thead>\n",
       "<tbody>\n",
       "\t<tr><td>1950</td><td>5.3 </td><td>11.3</td></tr>\n",
       "\t<tr><td>1955</td><td>4.4 </td><td>10.2</td></tr>\n",
       "\t<tr><td>1960</td><td>5.5 </td><td>10.6</td></tr>\n",
       "\t<tr><td>1965</td><td>4.5 </td><td>11.1</td></tr>\n",
       "\t<tr><td>1968</td><td>3.6 </td><td>10.7</td></tr>\n",
       "\t<tr><td>1969</td><td>3.5 </td><td>11.1</td></tr>\n",
       "\t<tr><td>1970</td><td>4.9 </td><td>11.5</td></tr>\n",
       "\t<tr><td>1971</td><td>5.9 </td><td>11.7</td></tr>\n",
       "\t<tr><td>1972</td><td>5.6 </td><td>12.0</td></tr>\n",
       "\t<tr><td>1973</td><td>4.9 </td><td>12.0</td></tr>\n",
       "\t<tr><td>1974</td><td>5.6 </td><td>12.1</td></tr>\n",
       "\t<tr><td>1975</td><td>8.5 </td><td>12.7</td></tr>\n",
       "\t<tr><td>1976</td><td>7.7 </td><td>12.5</td></tr>\n",
       "\t<tr><td>1977</td><td>7.0 </td><td>13.3</td></tr>\n",
       "</tbody>\n",
       "</table>\n"
      ],
      "text/latex": [
       "\\begin{tabular}{r|lll}\n",
       " ano & desem & sui\\\\\n",
       "\\hline\n",
       "\t 1950 & 5.3  & 11.3\\\\\n",
       "\t 1955 & 4.4  & 10.2\\\\\n",
       "\t 1960 & 5.5  & 10.6\\\\\n",
       "\t 1965 & 4.5  & 11.1\\\\\n",
       "\t 1968 & 3.6  & 10.7\\\\\n",
       "\t 1969 & 3.5  & 11.1\\\\\n",
       "\t 1970 & 4.9  & 11.5\\\\\n",
       "\t 1971 & 5.9  & 11.7\\\\\n",
       "\t 1972 & 5.6  & 12.0\\\\\n",
       "\t 1973 & 4.9  & 12.0\\\\\n",
       "\t 1974 & 5.6  & 12.1\\\\\n",
       "\t 1975 & 8.5  & 12.7\\\\\n",
       "\t 1976 & 7.7  & 12.5\\\\\n",
       "\t 1977 & 7.0  & 13.3\\\\\n",
       "\\end{tabular}\n"
      ],
      "text/markdown": [
       "\n",
       "| ano | desem | sui |\n",
       "|---|---|---|\n",
       "| 1950 | 5.3  | 11.3 |\n",
       "| 1955 | 4.4  | 10.2 |\n",
       "| 1960 | 5.5  | 10.6 |\n",
       "| 1965 | 4.5  | 11.1 |\n",
       "| 1968 | 3.6  | 10.7 |\n",
       "| 1969 | 3.5  | 11.1 |\n",
       "| 1970 | 4.9  | 11.5 |\n",
       "| 1971 | 5.9  | 11.7 |\n",
       "| 1972 | 5.6  | 12.0 |\n",
       "| 1973 | 4.9  | 12.0 |\n",
       "| 1974 | 5.6  | 12.1 |\n",
       "| 1975 | 8.5  | 12.7 |\n",
       "| 1976 | 7.7  | 12.5 |\n",
       "| 1977 | 7.0  | 13.3 |\n",
       "\n"
      ],
      "text/plain": [
       "   ano  desem sui \n",
       "1  1950 5.3   11.3\n",
       "2  1955 4.4   10.2\n",
       "3  1960 5.5   10.6\n",
       "4  1965 4.5   11.1\n",
       "5  1968 3.6   10.7\n",
       "6  1969 3.5   11.1\n",
       "7  1970 4.9   11.5\n",
       "8  1971 5.9   11.7\n",
       "9  1972 5.6   12.0\n",
       "10 1973 4.9   12.0\n",
       "11 1974 5.6   12.1\n",
       "12 1975 8.5   12.7\n",
       "13 1976 7.7   12.5\n",
       "14 1977 7.0   13.3"
      ]
     },
     "metadata": {},
     "output_type": "display_data"
    }
   ],
   "source": [
    "#Entrando com o ano\n",
    "ano1=seq(1950,1965,by=5)\n",
    "ano2=seq(1968,1977,by=1)\n",
    "ano=c(ano1,ano2)\n",
    "\n",
    "#Desemprego\n",
    "desem=c(5.3, 4.4, 5.5, 4.5, 3.6, 3.5, 4.9, 5.9, 5.6, 4.9, 5.6, 8.5, 7.7, 7)\n",
    "\n",
    "#Suidicios\n",
    "sui=c(11.3, 10.2, 10.6, 11.1, 10.7, 11.1, 11.5, 11.7, 12, 12, 12.1, 12.7, 12.5, 13.3)\n",
    "\n",
    "#Agrupando os dados\n",
    "dados10=data.frame(ano,desem,sui)\n",
    "dados10"
   ]
  },
  {
   "cell_type": "code",
   "execution_count": 17,
   "metadata": {},
   "outputs": [
    {
     "data": {
      "image/png": "[encoded data removed]",
      "text/plain": [
       "Plot with title \"Taxa de Suicídio vs Desemprego\""
      ]
     },
     "metadata": {},
     "output_type": "display_data"
    }
   ],
   "source": [
    "plot(desem,sui,main=\"Taxa de Suicídio vs Desemprego\")"
   ]
  },
  {
   "cell_type": "markdown",
   "metadata": {},
   "source": [
    "$\\color{red}{\\text{b)}}$ **Uma reta de regressão que explique suicídios em termos de desemprego** é apresentada a seguir:"
   ]
  },
  {
   "cell_type": "code",
   "execution_count": 18,
   "metadata": {},
   "outputs": [
    {
     "data": {
      "text/plain": [
       "\n",
       "Call:\n",
       "lm(formula = sui ~ desem, data = dados10)\n",
       "\n",
       "Residuals:\n",
       "     Min       1Q   Median       3Q      Max \n",
       "-1.03192 -0.21953 -0.05184  0.38488  0.96455 \n",
       "\n",
       "Coefficients:\n",
       "            Estimate Std. Error t value Pr(>|t|)    \n",
       "(Intercept)   9.0523     0.6266   14.45 5.97e-09 ***\n",
       "desem         0.4690     0.1106    4.24  0.00115 ** \n",
       "---\n",
       "Signif. codes:  0 '***' 0.001 '**' 0.01 '*' 0.05 '.' 0.1 ' ' 1\n",
       "\n",
       "Residual standard error: 0.5732 on 12 degrees of freedom\n",
       "Multiple R-squared:  0.5997,\tAdjusted R-squared:  0.5664 \n",
       "F-statistic: 17.98 on 1 and 12 DF,  p-value: 0.001147\n"
      ]
     },
     "metadata": {},
     "output_type": "display_data"
    }
   ],
   "source": [
    "ajuste10=lm(sui~desem,data=dados10)\n",
    "summary(ajuste10)"
   ]
  },
  {
   "cell_type": "markdown",
   "metadata": {},
   "source": [
    "O modelo que estima o número de suicídio em termos do número de desemprego é dado por $\\hat{y}=9.0523+0.4690$, indicando que para aumento de 1 unidade no número de desempregados a taxa de suicídio aumenta em média 0,4690. O modelo estimado apresenta um coeficiente de determinação $R^2=59,97%$ indicando que o número de desempregados explica em 59,97% o número de suicídas. "
   ]
  },
  {
   "cell_type": "markdown",
   "metadata": {},
   "source": [
    "$\\color{red}{\\text{c)}}$ **No Teste de significância do modelo**, encontrou-se $\\hat{\\beta}_0=9.0523$ e $\\hat{\\beta}_1= 0.4690$ para os parâmetros estimados para o modelo, ambos sendo considerados significativos para compor o modelo. O coeficiente de determinação encontrado foi de 59,97%. "
   ]
  },
  {
   "cell_type": "markdown",
   "metadata": {},
   "source": [
    "$\\color{red}{\\text{d)}}$ **O um intervalo de confiança de 95% para o índice médio de suicídios quando temos uma taxa e desemprego igual a 8** é apresentado a seguir:"
   ]
  },
  {
   "cell_type": "code",
   "execution_count": 19,
   "metadata": {},
   "outputs": [
    {
     "data": {
      "text/html": [
       "<table>\n",
       "<thead><tr><th scope=col>fit</th><th scope=col>lwr</th><th scope=col>upr</th></tr></thead>\n",
       "<tbody>\n",
       "\t<tr><td>12.80447</td><td>11.37756</td><td>14.23139</td></tr>\n",
       "</tbody>\n",
       "</table>\n"
      ],
      "text/latex": [
       "\\begin{tabular}{r|lll}\n",
       " fit & lwr & upr\\\\\n",
       "\\hline\n",
       "\t 12.80447 & 11.37756 & 14.23139\\\\\n",
       "\\end{tabular}\n"
      ],
      "text/markdown": [
       "\n",
       "| fit | lwr | upr |\n",
       "|---|---|---|\n",
       "| 12.80447 | 11.37756 | 14.23139 |\n",
       "\n"
      ],
      "text/plain": [
       "  fit      lwr      upr     \n",
       "1 12.80447 11.37756 14.23139"
      ]
     },
     "metadata": {},
     "output_type": "display_data"
    }
   ],
   "source": [
    "desem2=data.frame(desem=8)\n",
    "predict(ajuste10,desem2,interval=\"prediction\",level=0.95)"
   ]
  },
  {
   "cell_type": "markdown",
   "metadata": {},
   "source": [
    "Desta forma, o valor estimado para o número de suicídios quando a taxa de desemprego for de 8% é de 9,08 variando em um intervalo de (7,25  a 10,92) a um nível de 95% de confiança."
   ]
  },
  {
   "cell_type": "markdown",
   "metadata": {},
   "source": [
    "$\\color{red}{\\text{e)}}$ **Esboce as bandas de predição de 95% para esse modelo.**"
   ]
  },
  {
   "cell_type": "code",
   "execution_count": 20,
   "metadata": {},
   "outputs": [
    {
     "data": {
      "text/html": [
       "<table>\n",
       "<thead><tr><th scope=col>fit</th><th scope=col>lwr</th><th scope=col>upr</th></tr></thead>\n",
       "<tbody>\n",
       "\t<tr><td>11.53812 </td><td>10.244623</td><td>12.83161 </td></tr>\n",
       "\t<tr><td>11.11600 </td><td> 9.796779</td><td>12.43522 </td></tr>\n",
       "\t<tr><td>11.63192 </td><td>10.339262</td><td>12.92458 </td></tr>\n",
       "\t<tr><td>11.16290 </td><td> 9.848281</td><td>12.47752 </td></tr>\n",
       "\t<tr><td>10.74078 </td><td> 9.369986</td><td>12.11158 </td></tr>\n",
       "\t<tr><td>10.69388 </td><td> 9.314876</td><td>12.07289 </td></tr>\n",
       "\t<tr><td>11.35051 </td><td>10.049978</td><td>12.65104 </td></tr>\n",
       "\t<tr><td>11.81953 </td><td>10.523152</td><td>13.11591 </td></tr>\n",
       "\t<tr><td>11.67882 </td><td>10.385907</td><td>12.97174 </td></tr>\n",
       "\t<tr><td>11.35051 </td><td>10.049978</td><td>12.65104 </td></tr>\n",
       "\t<tr><td>11.67882 </td><td>10.385907</td><td>12.97174 </td></tr>\n",
       "\t<tr><td>13.03898 </td><td>11.557013</td><td>14.52095 </td></tr>\n",
       "\t<tr><td>12.66377 </td><td>11.265935</td><td>14.06160 </td></tr>\n",
       "\t<tr><td>12.33545 </td><td>10.992728</td><td>13.67818 </td></tr>\n",
       "</tbody>\n",
       "</table>\n"
      ],
      "text/latex": [
       "\\begin{tabular}{r|lll}\n",
       " fit & lwr & upr\\\\\n",
       "\\hline\n",
       "\t 11.53812  & 10.244623 & 12.83161 \\\\\n",
       "\t 11.11600  &  9.796779 & 12.43522 \\\\\n",
       "\t 11.63192  & 10.339262 & 12.92458 \\\\\n",
       "\t 11.16290  &  9.848281 & 12.47752 \\\\\n",
       "\t 10.74078  &  9.369986 & 12.11158 \\\\\n",
       "\t 10.69388  &  9.314876 & 12.07289 \\\\\n",
       "\t 11.35051  & 10.049978 & 12.65104 \\\\\n",
       "\t 11.81953  & 10.523152 & 13.11591 \\\\\n",
       "\t 11.67882  & 10.385907 & 12.97174 \\\\\n",
       "\t 11.35051  & 10.049978 & 12.65104 \\\\\n",
       "\t 11.67882  & 10.385907 & 12.97174 \\\\\n",
       "\t 13.03898  & 11.557013 & 14.52095 \\\\\n",
       "\t 12.66377  & 11.265935 & 14.06160 \\\\\n",
       "\t 12.33545  & 10.992728 & 13.67818 \\\\\n",
       "\\end{tabular}\n"
      ],
      "text/markdown": [
       "\n",
       "| fit | lwr | upr |\n",
       "|---|---|---|\n",
       "| 11.53812  | 10.244623 | 12.83161  |\n",
       "| 11.11600  |  9.796779 | 12.43522  |\n",
       "| 11.63192  | 10.339262 | 12.92458  |\n",
       "| 11.16290  |  9.848281 | 12.47752  |\n",
       "| 10.74078  |  9.369986 | 12.11158  |\n",
       "| 10.69388  |  9.314876 | 12.07289  |\n",
       "| 11.35051  | 10.049978 | 12.65104  |\n",
       "| 11.81953  | 10.523152 | 13.11591  |\n",
       "| 11.67882  | 10.385907 | 12.97174  |\n",
       "| 11.35051  | 10.049978 | 12.65104  |\n",
       "| 11.67882  | 10.385907 | 12.97174  |\n",
       "| 13.03898  | 11.557013 | 14.52095  |\n",
       "| 12.66377  | 11.265935 | 14.06160  |\n",
       "| 12.33545  | 10.992728 | 13.67818  |\n",
       "\n"
      ],
      "text/plain": [
       "   fit      lwr       upr     \n",
       "1  11.53812 10.244623 12.83161\n",
       "2  11.11600  9.796779 12.43522\n",
       "3  11.63192 10.339262 12.92458\n",
       "4  11.16290  9.848281 12.47752\n",
       "5  10.74078  9.369986 12.11158\n",
       "6  10.69388  9.314876 12.07289\n",
       "7  11.35051 10.049978 12.65104\n",
       "8  11.81953 10.523152 13.11591\n",
       "9  11.67882 10.385907 12.97174\n",
       "10 11.35051 10.049978 12.65104\n",
       "11 11.67882 10.385907 12.97174\n",
       "12 13.03898 11.557013 14.52095\n",
       "13 12.66377 11.265935 14.06160\n",
       "14 12.33545 10.992728 13.67818"
      ]
     },
     "metadata": {},
     "output_type": "display_data"
    }
   ],
   "source": [
    "predict(ajuste10,dados10,interval=\"prediction\",level=0.95)"
   ]
  }
 ],
 "metadata": {
  "kernelspec": {
   "display_name": "R",
   "language": "R",
   "name": "ir"
  },
  "language_info": {
   "codemirror_mode": "r",
   "file_extension": ".r",
   "mimetype": "text/x-r-source",
   "name": "R",
   "pygments_lexer": "r",
   "version": "3.6.1"
  }
 },
 "nbformat": 4,
 "nbformat_minor": 4
}
