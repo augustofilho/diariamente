{
 "cells": [
  {
   "cell_type": "markdown",
   "metadata": {},
   "source": [
    "# Day 4:30 daily statistics"
   ]
  },
  {
   "cell_type": "markdown",
   "metadata": {},
   "source": [
    "Pela necessidade do trabalho tive que fazer uso de um modelo de regressão quantilico. \n",
    "\n",
    "A regressão quantílica fornece uma imagem mais abrangente do efeito das variáveis independentes na variável dependente. Em vez de estimar o modelo com efeitos médios usando o modelo linear, a regressão de quantis produz efeitos diferentes ao longo da distribuição (quantis) da variável dependente. A variável dependente é contínua, sem zeros ou com muitos valores repetidos. O escolhido para aplicar a regressão quantilica estima os efeitos da renda familiar sobre os gastos com alimentos para famílias com gastos baixos e altos; e determinar os fatores que afetam as pontuações dos alunos ao longo de sua distribuição de pontuação.\n",
    "\n",
    "Para uma leitura melhor sobre os fundamentos da distribuição quantílica acesse:\n",
    "\n",
    "<https://docs.google.com/file/d/0BwogTI8d6EEiYmVzN0kyQ19CU3M/edit>\n",
    "\n",
    "A base de dados pode ser obtida no seguinte endereço:\n",
    "<https://docs.google.com/file/d/0BwogTI8d6EEiZG9tckVISXd4SzA/edit>"
   ]
  },
  {
   "cell_type": "code",
   "execution_count": 1,
   "metadata": {},
   "outputs": [
    {
     "name": "stderr",
     "output_type": "stream",
     "text": [
      "Warning message:\n",
      "\"package 'quantreg' was built under R version 3.6.3\"Loading required package: SparseM\n",
      "Warning message:\n",
      "\"package 'SparseM' was built under R version 3.6.2\"\n",
      "Attaching package: 'SparseM'\n",
      "\n",
      "The following object is masked from 'package:base':\n",
      "\n",
      "    backsolve\n",
      "\n"
     ]
    },
    {
     "data": {
      "text/plain": [
       "     totexp      \n",
       " Min.   :     3  \n",
       " 1st Qu.:  1433  \n",
       " Median :  3334  \n",
       " Mean   :  7290  \n",
       " 3rd Qu.:  7492  \n",
       " Max.   :125610  "
      ]
     },
     "metadata": {},
     "output_type": "display_data"
    },
    {
     "data": {
      "text/plain": [
       "    suppins           totchr           age            female      \n",
       " Min.   :0.0000   Min.   :0.000   Min.   :65.00   Min.   :0.0000  \n",
       " 1st Qu.:0.0000   1st Qu.:1.000   1st Qu.:69.00   1st Qu.:0.0000  \n",
       " Median :1.0000   Median :2.000   Median :74.00   Median :1.0000  \n",
       " Mean   :0.5915   Mean   :1.809   Mean   :74.25   Mean   :0.5841  \n",
       " 3rd Qu.:1.0000   3rd Qu.:3.000   3rd Qu.:79.00   3rd Qu.:1.0000  \n",
       " Max.   :1.0000   Max.   :7.000   Max.   :90.00   Max.   :1.0000  \n",
       "     white       \n",
       " Min.   :0.0000  \n",
       " 1st Qu.:1.0000  \n",
       " Median :1.0000  \n",
       " Mean   :0.9736  \n",
       " 3rd Qu.:1.0000  \n",
       " Max.   :1.0000  "
      ]
     },
     "metadata": {},
     "output_type": "display_data"
    },
    {
     "data": {
      "text/plain": [
       "\n",
       "Call:\n",
       "lm(formula = Y ~ X, data = mydata)\n",
       "\n",
       "Residuals:\n",
       "   Min     1Q Median     3Q    Max \n",
       "-16146  -5372  -2804    457 115461 \n",
       "\n",
       "Coefficients:\n",
       "             Estimate Std. Error t value Pr(>|t|)    \n",
       "(Intercept)   461.492   2777.453   0.166  0.86805    \n",
       "Xsuppins      585.984    436.309   1.343  0.17936    \n",
       "Xtotchr      2528.079    164.834  15.337  < 2e-16 ***\n",
       "Xage            6.711     33.768   0.199  0.84248    \n",
       "Xfemale     -1239.866    433.110  -2.863  0.00423 ** \n",
       "Xwhite       2193.155   1327.794   1.652  0.09870 .  \n",
       "---\n",
       "Signif. codes:  0 '***' 0.001 '**' 0.01 '*' 0.05 '.' 0.1 ' ' 1\n",
       "\n",
       "Residual standard error: 11520 on 2949 degrees of freedom\n",
       "Multiple R-squared:  0.07828,\tAdjusted R-squared:  0.07672 \n",
       "F-statistic: 50.09 on 5 and 2949 DF,  p-value: < 2.2e-16\n"
      ]
     },
     "metadata": {},
     "output_type": "display_data"
    }
   ],
   "source": [
    "# install.packages(\"quantreg\")\n",
    "library(quantreg)\n",
    "\n",
    "mydata<- read.csv(\"quantile_health.csv\")\n",
    "attach(mydata)\n",
    "\n",
    "# Define variables\n",
    "Y <- cbind(totexp)\n",
    "X <- cbind(suppins, totchr, age, female, white)\n",
    "\n",
    "# Descriptive statistics\n",
    "summary(Y)\n",
    "summary(X)\n",
    "\n",
    "# OLS regression\n",
    "olsreg <- lm(Y ~ X, data=mydata)\n",
    "summary(olsreg)\n",
    "\n"
   ]
  },
  {
   "cell_type": "code",
   "execution_count": 2,
   "metadata": {},
   "outputs": [
    {
     "name": "stderr",
     "output_type": "stream",
     "text": [
      "Warning message in summary.rq(quantreg25):\n",
      "\"2 non-positive fis\""
     ]
    },
    {
     "data": {
      "text/plain": [
       "\n",
       "Call: rq(formula = Y ~ X, tau = 0.25, data = mydata)\n",
       "\n",
       "tau: [1] 0.25\n",
       "\n",
       "Coefficients:\n",
       "            Value       Std. Error  t value     Pr(>|t|)   \n",
       "(Intercept) -1412.88889   433.20179    -3.26150     0.00112\n",
       "Xsuppins      453.44444    75.05348     6.04162     0.00000\n",
       "Xtotchr       782.47222    37.55769    20.83388     0.00000\n",
       "Xage           16.08333     6.19162     2.59760     0.00943\n",
       "Xfemale        16.05556    72.20278     0.22237     0.82404\n",
       "Xwhite        338.08333    71.51522     4.72743     0.00000"
      ]
     },
     "metadata": {},
     "output_type": "display_data"
    },
    {
     "name": "stderr",
     "output_type": "stream",
     "text": [
      "Warning message in rq.fit.br(x, y, tau = tau, ...):\n",
      "\"Solution may be nonunique\""
     ]
    },
    {
     "data": {
      "text/plain": [
       "\n",
       "Call: rq(formula = Y ~ X, tau = 0.5, data = mydata)\n",
       "\n",
       "tau: [1] 0.5\n",
       "\n",
       "Coefficients:\n",
       "            Value       Std. Error  t value     Pr(>|t|)   \n",
       "(Intercept) -2252.55556   846.23023    -2.66187     0.00781\n",
       "Xsuppins      687.22222   137.29264     5.00553     0.00000\n",
       "Xtotchr      1332.83333    74.77913    17.82360     0.00000\n",
       "Xage           35.11111    11.29450     3.10869     0.00190\n",
       "Xfemale      -260.55556   150.46285    -1.73169     0.08343\n",
       "Xwhite        632.88889   243.05734     2.60387     0.00926"
      ]
     },
     "metadata": {},
     "output_type": "display_data"
    },
    {
     "name": "stderr",
     "output_type": "stream",
     "text": [
      "Warning message in summary.rq(quantreg75):\n",
      "\"12 non-positive fis\""
     ]
    },
    {
     "data": {
      "text/plain": [
       "\n",
       "Call: rq(formula = Y ~ X, tau = 0.75, data = mydata)\n",
       "\n",
       "tau: [1] 0.75\n",
       "\n",
       "Coefficients:\n",
       "            Value       Std. Error  t value     Pr(>|t|)   \n",
       "(Intercept) -4512.04545  2350.56284    -1.91956     0.05501\n",
       "Xsuppins      708.40909   375.76929     1.88522     0.05950\n",
       "Xtotchr      2855.31818   196.12587    14.55860     0.00000\n",
       "Xage           87.36364    30.98410     2.81963     0.00484\n",
       "Xfemale      -554.59091   378.71501    -1.46440     0.14319\n",
       "Xwhite        801.68182   370.96108     2.16109     0.03077"
      ]
     },
     "metadata": {},
     "output_type": "display_data"
    }
   ],
   "source": [
    "# A regressão quantilica é apresentada a seguir\n",
    "\n",
    "# Quantile regression\n",
    "quantreg25 <- rq(Y ~ X, data=mydata, tau=0.25)\n",
    "summary(quantreg25)\n",
    "\n",
    "quantreg50 <- rq(Y ~ X, data=mydata, tau=0.5)\n",
    "summary(quantreg50)\n",
    "\n",
    "quantreg75 <- rq(Y ~ X, data=mydata, tau=0.75)\n",
    "summary(quantreg75)\n"
   ]
  },
  {
   "cell_type": "code",
   "execution_count": 3,
   "metadata": {},
   "outputs": [
    {
     "name": "stderr",
     "output_type": "stream",
     "text": [
      "Warning message in summary.rq(xi, U = U, ...):\n",
      "\"2 non-positive fis\"Warning message in summary.rq(xi, U = U, ...):\n",
      "\"12 non-positive fis\""
     ]
    },
    {
     "data": {
      "text/plain": [
       "\n",
       "Call: rq(formula = Y ~ X, tau = c(0.25, 0.75), data = mydata)\n",
       "\n",
       "tau: [1] 0.25\n",
       "\n",
       "Coefficients:\n",
       "            Value       Std. Error  t value     Pr(>|t|)   \n",
       "(Intercept) -1412.88889   433.20179    -3.26150     0.00112\n",
       "Xsuppins      453.44444    75.05348     6.04162     0.00000\n",
       "Xtotchr       782.47222    37.55769    20.83388     0.00000\n",
       "Xage           16.08333     6.19162     2.59760     0.00943\n",
       "Xfemale        16.05556    72.20278     0.22237     0.82404\n",
       "Xwhite        338.08333    71.51522     4.72743     0.00000\n",
       "\n",
       "Call: rq(formula = Y ~ X, tau = c(0.25, 0.75), data = mydata)\n",
       "\n",
       "tau: [1] 0.75\n",
       "\n",
       "Coefficients:\n",
       "            Value       Std. Error  t value     Pr(>|t|)   \n",
       "(Intercept) -4512.04545  2350.56284    -1.91956     0.05501\n",
       "Xsuppins      708.40909   375.76929     1.88522     0.05950\n",
       "Xtotchr      2855.31818   196.12587    14.55860     0.00000\n",
       "Xage           87.36364    30.98410     2.81963     0.00484\n",
       "Xfemale      -554.59091   378.71501    -1.46440     0.14319\n",
       "Xwhite        801.68182   370.96108     2.16109     0.03077"
      ]
     },
     "metadata": {},
     "output_type": "display_data"
    },
    {
     "name": "stderr",
     "output_type": "stream",
     "text": [
      "Warning message in summary.rq(x, se = se, R = R, covariance = TRUE):\n",
      "\"2 non-positive fis\"Warning message in summary.rq(x, se = se, R = R, covariance = TRUE):\n",
      "\"12 non-positive fis\""
     ]
    },
    {
     "data": {
      "text/plain": [
       "Quantile Regression Analysis of Deviance Table\n",
       "\n",
       "Model: Y ~ X\n",
       "Joint Test of Equality of Slopes: tau in {  0.25 0.75  }\n",
       "\n",
       "  Df Resid Df F value    Pr(>F)    \n",
       "1  5     5905  37.831 < 2.2e-16 ***\n",
       "---\n",
       "Signif. codes:  0 '***' 0.001 '**' 0.01 '*' 0.05 '.' 0.1 ' ' 1"
      ]
     },
     "metadata": {},
     "output_type": "display_data"
    }
   ],
   "source": [
    "# Simultaneous quantile regression\n",
    "quantreg2575 <- rq(Y ~ X, data=mydata, tau=c(0.25, 0.75))\n",
    "summary(quantreg2575)\n",
    "\n",
    "# ANOVA test for coefficient differences\n",
    "anova(quantreg25, quantreg75)\n"
   ]
  },
  {
   "cell_type": "code",
   "execution_count": 4,
   "metadata": {},
   "outputs": [
    {
     "name": "stderr",
     "output_type": "stream",
     "text": [
      "Warning message in rq.fit.br(x, y, tau = tau, ...):\n",
      "\"Solution may be nonunique\"Warning message in rq.fit.br(x, y, tau = tau, ...):\n",
      "\"Solution may be nonunique\"Warning message in summary.rq(xi, U = U, ...):\n",
      "\"16 non-positive fis\"Warning message in summary.rq(xi, U = U, ...):\n",
      "\"12 non-positive fis\"Warning message in summary.rq(xi, U = U, ...):\n",
      "\"49 non-positive fis\"Warning message in summary.rq(xi, U = U, ...):\n",
      "\"19 non-positive fis\"Warning message in summary.rq(xi, U = U, ...):\n",
      "\"2 non-positive fis\"Warning message in summary.rq(xi, U = U, ...):\n",
      "\"12 non-positive fis\"Warning message in summary.rq(xi, U = U, ...):\n",
      "\"3 non-positive fis\"Warning message in summary.rq(xi, U = U, ...):\n",
      "\"25 non-positive fis\""
     ]
    },
    {
     "data": {
      "image/png": "[encoded data removed]",
      "text/plain": [
       "Plot with title \"Xwhite\""
      ]
     },
     "metadata": {},
     "output_type": "display_data"
    }
   ],
   "source": [
    "# Os gráficos para os quantis 25%, 50% e 75% são apresentados a seguir:\n",
    "\n",
    "# Plotting data\n",
    "quantreg.all <- rq(Y ~ X, tau = seq(0.05, 0.95, by = 0.05), data=mydata)\n",
    "quantreg.plot <- summary(quantreg.all)\n",
    "plot(quantreg.plot)\n"
   ]
  }
 ],
 "metadata": {
  "kernelspec": {
   "display_name": "R",
   "language": "R",
   "name": "ir"
  },
  "language_info": {
   "codemirror_mode": "r",
   "file_extension": ".r",
   "mimetype": "text/x-r-source",
   "name": "R",
   "pygments_lexer": "r",
   "version": "3.6.1"
  }
 },
 "nbformat": 4,
 "nbformat_minor": 4
}
