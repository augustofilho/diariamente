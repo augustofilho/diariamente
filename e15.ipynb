{
 "cells": [
  {
   "cell_type": "markdown",
   "metadata": {},
   "source": [
    "# Day 15:30 daily statistics - Correlação - P2"
   ]
  },
  {
   "cell_type": "markdown",
   "metadata": {},
   "source": [
    "$\\color{red}{\\text{Exercício 7}}$ - **Retirado do livro: Análise de Modelos de Regressão Linear com Aplicações, de Charnet, Freire, Charnet e Bonvino** - Um estudo sobre a relação entre duas variáveis forneceu os seguintes resultados: $$\\hat{y}=1,84+0,40x \\qquad (S_{xx})^{1/2}=1,69 \\qquad (S_{yy})^{1/2}=1,51 \\qquad \\overline{y}=4,00$$  \n",
    "\n",
    "* Encontre:\n",
    "    + a) A média amostral da variável x;\n",
    "    + b) O coeficiente de correlação entre x e y;\n",
    "    + c) O erro padrão da regressão;\n",
    "    + d) O desvio padrão do coeficiente de inclinação da reta;\n",
    "    + e) Um intervalo de confiança para o coeficiente linear.\n",
    "\n"
   ]
  },
  {
   "cell_type": "markdown",
   "metadata": {},
   "source": [
    "$\\color{red}{\\text{a)}}$ **A média amostral da variável x é dada poderá ser** obtida por $\\hat{y}=1,84+0,40X$, onde $\\overline{y}=4$. Portanto, temos: $$\\hat{y}=1,84+0,40X$$\n",
    "\n",
    "$$1,84+0,40\\overline{x}=\\overline{y}$$\n",
    "$$0,40\\overline{x}=\\overline{y}-1,84$$\n",
    "$$0,40\\overline{x}=4-1,84$$\n",
    "$$0,40\\overline{x}=2,16$$\n",
    "$$\\overline{x}=\\frac{2,16}{0,40}=5,4$$\n",
    "\n",
    "\n",
    "$\\color{red}{\\text{b)}}$ **O coeficiente de correlação entre x e y** é dado por:\n",
    "$$\\hat{\\rho}_{(x,y)}=\\hat{\\beta}_1\\times \\frac{\\sqrt{S_{xx}}}{\\sqrt{S_{yy}}}$$\n",
    "$$\\hat{\\rho}_{(x,y)}=0,40 \\times \\frac{1,69}{1,51}$$\n",
    "$$\\hat{\\rho}_{(x,y)}=0,4477$$\n",
    "\n",
    "\n",
    "$\\color{red}{\\text{c)}}$ **O Erro padrão da regressão** é dado por:\n",
    "$$\\sigma_e=\\sqrt{\\sigma^2_e}$$\n",
    "\n",
    "Onde $\\sigma^2_e=\\frac{SQ_{residuo}}{(n-2)}$ e $SQ_{residuo}=SQ_{Total}-SQ_{regressao}$. \n",
    "\n",
    "Tendo $S_{xx}=\\sum(x_i-\\overline{x})^2$ e $(S_{xx})^{1/2}=1,69$ é igual a $(\\sqrt{S_{xx}})=1,69$ e equivale a $(\\sqrt{S_{xx}})^2=1,69^2$ e $(S_{xx})=1,69^2$:\n",
    "\n",
    "$$SQ_{total}=S_{yy}=\\sum(y_i-\\overline{y})^2=1,51^2=2,2801$$\n",
    "$$SQ_{regressao}=\\hat{\\beta}^2_1 \\times \\sum(x_i-\\overline{x})^2=0,40^2\\times 1,69^2=0,4570$$.\n",
    "\n",
    "Logo $SQ_{residuo}=2,2801-0,4570=1,8231$. \n",
    "\n",
    "Portanto o erro padrão da regressão é dado por:\n",
    "$$\\sigma^2_e=\\frac{SQ_{residuo}}{(n-2)}=\\frac{1,8231}{(n-2)}$$\n",
    "$$\\sigma_e=\\sqrt{\\frac{1,8231}{(n-2)}}$$\n",
    "\n",
    "\n",
    "$\\color{red}{\\text{d)}}$ **O desvio padrão do coeficiente de inclinação** da reta é dada por:\n",
    "$$Var(\\hat{\\beta}_1)=\\frac{\\sigma^2_e}{\\sum(x_i-\\overline{x})^2}$$\n",
    "$$Var(\\hat{\\beta}_1)=\\frac{\\sigma^2_e}{S_{xx}}$$\n",
    "Portanto:\n",
    "$$Var(\\hat{\\beta}_1)=\\frac{\\sigma^2_e}{1,69^2}$$\n",
    "\n"
   ]
  },
  {
   "cell_type": "markdown",
   "metadata": {},
   "source": [
    "$\\color{red}{\\text{Exercício 8}}$ - **Retirado do livro: Análise de Modelos de Regressão Linear com Aplicações, de Charnet, Freire, Charnet e Bonvino** - Em uma grande empresa, a taxa de acidentes de trabalho, por milhão de horas/homem de exposição ao risco, nos últimos nove anos, foram as seguintes:\n",
    "\n",
    "|  Ano | 1989 | 1990 | 1991 | 1992 | 1993 | 1994 | 1995 | 1996 | 1997 |\n",
    "|:----:|:----:|:----:|:----:|:----:|:----:|:----:|:----:|:----:|:----:|\n",
    "| Taxa | 4,75 | 4,58 | 4,34 | 6,20 | 6,09 | 6,30 | 6,51 | 5,88 | 6,55 |\n",
    "\n",
    "+ a) Construa um gráfico de dispersão para a taxa de acidentes em função do ano;\n",
    "+ b) Calcule a correlação entre a taxa de acidentes e o ano de ocorrência. Ajuste um modelo a estes dados;\n",
    "+ c) Para cada uma das transformações da variável ano, abaixo, encontre o coeficiente de correlação e ajuste um modelo:\n",
    "    * i) Ano 1  = \"Ano - 1988\"\n",
    "    * ii) Ano 2 = \"Ano - 1993\"\n",
    "+ d) Comente os resultados obtidos nos itens (b) e (c)."
   ]
  },
  {
   "cell_type": "markdown",
   "metadata": {},
   "source": [
    "$\\color{red}{\\text{a)}}$ **A construção de um gráfico de dispersão para a taxa de acidentes em função do ano é apresentado abaixo**"
   ]
  },
  {
   "cell_type": "code",
   "execution_count": 1,
   "metadata": {},
   "outputs": [
    {
     "data": {
      "image/png": "[encoded data removed]",
      "text/plain": [
       "plot without title"
      ]
     },
     "metadata": {},
     "output_type": "display_data"
    }
   ],
   "source": [
    "ano=seq(1989,1997,by=1)\n",
    "taxa=c(4.75, 4.58, 4.34, 6.20, 6.09, 6.30, 6.51, 5.88, 6.55)\n",
    "plot(ano,taxa)"
   ]
  },
  {
   "cell_type": "markdown",
   "metadata": {},
   "source": [
    "$\\color{red}{\\text{b)}}$ **O cálculo da correlação entre a taxa de acidentes e o ano de ocorrência é apresentado a seguir e ajuste um modelo**"
   ]
  },
  {
   "cell_type": "code",
   "execution_count": 2,
   "metadata": {},
   "outputs": [
    {
     "name": "stdout",
     "output_type": "stream",
     "text": [
      "A taxa de correlação é apresentado a seguir 0.8071128"
     ]
    }
   ],
   "source": [
    "cat(\"A taxa de correlação é apresentado a seguir\",cor(ano,taxa))"
   ]
  },
  {
   "cell_type": "code",
   "execution_count": 3,
   "metadata": {},
   "outputs": [
    {
     "data": {
      "text/plain": [
       "\n",
       "Call:\n",
       "lm(formula = taxa ~ ano, data = dados100)\n",
       "\n",
       "Residuals:\n",
       "     Min       1Q   Median       3Q      Max \n",
       "-0.83089 -0.33189  0.09711  0.35211  0.77011 \n",
       "\n",
       "Coefficients:\n",
       "              Estimate Std. Error t value Pr(>|t|)   \n",
       "(Intercept) -510.49811  142.71462  -3.577  0.00901 **\n",
       "ano            0.25900    0.07161   3.617  0.00855 **\n",
       "---\n",
       "Signif. codes:  0 '***' 0.001 '**' 0.01 '*' 0.05 '.' 0.1 ' ' 1\n",
       "\n",
       "Residual standard error: 0.5547 on 7 degrees of freedom\n",
       "Multiple R-squared:  0.6514,\tAdjusted R-squared:  0.6016 \n",
       "F-statistic: 13.08 on 1 and 7 DF,  p-value: 0.008545\n"
      ]
     },
     "metadata": {},
     "output_type": "display_data"
    }
   ],
   "source": [
    "#O ajuste do modelo\n",
    "dados100=data.frame(ano,taxa)\n",
    "ajuste100=lm(taxa~ano,data=dados100)\n",
    "summary(ajuste100)"
   ]
  },
  {
   "cell_type": "markdown",
   "metadata": {},
   "source": [
    "O modelo encontrado é dado por $\\hat{y}=-510,49+0,25X$, com um coeficiente de determinação de 65,14%."
   ]
  },
  {
   "cell_type": "markdown",
   "metadata": {},
   "source": [
    "$\\color{red}{\\text{c)}}$ **Encontre o coeficiente de correlação e o ajuste para cada transformação**"
   ]
  },
  {
   "cell_type": "code",
   "execution_count": 4,
   "metadata": {},
   "outputs": [
    {
     "name": "stdout",
     "output_type": "stream",
     "text": [
      "A correlação entre Ano1 e Taxa é 0.8071128\n",
      "A correlação entre Ano2 e Taxa é 0.8071128\n",
      "\n",
      "Ajuste para Ano1\n"
     ]
    },
    {
     "data": {
      "text/plain": [
       "\n",
       "Call:\n",
       "lm(formula = taxa ~ ano1, data = dados1)\n",
       "\n",
       "Residuals:\n",
       "     Min       1Q   Median       3Q      Max \n",
       "-0.83089 -0.33189  0.09711  0.35211  0.77011 \n",
       "\n",
       "Coefficients:\n",
       "            Estimate Std. Error t value Pr(>|t|)    \n",
       "(Intercept)  4.39389    0.40296  10.904 1.21e-05 ***\n",
       "ano1         0.25900    0.07161   3.617  0.00855 ** \n",
       "---\n",
       "Signif. codes:  0 '***' 0.001 '**' 0.01 '*' 0.05 '.' 0.1 ' ' 1\n",
       "\n",
       "Residual standard error: 0.5547 on 7 degrees of freedom\n",
       "Multiple R-squared:  0.6514,\tAdjusted R-squared:  0.6016 \n",
       "F-statistic: 13.08 on 1 and 7 DF,  p-value: 0.008545\n"
      ]
     },
     "metadata": {},
     "output_type": "display_data"
    },
    {
     "name": "stdout",
     "output_type": "stream",
     "text": [
      "\n",
      "\n",
      "Ajuste para Ano2\n"
     ]
    },
    {
     "data": {
      "text/plain": [
       "\n",
       "Call:\n",
       "lm(formula = taxa ~ ano2, data = dados2)\n",
       "\n",
       "Residuals:\n",
       "     Min       1Q   Median       3Q      Max \n",
       "-0.83089 -0.33189  0.09711  0.35211  0.77011 \n",
       "\n",
       "Coefficients:\n",
       "            Estimate Std. Error t value Pr(>|t|)    \n",
       "(Intercept)  5.68889    0.18489  30.769 9.89e-09 ***\n",
       "ano2         0.25900    0.07161   3.617  0.00855 ** \n",
       "---\n",
       "Signif. codes:  0 '***' 0.001 '**' 0.01 '*' 0.05 '.' 0.1 ' ' 1\n",
       "\n",
       "Residual standard error: 0.5547 on 7 degrees of freedom\n",
       "Multiple R-squared:  0.6514,\tAdjusted R-squared:  0.6016 \n",
       "F-statistic: 13.08 on 1 and 7 DF,  p-value: 0.008545\n"
      ]
     },
     "metadata": {},
     "output_type": "display_data"
    }
   ],
   "source": [
    "ano1=ano-1988\n",
    "ano2=ano-1993\n",
    "\n",
    "cat(\"A correlação entre Ano1 e Taxa é\",cor(ano1,taxa))\n",
    "cat(\"\\nA correlação entre Ano2 e Taxa é\",cor(ano2,taxa))\n",
    "\n",
    "dados1=data.frame(ano1,taxa)\n",
    "dados2=data.frame(ano2,taxa)\n",
    "\n",
    "cat(\"\\n\\nAjuste para Ano1\\n\")\n",
    "ajuste1=lm(taxa~ano1,data=dados1)\n",
    "summary(ajuste1)\n",
    "\n",
    "cat(\"\\n\\nAjuste para Ano2\\n\")\n",
    "ajuste2=lm(taxa~ano2,data=dados2)\n",
    "summary(ajuste2)"
   ]
  },
  {
   "cell_type": "markdown",
   "metadata": {},
   "source": [
    "$\\color{red}{\\text{d)}}$ **Comentários sobre os resultados obtidos em (b) e (c)**"
   ]
  },
  {
   "cell_type": "markdown",
   "metadata": {},
   "source": [
    "Os coeficientes de correlação são iguais em ambas as questões, sendo igual a 0,8071. Os modelos ajustados são significativos com Ano1 e Ano2 e possuem iguais coeficientes de determinação, indicando que os modelos ajustados explicam 65,15% a variabilidade inerente ao processo."
   ]
  },
  {
   "cell_type": "markdown",
   "metadata": {},
   "source": [
    "$\\color{red}{\\text{Exercício 9}}$ - **Retirado do livro: Análise de Modelos de Regressão Linear com Aplicações, de Charnet, Freire, Charnet e Bonvino** - Considere os seguintes resultados:\n",
    "\n",
    "$$n=25 \\qquad \\sum x=117 \\qquad \\sum y=190 \\qquad \\sum xy=1.393 \\qquad \\sum x^2=895 \\qquad \\sum y^2=2.368$$\n",
    "\n",
    "+ a) Encontre o coeficiente de correlação amostral;\n",
    "+ b) Encontre a reta de quadrados mínimos de melhor ajuste para estes dados;\n",
    "+ c) Teste, ao nível de 5% de significância, se $\\rho=0$;\n",
    "+ d) Teste se a inclinação da reta é igual a zero."
   ]
  },
  {
   "cell_type": "markdown",
   "metadata": {},
   "source": [
    "$\\color{red}{\\text{a)}}$ **O coeficiente de correlação amostral é dado por:**\n",
    "\n",
    "$$\\hat{\\rho}_{x,y}=\\frac{cov(x,y)}{\\sigma_x\\cdot \\sigma_y}$$\n",
    "\n",
    "O que é equivalente a:\n",
    "\n",
    "$$r=\\frac{\\sum xy-\\frac{(\\sum x)(\\sum y)}{n}}{\\sqrt{\\bigg(\\sum x^2-\\frac{(\\sum x)^2}{n} \\bigg)\\bigg( \\sum y^2-\\frac{(\\sum y)^2}{n}\\bigg)}}$$\n",
    "\n",
    "Portanto $r$ é o estimador natural de $\\rho$.\n",
    "\n",
    "$$r=\\frac{1.393-\\frac{(117)(190)}{25}}{\\sqrt{\\bigg(895-\\frac{(117)^2}{25} \\bigg)\\bigg(2.368-\\frac{(190)^2}{25} \\bigg)}}=\\frac{503,8}{566,5991}=0,8892$$\n",
    "\n",
    "Portanto o coeficiente de correlação amostral entre X e Y é de $\\hat{\\rho}=0,8892$.\n",
    "\n",
    "\n",
    "\n",
    "\n"
   ]
  },
  {
   "cell_type": "markdown",
   "metadata": {},
   "source": [
    "$\\color{red}{\\text{b)}}$ **A reta de mínimos quadrados é dada por:**\n",
    "$$\\hat{\\beta_1}=\\frac{\\sum xy-\\frac{1}{n}\\sum y \\sum x}{\\sum x^2 -\\frac{1}{n}\\big(\\sum x\\big)^2}$$\n",
    "\n",
    "$$\\hat{\\beta_1}=\\frac{1.393-\\frac{1}{25}\\times 190 \\times 117}{895-\\frac{1}{25}\\times (117)^2}=1,45$$\n",
    "\n",
    "Portanto, o valor de $\\hat{\\beta}_1=1,45$. Para $\\hat{\\beta}_0$, temos:\n",
    "$$\\hat{\\beta}_0=\\frac{1}{n}\\sum y_i-\\hat{\\beta}_1\\frac{1}{n}\\sum x_i$$\n",
    "\n",
    "$$\\hat{\\beta}_0=\\frac{1}{25}\\times 190 - 1,45\\times \\frac{1}{25}\\times 117$$\n",
    "\n",
    "$$\\hat{\\beta}_0=0,814$$ \n",
    "\n",
    "Portanto o modelo estimado é dado por $\\hat{y}=0,814+1,45X$."
   ]
  },
  {
   "cell_type": "markdown",
   "metadata": {},
   "source": [
    "$\\color{red}{\\text{c)}}$ **O teste, ao nível de 5% de significância, para $\\rho=0$ é apresentado abaixo:**\n",
    "\n",
    "Para realizarmos este teste de hipótese iremos seguir alguns passos:\n",
    "\n",
    "+ **Determinação da hipótese**:\n",
    "$$H_0: \\rho = 0$$\n",
    "$$H_1: \\rho \\neq 0$$\n",
    "\n",
    "+ **Fixar o nível de significância em 5%  com $n-2$ graus de liberdade na tabela T-student, nos levará a 2,0687**.\n",
    "\n",
    "+ **Determinação da Região de Rejeição e da Região de Não Rejeição**.\n",
    "\n",
    "![](figura11.png)\n",
    "\n",
    "+ **Determinação da Estatística de Teste**:\n",
    "\n",
    "$$T=\\frac{\\hat{\\rho}\\sqrt{n-2}}{\\sqrt{1-\\hat{\\rho}^2}}$$\n",
    "\n",
    "$$T=\\frac{0,8892\\sqrt{25-2}}{\\sqrt{1-0,8892^2}}$$\n",
    "\n",
    "$$T=\\frac{4,2645}{0,4575}=9,319067$$\n",
    "\n",
    "+ **Decisão**: Como o valor da estatística de teste caiu dentro da região de rejeição existem evidencias amostrais ao nível de 5% de significância que nos levam a rejeição da hipótese nula, ou seja a correlação é estatísticamente significativa."
   ]
  },
  {
   "cell_type": "markdown",
   "metadata": {},
   "source": [
    "$\\color{red}{\\text{d)}}$ **Abaixo é apresentado o Teste para se verificar se a reta é signifcativa**"
   ]
  },
  {
   "cell_type": "markdown",
   "metadata": {},
   "source": [
    "Os passos para testarmos a significância da regressão é apresentado abaixo:\n",
    "\n",
    "+ **Definição as hipóteses:**\n",
    "\n",
    "$$H_0: \\beta_1 = 0$$\n",
    "$$H_1: \\beta_1 \\neq 0$$\n",
    "\n",
    "+ **Fixação do nível de significância em 5%. Quanto à variável, neste caso será a t de student com n-2 graus de liberdade. Logo o valor tabelado é dado por 2,0687.**\n",
    "\n",
    "+ **Determinar a região de rejeição e de não rejeição**\n",
    "\n",
    "![](figura11.png)\n",
    "\n",
    "\n",
    "+ **Estatística de Teste**\n",
    "\n",
    "$$t_{cal}=\\frac{b}{\\frac{S}{\\sqrt{S_{xx}}}}$$\n",
    "\n",
    "Onde $$b=\\frac{S_{xy}}{S_{xx}}=\\frac{\\sum xy-\\frac{(\\sum x)(\\sum y)}{n}}{\\sum x^2-\\frac{(\\sum x)^2}{n}}=1,45$$\n",
    "\n",
    "Com $$S_{xy}=\\sum xy-\\frac{(\\sum x)(\\sum y)}{n}=1.393-\\frac{(117)(190)}{25}=503,80$$\n",
    "\n",
    "e $$S_{xx}=\\sum x^2-\\frac{(\\sum x)^2}{n}=895-\\frac{(117)^2}{25}=347,44$$\n",
    "\n",
    "e $$S_{yy}=\\sum y^2-\\frac{(\\sum y)^2}{n}=2.368-\\frac{(190)^2}{25}=924$$\n",
    "\n",
    "e $$S^2=\\frac{S_{yy}-b S_{xy}}{n-2}=\\frac{924-1,45\\times  503,80}{25-2}=8,4126$$\n",
    "\n",
    "Portanto $$S=\\sqrt{S^2}=\\sqrt{8,4126}=2,9004$$\n",
    "\n",
    "Logo, a estatística de teste é dada por:\n",
    "\n",
    "$$t_{cal}=\\frac{b}{\\frac{S}{\\sqrt{S_{xx}}}}=\\frac{1,45}{\\frac{2,9004}{\\sqrt{347,44}}}=9,3186$$\n",
    "\n",
    "+ Decisão: Como o valor da estatística de teste caiu dentro da região de rejeição, existem fortes evidencias ao nível de 5% de significância que nos levam a rejeição da hipótese nula, ou seja o parâmetro $\\beta_1$ é considerado significativo para o modelo."
   ]
  },
  {
   "cell_type": "code",
   "execution_count": 5,
   "metadata": {},
   "outputs": [
    {
     "name": "stdout",
     "output_type": "stream",
     "text": [
      "a) O valor da correlação é 0.8891648\n",
      "b) A equação estimada é  y = 0.8138384 + 1.450035 X\n",
      "c) O valor tabelado da estatística de teste é para testar p=0 é 9.319067\n",
      "d) O valor da estatística de teste para testar B1=0 também é igual a 9.319067"
     ]
    }
   ],
   "source": [
    "#Usando o R para realizar os cálculos:\n",
    "n=25\n",
    "somaX=117\n",
    "somaY=190\n",
    "somaXY=1393\n",
    "somaX2=895\n",
    "somaY2=2368\n",
    "\n",
    "#Calculo da correlacao\n",
    "num=somaXY-(somaX*somaY)/n\n",
    "den=(somaX2-(somaX)^2/n)*(somaY2-(somaY)^2/n)\n",
    "r=num/sqrt(den)\n",
    "\n",
    "cat(\"a) O valor da correlação é\",r)\n",
    "\n",
    "#Calculo de B0\n",
    "b=(somaXY-(somaX*somaY)/n)/(somaX2-(somaX)^2/n)\n",
    "\n",
    "#Calculo de B1\n",
    "a=somaY/n-b*somaX/n\n",
    "cat(\"\\nb) A equação estimada é \", \"y\", \"=\", a, \"+\",b,\"X\")\n",
    "\n",
    "#Calculo da Estatística de Teste\n",
    "tcal=r*sqrt(n-2)/(sqrt(1-r^2))\n",
    "cat(\"\\nc) O valor tabelado da estatística de teste é para testar p=0 é\",tcal)\n",
    "cat(\"\\nd) O valor da estatística de teste para testar B1=0 também é igual a\",tcal)"
   ]
  },
  {
   "cell_type": "markdown",
   "metadata": {},
   "source": [
    "$\\color{red}{\\text{Exercício 10}}$ - **Retirado do livro: Análise de Modelos de Regressão Linear com Aplicações, de Charnet, Freire, Charnet e Bonvino** O custo da produção de um lote de uma certa peça depende do número de peças produzidas, ou seja, do tamanho do lote. Em uma amostra de dez lotes, observou-se os seguintes resultados:\n",
    "\n",
    "| Tamanho |  5 |  10 |  15 |  20 |  25 |  30 |  35 |  40 |  45 |  50 |\n",
    "|:-------:|:--:|:---:|:---:|:---:|:---:|:---:|:---:|:---:|:---:|:---:|\n",
    "|  Custo  | 65 | 120 | 210 | 260 | 380 | 450 | 510 | 555 | 615 | 660 |\n",
    "\n",
    "+ a) Obtenha o coeficiente de correlação entre o tamanho e o custo do lote;\n",
    "+ b) Ajuste um modelo para estes dados;\n",
    "+ c) Construa um intervalo de confiança para cada um dos parâmetros do modelo;\n",
    "+ d) Construa um diagrama de dispersão e trace a reta ajustada."
   ]
  },
  {
   "cell_type": "markdown",
   "metadata": {},
   "source": [
    "$\\color{red}{\\text{a)}}$ **O coeficiente de correlação é apresentado abaixo**"
   ]
  },
  {
   "cell_type": "code",
   "execution_count": 6,
   "metadata": {},
   "outputs": [
    {
     "name": "stdout",
     "output_type": "stream",
     "text": [
      "O coeficiente de correlação é dado por 0.9940385"
     ]
    }
   ],
   "source": [
    "tamanho=seq(5,50,by=5)\n",
    "custo=c(65,120,210,260,380,450,510,555,615,660)\n",
    "\n",
    "#Coeficiente de correlação \n",
    "cat(\"O coeficiente de correlação é dado por\",cor(tamanho,custo))"
   ]
  },
  {
   "cell_type": "markdown",
   "metadata": {},
   "source": [
    "$\\color{red}{\\text{b)}}$ **O ajuste do modelo é dado por:**"
   ]
  },
  {
   "cell_type": "code",
   "execution_count": 7,
   "metadata": {},
   "outputs": [
    {
     "data": {
      "text/plain": [
       "\n",
       "Call:\n",
       "lm(formula = custo ~ tamanho, data = dados10)\n",
       "\n",
       "Residuals:\n",
       "    Min      1Q  Median      3Q     Max \n",
       "-32.455 -16.530  -3.924  18.212  33.061 \n",
       "\n",
       "Coefficients:\n",
       "            Estimate Std. Error t value Pr(>|t|)    \n",
       "(Intercept)   3.6667    16.5735   0.221     0.83    \n",
       "tamanho      13.7758     0.5342  25.787 5.49e-09 ***\n",
       "---\n",
       "Signif. codes:  0 '***' 0.001 '**' 0.01 '*' 0.05 '.' 0.1 ' ' 1\n",
       "\n",
       "Residual standard error: 24.26 on 8 degrees of freedom\n",
       "Multiple R-squared:  0.9881,\tAdjusted R-squared:  0.9866 \n",
       "F-statistic:   665 on 1 and 8 DF,  p-value: 5.487e-09\n"
      ]
     },
     "metadata": {},
     "output_type": "display_data"
    }
   ],
   "source": [
    "dados10=data.frame(tamanho,custo)\n",
    "ajuste10=lm(custo~tamanho,data=dados10)\n",
    "summary(ajuste10)"
   ]
  },
  {
   "cell_type": "markdown",
   "metadata": {},
   "source": [
    "O modelo estimado é $\\hat{y}=3,6667+13,7758X$, com um coeficiente de determinação de 98,81%, indicando que a cada aumento no tamanho de 1 unidade o custo aumenta em média 13,77."
   ]
  },
  {
   "cell_type": "markdown",
   "metadata": {},
   "source": [
    "$\\color{red}{\\text{c)}}$ **O intervalo de confiança para os parâmetros estimados é apresentado a seguir:**"
   ]
  },
  {
   "cell_type": "code",
   "execution_count": 8,
   "metadata": {},
   "outputs": [
    {
     "data": {
      "text/html": [
       "<table>\n",
       "<thead><tr><th></th><th scope=col>2.5 %</th><th scope=col>97.5 %</th></tr></thead>\n",
       "<tbody>\n",
       "\t<tr><th scope=row>(Intercept)</th><td>-34.55178</td><td>41.88511 </td></tr>\n",
       "\t<tr><th scope=row>tamanho</th><td> 12.54387</td><td>15.00765 </td></tr>\n",
       "</tbody>\n",
       "</table>\n"
      ],
      "text/latex": [
       "\\begin{tabular}{r|ll}\n",
       "  & 2.5 \\% & 97.5 \\%\\\\\n",
       "\\hline\n",
       "\t(Intercept) & -34.55178 & 41.88511 \\\\\n",
       "\ttamanho &  12.54387 & 15.00765 \\\\\n",
       "\\end{tabular}\n"
      ],
      "text/markdown": [
       "\n",
       "| <!--/--> | 2.5 % | 97.5 % |\n",
       "|---|---|---|\n",
       "| (Intercept) | -34.55178 | 41.88511  |\n",
       "| tamanho |  12.54387 | 15.00765  |\n",
       "\n"
      ],
      "text/plain": [
       "            2.5 %     97.5 %  \n",
       "(Intercept) -34.55178 41.88511\n",
       "tamanho      12.54387 15.00765"
      ]
     },
     "metadata": {},
     "output_type": "display_data"
    }
   ],
   "source": [
    "confint(ajuste10,level=0.95)"
   ]
  },
  {
   "cell_type": "markdown",
   "metadata": {},
   "source": [
    "O intervalo de confiança para $\\beta_0$ é dado por $(-34,5517 \\leq \\beta_0 \\leq 41,885)$ e para $\\beta_1$ é dado por $(12,54 \\leq \\beta_1 \\leq 15,00)$ ao nível de 95% de confiança."
   ]
  },
  {
   "cell_type": "markdown",
   "metadata": {},
   "source": [
    "$\\color{red}{\\text{d)}}$ **Construa um diagrama de dispersão e trace a reta ajustada**"
   ]
  },
  {
   "cell_type": "code",
   "execution_count": 10,
   "metadata": {},
   "outputs": [
    {
     "data": {
      "image/png": "[encoded data removed]",
      "text/plain": [
       "plot without title"
      ]
     },
     "metadata": {},
     "output_type": "display_data"
    }
   ],
   "source": [
    "plot(custo~tamanho,pch=10)\n",
    "abline(ajuste10,col=\"red\")"
   ]
  }
 ],
 "metadata": {
  "kernelspec": {
   "display_name": "R",
   "language": "R",
   "name": "ir"
  },
  "language_info": {
   "codemirror_mode": "r",
   "file_extension": ".r",
   "mimetype": "text/x-r-source",
   "name": "R",
   "pygments_lexer": "r",
   "version": "3.6.1"
  }
 },
 "nbformat": 4,
 "nbformat_minor": 4
}
