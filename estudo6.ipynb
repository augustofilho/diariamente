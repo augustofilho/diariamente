{
 "cells": [
  {
   "cell_type": "markdown",
   "metadata": {},
   "source": [
    "# Day 6:30 daily statistics - ***Detecção de Heterocedasticiade***"
   ]
  },
  {
   "cell_type": "markdown",
   "metadata": {},
   "source": [
    "Ao se estudar os modelos lineares temos que ter atenção especial ao comportamento dos resíduos do modelo encontrado. Existem exigências que devem ser atendidas para que o modelo estimado possa proporcionar melhores resultados para um tomador de decisão, ou seja, é necessário que os parâmetros que irão fazer parte do modelo possam ser considerados significativos e que os resíduos possam ser considerados independentes e identicamente distribuídos, algo que a literatura chama de $IID$. Portanto caso o modelo não atenda a algumas das suposições de normalidade, homocedasticidade e independência nos resíduos o modelo não poderá ser utilizado para que sejam feitas inferências e nem tomadas de decisões antes que estes problemas sejam avaliados e corrigidos. No estudo de hoje irei estudar um conjunto de dados que apresenta o problema de falta de homocedasticidade (heterocedasticidade, ou seja, a variância dos resíduos não é constante), e aplicarei alguns testes do conjunto de dados a fim de resolver o problema da Heterocedasticidade nos resíduos."
   ]
  },
  {
   "cell_type": "markdown",
   "metadata": {},
   "source": [
    "Na análise dos resíduos de um modelo de regressão linear é um pressuposto básico a existência de variância constante, ou seja, é exigido que os resíduos tenham um comportamento ***homocedastico***. Se os resíduos não tiverem variância constante, dizemos que eles são ***heterocedasticos***, portanto é necessário respondermos a algumas perguntas para a detecção da ***heterocedasticidade***.\n",
    "\n",
    "+ Como deterctamos esse problema nos resíduos;\n",
    "+ Quais são as consequências nas propriedades dos estimadores de mínimos quadrados, e quais são as consequências nos erros padrão estimados se usarmos o método de mínimos quadrados ordinários?\n",
    "+ Quais são as soluções desse problema? "
   ]
  },
  {
   "cell_type": "code",
   "execution_count": 1,
   "metadata": {},
   "outputs": [
    {
     "data": {
      "text/html": [
       "<table>\n",
       "<thead><tr><th scope=col>y</th><th scope=col>x</th></tr></thead>\n",
       "<tbody>\n",
       "\t<tr><td>19.9</td><td>22.3</td></tr>\n",
       "\t<tr><td>31.2</td><td>32.3</td></tr>\n",
       "\t<tr><td>31.8</td><td>36.6</td></tr>\n",
       "\t<tr><td>12.1</td><td>12.1</td></tr>\n",
       "\t<tr><td>40.7</td><td>42.3</td></tr>\n",
       "\t<tr><td> 6.1</td><td> 6.2</td></tr>\n",
       "\t<tr><td>38.6</td><td>44.7</td></tr>\n",
       "\t<tr><td>25.5</td><td>26.1</td></tr>\n",
       "\t<tr><td>10.3</td><td>10.3</td></tr>\n",
       "\t<tr><td>38.8</td><td>40.2</td></tr>\n",
       "\t<tr><td> 8.0</td><td> 8.1</td></tr>\n",
       "\t<tr><td>33.1</td><td>34.5</td></tr>\n",
       "\t<tr><td>33.5</td><td>38.0</td></tr>\n",
       "\t<tr><td>13.1</td><td>14.1</td></tr>\n",
       "\t<tr><td>14.8</td><td>16.4</td></tr>\n",
       "\t<tr><td>21.6</td><td>24.1</td></tr>\n",
       "\t<tr><td>29.3</td><td>30.1</td></tr>\n",
       "\t<tr><td>25.0</td><td>28.3</td></tr>\n",
       "\t<tr><td>17.9</td><td>18.2</td></tr>\n",
       "\t<tr><td>19.8</td><td>20.1</td></tr>\n",
       "</tbody>\n",
       "</table>\n"
      ],
      "text/latex": [
       "\\begin{tabular}{r|ll}\n",
       " y & x\\\\\n",
       "\\hline\n",
       "\t 19.9 & 22.3\\\\\n",
       "\t 31.2 & 32.3\\\\\n",
       "\t 31.8 & 36.6\\\\\n",
       "\t 12.1 & 12.1\\\\\n",
       "\t 40.7 & 42.3\\\\\n",
       "\t  6.1 &  6.2\\\\\n",
       "\t 38.6 & 44.7\\\\\n",
       "\t 25.5 & 26.1\\\\\n",
       "\t 10.3 & 10.3\\\\\n",
       "\t 38.8 & 40.2\\\\\n",
       "\t  8.0 &  8.1\\\\\n",
       "\t 33.1 & 34.5\\\\\n",
       "\t 33.5 & 38.0\\\\\n",
       "\t 13.1 & 14.1\\\\\n",
       "\t 14.8 & 16.4\\\\\n",
       "\t 21.6 & 24.1\\\\\n",
       "\t 29.3 & 30.1\\\\\n",
       "\t 25.0 & 28.3\\\\\n",
       "\t 17.9 & 18.2\\\\\n",
       "\t 19.8 & 20.1\\\\\n",
       "\\end{tabular}\n"
      ],
      "text/markdown": [
       "\n",
       "| y | x |\n",
       "|---|---|\n",
       "| 19.9 | 22.3 |\n",
       "| 31.2 | 32.3 |\n",
       "| 31.8 | 36.6 |\n",
       "| 12.1 | 12.1 |\n",
       "| 40.7 | 42.3 |\n",
       "|  6.1 |  6.2 |\n",
       "| 38.6 | 44.7 |\n",
       "| 25.5 | 26.1 |\n",
       "| 10.3 | 10.3 |\n",
       "| 38.8 | 40.2 |\n",
       "|  8.0 |  8.1 |\n",
       "| 33.1 | 34.5 |\n",
       "| 33.5 | 38.0 |\n",
       "| 13.1 | 14.1 |\n",
       "| 14.8 | 16.4 |\n",
       "| 21.6 | 24.1 |\n",
       "| 29.3 | 30.1 |\n",
       "| 25.0 | 28.3 |\n",
       "| 17.9 | 18.2 |\n",
       "| 19.8 | 20.1 |\n",
       "\n"
      ],
      "text/plain": [
       "   y    x   \n",
       "1  19.9 22.3\n",
       "2  31.2 32.3\n",
       "3  31.8 36.6\n",
       "4  12.1 12.1\n",
       "5  40.7 42.3\n",
       "6   6.1  6.2\n",
       "7  38.6 44.7\n",
       "8  25.5 26.1\n",
       "9  10.3 10.3\n",
       "10 38.8 40.2\n",
       "11  8.0  8.1\n",
       "12 33.1 34.5\n",
       "13 33.5 38.0\n",
       "14 13.1 14.1\n",
       "15 14.8 16.4\n",
       "16 21.6 24.1\n",
       "17 29.3 30.1\n",
       "18 25.0 28.3\n",
       "19 17.9 18.2\n",
       "20 19.8 20.1"
      ]
     },
     "metadata": {},
     "output_type": "display_data"
    }
   ],
   "source": [
    "y=c(19.9, 31.2, 31.8, 12.1, 40.7, 6.1, 38.6, 25.5, 10.3, 38.8, 8, 33.1, 33.5, 13.1, 14.8, 21.6, 29.3, 25, 17.9, 19.8)\n",
    "x=c(22.3, 32.3, 36.6, 12.1, 42.3, 6.2, 44.7, 26.1, 10.3, 40.2, 8.1,34.5, 38, 14.1, 16.4, 24.1, 30.1, 28.3, 18.2, 20.1)\n",
    "dados=data.frame(y,x)\n",
    "dados"
   ]
  },
  {
   "cell_type": "code",
   "execution_count": 2,
   "metadata": {},
   "outputs": [
    {
     "data": {
      "text/plain": [
       "\n",
       "Call:\n",
       "lm(formula = y ~ x, data = dados)\n",
       "\n",
       "Residuals:\n",
       "     Min       1Q   Median       3Q      Max \n",
       "-2.44687 -0.94108  0.02916  1.19199  1.81151 \n",
       "\n",
       "Coefficients:\n",
       "            Estimate Std. Error t value Pr(>|t|)    \n",
       "(Intercept)  0.84705    0.70335   1.204    0.244    \n",
       "x            0.89932    0.02531  35.534   <2e-16 ***\n",
       "---\n",
       "Signif. codes:  0 '***' 0.001 '**' 0.01 '*' 0.05 '.' 0.1 ' ' 1\n",
       "\n",
       "Residual standard error: 1.314 on 18 degrees of freedom\n",
       "Multiple R-squared:  0.9859,\tAdjusted R-squared:  0.9852 \n",
       "F-statistic:  1263 on 1 and 18 DF,  p-value: < 2.2e-16\n"
      ]
     },
     "metadata": {},
     "output_type": "display_data"
    }
   ],
   "source": [
    "#ajuste do modelo\n",
    "\n",
    "ajuste=lm(y~x,data=dados)\n",
    "summary(ajuste)"
   ]
  },
  {
   "cell_type": "markdown",
   "metadata": {},
   "source": [
    "O modelo encontrado possui o seguinte modelo de previsão $\\hat{y}=0.84705+0.89932x$. Ainda é possível afirmar que além do modelo explicar 98,59% da variabilidade que é inerente ao processo o modelo é considerado significativo, pois o p-valor foi menor do que 0,05. "
   ]
  },
  {
   "cell_type": "code",
   "execution_count": 3,
   "metadata": {},
   "outputs": [
    {
     "data": {
      "image/png": "[encoded data removed]",
      "text/plain": [
       "plot without title"
      ]
     },
     "metadata": {},
     "output_type": "display_data"
    }
   ],
   "source": [
    "#Gráfico para o modelo estimado\n",
    "\n",
    "plot(y~x,pch=16,data=dados)\n",
    "abline(ajuste,col=\"red\")"
   ]
  },
  {
   "cell_type": "markdown",
   "metadata": {},
   "source": [
    "Neste momento pode-se dizer que o modelo é excelente, possui um coeficiente de determianção de 98,59%, o modelo de previsão encontrado foi considerado signficativo e graficamente o modelo ajusta-se muito bem aos dados. No entanto para usarmos o modelo para realizar ***previsões*** e tomadas de decisões deve-se avaliar os resíduos do modelo encontrado. Primeiramente realizaremos uma análise gráfica para termos idéia da existência de problemas nos resíduso e o que deve-se fazer para concortar tais problemas."
   ]
  },
  {
   "cell_type": "code",
   "execution_count": 4,
   "metadata": {},
   "outputs": [
    {
     "data": {
      "image/png": "[encoded data removed]",
      "text/plain": [
       "plot without title"
      ]
     },
     "metadata": {},
     "output_type": "display_data"
    }
   ],
   "source": [
    "#Gráfico para os resíduos\n",
    "plot(resid(ajuste)~predict(ajuste),pch=16)\n",
    "abline(0,0,col=\"red\")"
   ]
  },
  {
   "cell_type": "markdown",
   "metadata": {},
   "source": [
    "O gráfico dos valores previstos pelos resíduso mostra a existência da falta de homogeneidade da variância nos resíduos (a variância não é constante nos resíduos), formando um gráfico em forma de V. Tal gráfico indica a presença da ***heterocedasticidade*** nos resíduos."
   ]
  },
  {
   "cell_type": "code",
   "execution_count": 5,
   "metadata": {},
   "outputs": [
    {
     "data": {
      "image/png": "[encoded data removed]",
      "text/plain": [
       "Plot with title \"\""
      ]
     },
     "metadata": {},
     "output_type": "display_data"
    }
   ],
   "source": [
    "#Continuando a análise nos resíduos\n",
    "par(mfrow=c(2,2))\n",
    "plot(ajuste)"
   ]
  },
  {
   "cell_type": "markdown",
   "metadata": {},
   "source": [
    "Com o problema da ***heterocedasticidade*** em nossas mãos devemos nos concentrar para resolve-lo. Em algumas situações mais simples o problema da ***heteroedasticidade*** é resolvido pela estimação da regressão em uma forma ***log-linear***, o seja,  Quando regredimos ***log y em log x***, este tipo de modelagem é conhecida como **modelo log-log**."
   ]
  },
  {
   "cell_type": "code",
   "execution_count": 6,
   "metadata": {},
   "outputs": [
    {
     "data": {
      "text/plain": [
       "\n",
       "Call:\n",
       "lm(formula = log(y) ~ log(x), data = dados2)\n",
       "\n",
       "Residuals:\n",
       "     Min       1Q   Median       3Q      Max \n",
       "-0.05852 -0.04762  0.01503  0.04106  0.05072 \n",
       "\n",
       "Coefficients:\n",
       "            Estimate Std. Error t value Pr(>|t|)    \n",
       "(Intercept)  0.07567    0.05739   1.318    0.204    \n",
       "log(x)       0.95619    0.01825  52.380   <2e-16 ***\n",
       "---\n",
       "Signif. codes:  0 '***' 0.001 '**' 0.01 '*' 0.05 '.' 0.1 ' ' 1\n",
       "\n",
       "Residual standard error: 0.04569 on 18 degrees of freedom\n",
       "Multiple R-squared:  0.9935,\tAdjusted R-squared:  0.9931 \n",
       "F-statistic:  2744 on 1 and 18 DF,  p-value: < 2.2e-16\n"
      ]
     },
     "metadata": {},
     "output_type": "display_data"
    }
   ],
   "source": [
    "#usando o log x e log y para tentar resolver o problema da homocedasticidade nos resíduso\n",
    "dados2=data.frame(log(y),log(x))\n",
    "ajuste2=lm(log(y)~log(x),data=dados2)\n",
    "summary(ajuste2)"
   ]
  },
  {
   "cell_type": "markdown",
   "metadata": {},
   "source": [
    "O novo modelo encontrado ainda é significativo (p-valor < 0,05), com um coeficiente de determinação de 99,35%. Uma observação importante é que a comparação entre os dois coeficientes de determinação encontrados ($R^2=98,6$) para a primeira regressão e o coeficiente de ($R^2=99,35%$) para a segunda equação não deverá ser realizada, visto que a variância da variável dependente é diferente em ambos os modelos. A discussão da comparação entre coeficientes de determinação da forma linear versus os da forma log-linear deve ser feito com cautela e não entrarei nesta análise neste estudo, ficando para um próximo #day statistics#. Para validar o modelo encontrado precisaremos realizar uma nova análise nos resíduos para o modelo log-linear."
   ]
  },
  {
   "cell_type": "code",
   "execution_count": 7,
   "metadata": {},
   "outputs": [
    {
     "data": {
      "image/png": "[encoded data removed]",
      "text/plain": [
       "plot without title"
      ]
     },
     "metadata": {},
     "output_type": "display_data"
    }
   ],
   "source": [
    "#Grafico\n",
    "plot(log(y)~log(x),pch=16,data=dados2)\n",
    "abline(ajuste2,col=\"red\")"
   ]
  },
  {
   "cell_type": "code",
   "execution_count": 8,
   "metadata": {},
   "outputs": [
    {
     "data": {
      "image/png": "[encoded data removed]",
      "text/plain": [
       "plot without title"
      ]
     },
     "metadata": {},
     "output_type": "display_data"
    }
   ],
   "source": [
    "#Análise dos resíduos \n",
    "\n",
    "plot(resid(ajuste2)~predict(ajuste2),pch=16)\n",
    "abline(0,0,col=\"red\")"
   ]
  },
  {
   "cell_type": "markdown",
   "metadata": {},
   "source": [
    "O gráfico acima ainda nos apresenta a presença da heterocedasticidade nos resíduos (a variância nos resíduos não é constante). Existem três soluções que são comumente sugeridas para tentar solucionar o problema da heterocedasticidade nos residuos:\n",
    "\n",
    "+ Usar os mínimos quadrados ponderados;\n",
    "+ Deflacionar a série por meio de alguma medida de \"tamanho\";\n",
    "+ Transformar a série para a forma logarítmica. \n",
    "\n",
    "Em se tratando de detecção, a literatura estatística aponta além dos métodos gráficos para a detecção da heterocedasticidade, alguns testes, tais como: Teste de Ramsey, Teste de Glejser, Teste Goldfeld-Quandt, Teste de Breusch-Pagan, Teste de White e o Teste de razão de Verossimilhança. O teste de Breusch-Pagan é feito através da biblioteca **`lmtest`** e **`zoo`**, com o uso do comando `bptest( )`."
   ]
  },
  {
   "cell_type": "code",
   "execution_count": 9,
   "metadata": {},
   "outputs": [
    {
     "name": "stderr",
     "output_type": "stream",
     "text": [
      "Loading required package: lmtest\n",
      "Warning message:\n",
      "\"package 'lmtest' was built under R version 3.6.3\"Loading required package: zoo\n",
      "Warning message:\n",
      "\"package 'zoo' was built under R version 3.6.3\"\n",
      "Attaching package: 'zoo'\n",
      "\n",
      "The following objects are masked from 'package:base':\n",
      "\n",
      "    as.Date, as.Date.numeric\n",
      "\n"
     ]
    },
    {
     "data": {
      "text/plain": [
       "\n",
       "\tstudentized Breusch-Pagan test\n",
       "\n",
       "data:  ajuste2\n",
       "BP = 11.607, df = 1, p-value = 0.0006569\n"
      ]
     },
     "metadata": {},
     "output_type": "display_data"
    }
   ],
   "source": [
    "#Teste de heterocedasticidade nos resíduos pelo teste de Breusch-Pagan\n",
    "require(lmtest)\n",
    "require(zoo)\n",
    "bptest(ajuste2)"
   ]
  },
  {
   "cell_type": "markdown",
   "metadata": {},
   "source": [
    "Ao se usar o Teste de Breusch-Pagan a hipótese associada ao teste é apresentada a seguir:\n",
    "\n",
    "$\\begin{eqnarray}\n",
    "H_0: \\sigma_1^2 &=&    \\sigma_1^2\\\\\n",
    "H_1: \\sigma_1^2 &\\neq&  \\sigma_1^2\\\\\n",
    "\\end{eqnarray}\n",
    "$\n",
    "\n",
    "Portanto, de acordo com o p-valor associado encontrado, possuímos fortes evidências amostrais para rejeitarmos a hipótese nula, ou seja, existe a presença de heterocedasticidade pelo teste de Breusch-Pagan - (Como 0.0006569 < 0.05, nós rejeitamos a hipótese nula de homocedasticidade).  Em uma próxima rodada de estudos apresentarei o método de mínimos quadrados ponderados como candidato para a solução do problema da falta de constância nos resíduos."
   ]
  }
 ],
 "metadata": {
  "kernelspec": {
   "display_name": "R",
   "language": "R",
   "name": "ir"
  },
  "language_info": {
   "codemirror_mode": "r",
   "file_extension": ".r",
   "mimetype": "text/x-r-source",
   "name": "R",
   "pygments_lexer": "r",
   "version": "3.6.1"
  }
 },
 "nbformat": 4,
 "nbformat_minor": 4
}
