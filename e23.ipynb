{
 "cells": [
  {
   "cell_type": "markdown",
   "metadata": {},
   "source": [
    "# Day 23:30 daily statistics - MRLM - P1"
   ]
  },
  {
   "cell_type": "markdown",
   "metadata": {},
   "source": [
    "$\\color{red}{\\text{Exemplo 8.2}}$ - **Retirado do livro: Análise de Modelos de Regressão Linear com Aplicações, de Charnet, Freire, Charnet e Bonvino** Consideremos o seguinte conjunto de dados:\n",
    "\n",
    "|    Y    |   X  |\n",
    "|:-------:|:----:|\n",
    "|  7,9682 | 0,86 |\n",
    "|  2,3753 | 0,45 |\n",
    "|  4,1545 | 0,85 |\n",
    "|  3,5966 | 0,59 |\n",
    "|  6,7885 | 0,88 |\n",
    "|  2,1096 | 0,51 |\n",
    "| 27,9359 | 1,82 |\n",
    "| -0,9106 | 0,16 |\n",
    "| -0,8716 | 1,38 |\n",
    "| 16,7971 | 1,38 |\n",
    "|  6,4503 | 0,69 |\n",
    "|  5,2800 | 0,65 |\n",
    "|  2,9231 | 0,45 |\n",
    "|  0,4823 | 0,33 |\n",
    "|  1,7878 | 0,38 |\n",
    "\n",
    "+ a) Ajuste um modelo de regressão linear simples;\n",
    "+ b) Incorpore um termo ao quadrado ao modelo;"
   ]
  },
  {
   "cell_type": "markdown",
   "metadata": {},
   "source": [
    "$\\color{red}{\\text{a)}}$ - **Ajuste um modelo de regressão linear simples**"
   ]
  },
  {
   "cell_type": "code",
   "execution_count": 1,
   "metadata": {},
   "outputs": [
    {
     "data": {
      "text/plain": [
       "\n",
       "Call:\n",
       "lm(formula = Y ~ X, data = exemplo)\n",
       "\n",
       "Residuals:\n",
       "     Min       1Q   Median       3Q      Max \n",
       "-14.6422  -0.2582   0.8597   1.0413   8.5146 \n",
       "\n",
       "Coefficients:\n",
       "            Estimate Std. Error t value Pr(>|t|)    \n",
       "(Intercept)   -3.952      2.516  -1.570 0.140318    \n",
       "X             12.843      2.868   4.478 0.000622 ***\n",
       "---\n",
       "Signif. codes:  0 '***' 0.001 '**' 0.01 '*' 0.05 '.' 0.1 ' ' 1\n",
       "\n",
       "Residual standard error: 4.896 on 13 degrees of freedom\n",
       "Multiple R-squared:  0.6067,\tAdjusted R-squared:  0.5764 \n",
       "F-statistic: 20.05 on 1 and 13 DF,  p-value: 0.000622\n"
      ]
     },
     "metadata": {},
     "output_type": "display_data"
    }
   ],
   "source": [
    "#Entrando com os dados\n",
    "exemplo=read.csv2(\"exemplo8.2.csv\",header=T,dec=\",\")\n",
    "\n",
    "#Ajustando o modelo escolhido - Linear Simples\n",
    "ajuste1=lm(Y~X,data=exemplo)\n",
    "summary(ajuste1)"
   ]
  },
  {
   "cell_type": "markdown",
   "metadata": {},
   "source": [
    "O modelo estimado é dado por $\\hat{y}=-3,952+12,843X$. Pelo p-valor pode-se concluir que o modelo ajustado é altamente significativo. "
   ]
  },
  {
   "cell_type": "markdown",
   "metadata": {},
   "source": [
    "$\\color{red}{\\text{b)}}$ - **Incorpore um termo ao quadrado ao modelo**"
   ]
  },
  {
   "cell_type": "code",
   "execution_count": 2,
   "metadata": {},
   "outputs": [
    {
     "data": {
      "text/plain": [
       "\n",
       "Call:\n",
       "lm(formula = Y ~ X + X2, data = exemplo)\n",
       "\n",
       "Residuals:\n",
       "     Min       1Q   Median       3Q      Max \n",
       "-14.0009  -0.5738   0.7726   2.4368   4.4304 \n",
       "\n",
       "Coefficients:\n",
       "            Estimate Std. Error t value Pr(>|t|)\n",
       "(Intercept)    2.103      4.700   0.447    0.663\n",
       "X             -3.832     11.454  -0.335    0.744\n",
       "X2             8.567      5.714   1.499    0.160\n",
       "\n",
       "Residual standard error: 4.677 on 12 degrees of freedom\n",
       "Multiple R-squared:  0.6687,\tAdjusted R-squared:  0.6135 \n",
       "F-statistic: 12.11 on 2 and 12 DF,  p-value: 0.001321\n"
      ]
     },
     "metadata": {},
     "output_type": "display_data"
    }
   ],
   "source": [
    "#criando a variável X ao quadrado\n",
    "X2=exemplo$X^2\n",
    "\n",
    "#Adicionando uma nova coluna\n",
    "exemplo=cbind(exemplo,X2)\n",
    "\n",
    "#Ajustando um modelo\n",
    "ajuste2=lm(Y~X+X2,data=exemplo)\n",
    "summary(ajuste2)"
   ]
  },
  {
   "cell_type": "markdown",
   "metadata": {},
   "source": [
    "O novo modelo estimado é dado por $\\hat{y}=2,103-3,832X+8,567X^2$. O modelo possui um coeficiente de determinação de $R^2=66,87\\%$."
   ]
  },
  {
   "cell_type": "markdown",
   "metadata": {},
   "source": [
    "$\\color{red}{\\text{Exercício 1}}$ - **Retirado do livro: Análise de Modelos de Regressão Linear com Aplicações, de Charnet, Freire, Charnet e Bonvino** Para estudar a influência das variáveis capital investido $(x_1)$ e gasto em publicidade $(x_2)$ no lucro anual (y) de empresas, foram observadas essas variáveis em doze empresas em um mesmo ano. Os seguintes resultados foram registrados, na unidade de 100.000 reais.\n",
    "\n",
    "|  y | x1 | x2 |\n",
    "|:--:|:-----:|:-----:|\n",
    "| 12 |   31  |   4   |\n",
    "| 13 |   16  |   5   |\n",
    "|  3 |   29  |   3   |\n",
    "|  3 |   19  |   0   |\n",
    "| 11 |   27  |   2   |\n",
    "| 19 |   21  |   6   |\n",
    "|  1 |   24  |   2   |\n",
    "| 14 |   11  |   3   |\n",
    "| 15 |   26  |   6   |\n",
    "| 17 |   18  |   6   |\n",
    "|  2 |   12  |   1   |\n",
    "| 15 |   3   |   5   |\n",
    "\n",
    "+ a) Ajuste a estes dados um modelo do tipo: $y=\\beta_0+\\beta_1x_1+\\beta_2x_2+ \\epsilon$.\n",
    "+ b) Obtenha a tabela de ANOVA;\n",
    "+ c) Encontre $R^2$ e interprete o seu valor;\n",
    "+ d) Os dados fornecem evidências suficientes para indicar que o modelo contribui significativamente para a predição de y, ao nível de 5\\% de significância?\n",
    "+ e) Teste as hipóteses $H_0:\\beta_2 = 0$ versus $H_1: \\beta_2 \\neq 0$, ao nível de 5\\% de significância?"
   ]
  },
  {
   "cell_type": "markdown",
   "metadata": {},
   "source": [
    "$\\color{red}{\\text{a)}}$ - **Ajuste a estes dados um modelo do tipo: $y=\\beta_0+\\beta_1x_1+\\beta_2x_2+\\epsilon$.**"
   ]
  },
  {
   "cell_type": "code",
   "execution_count": 3,
   "metadata": {},
   "outputs": [
    {
     "data": {
      "text/plain": [
       "\n",
       "Call:\n",
       "lm(formula = y ~ x1 + x2, data = q8.1)\n",
       "\n",
       "Residuals:\n",
       "    Min      1Q  Median      3Q     Max \n",
       "-4.8043 -1.8136 -0.4532  1.9866  5.5675 \n",
       "\n",
       "Coefficients:\n",
       "            Estimate Std. Error t value Pr(>|t|)    \n",
       "(Intercept)   3.4022     3.4221   0.994 0.346105    \n",
       "x1           -0.1180     0.1313  -0.899 0.392241    \n",
       "x2            2.6077     0.5277   4.941 0.000801 ***\n",
       "---\n",
       "Signif. codes:  0 '***' 0.001 '**' 0.01 '*' 0.05 '.' 0.1 ' ' 1\n",
       "\n",
       "Residual standard error: 3.613 on 9 degrees of freedom\n",
       "Multiple R-squared:  0.7395,\tAdjusted R-squared:  0.6816 \n",
       "F-statistic: 12.77 on 2 and 9 DF,  p-value: 0.002351\n"
      ]
     },
     "metadata": {},
     "output_type": "display_data"
    }
   ],
   "source": [
    "#Entrada de dados\n",
    "q8.1=read.csv2(\"investimento.csv\",header=T,dec=\".\")\n",
    "\n",
    "#Ajuste ao modelo\n",
    "ajuste8.1=lm(y~x1+x2,data=q8.1)\n",
    "summary(ajuste8.1)"
   ]
  },
  {
   "cell_type": "markdown",
   "metadata": {},
   "source": [
    "O modelo ajustado é $\\hat{y}=3,4022-0,1180X_1+2,6077X_2+\\epsilon$."
   ]
  },
  {
   "cell_type": "markdown",
   "metadata": {},
   "source": [
    "$\\color{red}{\\text{b)}}$ - **Obtenha a tabela de ANOVA**"
   ]
  },
  {
   "cell_type": "code",
   "execution_count": 4,
   "metadata": {},
   "outputs": [
    {
     "data": {
      "text/html": [
       "<table>\n",
       "<thead><tr><th></th><th scope=col>Df</th><th scope=col>Sum Sq</th><th scope=col>Mean Sq</th><th scope=col>F value</th><th scope=col>Pr(&gt;F)</th></tr></thead>\n",
       "<tbody>\n",
       "\t<tr><th scope=row>x1</th><td>1           </td><td> 14.74852   </td><td> 14.74852   </td><td> 1.129933   </td><td>0.3154783274</td></tr>\n",
       "\t<tr><th scope=row>x2</th><td>1           </td><td>318.69508   </td><td>318.69508   </td><td>24.416283   </td><td>0.0008008264</td></tr>\n",
       "\t<tr><th scope=row>Residuals</th><td>9           </td><td>117.47307   </td><td> 13.05256   </td><td>       NA   </td><td>          NA</td></tr>\n",
       "</tbody>\n",
       "</table>\n"
      ],
      "text/latex": [
       "\\begin{tabular}{r|lllll}\n",
       "  & Df & Sum Sq & Mean Sq & F value & Pr(>F)\\\\\n",
       "\\hline\n",
       "\tx1 & 1            &  14.74852    &  14.74852    &  1.129933    & 0.3154783274\\\\\n",
       "\tx2 & 1            & 318.69508    & 318.69508    & 24.416283    & 0.0008008264\\\\\n",
       "\tResiduals & 9            & 117.47307    &  13.05256    &        NA    &           NA\\\\\n",
       "\\end{tabular}\n"
      ],
      "text/markdown": [
       "\n",
       "| <!--/--> | Df | Sum Sq | Mean Sq | F value | Pr(>F) |\n",
       "|---|---|---|---|---|---|\n",
       "| x1 | 1            |  14.74852    |  14.74852    |  1.129933    | 0.3154783274 |\n",
       "| x2 | 1            | 318.69508    | 318.69508    | 24.416283    | 0.0008008264 |\n",
       "| Residuals | 9            | 117.47307    |  13.05256    |        NA    |           NA |\n",
       "\n"
      ],
      "text/plain": [
       "          Df Sum Sq    Mean Sq   F value   Pr(>F)      \n",
       "x1        1   14.74852  14.74852  1.129933 0.3154783274\n",
       "x2        1  318.69508 318.69508 24.416283 0.0008008264\n",
       "Residuals 9  117.47307  13.05256        NA           NA"
      ]
     },
     "metadata": {},
     "output_type": "display_data"
    }
   ],
   "source": [
    "anova(ajuste8.1)"
   ]
  },
  {
   "cell_type": "markdown",
   "metadata": {},
   "source": [
    "O parâmetro $\\beta_2$ é considerado significativo, assim como a regressão."
   ]
  },
  {
   "cell_type": "markdown",
   "metadata": {},
   "source": [
    "$\\color{red}{\\text{c)}}$ - **Encontre $R^2$ e interprete o seu valor**"
   ]
  },
  {
   "cell_type": "code",
   "execution_count": 5,
   "metadata": {},
   "outputs": [
    {
     "name": "stdout",
     "output_type": "stream",
     "text": [
      "O coeficiente de determinação ajustado é dado por 68.16 % \n",
      "\n"
     ]
    }
   ],
   "source": [
    "# Primeiro Método\n",
    "r2=summary(ajuste8.1)\n",
    "r2_adj=r2$adj.r.squared\n",
    "cat(\"O coeficiente de determinação ajustado é dado por\",round(r2_adj*100,2),\"%\",\"\\n\\n\")\n",
    "\n"
   ]
  },
  {
   "cell_type": "code",
   "execution_count": 6,
   "metadata": {},
   "outputs": [
    {
     "name": "stdout",
     "output_type": "stream",
     "text": [
      "O coeficiente de determinação é 0.7394794 \n",
      "\n",
      "O coeficiente de determinação ajustado é 0.681586"
     ]
    }
   ],
   "source": [
    "#Segundo Método : R2=SQ_regressao/ SQ_tot\n",
    "#SQ_regressao = t(beta) . t(X) . y - n . media(y)^2\n",
    "#SQ_erro= t(y) . y - t(beta) . t(X) . y\n",
    "#SQ_total = t(y) . y - n . media(y)^2\n",
    "\n",
    "#Base de dados\n",
    "x1=cbind(q8.1$x1)        #Extraíndo a coluna x1\n",
    "x2=cbind(q8.1$x2)        #Extraíndo a coluna x2\n",
    "y=cbind(q8.1$y)          #Extraíndo a coluna y\n",
    "\n",
    "#Calculado SQ_total\n",
    "SQ_total = t(y) %*% y - length(y) %*% mean(y)^2\n",
    "\n",
    "#Criando a matrix X\n",
    "x=matrix(c(rep(1,12),x1,x2),ncol=3,byrow=F)\n",
    "\n",
    "#Determinando Beta\n",
    "beta=solve(t(x)%*%x)%*%t(x)%*%y\n",
    "\n",
    "#Determinando SQ_regressao\n",
    "SQ_regressao= t(beta) %*% t(x) %*% y - length(y) %*% mean(y)^2\n",
    "\n",
    "#Determinando o R2\n",
    "R2_cal=SQ_regressao/SQ_total\n",
    "cat(\"O coeficiente de determinação é\",R2_cal,\"\\n\\n\")\n",
    "\n",
    "#Soma dos quadrados do Erro\n",
    "SQ_erro=t(y) %*% y - t(beta) %*% t(x) %*% y\n",
    "\n",
    "#Número de parâmetros\n",
    "p=2\n",
    "\n",
    "#Coeficiente de determinação ajustado\n",
    "R2_ajus=1-((SQ_erro)/(length(y)-p-1))/(SQ_total/(length(y)-1))\n",
    "cat(\"O coeficiente de determinação ajustado é\",R2_ajus)"
   ]
  },
  {
   "cell_type": "markdown",
   "metadata": {},
   "source": [
    "$\\color{red}{\\text{d)}}$ - **Os dados fornecem evidências suficientes para indicar que o modelo contribui significativamente para a predição de y, ao nível de 5\\% de significância?**\n",
    "\n",
    "O modelo é considerado significativo ao nível de 5\\% de significância."
   ]
  },
  {
   "cell_type": "markdown",
   "metadata": {},
   "source": [
    "$\\color{red}{\\text{e)}}$ - **Teste as hipóteses $H_0:\\beta_2=0$ versus $H_1:\\beta_2 \\neq 0$, ao nível de 5\\% de significância?**\n",
    "\n",
    "O coeficiente $\\beta_2$ é significativo para o modelo ao nível de 5\\% de significância, visto que o p-valor para análise isolada de seu coeficiente é de 0.000801, rejeitando-se desta forma a hipótese $H_0$."
   ]
  },
  {
   "cell_type": "markdown",
   "metadata": {},
   "source": [
    "$\\color{red}{\\text{Exercício 2}}$ - **Retirado do livro: Análise de Modelos de Regressão Linear com Aplicações, de Charnet, Freire, Charnet e Bonvino** Uma indústria química está interessada em maximizar a sua produção de um certo processo químico. Para isso, obteve os seguintes resultados da temperatura codificada, x, e de peso do produto, y, em kg:\n",
    "\n",
    "| x |  -5 | -4 |  -3 |  -2 |  -1  |  0 |   1  |   2  |  3  | 4 |  5  |\n",
    "|:-:|:---:|:--:|:---:|:---:|:----:|:--:|:----:|:----:|:---:|:-:|:---:|\n",
    "| y | 6.4 |  7 | 7.6 | 8.3 | 10.4 | 12 | 11.3 | 10.6 | 9.9 | 9 | 8.3 |\n",
    "\n",
    "Neste tipo de reação química, a quantidade da substância produzida pode aumentar até um certo valor crítico, no qual a quantidade da substância produzida começa a diminuir devido à sua decomposição pelo aumento da temperatura.\n",
    "\n",
    "+ a) Ajuste o modelo $y=\\beta_0+\\beta_1x+\\beta_2x^2+ \\epsilon$;\n",
    "+ b) Encontre $R^2$ e interprete o seu valor;\n",
    "+ c) Há evidências suficientes para indicar que o modelo contribui significamente na predição de y, ao nível de 5\\%? Justifique a sua resposta;\n",
    "+ d) Teste as hipóteses $H_0: \\beta_2 = 0$ versus $H_1:\\beta_2 \\neq 0$, com $\\alpha=0,05$;\n",
    "+ e) Obtenha os valores de y preditos para $x=-1$ e $x=3$."
   ]
  },
  {
   "cell_type": "markdown",
   "metadata": {},
   "source": [
    "$\\color{red}{\\text{a)}}$ - **Ajuste o modelo $y=\\beta_0+\\beta_1x+\\beta_2x^2+\\epsilon$**"
   ]
  },
  {
   "cell_type": "code",
   "execution_count": 7,
   "metadata": {},
   "outputs": [
    {
     "data": {
      "text/plain": [
       "\n",
       "Call:\n",
       "lm(formula = y ~ x + x2, data = base)\n",
       "\n",
       "Residuals:\n",
       "     Min       1Q   Median       3Q      Max \n",
       "-1.22699 -0.28709 -0.01427  0.32587  1.32471 \n",
       "\n",
       "Coefficients:\n",
       "            Estimate Std. Error t value Pr(>|t|)    \n",
       "(Intercept) 10.67529    0.37045  28.817 2.28e-09 ***\n",
       "x            0.27182    0.07755   3.505 0.008018 ** \n",
       "x2          -0.15117    0.02777  -5.444 0.000613 ***\n",
       "---\n",
       "Signif. codes:  0 '***' 0.001 '**' 0.01 '*' 0.05 '.' 0.1 ' ' 1\n",
       "\n",
       "Residual standard error: 0.8133 on 8 degrees of freedom\n",
       "Multiple R-squared:  0.8398,\tAdjusted R-squared:  0.7997 \n",
       "F-statistic: 20.96 on 2 and 8 DF,  p-value: 0.0006593\n"
      ]
     },
     "metadata": {},
     "output_type": "display_data"
    }
   ],
   "source": [
    "###### Entrando com os dados\n",
    "x=seq(-5,5,by=1)\n",
    "x2=x^2\n",
    "y=c(6.4, 7, 7.6, 8.3, 10.4, 12, 11.3, 10.6, 9.9, 9, 8.3)\n",
    "base=data.frame(y,x,x2)\n",
    "\n",
    "#Ajustando o modelo\n",
    "ajuste8.2=lm(y~x+x2,data=base)\n",
    "summary(ajuste8.2)\n"
   ]
  },
  {
   "cell_type": "markdown",
   "metadata": {},
   "source": [
    "O modelo estimado é dado por $\\hat{y}=10,67+0,2718x_1-0,1511x_2+\\epsilon$ com um coeficiente de determinação ajustado de 79,97\\%."
   ]
  },
  {
   "cell_type": "markdown",
   "metadata": {},
   "source": [
    "$\\color{red}{\\text{b)}}$ - **Encontre $R^2$ e interprete o seu valor**"
   ]
  },
  {
   "cell_type": "code",
   "execution_count": 8,
   "metadata": {},
   "outputs": [
    {
     "name": "stdout",
     "output_type": "stream",
     "text": [
      "\n",
      "\n",
      "O coeficiente de determinação ajustado para o modelo proposto é 79.97 % \n",
      "\n"
     ]
    }
   ],
   "source": [
    "#Método 1 - R2 - Ajustado\n",
    "nome=summary(ajuste8.2)\n",
    "Coef_adj=nome$adj.r.squared\n",
    "\n",
    "cat(\"\\n\\nO coeficiente de determinação ajustado para o modelo proposto é\",round(Coef_adj*100,2),\"%\",\"\\n\\n\")"
   ]
  },
  {
   "cell_type": "markdown",
   "metadata": {},
   "source": [
    "$\\color{red}{\\text{c)}}$ - **Há evidências suficientes para indicar que o modelo contribui significativamente na predição de y, ao nível de 5\\%? Justifique a sua respsota.$**\n",
    "\n",
    "O modelo apresenta todos os parâmetros significativos para compor o modelo, indicando que o modelo é significativo."
   ]
  },
  {
   "cell_type": "markdown",
   "metadata": {},
   "source": [
    "$\\color{red}{\\text{d)}}$ - **Teste as hipóteses $H_0: \\beta_2 = 0$ versus $H_1: \\beta_2 \\neq 0$, com $\\alpha=0,05$.**\n",
    "\n",
    "O parâmetro $\\beta_2$ é extremamente significativo para o modelo, visto que o p-valor associado ao teste do parâmetro é de 0.000613, rejeitando-se a hipótese nula e aceitando-se a hipotese alternativa indicando a significância do parâmetro para o modelo."
   ]
  },
  {
   "cell_type": "markdown",
   "metadata": {},
   "source": [
    "$\\color{red}{\\text{e)}}$ - **Obtenha os valores de y preditos para x=-1 e x=3**"
   ]
  },
  {
   "cell_type": "code",
   "execution_count": 9,
   "metadata": {},
   "outputs": [
    {
     "data": {
      "text/html": [
       "<table>\n",
       "<thead><tr><th scope=col>fit</th><th scope=col>lwr</th><th scope=col>upr</th></tr></thead>\n",
       "<tbody>\n",
       "\t<tr><td>10.25231</td><td>8.202572</td><td>12.30204</td></tr>\n",
       "\t<tr><td>10.13026</td><td>8.098198</td><td>12.16231</td></tr>\n",
       "</tbody>\n",
       "</table>\n"
      ],
      "text/latex": [
       "\\begin{tabular}{r|lll}\n",
       " fit & lwr & upr\\\\\n",
       "\\hline\n",
       "\t 10.25231 & 8.202572 & 12.30204\\\\\n",
       "\t 10.13026 & 8.098198 & 12.16231\\\\\n",
       "\\end{tabular}\n"
      ],
      "text/markdown": [
       "\n",
       "| fit | lwr | upr |\n",
       "|---|---|---|\n",
       "| 10.25231 | 8.202572 | 12.30204 |\n",
       "| 10.13026 | 8.098198 | 12.16231 |\n",
       "\n"
      ],
      "text/plain": [
       "  fit      lwr      upr     \n",
       "1 10.25231 8.202572 12.30204\n",
       "2 10.13026 8.098198 12.16231"
      ]
     },
     "metadata": {},
     "output_type": "display_data"
    }
   ],
   "source": [
    "novos=data.frame(x=c(-1,3),x2=c(1,9))\n",
    "predict(ajuste8.2,novos,interval=\"prediction\",level=0.95)"
   ]
  },
  {
   "cell_type": "markdown",
   "metadata": {},
   "source": [
    "Os valores previstos para $x_1=-1$ e $x_2=1$ substituídos no modelo estimado $\\hat{y}=10,67+0,2718x_1-0,1511x_2+\\epsilon$ foi obtido da seguinte forma:\n",
    "\n",
    "$$\\hat{y}=10,67+0,2718x_1-0,1511x_2+\\epsilon$$\n",
    "$$\\hat{y}=10,67+0,2718\\cdot (-1) -0,1511 \\cdot (1) = 10,2531$$"
   ]
  },
  {
   "cell_type": "markdown",
   "metadata": {},
   "source": [
    "$\\color{red}{\\text{Exercício 3}}$ - **Retirado do livro: Análise de Modelos de Regressão Linear com Aplicações, de Charnet, Freire, Charnet e Bonvino** Um experimento foi realizado para se estudar a relação entre o grau de corrosão de um certo metal, y, e o tempo de exposição (em semanas), x, desse metal à ação da acidez do solo. Foram obtidos os seguintes resultados:\n",
    "\n",
    "| x |   1  |   2  |   3  |   4  |   5  |   6  |   7  |   8  |   9  |  10  |\n",
    "|:-:|:----:|:----:|:----:|:----:|:----:|:----:|:----:|:----:|:----:|:----:|\n",
    "| y | 0.08 | 0.18 | 0,32 | 0.53 | 0.88 | 1.30 | 1.95 | 2.80 | 3.90 | 4.60 |\n",
    "\n",
    "+ a) Ajuste a esses dados o modelo $y=\\beta_0+\\beta_1x+\\beta_2x^2+\\epsilon$;\n",
    "+ b) Obtenha a tabela de ANOVA;\n",
    "+ c) O modelo ajustado é significante ao nível de 5\\%?\n",
    "+ d) O coeficiente de regressão linear é significante ao nível de 5\\%?\n",
    "+ e) Que porcentagem da variação total é explicada pela regressão quadrática de y em x?"
   ]
  },
  {
   "cell_type": "markdown",
   "metadata": {},
   "source": [
    "$\\color{red}{\\text{a)}}$ - **Ajuste a esses dados o modelo $y=\\beta_0+\\beta_1x+\\beta_2x^2+\\epsilon$**"
   ]
  },
  {
   "cell_type": "code",
   "execution_count": 10,
   "metadata": {},
   "outputs": [
    {
     "data": {
      "text/plain": [
       "\n",
       "Call:\n",
       "lm(formula = y ~ x + x2, data = q8.3)\n",
       "\n",
       "Residuals:\n",
       "      Min        1Q    Median        3Q       Max \n",
       "-0.110364 -0.075136 -0.000667  0.040773  0.211455 \n",
       "\n",
       "Coefficients:\n",
       "             Estimate Std. Error t value Pr(>|t|)    \n",
       "(Intercept)  0.274000   0.127775   2.144  0.06918 .  \n",
       "x           -0.198788   0.053364  -3.725  0.00741 ** \n",
       "x2           0.064242   0.004728  13.588 2.75e-06 ***\n",
       "---\n",
       "Signif. codes:  0 '***' 0.001 '**' 0.01 '*' 0.05 '.' 0.1 ' ' 1\n",
       "\n",
       "Residual standard error: 0.1086 on 7 degrees of freedom\n",
       "Multiple R-squared:  0.9965,\tAdjusted R-squared:  0.9955 \n",
       "F-statistic: 993.8 on 2 and 7 DF,  p-value: 2.56e-09\n"
      ]
     },
     "metadata": {},
     "output_type": "display_data"
    }
   ],
   "source": [
    "#Entrando com os dados\n",
    "x=seq(1:10)\n",
    "x2=x^2\n",
    "y=c(0.08, 0.18, 0.32, 0.53, 0.88, 1.30, 1.95, 2.80, 3.90, 4.60)\n",
    "q8.3=data.frame(y,x,x2)\n",
    "\n",
    "\n",
    "#Ajuste do modelo\n",
    "ajuste8.3=lm(y~x+x2,data=q8.3)\n",
    "summary(ajuste8.3)"
   ]
  },
  {
   "cell_type": "markdown",
   "metadata": {},
   "source": [
    "O modelo estimado é dado por $\\hat{y}=0,274-0,198788x_1+0,064242x_2+\\epsilon$."
   ]
  },
  {
   "cell_type": "markdown",
   "metadata": {},
   "source": [
    "$\\color{red}{\\text{b)}}$ - **Obtenha a tabela de ANOVA**"
   ]
  },
  {
   "cell_type": "code",
   "execution_count": 11,
   "metadata": {},
   "outputs": [
    {
     "data": {
      "text/html": [
       "<table>\n",
       "<thead><tr><th></th><th scope=col>Df</th><th scope=col>Sum Sq</th><th scope=col>Mean Sq</th><th scope=col>F value</th><th scope=col>Pr(&gt;F)</th></tr></thead>\n",
       "<tbody>\n",
       "\t<tr><th scope=row>x</th><td>1           </td><td>21.28012121 </td><td>21.28012121 </td><td>1803.0561   </td><td>1.048352e-09</td></tr>\n",
       "\t<tr><th scope=row>x2</th><td>1           </td><td> 2.17910303 </td><td> 2.17910303 </td><td> 184.6345   </td><td>2.750318e-06</td></tr>\n",
       "\t<tr><th scope=row>Residuals</th><td>7           </td><td> 0.08261576 </td><td> 0.01180225 </td><td>       NA   </td><td>          NA</td></tr>\n",
       "</tbody>\n",
       "</table>\n"
      ],
      "text/latex": [
       "\\begin{tabular}{r|lllll}\n",
       "  & Df & Sum Sq & Mean Sq & F value & Pr(>F)\\\\\n",
       "\\hline\n",
       "\tx & 1            & 21.28012121  & 21.28012121  & 1803.0561    & 1.048352e-09\\\\\n",
       "\tx2 & 1            &  2.17910303  &  2.17910303  &  184.6345    & 2.750318e-06\\\\\n",
       "\tResiduals & 7            &  0.08261576  &  0.01180225  &        NA    &           NA\\\\\n",
       "\\end{tabular}\n"
      ],
      "text/markdown": [
       "\n",
       "| <!--/--> | Df | Sum Sq | Mean Sq | F value | Pr(>F) |\n",
       "|---|---|---|---|---|---|\n",
       "| x | 1            | 21.28012121  | 21.28012121  | 1803.0561    | 1.048352e-09 |\n",
       "| x2 | 1            |  2.17910303  |  2.17910303  |  184.6345    | 2.750318e-06 |\n",
       "| Residuals | 7            |  0.08261576  |  0.01180225  |        NA    |           NA |\n",
       "\n"
      ],
      "text/plain": [
       "          Df Sum Sq      Mean Sq     F value   Pr(>F)      \n",
       "x         1  21.28012121 21.28012121 1803.0561 1.048352e-09\n",
       "x2        1   2.17910303  2.17910303  184.6345 2.750318e-06\n",
       "Residuals 7   0.08261576  0.01180225        NA           NA"
      ]
     },
     "metadata": {},
     "output_type": "display_data"
    }
   ],
   "source": [
    "anova(ajuste8.3)"
   ]
  },
  {
   "cell_type": "markdown",
   "metadata": {},
   "source": [
    "O modelo estimado é significativo para a realização de predições. Os parâmetros estimados para o modelo são significativos."
   ]
  },
  {
   "cell_type": "markdown",
   "metadata": {},
   "source": [
    "$\\color{red}{\\text{c)}}$ - **O modelo ajustado é significante ao nível de 5\\%?**\n",
    "\n",
    "O modelo estimado é significativo ao nível de 5\\% de significância.\n"
   ]
  },
  {
   "cell_type": "markdown",
   "metadata": {},
   "source": [
    "$\\color{red}{\\text{d)}}$ - **O coeficiente de regressão linear é significante ao nível de 5\\%?**\n",
    "\n",
    "Em um modelo de regressão linear o parâmetro $\\beta_0$ é chamado de intercepto ou coeficiente linear e o parâmetro $\\beta_1$ é chamado coeficiente de regressão ou coeficiente angular. Os coeficientes estimados para o modelo são significativos para a realização de predições."
   ]
  },
  {
   "cell_type": "markdown",
   "metadata": {},
   "source": [
    "$\\color{red}{\\text{e)}}$ - **Que porcentagem da variação total é explicada pela regressão quadrática de y em x?** \n",
    "\n",
    "O Coeficiente de determinação ajustado para o modelo estimado é de $R^2_{adj}=99,55\\%$, indicando que o modelo estimado explica em grande porcentagem a variação de  y em x."
   ]
  },
  {
   "cell_type": "markdown",
   "metadata": {},
   "source": [
    "$\\color{red}{\\text{Exercício 4}}$ - **Retirado do livro: Análise de Modelos de Regressão Linear com Aplicações, de Charnet, Freire, Charnet e Bonvino** Considere as seguintes observações:\n",
    "\n",
    "| Operador |  y | x1 |  x2 |\n",
    "|:--------:|:--:|:--:|:---:|\n",
    "|     1    | 12 | 18 |  2  |\n",
    "|     2    |  3 | 16 |  3  |\n",
    "|     3    | 11 | 25 |  2  |\n",
    "|     4    |  1 | 12 |  3  |\n",
    "|     5    | 13 | 20 |  3  |\n",
    "|     6    | 20 | 35 |  2  |\n",
    "|     7    |  2 | 17 | 1.5 |\n",
    "|     8    | 25 | 25 |  5  |\n",
    "|     9    | 26 | 39 |  1  |\n",
    "|    10    | 15 | 20 | 2.5 |\n",
    "|    11    |  1 | 18 |  2  |\n",
    "|    12    | 15 | 29 | 3.5 |\n",
    "|    13    | 11 | 20 |  5  |\n",
    "|    14    |  5 | 16 |  1  |\n",
    "|    15    |  7 | 29 | 1.5 |\n",
    "\n",
    "Onde:\n",
    "\n",
    "y: número de itens produzidos com defeito, em certo dia;\n",
    "\n",
    "x1: produção média por hora;\n",
    "\n",
    "x2: tempo, em semanas, decorrido desde o último reparo na máquina.\n",
    "\n",
    "+ a) Ajuste um modelo para o número de itens produzidos com defeito em função da produção média por hora e do tempo decorrido desde o último reparo na máquina;\n",
    "+ b) Encontre e interprete o valor de $R^2$;\n",
    "+ c) Pode-se afirmar que há evidências suficientes de que o modelo encontrado em (a) contribua na predição de y? (use $\\alpha=1\\%$)."
   ]
  },
  {
   "cell_type": "markdown",
   "metadata": {},
   "source": [
    "$\\color{red}{\\text{a)}}$ - **Ajuste um modelo para o número de itens produzidos com defeito em função da produção média por hora e do tempo decorrido desde o último reparo na máquina**"
   ]
  },
  {
   "cell_type": "code",
   "execution_count": 12,
   "metadata": {},
   "outputs": [
    {
     "data": {
      "text/plain": [
       "\n",
       "Call:\n",
       "lm(formula = y ~ x1 + x2, data = operador)\n",
       "\n",
       "Residuals:\n",
       "   Min     1Q Median     3Q    Max \n",
       "-7.417 -3.445 -1.028  3.566  6.247 \n",
       "\n",
       "Coefficients:\n",
       "            Estimate Std. Error t value Pr(>|t|)    \n",
       "(Intercept) -14.7406     5.1814  -2.845 0.014761 *  \n",
       "x1            0.8860     0.1708   5.186 0.000227 ***\n",
       "x2            2.3094     1.0427   2.215 0.046880 *  \n",
       "---\n",
       "Signif. codes:  0 '***' 0.001 '**' 0.01 '*' 0.05 '.' 0.1 ' ' 1\n",
       "\n",
       "Residual standard error: 4.792 on 12 degrees of freedom\n",
       "Multiple R-squared:  0.7055,\tAdjusted R-squared:  0.6564 \n",
       "F-statistic: 14.37 on 2 and 12 DF,  p-value: 0.0006522\n"
      ]
     },
     "metadata": {},
     "output_type": "display_data"
    }
   ],
   "source": [
    "#Entrada de dados\n",
    "operador=read.csv2(\"operador.csv\",header=T,dec=\".\")\n",
    "\n",
    "#Ajuste do modelo\n",
    "ajusteq4=lm(y~x1+x2,data=operador)\n",
    "summary(ajusteq4)"
   ]
  },
  {
   "cell_type": "markdown",
   "metadata": {},
   "source": [
    "O modelo estimado é dado por $\\hat{y}=-14,7406+0,8860x_1+2,3094x_2$."
   ]
  },
  {
   "cell_type": "markdown",
   "metadata": {},
   "source": [
    "$\\color{red}{\\text{b)}}$ - **Encontre e interprete o valor de $R^2$**."
   ]
  },
  {
   "cell_type": "code",
   "execution_count": 13,
   "metadata": {},
   "outputs": [
    {
     "name": "stdout",
     "output_type": "stream",
     "text": [
      "\n",
      "\n",
      "O valor do coeficiente de determinação é 0.7055179 e o coeficiente de determinação ajustado é de 0.6564376 \n",
      "\n"
     ]
    }
   ],
   "source": [
    "r2q5=summary(ajusteq4)\n",
    "cat(\"\\n\\nO valor do coeficiente de determinação é\",r2q5$r.squared,\"e o coeficiente de determinação ajustado é de\",r2q5$adj.r.squared,\"\\n\\n\")"
   ]
  },
  {
   "cell_type": "markdown",
   "metadata": {},
   "source": [
    "$\\color{red}{\\text{c)}}$ - **Pode-se afirmar que há evidências suficientes de que o modelo encontrado em (a) contribua na predição de y? (use $\\alpha=1\\%$)**\n",
    "\n",
    "O modelo estimado possuem parâmetros significativos ao nível de 1\\% de significância, indicando que contribuem para que o modelo seja considerado significativo para a realização de predições de y."
   ]
  },
  {
   "cell_type": "markdown",
   "metadata": {},
   "source": [
    "$\\color{red}{\\text{Exercício 5}}$ - **Retirado do livro: Análise de Modelos de Regressão Linear com Aplicações, de Charnet, Freire, Charnet e Bonvino** Um experimento foi realizado para se verificar o efeito da tempertura $(x_1)$ e da concentração $(x_2)$ na produção (y) de um certo processo químico. Os dados obtidos foram os seguintes:\n",
    "\n",
    "|  y  |  x1 | x2 |  y  |  x1 | x2 |\n",
    "|:---:|:---:|:--:|:---:|:---:|:--:|\n",
    "| 189 |  80 | 10 | 220 |  80 | 20 |\n",
    "| 203 | 100 | 10 | 228 | 100 | 20 |\n",
    "| 222 | 120 | 10 | 252 | 120 | 20 |\n",
    "| 234 | 140 | 10 | 263 | 140 | 20 |\n",
    "| 261 | 160 | 10 | 291 | 160 | 20 |\n",
    "| 204 |  80 | 15 | 226 |  80 | 25 |\n",
    "| 212 | 100 | 15 | 232 | 100 | 25 |\n",
    "| 223 | 120 | 15 | 259 | 120 | 25 |\n",
    "| 246 | 140 | 15 | 268 | 140 | 25 |\n",
    "| 273 | 160 | 15 | 294 | 160 | 25 |\n",
    "\n",
    "+ a) Ajuste um modelo que explique a quantidade do produto em função da temperatura e da concentração da substância no processo químico;\n",
    "+ b) Encontre um intervalo de confiança para o coeficiente da variável concentração no modelo ajustado;\n",
    "+ c) Calcule e interprete o valor do coeficiente de determinação para esse modelo;\n",
    "+ d) Estime a variância da variável dependente no modelo ajustado."
   ]
  },
  {
   "cell_type": "markdown",
   "metadata": {},
   "source": [
    "$\\color{red}{\\text{a)}}$ - **Ajuste um modelo que explique a quantidade do produto em função da temperatura e da concentração da substância no processo químico**"
   ]
  },
  {
   "cell_type": "code",
   "execution_count": 14,
   "metadata": {},
   "outputs": [
    {
     "data": {
      "text/plain": [
       "\n",
       "Call:\n",
       "lm(formula = y ~ x1 + x2, data = q5)\n",
       "\n",
       "Residuals:\n",
       "   Min     1Q Median     3Q    Max \n",
       "-10.94  -4.71   0.50   4.29  10.14 \n",
       "\n",
       "Coefficients:\n",
       "            Estimate Std. Error t value Pr(>|t|)    \n",
       "(Intercept) 93.18000    7.25415   12.85 3.53e-10 ***\n",
       "x1           0.87000    0.04779   18.20 1.38e-12 ***\n",
       "x2           2.42400    0.24180   10.03 1.49e-08 ***\n",
       "---\n",
       "Signif. codes:  0 '***' 0.001 '**' 0.01 '*' 0.05 '.' 0.1 ' ' 1\n",
       "\n",
       "Residual standard error: 6.045 on 17 degrees of freedom\n",
       "Multiple R-squared:  0.9621,\tAdjusted R-squared:  0.9577 \n",
       "F-statistic: 215.9 on 2 and 17 DF,  p-value: 8.234e-13\n"
      ]
     },
     "metadata": {},
     "output_type": "display_data"
    }
   ],
   "source": [
    "#Entrada de dados\n",
    "q5=read.csv2(\"temp.csv\",header=T,dec=\".\")\n",
    "\n",
    "ajusteq5=lm(y~x1+x2,data=q5)\n",
    "summary(ajusteq5)"
   ]
  },
  {
   "cell_type": "markdown",
   "metadata": {},
   "source": [
    "O modelo ajustado é dado por $\\hat{y}=93,18+0,87x_1+2,424x_2$."
   ]
  },
  {
   "cell_type": "markdown",
   "metadata": {},
   "source": [
    "$\\color{red}{\\text{b)}}$ - **Encontre um intervalo de confiança para o coeficiente da variável concentração no modelo ajustado**"
   ]
  },
  {
   "cell_type": "code",
   "execution_count": 15,
   "metadata": {},
   "outputs": [
    {
     "data": {
      "text/html": [
       "<table>\n",
       "<thead><tr><th></th><th scope=col>2.5 %</th><th scope=col>97.5 %</th></tr></thead>\n",
       "<tbody>\n",
       "\t<tr><th scope=row>(Intercept)</th><td>77.875083 </td><td>108.484917</td></tr>\n",
       "\t<tr><th scope=row>x1</th><td> 0.769170 </td><td>  0.970830</td></tr>\n",
       "\t<tr><th scope=row>x2</th><td> 1.913836 </td><td>  2.934164</td></tr>\n",
       "</tbody>\n",
       "</table>\n"
      ],
      "text/latex": [
       "\\begin{tabular}{r|ll}\n",
       "  & 2.5 \\% & 97.5 \\%\\\\\n",
       "\\hline\n",
       "\t(Intercept) & 77.875083  & 108.484917\\\\\n",
       "\tx1 &  0.769170  &   0.970830\\\\\n",
       "\tx2 &  1.913836  &   2.934164\\\\\n",
       "\\end{tabular}\n"
      ],
      "text/markdown": [
       "\n",
       "| <!--/--> | 2.5 % | 97.5 % |\n",
       "|---|---|---|\n",
       "| (Intercept) | 77.875083  | 108.484917 |\n",
       "| x1 |  0.769170  |   0.970830 |\n",
       "| x2 |  1.913836  |   2.934164 |\n",
       "\n"
      ],
      "text/plain": [
       "            2.5 %     97.5 %    \n",
       "(Intercept) 77.875083 108.484917\n",
       "x1           0.769170   0.970830\n",
       "x2           1.913836   2.934164"
      ]
     },
     "metadata": {},
     "output_type": "display_data"
    }
   ],
   "source": [
    "confint(ajusteq5,level=0.95)"
   ]
  },
  {
   "cell_type": "markdown",
   "metadata": {},
   "source": [
    "O intervalo de confiança para o parâmetro $\\beta_2$ é dado por (1,913836 ; 2,934164) ao nível de 95\\% de confiança."
   ]
  },
  {
   "cell_type": "markdown",
   "metadata": {},
   "source": [
    "$\\color{red}{\\text{c)}}$ - **Calcule e interprete o valor do coeficiente de determinação para esse modelo**"
   ]
  },
  {
   "cell_type": "code",
   "execution_count": 16,
   "metadata": {},
   "outputs": [
    {
     "name": "stdout",
     "output_type": "stream",
     "text": [
      "O coeficiente de determinação é dado por 0.9621287 e o coeficiente de determinação ajustado é dado por 0.9576733"
     ]
    }
   ],
   "source": [
    "#Determinação do coeficiente de determinação - Método 1\n",
    "met1=summary(ajusteq5)\n",
    "cat(\"O coeficiente de determinação é dado por\",met1$r.squared,\"e o coeficiente de determinação ajustado é dado por\",met1$adj.r.squared)\n"
   ]
  },
  {
   "cell_type": "code",
   "execution_count": 17,
   "metadata": {},
   "outputs": [
    {
     "name": "stdout",
     "output_type": "stream",
     "text": [
      "O coeficiente de determinação é 0.9621287 \n",
      "\n",
      "O coeficiente de determinação ajustado é 0.9576733"
     ]
    }
   ],
   "source": [
    "#Determinação do coeficiente de determinação - Método 2\n",
    "\n",
    "\n",
    "#Segundo Método : R2=SQ_regressao/ SQ_tot\n",
    "#SQ_regressao = t(beta) . t(X) . y - n . media(y)^2\n",
    "#SQ_erro= t(y) . y - t(beta) . t(X) . y\n",
    "#SQ_total = t(y) . y - n . media(y)^2\n",
    "\n",
    "#Base de dados\n",
    "x1=cbind(q5$x1)        #Extraíndo a coluna x1\n",
    "x2=cbind(q5$x2)        #Extraíndo a coluna x2\n",
    "y=cbind(q5$y)          #Extraíndo a coluna y\n",
    "\n",
    "#Calculado SQ_total\n",
    "SQ_total = t(y) %*% y - length(y) %*% mean(y)^2\n",
    "\n",
    "#Criando a matrix X\n",
    "x=matrix(c(rep(1,20),x1,x2),ncol=3,byrow=F)\n",
    "\n",
    "#Determinando Beta\n",
    "beta=solve(t(x)%*%x)%*%t(x)%*%y\n",
    "\n",
    "#Determinando SQ_regressao\n",
    "SQ_regressao= t(beta) %*% t(x) %*% y - length(y) %*% mean(y)^2\n",
    "\n",
    "#Determinando o R2\n",
    "R2_cal=SQ_regressao/SQ_total\n",
    "cat(\"O coeficiente de determinação é\",R2_cal,\"\\n\\n\")\n",
    "\n",
    "#Soma dos quadrados do Erro\n",
    "SQ_erro=t(y) %*% y - t(beta) %*% t(x) %*% y\n",
    "\n",
    "#Número de parâmetros\n",
    "p=2\n",
    "\n",
    "#Coeficiente de determinação ajustado\n",
    "R2_ajus=1-((SQ_erro)/(length(y)-p-1))/(SQ_total/(length(y)-1))\n",
    "cat(\"O coeficiente de determinação ajustado é\",R2_ajus)\n"
   ]
  },
  {
   "cell_type": "markdown",
   "metadata": {},
   "source": [
    "$\\color{red}{\\text{d)}}$ - **Estime a variância da variável dependente no modelo ajustado**"
   ]
  },
  {
   "cell_type": "code",
   "execution_count": 18,
   "metadata": {},
   "outputs": [
    {
     "name": "stdout",
     "output_type": "stream",
     "text": [
      "A variância da variável dependente no modelo é dado por 36.54353"
     ]
    }
   ],
   "source": [
    "#Cálculo da variância - Primeiro Método\n",
    "met1=summary(ajusteq5)\n",
    "sigma=met1$sigma\n",
    "cat(\"A variância da variável dependente no modelo é dado por\",sigma^2)\n"
   ]
  },
  {
   "cell_type": "code",
   "execution_count": 19,
   "metadata": {},
   "outputs": [
    {
     "name": "stdout",
     "output_type": "stream",
     "text": [
      "Pelo fórmula, a variância é dada por 36.54353"
     ]
    }
   ],
   "source": [
    "#Cálculo da variância - Método 2\n",
    "#sigma2=(t(y-X.beta)) . (y-X.beta))/(n-p-1)\n",
    "\n",
    "sigma2=(t(y-x%*%beta) %*% (y-x%*%beta))/(length(y)-p-1)\n",
    "cat(\"Pelo fórmula, a variância é dada por\",sigma2)"
   ]
  },
  {
   "cell_type": "markdown",
   "metadata": {},
   "source": [
    "$\\color{red}{\\text{Exercício 6}}$ - **Retirado do livro: Análise de Modelos de Regressão Linear com Aplicações, de Charnet, Freire, Charnet e Bonvino** Na tabela a seguir estão apresentados alguns resultados do Vestibular 98 da Unicamp, por curso. As variáveis apresentadas são:\n",
    "\n",
    "+ Relação candidato/vaga (C/V) para a primeira fase do Vestibular;\n",
    "+ Notas médias das provas de Química (NQ), Matemática (NM) e História (NH), na segunda fase do Vestibular;\n",
    "+ Período (Per) em que é oferecido o curso: diurno (D) ou noturno (V);\n",
    "+ Disciplina prioritária para o curso, Química (QP), Matemática (MP) e História (HP): sim (S) ou não (N).\n",
    "\n",
    "|         Cursos        | Per. |  C/V  |   NQ  | QP |   NM  | MP |   NH  | HP |\n",
    "|:---------------------:|:----:|:-----:|:-----:|:--:|:-----:|:--:|:-----:|:--:|\n",
    "|     Artes cênicas     |   D  | 15.08 | 22.06 |  N | 15.92 |  N | 25.11 |  N |\n",
    "|     C. Computação     |   V  | 29.60 | 29.33 |  N | 24.41 |  N | 23.94 |  N |\n",
    "|     C. biológicas     |   D  | 37.83 | 31.18 |  N | 20.21 |  N | 26.07 |  N |\n",
    "|     C. biológicas     |   V  |  9.45 | 24.61 |  N | 15.54 |  N | 21.88 |  N |\n",
    "|     C. econômicas     |   D  | 16.94 | 26.74 |  N | 22.22 |  S | 28.96 |  S |\n",
    "|     C. econômicas     |   V  | 12.43 | 25.43 |  N | 21.05 |  S | 28.53 |  S |\n",
    "|    Ciências sociais   |   D  |  6.92 | 22.24 |  N | 15.73 |  N | 29.47 |  S |\n",
    "|    Ciências sociais   |   V  |  6.22 | 13.42 |  N | 10.91 |  N | 24.33 |  S |\n",
    "|         Dança         |   D  |  6.64 | 13.98 |  N | 10.78 |  N | 18.05 |  N |\n",
    "|     Ed. artística     |   D  |  8.60 | 16.77 |  N | 13.54 |  N | 22.01 |  N |\n",
    "|    Educação física    |   D  | 13.26 | 23.10 |  N | 16.02 |  N | 21.20 |  N |\n",
    "|    Educação física    |   V  |  7.66 | 15.10 |  N | 11.92 |  N | 17.59 |  N |\n",
    "|       Enfermagem      |   D  | 20.43 | 27.04 |  N | 17.19 |  N | 24.16 |  N |\n",
    "|      E. agrícola      |   D  |  5.93 | 20.66 |  N | 15.39 |  S | 19.95 |  N |\n",
    "|      E. alimentos     |   D  | 17.70 | 31.81 |  N | 23.25 |  S | 24.47 |  N |\n",
    "|      E. alimentos     |   V  | 16.73 | 30.78 |  N | 21.75 |  S | 23.09 |  N |\n",
    "|        E. civil       |   D  | 13.19 | 30.34 |  N | 25.89 |  S | 24.97 |  N |\n",
    "|    E. c. automação    |   V  | 26.08 | 30.09 |  N | 23.81 |  S | 23.66 |  N |\n",
    "|     E. computação     |   D  | 20.02 | 34.53 |  N | 27.41 |  S | 25.42 |  N |\n",
    "|      E. elétrica      |   D  | 15.44 | 34.89 |  N | 27.84 |  S | 25.34 |  N |\n",
    "|      E. elétrica      |   V  | 13.80 | 26.65 |  N | 23.94 |  S | 22.12 |  N |\n",
    "|      E. mecânica      |   D  | 17.10 | 33.57 |  N | 26.55 |  S | 25.25 |  N |\n",
    "|       E. química      |   D  | 10.62 | 36.20 |  S | 25.72 |  S | 24.70 |  N |\n",
    "|       E. química      |   V  |  7.20 | 35.21 |  S | 19.79 |  S | 22.18 |  N |\n",
    "|      Estatística      |   D  |  4.31 | 13.76 |  N | 12.19 |  S | 14.88 |  N |\n",
    "|       Filosofia       |   D  |  4.40 | 13.11 |  N | 12.16 |  S | 21.53 |  S |\n",
    "|         Física        |   V  |  4.40 | 17.95 |  N | 13.97 |  S | 17.50 |  N |\n",
    "|    F/M/M. aplicada    |   D  |  3.39 | 26.57 |  N | 22.90 |  S | 21.41 |  N |\n",
    "|       Geografia       |   V  |  3.07 | 11.21 |  N |  9.15 |  N | 20.48 |  N |\n",
    "|   Geologia/Geografia  |   D  |  6.07 | 16.92 |  N | 11.84 |  N | 22.29 |  N |\n",
    "|        História       |   D  | 11.83 | 21.16 |  N | 15.17 |  N | 30.28 |  S |\n",
    "|  Letras e linguística |   D  |  7.56 | 17.99 |  N | 12.80 |  N | 24.28 |  S |\n",
    "|   Mat. licenciatura   |   V  |  2.89 | 12.39 |  N | 12.38 |  S | 14.46 |  N |\n",
    "|        Medicina       |   D  | 84.34 | 40.41 |  S | 28.58 |  N | 31.63 |  N |\n",
    "|   Mús. - composição   |   D  |  2.30 | 14.67 |  N | 10.83 |  N | 18.50 |  N |\n",
    "|   Mús. - instrumento  |   D  |  4.00 |  9.37 |  N |  7.86 |  N | 13.05 |  N |\n",
    "|     Mús. - popular    |   D  |  9.00 | 22.20 |  N | 16.85 |  N | 24.22 |  N |\n",
    "|    Mús. - regência    |   D  |  2.30 | 12.00 |  N |  9.39 |  N | 17.56 |  N |\n",
    "|      Odontologia      |   D  | 30.54 | 31.18 |  S | 20.53 |  N | 24.72 |  N |\n",
    "|       Pedagogia       |   D  |  5.27 | 11.49 |  N |  9.01 |  N | 18.87 |  S |\n",
    "|       Pedagogia       |   V  | 10.10 | 10.61 |  N |  9.43 |  N | 18.85 |  S |\n",
    "|        Química        |   D  |  5.36 | 32.92 |  S | 19.06 |  S | 22.37 |  N |\n",
    "| Quím. modal. tecnol.  |   V  |  8.03 | 33.39 |  S | 15.52 |  N | 18.74 |  N |\n",
    "|     Tec. c. civil     |   V  |  1.64 | 12.85 |  N | 10.55 |  S | 14.82 |  N |\n",
    "|     Tec. p. dados     |   V  |  6.38 | 13.97 |  N | 12.09 |  S | 17.35 |  N |\n",
    "|     Tec. sanitária    |   V  |  3.46 | 11.74 |  N |  8.15 |  S | 12.88 |  N |\n",
    "\n",
    "\n",
    "Para cada uma das disciplinas (Química, Matemática e História) encontre o melhor modelo para relacionar a nota obtida na prova do Vestibular e as demais variáveis."
   ]
  },
  {
   "cell_type": "code",
   "execution_count": 20,
   "metadata": {},
   "outputs": [
    {
     "data": {
      "text/html": [
       "<table>\n",
       "<thead><tr><th scope=col>Cursos</th><th scope=col>Per</th><th scope=col>CV</th><th scope=col>NQ</th><th scope=col>QP</th><th scope=col>NM</th><th scope=col>MP</th><th scope=col>NH</th><th scope=col>HP</th></tr></thead>\n",
       "<tbody>\n",
       "\t<tr><td>Artes cênicas</td><td>D            </td><td>15.08        </td><td>22.06        </td><td>N            </td><td>15.92        </td><td>N            </td><td>25.11        </td><td>N            </td></tr>\n",
       "\t<tr><td>C. Computação</td><td>V            </td><td>29.60        </td><td>29.33        </td><td>N            </td><td>24.41        </td><td>N            </td><td>23.94        </td><td>N            </td></tr>\n",
       "\t<tr><td>C. biológicas</td><td>D            </td><td>37.83        </td><td>31.18        </td><td>N            </td><td>20.21        </td><td>N            </td><td>26.07        </td><td>N            </td></tr>\n",
       "\t<tr><td>C. biológicas</td><td>V            </td><td> 9.45        </td><td>24.61        </td><td>N            </td><td>15.54        </td><td>N            </td><td>21.88        </td><td>N            </td></tr>\n",
       "\t<tr><td>C. econômicas</td><td>D            </td><td>16.94        </td><td>26.74        </td><td>N            </td><td>22.22        </td><td>S            </td><td>28.96        </td><td>S            </td></tr>\n",
       "\t<tr><td>C. econômicas</td><td>V            </td><td>12.43        </td><td>25.43        </td><td>N            </td><td>21.05        </td><td>S            </td><td>28.53        </td><td>S            </td></tr>\n",
       "</tbody>\n",
       "</table>\n"
      ],
      "text/latex": [
       "\\begin{tabular}{r|lllllllll}\n",
       " Cursos & Per & CV & NQ & QP & NM & MP & NH & HP\\\\\n",
       "\\hline\n",
       "\t Artes cênicas & D             & 15.08         & 22.06         & N             & 15.92         & N             & 25.11         & N            \\\\\n",
       "\t C. Computação & V             & 29.60         & 29.33         & N             & 24.41         & N             & 23.94         & N            \\\\\n",
       "\t C. biológicas & D             & 37.83         & 31.18         & N             & 20.21         & N             & 26.07         & N            \\\\\n",
       "\t C. biológicas & V             &  9.45         & 24.61         & N             & 15.54         & N             & 21.88         & N            \\\\\n",
       "\t C. econômicas & D             & 16.94         & 26.74         & N             & 22.22         & S             & 28.96         & S            \\\\\n",
       "\t C. econômicas & V             & 12.43         & 25.43         & N             & 21.05         & S             & 28.53         & S            \\\\\n",
       "\\end{tabular}\n"
      ],
      "text/markdown": [
       "\n",
       "| Cursos | Per | CV | NQ | QP | NM | MP | NH | HP |\n",
       "|---|---|---|---|---|---|---|---|---|\n",
       "| Artes cênicas | D             | 15.08         | 22.06         | N             | 15.92         | N             | 25.11         | N             |\n",
       "| C. Computação | V             | 29.60         | 29.33         | N             | 24.41         | N             | 23.94         | N             |\n",
       "| C. biológicas | D             | 37.83         | 31.18         | N             | 20.21         | N             | 26.07         | N             |\n",
       "| C. biológicas | V             |  9.45         | 24.61         | N             | 15.54         | N             | 21.88         | N             |\n",
       "| C. econômicas | D             | 16.94         | 26.74         | N             | 22.22         | S             | 28.96         | S             |\n",
       "| C. econômicas | V             | 12.43         | 25.43         | N             | 21.05         | S             | 28.53         | S             |\n",
       "\n"
      ],
      "text/plain": [
       "  Cursos        Per CV    NQ    QP NM    MP NH    HP\n",
       "1 Artes cênicas D   15.08 22.06 N  15.92 N  25.11 N \n",
       "2 C. Computação V   29.60 29.33 N  24.41 N  23.94 N \n",
       "3 C. biológicas D   37.83 31.18 N  20.21 N  26.07 N \n",
       "4 C. biológicas V    9.45 24.61 N  15.54 N  21.88 N \n",
       "5 C. econômicas D   16.94 26.74 N  22.22 S  28.96 S \n",
       "6 C. econômicas V   12.43 25.43 N  21.05 S  28.53 S "
      ]
     },
     "metadata": {},
     "output_type": "display_data"
    }
   ],
   "source": [
    "#Entrada de dados\n",
    "cursos=read.csv2(\"cursos.csv\",header=T,dec=\".\")\n",
    "head(cursos)\n"
   ]
  },
  {
   "cell_type": "code",
   "execution_count": 21,
   "metadata": {},
   "outputs": [
    {
     "name": "stderr",
     "output_type": "stream",
     "text": [
      "Loading required package: dplyr\n",
      "\n",
      "Attaching package: 'dplyr'\n",
      "\n",
      "The following objects are masked from 'package:stats':\n",
      "\n",
      "    filter, lag\n",
      "\n",
      "The following objects are masked from 'package:base':\n",
      "\n",
      "    intersect, setdiff, setequal, union\n",
      "\n"
     ]
    }
   ],
   "source": [
    "#filtros turnos\n",
    "require(dplyr)                                      \n",
    "per_diurno=cursos %>% filter(Per==\"D\")\n",
    "per_not=cursos %>% filter(Per==\"V\")\n",
    "\n",
    "#filtros QP prioritária\n",
    "qpS=cursos %>% filter(QP==\"S\")\n",
    "qpN=cursos %>% filter(QP==\"N\")\n"
   ]
  },
  {
   "cell_type": "code",
   "execution_count": 22,
   "metadata": {},
   "outputs": [
    {
     "data": {
      "text/plain": [
       "\n",
       "Call:\n",
       "lm(formula = NQ ~ CV, data = per_diurno)\n",
       "\n",
       "Residuals:\n",
       "     Min       1Q   Median       3Q      Max \n",
       "-10.9449  -5.1248  -0.3953   6.4646  13.6115 \n",
       "\n",
       "Coefficients:\n",
       "            Estimate Std. Error t value Pr(>|t|)    \n",
       "(Intercept) 18.94104    1.73443  10.921 2.08e-11 ***\n",
       "CV           0.34345    0.08267   4.155 0.000294 ***\n",
       "---\n",
       "Signif. codes:  0 '***' 0.001 '**' 0.01 '*' 0.05 '.' 0.1 ' ' 1\n",
       "\n",
       "Residual standard error: 6.951 on 27 degrees of freedom\n",
       "Multiple R-squared:   0.39,\tAdjusted R-squared:  0.3674 \n",
       "F-statistic: 17.26 on 1 and 27 DF,  p-value: 0.0002937\n"
      ]
     },
     "metadata": {},
     "output_type": "display_data"
    }
   ],
   "source": [
    "ajuste_quimica=lm(NQ~CV,data=per_diurno)\n",
    "summary(ajuste_quimica)"
   ]
  },
  {
   "cell_type": "markdown",
   "metadata": {},
   "source": [
    "O modelo obtido é dado por $\\hat{y}=18,94+0,34345CV$ para os alunos de química diurno com um coeficiente de determinação de 39\\%."
   ]
  }
 ],
 "metadata": {
  "kernelspec": {
   "display_name": "R",
   "language": "R",
   "name": "ir"
  },
  "language_info": {
   "codemirror_mode": "r",
   "file_extension": ".r",
   "mimetype": "text/x-r-source",
   "name": "R",
   "pygments_lexer": "r",
   "version": "3.6.1"
  }
 },
 "nbformat": 4,
 "nbformat_minor": 4
}
