{
 "cells": [
  {
   "cell_type": "markdown",
   "metadata": {},
   "source": [
    "# Day 19:30 daily statistics - Residuos P1"
   ]
  },
  {
   "cell_type": "markdown",
   "metadata": {},
   "source": [
    "$\\color{red}{\\text{Exercício 1}}$ - **Retirado do livro: Análise de Modelos de Regressão Linear com Aplicações, de Charnet, Freire, Charnet e Bonvino** Uma faculdade de economia fez uma pesquisa para estudar a evolução do salário médio inicial mensal dos seus ex-alunos, formados durante o período de 1987 a 1993. Para tanto selecionou-se 20 formandos de cada ano, para os quais foram calculadas as médias salariais para cada ano. Os dados encontram-se a seguir\n",
    "\n",
    "| Ano | Média Salarial |\n",
    "|:---:|:--------------:|\n",
    "|  87 |     1092,31    |\n",
    "|  88 |     1203,46    |\n",
    "|  89 |     1265,54    |\n",
    "|  90 |     1298,77    |\n",
    "|  91 |     1396,85    |\n",
    "|  92 |     1588,46    |\n",
    "|  93 |     1683,85    |\n",
    "\n",
    "+ a) Calcule os resíduos padronizados do modelo ajustado;\n",
    "+ b) Faça os gráficos dos resíduos para verificar possíveis violações das suposições do MRLS."
   ]
  },
  {
   "cell_type": "markdown",
   "metadata": {},
   "source": [
    "$\\color{red}{\\text{a)}}$ **O cálculo dos resíduos padronizados do modelo ajustado são apresentados a seguir**"
   ]
  },
  {
   "cell_type": "code",
   "execution_count": 1,
   "metadata": {},
   "outputs": [
    {
     "data": {
      "text/plain": [
       "\n",
       "Call:\n",
       "lm(formula = sal ~ ano, data = base1)\n",
       "\n",
       "Residuals:\n",
       "       1        2        3        4        5        6        7 \n",
       " 17.6968  33.2779  -0.2111 -62.5500 -60.0389  36.0021  35.8232 \n",
       "\n",
       "Coefficients:\n",
       "            Estimate Std. Error t value Pr(>|t|)    \n",
       "(Intercept) -7239.88     816.51  -8.867 0.000303 ***\n",
       "ano            95.57       9.07  10.537 0.000133 ***\n",
       "---\n",
       "Signif. codes:  0 '***' 0.001 '**' 0.01 '*' 0.05 '.' 0.1 ' ' 1\n",
       "\n",
       "Residual standard error: 47.99 on 5 degrees of freedom\n",
       "Multiple R-squared:  0.9569,\tAdjusted R-squared:  0.9483 \n",
       "F-statistic:   111 on 1 and 5 DF,  p-value: 0.000133\n"
      ]
     },
     "metadata": {},
     "output_type": "display_data"
    }
   ],
   "source": [
    "#Entrando com os dados\n",
    "ano=seq(87,93,by=1)\n",
    "sal=c(1092.31, 1203.46, 1265.54, 1298.77, 1396.85, 1588.46, 1683.85)\n",
    "base1=data.frame(ano,sal)\n",
    "ajuste1=lm(sal~ano,data=base1)\n",
    "summary(ajuste1)"
   ]
  },
  {
   "cell_type": "code",
   "execution_count": 2,
   "metadata": {},
   "outputs": [
    {
     "data": {
      "text/html": [
       "<table>\n",
       "<thead><tr><th scope=col>residuos_padronizados</th></tr></thead>\n",
       "<tbody>\n",
       "\t<tr><td> 0.368759861</td></tr>\n",
       "\t<tr><td> 0.693433156</td></tr>\n",
       "\t<tr><td>-0.004398238</td></tr>\n",
       "\t<tr><td>-1.303396541</td></tr>\n",
       "\t<tr><td>-1.251071652</td></tr>\n",
       "\t<tr><td> 0.750200935</td></tr>\n",
       "\t<tr><td> 0.746472479</td></tr>\n",
       "</tbody>\n",
       "</table>\n"
      ],
      "text/latex": [
       "\\begin{tabular}{r|l}\n",
       " residuos\\_padronizados\\\\\n",
       "\\hline\n",
       "\t  0.368759861\\\\\n",
       "\t  0.693433156\\\\\n",
       "\t -0.004398238\\\\\n",
       "\t -1.303396541\\\\\n",
       "\t -1.251071652\\\\\n",
       "\t  0.750200935\\\\\n",
       "\t  0.746472479\\\\\n",
       "\\end{tabular}\n"
      ],
      "text/markdown": [
       "\n",
       "| residuos_padronizados |\n",
       "|---|\n",
       "|  0.368759861 |\n",
       "|  0.693433156 |\n",
       "| -0.004398238 |\n",
       "| -1.303396541 |\n",
       "| -1.251071652 |\n",
       "|  0.750200935 |\n",
       "|  0.746472479 |\n",
       "\n"
      ],
      "text/plain": [
       "  residuos_padronizados\n",
       "1  0.368759861         \n",
       "2  0.693433156         \n",
       "3 -0.004398238         \n",
       "4 -1.303396541         \n",
       "5 -1.251071652         \n",
       "6  0.750200935         \n",
       "7  0.746472479         "
      ]
     },
     "metadata": {},
     "output_type": "display_data"
    }
   ],
   "source": [
    "#Calculo dos resíduos padronizados\n",
    "dp=47.99\n",
    "residuos=residuals(ajuste1)\n",
    "residuos_padronizados=residuos/dp\n",
    "data.frame(residuos_padronizados)"
   ]
  },
  {
   "cell_type": "markdown",
   "metadata": {},
   "source": [
    "$\\color{red}{\\text{b)}}$ **Faça os gráficos dos resíduos para verificar possíveis violações das suposições do MRLS**:"
   ]
  },
  {
   "cell_type": "code",
   "execution_count": 3,
   "metadata": {},
   "outputs": [
    {
     "data": {
      "image/png": "[encoded data removed]",
      "text/plain": [
       "Plot with title \"\""
      ]
     },
     "metadata": {},
     "output_type": "display_data"
    }
   ],
   "source": [
    "#Plotando os resíduos padronizados\n",
    "par(mfrow=c(2,2))\n",
    "plot(ajuste1)"
   ]
  },
  {
   "cell_type": "code",
   "execution_count": 4,
   "metadata": {},
   "outputs": [
    {
     "name": "stderr",
     "output_type": "stream",
     "text": [
      "Loading required package: lmtest\n",
      "Warning message:\n",
      "\"package 'lmtest' was built under R version 3.6.3\"Loading required package: zoo\n",
      "Warning message:\n",
      "\"package 'zoo' was built under R version 3.6.3\"\n",
      "Attaching package: 'zoo'\n",
      "\n",
      "The following objects are masked from 'package:base':\n",
      "\n",
      "    as.Date, as.Date.numeric\n",
      "\n"
     ]
    },
    {
     "data": {
      "text/plain": [
       "\n",
       "\tstudentized Breusch-Pagan test\n",
       "\n",
       "data:  ajuste1\n",
       "BP = 0.84814, df = 1, p-value = 0.3571\n"
      ]
     },
     "metadata": {},
     "output_type": "display_data"
    }
   ],
   "source": [
    "#Teste de homocedasticidade da variância dos resíduos pelo teste de BP\n",
    "require(lmtest)\n",
    "bptest(ajuste1)"
   ]
  },
  {
   "cell_type": "markdown",
   "metadata": {},
   "source": [
    "Levando em consideração a seguinte hipótese:\n",
    "\n",
    "$$H_0: \\sigma_1^2=\\sigma_2^2$$\n",
    "$$H_1: \\sigma_1^2\\neq \\sigma_2^2$$\n",
    "\n",
    "Com um p-valor de 0,3571, não é possível rejeitarmos a hipótese nula, ou seja existem fortes evideências ao nível de 5% de significância que nos garantem que existem igualdades entre as variâncias dos resíduos. \n",
    "\n"
   ]
  },
  {
   "cell_type": "markdown",
   "metadata": {},
   "source": [
    "$\\color{red}{\\text{Exemplo 6.4}}$ - **Retirado do livro: Análise de Modelos de Regressão Linear com Aplicações, de Charnet, Freire, Charnet e Bonvino** Um pesquisador estuda os efeitos de um produto químico no crescimento de girassóis. Em um laboratório são preparados vasos onde são plantadas sementes de girassóis. Em certa data todas as plantas são regadas com uma solução contendo o prodto químico e após alguns dias as plantas são cortadas e pesadas. A tabela abaixo apresenta os valores do logaritmo da dosagem do produto químico aplicada, X ($\\log(g/cm^2)$) e o peso da planta, denominado peso verde, Y (g)\n",
    "\n",
    "| Peso Verde |  dose |\n",
    "|:----------:|:-----:|\n",
    "|   5,7925   | -4,24 |\n",
    "|   5,5675   | -4,24 |\n",
    "|   5,6800   | -4,24 |\n",
    "|   4,8925   | -4,24 |\n",
    "|   5,6725   | -5,24 |\n",
    "|   7,7775   | -5,24 |\n",
    "|   6,8800   | -5,24 |\n",
    "|   5,5975   | -5,24 |\n",
    "|   7,1500   | -6,24 |\n",
    "|   7,5850   | -6,24 |\n",
    "|   6,9167   | -6,24 |\n",
    "|   6,3975   | -6,24 |\n",
    "|   8,0350   | -7,24 |\n",
    "|   8,4875   | -7,24 |\n",
    "|   6,2825   | -7,24 |\n",
    "|   11,1825  | -7,24 |\n",
    "|   11,2000  | -8,24 |\n",
    "|   6,3750   | -8,24 |\n",
    "|   9,9900   | -8,24 |\n",
    "|   8,5150   | -8,24 |\n",
    "\n",
    "+ a) Determine o modelo;\n",
    "+ b) Mostre o gráfico de dispersão entre peso verde e dose e o gráfico de resíduos versus dose;\n",
    "+ c) Apresente o gráfico de previsão com os novos valores ajustados para log(peso);\n",
    "+ d) Use o estimador de Miller para as estimativas dos valores esperados do peso verda na escala original;"
   ]
  },
  {
   "cell_type": "markdown",
   "metadata": {},
   "source": [
    "$\\color{red}{\\text{a)}}$ **O ajuste do modelo é apresentado abaixo**:"
   ]
  },
  {
   "cell_type": "code",
   "execution_count": 5,
   "metadata": {},
   "outputs": [
    {
     "data": {
      "text/plain": [
       "\n",
       "Call:\n",
       "lm(formula = peso ~ dose, data = dados6)\n",
       "\n",
       "Residuals:\n",
       "     Min       1Q   Median       3Q      Max \n",
       "-2.74159 -0.63055 -0.03121  0.35607  2.97479 \n",
       "\n",
       "Coefficients:\n",
       "            Estimate Std. Error t value Pr(>|t|)    \n",
       "(Intercept)   1.6275     1.3170   1.236 0.232451    \n",
       "dose         -0.9089     0.2058  -4.415 0.000334 ***\n",
       "---\n",
       "Signif. codes:  0 '***' 0.001 '**' 0.01 '*' 0.05 '.' 0.1 ' ' 1\n",
       "\n",
       "Residual standard error: 1.302 on 18 degrees of freedom\n",
       "Multiple R-squared:  0.5199,\tAdjusted R-squared:  0.4933 \n",
       "F-statistic:  19.5 on 1 and 18 DF,  p-value: 0.0003339\n"
      ]
     },
     "metadata": {},
     "output_type": "display_data"
    }
   ],
   "source": [
    "#Entrando com os dados\n",
    "peso=c(5.7925, 5.5675, 5.6800, 4.8925, 5.6725, 7.7775,   \n",
    "       6.8800, 5.5975, 7.1500, 7.5850, 6.9167, 6.3975, 8.0350, 8.4875,   \n",
    "       6.2825, 11.1825, 11.2000, 6.3750, 9.9900, 8.5150) \n",
    "\n",
    "dose=c(-4.24, -4.24, -4.24, -4.24, -5.24, -5.24, -5.24, -5.24, -6.24, -6.24, \n",
    "       -6.24, -6.24, -7.24, -7.24, -7.24, -7.24, -8.24, -8.24, -8.24, -8.24)\n",
    "\n",
    "dados6=data.frame(peso,dose)\n",
    "ajuste6=lm(peso~dose,data=dados6)\n",
    "summary(ajuste6)"
   ]
  },
  {
   "cell_type": "markdown",
   "metadata": {},
   "source": [
    "O modelo estimado é dado por $\\hat{y}=1,6275-0,9089X$"
   ]
  },
  {
   "cell_type": "markdown",
   "metadata": {},
   "source": [
    "$\\color{red}{\\text{b)}}$ **Os gráficos de dispersão e de residuos versus dose** são apresentados abaixo:"
   ]
  },
  {
   "cell_type": "code",
   "execution_count": 6,
   "metadata": {},
   "outputs": [
    {
     "data": {
      "image/png": "[encoded data removed]",
      "text/plain": [
       "Plot with title \"\""
      ]
     },
     "metadata": {},
     "output_type": "display_data"
    }
   ],
   "source": [
    " #Gráfico de dispersão \n",
    "par(mfrow=c(2,3))\n",
    "plot(dose,peso,main=\"Peso verde versus Dose\")\n",
    "plot(ajuste6)"
   ]
  },
  {
   "cell_type": "markdown",
   "metadata": {},
   "source": [
    "O gráfico **Residuals vs Fitted** apresenta um decréscimo na variância dos resíduso à medida que a dosagem aumenta. O gráfico **Normal Q-Q** não apresenta violação da suposição de normalidade. Para melhorar o ajuste nos resíduos, optou-se por realizar a seguinte transformação: $log(y)$. Essa transformação estabiliza a variância quando esta tende a crescer à medida que Y também cresce. Em algumas situações pode também ajudar a normalizar os dados. "
   ]
  },
  {
   "cell_type": "code",
   "execution_count": 7,
   "metadata": {},
   "outputs": [
    {
     "data": {
      "text/plain": [
       "\n",
       "Call:\n",
       "lm(formula = peso2 ~ dose2, data = dados7)\n",
       "\n",
       "Residuals:\n",
       "     Min       1Q   Median       3Q      Max \n",
       "-0.35107 -0.10337  0.00440  0.07192  0.33249 \n",
       "\n",
       "Coefficients:\n",
       "            Estimate Std. Error t value Pr(>|t|)    \n",
       "(Intercept)  1.20151    0.16300   7.371  7.7e-07 ***\n",
       "dose2       -0.12160    0.02548  -4.773 0.000152 ***\n",
       "---\n",
       "Signif. codes:  0 '***' 0.001 '**' 0.01 '*' 0.05 '.' 0.1 ' ' 1\n",
       "\n",
       "Residual standard error: 0.1611 on 18 degrees of freedom\n",
       "Multiple R-squared:  0.5586,\tAdjusted R-squared:  0.5341 \n",
       "F-statistic: 22.78 on 1 and 18 DF,  p-value: 0.0001521\n"
      ]
     },
     "metadata": {},
     "output_type": "display_data"
    },
    {
     "name": "stdout",
     "output_type": "stream",
     "text": [
      "\n",
      "\n",
      "\n",
      "Anova para a variável transformada \n",
      "\n"
     ]
    },
    {
     "data": {
      "text/html": [
       "<table>\n",
       "<thead><tr><th></th><th scope=col>Df</th><th scope=col>Sum Sq</th><th scope=col>Mean Sq</th><th scope=col>F value</th><th scope=col>Pr(&gt;F)</th></tr></thead>\n",
       "<tbody>\n",
       "\t<tr><th scope=row>dose2</th><td> 1         </td><td>0.5914162  </td><td>0.59141619 </td><td>22.78257   </td><td>0.000152071</td></tr>\n",
       "\t<tr><th scope=row>Residuals</th><td>18         </td><td>0.4672647  </td><td>0.02595915 </td><td>      NA   </td><td>         NA</td></tr>\n",
       "</tbody>\n",
       "</table>\n"
      ],
      "text/latex": [
       "\\begin{tabular}{r|lllll}\n",
       "  & Df & Sum Sq & Mean Sq & F value & Pr(>F)\\\\\n",
       "\\hline\n",
       "\tdose2 &  1          & 0.5914162   & 0.59141619  & 22.78257    & 0.000152071\\\\\n",
       "\tResiduals & 18          & 0.4672647   & 0.02595915  &       NA    &          NA\\\\\n",
       "\\end{tabular}\n"
      ],
      "text/markdown": [
       "\n",
       "| <!--/--> | Df | Sum Sq | Mean Sq | F value | Pr(>F) |\n",
       "|---|---|---|---|---|---|\n",
       "| dose2 |  1          | 0.5914162   | 0.59141619  | 22.78257    | 0.000152071 |\n",
       "| Residuals | 18          | 0.4672647   | 0.02595915  |       NA    |          NA |\n",
       "\n"
      ],
      "text/plain": [
       "          Df Sum Sq    Mean Sq    F value  Pr(>F)     \n",
       "dose2      1 0.5914162 0.59141619 22.78257 0.000152071\n",
       "Residuals 18 0.4672647 0.02595915       NA          NA"
      ]
     },
     "metadata": {},
     "output_type": "display_data"
    }
   ],
   "source": [
    "#Transformação logaritmo do peso\n",
    "\n",
    "#Entrando com os dados transformados pelo log(x) = ln(x) \n",
    "peso2=log(c(5.7925, 5.5675, 5.6800, 4.8925, 5.6725, 7.7775,   \n",
    "       6.8800, 5.5975, 7.1500, 7.5850, 6.9167, 6.3975, 8.0350, 8.4875,   \n",
    "       6.2825, 11.1825, 11.2000, 6.3750, 9.9900, 8.5150)) \n",
    "\n",
    "dose2=c(-4.24, -4.24, -4.24, -4.24, -5.24, -5.24, -5.24, -5.24, -6.24, -6.24, \n",
    "       -6.24, -6.24, -7.24, -7.24, -7.24, -7.24, -8.24, -8.24, -8.24, -8.24)\n",
    "\n",
    "dados7=data.frame(peso2,dose2)\n",
    "ajuste7=lm(peso2~dose2,data=dados7)\n",
    "summary(ajuste7)\n",
    "\n",
    "cat(\"\\n\\n\\nAnova para a variável transformada \\n\\n\")\n",
    "anova(ajuste7)\n"
   ]
  },
  {
   "cell_type": "markdown",
   "metadata": {},
   "source": [
    "Observando a **anova** é possível concluir que o modelo ajustado é significativo. O valor estimado de $\\sigma^2=0,02595$, é próximo de zero, o que favorece o uso desta transformação."
   ]
  },
  {
   "cell_type": "code",
   "execution_count": 8,
   "metadata": {},
   "outputs": [
    {
     "data": {
      "image/png": "[encoded data removed]",
      "text/plain": [
       "Plot with title \"\""
      ]
     },
     "metadata": {},
     "output_type": "display_data"
    }
   ],
   "source": [
    "#Gráfico da variável ajustada\n",
    "par(mfrow=c(2,2))\n",
    "plot(ajuste7)"
   ]
  },
  {
   "cell_type": "markdown",
   "metadata": {},
   "source": [
    "O gráfico dos **resíduos vs valores ajustados** não mostra mais o acentuado declínio da variância com o aumento da dosagem e o gráfico de probabilidade normal dos resíduos não apresenta evidência contra a suposição de normalidade do erro."
   ]
  },
  {
   "cell_type": "markdown",
   "metadata": {},
   "source": [
    "$\\color{red}{\\text{c)}}$ **Reta estimada ajustada pela transformação**:"
   ]
  },
  {
   "cell_type": "code",
   "execution_count": 9,
   "metadata": {},
   "outputs": [
    {
     "data": {
      "image/png": "[encoded data removed]",
      "text/plain": [
       "Plot with title \"Reta Ajustada para log(peso)\""
      ]
     },
     "metadata": {},
     "output_type": "display_data"
    }
   ],
   "source": [
    "plot(peso2~dose2,pch=16,data=dados7,main=\"Reta Ajustada para log(peso)\",ylab=\"log(Peso)\",xlab=\"Dose\")\n",
    "abline(ajuste7,col=\"red\")"
   ]
  },
  {
   "cell_type": "markdown",
   "metadata": {},
   "source": [
    "O modelo ajustado é dado por $log(\\hat{y})=1,2-0,1216X$"
   ]
  },
  {
   "cell_type": "markdown",
   "metadata": {},
   "source": [
    "$\\color{red}{\\text{d)}}$ **Estimador de Miller para a escala original dos dados**:"
   ]
  },
  {
   "cell_type": "code",
   "execution_count": 10,
   "metadata": {},
   "outputs": [
    {
     "data": {
      "text/html": [
       "<table>\n",
       "<thead><tr><th scope=col>dose2</th><th scope=col>preditos</th><th scope=col>residuos</th></tr></thead>\n",
       "<tbody>\n",
       "\t<tr><td>-4.24        </td><td>1.717076     </td><td> 0.0394879409</td></tr>\n",
       "\t<tr><td>-4.24        </td><td>1.717076     </td><td>-0.0001299163</td></tr>\n",
       "\t<tr><td>-4.24        </td><td>1.717076     </td><td> 0.0198751963</td></tr>\n",
       "\t<tr><td>-4.24        </td><td>1.717076     </td><td>-0.1293726162</td></tr>\n",
       "\t<tr><td>-5.24        </td><td>1.838671     </td><td>-0.1030413483</td></tr>\n",
       "\t<tr><td>-5.24        </td><td>1.838671     </td><td> 0.2125636638</td></tr>\n",
       "\t<tr><td>-5.24        </td><td>1.838671     </td><td> 0.0899473660</td></tr>\n",
       "\t<tr><td>-5.24        </td><td>1.838671     </td><td>-0.1163512165</td></tr>\n",
       "\t<tr><td>-6.24        </td><td>1.960267     </td><td> 0.0068458212</td></tr>\n",
       "\t<tr><td>-6.24        </td><td>1.960267     </td><td> 0.0659060773</td></tr>\n",
       "\t<tr><td>-6.24        </td><td>1.960267     </td><td>-0.0263277582</td></tr>\n",
       "\t<tr><td>-6.24        </td><td>1.960267     </td><td>-0.1043592465</td></tr>\n",
       "\t<tr><td>-7.24        </td><td>2.081862     </td><td> 0.0019452142</td></tr>\n",
       "\t<tr><td>-7.24        </td><td>2.081862     </td><td> 0.0567327078</td></tr>\n",
       "\t<tr><td>-7.24        </td><td>2.081862     </td><td>-0.2440937946</td></tr>\n",
       "\t<tr><td>-7.24        </td><td>2.081862     </td><td> 0.3324882713</td></tr>\n",
       "\t<tr><td>-8.24        </td><td>2.203457     </td><td> 0.2124567437</td></tr>\n",
       "\t<tr><td>-8.24        </td><td>2.203457     </td><td>-0.3510729435</td></tr>\n",
       "\t<tr><td>-8.24        </td><td>2.203457     </td><td> 0.0981275581</td></tr>\n",
       "\t<tr><td>-8.24        </td><td>2.203457     </td><td>-0.0616277205</td></tr>\n",
       "</tbody>\n",
       "</table>\n"
      ],
      "text/latex": [
       "\\begin{tabular}{r|lll}\n",
       " dose2 & preditos & residuos\\\\\n",
       "\\hline\n",
       "\t -4.24         & 1.717076      &  0.0394879409\\\\\n",
       "\t -4.24         & 1.717076      & -0.0001299163\\\\\n",
       "\t -4.24         & 1.717076      &  0.0198751963\\\\\n",
       "\t -4.24         & 1.717076      & -0.1293726162\\\\\n",
       "\t -5.24         & 1.838671      & -0.1030413483\\\\\n",
       "\t -5.24         & 1.838671      &  0.2125636638\\\\\n",
       "\t -5.24         & 1.838671      &  0.0899473660\\\\\n",
       "\t -5.24         & 1.838671      & -0.1163512165\\\\\n",
       "\t -6.24         & 1.960267      &  0.0068458212\\\\\n",
       "\t -6.24         & 1.960267      &  0.0659060773\\\\\n",
       "\t -6.24         & 1.960267      & -0.0263277582\\\\\n",
       "\t -6.24         & 1.960267      & -0.1043592465\\\\\n",
       "\t -7.24         & 2.081862      &  0.0019452142\\\\\n",
       "\t -7.24         & 2.081862      &  0.0567327078\\\\\n",
       "\t -7.24         & 2.081862      & -0.2440937946\\\\\n",
       "\t -7.24         & 2.081862      &  0.3324882713\\\\\n",
       "\t -8.24         & 2.203457      &  0.2124567437\\\\\n",
       "\t -8.24         & 2.203457      & -0.3510729435\\\\\n",
       "\t -8.24         & 2.203457      &  0.0981275581\\\\\n",
       "\t -8.24         & 2.203457      & -0.0616277205\\\\\n",
       "\\end{tabular}\n"
      ],
      "text/markdown": [
       "\n",
       "| dose2 | preditos | residuos |\n",
       "|---|---|---|\n",
       "| -4.24         | 1.717076      |  0.0394879409 |\n",
       "| -4.24         | 1.717076      | -0.0001299163 |\n",
       "| -4.24         | 1.717076      |  0.0198751963 |\n",
       "| -4.24         | 1.717076      | -0.1293726162 |\n",
       "| -5.24         | 1.838671      | -0.1030413483 |\n",
       "| -5.24         | 1.838671      |  0.2125636638 |\n",
       "| -5.24         | 1.838671      |  0.0899473660 |\n",
       "| -5.24         | 1.838671      | -0.1163512165 |\n",
       "| -6.24         | 1.960267      |  0.0068458212 |\n",
       "| -6.24         | 1.960267      |  0.0659060773 |\n",
       "| -6.24         | 1.960267      | -0.0263277582 |\n",
       "| -6.24         | 1.960267      | -0.1043592465 |\n",
       "| -7.24         | 2.081862      |  0.0019452142 |\n",
       "| -7.24         | 2.081862      |  0.0567327078 |\n",
       "| -7.24         | 2.081862      | -0.2440937946 |\n",
       "| -7.24         | 2.081862      |  0.3324882713 |\n",
       "| -8.24         | 2.203457      |  0.2124567437 |\n",
       "| -8.24         | 2.203457      | -0.3510729435 |\n",
       "| -8.24         | 2.203457      |  0.0981275581 |\n",
       "| -8.24         | 2.203457      | -0.0616277205 |\n",
       "\n"
      ],
      "text/plain": [
       "   dose2 preditos residuos     \n",
       "1  -4.24 1.717076  0.0394879409\n",
       "2  -4.24 1.717076 -0.0001299163\n",
       "3  -4.24 1.717076  0.0198751963\n",
       "4  -4.24 1.717076 -0.1293726162\n",
       "5  -5.24 1.838671 -0.1030413483\n",
       "6  -5.24 1.838671  0.2125636638\n",
       "7  -5.24 1.838671  0.0899473660\n",
       "8  -5.24 1.838671 -0.1163512165\n",
       "9  -6.24 1.960267  0.0068458212\n",
       "10 -6.24 1.960267  0.0659060773\n",
       "11 -6.24 1.960267 -0.0263277582\n",
       "12 -6.24 1.960267 -0.1043592465\n",
       "13 -7.24 2.081862  0.0019452142\n",
       "14 -7.24 2.081862  0.0567327078\n",
       "15 -7.24 2.081862 -0.2440937946\n",
       "16 -7.24 2.081862  0.3324882713\n",
       "17 -8.24 2.203457  0.2124567437\n",
       "18 -8.24 2.203457 -0.3510729435\n",
       "19 -8.24 2.203457  0.0981275581\n",
       "20 -8.24 2.203457 -0.0616277205"
      ]
     },
     "metadata": {},
     "output_type": "display_data"
    }
   ],
   "source": [
    "# Resultados obtidos\n",
    "preditos=predict(ajuste7)\n",
    "residuos=residuals(ajuste7)\n",
    "final=data.frame(dose2,preditos,residuos)\n",
    "final"
   ]
  },
  {
   "cell_type": "markdown",
   "metadata": {},
   "source": [
    "Então, usando o estimador de Miller, as estimativas dos valores esperados do peso verde, na escala original são dadas por:\n",
    "\n",
    "$$\\exp(\\hat{\\beta}_0+\\hat{\\beta}_1X)\\exp(\\frac{\\hat{\\sigma}^2}{2})$$\n",
    "\n",
    "sendo $\\hat{\\beta}_0$, $\\hat{\\beta}_1$ e $\\hat{\\sigma}^2$ do ajuste do modelo na escala transformada. \n",
    "\n",
    "Logo, as estimativas para os valores de X = $(-4,24 \\qquad -5,24 \\qquad -6,24 \\qquad -7,24\\qquad -8,24)$ $\\qquad$são respectivamente:"
   ]
  },
  {
   "cell_type": "code",
   "execution_count": 11,
   "metadata": {},
   "outputs": [
    {
     "data": {
      "text/html": [
       "<table>\n",
       "<thead><tr><th scope=col>x</th><th scope=col>peso</th><th scope=col>peso_est</th></tr></thead>\n",
       "<tbody>\n",
       "\t<tr><td>-4.24   </td><td> 5.7925 </td><td>5.641069</td></tr>\n",
       "\t<tr><td>-5.24   </td><td> 5.5675 </td><td>6.370472</td></tr>\n",
       "\t<tr><td>-6.24   </td><td> 5.6800 </td><td>7.194189</td></tr>\n",
       "\t<tr><td>-7.24   </td><td> 4.8925 </td><td>8.124414</td></tr>\n",
       "\t<tr><td>-8.24   </td><td> 5.6725 </td><td>9.174919</td></tr>\n",
       "\t<tr><td>-4.24   </td><td> 7.7775 </td><td>5.641069</td></tr>\n",
       "\t<tr><td>-5.24   </td><td> 6.8800 </td><td>6.370472</td></tr>\n",
       "\t<tr><td>-6.24   </td><td> 5.5975 </td><td>7.194189</td></tr>\n",
       "\t<tr><td>-7.24   </td><td> 7.1500 </td><td>8.124414</td></tr>\n",
       "\t<tr><td>-8.24   </td><td> 7.5850 </td><td>9.174919</td></tr>\n",
       "\t<tr><td>-4.24   </td><td> 6.9167 </td><td>5.641069</td></tr>\n",
       "\t<tr><td>-5.24   </td><td> 6.3975 </td><td>6.370472</td></tr>\n",
       "\t<tr><td>-6.24   </td><td> 8.0350 </td><td>7.194189</td></tr>\n",
       "\t<tr><td>-7.24   </td><td> 8.4875 </td><td>8.124414</td></tr>\n",
       "\t<tr><td>-8.24   </td><td> 6.2825 </td><td>9.174919</td></tr>\n",
       "\t<tr><td>-4.24   </td><td>11.1825 </td><td>5.641069</td></tr>\n",
       "\t<tr><td>-5.24   </td><td>11.2000 </td><td>6.370472</td></tr>\n",
       "\t<tr><td>-6.24   </td><td> 6.3750 </td><td>7.194189</td></tr>\n",
       "\t<tr><td>-7.24   </td><td> 9.9900 </td><td>8.124414</td></tr>\n",
       "\t<tr><td>-8.24   </td><td> 8.5150 </td><td>9.174919</td></tr>\n",
       "</tbody>\n",
       "</table>\n"
      ],
      "text/latex": [
       "\\begin{tabular}{r|lll}\n",
       " x & peso & peso\\_est\\\\\n",
       "\\hline\n",
       "\t -4.24    &  5.7925  & 5.641069\\\\\n",
       "\t -5.24    &  5.5675  & 6.370472\\\\\n",
       "\t -6.24    &  5.6800  & 7.194189\\\\\n",
       "\t -7.24    &  4.8925  & 8.124414\\\\\n",
       "\t -8.24    &  5.6725  & 9.174919\\\\\n",
       "\t -4.24    &  7.7775  & 5.641069\\\\\n",
       "\t -5.24    &  6.8800  & 6.370472\\\\\n",
       "\t -6.24    &  5.5975  & 7.194189\\\\\n",
       "\t -7.24    &  7.1500  & 8.124414\\\\\n",
       "\t -8.24    &  7.5850  & 9.174919\\\\\n",
       "\t -4.24    &  6.9167  & 5.641069\\\\\n",
       "\t -5.24    &  6.3975  & 6.370472\\\\\n",
       "\t -6.24    &  8.0350  & 7.194189\\\\\n",
       "\t -7.24    &  8.4875  & 8.124414\\\\\n",
       "\t -8.24    &  6.2825  & 9.174919\\\\\n",
       "\t -4.24    & 11.1825  & 5.641069\\\\\n",
       "\t -5.24    & 11.2000  & 6.370472\\\\\n",
       "\t -6.24    &  6.3750  & 7.194189\\\\\n",
       "\t -7.24    &  9.9900  & 8.124414\\\\\n",
       "\t -8.24    &  8.5150  & 9.174919\\\\\n",
       "\\end{tabular}\n"
      ],
      "text/markdown": [
       "\n",
       "| x | peso | peso_est |\n",
       "|---|---|---|\n",
       "| -4.24    |  5.7925  | 5.641069 |\n",
       "| -5.24    |  5.5675  | 6.370472 |\n",
       "| -6.24    |  5.6800  | 7.194189 |\n",
       "| -7.24    |  4.8925  | 8.124414 |\n",
       "| -8.24    |  5.6725  | 9.174919 |\n",
       "| -4.24    |  7.7775  | 5.641069 |\n",
       "| -5.24    |  6.8800  | 6.370472 |\n",
       "| -6.24    |  5.5975  | 7.194189 |\n",
       "| -7.24    |  7.1500  | 8.124414 |\n",
       "| -8.24    |  7.5850  | 9.174919 |\n",
       "| -4.24    |  6.9167  | 5.641069 |\n",
       "| -5.24    |  6.3975  | 6.370472 |\n",
       "| -6.24    |  8.0350  | 7.194189 |\n",
       "| -7.24    |  8.4875  | 8.124414 |\n",
       "| -8.24    |  6.2825  | 9.174919 |\n",
       "| -4.24    | 11.1825  | 5.641069 |\n",
       "| -5.24    | 11.2000  | 6.370472 |\n",
       "| -6.24    |  6.3750  | 7.194189 |\n",
       "| -7.24    |  9.9900  | 8.124414 |\n",
       "| -8.24    |  8.5150  | 9.174919 |\n",
       "\n"
      ],
      "text/plain": [
       "   x     peso    peso_est\n",
       "1  -4.24  5.7925 5.641069\n",
       "2  -5.24  5.5675 6.370472\n",
       "3  -6.24  5.6800 7.194189\n",
       "4  -7.24  4.8925 8.124414\n",
       "5  -8.24  5.6725 9.174919\n",
       "6  -4.24  7.7775 5.641069\n",
       "7  -5.24  6.8800 6.370472\n",
       "8  -6.24  5.5975 7.194189\n",
       "9  -7.24  7.1500 8.124414\n",
       "10 -8.24  7.5850 9.174919\n",
       "11 -4.24  6.9167 5.641069\n",
       "12 -5.24  6.3975 6.370472\n",
       "13 -6.24  8.0350 7.194189\n",
       "14 -7.24  8.4875 8.124414\n",
       "15 -8.24  6.2825 9.174919\n",
       "16 -4.24 11.1825 5.641069\n",
       "17 -5.24 11.2000 6.370472\n",
       "18 -6.24  6.3750 7.194189\n",
       "19 -7.24  9.9900 8.124414\n",
       "20 -8.24  8.5150 9.174919"
      ]
     },
     "metadata": {},
     "output_type": "display_data"
    }
   ],
   "source": [
    "#Transformação de Miller\n",
    "# exp(beta0+beta1*x)*exp(sigma2/2)\n",
    "\n",
    "beta0=1.20151 \n",
    "beta1=-0.12160 \n",
    "sigma2=0.02595915 \n",
    "\n",
    "#Valores de x\n",
    "x=c(-4.24, -5.24, -6.24, -7.24, -8.24)\n",
    "\n",
    "#Estimativas\n",
    "peso_est=exp(beta0+beta1*x)*exp(sigma2/2)\n",
    "\n",
    "#Estimativas de Miller para peso na escala original\n",
    "resul=data.frame(x,peso,peso_est); resul\n",
    "\n"
   ]
  },
  {
   "cell_type": "markdown",
   "metadata": {},
   "source": [
    "$\\color{red}{\\text{Exercício 3}}$ - **Retirado do livro: Análise de Modelos de Regressão Linear com Aplicações, de Charnet, Freire, Charnet e Bonvino** A faculdade de economia que fez o levantamento dos salários dos seus formandos resolveu refazer a pesquisa, só que desta vez selecionnando apenas 5 formandos de cada um dos anos considerados. Faça a análise completa dos resíduos, tentando identificar possíveis violações das suposições do modelo. Caso seja identificado alguma violação, proponha a solução. Os dados registrados foram os seguintes:\n",
    "\n",
    "| Anos | Salarios | Salarios | Salarios | Salarios | Salarios |\n",
    "|:----:|:--------:|:--------:|:--------:|:--------:|:--------:|\n",
    "|  87  |  1056,42 |  1131,62 |  1063,25 |  1082,89 |  1047,18 |\n",
    "|  88  |  1202,32 |  1160,46 |  1336,04 |  1090,78 |  1118,94 |\n",
    "|  89  |  1232,46 |  1346,49 |  1141,38 |  1266,01 |  1334,23 |\n",
    "|  90  |  1302,18 |  1432,95 |  1395,09 |  1350,77 |  1332,83 |\n",
    "|  91  |  1455,37 |  1492,35 |  1529,65 |  1397,54 |  1235,04 |\n",
    "|  92  |  1530,37 |  1670,41 |  1685,58 |  1605,43 |  1641,18 |\n",
    "|  93  |  1638,24 |  1483,88 |  1653,36 |  1803,77 |  1628,48 |"
   ]
  },
  {
   "cell_type": "code",
   "execution_count": 12,
   "metadata": {},
   "outputs": [
    {
     "data": {
      "text/plain": [
       "\n",
       "Call:\n",
       "lm(formula = salarios ~ anos, data = dados3)\n",
       "\n",
       "Residuals:\n",
       "    Min      1Q  Median      3Q     Max \n",
       "-230.80  -34.24  -10.47   60.76  164.15 \n",
       "\n",
       "Coefficients:\n",
       "             Estimate Std. Error t value Pr(>|t|)    \n",
       "(Intercept) -7450.441    638.017  -11.68 2.91e-13 ***\n",
       "anos           97.981      7.087   13.82 2.78e-15 ***\n",
       "---\n",
       "Signif. codes:  0 '***' 0.001 '**' 0.01 '*' 0.05 '.' 0.1 ' ' 1\n",
       "\n",
       "Residual standard error: 83.86 on 33 degrees of freedom\n",
       "Multiple R-squared:  0.8528,\tAdjusted R-squared:  0.8483 \n",
       "F-statistic: 191.1 on 1 and 33 DF,  p-value: 2.781e-15\n"
      ]
     },
     "metadata": {},
     "output_type": "display_data"
    }
   ],
   "source": [
    "#Entrando com os dados\n",
    "anos=rep(seq(87,93,by=1),each=5)\n",
    "salarios=c(1056.42,   1131.62,   1063.25,   1082.89,   1047.18, \n",
    "           1202.32,   1160.46,   1336.04,   1090.78,   1118.94, \n",
    "           1232.46,   1346.49,   1141.38,   1266.01,   1334.23, \n",
    "           1302.18,   1432.95,   1395.09,   1350.77,   1332.83, \n",
    "           1455.37,   1492.35,   1529.65,   1397.54,   1235.04, \n",
    "           1530.37,   1670.41,   1685.58,   1605.43,   1641.18, \n",
    "           1638.24,   1483.88,   1653.36,   1803.77,   1628.48)\n",
    "dados3=data.frame(anos,salarios)\n",
    "\n",
    "#Ajustando o modelo\n",
    "ajuste3=lm(salarios~anos,data=dados3)\n",
    "summary(ajuste3)"
   ]
  },
  {
   "cell_type": "markdown",
   "metadata": {},
   "source": [
    "O modelo estimado é dado por $\\hat{y}=-7450,44+97,98X$, sendo considerado significativo para fins de inferência. Dizemos que o número de anos explica em 85,28% do valor do número de salários, sendo considerado um bom modelo. A análise dos resíduos é apresentado a seguir:"
   ]
  },
  {
   "cell_type": "code",
   "execution_count": 13,
   "metadata": {},
   "outputs": [
    {
     "data": {
      "image/png": "[encoded data removed]",
      "text/plain": [
       "Plot with title \"\""
      ]
     },
     "metadata": {},
     "output_type": "display_data"
    }
   ],
   "source": [
    "par(mfrow=c(2,3))\n",
    "plot(ajuste3)"
   ]
  },
  {
   "cell_type": "markdown",
   "metadata": {},
   "source": [
    "Os gráficos acima não apresentam quebra dos pressupostos dos resíduos. É interessante apresentar os resultados em termos de testes estatísticos, o que será apresentado abaixo:"
   ]
  },
  {
   "cell_type": "code",
   "execution_count": 14,
   "metadata": {},
   "outputs": [
    {
     "data": {
      "text/plain": [
       "\n",
       "\tstudentized Breusch-Pagan test\n",
       "\n",
       "data:  ajuste3\n",
       "BP = 1.8287, df = 1, p-value = 0.1763\n"
      ]
     },
     "metadata": {},
     "output_type": "display_data"
    }
   ],
   "source": [
    "require(lmtest)\n",
    "require(zoo)\n",
    "bptest(ajuste3)"
   ]
  },
  {
   "cell_type": "markdown",
   "metadata": {},
   "source": [
    "Tem termos práticos estamos testando a presença de variância constante nos resíduos através do teste de Breusch-Pagan, onde a hipótese é definida da seguinte forma:\n",
    "\n",
    "$$H_0: Homocedastico$$\n",
    "$$H_1: Heterocedastico$$\n",
    "\n",
    "Portanto, visto que o p-valor associado ao teste é de 0,1763, não possuímos evidências amostrais suficiente para rejeitarmos a hipótese nula, ou seja, os resíduos podem ser considerados constantes, caracterizando a presença da homocedasticidade nos resíduos (variância dos resíduos constantes). O teste de normalidade é apresentado a seguir:"
   ]
  },
  {
   "cell_type": "code",
   "execution_count": 15,
   "metadata": {},
   "outputs": [
    {
     "data": {
      "text/plain": [
       "\n",
       "\tShapiro-Wilk normality test\n",
       "\n",
       "data:  residuals(ajuste3)\n",
       "W = 0.96407, p-value = 0.3017\n"
      ]
     },
     "metadata": {},
     "output_type": "display_data"
    }
   ],
   "source": [
    "#Teste de normalidade\n",
    "shapiro.test(residuals(ajuste3))"
   ]
  },
  {
   "cell_type": "markdown",
   "metadata": {},
   "source": [
    "O teste de normalidade dos resíduos foi apresentado pelo teste Shapiro-Wilk. A formulação da hipótese de teste é dada por:\n",
    "\n",
    "$$H_0: \\text{Distribuição Normal}$$\n",
    "$$H_1: \\text{Outra distribuição}$$"
   ]
  },
  {
   "cell_type": "markdown",
   "metadata": {},
   "source": [
    "Portanto, o p-valor associado ao teste é de 0,3017 caracterizando a não rejeição da hipótese nula, ou seja os resíduos apresentam-se normalmente distribuidos, logo o modelo apresentado não mostrou quebra das suposições nos resíduos através da análise gráfica e dos testes estatísticos associados. "
   ]
  },
  {
   "cell_type": "markdown",
   "metadata": {},
   "source": [
    "$\\color{red}{\\text{Exercício 4}}$ - **Retirado do livro: Análise de Modelos de Regressão Linear com Aplicações, de Charnet, Freire, Charnet e Bonvino** Uma agência de empregos faz anúncios uma vez por semana na seção de classificados de um determinado jornal. Desconfia-se que o número de respostas aos anúncios está relacionado com o número de linhas utilizadas no anúncio. Foram selecionados 14 anúncios e o número de respostas a cada um deles foi observado. Os dados foram os seguintes:\n",
    "\n",
    "| Número de Linhas | Respostas | Respostas |\n",
    "|:----------------:|:---------:|:---------:|\n",
    "|         3        |     3     |     7     |\n",
    "|         4        |     3     |           |\n",
    "|         5        |     5     |           |\n",
    "|         6        |     7     |           |\n",
    "|         8        |     7     |     16    |\n",
    "|        10        |     10    |     12    |\n",
    "|        12        |     10    |     8     |\n",
    "|        14        |     14    |     16    |\n",
    "|        16        |     14    |           |\n",
    "\n",
    "Faça a análise de resíduos para estes dados. Comente."
   ]
  },
  {
   "cell_type": "code",
   "execution_count": 16,
   "metadata": {},
   "outputs": [
    {
     "data": {
      "text/plain": [
       "\n",
       "Call:\n",
       "lm(formula = resp ~ linhas, data = dados4)\n",
       "\n",
       "Residuals:\n",
       "     Min       1Q   Median       3Q      Max \n",
       "-12.2725  -1.4814   0.2789   2.7480   9.1157 \n",
       "\n",
       "Coefficients:\n",
       "            Estimate Std. Error t value Pr(>|t|)  \n",
       "(Intercept)   1.4961     2.5617   0.584   0.5673  \n",
       "linhas        0.6735     0.2642   2.549   0.0214 *\n",
       "---\n",
       "Signif. codes:  0 '***' 0.001 '**' 0.01 '*' 0.05 '.' 0.1 ' ' 1\n",
       "\n",
       "Residual standard error: 4.872 on 16 degrees of freedom\n",
       "Multiple R-squared:  0.2888,\tAdjusted R-squared:  0.2444 \n",
       "F-statistic: 6.498 on 1 and 16 DF,  p-value: 0.02144\n"
      ]
     },
     "metadata": {},
     "output_type": "display_data"
    },
    {
     "data": {
      "image/png": "[encoded data removed]",
      "text/plain": [
       "Plot with title \"\""
      ]
     },
     "metadata": {},
     "output_type": "display_data"
    }
   ],
   "source": [
    "#Entrando com os dados\n",
    "x1=seq(3,6,by=1)\n",
    "x2=seq(8,16,by=2)\n",
    "linhas=rep(c(x1,x2),each=2)\n",
    "resp=c(3,7,3,0,5,0,7,0,7,16,10,12,10,8,14,16,14,0)\n",
    "\n",
    "dados4=data.frame(linhas,resp)\n",
    "ajuste4=lm(resp~linhas,data=dados4)\n",
    "\n",
    "#Análise do modelo\n",
    "summary(ajuste4)\n",
    "\n",
    "\n",
    "\n",
    "#Gráfico dos resíduos\n",
    "par(mfrow=c(2,3))\n",
    "plot(ajuste4)\n",
    "\n"
   ]
  },
  {
   "cell_type": "code",
   "execution_count": 17,
   "metadata": {},
   "outputs": [
    {
     "data": {
      "text/plain": [
       "\n",
       "\tstudentized Breusch-Pagan test\n",
       "\n",
       "data:  ajuste4\n",
       "BP = 1.9802, df = 1, p-value = 0.1594\n"
      ]
     },
     "metadata": {},
     "output_type": "display_data"
    }
   ],
   "source": [
    "#Análise dos resíduos\n",
    "bptest(ajuste4)                           #Teste para verificar a homocedasticidade \n"
   ]
  },
  {
   "cell_type": "markdown",
   "metadata": {},
   "source": [
    "O teste acima não detectou a presença de *heterocedasticidade* na variância dos resíduos, sendo considerados homocedásticos pela análise do p-valor."
   ]
  },
  {
   "cell_type": "code",
   "execution_count": 18,
   "metadata": {},
   "outputs": [
    {
     "data": {
      "text/plain": [
       "\n",
       "\tShapiro-Wilk normality test\n",
       "\n",
       "data:  residuals(ajuste4)\n",
       "W = 0.95172, p-value = 0.4527\n"
      ]
     },
     "metadata": {},
     "output_type": "display_data"
    }
   ],
   "source": [
    "shapiro.test(residuals(ajuste4))          #Teste de normalidade nos resíduos"
   ]
  },
  {
   "cell_type": "markdown",
   "metadata": {},
   "source": [
    "Os resíduos não apresentaram quebra da hipótese de normalidade e homocedasticidade, no entanto o coeficiente de determinação é muito baixo. Isso se deve ao fato de haver iterações em X, ou seja, existem repetições de valores de X gerando respostas diferente para a variável dependente (Y). Desta forma, será calculado o coeficiente de determinação *real*, usando a seguinte abordagem:\n",
    "\n",
    "Para determinar o (erro puro) e a (falta de ajuste) dentro da tabela da ANOVA basta declarar a variável preditora como se fosse um ***factor***, como será visto no código abaixo."
   ]
  },
  {
   "cell_type": "code",
   "execution_count": 19,
   "metadata": {},
   "outputs": [
    {
     "data": {
      "text/html": [
       "<table>\n",
       "<thead><tr><th scope=col>Res.Df</th><th scope=col>RSS</th><th scope=col>Df</th><th scope=col>Sum of Sq</th><th scope=col>F</th><th scope=col>Pr(&gt;F)</th></tr></thead>\n",
       "<tbody>\n",
       "\t<tr><td>16       </td><td>379.7618 </td><td>NA       </td><td>      NA </td><td>      NA </td><td>       NA</td></tr>\n",
       "\t<tr><td> 9       </td><td>194.0000 </td><td> 7       </td><td>185.7618 </td><td>1.231116 </td><td>0.3768143</td></tr>\n",
       "</tbody>\n",
       "</table>\n"
      ],
      "text/latex": [
       "\\begin{tabular}{r|llllll}\n",
       " Res.Df & RSS & Df & Sum of Sq & F & Pr(>F)\\\\\n",
       "\\hline\n",
       "\t 16        & 379.7618  & NA        &       NA  &       NA  &        NA\\\\\n",
       "\t  9        & 194.0000  &  7        & 185.7618  & 1.231116  & 0.3768143\\\\\n",
       "\\end{tabular}\n"
      ],
      "text/markdown": [
       "\n",
       "| Res.Df | RSS | Df | Sum of Sq | F | Pr(>F) |\n",
       "|---|---|---|---|---|---|\n",
       "| 16        | 379.7618  | NA        |       NA  |       NA  |        NA |\n",
       "|  9        | 194.0000  |  7        | 185.7618  | 1.231116  | 0.3768143 |\n",
       "\n"
      ],
      "text/plain": [
       "  Res.Df RSS      Df Sum of Sq F        Pr(>F)   \n",
       "1 16     379.7618 NA       NA        NA        NA\n",
       "2  9     194.0000  7 185.7618  1.231116 0.3768143"
      ]
     },
     "metadata": {},
     "output_type": "display_data"
    }
   ],
   "source": [
    "erro_puro <- lm(resp~factor(linhas))\n",
    "anova(ajuste4,erro_puro)"
   ]
  },
  {
   "cell_type": "markdown",
   "metadata": {},
   "source": [
    "Dos resultados encontrados na tabela acima temos: Soma dos quadrados dos resíduos = 379,76, Soma dos Quadrados do Erro Puro = 194 e a Soma de Quadrados da Falta de Ajuste = 185,76, com 16, 9 e 7 graus de liberdade respectivamente. \n",
    "\n",
    "Portanto o coeficiente de determinação Real será a razão entre o coeficiente de determinação encontrado no primeiro modelo (R^2 =  0.2888) e o coeficiente de determinação máximo, que será obtido no ajuste da categorização da variável idade, para isso temos: "
   ]
  },
  {
   "cell_type": "code",
   "execution_count": 20,
   "metadata": {},
   "outputs": [
    {
     "name": "stdout",
     "output_type": "stream",
     "text": [
      "O coeficiente de determinação máximo é dado por 0.6367041 \n"
     ]
    }
   ],
   "source": [
    "#determinação do coeficiente de determinação máximo para a categorização da variável resposta\n",
    "\n",
    "erro_puro_s=summary(erro_puro)\n",
    "cat(\"O coeficiente de determinação máximo é dado por\",erro_puro_s$r.squared,\"\\n\")"
   ]
  },
  {
   "cell_type": "markdown",
   "metadata": {},
   "source": [
    "Portanto o coeficiente de determinação real é dado por: $R^2_{real}=R^2/R^2_{max}=\\frac{0,2888}{0,6367041}=0,4535859$. Portanto 45,35% da variabilidade total dos dados podem ser explicado pelo modelo de regressão, esse valor da uma ideia melhor do que foi alcançado pelo modelo dentro do que era possível. O mesmo procedimento é apresentado abaixo feito no R:"
   ]
  },
  {
   "cell_type": "code",
   "execution_count": 21,
   "metadata": {},
   "outputs": [
    {
     "name": "stdout",
     "output_type": "stream",
     "text": [
      "O Coeficiente de determinação real é dado por 0.4536419 \n",
      "\n"
     ]
    }
   ],
   "source": [
    "#Cálculo do R2 real\n",
    "erro_1=summary(ajuste4)\n",
    "erro_1_cal=erro_1$r.squared\n",
    "\n",
    "#Calculo do R2 máximo\n",
    "erro_2 <- lm(resp~factor(linhas))\n",
    "erro_maximo=summary(erro_2)\n",
    "erro_maximo_cal=erro_maximo$r.squared\n",
    "\n",
    "\n",
    "#Erro Real\n",
    "cat(\"O Coeficiente de determinação real é dado por\",erro_1_cal/erro_maximo_cal,\"\\n\\n\")"
   ]
  },
  {
   "cell_type": "markdown",
   "metadata": {},
   "source": [
    "$\\color{red}{\\text{Exercício 5}}$ - **Retirado do livro: Análise de Modelos de Regressão Linear com Aplicações, de Charnet, Freire, Charnet e Bonvino** Os dados abaixo são referentes ao lucro e ao gasto com publicidade de uma loja de eletônicos, em milhares de reais, para um período de 19 meses.\n",
    "\n",
    "| Lucros | Gastos | Lucros | Gastos |\n",
    "|:------:|:------:|:------:|:------:|\n",
    "|   260  |   12   |   436  |   46   |\n",
    "|   328  |   25   |   439  |   47   |\n",
    "|   376  |   30   |   452  |   47   |\n",
    "|   356  |   35   |   465  |   55   |\n",
    "|   404  |   41   |   461  |   59   |\n",
    "|   399  |   41   |   475  |   64   |\n",
    "|   404  |   41   |   462  |   66   |\n",
    "|   414  |   44   |   472  |   73   |\n",
    "|   428  |   45   |   456  |   74   |\n",
    "|   496  |   87   |        |        |\n",
    "\n",
    "Verifique se as suposições do MRLS estão sendo satisfeitas."
   ]
  },
  {
   "cell_type": "code",
   "execution_count": 22,
   "metadata": {},
   "outputs": [
    {
     "data": {
      "image/png": "[encoded data removed]",
      "text/plain": [
       "Plot with title \"Lucros vs Gastos\""
      ]
     },
     "metadata": {},
     "output_type": "display_data"
    }
   ],
   "source": [
    "#Entrando com os dados\n",
    "lucros=c(260,328,376,356,404,399,404,414,428,496,436,439,452,465,461,475,462,472,456)\n",
    "gastos=c(12,25,30,35,41,41,41,44,45,87,46,47,47,55,59,64,66,73,74)\n",
    "dados5=data.frame(lucros,gastos)\n",
    "\n",
    "#Gráfico da relação entre X e Y\n",
    "plot(lucros,gastos,main=\"Lucros vs Gastos\")"
   ]
  },
  {
   "cell_type": "code",
   "execution_count": 23,
   "metadata": {},
   "outputs": [
    {
     "data": {
      "text/plain": [
       "\n",
       "Call:\n",
       "lm(formula = gastos ~ lucros, data = dados5)\n",
       "\n",
       "Residuals:\n",
       "    Min      1Q  Median      3Q     Max \n",
       "-11.120  -6.382  -2.028   4.625  16.352 \n",
       "\n",
       "Coefficients:\n",
       "            Estimate Std. Error t value Pr(>|t|)    \n",
       "(Intercept) -70.5863    13.7768  -5.124 8.47e-05 ***\n",
       "lucros        0.2848     0.0325   8.763 1.03e-07 ***\n",
       "---\n",
       "Signif. codes:  0 '***' 0.001 '**' 0.01 '*' 0.05 '.' 0.1 ' ' 1\n",
       "\n",
       "Residual standard error: 8.03 on 17 degrees of freedom\n",
       "Multiple R-squared:  0.8187,\tAdjusted R-squared:  0.8081 \n",
       "F-statistic: 76.79 on 1 and 17 DF,  p-value: 1.034e-07\n"
      ]
     },
     "metadata": {},
     "output_type": "display_data"
    }
   ],
   "source": [
    "#Ajuste do modelo de regressão aos dados\n",
    "ajuste5=lm(gastos~lucros,data=dados5)\n",
    "summary(ajuste5)"
   ]
  },
  {
   "cell_type": "markdown",
   "metadata": {},
   "source": [
    "O modelo estimado para o problema apresentado é dado por $\\hat{y}=-70,58+0,2848X$ com um coeficiente de determinação de 81,87%. Uma análise dos resíduos é apresentado a seguir."
   ]
  },
  {
   "cell_type": "code",
   "execution_count": 24,
   "metadata": {},
   "outputs": [
    {
     "data": {
      "image/png": "[encoded data removed]",
      "text/plain": [
       "plot without title"
      ]
     },
     "metadata": {},
     "output_type": "display_data"
    }
   ],
   "source": [
    "#Plotando o modelo estimado aos dados\n",
    "plot(gastos~lucros,pch=16,data=dados5)\n",
    "abline(ajuste5,col=\"red\")"
   ]
  },
  {
   "cell_type": "code",
   "execution_count": 25,
   "metadata": {},
   "outputs": [
    {
     "data": {
      "image/png": "[encoded data removed]",
      "text/plain": [
       "Plot with title \"\""
      ]
     },
     "metadata": {},
     "output_type": "display_data"
    }
   ],
   "source": [
    "#Analise dos resíduos do modelo estimado\n",
    "par(mfrow=c(2,3))\n",
    "plot(ajuste5)"
   ]
  },
  {
   "cell_type": "markdown",
   "metadata": {},
   "source": [
    "O gráficos dos resíduos são apresentados acima. O teste de **Breusch-Pagan** irá vericar o comportamento  da variância dos resíduos do modelo estimado."
   ]
  },
  {
   "cell_type": "code",
   "execution_count": 26,
   "metadata": {},
   "outputs": [
    {
     "data": {
      "text/plain": [
       "\n",
       "\tstudentized Breusch-Pagan test\n",
       "\n",
       "data:  ajuste5\n",
       "BP = 2.22, df = 1, p-value = 0.1362\n"
      ]
     },
     "metadata": {},
     "output_type": "display_data"
    }
   ],
   "source": [
    "#Teste de Homogeneidade da variância dos residuos\n",
    "bptest(ajuste5)\n"
   ]
  },
  {
   "cell_type": "markdown",
   "metadata": {},
   "source": [
    "Levando-se em consideração a seguinte hipótese:\n",
    "\n",
    "$$H_0: Homocedasticidade$$\n",
    "$$H_1: Heterocedasticidade$$\n",
    "\n",
    "De acordo com o teste de Breusch-Pagan os resíduos apresentam variância constante (homocedasticidade). O teste de normalidade dos resíduos é apresentado abaixo."
   ]
  },
  {
   "cell_type": "code",
   "execution_count": 27,
   "metadata": {},
   "outputs": [
    {
     "data": {
      "text/plain": [
       "\n",
       "\tShapiro-Wilk normality test\n",
       "\n",
       "data:  residuals(ajuste5)\n",
       "W = 0.92277, p-value = 0.1274\n"
      ]
     },
     "metadata": {},
     "output_type": "display_data"
    }
   ],
   "source": [
    "shapiro.test(residuals(ajuste5))"
   ]
  },
  {
   "cell_type": "code",
   "execution_count": 28,
   "metadata": {},
   "outputs": [
    {
     "data": {
      "text/plain": [
       "\n",
       "\tGoldfeld-Quandt test\n",
       "\n",
       "data:  ajuste5\n",
       "GQ = 9.6386, df1 = 8, df2 = 7, p-value = 0.003651\n",
       "alternative hypothesis: variance increases from segment 1 to 2\n"
      ]
     },
     "metadata": {},
     "output_type": "display_data"
    }
   ],
   "source": [
    "gqtest(ajuste5)"
   ]
  },
  {
   "cell_type": "markdown",
   "metadata": {},
   "source": [
    "O teste apresentou homocedasticidade e normalidade nos resíduos. "
   ]
  }
 ],
 "metadata": {
  "kernelspec": {
   "display_name": "R",
   "language": "R",
   "name": "ir"
  },
  "language_info": {
   "codemirror_mode": "r",
   "file_extension": ".r",
   "mimetype": "text/x-r-source",
   "name": "R",
   "pygments_lexer": "r",
   "version": "3.6.1"
  }
 },
 "nbformat": 4,
 "nbformat_minor": 4
}
