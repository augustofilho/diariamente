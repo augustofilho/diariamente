{
 "cells": [
  {
   "cell_type": "markdown",
   "metadata": {},
   "source": [
    "# Day 10:30 daily statistics - Regressão Linear Simples - Parte 2"
   ]
  },
  {
   "cell_type": "markdown",
   "metadata": {},
   "source": [
    "$\\color{red}{\\text{Exercício 11}}$ - **Retirado do livro: Análise de Modelos de Regressão Linear com Aplicações, de Charnet, Freire, Charnet e Bonvino** - Em uma clínica médica foi realizado um experimento para verificar o efeito de uma certa droga no ritmo cardíaco. A um paciente voluntário, foram dadas várias doses diárias da droga, por um perído de 6 dias. Na tabela abaixo estão apresentados o número de comprimidos da droga que o paciente recebeu e o respetivo número de batimentos cardiácos desse paciente, por minuto. Obtenha os coeficientes da reta de regressão pelo método dos quadrados mínimos.\n",
    "\n",
    "| Dia | Dose | N. de Bat./min. |\n",
    "|:---:|:----:|:---------------:|\n",
    "|  1  |   3  |        70       |\n",
    "|  2  |   2  |        60       |\n",
    "|  3  |   1  |        50       |\n",
    "|  4  |   3  |        80       |\n",
    "|  5  |   5  |       100       |\n",
    "|  6  |   4  |        90       |"
   ]
  },
  {
   "cell_type": "code",
   "execution_count": 1,
   "metadata": {},
   "outputs": [
    {
     "data": {
      "text/html": [
       "<dl class=dl-horizontal>\n",
       "\t<dt>(Intercept)</dt>\n",
       "\t\t<dd>36</dd>\n",
       "\t<dt>x</dt>\n",
       "\t\t<dd>13</dd>\n",
       "</dl>\n"
      ],
      "text/latex": [
       "\\begin{description*}\n",
       "\\item[(Intercept)] 36\n",
       "\\item[x] 13\n",
       "\\end{description*}\n"
      ],
      "text/markdown": [
       "(Intercept)\n",
       ":   36x\n",
       ":   13\n",
       "\n"
      ],
      "text/plain": [
       "(Intercept)           x \n",
       "         36          13 "
      ]
     },
     "metadata": {},
     "output_type": "display_data"
    }
   ],
   "source": [
    "                                          #Coeficientes da reta pelo método dos quadrados mínimos\n",
    "x=c(3,2,1,3,5,4)                          #Valores de X\n",
    "y=c(70,60,50,80,100,90)                   #Valores de Y\n",
    "dados=data.frame(x,y)\n",
    "\n",
    "ajuste=lm(y~x,data=dados)                 #Ajuste\n",
    "coef(ajuste)                              #Coeficientes"
   ]
  },
  {
   "cell_type": "markdown",
   "metadata": {},
   "source": [
    "Portanto, os coeficientes encontrados são: $\\hat{y}=36+13\\cdot X$."
   ]
  },
  {
   "cell_type": "markdown",
   "metadata": {},
   "source": [
    "$\\color{red}{\\text{Exercício 12}}$ - **Retirado do livro: Análise de Modelos de Regressão Linear com Aplicações, de Charnet, Freire, Charnet e Bonvino** - Em uma grande cidade o crescimento da taxa de homicídios, CTH, por 100.000 habitantes, nos 7 últimos anos, foi:\n",
    "\n",
    "| Ano (x) | 1 |  2 |  3 |  4 |  5 |  6 |  7 |\n",
    "|:-------:|:-:|:--:|:--:|:--:|:--:|:--:|:--:|\n",
    "| CTH (y) | 8 | 11 | 16 | 19 | 25 | 29 | 32 |\n",
    "\n",
    "+ a) Encontre a reta de regressão de y em x e o valor estimado pra $x=5$;\n",
    "+ b) Faça a transformação $x^*=x-4$. Encontre a reta de y em $x^*$ e o valor estimado para $x^*=1$. Comente os resultados obtidos."
   ]
  },
  {
   "cell_type": "code",
   "execution_count": 2,
   "metadata": {},
   "outputs": [],
   "source": [
    "#Entrando com os dados\n",
    "\n",
    "x=seq(1,7,by=1)\n",
    "y=c(8,11,16,19,25,29,32)\n",
    "\n",
    "dados=data.frame(x,y)"
   ]
  },
  {
   "cell_type": "code",
   "execution_count": 3,
   "metadata": {},
   "outputs": [
    {
     "data": {
      "text/plain": [
       "\n",
       "Call:\n",
       "lm(formula = y ~ x, data = dados)\n",
       "\n",
       "Residuals:\n",
       "      1       2       3       4       5       6       7 \n",
       " 0.5357 -0.6429  0.1786 -1.0000  0.8214  0.6429 -0.5357 \n",
       "\n",
       "Coefficients:\n",
       "            Estimate Std. Error t value Pr(>|t|)    \n",
       "(Intercept)   3.2857     0.6662   4.932  0.00435 ** \n",
       "x             4.1786     0.1490  28.049 1.08e-06 ***\n",
       "---\n",
       "Signif. codes:  0 '***' 0.001 '**' 0.01 '*' 0.05 '.' 0.1 ' ' 1\n",
       "\n",
       "Residual standard error: 0.7883 on 5 degrees of freedom\n",
       "Multiple R-squared:  0.9937,\tAdjusted R-squared:  0.9924 \n",
       "F-statistic: 786.7 on 1 and 5 DF,  p-value: 1.079e-06\n"
      ]
     },
     "metadata": {},
     "output_type": "display_data"
    }
   ],
   "source": [
    "#Reta de regressão\n",
    "\n",
    "ajuste=lm(y~x,data=dados)\n",
    "summary(ajuste)"
   ]
  },
  {
   "cell_type": "markdown",
   "metadata": {},
   "source": [
    "Portanto, o modelo escontrado foi $\\hat{y}=3,2857+4.1786\\cdot X$."
   ]
  },
  {
   "cell_type": "code",
   "execution_count": 4,
   "metadata": {},
   "outputs": [
    {
     "data": {
      "text/html": [
       "<table>\n",
       "<thead><tr><th scope=col>fit</th><th scope=col>lwr</th><th scope=col>upr</th></tr></thead>\n",
       "<tbody>\n",
       "\t<tr><td>24.17857</td><td>21.97866</td><td>26.37848</td></tr>\n",
       "</tbody>\n",
       "</table>\n"
      ],
      "text/latex": [
       "\\begin{tabular}{r|lll}\n",
       " fit & lwr & upr\\\\\n",
       "\\hline\n",
       "\t 24.17857 & 21.97866 & 26.37848\\\\\n",
       "\\end{tabular}\n"
      ],
      "text/markdown": [
       "\n",
       "| fit | lwr | upr |\n",
       "|---|---|---|\n",
       "| 24.17857 | 21.97866 | 26.37848 |\n",
       "\n"
      ],
      "text/plain": [
       "  fit      lwr      upr     \n",
       "1 24.17857 21.97866 26.37848"
      ]
     },
     "metadata": {},
     "output_type": "display_data"
    },
    {
     "data": {
      "text/html": [
       "<strong>1:</strong> 24.1785714285714"
      ],
      "text/latex": [
       "\\textbf{1:} 24.1785714285714"
      ],
      "text/markdown": [
       "**1:** 24.1785714285714"
      ],
      "text/plain": [
       "       1 \n",
       "24.17857 "
      ]
     },
     "metadata": {},
     "output_type": "display_data"
    }
   ],
   "source": [
    "# Abaixo é apresentado duas maneiras de realizar uma previsão de Y dado X\n",
    "x0=data.frame(x=5)                              #Informando o valor de X através de um dataframe\n",
    "predict(ajuste, x0,interval=\"prediction\")       #Primeira previsão de Y dado X=5, com intervalo de confiança\n",
    "\n",
    "predict(ajuste,x0,se.fit=F)                     #Segundo previsão para Y dado X=5\n"
   ]
  },
  {
   "cell_type": "code",
   "execution_count": 5,
   "metadata": {},
   "outputs": [
    {
     "data": {
      "text/plain": [
       "\n",
       "Call:\n",
       "lm(formula = y ~ x_estrela, data = dados2)\n",
       "\n",
       "Residuals:\n",
       "      1       2       3       4       5       6       7 \n",
       " 0.5357 -0.6429  0.1786 -1.0000  0.8214  0.6429 -0.5357 \n",
       "\n",
       "Coefficients:\n",
       "            Estimate Std. Error t value Pr(>|t|)    \n",
       "(Intercept)   20.000      0.298   67.12 1.39e-08 ***\n",
       "x_estrela      4.179      0.149   28.05 1.08e-06 ***\n",
       "---\n",
       "Signif. codes:  0 '***' 0.001 '**' 0.01 '*' 0.05 '.' 0.1 ' ' 1\n",
       "\n",
       "Residual standard error: 0.7883 on 5 degrees of freedom\n",
       "Multiple R-squared:  0.9937,\tAdjusted R-squared:  0.9924 \n",
       "F-statistic: 786.7 on 1 and 5 DF,  p-value: 1.079e-06\n"
      ]
     },
     "metadata": {},
     "output_type": "display_data"
    }
   ],
   "source": [
    "# Fazendo a transformação x*=x-4 e encontrando y=f(x*)\n",
    "\n",
    "x=seq(1,7,by=1)\n",
    "x_estrela=(x-4)\n",
    "y=c(8,11,16,19,25,29,32)\n",
    "\n",
    "dados2=data.frame(x_estrela,y)\n",
    "\n",
    "ajuste2=lm(y~x_estrela,data=dados2)\n",
    "summary(ajuste2)"
   ]
  },
  {
   "cell_type": "markdown",
   "metadata": {},
   "source": [
    "Portanto, o valor estimado para y, dado $x^*=x-4$ é dado por $\\hat{y}=20+4.179\\cdot X$."
   ]
  },
  {
   "cell_type": "code",
   "execution_count": 6,
   "metadata": {},
   "outputs": [
    {
     "data": {
      "text/html": [
       "<table>\n",
       "<thead><tr><th scope=col>fit</th><th scope=col>lwr</th><th scope=col>upr</th></tr></thead>\n",
       "<tbody>\n",
       "\t<tr><td>24.17857</td><td>21.97866</td><td>26.37848</td></tr>\n",
       "</tbody>\n",
       "</table>\n"
      ],
      "text/latex": [
       "\\begin{tabular}{r|lll}\n",
       " fit & lwr & upr\\\\\n",
       "\\hline\n",
       "\t 24.17857 & 21.97866 & 26.37848\\\\\n",
       "\\end{tabular}\n"
      ],
      "text/markdown": [
       "\n",
       "| fit | lwr | upr |\n",
       "|---|---|---|\n",
       "| 24.17857 | 21.97866 | 26.37848 |\n",
       "\n"
      ],
      "text/plain": [
       "  fit      lwr      upr     \n",
       "1 24.17857 21.97866 26.37848"
      ]
     },
     "metadata": {},
     "output_type": "display_data"
    }
   ],
   "source": [
    "# Encontrando o valor de Y dado x*=1\n",
    "\n",
    "x1=data.frame(x_estrela=1)                           #Informando o valor de x*=1 através de um data.frame\n",
    "predict(ajuste2, x1,interval=\"prediction\")           #Realizando a previsão de Y dado x*=1"
   ]
  },
  {
   "cell_type": "markdown",
   "metadata": {},
   "source": [
    "O valor encontrado para $x=5$ em $\\hat{y}=3,2857+4.1786\\cdot X$ é dado por $\\hat{y}=3,2857+4,1786\\cdot 5$ é $\\hat{y}=24,17$. Com o novo modelo utilizado $\\hat{y}=20+4,179 \\cdot$ para $x^*=1$ é dado por $\\hat{y}=24,17857$. O mesmo resultado de estimativa pontual foi obtido com os dois modelos de regressão linear simples."
   ]
  },
  {
   "cell_type": "markdown",
   "metadata": {},
   "source": [
    "$\\color{red}{\\text{Exercício 13}}$ - **Retirado do livro: Análise de Modelos de Regressão Linear com Aplicações, de Charnet, Freire, Charnet e Bonvino** - Os dados abaixo são relativos às alturas de pais e seus respectivos filhos, em centímetros. \n",
    "\n",
    "|  Pai  \t| Filho \t|  Pai  \t| Filho \t|\n",
    "|:-----:\t|:-----:\t|:-----:\t|:-----:\t|\n",
    "|  155  \t|  163  \t|  170  \t|  173  \t|\n",
    "| 157,5 \t| 165,3 \t| 172,5 \t|  175  \t|\n",
    "|  160  \t| 167,5 \t|  175  \t| 173,8 \t|\n",
    "| 162,5 \t| 165,5 \t| 177,5 \t|  177  \t|\n",
    "|  165  \t|  170  \t|  180  \t| 177,5 \t|\n",
    "| 167,5 \t| 170,3 \t| 182,5 \t| 181,3 \t|\n",
    "\n",
    "+ a) Encontre a reta de quadrados mínimos\n",
    "+ b) Verifique se os resultados de 2.4 a 2.8 são satisfeitos. "
   ]
  },
  {
   "cell_type": "code",
   "execution_count": 7,
   "metadata": {},
   "outputs": [
    {
     "data": {
      "text/html": [
       "<table>\n",
       "<thead><tr><th scope=col>pai</th><th scope=col>filho</th></tr></thead>\n",
       "<tbody>\n",
       "\t<tr><td>155.0</td><td>163.0</td></tr>\n",
       "\t<tr><td>157.5</td><td>165.3</td></tr>\n",
       "\t<tr><td>160.0</td><td>167.5</td></tr>\n",
       "\t<tr><td>162.5</td><td>165.5</td></tr>\n",
       "\t<tr><td>165.0</td><td>170.0</td></tr>\n",
       "\t<tr><td>167.5</td><td>170.3</td></tr>\n",
       "\t<tr><td>170.0</td><td>173.0</td></tr>\n",
       "\t<tr><td>172.5</td><td>175.0</td></tr>\n",
       "\t<tr><td>175.0</td><td>173.8</td></tr>\n",
       "\t<tr><td>177.5</td><td>177.0</td></tr>\n",
       "\t<tr><td>180.0</td><td>177.5</td></tr>\n",
       "\t<tr><td>182.5</td><td>181.3</td></tr>\n",
       "</tbody>\n",
       "</table>\n"
      ],
      "text/latex": [
       "\\begin{tabular}{r|ll}\n",
       " pai & filho\\\\\n",
       "\\hline\n",
       "\t 155.0 & 163.0\\\\\n",
       "\t 157.5 & 165.3\\\\\n",
       "\t 160.0 & 167.5\\\\\n",
       "\t 162.5 & 165.5\\\\\n",
       "\t 165.0 & 170.0\\\\\n",
       "\t 167.5 & 170.3\\\\\n",
       "\t 170.0 & 173.0\\\\\n",
       "\t 172.5 & 175.0\\\\\n",
       "\t 175.0 & 173.8\\\\\n",
       "\t 177.5 & 177.0\\\\\n",
       "\t 180.0 & 177.5\\\\\n",
       "\t 182.5 & 181.3\\\\\n",
       "\\end{tabular}\n"
      ],
      "text/markdown": [
       "\n",
       "| pai | filho |\n",
       "|---|---|\n",
       "| 155.0 | 163.0 |\n",
       "| 157.5 | 165.3 |\n",
       "| 160.0 | 167.5 |\n",
       "| 162.5 | 165.5 |\n",
       "| 165.0 | 170.0 |\n",
       "| 167.5 | 170.3 |\n",
       "| 170.0 | 173.0 |\n",
       "| 172.5 | 175.0 |\n",
       "| 175.0 | 173.8 |\n",
       "| 177.5 | 177.0 |\n",
       "| 180.0 | 177.5 |\n",
       "| 182.5 | 181.3 |\n",
       "\n"
      ],
      "text/plain": [
       "   pai   filho\n",
       "1  155.0 163.0\n",
       "2  157.5 165.3\n",
       "3  160.0 167.5\n",
       "4  162.5 165.5\n",
       "5  165.0 170.0\n",
       "6  167.5 170.3\n",
       "7  170.0 173.0\n",
       "8  172.5 175.0\n",
       "9  175.0 173.8\n",
       "10 177.5 177.0\n",
       "11 180.0 177.5\n",
       "12 182.5 181.3"
      ]
     },
     "metadata": {},
     "output_type": "display_data"
    }
   ],
   "source": [
    "#Entrando com os dados\n",
    "pai=c(155,157.5,160,162.5,165,167.5,170,172.5,175,177.5,180,182.5)\n",
    "filho=c(163,165.3,167.5,165.5,170,170.3,173,175,173.8,177,177.5,181.3)\n",
    "\n",
    "base=data.frame(pai,filho)\n",
    "base"
   ]
  },
  {
   "cell_type": "code",
   "execution_count": 8,
   "metadata": {},
   "outputs": [
    {
     "data": {
      "text/plain": [
       "\n",
       "Call:\n",
       "lm(formula = filho ~ pai, data = base)\n",
       "\n",
       "Residuals:\n",
       "    Min      1Q  Median      3Q     Max \n",
       "-2.2818 -0.6454  0.3136  0.7954  1.3000 \n",
       "\n",
       "Coefficients:\n",
       "            Estimate Std. Error t value Pr(>|t|)    \n",
       "(Intercept) 68.50909    6.87217   9.969 1.64e-06 ***\n",
       "pai          0.61091    0.04067  15.021 3.45e-08 ***\n",
       "---\n",
       "Signif. codes:  0 '***' 0.001 '**' 0.01 '*' 0.05 '.' 0.1 ' ' 1\n",
       "\n",
       "Residual standard error: 1.216 on 10 degrees of freedom\n",
       "Multiple R-squared:  0.9576,\tAdjusted R-squared:  0.9533 \n",
       "F-statistic: 225.6 on 1 and 10 DF,  p-value: 3.45e-08\n"
      ]
     },
     "metadata": {},
     "output_type": "display_data"
    }
   ],
   "source": [
    "# A reta de quadrados mínimos é apresentado abaixo\n",
    "ajuste=lm(filho~pai,data=base)\n",
    "summary(ajuste)"
   ]
  },
  {
   "cell_type": "markdown",
   "metadata": {},
   "source": [
    "Portanto a equação encontrada para as altura dos filhos em relação a altura de seus pais é dado por $\\hat{y}=68.50+0,61091X$."
   ]
  },
  {
   "cell_type": "markdown",
   "metadata": {},
   "source": [
    "b) Verifique as seguintes sentenças:\n",
    "\n",
    "+ $\\sum_{i=1}^ny_i=\\sum_{i=1}^n\\hat{y}_i$;\n",
    "\n",
    "+ $\\sum_{i=1}^n e_i=0$;\n",
    "\n",
    "+ $\\sum_{i=1}^n x_i e_i=0$;\n",
    "\n",
    "+ $\\sum_{i=1}^n \\hat{y}_i e_i=0$;\n",
    "\n",
    "+ A reta de quadrados mínimos passa pelo pontos $(\\overline{x},\\overline{y})$."
   ]
  },
  {
   "cell_type": "code",
   "execution_count": 9,
   "metadata": {},
   "outputs": [
    {
     "name": "stdout",
     "output_type": "stream",
     "text": [
      "O valor da soma de Y é 2059.2\n",
      "O valor da soma de Y chapeu é 2059.2\n",
      "Portanto a soma de Y é igual a soma de Y estimado."
     ]
    }
   ],
   "source": [
    "somay=sum(filho)                          #Somando os valores de Y (filhos)\n",
    "somaychapeu=sum(predict(ajuste))          #Somando os valores previstos de Y.\n",
    "\n",
    "cat(\"O valor da soma de Y é\",somay)\n",
    "cat(\"\\nO valor da soma de Y chapeu é\",somaychapeu)\n",
    "cat(\"\\nPortanto a soma de Y é igual a soma de Y estimado.\")"
   ]
  },
  {
   "cell_type": "markdown",
   "metadata": {},
   "source": []
  },
  {
   "cell_type": "code",
   "execution_count": 10,
   "metadata": {},
   "outputs": [
    {
     "data": {
      "text/html": [
       "2.84494650060196e-16"
      ],
      "text/latex": [
       "2.84494650060196e-16"
      ],
      "text/markdown": [
       "2.84494650060196e-16"
      ],
      "text/plain": [
       "[1] 2.844947e-16"
      ]
     },
     "metadata": {},
     "output_type": "display_data"
    },
    {
     "data": {
      "text/html": [
       "0"
      ],
      "text/latex": [
       "0"
      ],
      "text/markdown": [
       "0"
      ],
      "text/plain": [
       "[1] 0"
      ]
     },
     "metadata": {},
     "output_type": "display_data"
    }
   ],
   "source": [
    "#Provar que a soma dos resíduos é igual a zero\n",
    "sum(residuals(ajuste))                         #Neste caso, temos 15 números zeros antes de chegar no número 2 \n",
    "round(sum(residuals(ajuste)),15)               #A mesma forma de apresentar o resultado"
   ]
  },
  {
   "cell_type": "code",
   "execution_count": 11,
   "metadata": {},
   "outputs": [
    {
     "data": {
      "text/html": [
       "0"
      ],
      "text/latex": [
       "0"
      ],
      "text/markdown": [
       "0"
      ],
      "text/plain": [
       "[1] 0"
      ]
     },
     "metadata": {},
     "output_type": "display_data"
    }
   ],
   "source": [
    "#Provar que a soma de x ei = 0\n",
    "round(sum(pai * residuals(ajuste)),4)    #Somando o produto entre (x . ei), isso é igual a 0 "
   ]
  },
  {
   "cell_type": "code",
   "execution_count": 12,
   "metadata": {},
   "outputs": [
    {
     "data": {
      "text/html": [
       "0"
      ],
      "text/latex": [
       "0"
      ],
      "text/markdown": [
       "0"
      ],
      "text/plain": [
       "[1] 0"
      ]
     },
     "metadata": {},
     "output_type": "display_data"
    }
   ],
   "source": [
    "# Soma do produto entre y chapeu vezes residuos, este resultado deve ser igual a zero.\n",
    "round(sum(predict(ajuste)*residuals(ajuste)),4)    #Round esta mostrando o resultado com 4 digitos significativos"
   ]
  },
  {
   "cell_type": "code",
   "execution_count": 13,
   "metadata": {},
   "outputs": [
    {
     "name": "stdout",
     "output_type": "stream",
     "text": [
      "Os valores encontrados para a média de x é 168.75 e para a média de y é 171.6"
     ]
    }
   ],
   "source": [
    "#Para provar que a reta de quadrados mínimos passa por (x barra) e (y barra), temos\n",
    "xbarra=mean(pai)\n",
    "ybarra=mean(filho)\n",
    "\n",
    "#Os valores encontrados foram:\n",
    "cat(\"Os valores encontrados para a média de x é\",xbarra, \"e para a média de y é\",ybarra)"
   ]
  },
  {
   "cell_type": "code",
   "execution_count": 14,
   "metadata": {},
   "outputs": [
    {
     "data": {
      "image/png": "[encoded data removed]",
      "text/plain": [
       "plot without title"
      ]
     },
     "metadata": {},
     "output_type": "display_data"
    }
   ],
   "source": [
    "plot(pai~filho,pch=16,data=base)\n",
    "abline(ajuste,col=\"red\")"
   ]
  },
  {
   "cell_type": "code",
   "execution_count": 15,
   "metadata": {},
   "outputs": [
    {
     "data": {
      "text/html": [
       "<table>\n",
       "<thead><tr><th scope=col>fit</th><th scope=col>lwr</th><th scope=col>upr</th></tr></thead>\n",
       "<tbody>\n",
       "\t<tr><td>171.6   </td><td>168.7802</td><td>174.4198</td></tr>\n",
       "</tbody>\n",
       "</table>\n"
      ],
      "text/latex": [
       "\\begin{tabular}{r|lll}\n",
       " fit & lwr & upr\\\\\n",
       "\\hline\n",
       "\t 171.6    & 168.7802 & 174.4198\\\\\n",
       "\\end{tabular}\n"
      ],
      "text/markdown": [
       "\n",
       "| fit | lwr | upr |\n",
       "|---|---|---|\n",
       "| 171.6    | 168.7802 | 174.4198 |\n",
       "\n"
      ],
      "text/plain": [
       "  fit   lwr      upr     \n",
       "1 171.6 168.7802 174.4198"
      ]
     },
     "metadata": {},
     "output_type": "display_data"
    }
   ],
   "source": [
    "#Portanto, se x=168,75, y será igual a 171,6. A prova disto é apresentado abaixo, através\n",
    "#da fixação de x0=168,75, encontrando para y=171,6.\n",
    "\n",
    "x0=data.frame(pai=168.75)\n",
    "predict(ajuste,x0,interval=\"prediction\")\n",
    "\n"
   ]
  },
  {
   "cell_type": "markdown",
   "metadata": {},
   "source": [
    "$\\color{red}{\\text{Exercício 14}}$ - **Retirado do livro: Análise de Modelos de Regressão Linear com Aplicações, de Charnet, Freire, Charnet e Bonvino** - O produto Interno Bruno (PIB) trimestral do Brasil para os últimos oito anos são apresentados na tabela a seguir:\n",
    "\n",
    "| Trimestre/Ano \t|   PIB  \t| Trimestre/Ano \t|   PIB  \t|\n",
    "|:-------------:\t|:------:\t|:-------------:\t|:------:\t|\n",
    "|   jan-mar/90  \t|  97,49 \t|   jan-mar/94  \t|  98,03 \t|\n",
    "|   abr-jun/90  \t|  96,11 \t|   abr-jun/94  \t| 104,66 \t|\n",
    "|   jul-set/90  \t| 106,17 \t|   jul-set/94  \t| 109,77 \t|\n",
    "|   out-dez/90  \t| 100,23 \t|   out-dez/94  \t| 110,79 \t|\n",
    "|               \t|        \t|               \t|        \t|\n",
    "|   jan-mar/91  \t|  91,64 \t|   jan-mar/95  \t| 101,54 \t|\n",
    "|   abr-jun/91  \t| 103,64 \t|   abr-jun/95  \t| 104,46 \t|\n",
    "|   jul-set/91  \t| 107,57 \t|   jul-set/95  \t| 104,05 \t|\n",
    "|   out-dez/91  \t| 101,76 \t|   out-dez/95  \t| 103,73 \t|\n",
    "|               \t|        \t|               \t|        \t|\n",
    "|   jan-mar/92  \t|  94,42 \t|   jan-mar/96  \t|  96,90 \t|\n",
    "|   abr-jun/92  \t| 100,60 \t|   abr-jun/96  \t| 103,37 \t|\n",
    "|   jul-set/92  \t| 102,57 \t|   jul-set/96  \t| 106,09 \t|\n",
    "|   out-dez/92  \t|  99,91 \t|   out-dez/96  \t| 105,16 \t|\n",
    "|               \t|        \t|               \t|        \t|\n",
    "|   jan-mar/93  \t|  98,55 \t|   jan-mar/97  \t|  97,73 \t|\n",
    "|   abr-jun/93  \t| 106,89 \t|   abr-jun/97  \t| 104,42 \t|\n",
    "|   jul-set/93  \t| 108,97 \t|   jul-set/97  \t| 105,79 \t|\n",
    "|   out-dez/93  \t| 106,58 \t|   out-dez/97  \t| 104,19 \t|\n",
    "\n",
    "+ a) Construa um diagrama de dispersão para estes dados\n",
    "+ b) Encontre a reta de quadrados mínimos e os resíduos"
   ]
  },
  {
   "cell_type": "code",
   "execution_count": 16,
   "metadata": {},
   "outputs": [
    {
     "data": {
      "text/html": [
       "<table>\n",
       "<thead><tr><th scope=col>ano</th><th scope=col>pib</th></tr></thead>\n",
       "<tbody>\n",
       "\t<tr><td>90    </td><td> 97.49</td></tr>\n",
       "\t<tr><td>90    </td><td> 96.11</td></tr>\n",
       "\t<tr><td>90    </td><td>106.17</td></tr>\n",
       "\t<tr><td>90    </td><td>100.23</td></tr>\n",
       "\t<tr><td>91    </td><td> 91.64</td></tr>\n",
       "\t<tr><td>91    </td><td>103.64</td></tr>\n",
       "\t<tr><td>91    </td><td>107.57</td></tr>\n",
       "\t<tr><td>91    </td><td>101.76</td></tr>\n",
       "\t<tr><td>92    </td><td> 94.42</td></tr>\n",
       "\t<tr><td>92    </td><td>100.60</td></tr>\n",
       "\t<tr><td>92    </td><td>102.57</td></tr>\n",
       "\t<tr><td>92    </td><td> 99.91</td></tr>\n",
       "\t<tr><td>93    </td><td> 98.55</td></tr>\n",
       "\t<tr><td>93    </td><td>106.89</td></tr>\n",
       "\t<tr><td>93    </td><td>108.97</td></tr>\n",
       "\t<tr><td>93    </td><td>106.58</td></tr>\n",
       "\t<tr><td>94    </td><td> 98.03</td></tr>\n",
       "\t<tr><td>94    </td><td>104.66</td></tr>\n",
       "\t<tr><td>94    </td><td>109.77</td></tr>\n",
       "\t<tr><td>94    </td><td>110.79</td></tr>\n",
       "\t<tr><td>95    </td><td>101.54</td></tr>\n",
       "\t<tr><td>95    </td><td>104.46</td></tr>\n",
       "\t<tr><td>95    </td><td>104.05</td></tr>\n",
       "\t<tr><td>95    </td><td>103.73</td></tr>\n",
       "\t<tr><td>96    </td><td> 96.90</td></tr>\n",
       "\t<tr><td>96    </td><td>103.37</td></tr>\n",
       "\t<tr><td>96    </td><td>106.09</td></tr>\n",
       "\t<tr><td>96    </td><td>105.16</td></tr>\n",
       "\t<tr><td>97    </td><td> 97.73</td></tr>\n",
       "\t<tr><td>97    </td><td>104.42</td></tr>\n",
       "\t<tr><td>97    </td><td>105.79</td></tr>\n",
       "\t<tr><td>97    </td><td>104.19</td></tr>\n",
       "</tbody>\n",
       "</table>\n"
      ],
      "text/latex": [
       "\\begin{tabular}{r|ll}\n",
       " ano & pib\\\\\n",
       "\\hline\n",
       "\t 90     &  97.49\\\\\n",
       "\t 90     &  96.11\\\\\n",
       "\t 90     & 106.17\\\\\n",
       "\t 90     & 100.23\\\\\n",
       "\t 91     &  91.64\\\\\n",
       "\t 91     & 103.64\\\\\n",
       "\t 91     & 107.57\\\\\n",
       "\t 91     & 101.76\\\\\n",
       "\t 92     &  94.42\\\\\n",
       "\t 92     & 100.60\\\\\n",
       "\t 92     & 102.57\\\\\n",
       "\t 92     &  99.91\\\\\n",
       "\t 93     &  98.55\\\\\n",
       "\t 93     & 106.89\\\\\n",
       "\t 93     & 108.97\\\\\n",
       "\t 93     & 106.58\\\\\n",
       "\t 94     &  98.03\\\\\n",
       "\t 94     & 104.66\\\\\n",
       "\t 94     & 109.77\\\\\n",
       "\t 94     & 110.79\\\\\n",
       "\t 95     & 101.54\\\\\n",
       "\t 95     & 104.46\\\\\n",
       "\t 95     & 104.05\\\\\n",
       "\t 95     & 103.73\\\\\n",
       "\t 96     &  96.90\\\\\n",
       "\t 96     & 103.37\\\\\n",
       "\t 96     & 106.09\\\\\n",
       "\t 96     & 105.16\\\\\n",
       "\t 97     &  97.73\\\\\n",
       "\t 97     & 104.42\\\\\n",
       "\t 97     & 105.79\\\\\n",
       "\t 97     & 104.19\\\\\n",
       "\\end{tabular}\n"
      ],
      "text/markdown": [
       "\n",
       "| ano | pib |\n",
       "|---|---|\n",
       "| 90     |  97.49 |\n",
       "| 90     |  96.11 |\n",
       "| 90     | 106.17 |\n",
       "| 90     | 100.23 |\n",
       "| 91     |  91.64 |\n",
       "| 91     | 103.64 |\n",
       "| 91     | 107.57 |\n",
       "| 91     | 101.76 |\n",
       "| 92     |  94.42 |\n",
       "| 92     | 100.60 |\n",
       "| 92     | 102.57 |\n",
       "| 92     |  99.91 |\n",
       "| 93     |  98.55 |\n",
       "| 93     | 106.89 |\n",
       "| 93     | 108.97 |\n",
       "| 93     | 106.58 |\n",
       "| 94     |  98.03 |\n",
       "| 94     | 104.66 |\n",
       "| 94     | 109.77 |\n",
       "| 94     | 110.79 |\n",
       "| 95     | 101.54 |\n",
       "| 95     | 104.46 |\n",
       "| 95     | 104.05 |\n",
       "| 95     | 103.73 |\n",
       "| 96     |  96.90 |\n",
       "| 96     | 103.37 |\n",
       "| 96     | 106.09 |\n",
       "| 96     | 105.16 |\n",
       "| 97     |  97.73 |\n",
       "| 97     | 104.42 |\n",
       "| 97     | 105.79 |\n",
       "| 97     | 104.19 |\n",
       "\n"
      ],
      "text/plain": [
       "   ano pib   \n",
       "1  90   97.49\n",
       "2  90   96.11\n",
       "3  90  106.17\n",
       "4  90  100.23\n",
       "5  91   91.64\n",
       "6  91  103.64\n",
       "7  91  107.57\n",
       "8  91  101.76\n",
       "9  92   94.42\n",
       "10 92  100.60\n",
       "11 92  102.57\n",
       "12 92   99.91\n",
       "13 93   98.55\n",
       "14 93  106.89\n",
       "15 93  108.97\n",
       "16 93  106.58\n",
       "17 94   98.03\n",
       "18 94  104.66\n",
       "19 94  109.77\n",
       "20 94  110.79\n",
       "21 95  101.54\n",
       "22 95  104.46\n",
       "23 95  104.05\n",
       "24 95  103.73\n",
       "25 96   96.90\n",
       "26 96  103.37\n",
       "27 96  106.09\n",
       "28 96  105.16\n",
       "29 97   97.73\n",
       "30 97  104.42\n",
       "31 97  105.79\n",
       "32 97  104.19"
      ]
     },
     "metadata": {},
     "output_type": "display_data"
    }
   ],
   "source": [
    "ano=rep(90:97, each = 4, times = 1)      #Entrando com os dados de x por uma repetição\n",
    "pib=c(97.49, 96.11,  106.17, 100.23,     #Entrando com os dados de y\n",
    "      91.64, 103.64, 107.57, 101.76, \n",
    "      94.42, 100.60, 102.57, 99.91, \n",
    "      98.55, 106.89, 108.97, 106.58, \n",
    "      98.03, 104.66, 109.77, 110.79, \n",
    "      101.54,104.46, 104.05, 103.73, \n",
    "      96.9, 103.37, 106.09, 105.16, \n",
    "      97.73, 104.42,105.79,104.19)\n",
    "tabela=data.frame(ano,pib)\n",
    "tabela"
   ]
  },
  {
   "cell_type": "code",
   "execution_count": 17,
   "metadata": {},
   "outputs": [
    {
     "data": {
      "image/png": "[encoded data removed]",
      "text/plain": [
       "plot without title"
      ]
     },
     "metadata": {},
     "output_type": "display_data"
    }
   ],
   "source": [
    "#Diagrama de dispersão\n",
    "plot(ano,pib)"
   ]
  },
  {
   "cell_type": "code",
   "execution_count": 18,
   "metadata": {},
   "outputs": [
    {
     "data": {
      "text/plain": [
       "\n",
       "Call:\n",
       "lm(formula = pib ~ ano, data = tabela)\n",
       "\n",
       "Residuals:\n",
       "    Min      1Q  Median      3Q     Max \n",
       "-9.7091 -2.2979  0.3807  2.2249  7.9181 \n",
       "\n",
       "Coefficients:\n",
       "            Estimate Std. Error t value Pr(>|t|)  \n",
       "(Intercept)  55.1557    32.3348   1.706   0.0984 .\n",
       "ano           0.5076     0.3457   1.468   0.1524  \n",
       "---\n",
       "Signif. codes:  0 '***' 0.001 '**' 0.01 '*' 0.05 '.' 0.1 ' ' 1\n",
       "\n",
       "Residual standard error: 4.481 on 30 degrees of freedom\n",
       "Multiple R-squared:  0.06704,\tAdjusted R-squared:  0.03595 \n",
       "F-statistic: 2.156 on 1 and 30 DF,  p-value: 0.1524\n"
      ]
     },
     "metadata": {},
     "output_type": "display_data"
    }
   ],
   "source": [
    "#Reta de quadrados mínimos\n",
    "ajuste14=lm(pib~ano,data=tabela)\n",
    "summary(ajuste14)"
   ]
  },
  {
   "cell_type": "code",
   "execution_count": 19,
   "metadata": {},
   "outputs": [
    {
     "data": {
      "text/html": [
       "<table>\n",
       "<thead><tr><th scope=col>pib</th><th scope=col>previsto</th><th scope=col>residuos</th></tr></thead>\n",
       "<tbody>\n",
       "\t<tr><td> 97.49     </td><td>100.8415   </td><td>-3.35145833</td></tr>\n",
       "\t<tr><td> 96.11     </td><td>100.8415   </td><td>-4.73145833</td></tr>\n",
       "\t<tr><td>106.17     </td><td>100.8415   </td><td> 5.32854167</td></tr>\n",
       "\t<tr><td>100.23     </td><td>100.8415   </td><td>-0.61145833</td></tr>\n",
       "\t<tr><td> 91.64     </td><td>101.3491   </td><td>-9.70907738</td></tr>\n",
       "\t<tr><td>103.64     </td><td>101.3491   </td><td> 2.29092262</td></tr>\n",
       "\t<tr><td>107.57     </td><td>101.3491   </td><td> 6.22092262</td></tr>\n",
       "\t<tr><td>101.76     </td><td>101.3491   </td><td> 0.41092262</td></tr>\n",
       "\t<tr><td> 94.42     </td><td>101.8567   </td><td>-7.43669643</td></tr>\n",
       "\t<tr><td>100.60     </td><td>101.8567   </td><td>-1.25669643</td></tr>\n",
       "\t<tr><td>102.57     </td><td>101.8567   </td><td> 0.71330357</td></tr>\n",
       "\t<tr><td> 99.91     </td><td>101.8567   </td><td>-1.94669643</td></tr>\n",
       "\t<tr><td> 98.55     </td><td>102.3643   </td><td>-3.81431548</td></tr>\n",
       "\t<tr><td>106.89     </td><td>102.3643   </td><td> 4.52568452</td></tr>\n",
       "\t<tr><td>108.97     </td><td>102.3643   </td><td> 6.60568452</td></tr>\n",
       "\t<tr><td>106.58     </td><td>102.3643   </td><td> 4.21568452</td></tr>\n",
       "\t<tr><td> 98.03     </td><td>102.8719   </td><td>-4.84193452</td></tr>\n",
       "\t<tr><td>104.66     </td><td>102.8719   </td><td> 1.78806548</td></tr>\n",
       "\t<tr><td>109.77     </td><td>102.8719   </td><td> 6.89806548</td></tr>\n",
       "\t<tr><td>110.79     </td><td>102.8719   </td><td> 7.91806548</td></tr>\n",
       "\t<tr><td>101.54     </td><td>103.3796   </td><td>-1.83955357</td></tr>\n",
       "\t<tr><td>104.46     </td><td>103.3796   </td><td> 1.08044643</td></tr>\n",
       "\t<tr><td>104.05     </td><td>103.3796   </td><td> 0.67044643</td></tr>\n",
       "\t<tr><td>103.73     </td><td>103.3796   </td><td> 0.35044643</td></tr>\n",
       "\t<tr><td> 96.90     </td><td>103.8872   </td><td>-6.98717262</td></tr>\n",
       "\t<tr><td>103.37     </td><td>103.8872   </td><td>-0.51717262</td></tr>\n",
       "\t<tr><td>106.09     </td><td>103.8872   </td><td> 2.20282738</td></tr>\n",
       "\t<tr><td>105.16     </td><td>103.8872   </td><td> 1.27282738</td></tr>\n",
       "\t<tr><td> 97.73     </td><td>104.3948   </td><td>-6.66479167</td></tr>\n",
       "\t<tr><td>104.42     </td><td>104.3948   </td><td> 0.02520833</td></tr>\n",
       "\t<tr><td>105.79     </td><td>104.3948   </td><td> 1.39520833</td></tr>\n",
       "\t<tr><td>104.19     </td><td>104.3948   </td><td>-0.20479167</td></tr>\n",
       "</tbody>\n",
       "</table>\n"
      ],
      "text/latex": [
       "\\begin{tabular}{r|lll}\n",
       " pib & previsto & residuos\\\\\n",
       "\\hline\n",
       "\t  97.49      & 100.8415    & -3.35145833\\\\\n",
       "\t  96.11      & 100.8415    & -4.73145833\\\\\n",
       "\t 106.17      & 100.8415    &  5.32854167\\\\\n",
       "\t 100.23      & 100.8415    & -0.61145833\\\\\n",
       "\t  91.64      & 101.3491    & -9.70907738\\\\\n",
       "\t 103.64      & 101.3491    &  2.29092262\\\\\n",
       "\t 107.57      & 101.3491    &  6.22092262\\\\\n",
       "\t 101.76      & 101.3491    &  0.41092262\\\\\n",
       "\t  94.42      & 101.8567    & -7.43669643\\\\\n",
       "\t 100.60      & 101.8567    & -1.25669643\\\\\n",
       "\t 102.57      & 101.8567    &  0.71330357\\\\\n",
       "\t  99.91      & 101.8567    & -1.94669643\\\\\n",
       "\t  98.55      & 102.3643    & -3.81431548\\\\\n",
       "\t 106.89      & 102.3643    &  4.52568452\\\\\n",
       "\t 108.97      & 102.3643    &  6.60568452\\\\\n",
       "\t 106.58      & 102.3643    &  4.21568452\\\\\n",
       "\t  98.03      & 102.8719    & -4.84193452\\\\\n",
       "\t 104.66      & 102.8719    &  1.78806548\\\\\n",
       "\t 109.77      & 102.8719    &  6.89806548\\\\\n",
       "\t 110.79      & 102.8719    &  7.91806548\\\\\n",
       "\t 101.54      & 103.3796    & -1.83955357\\\\\n",
       "\t 104.46      & 103.3796    &  1.08044643\\\\\n",
       "\t 104.05      & 103.3796    &  0.67044643\\\\\n",
       "\t 103.73      & 103.3796    &  0.35044643\\\\\n",
       "\t  96.90      & 103.8872    & -6.98717262\\\\\n",
       "\t 103.37      & 103.8872    & -0.51717262\\\\\n",
       "\t 106.09      & 103.8872    &  2.20282738\\\\\n",
       "\t 105.16      & 103.8872    &  1.27282738\\\\\n",
       "\t  97.73      & 104.3948    & -6.66479167\\\\\n",
       "\t 104.42      & 104.3948    &  0.02520833\\\\\n",
       "\t 105.79      & 104.3948    &  1.39520833\\\\\n",
       "\t 104.19      & 104.3948    & -0.20479167\\\\\n",
       "\\end{tabular}\n"
      ],
      "text/markdown": [
       "\n",
       "| pib | previsto | residuos |\n",
       "|---|---|---|\n",
       "|  97.49      | 100.8415    | -3.35145833 |\n",
       "|  96.11      | 100.8415    | -4.73145833 |\n",
       "| 106.17      | 100.8415    |  5.32854167 |\n",
       "| 100.23      | 100.8415    | -0.61145833 |\n",
       "|  91.64      | 101.3491    | -9.70907738 |\n",
       "| 103.64      | 101.3491    |  2.29092262 |\n",
       "| 107.57      | 101.3491    |  6.22092262 |\n",
       "| 101.76      | 101.3491    |  0.41092262 |\n",
       "|  94.42      | 101.8567    | -7.43669643 |\n",
       "| 100.60      | 101.8567    | -1.25669643 |\n",
       "| 102.57      | 101.8567    |  0.71330357 |\n",
       "|  99.91      | 101.8567    | -1.94669643 |\n",
       "|  98.55      | 102.3643    | -3.81431548 |\n",
       "| 106.89      | 102.3643    |  4.52568452 |\n",
       "| 108.97      | 102.3643    |  6.60568452 |\n",
       "| 106.58      | 102.3643    |  4.21568452 |\n",
       "|  98.03      | 102.8719    | -4.84193452 |\n",
       "| 104.66      | 102.8719    |  1.78806548 |\n",
       "| 109.77      | 102.8719    |  6.89806548 |\n",
       "| 110.79      | 102.8719    |  7.91806548 |\n",
       "| 101.54      | 103.3796    | -1.83955357 |\n",
       "| 104.46      | 103.3796    |  1.08044643 |\n",
       "| 104.05      | 103.3796    |  0.67044643 |\n",
       "| 103.73      | 103.3796    |  0.35044643 |\n",
       "|  96.90      | 103.8872    | -6.98717262 |\n",
       "| 103.37      | 103.8872    | -0.51717262 |\n",
       "| 106.09      | 103.8872    |  2.20282738 |\n",
       "| 105.16      | 103.8872    |  1.27282738 |\n",
       "|  97.73      | 104.3948    | -6.66479167 |\n",
       "| 104.42      | 104.3948    |  0.02520833 |\n",
       "| 105.79      | 104.3948    |  1.39520833 |\n",
       "| 104.19      | 104.3948    | -0.20479167 |\n",
       "\n"
      ],
      "text/plain": [
       "   pib    previsto residuos   \n",
       "1   97.49 100.8415 -3.35145833\n",
       "2   96.11 100.8415 -4.73145833\n",
       "3  106.17 100.8415  5.32854167\n",
       "4  100.23 100.8415 -0.61145833\n",
       "5   91.64 101.3491 -9.70907738\n",
       "6  103.64 101.3491  2.29092262\n",
       "7  107.57 101.3491  6.22092262\n",
       "8  101.76 101.3491  0.41092262\n",
       "9   94.42 101.8567 -7.43669643\n",
       "10 100.60 101.8567 -1.25669643\n",
       "11 102.57 101.8567  0.71330357\n",
       "12  99.91 101.8567 -1.94669643\n",
       "13  98.55 102.3643 -3.81431548\n",
       "14 106.89 102.3643  4.52568452\n",
       "15 108.97 102.3643  6.60568452\n",
       "16 106.58 102.3643  4.21568452\n",
       "17  98.03 102.8719 -4.84193452\n",
       "18 104.66 102.8719  1.78806548\n",
       "19 109.77 102.8719  6.89806548\n",
       "20 110.79 102.8719  7.91806548\n",
       "21 101.54 103.3796 -1.83955357\n",
       "22 104.46 103.3796  1.08044643\n",
       "23 104.05 103.3796  0.67044643\n",
       "24 103.73 103.3796  0.35044643\n",
       "25  96.90 103.8872 -6.98717262\n",
       "26 103.37 103.8872 -0.51717262\n",
       "27 106.09 103.8872  2.20282738\n",
       "28 105.16 103.8872  1.27282738\n",
       "29  97.73 104.3948 -6.66479167\n",
       "30 104.42 104.3948  0.02520833\n",
       "31 105.79 104.3948  1.39520833\n",
       "32 104.19 104.3948 -0.20479167"
      ]
     },
     "metadata": {},
     "output_type": "display_data"
    }
   ],
   "source": [
    "#Determinando os resíduos\n",
    "\n",
    "previsto=predict(ajuste14)\n",
    "residuos=residuals(ajuste14)\n",
    "resultadofinal=data.frame(pib,previsto,residuos)\n",
    "resultadofinal"
   ]
  },
  {
   "cell_type": "code",
   "execution_count": null,
   "metadata": {},
   "outputs": [],
   "source": []
  }
 ],
 "metadata": {
  "kernelspec": {
   "display_name": "R",
   "language": "R",
   "name": "ir"
  },
  "language_info": {
   "codemirror_mode": "r",
   "file_extension": ".r",
   "mimetype": "text/x-r-source",
   "name": "R",
   "pygments_lexer": "r",
   "version": "3.6.1"
  }
 },
 "nbformat": 4,
 "nbformat_minor": 4
}
