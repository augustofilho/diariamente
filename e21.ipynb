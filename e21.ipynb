{
 "cells": [
  {
   "cell_type": "markdown",
   "metadata": {},
   "source": [
    "# Day 21:30 daily statistics - Comparando dois Modelos P1"
   ]
  },
  {
   "cell_type": "markdown",
   "metadata": {},
   "source": [
    "$\\color{red}{\\text{Exemplo 1}}$ - Um investigador deseja estudar a relação entre os salários e o tempo de experiência no crgo de gerente de agências bancárias de  agências bancárias de um grande banco. Além disso, gostaria dde saber se existem diferenças quando são levados em conta os salários de homens e mulheres, separadamente. Os dados coletados são apresentados na tabela a seguir, na qual os salários estão expressos em unidades de mil reais e o tempo de experiência no cargo em anos completos.\n",
    "\n",
    "| Observação | Salário Mensal (Y) | Experiência (X) |    Sexo   |\n",
    "|:----------:|:------------------:|:---------------:|:---------:|\n",
    "|      1     |       1,93077      |        0        |  feminino |\n",
    "|      2     |       3,17692      |        17       |  feminino |\n",
    "|      3     |       2,27692      |        5        |  feminino |\n",
    "|      4     |       3,13077      |        15       |  feminino |\n",
    "|      5     |       2,77692      |        9        |  feminino |\n",
    "|      6     |       3,09231      |        15       |  feminino |\n",
    "|      7     |       2,65385      |        8        |  feminino |\n",
    "|      8     |       2,22308      |        5        |  feminino |\n",
    "|      9     |       2,85385      |        13       |  feminino |\n",
    "|     10     |       3,23077      |        20       |  feminino |\n",
    "|     11     |       2,82308      |        11       |  feminino |\n",
    "|     12     |       1,90769      |        1        |  feminino |\n",
    "|     13     |       2,53846      |        6        | Masculino |\n",
    "|     14     |       2,56923      |        7        | Masculino |\n",
    "|     15     |       4,22308      |        23       | Masculino |\n",
    "|     16     |       4,09231      |        20       | Masculino |\n",
    "|     17     |       3,60000      |        18       | Masculino |\n",
    "|     18     |       4,70769      |        27       | Masculino |\n",
    "|     19     |       3,14615      |        11       | Masculino |\n",
    "|     20     |       2,99231      |        10       | Masculino |\n",
    "|     21     |       4,74615      |        29       | Masculino |\n",
    "|     22     |       4,11538      |        23       | Masculino |\n",
    "|     23     |       2,36154      |        4        | Masculino |\n",
    "|     24     |       4,09231      |        22       | Masculino |\n",
    "|     25     |       4,50769      |        25       | Masculino |\n",
    "|     26     |       2,90769      |        9        | Masculino |\n",
    "|     27     |       4,48462      |        25       | Masculino |\n",
    "\n",
    "+ a) Apresente o diagrama de dispersão entre anos e salário\n",
    "+ b) Ajuste a reta estimada sem discriminar sexo\n",
    "+ c) Apresente o gráfico dos resíduos padornizados versus salários estimados e interprete.\n",
    "+ d) Apresente os modelos de previsão para os homens e para as mulheres;\n",
    "+ e) Realize o teste de coincidência das retas;\n",
    "+ f) Realize a análise dos resíduos para os modelos ajustados no item anterior."
   ]
  },
  {
   "cell_type": "code",
   "execution_count": 1,
   "metadata": {},
   "outputs": [
    {
     "data": {
      "image/png": "[encoded data removed]",
      "text/plain": [
       "Plot with title \"Salário versus experiência no cargo (em anos)\""
      ]
     },
     "metadata": {},
     "output_type": "display_data"
    }
   ],
   "source": [
    "sal=c(1.93077, 3.17692, 2.27692, 3.13077, 2.77692, 3.09231, 2.65385, 2.22308, 2.85385,\n",
    "      3.23077, 2.82308, 1.90769, 2.53846, 2.56923, 4.22308, 4.09231, 3.60000, 4.70769,\n",
    "      3.14615, 2.99231, 4.74615, 4.11538, 2.36154, 4.09231, 4.50769, 2.90769, 4.48462)\n",
    "\n",
    "anos=c(0,17,5,15,9,15,8,5,13,20,11,1,6,7,23,20,18,27,11,10, 29,23,4,22,25,9,25)\n",
    "\n",
    "x1=rep(\"feminino\",12); x2=rep(\"masculino\",15); \n",
    "sexo=factor(c(x1,x2))\n",
    "\n",
    "# Sendo 0 = feminino e 1 = Masculino\n",
    "dados=data.frame(sal,anos,sexo)\n",
    "\n",
    "\n",
    "\n",
    "plot(anos,sal,main=\"Salário versus experiência no cargo (em anos)\", xlab=\"Anos\",ylab=\"Salário\")"
   ]
  },
  {
   "cell_type": "code",
   "execution_count": 2,
   "metadata": {},
   "outputs": [
    {
     "name": "stderr",
     "output_type": "stream",
     "text": [
      "Loading required package: lmtest\n",
      "Warning message:\n",
      "\"package 'lmtest' was built under R version 3.6.3\"Loading required package: zoo\n",
      "Warning message:\n",
      "\"package 'zoo' was built under R version 3.6.3\"\n",
      "Attaching package: 'zoo'\n",
      "\n",
      "The following objects are masked from 'package:base':\n",
      "\n",
      "    as.Date, as.Date.numeric\n",
      "\n"
     ]
    }
   ],
   "source": [
    "require(lmtest)   #Carregando o pacote lmtest"
   ]
  },
  {
   "cell_type": "markdown",
   "metadata": {},
   "source": [
    "$\\color{red}{\\text{b)}}$ **A reta estimada é apresentada a seguir:**"
   ]
  },
  {
   "cell_type": "code",
   "execution_count": 3,
   "metadata": {},
   "outputs": [
    {
     "data": {
      "text/plain": [
       "\n",
       "Call:\n",
       "lm(formula = sal ~ anos, data = dados)\n",
       "\n",
       "Residuals:\n",
       "     Min       1Q   Median       3Q      Max \n",
       "-0.59635 -0.07929  0.03975  0.14497  0.26519 \n",
       "\n",
       "Coefficients:\n",
       "            Estimate Std. Error t value Pr(>|t|)    \n",
       "(Intercept) 1.830747   0.076062   24.07   <2e-16 ***\n",
       "anos        0.099818   0.004686   21.30   <2e-16 ***\n",
       "---\n",
       "Signif. codes:  0 '***' 0.001 '**' 0.01 '*' 0.05 '.' 0.1 ' ' 1\n",
       "\n",
       "Residual standard error: 0.2 on 25 degrees of freedom\n",
       "Multiple R-squared:  0.9478,\tAdjusted R-squared:  0.9457 \n",
       "F-statistic: 453.8 on 1 and 25 DF,  p-value: < 2.2e-16\n"
      ]
     },
     "metadata": {},
     "output_type": "display_data"
    }
   ],
   "source": [
    "dados=data.frame(sal,anos,sexo)\n",
    "ajuste=lm(sal~anos,data=dados)\n",
    "summary(ajuste)"
   ]
  },
  {
   "cell_type": "markdown",
   "metadata": {},
   "source": [
    "O modelo estimado é apresentado por $\\hat{y}=1,830747+0,099818$. Este modelo informa que a cada aumento de uma unidade na taxa anual, o valor do salário aumenta em média 0,099818, o coeficiente de determinação associado ao modelo estimado é dado por $R^2=94,78\\%$."
   ]
  },
  {
   "cell_type": "markdown",
   "metadata": {},
   "source": [
    "$\\color{red}{\\text{c)}}$ **O gráfico dos resíduos padronizados versus salários estimados é apresentado a seguir**"
   ]
  },
  {
   "cell_type": "code",
   "execution_count": 4,
   "metadata": {},
   "outputs": [
    {
     "data": {
      "image/png": "[encoded data removed]",
      "text/plain": [
       "Plot with title \"Resíduos padronizados versus salários estimados\""
      ]
     },
     "metadata": {},
     "output_type": "display_data"
    }
   ],
   "source": [
    "residuos=rstandard(ajuste)\n",
    "previsao=predict(ajuste)\n",
    "plot(previsao,residuos, main=\"Resíduos padronizados versus salários estimados\", xlab=\"Salário estimado\",ylab=\"Res. padronizado\")\n",
    "abline(h=0,col=\"red\")"
   ]
  },
  {
   "cell_type": "markdown",
   "metadata": {},
   "source": [
    "Observa-se que os resíduos não estão distribuídos em torno de zero de forma completamente aleatória. Para os resíduos menores que zero, observamos uma tendência decrescente desses valores à medida que aumentam os correspondentes valores preditos. Além disso, temos valores dos resíduos fora do intervalo (-2,33; 2,33). Esta análise indica que as suposições do modelo não estão todas satisfeitas. O teste de **Shapiro-Wilk** é apresentado a seguir."
   ]
  },
  {
   "cell_type": "code",
   "execution_count": 5,
   "metadata": {},
   "outputs": [
    {
     "data": {
      "text/plain": [
       "\n",
       "\tShapiro-Wilk normality test\n",
       "\n",
       "data:  residuals(ajuste)\n",
       "W = 0.90255, p-value = 0.01531\n"
      ]
     },
     "metadata": {},
     "output_type": "display_data"
    }
   ],
   "source": [
    "#Teste de Normalidade nos resíduos\n",
    "shapiro.test(residuals(ajuste))"
   ]
  },
  {
   "cell_type": "markdown",
   "metadata": {},
   "source": [
    "Ao nível de 5% de significância existem evidências amostrais suficientes que nos levam a rejeição da hipótese nula, ou seja, os resíduos não distribuem-se normalmente. Portanto, apensar de termo obtido um valor de $R^2$ igual a 0,948, as suposições do modelo não estão todas satisfeitas. "
   ]
  },
  {
   "cell_type": "markdown",
   "metadata": {},
   "source": [
    "$\\color{red}{\\text{d)}}$ **Modelos de previsão para os gerêntes do sexo masculino e feminino**"
   ]
  },
  {
   "cell_type": "code",
   "execution_count": 6,
   "metadata": {},
   "outputs": [
    {
     "data": {
      "text/plain": [
       "\n",
       "Call:\n",
       "lm(formula = sal_fem ~ anos_fem, data = dados_fem)\n",
       "\n",
       "Residuals:\n",
       "     Min       1Q   Median       3Q      Max \n",
       "-0.18244 -0.05644 -0.01525  0.07400  0.17113 \n",
       "\n",
       "Coefficients:\n",
       "            Estimate Std. Error t value Pr(>|t|)    \n",
       "(Intercept) 1.945176   0.059313    32.8 1.64e-11 ***\n",
       "anos_fem    0.073402   0.005097    14.4 5.17e-08 ***\n",
       "---\n",
       "Signif. codes:  0 '***' 0.001 '**' 0.01 '*' 0.05 '.' 0.1 ' ' 1\n",
       "\n",
       "Residual standard error: 0.1075 on 10 degrees of freedom\n",
       "Multiple R-squared:  0.954,\tAdjusted R-squared:  0.9494 \n",
       "F-statistic: 207.4 on 1 and 10 DF,  p-value: 5.169e-08\n"
      ]
     },
     "metadata": {},
     "output_type": "display_data"
    }
   ],
   "source": [
    "sal_fem=c(1.93077, 3.17692, 2.27692, 3.13077, 2.77692, 3.09231, 2.65385, 2.22308, 2.85385,\n",
    "      3.23077, 2.82308, 1.90769)\n",
    "anos_fem=c(0,17,5,15,9,15,8,5,13,20,11,1)\n",
    "\n",
    "\n",
    "sal_mas=c(2.53846, 2.56923, 4.22308, 4.09231, 3.60000, 4.70769,\n",
    "      3.14615, 2.99231, 4.74615, 4.11538, 2.36154, 4.09231, 4.50769, 2.90769, 4.48462)\n",
    "anos_mas=c(6,7,23,20,18,27,11,10, 29,23,4,22,25,9,25)\n",
    "\n",
    "dados_fem=data.frame(sal_fem,anos_fem)\n",
    "ajuste_fem=lm(sal_fem~anos_fem,data=dados_fem)\n",
    "summary(ajuste_fem)\n"
   ]
  },
  {
   "cell_type": "markdown",
   "metadata": {},
   "source": [
    "O modelo estimado é dado por $\\hat{y}=1,94+0,073X$, indicando que para cada aumento de uma unidade nos anos de experiência das mulheres o seu salário crescem em média 0,073402. O modelo apresentou um coeficiente de determinação de 95,4%."
   ]
  },
  {
   "cell_type": "markdown",
   "metadata": {},
   "source": [
    "O mesmo modelo de regressão obtido para os homens é dado por:"
   ]
  },
  {
   "cell_type": "code",
   "execution_count": 7,
   "metadata": {},
   "outputs": [
    {
     "data": {
      "text/plain": [
       "\n",
       "Call:\n",
       "lm(formula = sal_mas ~ anos_mas, data = dados_mas)\n",
       "\n",
       "Residuals:\n",
       "     Min       1Q   Median       3Q      Max \n",
       "-0.14460 -0.06472 -0.00294  0.06167  0.15055 \n",
       "\n",
       "Coefficients:\n",
       "            Estimate Std. Error t value Pr(>|t|)    \n",
       "(Intercept) 1.970160   0.053235   37.01 1.46e-14 ***\n",
       "anos_mas    0.098580   0.002783   35.42 2.57e-14 ***\n",
       "---\n",
       "Signif. codes:  0 '***' 0.001 '**' 0.01 '*' 0.05 '.' 0.1 ' ' 1\n",
       "\n",
       "Residual standard error: 0.08875 on 13 degrees of freedom\n",
       "Multiple R-squared:  0.9897,\tAdjusted R-squared:  0.989 \n",
       "F-statistic:  1255 on 1 and 13 DF,  p-value: 2.566e-14\n"
      ]
     },
     "metadata": {},
     "output_type": "display_data"
    }
   ],
   "source": [
    "dados_mas=data.frame(sal_mas,anos_mas)\n",
    "ajuste_mas=lm(sal_mas~anos_mas,data=dados_mas)\n",
    "summary(ajuste_mas)\n"
   ]
  },
  {
   "cell_type": "markdown",
   "metadata": {},
   "source": [
    "O modelo estimado é dado por $\\hat{y}=1,97+0,098$, indicando que para um aumento em uma unidade na taxa média dos anos de trabalho dos homens o salário cresce em média 0,098580. O coeficiente de determinação apresentado pelo modelo é dado por 98,97%."
   ]
  },
  {
   "cell_type": "markdown",
   "metadata": {},
   "source": [
    "$\\color{red}{\\text{e)}}$ **O teste de coincidência entre retas** é apresentado a seguir: Inicialmente, vamos testar a igualdade dos interceptos dos dois modelos, para o que é necessário calcular a variância amostral **combinada** dos dois  grupos, $S_{\\beta_0}$ que é obtida por:\n",
    "\n",
    "$$S_{\\beta_0}=\\frac{SQE(1)+SQE(2)}{n_1+n_2-4}\\bigg[\\frac{1}{n_1}+\\frac{1}{n_2}+\\frac{\\overline{x}_1^2}{S_{xx}^1}+\\frac{\\overline{x}_2^2}{S_{xx}^2}\\bigg]$$\n",
    "\n",
    "Onde o SQE é dado por:\n",
    "\n",
    "$$SQE=SQT-SQ_{residuo}$$\n",
    "\n",
    "Portanto, para calcular o SQT, temos:\n",
    "\n",
    "$$SQT=S_{yy}=\\sum(y_i-\\overline{y})^2=\\sum(y^2)-\\frac{(\\sum y)^2}{n}$$\n",
    "\n",
    "e para o cálculo do $SQ_{residuo}$, temos:\n",
    "\n",
    "$$SQ_{residuo}=\\hat{\\beta}_1^2\\times S_{xx}$$\n",
    "\n",
    "$$SQ_{residuo}=\\hat{\\beta}_1^2 \\times \\sum (x_i-\\overline{x})^2= \\hat{\\beta}_1^2 \\times \\sum (x)^2-\\frac{(\\sum x)^2}{n}$$\n",
    "\n",
    "Para determinar $\\hat{\\beta}_1$, temos\n",
    "\n",
    "$$\\hat{\\beta_1}=\\frac{S_{yy}}{S_{xx}}$$\n",
    "\n",
    "Com $S_{xy}$, dado por:\n",
    "\n",
    "$$S_{xy}=\\sum(x_i-\\overline{x})(y_i-\\overline{y})^2=\\sum xy - \\frac{(\\sum x_i)(\\sum y_i)}{n}$$\n",
    "\n",
    "A estatística de teste para testar se o intercepto é igual é dado por:\n",
    "$$T_{\\beta_1}=\\frac{\\hat{\\beta}_{11}-\\hat{\\beta}_{12}}{\\sqrt{S_{\\beta_1}}}$$\n",
    "\n",
    "Usando o R para efetuar os cálculos, temos:"
   ]
  },
  {
   "cell_type": "code",
   "execution_count": 8,
   "metadata": {},
   "outputs": [
    {
     "name": "stdout",
     "output_type": "stream",
     "text": [
      "O valor da variância amostral combinada é dado por 0.006294714 \n",
      "\n"
     ]
    }
   ],
   "source": [
    "#Cálculo da variância amostral combinada dos dois grupos.\n",
    "\n",
    "#Para 0 sexo feminino\n",
    "n_f=length(anos_fem)                                            #Tamanho da amostra do sexo feminino\n",
    "SQT_fem=sum(sal_fem^2)-(sum(sal_fem)^2)/n_f                     #Soma de Quadrato total - SQT\n",
    "Sxy_fem=sum(anos_fem*sal_fem)-(sum(anos_fem)*sum(sal_fem))/n_f  #Soma cruzada de X e Y\n",
    "media_anosf=mean(anos_fem)                                      #Media dos Anos (mulheres)\n",
    "media_salf=mean(sal_fem)                                        #Media do salários (mulheres)\n",
    "Sxx_fem=sum(anos_fem^2)-(sum(anos_fem)^2)/n_f                   #Soma Sxx\n",
    "beta1_fem=Sxy_fem/Sxx_fem                                       #Estimativa do Beta1\n",
    "SQres_fem=beta1_fem^2*Sxx_fem                                   #Soma de quadrado da regressão (feminino)\n",
    "SQE_fem=SQT_fem-SQres_fem                                       #Soma de quadrado do erro (feminino)\n",
    "beta0_fem=media_salf-beta1_fem*media_anosf                      #Estimativa do Beta0 \n",
    "\n",
    "\n",
    "\n",
    "#Para o sexo masculino\n",
    "n_m=length(anos_mas)                                             #Tamanho da amostra do sexo masculino\n",
    "SQT_mas=sum(sal_mas^2)-(sum(sal_mas)^2)/n_m                      #Soma de Quadrato total - SQT\n",
    "Sxy_mas=sum(anos_mas*sal_mas)-(sum(anos_mas)*sum(sal_mas))/n_m   #Soma cruzada de X e Y\n",
    "media_anosm=mean(anos_mas)                                       #Media dos Anos (masculino)\n",
    "media_salm=mean(sal_mas)                                         #Media do salários (masculino)\n",
    "Sxx_mas=sum(anos_mas^2)-(sum(anos_mas)^2)/n_m                    #Soma Sxx\n",
    "beta1_mas=Sxy_mas/Sxx_mas                                        #Estimativa do Beta1\n",
    "SQres_mas=beta1_mas^2*Sxx_mas                                    #Soma de quadrado da regressão (masculino)\n",
    "SQE_mas=SQT_mas-SQres_mas                                        #Soma de quadrado do erro (masculino)\n",
    "beta0_mas=media_salm-beta1_mas*media_anosm                       #Estimativa do Beta0 \n",
    "    \n",
    "\n",
    "#Variância amostral combinada da diferença entre os estimadores dos interceptos dos modelos \n",
    "SB0=(SQE_fem+SQE_mas)/(n_f+n_m-4)*(1/n_f + 1/n_m + media_anosf^2/Sxx_fem + media_anosm^2/Sxx_mas)\n",
    "      \n",
    "cat(\"O valor da variância amostral combinada é dado por\",SB0,\"\\n\\n\")"
   ]
  },
  {
   "cell_type": "code",
   "execution_count": 9,
   "metadata": {},
   "outputs": [
    {
     "name": "stdout",
     "output_type": "stream",
     "text": [
      "A estatística de teste é igual a -0.3149123"
     ]
    }
   ],
   "source": [
    "#A estatística de teste é dada por\n",
    "TB1=(beta0_fem-beta0_mas)/sqrt(SB0)\n",
    "cat(\"A estatística de teste é igual a\",TB1)\n"
   ]
  },
  {
   "cell_type": "markdown",
   "metadata": {},
   "source": [
    "Pela tabela da distribuição t de Student, com 23 graus de liberdade e $\\alpha/2=0,025$, encontramos o valor crítico igual a 2,069. Como o módulo do valor observado da estatística $T_{\\beta_0}$ é menor do que o valor crítico encontrado, não rejeitamos a hipótese de igualdade os interceptos.  Vamos agora testar se as inclinações são iguais pra os dois modelos, para tanto precisamos calcular o valor da expressão dada abaixo:\n",
    "\n",
    "$$S_{\\beta_1}=\\frac{SQE(1)+SQE(2)}{n_1+n_2-4}\\bigg[\\frac{1}{S_{xx}^1}+\\frac{1}{S_{xx}^2} \\bigg]$$"
   ]
  },
  {
   "cell_type": "code",
   "execution_count": 10,
   "metadata": {},
   "outputs": [
    {
     "name": "stdout",
     "output_type": "stream",
     "text": [
      "O valor da variância combinada para o parâmetro B1 é dada por 3.062006e-05 \n",
      "\n"
     ]
    }
   ],
   "source": [
    "#Calculo da variância amostral combinada\n",
    "SB1=(SQE_fem+SQE_mas)/(n_f+n_m-4)*(1/Sxx_fem+1/Sxx_mas)\n",
    "cat(\"O valor da variância combinada para o parâmetro B1 é dada por\",SB1,\"\\n\\n\")"
   ]
  },
  {
   "cell_type": "markdown",
   "metadata": {},
   "source": [
    "Assim, o valor da esttística de teste para $T_{\\beta_1}$ é dada por:\n",
    "\n",
    "$$T_{\\beta_1}=\\frac{\\hat{\\beta}_{11}-\\hat{\\beta}_{12}}{\\sqrt{S_{\\beta_1}}}$$"
   ]
  },
  {
   "cell_type": "code",
   "execution_count": 11,
   "metadata": {},
   "outputs": [
    {
     "name": "stdout",
     "output_type": "stream",
     "text": [
      "O valor da estatística de teste é -4.550082 \n",
      "\n"
     ]
    }
   ],
   "source": [
    "#Cálculo da estatística de teste\n",
    "TB1=(beta1_fem-beta1_mas)/(sqrt(SB1))\n",
    "cat(\"O valor da estatística de teste é\",TB1,\"\\n\\n\")\n"
   ]
  },
  {
   "cell_type": "markdown",
   "metadata": {},
   "source": [
    "Usando novamente $\\alpha/2=2,5\\%$, temos que o valor crítico da tabela t de Studente com 23 graus de liberdade é 2,069. Como o módulo do valor observado da estatística $T_{\\beta_1}$ é maior que o valor crítico, rejeitamos a hipótese de igualdade das inclinações dos modelos. Portanto podemos concluir que os modelos para homens e mulheres não são coincidentes, embora não tenhamos rejeitado a hipótese de igualdade dos dois interceptos. Observando os valores das inclinações dos dois modelos, vemos que a inclinação para o modelo ajustado para o grupo das mulheres é menor que a inclinação do modelo ajustado para o grupo dos homens, o que permite afirmar que a taxa de crescimento dos salários é menor para as mulheres. "
   ]
  },
  {
   "cell_type": "markdown",
   "metadata": {},
   "source": [
    "$\\color{red}{\\text{f)}}$ **A análise dos resíduos para os modelos estimados para o grupo formado por mulheres e homens é apresentado a seguir**"
   ]
  },
  {
   "cell_type": "code",
   "execution_count": 12,
   "metadata": {},
   "outputs": [
    {
     "data": {
      "image/png": "[encoded data removed]",
      "text/plain": [
       "Plot with title \"\""
      ]
     },
     "metadata": {},
     "output_type": "display_data"
    }
   ],
   "source": [
    "#Modelo para mulheres\n",
    "par(mfrow=c(2,2))\n",
    "plot(ajuste_fem)"
   ]
  },
  {
   "cell_type": "markdown",
   "metadata": {},
   "source": [
    "A primeira figura, (resíduos versus valores preditos) não apresenta a tendência de crescimento que era apresentado ao gráfico conjunto. Além disso, todos os valores dos resíduos se encontram dentro do intervalo de (-2,33; 2,33). O gráfico de normalidade para os resíduos apresentam pontos situados em torno da uma reta, não havendo indicçaõ contra a hipótese de normalidade."
   ]
  },
  {
   "cell_type": "code",
   "execution_count": 13,
   "metadata": {},
   "outputs": [
    {
     "data": {
      "image/png": "[encoded data removed]",
      "text/plain": [
       "Plot with title \"\""
      ]
     },
     "metadata": {},
     "output_type": "display_data"
    }
   ],
   "source": [
    "#Modelo para os homens\n",
    "par(mfrow=c(2,2))\n",
    "plot(ajuste_mas)"
   ]
  },
  {
   "cell_type": "markdown",
   "metadata": {},
   "source": [
    "Para o gráfico (residos vs fitted) não apresenta para o grupo dos homens a tendência decrescente apresentada no gráfico conjunto. O gráfico de normalidade não apresenta um cenário que nos leve a rejeição da hipótese de normalidade dos resíduos. Portanto a conclusão que podemos chegar a partir dessa análise é de que as discrepâncias apresentadas na análise inicial, quando um único modelo foi ajustado para todo o conjunto de observações, deveram-se ao fato de não termos considerado grupos separados para cada sexo. Nas análises posteriores, vimos a necessidade de modelos distintos para cada um dos sexos, os quais nos explicam o fenômeno de maneira muito mais satistafória que o modelo único. "
   ]
  },
  {
   "cell_type": "markdown",
   "metadata": {},
   "source": [
    "$\\color{red}{\\text{Exercício 1}}$ - **Retirado do livro: Análise de Modelos de Regressão Linear com Aplicações, de Charnet, Freire, Charnet e Bonvino** Um experimento com sementes de soja foi feito durante um certo período, no qual as sementes foram submetidas à radiação solar e a dois níveis de ozônio, A e B. Após esse período foram coletados os pesos de cada semente e a quantidade de radiação solar que cada semente recebeu, para cada nível de ozônio. O objetivo era verificar se os pesos das sementes estariam relacionados com a quantidade de radiação recebida por essas sementes. Os dados coletados foram:\n",
    "\n",
    "|  Ozônio  | Ozônio |  Ozônio  | Ozônio |\n",
    "|:--------:|:------:|:--------:|:------:|\n",
    "|     A    |    A   |     B    |    B   |\n",
    "| Radiação |  Peso  | Radiação |  Peso  |\n",
    "|   118,4  |   0,7  |   109,1  |   1,3  |\n",
    "|   215,2  |   2,9  |   199,6  |   4,8  |\n",
    "|   283,9  |   5,6  |   264,2  |   6,5  |\n",
    "|   387,9  |   8,7  |   358,2  |   9,4  |\n",
    "|   451,5  |  12,4  |   413,2  |  12,9  |\n",
    "|   516,6  |  17,4  |   452,5  |  12,3  |\n",
    "\n",
    "+ a) Ajuste um MRLS que explique peso em função da radiação, para cada nível de ozônio;\n",
    "+ b) Calcule o coeficiente de determinação para cada modelo e comente os ajustes;\n",
    "+ c) Para cada modelo encontre os intervalos de predição para os pesos quando a radiação for igual a 300;\n",
    "+ d) Compare os dois modelos, verificando se é possível adotar um único modelo para os dois níveis de radiação;\n",
    "+ e) Ajuste um único modelo para os dois níveis de ozônio;\n",
    "+ f) Usando o modelo único, encontre o intervalo de predição para peso, quando a radiação for igual a 300. Compare com os intervalos encontrados no item (c).\n",
    "\n",
    "\n",
    "\n",
    "\n",
    "\n"
   ]
  },
  {
   "cell_type": "code",
   "execution_count": 14,
   "metadata": {},
   "outputs": [
    {
     "data": {
      "text/plain": [
       "\n",
       "Call:\n",
       "lm(formula = peso_a ~ radi_a, data = dados1)\n",
       "\n",
       "Residuals:\n",
       "      1       2       3       4       5       6 \n",
       " 1.2627 -0.4516 -0.5297 -1.6351 -0.5069  1.8606 \n",
       "\n",
       "Coefficients:\n",
       "             Estimate Std. Error t value Pr(>|t|)    \n",
       "(Intercept) -5.350467   1.542884  -3.468 0.025634 *  \n",
       "radi_a       0.040437   0.004329   9.341 0.000731 ***\n",
       "---\n",
       "Signif. codes:  0 '***' 0.001 '**' 0.01 '*' 0.05 '.' 0.1 ' ' 1\n",
       "\n",
       "Residual standard error: 1.455 on 4 degrees of freedom\n",
       "Multiple R-squared:  0.9562,\tAdjusted R-squared:  0.9452 \n",
       "F-statistic: 87.25 on 1 and 4 DF,  p-value: 0.0007314\n"
      ]
     },
     "metadata": {},
     "output_type": "display_data"
    }
   ],
   "source": [
    "#Entrando com os dados\n",
    "radi_a=c(118.4, 215.2, 283.9, 387.9, 451.5,516.6)\n",
    "peso_a=c(0.7, 2.9, 5.6, 8.7, 12.4, 17.4)\n",
    "radi_b=c(109.1, 199.6, 264.2, 358.2, 413.2, 452.5)\n",
    "peso_b=c(1.3, 4.8, 6.5, 9.4, 12.9, 12.3)\n",
    "\n",
    "dados1=data.frame(peso_a,radi_a)\n",
    "ajuste1=lm(peso_a~radi_a,data=dados1)\n",
    "summary(ajuste1)"
   ]
  },
  {
   "cell_type": "markdown",
   "metadata": {},
   "source": [
    "O modelo estimado é dado por ($\\hat{y}=-5,3504+0,0404 \\times \\text{radiacao(a)}$). Este modelo possui um coeficiente de determinação de 95,62%. O modelo aponta que para cada aumento na taxa de radiação em um unidade a taxa do peso aumenta em média 0,040437. O próximo modelo descrito para o peso de B em função da radiação de B é apresentado a seguir:"
   ]
  },
  {
   "cell_type": "code",
   "execution_count": 15,
   "metadata": {},
   "outputs": [
    {
     "data": {
      "text/plain": [
       "\n",
       "Call:\n",
       "lm(formula = peso_b ~ radi_b, data = dados2)\n",
       "\n",
       "Residuals:\n",
       "      1       2       3       4       5       6 \n",
       "-0.1408  0.3043 -0.1762 -0.4492  1.1943 -0.7323 \n",
       "\n",
       "Coefficients:\n",
       "             Estimate Std. Error t value Pr(>|t|)    \n",
       "(Intercept) -2.241867   0.830133  -2.701 0.054060 .  \n",
       "radi_b       0.033755   0.002571  13.127 0.000194 ***\n",
       "---\n",
       "Signif. codes:  0 '***' 0.001 '**' 0.01 '*' 0.05 '.' 0.1 ' ' 1\n",
       "\n",
       "Residual standard error: 0.7596 on 4 degrees of freedom\n",
       "Multiple R-squared:  0.9773,\tAdjusted R-squared:  0.9716 \n",
       "F-statistic: 172.3 on 1 and 4 DF,  p-value: 0.0001945\n"
      ]
     },
     "metadata": {},
     "output_type": "display_data"
    }
   ],
   "source": [
    "dados2=data.frame(peso_b,radi_b)\n",
    "ajuste2=lm(peso_b~radi_b,data=dados2)\n",
    "summary(ajuste2)"
   ]
  },
  {
   "cell_type": "markdown",
   "metadata": {},
   "source": [
    "O modelo estimado é apresentado por ($\\hat{y}=-2,241867+0,033755 \\times radiacao(b)$). O modelo estimado explica em 97,73% a variação que é inerente ao processo. "
   ]
  },
  {
   "cell_type": "markdown",
   "metadata": {},
   "source": [
    "$\\color{red}{\\text{b)}}$ **Calcule o coeficiente de determinação para cada modelo e comente os ajustes**"
   ]
  },
  {
   "cell_type": "code",
   "execution_count": 16,
   "metadata": {},
   "outputs": [
    {
     "name": "stdout",
     "output_type": "stream",
     "text": [
      "O coeficiente de determinação para o primeiro modelo é dado por 95.62 % e para o segundo modelo é 97.73 % \n",
      "\n"
     ]
    }
   ],
   "source": [
    "# Peso(a)=f(rad(a))\n",
    "R2_modelo1=cor(peso_a,radi_a)^2\n",
    "\n",
    "# Peso(b)=f(rad(b))\n",
    "R2_modelo2=cor(peso_b,radi_b)^2\n",
    "\n",
    "cat(\"O coeficiente de determinação para o primeiro modelo é dado por\",round(R2_modelo1*100,2),\"%\",\"e para o segundo modelo é\",round(R2_modelo2*100,2),\"%\",\"\\n\\n\")"
   ]
  },
  {
   "cell_type": "markdown",
   "metadata": {},
   "source": [
    "O modelo 2 apresenta o maior coeficiente de determinação, tal modelo poderá ser escolhido para a realização de inferências após análises dos resíduos."
   ]
  },
  {
   "cell_type": "markdown",
   "metadata": {},
   "source": [
    "$\\color{red}{\\text{c)}}$ **Para cada modelo encontre os intervalos de predição para os pesos quando a radiação for igual a 300**"
   ]
  },
  {
   "cell_type": "code",
   "execution_count": 17,
   "metadata": {},
   "outputs": [
    {
     "name": "stdout",
     "output_type": "stream",
     "text": [
      "\n",
      "Intervalo de Predição para o primeiro modelo\n"
     ]
    },
    {
     "data": {
      "text/html": [
       "<table>\n",
       "<thead><tr><th scope=col>fit</th><th scope=col>lwr</th><th scope=col>upr</th></tr></thead>\n",
       "<tbody>\n",
       "\t<tr><td>6.780691</td><td>2.402623</td><td>11.15876</td></tr>\n",
       "</tbody>\n",
       "</table>\n"
      ],
      "text/latex": [
       "\\begin{tabular}{r|lll}\n",
       " fit & lwr & upr\\\\\n",
       "\\hline\n",
       "\t 6.780691 & 2.402623 & 11.15876\\\\\n",
       "\\end{tabular}\n"
      ],
      "text/markdown": [
       "\n",
       "| fit | lwr | upr |\n",
       "|---|---|---|\n",
       "| 6.780691 | 2.402623 | 11.15876 |\n",
       "\n"
      ],
      "text/plain": [
       "  fit      lwr      upr     \n",
       "1 6.780691 2.402623 11.15876"
      ]
     },
     "metadata": {},
     "output_type": "display_data"
    },
    {
     "name": "stdout",
     "output_type": "stream",
     "text": [
      "\n",
      "Intervalo de Predição para o segundo modelo\n"
     ]
    },
    {
     "data": {
      "text/html": [
       "<table>\n",
       "<thead><tr><th scope=col>fit</th><th scope=col>lwr</th><th scope=col>upr</th></tr></thead>\n",
       "<tbody>\n",
       "\t<tr><td>7.884669</td><td>5.60676 </td><td>10.16258</td></tr>\n",
       "</tbody>\n",
       "</table>\n"
      ],
      "text/latex": [
       "\\begin{tabular}{r|lll}\n",
       " fit & lwr & upr\\\\\n",
       "\\hline\n",
       "\t 7.884669 & 5.60676  & 10.16258\\\\\n",
       "\\end{tabular}\n"
      ],
      "text/markdown": [
       "\n",
       "| fit | lwr | upr |\n",
       "|---|---|---|\n",
       "| 7.884669 | 5.60676  | 10.16258 |\n",
       "\n"
      ],
      "text/plain": [
       "  fit      lwr     upr     \n",
       "1 7.884669 5.60676 10.16258"
      ]
     },
     "metadata": {},
     "output_type": "display_data"
    }
   ],
   "source": [
    "# Modelo 1\n",
    "cat(\"\\nIntervalo de Predição para o primeiro modelo\\n\")\n",
    "radiacao1=data.frame(radi_a=300)\n",
    "predicao1=predict(ajuste1,radiacao1,interval=\"prediction\")\n",
    "predicao1\n",
    "\n",
    "\n",
    "#Modelo 2\n",
    "cat(\"\\nIntervalo de Predição para o segundo modelo\\n\")\n",
    "radiacao2=data.frame(radi_b=300)\n",
    "predicao2=predict(ajuste2,radiacao2,interval=\"prediction\")             #confidence\n",
    "predicao2"
   ]
  },
  {
   "cell_type": "markdown",
   "metadata": {},
   "source": [
    "$\\color{red}{\\text{d)}}$ **Compare os dois modelos, verificando se é possível adotar um único modelo para os dois níveis e radiação**: O primeiro modelo apresentou um intervalo de predição que engloba o segundo modelo, desta forma pode-se trabalhar apenas com um único modelo de predição."
   ]
  },
  {
   "cell_type": "markdown",
   "metadata": {},
   "source": [
    "$\\color{red}{\\text{e)}}$ **Ajuste um único modelo para os dois níveis de ozônio** "
   ]
  },
  {
   "cell_type": "code",
   "execution_count": 18,
   "metadata": {},
   "outputs": [
    {
     "data": {
      "text/plain": [
       "\n",
       "Call:\n",
       "lm(formula = radiacao ~ peso + nivel, data = dados3)\n",
       "\n",
       "Residuals:\n",
       "    Min      1Q  Median      3Q     Max \n",
       "-53.065 -22.074   4.383  16.121  40.089 \n",
       "\n",
       "Coefficients:\n",
       "            Estimate Std. Error t value Pr(>|t|)    \n",
       "(Intercept)  126.382     19.311   6.545 0.000106 ***\n",
       "peso          25.476      1.822  13.985 2.07e-07 ***\n",
       "nivelb       -27.327     18.065  -1.513 0.164645    \n",
       "---\n",
       "Signif. codes:  0 '***' 0.001 '**' 0.01 '*' 0.05 '.' 0.1 ' ' 1\n",
       "\n",
       "Residual standard error: 31.29 on 9 degrees of freedom\n",
       "Multiple R-squared:  0.9566,\tAdjusted R-squared:  0.9469 \n",
       "F-statistic: 99.12 on 2 and 9 DF,  p-value: 7.414e-07\n"
      ]
     },
     "metadata": {},
     "output_type": "display_data"
    }
   ],
   "source": [
    "peso=c(peso_a,peso_b)                            #Entrando com os pesos\n",
    "radiacao=c(radi_a,radi_b)                        #Entrando com a radiação\n",
    "nivel=factor(rep(c(\"a\",\"b\"),c(6,6)))             #Entrando com os níveis no formato factor\n",
    "\n",
    "dados3=data.frame(radiacao,peso,nivel)\n",
    "ajuste3=lm(radiacao~peso+nivel,data=dados3)\n",
    "summary(ajuste3)"
   ]
  },
  {
   "cell_type": "markdown",
   "metadata": {},
   "source": []
  },
  {
   "cell_type": "code",
   "execution_count": null,
   "metadata": {},
   "outputs": [],
   "source": []
  }
 ],
 "metadata": {
  "kernelspec": {
   "display_name": "R",
   "language": "R",
   "name": "ir"
  },
  "language_info": {
   "codemirror_mode": "r",
   "file_extension": ".r",
   "mimetype": "text/x-r-source",
   "name": "R",
   "pygments_lexer": "r",
   "version": "3.6.1"
  }
 },
 "nbformat": 4,
 "nbformat_minor": 4
}
