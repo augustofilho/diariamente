{
 "cells": [
  {
   "cell_type": "markdown",
   "metadata": {},
   "source": [
    "# Day 9:30 daily statistics - Exercícios Diversos de Regressão"
   ]
  },
  {
   "cell_type": "markdown",
   "metadata": {},
   "source": [
    "$\\color{red}{\\text{Exercício 6}}$ - **Retirado do livro: Análise de Modelos de Regressão Linear com Aplicações, de Charnet, Freire, Charnet e Bonvino** - Para o conjunto de dados abaixo, encontre a reta de regressão pelo método de quadrados mínimos e calcule os resíduos.\n",
    "\n",
    "| x |  1  |  2  |  3  |  4  |  5  |  6  | 7 |  8 |\n",
    "|:-:|:---:|:---:|:---:|:---:|:---:|:---:|:-:|:--:|\n",
    "| y | 1,5 | 1,5 | 3,5 | 3,5 | 5,5 | 5,5 | 7 | 12 |"
   ]
  },
  {
   "cell_type": "code",
   "execution_count": 1,
   "metadata": {},
   "outputs": [
    {
     "data": {
      "text/html": [
       "<table>\n",
       "<thead><tr><th scope=col>x6</th><th scope=col>y6</th></tr></thead>\n",
       "<tbody>\n",
       "\t<tr><td>1   </td><td> 1.5</td></tr>\n",
       "\t<tr><td>2   </td><td> 1.5</td></tr>\n",
       "\t<tr><td>3   </td><td> 3.5</td></tr>\n",
       "\t<tr><td>4   </td><td> 3.5</td></tr>\n",
       "\t<tr><td>5   </td><td> 5.5</td></tr>\n",
       "\t<tr><td>6   </td><td> 5.5</td></tr>\n",
       "\t<tr><td>7   </td><td> 7.0</td></tr>\n",
       "\t<tr><td>8   </td><td>12.0</td></tr>\n",
       "</tbody>\n",
       "</table>\n"
      ],
      "text/latex": [
       "\\begin{tabular}{r|ll}\n",
       " x6 & y6\\\\\n",
       "\\hline\n",
       "\t 1    &  1.5\\\\\n",
       "\t 2    &  1.5\\\\\n",
       "\t 3    &  3.5\\\\\n",
       "\t 4    &  3.5\\\\\n",
       "\t 5    &  5.5\\\\\n",
       "\t 6    &  5.5\\\\\n",
       "\t 7    &  7.0\\\\\n",
       "\t 8    & 12.0\\\\\n",
       "\\end{tabular}\n"
      ],
      "text/markdown": [
       "\n",
       "| x6 | y6 |\n",
       "|---|---|\n",
       "| 1    |  1.5 |\n",
       "| 2    |  1.5 |\n",
       "| 3    |  3.5 |\n",
       "| 4    |  3.5 |\n",
       "| 5    |  5.5 |\n",
       "| 6    |  5.5 |\n",
       "| 7    |  7.0 |\n",
       "| 8    | 12.0 |\n",
       "\n"
      ],
      "text/plain": [
       "  x6 y6  \n",
       "1 1   1.5\n",
       "2 2   1.5\n",
       "3 3   3.5\n",
       "4 4   3.5\n",
       "5 5   5.5\n",
       "6 6   5.5\n",
       "7 7   7.0\n",
       "8 8  12.0"
      ]
     },
     "metadata": {},
     "output_type": "display_data"
    }
   ],
   "source": [
    "                                            #Entrando com os dados\n",
    "x6=seq(1,8,by=1)                             #Entrando com os dados de x  \n",
    "y6=c(1.5, 1.5, 3.5, 3.5, 5.5, 5.5, 7,12)     #Entrando com os dados de y\n",
    "exercicio6=data.frame(x6,y6)                  #Data frame\n",
    "exercicio6                                  #Chamando a base de dados"
   ]
  },
  {
   "cell_type": "code",
   "execution_count": 2,
   "metadata": {},
   "outputs": [
    {
     "data": {
      "text/plain": [
       "\n",
       "Call:\n",
       "lm(formula = y6 ~ x6, data = exercicio6)\n",
       "\n",
       "Residuals:\n",
       "    Min      1Q  Median      3Q     Max \n",
       "-1.4464 -0.9494 -0.2024  0.5952  2.4583 \n",
       "\n",
       "Coefficients:\n",
       "            Estimate Std. Error t value Pr(>|t|)    \n",
       "(Intercept)  -0.8393     1.0918  -0.769 0.471221    \n",
       "x6            1.2976     0.2162   6.002 0.000963 ***\n",
       "---\n",
       "Signif. codes:  0 '***' 0.001 '**' 0.01 '*' 0.05 '.' 0.1 ' ' 1\n",
       "\n",
       "Residual standard error: 1.401 on 6 degrees of freedom\n",
       "Multiple R-squared:  0.8572,\tAdjusted R-squared:  0.8334 \n",
       "F-statistic: 36.02 on 1 and 6 DF,  p-value: 0.000963\n"
      ]
     },
     "metadata": {},
     "output_type": "display_data"
    }
   ],
   "source": [
    "                                         #Encontrando a reta de regressão pelo método de quadrados mínimos\n",
    "ajuste_exe6=lm(y6~x6,data=exercicio6)      #Estimação da reta de regressão        \n",
    "summary(ajuste_exe6)                     #Apresetando os resultados "
   ]
  },
  {
   "cell_type": "code",
   "execution_count": 3,
   "metadata": {},
   "outputs": [
    {
     "data": {
      "text/html": [
       "<table>\n",
       "<thead><tr><th scope=col>y6</th><th scope=col>previstos</th><th scope=col>residuos</th></tr></thead>\n",
       "<tbody>\n",
       "\t<tr><td> 1.5      </td><td>0.4583333 </td><td> 1.0416667</td></tr>\n",
       "\t<tr><td> 1.5      </td><td>1.7559524 </td><td>-0.2559524</td></tr>\n",
       "\t<tr><td> 3.5      </td><td>3.0535714 </td><td> 0.4464286</td></tr>\n",
       "\t<tr><td> 3.5      </td><td>4.3511905 </td><td>-0.8511905</td></tr>\n",
       "\t<tr><td> 5.5      </td><td>5.6488095 </td><td>-0.1488095</td></tr>\n",
       "\t<tr><td> 5.5      </td><td>6.9464286 </td><td>-1.4464286</td></tr>\n",
       "\t<tr><td> 7.0      </td><td>8.2440476 </td><td>-1.2440476</td></tr>\n",
       "\t<tr><td>12.0      </td><td>9.5416667 </td><td> 2.4583333</td></tr>\n",
       "</tbody>\n",
       "</table>\n"
      ],
      "text/latex": [
       "\\begin{tabular}{r|lll}\n",
       " y6 & previstos & residuos\\\\\n",
       "\\hline\n",
       "\t  1.5       & 0.4583333  &  1.0416667\\\\\n",
       "\t  1.5       & 1.7559524  & -0.2559524\\\\\n",
       "\t  3.5       & 3.0535714  &  0.4464286\\\\\n",
       "\t  3.5       & 4.3511905  & -0.8511905\\\\\n",
       "\t  5.5       & 5.6488095  & -0.1488095\\\\\n",
       "\t  5.5       & 6.9464286  & -1.4464286\\\\\n",
       "\t  7.0       & 8.2440476  & -1.2440476\\\\\n",
       "\t 12.0       & 9.5416667  &  2.4583333\\\\\n",
       "\\end{tabular}\n"
      ],
      "text/markdown": [
       "\n",
       "| y6 | previstos | residuos |\n",
       "|---|---|---|\n",
       "|  1.5       | 0.4583333  |  1.0416667 |\n",
       "|  1.5       | 1.7559524  | -0.2559524 |\n",
       "|  3.5       | 3.0535714  |  0.4464286 |\n",
       "|  3.5       | 4.3511905  | -0.8511905 |\n",
       "|  5.5       | 5.6488095  | -0.1488095 |\n",
       "|  5.5       | 6.9464286  | -1.4464286 |\n",
       "|  7.0       | 8.2440476  | -1.2440476 |\n",
       "| 12.0       | 9.5416667  |  2.4583333 |\n",
       "\n"
      ],
      "text/plain": [
       "  y6   previstos residuos  \n",
       "1  1.5 0.4583333  1.0416667\n",
       "2  1.5 1.7559524 -0.2559524\n",
       "3  3.5 3.0535714  0.4464286\n",
       "4  3.5 4.3511905 -0.8511905\n",
       "5  5.5 5.6488095 -0.1488095\n",
       "6  5.5 6.9464286 -1.4464286\n",
       "7  7.0 8.2440476 -1.2440476\n",
       "8 12.0 9.5416667  2.4583333"
      ]
     },
     "metadata": {},
     "output_type": "display_data"
    }
   ],
   "source": [
    "# Cálculo dos resíduos\n",
    "residuos=residuals(ajuste_exe6)\n",
    "previstos=predict(ajuste_exe6)\n",
    "\n",
    "resposta=data.frame(y6,previstos,residuos)\n",
    "resposta"
   ]
  },
  {
   "cell_type": "markdown",
   "metadata": {},
   "source": [
    "$\\color{red}{\\text{Exercício 7}}$ - **Retirado do livro: Análise de Modelos de Regressão Linear com Aplicações, de Charnet, Freire, Charnet e Bonvino** - Repita o exercício anterior, retirando o último ponto. Compare os dois resultados e comente. \n",
    "\n",
    "| x |  1  |  2  |  3  |  4  |  5  |  6  | 7 |\n",
    "|:-:|:---:|:---:|:---:|:---:|:---:|:---:|:-:|\n",
    "| y | 1,5 | 1,5 | 3,5 | 3,5 | 5,5 | 5,5 | 7 |"
   ]
  },
  {
   "cell_type": "code",
   "execution_count": 4,
   "metadata": {},
   "outputs": [
    {
     "data": {
      "text/html": [
       "<table>\n",
       "<thead><tr><th scope=col>x</th><th scope=col>y</th></tr></thead>\n",
       "<tbody>\n",
       "\t<tr><td>1  </td><td>1.5</td></tr>\n",
       "\t<tr><td>2  </td><td>1.5</td></tr>\n",
       "\t<tr><td>3  </td><td>3.5</td></tr>\n",
       "\t<tr><td>4  </td><td>3.5</td></tr>\n",
       "\t<tr><td>5  </td><td>5.5</td></tr>\n",
       "\t<tr><td>6  </td><td>5.5</td></tr>\n",
       "\t<tr><td>7  </td><td>7.0</td></tr>\n",
       "</tbody>\n",
       "</table>\n"
      ],
      "text/latex": [
       "\\begin{tabular}{r|ll}\n",
       " x & y\\\\\n",
       "\\hline\n",
       "\t 1   & 1.5\\\\\n",
       "\t 2   & 1.5\\\\\n",
       "\t 3   & 3.5\\\\\n",
       "\t 4   & 3.5\\\\\n",
       "\t 5   & 5.5\\\\\n",
       "\t 6   & 5.5\\\\\n",
       "\t 7   & 7.0\\\\\n",
       "\\end{tabular}\n"
      ],
      "text/markdown": [
       "\n",
       "| x | y |\n",
       "|---|---|\n",
       "| 1   | 1.5 |\n",
       "| 2   | 1.5 |\n",
       "| 3   | 3.5 |\n",
       "| 4   | 3.5 |\n",
       "| 5   | 5.5 |\n",
       "| 6   | 5.5 |\n",
       "| 7   | 7.0 |\n",
       "\n"
      ],
      "text/plain": [
       "  x y  \n",
       "1 1 1.5\n",
       "2 2 1.5\n",
       "3 3 3.5\n",
       "4 4 3.5\n",
       "5 5 5.5\n",
       "6 6 5.5\n",
       "7 7 7.0"
      ]
     },
     "metadata": {},
     "output_type": "display_data"
    }
   ],
   "source": [
    "                                            #Entrando com os dados\n",
    "x=seq(1,7,by=1)                             #Entrando com os dados de x  \n",
    "y=c(1.5, 1.5, 3.5, 3.5, 5.5, 5.5, 7)        #Entrando com os dados de y\n",
    "exercicio7=data.frame(x,y)                  #Data frame\n",
    "exercicio7                                  #Chamando a base de dados"
   ]
  },
  {
   "cell_type": "code",
   "execution_count": 5,
   "metadata": {},
   "outputs": [
    {
     "data": {
      "text/plain": [
       "\n",
       "Call:\n",
       "lm(formula = y ~ x, data = exercicio7)\n",
       "\n",
       "Residuals:\n",
       "      1       2       3       4       5       6       7 \n",
       " 0.3393 -0.6071  0.4464 -0.5000  0.5536 -0.3929  0.1607 \n",
       "\n",
       "Coefficients:\n",
       "            Estimate Std. Error t value Pr(>|t|)    \n",
       "(Intercept)   0.2143     0.4503   0.476  0.65426    \n",
       "x             0.9464     0.1007   9.399  0.00023 ***\n",
       "---\n",
       "Signif. codes:  0 '***' 0.001 '**' 0.01 '*' 0.05 '.' 0.1 ' ' 1\n",
       "\n",
       "Residual standard error: 0.5328 on 5 degrees of freedom\n",
       "Multiple R-squared:  0.9464,\tAdjusted R-squared:  0.9357 \n",
       "F-statistic: 88.33 on 1 and 5 DF,  p-value: 0.00023\n"
      ]
     },
     "metadata": {},
     "output_type": "display_data"
    }
   ],
   "source": [
    "                                         #Encontrando a reta de regressão pelo método de quadrados mínimos\n",
    "ajuste_exe7=lm(y~x,data=exercicio7)      #Estimação da reta de regressão        \n",
    "summary(ajuste_exe7)                     #Apresetando os resultados "
   ]
  },
  {
   "cell_type": "code",
   "execution_count": 6,
   "metadata": {},
   "outputs": [
    {
     "data": {
      "text/html": [
       "<table>\n",
       "<thead><tr><th scope=col>y</th><th scope=col>previstos</th><th scope=col>residuos</th></tr></thead>\n",
       "<tbody>\n",
       "\t<tr><td>1.5       </td><td>1.160714  </td><td> 0.3392857</td></tr>\n",
       "\t<tr><td>1.5       </td><td>2.107143  </td><td>-0.6071429</td></tr>\n",
       "\t<tr><td>3.5       </td><td>3.053571  </td><td> 0.4464286</td></tr>\n",
       "\t<tr><td>3.5       </td><td>4.000000  </td><td>-0.5000000</td></tr>\n",
       "\t<tr><td>5.5       </td><td>4.946429  </td><td> 0.5535714</td></tr>\n",
       "\t<tr><td>5.5       </td><td>5.892857  </td><td>-0.3928571</td></tr>\n",
       "\t<tr><td>7.0       </td><td>6.839286  </td><td> 0.1607143</td></tr>\n",
       "</tbody>\n",
       "</table>\n"
      ],
      "text/latex": [
       "\\begin{tabular}{r|lll}\n",
       " y & previstos & residuos\\\\\n",
       "\\hline\n",
       "\t 1.5        & 1.160714   &  0.3392857\\\\\n",
       "\t 1.5        & 2.107143   & -0.6071429\\\\\n",
       "\t 3.5        & 3.053571   &  0.4464286\\\\\n",
       "\t 3.5        & 4.000000   & -0.5000000\\\\\n",
       "\t 5.5        & 4.946429   &  0.5535714\\\\\n",
       "\t 5.5        & 5.892857   & -0.3928571\\\\\n",
       "\t 7.0        & 6.839286   &  0.1607143\\\\\n",
       "\\end{tabular}\n"
      ],
      "text/markdown": [
       "\n",
       "| y | previstos | residuos |\n",
       "|---|---|---|\n",
       "| 1.5        | 1.160714   |  0.3392857 |\n",
       "| 1.5        | 2.107143   | -0.6071429 |\n",
       "| 3.5        | 3.053571   |  0.4464286 |\n",
       "| 3.5        | 4.000000   | -0.5000000 |\n",
       "| 5.5        | 4.946429   |  0.5535714 |\n",
       "| 5.5        | 5.892857   | -0.3928571 |\n",
       "| 7.0        | 6.839286   |  0.1607143 |\n",
       "\n"
      ],
      "text/plain": [
       "  y   previstos residuos  \n",
       "1 1.5 1.160714   0.3392857\n",
       "2 1.5 2.107143  -0.6071429\n",
       "3 3.5 3.053571   0.4464286\n",
       "4 3.5 4.000000  -0.5000000\n",
       "5 5.5 4.946429   0.5535714\n",
       "6 5.5 5.892857  -0.3928571\n",
       "7 7.0 6.839286   0.1607143"
      ]
     },
     "metadata": {},
     "output_type": "display_data"
    }
   ],
   "source": [
    "# Cálculo dos resíduos\n",
    "residuos=residuals(ajuste_exe7)\n",
    "previstos=predict(ajuste_exe7)\n",
    "\n",
    "resposta=data.frame(y,previstos,residuos)\n",
    "resposta"
   ]
  },
  {
   "cell_type": "markdown",
   "metadata": {},
   "source": [
    "Observou-se que o coeficiente de determinação aumentou após a retirada dos pontos influentes, ainda observou-se que os valores dos coeficientes das equações de previsão sofreram uma significativa mudança em termos relativos."
   ]
  },
  {
   "cell_type": "markdown",
   "metadata": {},
   "source": [
    "$\\color{red}{\\text{Exercício 8}}$ - **Retirado do livro: Análise de Modelos de Regressão Linear com Aplicações, de Charnet, Freire, Charnet e Bonvino** - Encontre a reta de quadrados mínimos, os valores estimados e os resíduos, para cada um dos seguintes conjuntos de dados: "
   ]
  },
  {
   "cell_type": "markdown",
   "metadata": {},
   "source": [
    "a)\n",
    "\n",
    "| x | 2 | 3 | 4 | 6 |  8  |  9  | 10 | 11 |\n",
    "|:-:|:-:|:-:|:-:|:-:|:---:|:---:|:--:|:--:|\n",
    "| y | 3 | 5 | 7 | 8 | 7,5 | 6,5 |  5 |  3 |"
   ]
  },
  {
   "cell_type": "markdown",
   "metadata": {},
   "source": [
    "b) \n",
    "\n",
    "| x | 1 | 2 | 3 |  4  | 5 |  6  | 7 |  8  | 9 |  10 |  11 | 12 |\n",
    "|:-:|:-:|:-:|:-:|:---:|:-:|:---:|:-:|:---:|:-:|:---:|:---:|:--:|\n",
    "| y | 2 | 3 | 5 | 6,5 | 6 | 5,5 | 5 | 4,5 | 4 | 4,5 | 5,5 |  7 |"
   ]
  },
  {
   "cell_type": "markdown",
   "metadata": {},
   "source": [
    "c)\n",
    "\n",
    "| x | 1 | 2 | 3 | 4 | 5 | 6 | 7 | 8 | 9 | 10 | 11 | 12 | 13 | 14 | 15 |\n",
    "|:-:|:-:|:-:|:-:|:-:|:-:|:-:|:-:|:-:|:-:|:--:|:--:|:--:|:--:|:--:|:--:|\n",
    "| y | 4 | 6 | 3 | 5 | 2 | 4 | 6 | 4 | 5 |  3 |  2 |  5 |  7 |  3 |  5 |"
   ]
  },
  {
   "cell_type": "code",
   "execution_count": 7,
   "metadata": {},
   "outputs": [
    {
     "data": {
      "text/plain": [
       "\n",
       "Call:\n",
       "lm(formula = y_8a ~ x_8a, data = dados_8a)\n",
       "\n",
       "Residuals:\n",
       "    Min      1Q  Median      3Q     Max \n",
       "-2.7348 -1.1616  0.1982  1.4634  2.3384 \n",
       "\n",
       "Coefficients:\n",
       "            Estimate Std. Error t value Pr(>|t|)  \n",
       "(Intercept)  5.78354    1.67607   3.451   0.0136 *\n",
       "x_8a        -0.02439    0.23132  -0.105   0.9195  \n",
       "---\n",
       "Signif. codes:  0 '***' 0.001 '**' 0.01 '*' 0.05 '.' 0.1 ' ' 1\n",
       "\n",
       "Residual standard error: 2.095 on 6 degrees of freedom\n",
       "Multiple R-squared:  0.001849,\tAdjusted R-squared:  -0.1645 \n",
       "F-statistic: 0.01112 on 1 and 6 DF,  p-value: 0.9195\n"
      ]
     },
     "metadata": {},
     "output_type": "display_data"
    }
   ],
   "source": [
    "# A reta estimada é dada abaixo 8a)\n",
    "\n",
    "x_8a=c(2,3,4,5,8,9,10,11)\n",
    "y_8a=c(3,5,7,8,7.5,6.5,5,3)\n",
    "dados_8a=data.frame(x_8a,y_8a)                                        #Data frame \n",
    "ajuste_8a=lm(y_8a~x_8a,data=dados_8a)                           #Ajuste\n",
    "summary(ajuste_8a)                                              #Apresentação dos resultados"
   ]
  },
  {
   "cell_type": "code",
   "execution_count": 8,
   "metadata": {},
   "outputs": [
    {
     "data": {
      "text/html": [
       "<table>\n",
       "<thead><tr><th scope=col>y_8a</th><th scope=col>estimados_8a</th><th scope=col>previstos_8a</th></tr></thead>\n",
       "<tbody>\n",
       "\t<tr><td>3.0       </td><td>5.734756  </td><td>-2.7347561</td></tr>\n",
       "\t<tr><td>5.0       </td><td>5.710366  </td><td>-0.7103659</td></tr>\n",
       "\t<tr><td>7.0       </td><td>5.685976  </td><td> 1.3140244</td></tr>\n",
       "\t<tr><td>8.0       </td><td>5.661585  </td><td> 2.3384146</td></tr>\n",
       "\t<tr><td>7.5       </td><td>5.588415  </td><td> 1.9115854</td></tr>\n",
       "\t<tr><td>6.5       </td><td>5.564024  </td><td> 0.9359756</td></tr>\n",
       "\t<tr><td>5.0       </td><td>5.539634  </td><td>-0.5396341</td></tr>\n",
       "\t<tr><td>3.0       </td><td>5.515244  </td><td>-2.5152439</td></tr>\n",
       "</tbody>\n",
       "</table>\n"
      ],
      "text/latex": [
       "\\begin{tabular}{r|lll}\n",
       " y\\_8a & estimados\\_8a & previstos\\_8a\\\\\n",
       "\\hline\n",
       "\t 3.0        & 5.734756   & -2.7347561\\\\\n",
       "\t 5.0        & 5.710366   & -0.7103659\\\\\n",
       "\t 7.0        & 5.685976   &  1.3140244\\\\\n",
       "\t 8.0        & 5.661585   &  2.3384146\\\\\n",
       "\t 7.5        & 5.588415   &  1.9115854\\\\\n",
       "\t 6.5        & 5.564024   &  0.9359756\\\\\n",
       "\t 5.0        & 5.539634   & -0.5396341\\\\\n",
       "\t 3.0        & 5.515244   & -2.5152439\\\\\n",
       "\\end{tabular}\n"
      ],
      "text/markdown": [
       "\n",
       "| y_8a | estimados_8a | previstos_8a |\n",
       "|---|---|---|\n",
       "| 3.0        | 5.734756   | -2.7347561 |\n",
       "| 5.0        | 5.710366   | -0.7103659 |\n",
       "| 7.0        | 5.685976   |  1.3140244 |\n",
       "| 8.0        | 5.661585   |  2.3384146 |\n",
       "| 7.5        | 5.588415   |  1.9115854 |\n",
       "| 6.5        | 5.564024   |  0.9359756 |\n",
       "| 5.0        | 5.539634   | -0.5396341 |\n",
       "| 3.0        | 5.515244   | -2.5152439 |\n",
       "\n"
      ],
      "text/plain": [
       "  y_8a estimados_8a previstos_8a\n",
       "1 3.0  5.734756     -2.7347561  \n",
       "2 5.0  5.710366     -0.7103659  \n",
       "3 7.0  5.685976      1.3140244  \n",
       "4 8.0  5.661585      2.3384146  \n",
       "5 7.5  5.588415      1.9115854  \n",
       "6 6.5  5.564024      0.9359756  \n",
       "7 5.0  5.539634     -0.5396341  \n",
       "8 3.0  5.515244     -2.5152439  "
      ]
     },
     "metadata": {},
     "output_type": "display_data"
    }
   ],
   "source": [
    "estimados_8a=predict(ajuste_8a)                                       #Estimativa\n",
    "previstos_8a=residuals(ajuste_8a)                                     #Previstos\n",
    "resultados_8a=data.frame(y_8a,estimados_8a,previstos_8a)              \n",
    "resultados_8a                                                         #Resultados"
   ]
  },
  {
   "cell_type": "code",
   "execution_count": 9,
   "metadata": {},
   "outputs": [
    {
     "data": {
      "text/plain": [
       "\n",
       "Call:\n",
       "lm(formula = y_8b ~ x_8b, data = dados_8b)\n",
       "\n",
       "Residuals:\n",
       "    Min      1Q  Median      3Q     Max \n",
       "-1.7885 -1.0061 -0.1189  0.8719  2.1189 \n",
       "\n",
       "Coefficients:\n",
       "            Estimate Std. Error t value Pr(>|t|)   \n",
       "(Intercept)   3.5909     0.7901   4.545  0.00107 **\n",
       "x_8b          0.1976     0.1074   1.840  0.09558 . \n",
       "---\n",
       "Signif. codes:  0 '***' 0.001 '**' 0.01 '*' 0.05 '.' 0.1 ' ' 1\n",
       "\n",
       "Residual standard error: 1.284 on 10 degrees of freedom\n",
       "Multiple R-squared:  0.253,\tAdjusted R-squared:  0.1783 \n",
       "F-statistic: 3.386 on 1 and 10 DF,  p-value: 0.09558\n"
      ]
     },
     "metadata": {},
     "output_type": "display_data"
    }
   ],
   "source": [
    "# A reta estimada é dada abaixo 8b)\n",
    "\n",
    "x_8b=seq(1,12,by=1)\n",
    "y_8b=c(2,3,5,6.5,6,5.5,5,4.5,4,4.5,5.5,7)\n",
    "dados_8b=data.frame(x_8b,y_8b)                                  #Data frame \n",
    "ajuste_8b=lm(y_8b~x_8b,data=dados_8b)                           #Ajuste\n",
    "summary(ajuste_8b)                                              #Apresentação dos resultados"
   ]
  },
  {
   "cell_type": "code",
   "execution_count": 10,
   "metadata": {},
   "outputs": [
    {
     "data": {
      "text/html": [
       "<table>\n",
       "<thead><tr><th scope=col>y_8b</th><th scope=col>estimados_8b</th><th scope=col>previstos_8b</th></tr></thead>\n",
       "<tbody>\n",
       "\t<tr><td>2.0        </td><td>3.788462   </td><td>-1.78846154</td></tr>\n",
       "\t<tr><td>3.0        </td><td>3.986014   </td><td>-0.98601399</td></tr>\n",
       "\t<tr><td>5.0        </td><td>4.183566   </td><td> 0.81643357</td></tr>\n",
       "\t<tr><td>6.5        </td><td>4.381119   </td><td> 2.11888112</td></tr>\n",
       "\t<tr><td>6.0        </td><td>4.578671   </td><td> 1.42132867</td></tr>\n",
       "\t<tr><td>5.5        </td><td>4.776224   </td><td> 0.72377622</td></tr>\n",
       "\t<tr><td>5.0        </td><td>4.973776   </td><td> 0.02622378</td></tr>\n",
       "\t<tr><td>4.5        </td><td>5.171329   </td><td>-0.67132867</td></tr>\n",
       "\t<tr><td>4.0        </td><td>5.368881   </td><td>-1.36888112</td></tr>\n",
       "\t<tr><td>4.5        </td><td>5.566434   </td><td>-1.06643357</td></tr>\n",
       "\t<tr><td>5.5        </td><td>5.763986   </td><td>-0.26398601</td></tr>\n",
       "\t<tr><td>7.0        </td><td>5.961538   </td><td> 1.03846154</td></tr>\n",
       "</tbody>\n",
       "</table>\n"
      ],
      "text/latex": [
       "\\begin{tabular}{r|lll}\n",
       " y\\_8b & estimados\\_8b & previstos\\_8b\\\\\n",
       "\\hline\n",
       "\t 2.0         & 3.788462    & -1.78846154\\\\\n",
       "\t 3.0         & 3.986014    & -0.98601399\\\\\n",
       "\t 5.0         & 4.183566    &  0.81643357\\\\\n",
       "\t 6.5         & 4.381119    &  2.11888112\\\\\n",
       "\t 6.0         & 4.578671    &  1.42132867\\\\\n",
       "\t 5.5         & 4.776224    &  0.72377622\\\\\n",
       "\t 5.0         & 4.973776    &  0.02622378\\\\\n",
       "\t 4.5         & 5.171329    & -0.67132867\\\\\n",
       "\t 4.0         & 5.368881    & -1.36888112\\\\\n",
       "\t 4.5         & 5.566434    & -1.06643357\\\\\n",
       "\t 5.5         & 5.763986    & -0.26398601\\\\\n",
       "\t 7.0         & 5.961538    &  1.03846154\\\\\n",
       "\\end{tabular}\n"
      ],
      "text/markdown": [
       "\n",
       "| y_8b | estimados_8b | previstos_8b |\n",
       "|---|---|---|\n",
       "| 2.0         | 3.788462    | -1.78846154 |\n",
       "| 3.0         | 3.986014    | -0.98601399 |\n",
       "| 5.0         | 4.183566    |  0.81643357 |\n",
       "| 6.5         | 4.381119    |  2.11888112 |\n",
       "| 6.0         | 4.578671    |  1.42132867 |\n",
       "| 5.5         | 4.776224    |  0.72377622 |\n",
       "| 5.0         | 4.973776    |  0.02622378 |\n",
       "| 4.5         | 5.171329    | -0.67132867 |\n",
       "| 4.0         | 5.368881    | -1.36888112 |\n",
       "| 4.5         | 5.566434    | -1.06643357 |\n",
       "| 5.5         | 5.763986    | -0.26398601 |\n",
       "| 7.0         | 5.961538    |  1.03846154 |\n",
       "\n"
      ],
      "text/plain": [
       "   y_8b estimados_8b previstos_8b\n",
       "1  2.0  3.788462     -1.78846154 \n",
       "2  3.0  3.986014     -0.98601399 \n",
       "3  5.0  4.183566      0.81643357 \n",
       "4  6.5  4.381119      2.11888112 \n",
       "5  6.0  4.578671      1.42132867 \n",
       "6  5.5  4.776224      0.72377622 \n",
       "7  5.0  4.973776      0.02622378 \n",
       "8  4.5  5.171329     -0.67132867 \n",
       "9  4.0  5.368881     -1.36888112 \n",
       "10 4.5  5.566434     -1.06643357 \n",
       "11 5.5  5.763986     -0.26398601 \n",
       "12 7.0  5.961538      1.03846154 "
      ]
     },
     "metadata": {},
     "output_type": "display_data"
    }
   ],
   "source": [
    "estimados_8b=predict(ajuste_8b)                                       #Estimativa\n",
    "previstos_8b=residuals(ajuste_8b)                                     #Previstos\n",
    "resultados_8b=data.frame(y_8b,estimados_8b,previstos_8b)              \n",
    "resultados_8b                                                         #Resultados"
   ]
  },
  {
   "cell_type": "code",
   "execution_count": 11,
   "metadata": {},
   "outputs": [
    {
     "data": {
      "text/plain": [
       "\n",
       "Call:\n",
       "lm(formula = y_8c ~ x_8c, data = dados_8c)\n",
       "\n",
       "Residuals:\n",
       "    Min      1Q  Median      3Q     Max \n",
       "-2.3310 -1.2345 -0.1167  0.7655  2.6262 \n",
       "\n",
       "Coefficients:\n",
       "            Estimate Std. Error t value Pr(>|t|)    \n",
       "(Intercept)  4.09524    0.83642   4.896 0.000292 ***\n",
       "x_8c         0.02143    0.09199   0.233 0.819439    \n",
       "---\n",
       "Signif. codes:  0 '***' 0.001 '**' 0.01 '*' 0.05 '.' 0.1 ' ' 1\n",
       "\n",
       "Residual standard error: 1.539 on 13 degrees of freedom\n",
       "Multiple R-squared:  0.004156,\tAdjusted R-squared:  -0.07245 \n",
       "F-statistic: 0.05426 on 1 and 13 DF,  p-value: 0.8194\n"
      ]
     },
     "metadata": {},
     "output_type": "display_data"
    }
   ],
   "source": [
    "# A reta estimada é dada abaixo 8c)\n",
    "\n",
    "x_8c=seq(1,15,by=1)\n",
    "y_8c=c(4,6,3,5,2,4,6,4,5,3,2,5,7,3,5)\n",
    "dados_8c=data.frame(x_8c,y_8c)                                  #Data frame \n",
    "ajuste_8c=lm(y_8c~x_8c,data=dados_8c)                           #Ajuste\n",
    "summary(ajuste_8c)                                              #Apresentação dos resultados"
   ]
  },
  {
   "cell_type": "code",
   "execution_count": 12,
   "metadata": {},
   "outputs": [
    {
     "data": {
      "text/html": [
       "<table>\n",
       "<thead><tr><th scope=col>y_8c</th><th scope=col>estimados_8c</th><th scope=col>previstos_8c</th></tr></thead>\n",
       "<tbody>\n",
       "\t<tr><td>4         </td><td>4.116667  </td><td>-0.1166667</td></tr>\n",
       "\t<tr><td>6         </td><td>4.138095  </td><td> 1.8619048</td></tr>\n",
       "\t<tr><td>3         </td><td>4.159524  </td><td>-1.1595238</td></tr>\n",
       "\t<tr><td>5         </td><td>4.180952  </td><td> 0.8190476</td></tr>\n",
       "\t<tr><td>2         </td><td>4.202381  </td><td>-2.2023810</td></tr>\n",
       "\t<tr><td>4         </td><td>4.223810  </td><td>-0.2238095</td></tr>\n",
       "\t<tr><td>6         </td><td>4.245238  </td><td> 1.7547619</td></tr>\n",
       "\t<tr><td>4         </td><td>4.266667  </td><td>-0.2666667</td></tr>\n",
       "\t<tr><td>5         </td><td>4.288095  </td><td> 0.7119048</td></tr>\n",
       "\t<tr><td>3         </td><td>4.309524  </td><td>-1.3095238</td></tr>\n",
       "\t<tr><td>2         </td><td>4.330952  </td><td>-2.3309524</td></tr>\n",
       "\t<tr><td>5         </td><td>4.352381  </td><td> 0.6476190</td></tr>\n",
       "\t<tr><td>7         </td><td>4.373810  </td><td> 2.6261905</td></tr>\n",
       "\t<tr><td>3         </td><td>4.395238  </td><td>-1.3952381</td></tr>\n",
       "\t<tr><td>5         </td><td>4.416667  </td><td> 0.5833333</td></tr>\n",
       "</tbody>\n",
       "</table>\n"
      ],
      "text/latex": [
       "\\begin{tabular}{r|lll}\n",
       " y\\_8c & estimados\\_8c & previstos\\_8c\\\\\n",
       "\\hline\n",
       "\t 4          & 4.116667   & -0.1166667\\\\\n",
       "\t 6          & 4.138095   &  1.8619048\\\\\n",
       "\t 3          & 4.159524   & -1.1595238\\\\\n",
       "\t 5          & 4.180952   &  0.8190476\\\\\n",
       "\t 2          & 4.202381   & -2.2023810\\\\\n",
       "\t 4          & 4.223810   & -0.2238095\\\\\n",
       "\t 6          & 4.245238   &  1.7547619\\\\\n",
       "\t 4          & 4.266667   & -0.2666667\\\\\n",
       "\t 5          & 4.288095   &  0.7119048\\\\\n",
       "\t 3          & 4.309524   & -1.3095238\\\\\n",
       "\t 2          & 4.330952   & -2.3309524\\\\\n",
       "\t 5          & 4.352381   &  0.6476190\\\\\n",
       "\t 7          & 4.373810   &  2.6261905\\\\\n",
       "\t 3          & 4.395238   & -1.3952381\\\\\n",
       "\t 5          & 4.416667   &  0.5833333\\\\\n",
       "\\end{tabular}\n"
      ],
      "text/markdown": [
       "\n",
       "| y_8c | estimados_8c | previstos_8c |\n",
       "|---|---|---|\n",
       "| 4          | 4.116667   | -0.1166667 |\n",
       "| 6          | 4.138095   |  1.8619048 |\n",
       "| 3          | 4.159524   | -1.1595238 |\n",
       "| 5          | 4.180952   |  0.8190476 |\n",
       "| 2          | 4.202381   | -2.2023810 |\n",
       "| 4          | 4.223810   | -0.2238095 |\n",
       "| 6          | 4.245238   |  1.7547619 |\n",
       "| 4          | 4.266667   | -0.2666667 |\n",
       "| 5          | 4.288095   |  0.7119048 |\n",
       "| 3          | 4.309524   | -1.3095238 |\n",
       "| 2          | 4.330952   | -2.3309524 |\n",
       "| 5          | 4.352381   |  0.6476190 |\n",
       "| 7          | 4.373810   |  2.6261905 |\n",
       "| 3          | 4.395238   | -1.3952381 |\n",
       "| 5          | 4.416667   |  0.5833333 |\n",
       "\n"
      ],
      "text/plain": [
       "   y_8c estimados_8c previstos_8c\n",
       "1  4    4.116667     -0.1166667  \n",
       "2  6    4.138095      1.8619048  \n",
       "3  3    4.159524     -1.1595238  \n",
       "4  5    4.180952      0.8190476  \n",
       "5  2    4.202381     -2.2023810  \n",
       "6  4    4.223810     -0.2238095  \n",
       "7  6    4.245238      1.7547619  \n",
       "8  4    4.266667     -0.2666667  \n",
       "9  5    4.288095      0.7119048  \n",
       "10 3    4.309524     -1.3095238  \n",
       "11 2    4.330952     -2.3309524  \n",
       "12 5    4.352381      0.6476190  \n",
       "13 7    4.373810      2.6261905  \n",
       "14 3    4.395238     -1.3952381  \n",
       "15 5    4.416667      0.5833333  "
      ]
     },
     "metadata": {},
     "output_type": "display_data"
    }
   ],
   "source": [
    "estimados_8c=predict(ajuste_8c)                                       #Estimativa\n",
    "previstos_8c=residuals(ajuste_8c)                                     #Previstos\n",
    "resultados_8c=data.frame(y_8c,estimados_8c,previstos_8c)              \n",
    "resultados_8c                                                         #Resultados"
   ]
  },
  {
   "cell_type": "markdown",
   "metadata": {},
   "source": [
    "$\\color{red}{\\text{Exercício 9}}$ - **Retirado do livro: Análise de Modelos de Regressão Linear com Aplicações, de Charnet, Freire, Charnet e Bonvino** - O número de pontos obtidos por 9 candidatos a um vestibular, nas provas de Matemática e Física na escola de 0 a 100, foram:\n",
    "\n",
    "| Matemática | 66 | 47 | 99 | 99 | 78 | 85 | 82 | 34 | 68 |\n",
    "|:----------:|:--:|:--:|:--:|:--:|:--:|:--:|:--:|:--:|:--:|\n",
    "|   Física   | 50 | 81 | 96 | 99 | 71 | 94 | 77 | 72 | 67 |\n",
    "\n",
    "+ a) Coloque estes pares de valores em um gráfico\n",
    "+ b) Encontre a reta de quadrados mínimos e os resíduos para estes dados."
   ]
  },
  {
   "cell_type": "code",
   "execution_count": 13,
   "metadata": {},
   "outputs": [
    {
     "data": {
      "text/html": [
       "<table>\n",
       "<thead><tr><th scope=col>matematica</th><th scope=col>fisica</th></tr></thead>\n",
       "<tbody>\n",
       "\t<tr><td>66</td><td>50</td></tr>\n",
       "\t<tr><td>47</td><td>81</td></tr>\n",
       "\t<tr><td>99</td><td>96</td></tr>\n",
       "\t<tr><td>99</td><td>99</td></tr>\n",
       "\t<tr><td>78</td><td>71</td></tr>\n",
       "\t<tr><td>85</td><td>94</td></tr>\n",
       "\t<tr><td>82</td><td>77</td></tr>\n",
       "\t<tr><td>34</td><td>72</td></tr>\n",
       "\t<tr><td>68</td><td>67</td></tr>\n",
       "</tbody>\n",
       "</table>\n"
      ],
      "text/latex": [
       "\\begin{tabular}{r|ll}\n",
       " matematica & fisica\\\\\n",
       "\\hline\n",
       "\t 66 & 50\\\\\n",
       "\t 47 & 81\\\\\n",
       "\t 99 & 96\\\\\n",
       "\t 99 & 99\\\\\n",
       "\t 78 & 71\\\\\n",
       "\t 85 & 94\\\\\n",
       "\t 82 & 77\\\\\n",
       "\t 34 & 72\\\\\n",
       "\t 68 & 67\\\\\n",
       "\\end{tabular}\n"
      ],
      "text/markdown": [
       "\n",
       "| matematica | fisica |\n",
       "|---|---|\n",
       "| 66 | 50 |\n",
       "| 47 | 81 |\n",
       "| 99 | 96 |\n",
       "| 99 | 99 |\n",
       "| 78 | 71 |\n",
       "| 85 | 94 |\n",
       "| 82 | 77 |\n",
       "| 34 | 72 |\n",
       "| 68 | 67 |\n",
       "\n"
      ],
      "text/plain": [
       "  matematica fisica\n",
       "1 66         50    \n",
       "2 47         81    \n",
       "3 99         96    \n",
       "4 99         99    \n",
       "5 78         71    \n",
       "6 85         94    \n",
       "7 82         77    \n",
       "8 34         72    \n",
       "9 68         67    "
      ]
     },
     "metadata": {},
     "output_type": "display_data"
    }
   ],
   "source": [
    "#Entrando com a base de dados\n",
    "matematica=c(66,47,99,99,78,85,82,34,68)\n",
    "fisica=c(50,81,96,99,71,94,77,72,67)\n",
    "\n",
    "dados=data.frame(matematica,fisica)\n",
    "dados"
   ]
  },
  {
   "cell_type": "code",
   "execution_count": 14,
   "metadata": {},
   "outputs": [
    {
     "data": {
      "image/png": "[encoded data removed]",
      "text/plain": [
       "plot without title"
      ]
     },
     "metadata": {},
     "output_type": "display_data"
    }
   ],
   "source": [
    "#Gráfico dos pontos das disciplinas de matematica e física\n",
    "plot(fisica,matematica)"
   ]
  },
  {
   "cell_type": "code",
   "execution_count": 15,
   "metadata": {},
   "outputs": [
    {
     "data": {
      "text/plain": [
       "\n",
       "Call:\n",
       "lm(formula = matematica ~ fisica, data = dados)\n",
       "\n",
       "Residuals:\n",
       "    Min      1Q  Median      3Q     Max \n",
       "-34.017  -0.114  10.001  10.761  15.081 \n",
       "\n",
       "Coefficients:\n",
       "            Estimate Std. Error t value Pr(>|t|)\n",
       "(Intercept)  12.0623    34.6612   0.348    0.738\n",
       "fisica        0.7771     0.4334   1.793    0.116\n",
       "\n",
       "Residual standard error: 19.47 on 7 degrees of freedom\n",
       "Multiple R-squared:  0.3147,\tAdjusted R-squared:  0.2168 \n",
       "F-statistic: 3.215 on 1 and 7 DF,  p-value: 0.1161\n"
      ]
     },
     "metadata": {},
     "output_type": "display_data"
    }
   ],
   "source": [
    "# Supondo que matemática seja o termo dependente (Y), abaixo é apresentado a reta de regressão\n",
    "\n",
    "ajuste=lm(matematica~fisica,data=dados)\n",
    "summary(ajuste)"
   ]
  },
  {
   "cell_type": "markdown",
   "metadata": {},
   "source": [
    "Portanto, temos: $\\hat{y}=12,0623+0,7771\\cdot X$, com um coeficiente de determinação de 31,47%, também é possível salientar que o modelo não é considerado significativo a um nível de 5% de significância."
   ]
  },
  {
   "cell_type": "code",
   "execution_count": 16,
   "metadata": {},
   "outputs": [
    {
     "data": {
      "text/html": [
       "<table>\n",
       "<thead><tr><th scope=col>matematica</th><th scope=col>previstos</th><th scope=col>residuos</th></tr></thead>\n",
       "<tbody>\n",
       "\t<tr><td>66         </td><td>50.91940   </td><td> 15.0805990</td></tr>\n",
       "\t<tr><td>47         </td><td>75.01079   </td><td>-28.0107906</td></tr>\n",
       "\t<tr><td>99         </td><td>86.66791   </td><td> 12.3320854</td></tr>\n",
       "\t<tr><td>99         </td><td>88.99934   </td><td> 10.0006606</td></tr>\n",
       "\t<tr><td>78         </td><td>67.23937   </td><td> 10.7606254</td></tr>\n",
       "\t<tr><td>85         </td><td>85.11363   </td><td> -0.1136314</td></tr>\n",
       "\t<tr><td>82         </td><td>71.90222   </td><td> 10.0977758</td></tr>\n",
       "\t<tr><td>34         </td><td>68.01652   </td><td>-34.0165162</td></tr>\n",
       "\t<tr><td>68         </td><td>64.13081   </td><td>  3.8691918</td></tr>\n",
       "</tbody>\n",
       "</table>\n"
      ],
      "text/latex": [
       "\\begin{tabular}{r|lll}\n",
       " matematica & previstos & residuos\\\\\n",
       "\\hline\n",
       "\t 66          & 50.91940    &  15.0805990\\\\\n",
       "\t 47          & 75.01079    & -28.0107906\\\\\n",
       "\t 99          & 86.66791    &  12.3320854\\\\\n",
       "\t 99          & 88.99934    &  10.0006606\\\\\n",
       "\t 78          & 67.23937    &  10.7606254\\\\\n",
       "\t 85          & 85.11363    &  -0.1136314\\\\\n",
       "\t 82          & 71.90222    &  10.0977758\\\\\n",
       "\t 34          & 68.01652    & -34.0165162\\\\\n",
       "\t 68          & 64.13081    &   3.8691918\\\\\n",
       "\\end{tabular}\n"
      ],
      "text/markdown": [
       "\n",
       "| matematica | previstos | residuos |\n",
       "|---|---|---|\n",
       "| 66          | 50.91940    |  15.0805990 |\n",
       "| 47          | 75.01079    | -28.0107906 |\n",
       "| 99          | 86.66791    |  12.3320854 |\n",
       "| 99          | 88.99934    |  10.0006606 |\n",
       "| 78          | 67.23937    |  10.7606254 |\n",
       "| 85          | 85.11363    |  -0.1136314 |\n",
       "| 82          | 71.90222    |  10.0977758 |\n",
       "| 34          | 68.01652    | -34.0165162 |\n",
       "| 68          | 64.13081    |   3.8691918 |\n",
       "\n"
      ],
      "text/plain": [
       "  matematica previstos residuos   \n",
       "1 66         50.91940   15.0805990\n",
       "2 47         75.01079  -28.0107906\n",
       "3 99         86.66791   12.3320854\n",
       "4 99         88.99934   10.0006606\n",
       "5 78         67.23937   10.7606254\n",
       "6 85         85.11363   -0.1136314\n",
       "7 82         71.90222   10.0977758\n",
       "8 34         68.01652  -34.0165162\n",
       "9 68         64.13081    3.8691918"
      ]
     },
     "metadata": {},
     "output_type": "display_data"
    }
   ],
   "source": [
    "#Os resíduos são apresentados a seguir:\n",
    "\n",
    "residuos=residuals(ajuste)                           #Residuos\n",
    "previstos=predict(ajuste)                            #Valores previstos\n",
    "resultado=data.frame(matematica,previstos,residuos)  #Data frame\n",
    "resultado"
   ]
  },
  {
   "cell_type": "markdown",
   "metadata": {},
   "source": [
    "$\\color{red}{\\text{Exercício 10}}$ - **Retirado do livro: Análise de Modelos de Regressão Linear com Aplicações, de Charnet, Freire, Charnet e Bonvino** - Em um estudo sobre o efeito do carbono contido (em porcentagem), em fios de aço em resistência elétrica, na unidade de $\\mu$ ohms com a 20 graus C, foram obtidos os seguintes resultados:\n",
    "\n",
    "| Carbono Contido | Resistência | Carbono Contido | Resistência |\n",
    "|:---------------:|:-----------:|:---------------:|:-----------:|\n",
    "|       0,05      |     12,3    |       0,55      |     21,2    |\n",
    "|       0,10      |     15,0    |       0,60      |     21,9    |\n",
    "|       0,15      |     15,7    |       0,70      |     22,6    |\n",
    "|       0,20      |     16,2    |       0,80      |     23,8    |\n",
    "|       0,25      |     17,1    |       0,85      |     24,2    |\n",
    "|       0,30      |     18,0    |       0,90      |     25,3    |\n",
    "|       0,40      |     19,2    |       0,95      |     26,0    |\n",
    "|       0,50      |     20,4    |                 |             |\n",
    "\n",
    "Encontre a equação de quandrados mínimos, coloque os dados em um gráfico e trace a reta encontrada."
   ]
  },
  {
   "cell_type": "code",
   "execution_count": 17,
   "metadata": {},
   "outputs": [
    {
     "data": {
      "text/html": [
       "<table>\n",
       "<thead><tr><th scope=col>carbono</th><th scope=col>resist</th></tr></thead>\n",
       "<tbody>\n",
       "\t<tr><td>0.05</td><td>12.3</td></tr>\n",
       "\t<tr><td>0.10</td><td>15.0</td></tr>\n",
       "\t<tr><td>0.15</td><td>15.7</td></tr>\n",
       "\t<tr><td>0.20</td><td>16.2</td></tr>\n",
       "\t<tr><td>0.25</td><td>17.1</td></tr>\n",
       "\t<tr><td>0.30</td><td>18.0</td></tr>\n",
       "\t<tr><td>0.40</td><td>19.2</td></tr>\n",
       "\t<tr><td>0.50</td><td>20.4</td></tr>\n",
       "\t<tr><td>0.55</td><td>21.2</td></tr>\n",
       "\t<tr><td>0.60</td><td>21.9</td></tr>\n",
       "\t<tr><td>0.70</td><td>22.6</td></tr>\n",
       "\t<tr><td>0.80</td><td>23.8</td></tr>\n",
       "\t<tr><td>0.85</td><td>24.2</td></tr>\n",
       "\t<tr><td>0.90</td><td>25.3</td></tr>\n",
       "\t<tr><td>0.95</td><td>26.0</td></tr>\n",
       "</tbody>\n",
       "</table>\n"
      ],
      "text/latex": [
       "\\begin{tabular}{r|ll}\n",
       " carbono & resist\\\\\n",
       "\\hline\n",
       "\t 0.05 & 12.3\\\\\n",
       "\t 0.10 & 15.0\\\\\n",
       "\t 0.15 & 15.7\\\\\n",
       "\t 0.20 & 16.2\\\\\n",
       "\t 0.25 & 17.1\\\\\n",
       "\t 0.30 & 18.0\\\\\n",
       "\t 0.40 & 19.2\\\\\n",
       "\t 0.50 & 20.4\\\\\n",
       "\t 0.55 & 21.2\\\\\n",
       "\t 0.60 & 21.9\\\\\n",
       "\t 0.70 & 22.6\\\\\n",
       "\t 0.80 & 23.8\\\\\n",
       "\t 0.85 & 24.2\\\\\n",
       "\t 0.90 & 25.3\\\\\n",
       "\t 0.95 & 26.0\\\\\n",
       "\\end{tabular}\n"
      ],
      "text/markdown": [
       "\n",
       "| carbono | resist |\n",
       "|---|---|\n",
       "| 0.05 | 12.3 |\n",
       "| 0.10 | 15.0 |\n",
       "| 0.15 | 15.7 |\n",
       "| 0.20 | 16.2 |\n",
       "| 0.25 | 17.1 |\n",
       "| 0.30 | 18.0 |\n",
       "| 0.40 | 19.2 |\n",
       "| 0.50 | 20.4 |\n",
       "| 0.55 | 21.2 |\n",
       "| 0.60 | 21.9 |\n",
       "| 0.70 | 22.6 |\n",
       "| 0.80 | 23.8 |\n",
       "| 0.85 | 24.2 |\n",
       "| 0.90 | 25.3 |\n",
       "| 0.95 | 26.0 |\n",
       "\n"
      ],
      "text/plain": [
       "   carbono resist\n",
       "1  0.05    12.3  \n",
       "2  0.10    15.0  \n",
       "3  0.15    15.7  \n",
       "4  0.20    16.2  \n",
       "5  0.25    17.1  \n",
       "6  0.30    18.0  \n",
       "7  0.40    19.2  \n",
       "8  0.50    20.4  \n",
       "9  0.55    21.2  \n",
       "10 0.60    21.9  \n",
       "11 0.70    22.6  \n",
       "12 0.80    23.8  \n",
       "13 0.85    24.2  \n",
       "14 0.90    25.3  \n",
       "15 0.95    26.0  "
      ]
     },
     "metadata": {},
     "output_type": "display_data"
    }
   ],
   "source": [
    "#Entrando com os dados\n",
    "carbono=c(0.05,0.10,0.15, 0.2,0.25,0.3,0.4,0.5,0.55,0.6,0.7,0.8,0.85,0.9,0.95)\n",
    "resist=c(12.3,15,15.7,16.2,17.1,18,19.2,20.4,21.2,21.9,22.6,23.8,24.2,25.3,26)\n",
    "dados=data.frame(carbono,resist)\n",
    "dados"
   ]
  },
  {
   "cell_type": "code",
   "execution_count": 18,
   "metadata": {},
   "outputs": [
    {
     "data": {
      "text/plain": [
       "\n",
       "Call:\n",
       "lm(formula = carbono ~ resist, data = dados)\n",
       "\n",
       "Residuals:\n",
       "     Min       1Q   Median       3Q      Max \n",
       "-0.04519 -0.02964 -0.02142  0.01807  0.12335 \n",
       "\n",
       "Coefficients:\n",
       "             Estimate Std. Error t value Pr(>|t|)    \n",
       "(Intercept) -0.976533   0.060319  -16.19 5.37e-10 ***\n",
       "resist       0.073429   0.002968   24.74 2.56e-12 ***\n",
       "---\n",
       "Signif. codes:  0 '***' 0.001 '**' 0.01 '*' 0.05 '.' 0.1 ' ' 1\n",
       "\n",
       "Residual standard error: 0.04582 on 13 degrees of freedom\n",
       "Multiple R-squared:  0.9792,\tAdjusted R-squared:  0.9776 \n",
       "F-statistic:   612 on 1 and 13 DF,  p-value: 2.559e-12\n"
      ]
     },
     "metadata": {},
     "output_type": "display_data"
    }
   ],
   "source": [
    "  #Equação de quadrados mínimos\n",
    "ajuste=lm(carbono~resist,data=dados)\n",
    "summary(ajuste)"
   ]
  },
  {
   "cell_type": "markdown",
   "metadata": {},
   "source": [
    "A equação de quadrados mínimos é apresentada a seguir por $\\hat{y}=-0.976533+0,073429\\cdot X$."
   ]
  },
  {
   "cell_type": "code",
   "execution_count": 19,
   "metadata": {},
   "outputs": [
    {
     "data": {
      "image/png": "[encoded data removed]",
      "text/plain": [
       "plot without title"
      ]
     },
     "metadata": {},
     "output_type": "display_data"
    }
   ],
   "source": [
    "#A reta estimada para os dados é apresentada a seguir\n",
    "\n",
    "plot(carbono~resist,pch=16,data=dados)\n",
    "abline(ajuste,col=\"red\")"
   ]
  }
 ],
 "metadata": {
  "kernelspec": {
   "display_name": "R",
   "language": "R",
   "name": "ir"
  },
  "language_info": {
   "codemirror_mode": "r",
   "file_extension": ".r",
   "mimetype": "text/x-r-source",
   "name": "R",
   "pygments_lexer": "r",
   "version": "3.6.1"
  }
 },
 "nbformat": 4,
 "nbformat_minor": 4
}
