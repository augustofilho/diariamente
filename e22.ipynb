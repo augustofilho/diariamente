{
 "cells": [
  {
   "cell_type": "markdown",
   "metadata": {},
   "source": [
    "# Day 22:30 daily statistics - Comparando dois Modelos P2"
   ]
  },
  {
   "cell_type": "markdown",
   "metadata": {},
   "source": [
    "$\\color{red}{\\text{Exercício 2}}$ - **Retirado do livro: Análise de Modelos de Regressão Linear com Aplicações, de Charnet, Freire, Charnet e Bonvino** - Um experimento foi realizado com a finalidade de se estudar a relação entre a porcentagem de impurezas dentro de um reator químico e o tempo de permanência da substância dentro desse reator, até que o processo químico esteja terminado. Foram usados dois tipos de reatores designados por I e II, respectivamente. Pesquisadores da área acreditam que as impurezas afetam os tempos de permanência, de forma que quanto menos impurezas menor o tempo de permanência da substância dentro do reator. A tabela a seguir apresenta os dados coletados sobre o tempo (em minutos) e o logaritmo natural da porcentagem de impurezas.  \n",
    "\n",
    "| Reatores |  Reatores | Reatores |  Reatores |\n",
    "|:--------:|:---------:|:--------:|:---------:|\n",
    "|     I    |     I     |    II    |     II    |\n",
    "|   Tempo  | Impurezas |   Tempo  | Impurezas |\n",
    "|   33,9   |  -4,6011  |   30,4   |  -2,8473  |\n",
    "|   32,9   |  -4,5791  |   30,0   |  -2,6173  |\n",
    "|   32,7   |  -3,9769  |   31,0   |  -2,7969  |\n",
    "|   33,9   |  -4,7702  |   29,8   |  -2,5383  |\n",
    "|   35,5   |  -6,1052  |   31,7   |  -3,5066  |\n",
    "|   32,7   |  -4,4565  |   31,9   |  -3,5066  |\n",
    "|   33,1   |  -5,0066  |   29,1   |  -2,3645  |\n",
    "|   35,1   |  -6,3283  |   32,5   |  -4,0174  |\n",
    "|   37,3   |  -7,3091  |   30,5   |  -3,4122  |\n",
    "|   37,3   |  -6,2105  |   30,2   |  -3,3242  |\n",
    "\n",
    "\n",
    "+ a) Ajuste um MRLS que explique os tempos em termos das impurezas, para cada tipo de reator;\n",
    "+ b) Calcule o coeficiente de determinação para cada um dos modelos;\n",
    "+ c) Comente o valor das estimativas das inclinações dos dois modelos em termos da afirmação feita pelos pesquisadores, de como as impurezas afetariam os tempos;\n",
    "+ d) Compare os dois modelos e verifique se é necessário o ajuste de um modelo para cada tipo de reator."
   ]
  },
  {
   "cell_type": "markdown",
   "metadata": {},
   "source": [
    "$\\color{red}{\\text{a) }}$ **Ajuste um MRLS que explique os tempos em termos das impurezas, para cada tipo de reator**"
   ]
  },
  {
   "cell_type": "code",
   "execution_count": 43,
   "metadata": {},
   "outputs": [
    {
     "data": {
      "text/html": [
       "<table>\n",
       "<thead><tr><th scope=col>tempo1</th><th scope=col>impurezas1</th><th scope=col>tempo2</th><th scope=col>impurezas2</th></tr></thead>\n",
       "<tbody>\n",
       "\t<tr><td>33.9   </td><td>-4.6011</td><td>30.4   </td><td>-2.8473</td></tr>\n",
       "\t<tr><td>32.9   </td><td>-4.5791</td><td>30.0   </td><td>-2.6173</td></tr>\n",
       "\t<tr><td>32.7   </td><td>-3.9769</td><td>31.0   </td><td>-2.7969</td></tr>\n",
       "\t<tr><td>33.9   </td><td>-4.7702</td><td>29.8   </td><td>-2.5383</td></tr>\n",
       "\t<tr><td>35.5   </td><td>-6.1052</td><td>31.7   </td><td>-3.5066</td></tr>\n",
       "\t<tr><td>32.7   </td><td>-4.4565</td><td>31.9   </td><td>-3.5066</td></tr>\n",
       "</tbody>\n",
       "</table>\n"
      ],
      "text/latex": [
       "\\begin{tabular}{r|llll}\n",
       " tempo1 & impurezas1 & tempo2 & impurezas2\\\\\n",
       "\\hline\n",
       "\t 33.9    & -4.6011 & 30.4    & -2.8473\\\\\n",
       "\t 32.9    & -4.5791 & 30.0    & -2.6173\\\\\n",
       "\t 32.7    & -3.9769 & 31.0    & -2.7969\\\\\n",
       "\t 33.9    & -4.7702 & 29.8    & -2.5383\\\\\n",
       "\t 35.5    & -6.1052 & 31.7    & -3.5066\\\\\n",
       "\t 32.7    & -4.4565 & 31.9    & -3.5066\\\\\n",
       "\\end{tabular}\n"
      ],
      "text/markdown": [
       "\n",
       "| tempo1 | impurezas1 | tempo2 | impurezas2 |\n",
       "|---|---|---|---|\n",
       "| 33.9    | -4.6011 | 30.4    | -2.8473 |\n",
       "| 32.9    | -4.5791 | 30.0    | -2.6173 |\n",
       "| 32.7    | -3.9769 | 31.0    | -2.7969 |\n",
       "| 33.9    | -4.7702 | 29.8    | -2.5383 |\n",
       "| 35.5    | -6.1052 | 31.7    | -3.5066 |\n",
       "| 32.7    | -4.4565 | 31.9    | -3.5066 |\n",
       "\n"
      ],
      "text/plain": [
       "  tempo1 impurezas1 tempo2 impurezas2\n",
       "1 33.9   -4.6011    30.4   -2.8473   \n",
       "2 32.9   -4.5791    30.0   -2.6173   \n",
       "3 32.7   -3.9769    31.0   -2.7969   \n",
       "4 33.9   -4.7702    29.8   -2.5383   \n",
       "5 35.5   -6.1052    31.7   -3.5066   \n",
       "6 32.7   -4.4565    31.9   -3.5066   "
      ]
     },
     "metadata": {},
     "output_type": "display_data"
    }
   ],
   "source": [
    "#Entrada de dados\n",
    "dados=read.csv2(\"reatores.csv\",header=T,dec=\",\")\n",
    "head(dados)\n"
   ]
  },
  {
   "cell_type": "code",
   "execution_count": 44,
   "metadata": {},
   "outputs": [
    {
     "data": {
      "text/plain": [
       "\n",
       "Call:\n",
       "lm(formula = tempo1 ~ impurezas1, data = dados)\n",
       "\n",
       "Residuals:\n",
       "    Min      1Q  Median      3Q     Max \n",
       "-0.8524 -0.4009 -0.1288  0.3237  1.5269 \n",
       "\n",
       "Coefficients:\n",
       "            Estimate Std. Error t value Pr(>|t|)    \n",
       "(Intercept)  26.3234     1.2847  20.489 3.37e-08 ***\n",
       "impurezas1   -1.5216     0.2366  -6.432 0.000202 ***\n",
       "---\n",
       "Signif. codes:  0 '***' 0.001 '**' 0.01 '*' 0.05 '.' 0.1 ' ' 1\n",
       "\n",
       "Residual standard error: 0.7627 on 8 degrees of freedom\n",
       "Multiple R-squared:  0.838,\tAdjusted R-squared:  0.8177 \n",
       "F-statistic: 41.37 on 1 and 8 DF,  p-value: 0.0002021\n"
      ]
     },
     "metadata": {},
     "output_type": "display_data"
    }
   ],
   "source": [
    "#Ajuste do modelo linear para o Reator I\n",
    "ajuste1=lm(tempo1~impurezas1,data=dados)\n",
    "summary(ajuste1)"
   ]
  },
  {
   "cell_type": "markdown",
   "metadata": {},
   "source": [
    "O modelo estimado para o reator I é dado por $\\hat{y}=26,32-1,5216\\cdot Impurezas$$_1$."
   ]
  },
  {
   "cell_type": "code",
   "execution_count": 45,
   "metadata": {},
   "outputs": [
    {
     "data": {
      "text/plain": [
       "\n",
       "Call:\n",
       "lm(formula = tempo2 ~ impurezas2, data = dados)\n",
       "\n",
       "Residuals:\n",
       "    Min      1Q  Median      3Q     Max \n",
       "-0.9044 -0.2656  0.1058  0.2664  0.7956 \n",
       "\n",
       "Coefficients:\n",
       "            Estimate Std. Error t value Pr(>|t|)    \n",
       "(Intercept)  25.4311     1.1025  23.066 1.32e-08 ***\n",
       "impurezas2   -1.7066     0.3518  -4.852  0.00127 ** \n",
       "---\n",
       "Signif. codes:  0 '***' 0.001 '**' 0.01 '*' 0.05 '.' 0.1 ' ' 1\n",
       "\n",
       "Residual standard error: 0.5633 on 8 degrees of freedom\n",
       "Multiple R-squared:  0.7463,\tAdjusted R-squared:  0.7146 \n",
       "F-statistic: 23.54 on 1 and 8 DF,  p-value: 0.001269\n"
      ]
     },
     "metadata": {},
     "output_type": "display_data"
    }
   ],
   "source": [
    "#Modelo ajustado para o reator II\n",
    "\n",
    "ajuste2=lm(tempo2~impurezas2, data=dados)\n",
    "summary(ajuste2)"
   ]
  },
  {
   "cell_type": "markdown",
   "metadata": {},
   "source": [
    "O modelo ajustado para o reator II é dado por $\\hat{y}=25,43-1,7066Impurezas_2$"
   ]
  },
  {
   "cell_type": "markdown",
   "metadata": {},
   "source": [
    "$\\color{red}{\\text{b) }}$ **Calcule o coeficiente de determinação para cada um dos modelos**"
   ]
  },
  {
   "cell_type": "code",
   "execution_count": 46,
   "metadata": {},
   "outputs": [
    {
     "name": "stderr",
     "output_type": "stream",
     "text": [
      "The following objects are masked from dados (pos = 7):\n",
      "\n",
      "    impurezas1, impurezas2, tempo1, tempo2\n",
      "\n"
     ]
    },
    {
     "name": "stdout",
     "output_type": "stream",
     "text": [
      "O coeficiente de determinação para o reator I é dado por 83.8 % \n",
      "\n",
      "O coeficiente de determinação para o reator I é dado por 83.8 % \n",
      "\n",
      "O coeficiente de determinação para o reator II é dado por 74.63 % \n",
      "\n"
     ]
    }
   ],
   "source": [
    "#O coeficiente de determinação para o reator I é dado por\n",
    "attach(dados)\n",
    "\n",
    "#Método I\n",
    "r2_reatorI=cor(tempo1,impurezas1)^2\n",
    "cat(\"O coeficiente de determinação para o reator I é dado por\",round(r2_reatorI*100,2),\"%\",\"\\n\\n\")\n",
    "\n",
    "#Método II\n",
    "rdois=summary(ajuste1)\n",
    "cat(\"O coeficiente de determinação para o reator I é dado por\",round(rdois$r.squared*100,2),\"%\",\"\\n\\n\")\n",
    "\n",
    "\n",
    "\n",
    "#O coeficiente de determinação para o reator II é dado por\n",
    "r2_reatorII=cor(tempo2,impurezas2)^2\n",
    "cat(\"O coeficiente de determinação para o reator II é dado por\",round(r2_reatorII*100,2),\"%\",\"\\n\\n\")"
   ]
  },
  {
   "cell_type": "markdown",
   "metadata": {},
   "source": [
    "$\\color{red}{\\text{c) }}$ **Comente o valor das estimativas das inclinações dos dois modelos em termos da afirmação feita pelos pesquisadores, de como as impurezas afetariam os tempos.**\n",
    "\n",
    "\n",
    "Para o modelo estimado para o reator I, é possível concluir através do modelo estimado $\\hat{y}=26,32-1,5216\\cdot Impurezas_1$ que a cada aumento de uma unidade nas impurezas a taxa média do tempo estimado diminui em 1.5216.  Para o modelo estimado para o reator II, é possível concluir através do modelo estimado $\\hat{y}=25,43-1,7066\\cdot Impurezas_2$, que a cada aumento de uma unidade nas impurezas a taxa média do tempo do reator II diminui em média de 1,7066."
   ]
  },
  {
   "cell_type": "markdown",
   "metadata": {},
   "source": [
    "$\\color{red}{\\text{d) }}$ **Compare os dois modelos e verifique se é necessário o ajuste de um modelo para caa tipo de reator**\n",
    "\n",
    "Os coeficientes de determinação para cada modelo são da ordem de 80%, não sendo necessário a criação de um modelo único para estimar o tempo em função da impurezas dos reatores. "
   ]
  },
  {
   "cell_type": "markdown",
   "metadata": {},
   "source": [
    "$\\color{red}{\\text{Exercício 3}}$ - **Retirado do livro: Análise de Modelos de Regressão Linear com Aplicações, de Charnet, Freire, Charnet e Bonvino** - Na tabela a seguir estão apresentados alguns resultaods do Vestibular 98 da Unicamp, por curso. As variáveis apresentadas são:\n",
    "\n",
    "+ Relação candidato/vaga (C/V) para a primeira fase do Vestibular;\n",
    "+ Notas médias das provas de Química (NQ), Matemática (NM) e História (NH), na segunda fase do Vestibular;\n",
    "+ Período (Per) em que é oferecido o curso: diurno (D) ou noturno (V);\n",
    "+ Disciplina prioritária para o curso, Química (QP), Matemática (MP) e História (HP): sim (S) ou não (N).\n",
    "\n",
    "|         Cursos        | Per. |  C/V  |   NQ  | QP |   NM  | MP |   NH  | HP |\n",
    "|:---------------------:|:----:|:-----:|:-----:|:--:|:-----:|:--:|:-----:|:--:|\n",
    "|     Artes cênicas     |   D  | 15.08 | 22.06 |  N | 15.92 |  N | 25.11 |  N |\n",
    "|     C. Computação     |   V  | 29.60 | 29.33 |  N | 24.41 |  N | 23.94 |  N |\n",
    "|     C. biológicas     |   D  | 37.83 | 31.18 |  N | 20.21 |  N | 26.07 |  N |\n",
    "|     C. biológicas     |   V  |  9.45 | 24.61 |  N | 15.54 |  N | 21.88 |  N |\n",
    "|     C. econômicas     |   D  | 16.94 | 26.74 |  N | 22.22 |  S | 28.96 |  S |\n",
    "|     C. econômicas     |   V  | 12.43 | 25.43 |  N | 21.05 |  S | 28.53 |  S |\n",
    "|    Ciências sociais   |   D  |  6.92 | 22.24 |  N | 15.73 |  N | 29.47 |  S |\n",
    "|    Ciências sociais   |   V  |  6.22 | 13.42 |  N | 10.91 |  N | 24.33 |  S |\n",
    "|         Dança         |   D  |  6.64 | 13.98 |  N | 10.78 |  N | 18.05 |  N |\n",
    "|     Ed. artística     |   D  |  8.60 | 16.77 |  N | 13.54 |  N | 22.01 |  N |\n",
    "|    Educação física    |   D  | 13.26 | 23.10 |  N | 16.02 |  N | 21.20 |  N |\n",
    "|    Educação física    |   V  |  7.66 | 15.10 |  N | 11.92 |  N | 17.59 |  N |\n",
    "|       Enfermagem      |   D  | 20.43 | 27.04 |  N | 17.19 |  N | 24.16 |  N |\n",
    "|      E. agrícola      |   D  |  5.93 | 20.66 |  N | 15.39 |  S | 19.95 |  N |\n",
    "|      E. alimentos     |   D  | 17.70 | 31.81 |  N | 23.25 |  S | 24.47 |  N |\n",
    "|      E. alimentos     |   V  | 16.73 | 30.78 |  N | 21.75 |  S | 23.09 |  N |\n",
    "|        E. civil       |   D  | 13.19 | 30.34 |  N | 25.89 |  S | 24.97 |  N |\n",
    "|    E. c. automação    |   V  | 26.08 | 30.09 |  N | 23.81 |  S | 23.66 |  N |\n",
    "|     E. computação     |   D  | 20.02 | 34.53 |  N | 27.41 |  S | 25.42 |  N |\n",
    "|      E. elétrica      |   D  | 15.44 | 34.89 |  N | 27.84 |  S | 25.34 |  N |\n",
    "|      E. elétrica      |   V  | 13.80 | 26.65 |  N | 23.94 |  S | 22.12 |  N |\n",
    "|      E. mecânica      |   D  | 17.10 | 33.57 |  N | 26.55 |  S | 25.25 |  N |\n",
    "|       E. química      |   D  | 10.62 | 36.20 |  S | 25.72 |  S | 24.70 |  N |\n",
    "|       E. química      |   V  |  7.20 | 35.21 |  S | 19.79 |  S | 22.18 |  N |\n",
    "|      Estatística      |   D  |  4.31 | 13.76 |  N | 12.19 |  S | 14.88 |  N |\n",
    "|       Filosofia       |   D  |  4.40 | 13.11 |  N | 12.16 |  S | 21.53 |  S |\n",
    "|         Física        |   V  |  4.40 | 17.95 |  N | 13.97 |  S | 17.50 |  N |\n",
    "|    F/M/M. aplicada    |   D  |  3.39 | 26.57 |  N | 22.90 |  S | 21.41 |  N |\n",
    "|       Geografia       |   V  |  3.07 | 11.21 |  N |  9.15 |  N | 20.48 |  N |\n",
    "|   Geologia/Geografia  |   D  |  6.07 | 16.92 |  N | 11.84 |  N | 22.29 |  N |\n",
    "|        História       |   D  | 11.83 | 21.16 |  N | 15.17 |  N | 30.28 |  S |\n",
    "|  Letras e linguística |   D  |  7.56 | 17.99 |  N | 12.80 |  N | 24.28 |  S |\n",
    "|   Mat. licenciatura   |   V  |  2.89 | 12.39 |  N | 12.38 |  S | 14.46 |  N |\n",
    "|        Medicina       |   D  | 84.34 | 40.41 |  S | 28.58 |  N | 31.63 |  N |\n",
    "|   Mús. - composição   |   D  |  2.30 | 14.67 |  N | 10.83 |  N | 18.50 |  N |\n",
    "|   Mús. - instrumento  |   D  |  4.00 |  9.37 |  N |  7.86 |  N | 13.05 |  N |\n",
    "|     Mús. - popular    |   D  |  9.00 | 22.20 |  N | 16.85 |  N | 24.22 |  N |\n",
    "|    Mús. - regência    |   D  |  2.30 | 12.00 |  N |  9.39 |  N | 17.56 |  N |\n",
    "|      Odontologia      |   D  | 30.54 | 31.18 |  S | 20.53 |  N | 24.72 |  N |\n",
    "|       Pedagogia       |   D  |  5.27 | 11.49 |  N |  9.01 |  N | 18.87 |  S |\n",
    "|       Pedagogia       |   V  | 10.10 | 10.61 |  N |  9.43 |  N | 18.85 |  S |\n",
    "|        Química        |   D  |  5.36 | 32.92 |  S | 19.06 |  S | 22.37 |  N |\n",
    "| Quím. modal. tecnol.  |   V  |  8.03 | 33.39 |  S | 15.52 |  N | 18.74 |  N |\n",
    "|     Tec. c. civil     |   V  |  1.64 | 12.85 |  N | 10.55 |  S | 14.82 |  N |\n",
    "|     Tec. p. dados     |   V  |  6.38 | 13.97 |  N | 12.09 |  S | 17.35 |  N |\n",
    "|     Tec. sanitária    |   V  |  3.46 | 11.74 |  N |  8.15 |  S | 12.88 |  N |\n",
    "\n",
    "\n",
    "+ a) Verifique se existe uma relação linear entre as variáveis candidato/vaga e a nota média da prova de Matemática por curso e encontre o coeficiente de determinação;\n",
    "+ b) Agrupe os cursos por período (diurno e noturno). Ajuste um modelo a cada grupo e encontre os coeficientes de determinação;\n",
    "+ c) Para estes dados há a necessidade de se considerar modelos por período ou um modelo geral é suficiente? Faça uma análise completa de cada situação e tire conclusões."
   ]
  },
  {
   "cell_type": "markdown",
   "metadata": {},
   "source": [
    "$\\color{red}{\\text{a)}}$ **Verifique se existe uma relação linear entre as variáveis candidato/vaga e a nota média da prova de Matemática por curso e encontre o coeficiente de determinação**"
   ]
  },
  {
   "cell_type": "code",
   "execution_count": 47,
   "metadata": {},
   "outputs": [
    {
     "name": "stderr",
     "output_type": "stream",
     "text": [
      "The following objects are masked from cursos (pos = 7):\n",
      "\n",
      "    Cursos, CV, HP, MP, NH, NM, NQ, Per, QP\n",
      "\n"
     ]
    },
    {
     "data": {
      "text/plain": [
       "\n",
       "Call:\n",
       "lm(formula = NM ~ CV, data = cursos)\n",
       "\n",
       "Residuals:\n",
       "   Min     1Q Median     3Q    Max \n",
       "-7.766 -3.379 -1.394  4.004 10.151 \n",
       "\n",
       "Coefficients:\n",
       "            Estimate Std. Error t value Pr(>|t|)    \n",
       "(Intercept) 13.50748    1.00024  13.504  < 2e-16 ***\n",
       "CV           0.27080    0.05459   4.961  1.1e-05 ***\n",
       "---\n",
       "Signif. codes:  0 '***' 0.001 '**' 0.01 '*' 0.05 '.' 0.1 ' ' 1\n",
       "\n",
       "Residual standard error: 4.956 on 44 degrees of freedom\n",
       "Multiple R-squared:  0.3587,\tAdjusted R-squared:  0.3441 \n",
       "F-statistic: 24.61 on 1 and 44 DF,  p-value: 1.098e-05\n"
      ]
     },
     "metadata": {},
     "output_type": "display_data"
    }
   ],
   "source": [
    "#Entrada de dados\n",
    "cursos=read.csv2(\"cursos.csv\",header=T,dec=\".\")\n",
    "attach(cursos)\n",
    "\n",
    "\n",
    "#Modelo estimado\n",
    "ajuste1=lm(NM~CV,data=cursos)\n",
    "summary(ajuste1)"
   ]
  },
  {
   "cell_type": "markdown",
   "metadata": {},
   "source": [
    "O modelo estimado é dado por $\\hat(y)=13,50+0,27CV$, indicando que para cada aumento de uma unicade no candidato por vaga a nota média no curso de matemática aumenta em média 0,27. O coeficiente de determinação atribuído ao modelo estimado é dado por $R^2$=35,87%."
   ]
  },
  {
   "cell_type": "markdown",
   "metadata": {},
   "source": [
    "$\\color{red}{\\text{b)}}$ **Agrupe os cursos por período (diurno e noturno). Ajuste um modelo a cada grupo e encontre os coeficientes de determinação:**"
   ]
  },
  {
   "cell_type": "code",
   "execution_count": 48,
   "metadata": {},
   "outputs": [
    {
     "data": {
      "text/plain": [
       "\n",
       "Call:\n",
       "lm(formula = ajuste2$NM ~ ajuste2$CV, data = ajuste2)\n",
       "\n",
       "Residuals:\n",
       "   Min     1Q Median     3Q    Max \n",
       "-7.623 -3.466 -1.904  3.893  9.843 \n",
       "\n",
       "Coefficients:\n",
       "            Estimate Std. Error t value Pr(>|t|)    \n",
       "(Intercept) 14.60433    1.33584  10.933 2.03e-11 ***\n",
       "ajuste2$CV   0.21976    0.06367   3.451  0.00185 ** \n",
       "---\n",
       "Signif. codes:  0 '***' 0.001 '**' 0.01 '*' 0.05 '.' 0.1 ' ' 1\n",
       "\n",
       "Residual standard error: 5.354 on 27 degrees of freedom\n",
       "Multiple R-squared:  0.3061,\tAdjusted R-squared:  0.2804 \n",
       "F-statistic: 11.91 on 1 and 27 DF,  p-value: 0.00185\n"
      ]
     },
     "metadata": {},
     "output_type": "display_data"
    }
   ],
   "source": [
    "require(dplyr)                                       #Carregando o pacote dplyr\n",
    "ajuste2 = cursos %>% filter(Per==\"D\")                #Criando um filtro para os cursos diurnos\n",
    "ajuste3 = cursos %>% filter(Per==\"V\")                #Criando um filtro para os cursos noturnos\n",
    "\n",
    "#Ajustando um modelo para os cursos diurnos\n",
    "ajuste2=lm(ajuste2$NM~ajuste2$CV,data=ajuste2)\n",
    "summary(ajuste2)"
   ]
  },
  {
   "cell_type": "markdown",
   "metadata": {},
   "source": [
    "O modelo encontrado para o período diurno é dado por $\\hat{y}=14,60+0,219CV$. O coeficiente de determinação atribuído ao modelo estimado é dado por $R^2=30,61$%."
   ]
  },
  {
   "cell_type": "code",
   "execution_count": 49,
   "metadata": {},
   "outputs": [
    {
     "data": {
      "text/plain": [
       "\n",
       "Call:\n",
       "lm(formula = ajuste3$NM ~ ajuste3$CV, data = ajuste3)\n",
       "\n",
       "Residuals:\n",
       "    Min      1Q  Median      3Q     Max \n",
       "-6.2091 -2.3556 -0.1148  1.6824  6.1253 \n",
       "\n",
       "Coefficients:\n",
       "            Estimate Std. Error t value Pr(>|t|)    \n",
       "(Intercept)   9.7005     1.3661   7.101 3.62e-06 ***\n",
       "ajuste3$CV    0.5880     0.1088   5.403 7.33e-05 ***\n",
       "---\n",
       "Signif. codes:  0 '***' 0.001 '**' 0.01 '*' 0.05 '.' 0.1 ' ' 1\n",
       "\n",
       "Residual standard error: 3.434 on 15 degrees of freedom\n",
       "Multiple R-squared:  0.6606,\tAdjusted R-squared:  0.6379 \n",
       "F-statistic: 29.19 on 1 and 15 DF,  p-value: 7.329e-05\n"
      ]
     },
     "metadata": {},
     "output_type": "display_data"
    }
   ],
   "source": [
    "#Ajustando um modelo para os cursos noturnos\n",
    "ajuste3=lm(ajuste3$NM~ajuste3$CV,data=ajuste3)\n",
    "summary(ajuste3)"
   ]
  },
  {
   "cell_type": "markdown",
   "metadata": {},
   "source": [
    "O modelo estimado para o curso noturno é dado por $\\hat{y}=9,70+0,5880CV$, o coeficiente de determinação estimado é dado por $R^2=66,06$%."
   ]
  },
  {
   "cell_type": "markdown",
   "metadata": {},
   "source": [
    "$\\color{red}{\\text{c)}}$ **Para estes dados há a necessidade de se considerar modelos por período ou um modelo geral é suficiente? Faça uma análise completa de cada situação e tire conclusões.**"
   ]
  },
  {
   "cell_type": "code",
   "execution_count": 50,
   "metadata": {},
   "outputs": [
    {
     "data": {
      "image/png": "[encoded data removed]",
      "text/plain": [
       "Plot with title \"\""
      ]
     },
     "metadata": {},
     "output_type": "display_data"
    }
   ],
   "source": [
    "# Modelo geral - Análise dos resíduos\n",
    "par(mfrow=c(2,2))\n",
    "plot(ajuste1)"
   ]
  },
  {
   "cell_type": "code",
   "execution_count": 51,
   "metadata": {},
   "outputs": [
    {
     "data": {
      "text/plain": [
       "\n",
       "\tShapiro-Wilk normality test\n",
       "\n",
       "data:  residuals(ajuste1)\n",
       "W = 0.93412, p-value = 0.01188\n"
      ]
     },
     "metadata": {},
     "output_type": "display_data"
    }
   ],
   "source": [
    "# Teste de Normalidade para o modelo geral\n",
    "shapiro.test(residuals(ajuste1))"
   ]
  },
  {
   "cell_type": "markdown",
   "metadata": {},
   "source": [
    "Em uma análise para os resíduos do modelo geral observa-se que de acordo com o teste de **Shapiro-Wilk** os resíduos não se distribuem normalmente, quebrando desta forma  uma das pressuposições exigidas para se utilizar o modelo estimado. O teste de homocedasticidade da variância dos resíduos é apresentado a seguir:"
   ]
  },
  {
   "cell_type": "code",
   "execution_count": 52,
   "metadata": {},
   "outputs": [
    {
     "data": {
      "text/plain": [
       "\n",
       "\tstudentized Breusch-Pagan test\n",
       "\n",
       "data:  ajuste1\n",
       "BP = 1.5933, df = 1, p-value = 0.2069\n"
      ]
     },
     "metadata": {},
     "output_type": "display_data"
    }
   ],
   "source": [
    "require(lmtest)\n",
    "bptest(ajuste1)"
   ]
  },
  {
   "cell_type": "markdown",
   "metadata": {},
   "source": [
    "O teste de Breusch-Pagan possui algumas limitações, dentre elas a exigência de um tamanho de amostra que possa ser considerado grande visto que o teste é assintótico, ou seja, exige um tamanho de amostra que possa ser considerado grande e ainda exige que os resíduos tenham comportamento normal. Estas pressuposições do teste de homocedasticidade dos resíduos através do teste de Breusch-Pagan sejam avaliados com cuidado. Para o resultado apresentado acima, com um p-valor de 0,2069 não é possível rejeitar a hipótese de homogeneidade das variâncias dos resíduos, ou seja, há fortes evidências de homocedasticidade."
   ]
  },
  {
   "cell_type": "code",
   "execution_count": 53,
   "metadata": {},
   "outputs": [
    {
     "data": {
      "image/png": "[encoded data removed]",
      "text/plain": [
       "Plot with title \"\""
      ]
     },
     "metadata": {},
     "output_type": "display_data"
    }
   ],
   "source": [
    "# Análise para os modelos por cursos - Diurno\n",
    "par(mfrow=c(2,2))\n",
    "plot(ajuste2)"
   ]
  },
  {
   "cell_type": "code",
   "execution_count": 54,
   "metadata": {},
   "outputs": [
    {
     "data": {
      "text/plain": [
       "\n",
       "\tShapiro-Wilk normality test\n",
       "\n",
       "data:  residuals(ajuste2)\n",
       "W = 0.8947, p-value = 0.007331\n"
      ]
     },
     "metadata": {},
     "output_type": "display_data"
    }
   ],
   "source": [
    "# Teste de Normalidade para o modelo - Diurno\n",
    "shapiro.test(residuals(ajuste2))"
   ]
  },
  {
   "cell_type": "markdown",
   "metadata": {},
   "source": [
    "O teste de normalidade para os resíduos para o modelo ajustado para o curso diurno determina que existem evidências para rejeitarmos a hipótese de normalidade dos resíduos, quebrando uma das exigências para melhor ajuste e inferência do modelo estimado."
   ]
  },
  {
   "cell_type": "code",
   "execution_count": 55,
   "metadata": {},
   "outputs": [
    {
     "data": {
      "text/plain": [
       "\n",
       "\tstudentized Breusch-Pagan test\n",
       "\n",
       "data:  ajuste2\n",
       "BP = 0.097167, df = 1, p-value = 0.7553\n"
      ]
     },
     "metadata": {},
     "output_type": "display_data"
    }
   ],
   "source": [
    "bptest(ajuste2)"
   ]
  },
  {
   "cell_type": "markdown",
   "metadata": {},
   "source": [
    "O teste de Breusch-Pagan não rejeita a hipótese de homocedasticidade da variância dos resíduos."
   ]
  },
  {
   "cell_type": "code",
   "execution_count": 56,
   "metadata": {},
   "outputs": [
    {
     "data": {
      "image/png": "[encoded data removed]",
      "text/plain": [
       "Plot with title \"\""
      ]
     },
     "metadata": {},
     "output_type": "display_data"
    }
   ],
   "source": [
    "# Teste para o curso Noturno\n",
    "par(mfrow=c(2,2))\n",
    "plot(ajuste3)"
   ]
  },
  {
   "cell_type": "code",
   "execution_count": 57,
   "metadata": {},
   "outputs": [
    {
     "data": {
      "text/plain": [
       "\n",
       "\tShapiro-Wilk normality test\n",
       "\n",
       "data:  residuals(ajuste3)\n",
       "W = 0.96555, p-value = 0.7369\n"
      ]
     },
     "metadata": {},
     "output_type": "display_data"
    }
   ],
   "source": [
    "#Teste de normalidade\n",
    "shapiro.test(residuals(ajuste3))"
   ]
  },
  {
   "cell_type": "markdown",
   "metadata": {},
   "source": [
    "O teste de hormalidade apresentado apresenta um p-valor de 0,7369 indicando que não há indícios de falta de normalidade nos resíduos, indicando que o modelo estimado para o curso noturno é considerado adequado em se tratando da normalidade nos resíduos."
   ]
  },
  {
   "cell_type": "code",
   "execution_count": 58,
   "metadata": {},
   "outputs": [
    {
     "data": {
      "text/plain": [
       "\n",
       "\tstudentized Breusch-Pagan test\n",
       "\n",
       "data:  ajuste3\n",
       "BP = 0.071435, df = 1, p-value = 0.7893\n"
      ]
     },
     "metadata": {},
     "output_type": "display_data"
    }
   ],
   "source": [
    "#Teste de homocedasticidade dos resíduos\n",
    "bptest(ajuste3)"
   ]
  },
  {
   "cell_type": "markdown",
   "metadata": {},
   "source": [
    "O teste de Breusch-Pagan não rejeita a hipótese de falta de homocedasticidade da variância dos resíduos. Portanto existe a necessidade de se considerar modelos separados por perído."
   ]
  },
  {
   "cell_type": "markdown",
   "metadata": {},
   "source": [
    "$\\color{red}{\\text{Exercício 4}}$ - **Retirado do livro: Análise de Modelos de Regressão Linear com Aplicações, de Charnet, Freire, Charnet e Bonvino** - Para  os dados da tabela do exercício anterior, faça novamente um agrupamento, só que agora considere o grupo de cursos para os quais a disciplina Matemática é prioritária e o grupo de cursos para os quais a disciplina não é prioritária.\n",
    "\n",
    "+ a) Ajuste um modelo de regressão a cada grupo;\n",
    "+ b) Faça uma análise completa de cada situação;\n",
    "+ c) Considerar os cursos por \"prioridade\" de Matemática melhora o ajuste? Iso té, a \"prioridade\" é uma variável responsável por discrepâncias encontradas no modelo único (obtido no item (a) do exercício anterior)?\n",
    "+ d) Para cada modelo ajsutado (único e grupos), encontre intervalos de predição de 95% para a nota média de Matemática, quando a relação candidato/vaga for igual a 8, a 25 e a 50."
   ]
  },
  {
   "cell_type": "markdown",
   "metadata": {},
   "source": [
    "$\\color{red}{\\text{a)}}$ - **Ajuste um modelo de regressão a cada grupo**"
   ]
  },
  {
   "cell_type": "code",
   "execution_count": 59,
   "metadata": {},
   "outputs": [
    {
     "data": {
      "text/plain": [
       "\n",
       "Call:\n",
       "lm(formula = NM ~ CV, data = mat_obrigatoria)\n",
       "\n",
       "Residuals:\n",
       "   Min     1Q Median     3Q    Max \n",
       "-6.637 -2.586 -1.082  2.551  8.384 \n",
       "\n",
       "Coefficients:\n",
       "            Estimate Std. Error t value Pr(>|t|)    \n",
       "(Intercept)  12.1359     1.5988   7.591 2.60e-07 ***\n",
       "CV            0.7021     0.1291   5.437 2.54e-05 ***\n",
       "---\n",
       "Signif. codes:  0 '***' 0.001 '**' 0.01 '*' 0.05 '.' 0.1 ' ' 1\n",
       "\n",
       "Residual standard error: 4.042 on 20 degrees of freedom\n",
       "Multiple R-squared:  0.5964,\tAdjusted R-squared:  0.5763 \n",
       "F-statistic: 29.56 on 1 and 20 DF,  p-value: 2.54e-05\n"
      ]
     },
     "metadata": {},
     "output_type": "display_data"
    }
   ],
   "source": [
    "#Criando a base de dados com matemática como obrigatória\n",
    "mat_obrigatoria = cursos %>% filter(MP==\"S\")\n",
    "mat_naoobrigatoria = cursos %>% filter(MP==\"N\")\n",
    "\n",
    "\n",
    "#Ajustando o modelo para Matemática Obrigatória\n",
    "ajuste4=lm(NM~CV,data=mat_obrigatoria)\n",
    "summary(ajuste4)"
   ]
  },
  {
   "cell_type": "markdown",
   "metadata": {},
   "source": [
    "O modelo estimado para os candidatos que possuem a disciplina matemática como obrigatória é dado por $\\hat{y}=12,13+0,7021CV$ com um coeficiente de determinação dado por $R^2=59,64$%."
   ]
  },
  {
   "cell_type": "code",
   "execution_count": 60,
   "metadata": {},
   "outputs": [
    {
     "data": {
      "text/plain": [
       "\n",
       "Call:\n",
       "lm(formula = NM ~ CV, data = mat_naoobrigatoria)\n",
       "\n",
       "Residuals:\n",
       "    Min      1Q  Median      3Q     Max \n",
       "-4.0829 -1.8990 -0.1098  1.8109  6.0696 \n",
       "\n",
       "Coefficients:\n",
       "            Estimate Std. Error t value Pr(>|t|)    \n",
       "(Intercept) 10.94323    0.71141  15.382 2.96e-13 ***\n",
       "CV           0.24991    0.03172   7.878 7.61e-08 ***\n",
       "---\n",
       "Signif. codes:  0 '***' 0.001 '**' 0.01 '*' 0.05 '.' 0.1 ' ' 1\n",
       "\n",
       "Residual standard error: 2.669 on 22 degrees of freedom\n",
       "Multiple R-squared:  0.7383,\tAdjusted R-squared:  0.7264 \n",
       "F-statistic: 62.07 on 1 and 22 DF,  p-value: 7.607e-08\n"
      ]
     },
     "metadata": {},
     "output_type": "display_data"
    }
   ],
   "source": [
    "#Ajustando o modelo para matemática não obrigatória.\n",
    "ajuste5=lm(NM~CV,data=mat_naoobrigatoria)\n",
    "summary(ajuste5)"
   ]
  },
  {
   "cell_type": "markdown",
   "metadata": {},
   "source": [
    "O modelo estimado para os alunos que não consideram a disciplina matemática como obrigatória é dado por $\\hat{y}=10,94+0,24CV$ com um coeficiente de determinação estimado na ordem de $R^2=73,83$%."
   ]
  },
  {
   "cell_type": "markdown",
   "metadata": {},
   "source": [
    "$\\color{red}{\\text{b)}}$ - **Faça uma análise completa de cada situação:**"
   ]
  },
  {
   "cell_type": "code",
   "execution_count": 61,
   "metadata": {},
   "outputs": [
    {
     "data": {
      "image/png": "[encoded data removed]",
      "text/plain": [
       "Plot with title \"\""
      ]
     },
     "metadata": {},
     "output_type": "display_data"
    }
   ],
   "source": [
    "par(mfrow=c(2,2))\n",
    "plot(ajuste4)"
   ]
  },
  {
   "cell_type": "code",
   "execution_count": 62,
   "metadata": {},
   "outputs": [
    {
     "data": {
      "text/plain": [
       "\n",
       "\tShapiro-Wilk normality test\n",
       "\n",
       "data:  residuals(ajuste4)\n",
       "W = 0.97419, p-value = 0.8055\n"
      ]
     },
     "metadata": {},
     "output_type": "display_data"
    }
   ],
   "source": [
    "#Teste de normalidade e homocedasticidade\n",
    "shapiro.test(residuals(ajuste4))"
   ]
  },
  {
   "cell_type": "markdown",
   "metadata": {},
   "source": [
    "O ajuste para os dados com alunos que consideram o curso de matemática prioritário possui os resíduos normalmente distribuídos, visto que o valor da estatística de teste associado ao p-valor foi de 0,8055 não rejeitando-se a hipótese de normalidade. Para o teste de homocedasticidade nos resíduos, temos:"
   ]
  },
  {
   "cell_type": "code",
   "execution_count": 63,
   "metadata": {},
   "outputs": [
    {
     "data": {
      "text/plain": [
       "\n",
       "\tstudentized Breusch-Pagan test\n",
       "\n",
       "data:  ajuste4\n",
       "BP = 0.071259, df = 1, p-value = 0.7895\n"
      ]
     },
     "metadata": {},
     "output_type": "display_data"
    }
   ],
   "source": [
    "bptest(ajuste4)"
   ]
  },
  {
   "cell_type": "markdown",
   "metadata": {},
   "source": [
    "O teste de Breusch-Pagan não rejeitou a hipótese de homocedasticidade nos resíduos, portanto o modelo estimado possui variância constante e é normalmente distribuído."
   ]
  },
  {
   "cell_type": "code",
   "execution_count": 64,
   "metadata": {},
   "outputs": [
    {
     "data": {
      "image/png": "[encoded data removed]",
      "text/plain": [
       "Plot with title \"\""
      ]
     },
     "metadata": {},
     "output_type": "display_data"
    }
   ],
   "source": [
    "#Teste de normalidade e homocedasticidade para os alunos que não consideram a disciplina matemática como importante\n",
    "par(mfrow=c(2,2))\n",
    "plot(ajuste5)"
   ]
  },
  {
   "cell_type": "code",
   "execution_count": 65,
   "metadata": {},
   "outputs": [
    {
     "data": {
      "text/plain": [
       "\n",
       "\tShapiro-Wilk normality test\n",
       "\n",
       "data:  residuals(ajuste5)\n",
       "W = 0.97614, p-value = 0.8155\n"
      ]
     },
     "metadata": {},
     "output_type": "display_data"
    }
   ],
   "source": [
    "#Teste de normalidade e homocedasticidade\n",
    "shapiro.test(residuals(ajuste5))"
   ]
  },
  {
   "cell_type": "markdown",
   "metadata": {},
   "source": [
    "O modelo ajustado  para os alunos que não consideram a disciplina de matemática como prioridade não quebra a exigência de normalidade nos resíduos."
   ]
  },
  {
   "cell_type": "code",
   "execution_count": 66,
   "metadata": {},
   "outputs": [
    {
     "data": {
      "text/plain": [
       "\n",
       "\tstudentized Breusch-Pagan test\n",
       "\n",
       "data:  ajuste5\n",
       "BP = 1.077, df = 1, p-value = 0.2994\n"
      ]
     },
     "metadata": {},
     "output_type": "display_data"
    }
   ],
   "source": [
    "#Teste de homocedasticidade\n",
    "bptest(ajuste5)"
   ]
  },
  {
   "cell_type": "markdown",
   "metadata": {},
   "source": [
    "O modelo proposto é considerado homocedástico nos resíduos, ou seja, possui variância constante."
   ]
  },
  {
   "cell_type": "markdown",
   "metadata": {},
   "source": [
    "$\\color{red}{\\text{c)}}$ - **Considerar os cursos por prioridade de Matemática melhora o ajuste? Isto é, a prioridade é uma variável responsável por discrepâncias encontradas no modelo único (obtido no item (a) do exercício anterior)?**"
   ]
  },
  {
   "cell_type": "markdown",
   "metadata": {},
   "source": [
    "O modelos que consideram a prioridade como uma variável responsável por discrepâncias entradas apresenta maiores coeficientes de determinação e não extrapolam as exigências inerentes nos resíduos, sendo considerados melhores modelos."
   ]
  },
  {
   "cell_type": "markdown",
   "metadata": {},
   "source": [
    "$\\color{red}{\\text{d)}}$ **Para cada modelo ajustado (único e grupos), encontre intervalos de predição de 95% para a nota média de Matemática, quando a relação candidato/vaga for igual a 8, 25 e a 50.**"
   ]
  },
  {
   "cell_type": "code",
   "execution_count": 67,
   "metadata": {},
   "outputs": [
    {
     "name": "stdout",
     "output_type": "stream",
     "text": [
      "[1] \"O intervlao de predição para o modelo Geral é dado por\"\n"
     ]
    },
    {
     "data": {
      "text/html": [
       "<table>\n",
       "<thead><tr><th scope=col>fit</th><th scope=col>lwr</th><th scope=col>upr</th></tr></thead>\n",
       "<tbody>\n",
       "\t<tr><td>15.67385 </td><td> 5.564814</td><td>25.78289 </td></tr>\n",
       "\t<tr><td>20.27738 </td><td>10.087476</td><td>30.46729 </td></tr>\n",
       "\t<tr><td>27.04728 </td><td>16.140513</td><td>37.95406 </td></tr>\n",
       "</tbody>\n",
       "</table>\n"
      ],
      "text/latex": [
       "\\begin{tabular}{r|lll}\n",
       " fit & lwr & upr\\\\\n",
       "\\hline\n",
       "\t 15.67385  &  5.564814 & 25.78289 \\\\\n",
       "\t 20.27738  & 10.087476 & 30.46729 \\\\\n",
       "\t 27.04728  & 16.140513 & 37.95406 \\\\\n",
       "\\end{tabular}\n"
      ],
      "text/markdown": [
       "\n",
       "| fit | lwr | upr |\n",
       "|---|---|---|\n",
       "| 15.67385  |  5.564814 | 25.78289  |\n",
       "| 20.27738  | 10.087476 | 30.46729  |\n",
       "| 27.04728  | 16.140513 | 37.95406  |\n",
       "\n"
      ],
      "text/plain": [
       "  fit      lwr       upr     \n",
       "1 15.67385  5.564814 25.78289\n",
       "2 20.27738 10.087476 30.46729\n",
       "3 27.04728 16.140513 37.95406"
      ]
     },
     "metadata": {},
     "output_type": "display_data"
    }
   ],
   "source": [
    "#Estimativa  Geral\n",
    "newdata=data.frame(CV=c(8,25,50))\n",
    "predicao1=predict(ajuste1,newdata,interval=\"prediction\",level=0.95)\n",
    "\n",
    "#Intervalo de predição para o modelo geral\n",
    "print(\"O intervlao de predição para o modelo Geral é dado por\")\n",
    "predicao1"
   ]
  },
  {
   "cell_type": "code",
   "execution_count": 68,
   "metadata": {},
   "outputs": [
    {
     "data": {
      "text/html": [
       "<table>\n",
       "<thead><tr><th scope=col>fit</th><th scope=col>lwr</th><th scope=col>upr</th></tr></thead>\n",
       "<tbody>\n",
       "\t<tr><td>17.75275 </td><td> 9.107017</td><td>26.39848 </td></tr>\n",
       "\t<tr><td>29.68857 </td><td>20.215939</td><td>39.16120 </td></tr>\n",
       "\t<tr><td>47.24124 </td><td>33.531439</td><td>60.95105 </td></tr>\n",
       "</tbody>\n",
       "</table>\n"
      ],
      "text/latex": [
       "\\begin{tabular}{r|lll}\n",
       " fit & lwr & upr\\\\\n",
       "\\hline\n",
       "\t 17.75275  &  9.107017 & 26.39848 \\\\\n",
       "\t 29.68857  & 20.215939 & 39.16120 \\\\\n",
       "\t 47.24124  & 33.531439 & 60.95105 \\\\\n",
       "\\end{tabular}\n"
      ],
      "text/markdown": [
       "\n",
       "| fit | lwr | upr |\n",
       "|---|---|---|\n",
       "| 17.75275  |  9.107017 | 26.39848  |\n",
       "| 29.68857  | 20.215939 | 39.16120  |\n",
       "| 47.24124  | 33.531439 | 60.95105  |\n",
       "\n"
      ],
      "text/plain": [
       "  fit      lwr       upr     \n",
       "1 17.75275  9.107017 26.39848\n",
       "2 29.68857 20.215939 39.16120\n",
       "3 47.24124 33.531439 60.95105"
      ]
     },
     "metadata": {},
     "output_type": "display_data"
    }
   ],
   "source": [
    "#Intervalo de predição para os modelos em grupos - Matemática Obrigatória\n",
    "newdata2=data.frame(data.frame(CV=c(8,25,50)))\n",
    "predicao2=predict(ajuste4,newdata2,interval=\"prediction\",level=0.95)\n",
    "predicao2"
   ]
  },
  {
   "cell_type": "code",
   "execution_count": 69,
   "metadata": {},
   "outputs": [
    {
     "data": {
      "text/html": [
       "<table>\n",
       "<thead><tr><th scope=col>fit</th><th scope=col>lwr</th><th scope=col>upr</th></tr></thead>\n",
       "<tbody>\n",
       "\t<tr><td>12.94248 </td><td> 7.277009</td><td>18.60795 </td></tr>\n",
       "\t<tr><td>17.19088 </td><td>11.498474</td><td>22.88329 </td></tr>\n",
       "\t<tr><td>23.43853 </td><td>17.323184</td><td>29.55387 </td></tr>\n",
       "</tbody>\n",
       "</table>\n"
      ],
      "text/latex": [
       "\\begin{tabular}{r|lll}\n",
       " fit & lwr & upr\\\\\n",
       "\\hline\n",
       "\t 12.94248  &  7.277009 & 18.60795 \\\\\n",
       "\t 17.19088  & 11.498474 & 22.88329 \\\\\n",
       "\t 23.43853  & 17.323184 & 29.55387 \\\\\n",
       "\\end{tabular}\n"
      ],
      "text/markdown": [
       "\n",
       "| fit | lwr | upr |\n",
       "|---|---|---|\n",
       "| 12.94248  |  7.277009 | 18.60795  |\n",
       "| 17.19088  | 11.498474 | 22.88329  |\n",
       "| 23.43853  | 17.323184 | 29.55387  |\n",
       "\n"
      ],
      "text/plain": [
       "  fit      lwr       upr     \n",
       "1 12.94248  7.277009 18.60795\n",
       "2 17.19088 11.498474 22.88329\n",
       "3 23.43853 17.323184 29.55387"
      ]
     },
     "metadata": {},
     "output_type": "display_data"
    }
   ],
   "source": [
    "#Intervalo de predição para os modelos em grupos - Matemática Não Obrigatória\n",
    "newdata3=data.frame(data.frame(CV=c(8,25,50)))\n",
    "predicao3=predict(ajuste5,newdata3,interval=\"prediction\",level=0.95)\n",
    "predicao3"
   ]
  },
  {
   "cell_type": "markdown",
   "metadata": {},
   "source": [
    "$\\color{red}{\\text{Exercício 5}}$ - **Retirado do livro: Análise de Modelos de Regressão Linear com Aplicações, de Charnet, Freire, Charnet e Bonvino** - Considere as médias dos cursos na prova de Química apresentadas na tabela do exercício anterior.\n",
    "\n",
    "+ a) Ajuste um MRLS que explique as médias dos cursos, para os quais a disciplina é prioritária, em função da relação candidato-vaga;\n",
    "+ b) Repita o item anterior para o grupo de cursos em que a disciplina não é prioritária;\n",
    "+ c) Clacule o coeficiente de determinação para cada um dos modelos ajustados nos itens anteriores;\n",
    "+ d) Compare os dois modelos e verifique se há necessidade de dois modelos ou um único modelo é suficiente?"
   ]
  },
  {
   "cell_type": "markdown",
   "metadata": {},
   "source": [
    "$\\color{red}{\\text{a)}}$ - **Ajuste um MRLS que explique as média dos cursos, para os quais a disciplina é prioritária, em função da relação candidato-vaga:**"
   ]
  },
  {
   "cell_type": "code",
   "execution_count": 70,
   "metadata": {},
   "outputs": [
    {
     "data": {
      "text/plain": [
       "\n",
       "Call:\n",
       "lm(formula = NQ ~ CV, data = quimica_obrigatoria)\n",
       "\n",
       "Residuals:\n",
       "      1       2       3       4       5       6 \n",
       " 2.3174  1.5771  1.1445 -4.1571 -0.5785 -0.3035 \n",
       "\n",
       "Coefficients:\n",
       "            Estimate Std. Error t value Pr(>|t|)    \n",
       "(Intercept) 33.10713    1.39964  23.654 1.89e-05 ***\n",
       "CV           0.07302    0.03762   1.941    0.124    \n",
       "---\n",
       "Signif. codes:  0 '***' 0.001 '**' 0.01 '*' 0.05 '.' 0.1 ' ' 1\n",
       "\n",
       "Residual standard error: 2.592 on 4 degrees of freedom\n",
       "Multiple R-squared:  0.485,\tAdjusted R-squared:  0.3562 \n",
       "F-statistic: 3.767 on 1 and 4 DF,  p-value: 0.1243\n"
      ]
     },
     "metadata": {},
     "output_type": "display_data"
    }
   ],
   "source": [
    "#Criando filtros\n",
    "quimica_obrigatoria=cursos %>% filter(QP==\"S\")\n",
    "quimica_naoobrigatoria = cursos %>% filter(QP==\"N\")\n",
    "\n",
    "#Ajuste do modelo\n",
    "ajuste6=lm(NQ~CV,data=quimica_obrigatoria)\n",
    "summary(ajuste6)"
   ]
  },
  {
   "cell_type": "markdown",
   "metadata": {},
   "source": [
    "O modelo estimado é dado por $\\hat{y}=33,10+0,073CV$ com um coeficiente de determinação de $R^2=48,5$%. O modelo estimado não é considerado um bom modelo, visto que o valor de seu $\\hat{\\beta_1}$ não foi considerado significativo."
   ]
  },
  {
   "cell_type": "markdown",
   "metadata": {},
   "source": [
    "$\\color{red}{\\text{b)}}$ - **Repita o item anterior para o grupo de cursos em que a disciplina não é prioritária**"
   ]
  },
  {
   "cell_type": "code",
   "execution_count": 71,
   "metadata": {},
   "outputs": [
    {
     "data": {
      "text/plain": [
       "\n",
       "Call:\n",
       "lm(formula = NQ ~ CV, data = quimica_naoobrigatoria)\n",
       "\n",
       "Residuals:\n",
       "    Min      1Q  Median      3Q     Max \n",
       "-9.9640 -3.4971 -0.7961  3.4255 11.2129 \n",
       "\n",
       "Coefficients:\n",
       "            Estimate Std. Error t value Pr(>|t|)    \n",
       "(Intercept)  12.8188     1.3486   9.505 1.37e-11 ***\n",
       "CV            0.7487     0.1009   7.418 6.74e-09 ***\n",
       "---\n",
       "Signif. codes:  0 '***' 0.001 '**' 0.01 '*' 0.05 '.' 0.1 ' ' 1\n",
       "\n",
       "Residual standard error: 5.077 on 38 degrees of freedom\n",
       "Multiple R-squared:  0.5915,\tAdjusted R-squared:  0.5807 \n",
       "F-statistic: 55.02 on 1 and 38 DF,  p-value: 6.74e-09\n"
      ]
     },
     "metadata": {},
     "output_type": "display_data"
    }
   ],
   "source": [
    "# Ajuste do modelo\n",
    "ajuste7=lm(NQ~CV,data=quimica_naoobrigatoria)\n",
    "summary(ajuste7)"
   ]
  },
  {
   "cell_type": "markdown",
   "metadata": {},
   "source": [
    "O modelo estimado é dado por $\\hat{y}=12,81+0,7487CV$. O modelo estimado é significativo e possui um coeficiente de determinação de $R^2=59,15$%."
   ]
  },
  {
   "cell_type": "markdown",
   "metadata": {},
   "source": [
    "$\\color{red}{\\text{c)}}$ - **Calcule o coeficiente de determinação para cada um dos modelos ajustados nos itens anteriores**"
   ]
  },
  {
   "cell_type": "code",
   "execution_count": 72,
   "metadata": {},
   "outputs": [
    {
     "name": "stdout",
     "output_type": "stream",
     "text": [
      "\n",
      "\n",
      "O coeficiente de determinação para os quais a disciplina é obrigatória em função do candidato/vaga é 48.5 % \n",
      "\n",
      "\n",
      "\n",
      "Pelo segundo método, o coeficiente de determinação é dado por 48.5 %"
     ]
    }
   ],
   "source": [
    "# Para o modelo em que a disciplina de química é obrigatória\n",
    "\n",
    "######## Método 1 #############################################\n",
    "r2_qo=cor(quimica_obrigatoria$NQ,quimica_obrigatoria$CV)^2\n",
    "cat(\"\\n\\nO coeficiente de determinação para os quais a disciplina é obrigatória em função do candidato/vaga é\",round(r2_qo*100,2),\"%\",\"\\n\\n\")\n",
    "\n",
    "\n",
    "\n",
    "###### Método 2 ##############################################\n",
    "met2=summary(ajuste6)\n",
    "r2_met2=met2$r.squared\n",
    "cat(\"\\n\\nPelo segundo método, o coeficiente de determinação é dado por\",round(r2_met2*100,2),\"%\")"
   ]
  },
  {
   "cell_type": "code",
   "execution_count": 73,
   "metadata": {},
   "outputs": [
    {
     "name": "stdout",
     "output_type": "stream",
     "text": [
      "O coeficiente de determinação para o curso em que a disciplina de química não é obrigatória é 59.15 %"
     ]
    }
   ],
   "source": [
    "#Para o modelo em que a disciplina de química não é obrigatória o coeficiente de determinação é dado por:\n",
    "r2_qno=cor(quimica_naoobrigatoria$NQ,quimica_naoobrigatoria$CV)^2\n",
    "cat(\"O coeficiente de determinação para o curso em que a disciplina de química não é obrigatória é\",round(r2_qno*100,2),\"%\")\n",
    "\n"
   ]
  },
  {
   "cell_type": "markdown",
   "metadata": {},
   "source": [
    "$\\color{red}{\\text{d)}}$ - **Compare os dois modelos e verifique se há necessidade de dois modelos ou um único modelo é suficiente?**"
   ]
  },
  {
   "cell_type": "markdown",
   "metadata": {},
   "source": [
    "Não é necessário que hajam dois modelos, visto que um dos modelos estimados não foi considerado significativo, pode-se trabalhar apenas com um único modelo."
   ]
  },
  {
   "cell_type": "markdown",
   "metadata": {},
   "source": [
    "$\\color{red}{\\text{Exercício 6}}$ - **Retirado do livro: Análise de Modelos de Regressão Linear com Aplicações, de Charnet, Freire, Charnet e Bonvino** - Considere agora os dados referentes a História encontrados na tabela do exercício 3.\n",
    "\n",
    "+ a) Separe os cursos por período. Ajuste um MRLS a cada grupo, compareos e verifique se neste caso o mais indicado é um modelo único ou dois modelos;\n",
    "+ b) Encontre um intervalo de predição para a nota média de história quando a relação candidato-vaga for 25. Compare os intervalos encontrados;\n",
    "+ c) Faça novamente uma subdivisão dos cursos só que agora por condição de a disciplina ser prioritária ou não. Ajuste um MRLS a cada grupo, compare-os e verifique se o mais indicado é um modelo único ou dois modelos;\n",
    "+ d) Refaça os itens anteriores considerando agora uma subdivisão dos cursos por período."
   ]
  },
  {
   "cell_type": "markdown",
   "metadata": {},
   "source": [
    "$\\color{red}{\\text{a)}}$ - **Separe os cursos por periodo. Ajuste um MRLS a cada grupo, compareos e verifique se neste caso o mais indicado é um modelo únicou ou dois modelos**"
   ]
  },
  {
   "cell_type": "code",
   "execution_count": 74,
   "metadata": {},
   "outputs": [
    {
     "data": {
      "text/plain": [
       "\n",
       "Call:\n",
       "lm(formula = NH ~ CV, data = hist_diurno)\n",
       "\n",
       "Residuals:\n",
       "    Min      1Q  Median      3Q     Max \n",
       "-8.4876 -1.8942  0.0123  1.8881  7.4985 \n",
       "\n",
       "Coefficients:\n",
       "            Estimate Std. Error t value Pr(>|t|)    \n",
       "(Intercept)  20.9022     0.8958  23.334  < 2e-16 ***\n",
       "CV            0.1589     0.0427   3.721 0.000922 ***\n",
       "---\n",
       "Signif. codes:  0 '***' 0.001 '**' 0.01 '*' 0.05 '.' 0.1 ' ' 1\n",
       "\n",
       "Residual standard error: 3.59 on 27 degrees of freedom\n",
       "Multiple R-squared:  0.3389,\tAdjusted R-squared:  0.3145 \n",
       "F-statistic: 13.84 on 1 and 27 DF,  p-value: 0.0009222\n"
      ]
     },
     "metadata": {},
     "output_type": "display_data"
    }
   ],
   "source": [
    "# Separando os alunos de história diurno\n",
    "hist_diurno=cursos %>% filter(Per==\"D\")\n",
    "hist_noturno=cursos %>% filter(Per==\"V\")\n",
    "\n",
    "#Modelando as notas de História por período - Diurno\n",
    "ajuste8=lm(NH~CV,data=hist_diurno)\n",
    "summary(ajuste8)"
   ]
  },
  {
   "cell_type": "markdown",
   "metadata": {},
   "source": [
    "O modelo estimado é dado por $\\hat{y}=20,90+0,1589CV$ com um coeficiente de determinação de $R^2=33,89$%. O modelo estimado é considerado significativo no entanto uma análise de resíduo é necessária. O seu coeficiente de determinação aponta que embora o modelo seja considerado significativo, ele não explica de forma abrangente as variações inerentes ao processo."
   ]
  },
  {
   "cell_type": "code",
   "execution_count": 75,
   "metadata": {},
   "outputs": [
    {
     "data": {
      "text/plain": [
       "\n",
       "Call:\n",
       "lm(formula = NH ~ CV, data = hist_noturno)\n",
       "\n",
       "Residuals:\n",
       "   Min     1Q Median     3Q    Max \n",
       "-5.177 -1.816 -0.859  1.899  7.592 \n",
       "\n",
       "Coefficients:\n",
       "            Estimate Std. Error t value Pr(>|t|)    \n",
       "(Intercept)  16.9460     1.3397  12.649  2.1e-09 ***\n",
       "CV            0.3211     0.1067   3.009  0.00881 ** \n",
       "---\n",
       "Signif. codes:  0 '***' 0.001 '**' 0.01 '*' 0.05 '.' 0.1 ' ' 1\n",
       "\n",
       "Residual standard error: 3.368 on 15 degrees of freedom\n",
       "Multiple R-squared:  0.3764,\tAdjusted R-squared:  0.3348 \n",
       "F-statistic: 9.054 on 1 and 15 DF,  p-value: 0.00881\n"
      ]
     },
     "metadata": {},
     "output_type": "display_data"
    }
   ],
   "source": [
    "#Modelando as notas de História por período - Noturno\n",
    "ajuste9=lm(NH~CV,data=hist_noturno)\n",
    "summary(ajuste9)"
   ]
  },
  {
   "cell_type": "markdown",
   "metadata": {},
   "source": [
    "O modelo estimado é dado por $\\hat{y}=16,94+0,32CV$ com um coeficiente de determinação de $R^2=37,64$%. Os dois modelos estimados explicam pouco a variação encontrada no processo. "
   ]
  },
  {
   "cell_type": "code",
   "execution_count": 76,
   "metadata": {},
   "outputs": [
    {
     "data": {
      "text/plain": [
       "\n",
       "Call:\n",
       "lm(formula = NH ~ CV, data = cursos)\n",
       "\n",
       "Residuals:\n",
       "    Min      1Q  Median      3Q     Max \n",
       "-7.4171 -2.4941  0.2589  2.2531  8.5126 \n",
       "\n",
       "Coefficients:\n",
       "            Estimate Std. Error t value Pr(>|t|)    \n",
       "(Intercept) 19.63676    0.74197  26.466  < 2e-16 ***\n",
       "CV           0.19084    0.04049   4.713 2.47e-05 ***\n",
       "---\n",
       "Signif. codes:  0 '***' 0.001 '**' 0.01 '*' 0.05 '.' 0.1 ' ' 1\n",
       "\n",
       "Residual standard error: 3.677 on 44 degrees of freedom\n",
       "Multiple R-squared:  0.3354,\tAdjusted R-squared:  0.3203 \n",
       "F-statistic: 22.21 on 1 and 44 DF,  p-value: 2.475e-05\n"
      ]
     },
     "metadata": {},
     "output_type": "display_data"
    }
   ],
   "source": [
    "# Modelo único\n",
    "ajuste10=lm(NH~CV,data=cursos)\n",
    "summary(ajuste10)"
   ]
  },
  {
   "cell_type": "markdown",
   "metadata": {},
   "source": [
    "Comparando os três modelos, pode-se observar que os coeficientes de determinação são bastante próximos, desta forma, pode-se optar por apenas um único modelo para estimar as notas de história."
   ]
  },
  {
   "cell_type": "markdown",
   "metadata": {},
   "source": [
    "$\\color{red}{\\text{b)}}$ - **Encontre um intervalo de predição para a nota média de História quando a relação candidato-vaga for 25. Compare os intervalos encontrados.**"
   ]
  },
  {
   "cell_type": "code",
   "execution_count": 77,
   "metadata": {},
   "outputs": [
    {
     "data": {
      "text/html": [
       "<table>\n",
       "<thead><tr><th scope=col>fit</th><th scope=col>lwr</th><th scope=col>upr</th></tr></thead>\n",
       "<tbody>\n",
       "\t<tr><td>24.87373</td><td>17.31962</td><td>32.42784</td></tr>\n",
       "</tbody>\n",
       "</table>\n"
      ],
      "text/latex": [
       "\\begin{tabular}{r|lll}\n",
       " fit & lwr & upr\\\\\n",
       "\\hline\n",
       "\t 24.87373 & 17.31962 & 32.42784\\\\\n",
       "\\end{tabular}\n"
      ],
      "text/markdown": [
       "\n",
       "| fit | lwr | upr |\n",
       "|---|---|---|\n",
       "| 24.87373 | 17.31962 | 32.42784 |\n",
       "\n"
      ],
      "text/plain": [
       "  fit      lwr      upr     \n",
       "1 24.87373 17.31962 32.42784"
      ]
     },
     "metadata": {},
     "output_type": "display_data"
    }
   ],
   "source": [
    "#Intervalo de predição para a nota média de história para o turno Diurno\n",
    "novo1=data.frame(CV=25)\n",
    "pre_his=predict(ajuste8,novo1,interval=\"prediction\",level=0.95)\n",
    "pre_his"
   ]
  },
  {
   "cell_type": "code",
   "execution_count": 78,
   "metadata": {},
   "outputs": [
    {
     "data": {
      "text/html": [
       "<table>\n",
       "<thead><tr><th scope=col>fit</th><th scope=col>lwr</th><th scope=col>upr</th></tr></thead>\n",
       "<tbody>\n",
       "\t<tr><td>24.97462</td><td>16.8328 </td><td>33.11645</td></tr>\n",
       "</tbody>\n",
       "</table>\n"
      ],
      "text/latex": [
       "\\begin{tabular}{r|lll}\n",
       " fit & lwr & upr\\\\\n",
       "\\hline\n",
       "\t 24.97462 & 16.8328  & 33.11645\\\\\n",
       "\\end{tabular}\n"
      ],
      "text/markdown": [
       "\n",
       "| fit | lwr | upr |\n",
       "|---|---|---|\n",
       "| 24.97462 | 16.8328  | 33.11645 |\n",
       "\n"
      ],
      "text/plain": [
       "  fit      lwr     upr     \n",
       "1 24.97462 16.8328 33.11645"
      ]
     },
     "metadata": {},
     "output_type": "display_data"
    }
   ],
   "source": [
    "# Intervalo de predição para a nota média de história para o turno noturno\n",
    "pre_his_not=predict(ajuste9,novo1,interval=\"prediction\",level=0.95)\n",
    "pre_his_not"
   ]
  },
  {
   "cell_type": "markdown",
   "metadata": {},
   "source": [
    "$\\color{red}{\\text{c)}}$ - **Faça novamente uma subdivisão dos cursos só que agora por condição de a disciplina ser prioritária ou não. Ajuste um MRLS a cada grupo, compare-os e verifique se o mais indicado é um modelo único ou dois modelos**"
   ]
  },
  {
   "cell_type": "code",
   "execution_count": 79,
   "metadata": {},
   "outputs": [
    {
     "data": {
      "text/plain": [
       "\n",
       "Call:\n",
       "lm(formula = NH ~ CV, data = hist_prio)\n",
       "\n",
       "Residuals:\n",
       "    Min      1Q  Median      3Q     Max \n",
       "-6.8091 -1.0210  0.2258  1.3987  5.8202 \n",
       "\n",
       "Coefficients:\n",
       "            Estimate Std. Error t value Pr(>|t|)    \n",
       "(Intercept)  19.2774     3.4046   5.662 0.000765 ***\n",
       "CV            0.6318     0.3454   1.829 0.110081    \n",
       "---\n",
       "Signif. codes:  0 '***' 0.001 '**' 0.01 '*' 0.05 '.' 0.1 ' ' 1\n",
       "\n",
       "Residual standard error: 3.986 on 7 degrees of freedom\n",
       "Multiple R-squared:  0.3234,\tAdjusted R-squared:  0.2267 \n",
       "F-statistic: 3.346 on 1 and 7 DF,  p-value: 0.1101\n"
      ]
     },
     "metadata": {},
     "output_type": "display_data"
    }
   ],
   "source": [
    "# Divisão de prioridades para história\n",
    "hist_prio= cursos %>% filter(HP==\"S\")\n",
    "hist_nprio= cursos %>% filter(HP==\"N\")\n",
    "\n",
    "#Ajuste do modelo \n",
    "ajuste11=lm(NH~CV,data=hist_prio)\n",
    "summary(ajuste11)"
   ]
  },
  {
   "cell_type": "markdown",
   "metadata": {},
   "source": [
    "O modelo estimado é dado por $\\hat{y}=19,27+0,63CV$ com um coeficiente de determinação de $R^2=32,34$%. É possível observar que o parâmetro $\\hat{\\beta_1}$ não é considerado significativo."
   ]
  },
  {
   "cell_type": "code",
   "execution_count": 80,
   "metadata": {},
   "outputs": [
    {
     "data": {
      "text/plain": [
       "\n",
       "Call:\n",
       "lm(formula = NH ~ CV, data = hist_nprio)\n",
       "\n",
       "Residuals:\n",
       "    Min      1Q  Median      3Q     Max \n",
       "-6.4302 -1.8995  0.1432  2.2971  3.9504 \n",
       "\n",
       "Coefficients:\n",
       "            Estimate Std. Error t value Pr(>|t|)    \n",
       "(Intercept) 18.61465    0.65938   28.23  < 2e-16 ***\n",
       "CV           0.20103    0.03323    6.05 6.64e-07 ***\n",
       "---\n",
       "Signif. codes:  0 '***' 0.001 '**' 0.01 '*' 0.05 '.' 0.1 ' ' 1\n",
       "\n",
       "Residual standard error: 2.968 on 35 degrees of freedom\n",
       "Multiple R-squared:  0.5112,\tAdjusted R-squared:  0.4972 \n",
       "F-statistic:  36.6 on 1 and 35 DF,  p-value: 6.636e-07\n"
      ]
     },
     "metadata": {},
     "output_type": "display_data"
    }
   ],
   "source": [
    "# Ajuste do modelo para não prioridade\n",
    "ajuste12=lm(NH~CV,data=hist_nprio)\n",
    "summary(ajuste12)"
   ]
  },
  {
   "cell_type": "markdown",
   "metadata": {},
   "source": [
    "O modelo estimado é dado por $\\hat{y}=18,61+0,20CV$ com um coeficiente de determinação de $51,12$% sendo considerado significativo. Não é necessário usarmos dois modelos, visto que apenas um dos modelos é significativo."
   ]
  },
  {
   "cell_type": "markdown",
   "metadata": {},
   "source": [
    "$\\color{red}{\\text{d)}}$ - **Refaça os itens anteriores considerando agora uma subdivisão dos cursos por período**"
   ]
  },
  {
   "cell_type": "markdown",
   "metadata": {},
   "source": [
    "Os modelos estimados que consideram uma subdivisão dos cursos por perído são ambos significativos para estimativa."
   ]
  },
  {
   "cell_type": "markdown",
   "metadata": {},
   "source": [
    "$\\color{red}{\\text{Exercício 7}}$ - **Retirado do livro: Análise de Modelos de Regressão Linear com Aplicações, de Charnet, Freire, Charnet e Bonvino** - Na tabela a seguir estão apresentados dados de consumo de combustível (km/l) e a potência do motor (HP) de duas marcas de carros (A e B).\n",
    "\n",
    "|  Marca  |   Marca  |  Marca  |   Marca  |\n",
    "|:-------:|:--------:|:-------:|:--------:|\n",
    "|    A    |     A    |    B    |     B    |\n",
    "| Consumo | Potência | Consumo | Potência |\n",
    "|    14   |    220   |    13   |    210   |\n",
    "|    13   |    240   |    12   |    240   |\n",
    "|    11   |    280   |    11   |    260   |\n",
    "|    9    |    300   |    10   |    290   |\n",
    "|    8    |    320   |    9    |    310   |\n",
    "\n",
    "+ a) Ajuste um MRLS para verificar a dependência do consumo em função da potência do motor, independente da marca do carro;\n",
    "+ b) Ajuste um MRLS para cada marca de carro;\n",
    "+ c) Pode-se concluir que as discrepâncias encontradas no modelo obtido no item (a) são devidas à variável marca?\n"
   ]
  },
  {
   "cell_type": "markdown",
   "metadata": {},
   "source": [
    "$\\color{red}{\\text{a)}}$ - **Ajuste um MRLS para verificar a dependência do consumo em função da potência do motor, independente da marca do carro**"
   ]
  },
  {
   "cell_type": "code",
   "execution_count": 86,
   "metadata": {},
   "outputs": [
    {
     "data": {
      "text/plain": [
       "\n",
       "Call:\n",
       "lm(formula = con ~ pot, data = q7)\n",
       "\n",
       "Residuals:\n",
       "    Min      1Q  Median      3Q     Max \n",
       "-0.8479 -0.3509 -0.1003  0.5244  0.6518 \n",
       "\n",
       "Coefficients:\n",
       "             Estimate Std. Error t value Pr(>|t|)    \n",
       "(Intercept) 24.340045   1.307458   18.62 7.15e-08 ***\n",
       "pot         -0.049963   0.004851  -10.30 6.81e-06 ***\n",
       "---\n",
       "Signif. codes:  0 '***' 0.001 '**' 0.01 '*' 0.05 '.' 0.1 ' ' 1\n",
       "\n",
       "Residual standard error: 0.5618 on 8 degrees of freedom\n",
       "Multiple R-squared:  0.9299,\tAdjusted R-squared:  0.9211 \n",
       "F-statistic: 106.1 on 1 and 8 DF,  p-value: 6.812e-06\n"
      ]
     },
     "metadata": {},
     "output_type": "display_data"
    }
   ],
   "source": [
    "#Entrando com os dados\n",
    "pot=c(220,240,280,300,320,210,240,260,290,310)\n",
    "con=c(14,13,11,9,8,13,12,11,10,9)\n",
    "q7=data.frame(pot,con)\n",
    "\n",
    "\n",
    "#Ajustando o modelo\n",
    "ajuste13=lm(con~pot,data=q7)\n",
    "summary(ajuste13)"
   ]
  },
  {
   "cell_type": "markdown",
   "metadata": {},
   "source": [
    "O modelo estimado é dado por $\\hat{y}=24,34-0,04pot$ com um coeficiente de determinação de $R^2=92,99$%."
   ]
  },
  {
   "cell_type": "markdown",
   "metadata": {},
   "source": [
    "$\\color{red}{\\text{b)}}$ - **Ajuste um MRLS para cada marca de carro** "
   ]
  },
  {
   "cell_type": "code",
   "execution_count": 90,
   "metadata": {},
   "outputs": [
    {
     "data": {
      "text/plain": [
       "\n",
       "Call:\n",
       "lm(formula = con_a ~ pot_a, data = dados14)\n",
       "\n",
       "Residuals:\n",
       "       1        2        3        4        5 \n",
       "-0.17442  0.04651  0.48837 -0.29070 -0.06977 \n",
       "\n",
       "Coefficients:\n",
       "             Estimate Std. Error t value Pr(>|t|)    \n",
       "(Intercept) 27.604651   1.147221   24.06 0.000157 ***\n",
       "pot_a       -0.061047   0.004179  -14.61 0.000696 ***\n",
       "---\n",
       "Signif. codes:  0 '***' 0.001 '**' 0.01 '*' 0.05 '.' 0.1 ' ' 1\n",
       "\n",
       "Residual standard error: 0.3466 on 3 degrees of freedom\n",
       "Multiple R-squared:  0.9861,\tAdjusted R-squared:  0.9815 \n",
       "F-statistic: 213.4 on 1 and 3 DF,  p-value: 0.0006957\n"
      ]
     },
     "metadata": {},
     "output_type": "display_data"
    }
   ],
   "source": [
    "#Marca A\n",
    "pot_a=c(220,240,280,300,320)\n",
    "con_a=c(14,13,11,9,8)\n",
    "dados14=data.frame(pot_a,con_a)\n",
    "ajuste14=lm(con_a~pot_a,data=dados14)\n",
    "summary(ajuste14)"
   ]
  },
  {
   "cell_type": "markdown",
   "metadata": {},
   "source": [
    "O modelo estimado para a marca A é dado por $\\hat{y}=27,60-0,061pot_A$ com um coeficiente de determinação de $R^2=98,61$%."
   ]
  },
  {
   "cell_type": "code",
   "execution_count": 91,
   "metadata": {},
   "outputs": [
    {
     "data": {
      "text/plain": [
       "\n",
       "Call:\n",
       "lm(formula = con_b ~ pot_b, data = modB)\n",
       "\n",
       "Residuals:\n",
       "       1        2        3        4        5 \n",
       "-0.07006  0.12420 -0.07962  0.11465 -0.08917 \n",
       "\n",
       "Coefficients:\n",
       "             Estimate Std. Error t value Pr(>|t|)    \n",
       "(Intercept) 21.429936   0.420997    50.9 1.67e-05 ***\n",
       "pot_b       -0.039809   0.001592   -25.0  0.00014 ***\n",
       "---\n",
       "Signif. codes:  0 '***' 0.001 '**' 0.01 '*' 0.05 '.' 0.1 ' ' 1\n",
       "\n",
       "Residual standard error: 0.1262 on 3 degrees of freedom\n",
       "Multiple R-squared:  0.9952,\tAdjusted R-squared:  0.9936 \n",
       "F-statistic:   625 on 1 and 3 DF,  p-value: 0.0001403\n"
      ]
     },
     "metadata": {},
     "output_type": "display_data"
    }
   ],
   "source": [
    "# Modelo para a marca B\n",
    "pot_b=c(210,240,260,290,310)\n",
    "con_b=c(13,12,11,10,9)\n",
    "modB=data.frame(pot_b,con_b)\n",
    "\n",
    "#Ajuste do modelo\n",
    "ajuste15=lm(con_b~pot_b,data=modB)\n",
    "summary(ajuste15)"
   ]
  },
  {
   "cell_type": "markdown",
   "metadata": {},
   "source": [
    "O modelo estimado é dado por $\\hat{y}=21,42-0,039809pot_b$ com um coeficiente de determinação de $R^2=99,52\\%$."
   ]
  },
  {
   "cell_type": "markdown",
   "metadata": {},
   "source": [
    "$\\color{red}{\\text{c)}}$ - **Pode-se concluir que as discrepâncias encontradas no modelo obtido no item (a) são devidas à variável marca?**"
   ]
  },
   {
   "cell_type": "markdown",
   "metadata": {},
   "source": [
    "O único modelo obteve um coeficiente de determinação inferior aos modelos por marca, isso é devido a discrepâncias encontradas no modelo geral. Neste caso é mais conveniênte usarmos dois modelos para fazermos "
   ]
  }
 ],
 "metadata": {
  "kernelspec": {
   "display_name": "R",
   "language": "R",
   "name": "ir"
  },
  "language_info": {
   "codemirror_mode": "r",
   "file_extension": ".r",
   "mimetype": "text/x-r-source",
   "name": "R",
   "pygments_lexer": "r",
   "version": "3.6.1"
  }
 },
 "nbformat": 4,
 "nbformat_minor": 4
}
