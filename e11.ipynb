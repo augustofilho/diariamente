{
 "cells": [
  {
   "cell_type": "markdown",
   "metadata": {},
   "source": [
    "# Day 11:30 daily statistics - Usando Julia"
   ]
  },
  {
   "cell_type": "code",
   "execution_count": 1,
   "metadata": {},
   "outputs": [],
   "source": [
    "#Importando pacotes\n",
    "\n",
    "#using Pkg                     #Pacote para instalar novos pacotes\n",
    "#Pkg.add(\"DataFrames\")\n",
    "#Pkg.add(\"CSV\")\n",
    "#Pkg.add(\"Plots\")\n",
    "#Pkg.add(\"Lathe\")\n",
    "#Pkg.add(\"GLM\")\n",
    "#Pkg.add(\"StatsPlots\")\n",
    "#Pkg.add(\"MLBase\")\n"
   ]
  },
  {
   "cell_type": "code",
   "execution_count": 2,
   "metadata": {},
   "outputs": [],
   "source": [
    "# Carregando os pacotes \n",
    "using DataFrames\n",
    "using CSV\n",
    "using Plots\n",
    "#using Lathe\n",
    "using GLM\n",
    "#using Statistics\n",
    "#using StatsPlots\n",
    "#using MLBase\n",
    "\n"
   ]
  },
  {
   "cell_type": "markdown",
   "metadata": {},
   "source": [
    "$\\color{red}{\\text{Exercício 1}}$ - **Retirado do livro: Análise de Modelos de Regressão Linear com Aplicações, de Charnet, Freire, Charnet e Bonvino** - Os alunos de um curso são avaliados em uma prova teórica e uma prova de laboratório, podendo receber de 0 a 100 pontos em cada uma delas. Para se estudar a relação entre as notas das provas teórica e de laboratório, foi utilizada uma amostra de 50 alunos, obtendo-se os seguintes resultados:\n",
    "\n",
    "| Teórica |    |    |    |    |    |\n",
    "|:-------:|:--:|:--:|:--:|:--:|:--:|\n",
    "|    0    |  0 |  4 |  3 | 10 |  8 |\n",
    "|    10   |  6 |  8 | 10 |  7 | 16 |\n",
    "|    20   | 15 | 18 | 15 | 22 | 29 |\n",
    "|    30   | 13 | 22 | 28 | 25 | 35 |\n",
    "|    40   | 29 | 36 | 33 | 41 | 48 |\n",
    "|    50   | 42 | 27 | 50 | 53 | 58 |\n",
    "|    60   | 55 | 58 | 61 | 63 | 66 |\n",
    "|    70   | 59 | 64 | 66 | 69 | 73 |\n",
    "|    80   | 71 | 77 | 79 | 81 | 84 |\n",
    "|    90   | 85 | 84 | 88 | 90 | 91 |\n",
    "\n",
    "\n",
    "Estime $\\beta_0$, $\\beta_1$ e $\\sigma^2$."
   ]
  },
  {
   "cell_type": "code",
   "execution_count": 3,
   "metadata": {},
   "outputs": [
    {
     "data": {
      "text/html": [
       "<table class=\"data-frame\"><thead><tr><th></th><th>variable</th><th>mean</th><th>min</th><th>median</th><th>max</th><th>nunique</th><th>nmissing</th><th>eltype</th></tr><tr><th></th><th>Symbol</th><th>Float64</th><th>Int64</th><th>Float64</th><th>Int64</th><th>Nothing</th><th>Nothing</th><th>DataType</th></tr></thead><tbody><p>2 rows × 8 columns</p><tr><th>1</th><td>teo</td><td>45.0</td><td>0</td><td>45.0</td><td>90</td><td></td><td></td><td>Int64</td></tr><tr><th>2</th><td>lab</td><td>43.5</td><td>0</td><td>41.5</td><td>91</td><td></td><td></td><td>Int64</td></tr></tbody></table>"
      ],
      "text/latex": [
       "\\begin{tabular}{r|cccccccc}\n",
       "\t& variable & mean & min & median & max & nunique & nmissing & eltype\\\\\n",
       "\t\\hline\n",
       "\t& Symbol & Float64 & Int64 & Float64 & Int64 & Nothing & Nothing & DataType\\\\\n",
       "\t\\hline\n",
       "\t1 & teo & 45.0 & 0 & 45.0 & 90 &  &  & Int64 \\\\\n",
       "\t2 & lab & 43.5 & 0 & 41.5 & 91 &  &  & Int64 \\\\\n",
       "\\end{tabular}\n"
      ],
      "text/plain": [
       "2×8 DataFrame. Omitted printing of 1 columns\n",
       "│ Row │ variable │ mean    │ min   │ median  │ max   │ nunique │ nmissing │\n",
       "│     │ \u001b[90mSymbol\u001b[39m   │ \u001b[90mFloat64\u001b[39m │ \u001b[90mInt64\u001b[39m │ \u001b[90mFloat64\u001b[39m │ \u001b[90mInt64\u001b[39m │ \u001b[90mNothing\u001b[39m │ \u001b[90mNothing\u001b[39m  │\n",
       "├─────┼──────────┼─────────┼───────┼─────────┼───────┼─────────┼──────────┤\n",
       "│ 1   │ teo      │ 45.0    │ 0     │ 45.0    │ 90    │         │          │\n",
       "│ 2   │ lab      │ 43.5    │ 0     │ 41.5    │ 91    │         │          │"
      ]
     },
     "execution_count": 3,
     "metadata": {},
     "output_type": "execute_result"
    }
   ],
   "source": [
    "#O conjunto de dados será apresentado por uma planilha com extensão .csv no Excel\n",
    "#Carregando o conjunto de dados\n",
    "\n",
    "base=DataFrame(CSV.File(\"laboratorio.csv\"))           #Carregando a base de dados\n",
    "describe(base)                                        #Um pequeno resumo dos resultados encontrados"
   ]
  },
  {
   "cell_type": "code",
   "execution_count": 4,
   "metadata": {},
   "outputs": [
    {
     "data": {
      "text/plain": [
       "StatsModels.TableRegressionModel{LinearModel{GLM.LmResp{Array{Float64,1}},GLM.DensePredChol{Float64,LinearAlgebra.Cholesky{Float64,Array{Float64,2}}}},Array{Float64,2}}\n",
       "\n",
       "lab ~ 1 + teo\n",
       "\n",
       "Coefficients:\n",
       "────────────────────────────────────────────────────────────────────────\n",
       "                Coef.  Std. Error      t  Pr(>|t|)  Lower 95%  Upper 95%\n",
       "────────────────────────────────────────────────────────────────────────\n",
       "(Intercept)  0.545455   1.6759      0.33    0.7462  -2.82417     3.91508\n",
       "teo          0.954545   0.0313925  30.41    <1e-32   0.891427    1.01766\n",
       "────────────────────────────────────────────────────────────────────────"
      ]
     },
     "execution_count": 4,
     "metadata": {},
     "output_type": "execute_result"
    }
   ],
   "source": [
    "#Estimação dos parâmetros\n",
    "ajuste=lm(@formula(lab~teo),base)"
   ]
  },
  {
   "cell_type": "markdown",
   "metadata": {},
   "source": [
    "O método dos quadrados mínimos encontrou para $\\beta_0=0,545455$ e $\\beta_1=0,954545$."
   ]
  },
  {
   "cell_type": "code",
   "execution_count": 5,
   "metadata": {},
   "outputs": [
    {
     "data": {
      "text/plain": [
       "40.651515151515156"
      ]
     },
     "execution_count": 5,
     "metadata": {},
     "output_type": "execute_result"
    }
   ],
   "source": [
    "#Determinação de sigma^2\n",
    "var2=deviance(ajuste)/dof_residual(ajuste)                  "
   ]
  },
  {
   "cell_type": "markdown",
   "metadata": {},
   "source": [
    "$\\color{red}{\\text{Exercício 2}}$ - **Retirado do livro: Análise de Modelos de Regressão Linear com Aplicações, de Charnet, Freire, Charnet e Bonvino** - Com o objetivo de se estudar a relação entre a temperatura e o tempo de uma reação química, um certo experimento foi realizado 35 vezes, para 7 temperaturas diferentes e observou-se o tempo de reação. A tabela dada a seguir contém os valores das temperaturas, em C, e os tempos obtidos, em segundos.\n",
    "\n",
    "| Temperatura | Tempo | Tempo | Tempo | Tempo | Tempo |\n",
    "|:-----------:|:-----:|:-----:|:-----:|:-----:|:-----:|\n",
    "|      20     |  12,3 |  11,8 |  11,5 |  12,1 |  11,7 |\n",
    "|      30     |  11,8 |  11,5 |  11,4 |  11,7 |  11,2 |\n",
    "|      40     |  10,9 |  11,2 |  10,8 |  10,6 |  10,3 |\n",
    "|      50     |  10,4 |  9,8  |  9,5  |  9,9  |  9,2  |\n",
    "|      60     |  9,6  |  9,0  |  8,7  |  8,3  |  9,1  |\n",
    "|      70     |  9,1  |  9,3  |  8,5  |  8,6  |  8,3  |\n",
    "|      80     |  8,4  |  8,1  |  8,1  |  7,7  |  7,9  |\n",
    "\n",
    "\n",
    "\n",
    "+ a) Estime $\\beta_0$ e $\\beta_1$ e $\\sigma^2$\n",
    "+ b) Construa intervalos de confiança de 95% para: $\\beta_0$, $\\beta_1$."
   ]
  },
  {
   "cell_type": "code",
   "execution_count": 6,
   "metadata": {},
   "outputs": [
    {
     "data": {
      "text/html": [
       "<table class=\"data-frame\"><thead><tr><th></th><th>x1</th><th>x2</th></tr><tr><th></th><th>Float64</th><th>Float64</th></tr></thead><tbody><p>35 rows × 2 columns</p><tr><th>1</th><td>20.0</td><td>12.3</td></tr><tr><th>2</th><td>20.0</td><td>11.8</td></tr><tr><th>3</th><td>20.0</td><td>11.5</td></tr><tr><th>4</th><td>20.0</td><td>12.1</td></tr><tr><th>5</th><td>20.0</td><td>11.7</td></tr><tr><th>6</th><td>30.0</td><td>11.8</td></tr><tr><th>7</th><td>30.0</td><td>11.5</td></tr><tr><th>8</th><td>30.0</td><td>11.4</td></tr><tr><th>9</th><td>30.0</td><td>11.7</td></tr><tr><th>10</th><td>30.0</td><td>11.2</td></tr><tr><th>11</th><td>40.0</td><td>10.9</td></tr><tr><th>12</th><td>40.0</td><td>11.2</td></tr><tr><th>13</th><td>40.0</td><td>10.8</td></tr><tr><th>14</th><td>40.0</td><td>10.6</td></tr><tr><th>15</th><td>40.0</td><td>10.3</td></tr><tr><th>16</th><td>50.0</td><td>10.4</td></tr><tr><th>17</th><td>50.0</td><td>9.8</td></tr><tr><th>18</th><td>50.0</td><td>9.5</td></tr><tr><th>19</th><td>50.0</td><td>9.9</td></tr><tr><th>20</th><td>50.0</td><td>9.2</td></tr><tr><th>21</th><td>60.0</td><td>9.6</td></tr><tr><th>22</th><td>60.0</td><td>9.0</td></tr><tr><th>23</th><td>60.0</td><td>8.7</td></tr><tr><th>24</th><td>60.0</td><td>8.3</td></tr><tr><th>25</th><td>60.0</td><td>9.1</td></tr><tr><th>26</th><td>70.0</td><td>9.1</td></tr><tr><th>27</th><td>70.0</td><td>9.3</td></tr><tr><th>28</th><td>70.0</td><td>8.5</td></tr><tr><th>29</th><td>70.0</td><td>8.6</td></tr><tr><th>30</th><td>70.0</td><td>8.3</td></tr><tr><th>&vellip;</th><td>&vellip;</td><td>&vellip;</td></tr></tbody></table>"
      ],
      "text/latex": [
       "\\begin{tabular}{r|cc}\n",
       "\t& x1 & x2\\\\\n",
       "\t\\hline\n",
       "\t& Float64 & Float64\\\\\n",
       "\t\\hline\n",
       "\t1 & 20.0 & 12.3 \\\\\n",
       "\t2 & 20.0 & 11.8 \\\\\n",
       "\t3 & 20.0 & 11.5 \\\\\n",
       "\t4 & 20.0 & 12.1 \\\\\n",
       "\t5 & 20.0 & 11.7 \\\\\n",
       "\t6 & 30.0 & 11.8 \\\\\n",
       "\t7 & 30.0 & 11.5 \\\\\n",
       "\t8 & 30.0 & 11.4 \\\\\n",
       "\t9 & 30.0 & 11.7 \\\\\n",
       "\t10 & 30.0 & 11.2 \\\\\n",
       "\t11 & 40.0 & 10.9 \\\\\n",
       "\t12 & 40.0 & 11.2 \\\\\n",
       "\t13 & 40.0 & 10.8 \\\\\n",
       "\t14 & 40.0 & 10.6 \\\\\n",
       "\t15 & 40.0 & 10.3 \\\\\n",
       "\t16 & 50.0 & 10.4 \\\\\n",
       "\t17 & 50.0 & 9.8 \\\\\n",
       "\t18 & 50.0 & 9.5 \\\\\n",
       "\t19 & 50.0 & 9.9 \\\\\n",
       "\t20 & 50.0 & 9.2 \\\\\n",
       "\t21 & 60.0 & 9.6 \\\\\n",
       "\t22 & 60.0 & 9.0 \\\\\n",
       "\t23 & 60.0 & 8.7 \\\\\n",
       "\t24 & 60.0 & 8.3 \\\\\n",
       "\t25 & 60.0 & 9.1 \\\\\n",
       "\t26 & 70.0 & 9.1 \\\\\n",
       "\t27 & 70.0 & 9.3 \\\\\n",
       "\t28 & 70.0 & 8.5 \\\\\n",
       "\t29 & 70.0 & 8.6 \\\\\n",
       "\t30 & 70.0 & 8.3 \\\\\n",
       "\t$\\dots$ & $\\dots$ & $\\dots$ \\\\\n",
       "\\end{tabular}\n"
      ],
      "text/plain": [
       "35×2 DataFrame\n",
       "│ Row │ x1      │ x2      │\n",
       "│     │ \u001b[90mFloat64\u001b[39m │ \u001b[90mFloat64\u001b[39m │\n",
       "├─────┼─────────┼─────────┤\n",
       "│ 1   │ 20.0    │ 12.3    │\n",
       "│ 2   │ 20.0    │ 11.8    │\n",
       "│ 3   │ 20.0    │ 11.5    │\n",
       "│ 4   │ 20.0    │ 12.1    │\n",
       "│ 5   │ 20.0    │ 11.7    │\n",
       "│ 6   │ 30.0    │ 11.8    │\n",
       "│ 7   │ 30.0    │ 11.5    │\n",
       "│ 8   │ 30.0    │ 11.4    │\n",
       "│ 9   │ 30.0    │ 11.7    │\n",
       "│ 10  │ 30.0    │ 11.2    │\n",
       "⋮\n",
       "│ 25  │ 60.0    │ 9.1     │\n",
       "│ 26  │ 70.0    │ 9.1     │\n",
       "│ 27  │ 70.0    │ 9.3     │\n",
       "│ 28  │ 70.0    │ 8.5     │\n",
       "│ 29  │ 70.0    │ 8.6     │\n",
       "│ 30  │ 70.0    │ 8.3     │\n",
       "│ 31  │ 80.0    │ 8.4     │\n",
       "│ 32  │ 80.0    │ 8.1     │\n",
       "│ 33  │ 80.0    │ 8.1     │\n",
       "│ 34  │ 80.0    │ 7.7     │\n",
       "│ 35  │ 80.0    │ 7.9     │"
      ]
     },
     "execution_count": 6,
     "metadata": {},
     "output_type": "execute_result"
    }
   ],
   "source": [
    "#Entrando com os dados\n",
    "ano=repeat([20,30,40,50,60,70,80], inner = 5, outer = 1);  \n",
    "tempo=([12.3, 11.8, 11.5, 12.1, 11.7, 11.8, 11.5, 11.4, 11.7, 11.2, 10.9, 11.2, 10.8, 10.6, 10.3, 10.4, 9.8, 9.5, 9.9, 9.2, 9.6, 9, 8.7, 8.3, 9.1, 9.1, 9.3, 8.5, 8.6, 8.3, 8.4, 8.1, 8.1, 7.7, 7.9])\n",
    "dados = DataFrame([ano, tempo])               #Data frame com os dados"
   ]
  },
  {
   "cell_type": "code",
   "execution_count": 7,
   "metadata": {},
   "outputs": [
    {
     "data": {
      "text/plain": [
       "StatsModels.TableRegressionModel{LinearModel{GLM.LmResp{Array{Float64,1}},GLM.DensePredChol{Float64,LinearAlgebra.Cholesky{Float64,Array{Float64,2}}}},Array{Float64,2}}\n",
       "\n",
       "x2 ~ 1 + x1\n",
       "\n",
       "Coefficients:\n",
       "─────────────────────────────────────────────────────────────────────────────\n",
       "                  Coef.  Std. Error       t  Pr(>|t|)   Lower 95%   Upper 95%\n",
       "─────────────────────────────────────────────────────────────────────────────\n",
       "(Intercept)  13.3193     0.179441     74.23    <1e-37  12.9542     13.6844\n",
       "x1           -0.0673571  0.00333213  -20.21    <1e-19  -0.0741364  -0.0605779\n",
       "─────────────────────────────────────────────────────────────────────────────"
      ]
     },
     "execution_count": 7,
     "metadata": {},
     "output_type": "execute_result"
    }
   ],
   "source": [
    "#Encontrando os valores dos coeficientes do modelo\n",
    "ajuste2=lm(@formula(x2~x1),dados)"
   ]
  },
  {
   "cell_type": "markdown",
   "metadata": {},
   "source": [
    "Portanto os coeficientes $\\beta_0$ e $\\beta_1$ são respectivamente 13,3193 e -0,0673571."
   ]
  },
  {
   "cell_type": "markdown",
   "metadata": {},
   "source": [
    "O estimador de $\\sigma^2$ é dado por $\\sigma^2=\\frac{QM_{resíduo}}{(n-2)}$ é:"
   ]
  },
  {
   "cell_type": "code",
   "execution_count": 8,
   "metadata": {},
   "outputs": [
    {
     "data": {
      "text/plain": [
       "0.155443722943723"
      ]
     },
     "execution_count": 8,
     "metadata": {},
     "output_type": "execute_result"
    }
   ],
   "source": [
    "sigma2=deviance(ajuste2)/dof_residual(ajuste2)   "
   ]
  },
  {
   "cell_type": "markdown",
   "metadata": {},
   "source": [
    "O intervalos de confiança encontrados são dados por $(12,9542 \\leq \\beta_0 \\leq 13,6844)$ e $(-0,0741364 \\leq \\beta_1 \\leq -0,0605779)$ ao nível de 95% de confiança."
   ]
  }
 ],
 "metadata": {
  "kernelspec": {
   "display_name": "Julia 1.5.2",
   "language": "julia",
   "name": "julia-1.5"
  },
  "language_info": {
   "file_extension": ".jl",
   "mimetype": "application/julia",
   "name": "julia",
   "version": "1.5.2"
  }
 },
 "nbformat": 4,
 "nbformat_minor": 4
}
