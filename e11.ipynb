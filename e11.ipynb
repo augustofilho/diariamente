{
 "cells": [
  {
   "cell_type": "markdown",
   "metadata": {},
   "source": [
    "# Day 11:30 daily statistics - Usando Julia"
   ]
  },
  {
   "cell_type": "code",
   "execution_count": 1,
   "metadata": {},
   "outputs": [],
   "source": [
    "#Importando pacotes\n",
    "\n",
    "#using Pkg                     #Pacote para instalar novos pacotes\n",
    "#Pkg.add(\"DataFrames\")\n",
    "#Pkg.add(\"CSV\")\n",
    "#Pkg.add(\"Plots\")\n",
    "#Pkg.add(\"Lathe\")\n",
    "#Pkg.add(\"GLM\")\n",
    "#Pkg.add(\"StatsPlots\")\n",
    "#Pkg.add(\"MLBase\")\n"
   ]
  },
  {
   "cell_type": "code",
   "execution_count": 2,
   "metadata": {},
   "outputs": [],
   "source": [
    "# Carregando os pacotes \n",
    "using DataFrames\n",
    "using CSV\n",
    "using Plots\n",
    "#using Lathe\n",
    "using GLM\n",
    "#using Statistics\n",
    "#using StatsPlots\n",
    "#using MLBase\n",
    "\n"
   ]
  },
  {
   "cell_type": "markdown",
   "metadata": {},
   "source": [
    "$\\color{red}{\\text{Exercício 1}}$ - **Retirado do livro: Análise de Modelos de Regressão Linear com Aplicações, de Charnet, Freire, Charnet e Bonvino** - Os alunos de um curso são avaliados em uma prova teórica e uma prova de laboratório, podendo receber de 0 a 100 pontos em cada uma delas. Para se estudar a relação entre as notas das provas teórica e de laboratório, foi utilizada uma amostra de 50 alunos, obtendo-se os seguintes resultados:\n",
    "\n",
    "| Teórica |    |    |    |    |    |\n",
    "|:-------:|:--:|:--:|:--:|:--:|:--:|\n",
    "|    0    |  0 |  4 |  3 | 10 |  8 |\n",
    "|    10   |  6 |  8 | 10 |  7 | 16 |\n",
    "|    20   | 15 | 18 | 15 | 22 | 29 |\n",
    "|    30   | 13 | 22 | 28 | 25 | 35 |\n",
    "|    40   | 29 | 36 | 33 | 41 | 48 |\n",
    "|    50   | 42 | 27 | 50 | 53 | 58 |\n",
    "|    60   | 55 | 58 | 61 | 63 | 66 |\n",
    "|    70   | 59 | 64 | 66 | 69 | 73 |\n",
    "|    80   | 71 | 77 | 79 | 81 | 84 |\n",
    "|    90   | 85 | 84 | 88 | 90 | 91 |\n",
    "\n",
    "\n",
    "Estime $\\beta_0$, $\\beta_1$ e $\\sigma^2$."
   ]
  },
  {
   "cell_type": "code",
   "execution_count": null,
   "metadata": {},
   "outputs": [],
   "source": [
    "#O conjunto de dados será apresentado por uma planilha com extensão .csv no Excel\n",
    "#Carregando o conjunto de dados\n",
    "\n",
    "base=DataFrame(CSV.File(\"laboratorio.csv\"))           #Carregando a base de dados\n",
    "describe(base)                                        #Um pequeno resumo dos resultados encontrados"
   ]
  },
  {
   "cell_type": "code",
   "execution_count": null,
   "metadata": {},
   "outputs": [],
   "source": [
    "#Estimação dos parâmetros\n",
    "ajuste=lm(@formula(lab~teo),base)"
   ]
  },
  {
   "cell_type": "markdown",
   "metadata": {},
   "source": [
    "O método dos quadrados mínimos encontrou para $\\beta_0=0,545455$ e $\\beta_1=0,954545$."
   ]
  },
  {
   "cell_type": "code",
   "execution_count": null,
   "metadata": {},
   "outputs": [],
   "source": [
    "#Determinação de sigma^2\n",
    "var2=deviance(ajuste)/dof_residual(ajuste)                  "
   ]
  },
  {
   "cell_type": "markdown",
   "metadata": {},
   "source": [
    "$\\color{red}{\\text{Exercício 2}}$ - **Retirado do livro: Análise de Modelos de Regressão Linear com Aplicações, de Charnet, Freire, Charnet e Bonvino** - Com o objetivo de se estudar a relação entre a temperatura e o tempo de uma reação química, um certo experimento foi realizado 35 vezes, para 7 temperaturas diferentes e observou-se o tempo de reação. A tabela dada a seguir contém os valores das temperaturas, em C, e os tempos obtidos, em segundos.\n",
    "\n",
    "| Temperatura | Tempo | Tempo | Tempo | Tempo | Tempo |\n",
    "|:-----------:|:-----:|:-----:|:-----:|:-----:|:-----:|\n",
    "|      20     |  12,3 |  11,8 |  11,5 |  12,1 |  11,7 |\n",
    "|      30     |  11,8 |  11,5 |  11,4 |  11,7 |  11,2 |\n",
    "|      40     |  10,9 |  11,2 |  10,8 |  10,6 |  10,3 |\n",
    "|      50     |  10,4 |  9,8  |  9,5  |  9,9  |  9,2  |\n",
    "|      60     |  9,6  |  9,0  |  8,7  |  8,3  |  9,1  |\n",
    "|      70     |  9,1  |  9,3  |  8,5  |  8,6  |  8,3  |\n",
    "|      80     |  8,4  |  8,1  |  8,1  |  7,7  |  7,9  |\n",
    "\n",
    "\n",
    "\n",
    "+ a) Estime $\\beta_0$ e $\\beta_1$ e $\\sigma^2$\n",
    "+ b) Construa intervalos de confiança de 95% para: $\\beta_0$, $\\beta_1$."
   ]
  },
  {
   "cell_type": "code",
   "execution_count": null,
   "metadata": {},
   "outputs": [],
   "source": [
    "#Entrando com os dados\n",
    "ano=repeat([20,30,40,50,60,70,80], inner = 5, outer = 1);  \n",
    "tempo=([12.3, 11.8, 11.5, 12.1, 11.7, 11.8, 11.5, 11.4, 11.7, 11.2, 10.9, 11.2, 10.8, 10.6, 10.3, 10.4, 9.8, 9.5, 9.9, 9.2, 9.6, 9, 8.7, 8.3, 9.1, 9.1, 9.3, 8.5, 8.6, 8.3, 8.4, 8.1, 8.1, 7.7, 7.9])\n",
    "dados = DataFrame([ano, tempo])               #Data frame com os dados"
   ]
  },
  {
   "cell_type": "code",
   "execution_count": null,
   "metadata": {},
   "outputs": [],
   "source": [
    "#Encontrando os valores dos coeficientes do modelo\n",
    "ajuste2=lm(@formula(x2~x1),dados)"
   ]
  },
  {
   "cell_type": "markdown",
   "metadata": {},
   "source": [
    "Portanto os coeficientes $\\beta_0$ e $\\beta_1$ são respectivamente 13,3193 e -0,0673571."
   ]
  },
  {
   "cell_type": "markdown",
   "metadata": {},
   "source": [
    "O estimador de $\\sigma^2$ é dado por $\\sigma^2=\\frac{QM_{resíduo}}{(n-2)}$ é:"
   ]
  },
  {
   "cell_type": "code",
   "execution_count": null,
   "metadata": {},
   "outputs": [],
   "source": [
    "sigma2=deviance(ajuste2)/dof_residual(ajuste2)   "
   ]
  },
  {
   "cell_type": "markdown",
   "metadata": {},
   "source": [
    "O intervalos de confiança encontrados são dados por $(12,9542 \\leq \\beta_0 \\leq 13,6844)$ e $(-0,0741364 \\leq \\beta_1 \\leq -0,0605779)$ ao nível de 95% de confiança."
   ]
  }
 ],
 "metadata": {
  "kernelspec": {
   "display_name": "Julia 1.5.2",
   "language": "julia",
   "name": "julia-1.5"
  },
  "language_info": {
   "file_extension": ".jl",
   "mimetype": "application/julia",
   "name": "julia",
   "version": "1.5.2"
  }
 },
 "nbformat": 4,
 "nbformat_minor": 4
}
