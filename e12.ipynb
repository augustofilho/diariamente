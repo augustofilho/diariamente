{
 "cells": [
  {
   "cell_type": "markdown",
   "metadata": {},
   "source": [
    "# Day 12:30 daily statistics - Regressão Simples - Parte 3"
   ]
  },
  {
   "cell_type": "markdown",
   "metadata": {},
   "source": [
    "$\\color{red}{\\text{Exercício 3}}$ - **Retirado do livro: Análise de Modelos de Regressão Linear com Aplicações, de Charnet, Freire, Charnet e Bonvino** - Um experimento químico foi repetido 5 vezes, sob uma mesma temperatura fixa, e foi observada a quantidade de um certo composto químico catalisado em 100 mil de água. Os dados abaixo são relativos à quantidade, em gramas, do componente químico, a várias temperaturas, em C.\n",
    "\n",
    "| Temperatura | 0 | 10 | 20 | 30 | 40 | 50 | 60 | 70 | 80 | 90 |\n",
    "|:-----------:|:-:|:--:|:--:|:--:|:--:|:--:|:--:|:--:|:--:|:--:|\n",
    "|  Quantidade | 7 | 10 | 15 | 22 | 32 | 38 | 46 | 50 | 55 | 60 |\n",
    "|  Quantidade | 8 | 12 | 18 | 25 | 30 | 37 | 43 | 52 | 58 | 64 |\n",
    "|  Quantidade | 8 | 11 | 17 | 28 | 35 | 38 | 49 | 54 | 56 | 58 |\n",
    "|  Quantidade | 6 | 10 | 18 | 21 | 33 | 40 | 45 | 52 | 58 | 59 |\n",
    "|  Quantidade | 7 | 12 | 20 | 26 | 32 | 41 | 48 | 53 | 56 | 61 |\n",
    "\n",
    "+ a) Estime os coeficientes da reta que estabelece a relação entre a temperatura e a quantidade do componente;\n",
    "+ b) Construa intervalos de confiança de 90% para $\\beta_0$, $\\beta_1$ e $\\sigma^2$."
   ]
  },
  {
   "cell_type": "code",
   "execution_count": 1,
   "metadata": {},
   "outputs": [
    {
     "data": {
      "text/html": [
       "<table>\n",
       "<thead><tr><th scope=col>temperatura</th><th scope=col>quantidade</th></tr></thead>\n",
       "<tbody>\n",
       "\t<tr><td> 0</td><td> 7</td></tr>\n",
       "\t<tr><td> 0</td><td> 8</td></tr>\n",
       "\t<tr><td> 0</td><td> 8</td></tr>\n",
       "\t<tr><td> 0</td><td> 6</td></tr>\n",
       "\t<tr><td> 0</td><td> 7</td></tr>\n",
       "\t<tr><td>10</td><td>10</td></tr>\n",
       "</tbody>\n",
       "</table>\n"
      ],
      "text/latex": [
       "\\begin{tabular}{r|ll}\n",
       " temperatura & quantidade\\\\\n",
       "\\hline\n",
       "\t  0 &  7\\\\\n",
       "\t  0 &  8\\\\\n",
       "\t  0 &  8\\\\\n",
       "\t  0 &  6\\\\\n",
       "\t  0 &  7\\\\\n",
       "\t 10 & 10\\\\\n",
       "\\end{tabular}\n"
      ],
      "text/markdown": [
       "\n",
       "| temperatura | quantidade |\n",
       "|---|---|\n",
       "|  0 |  7 |\n",
       "|  0 |  8 |\n",
       "|  0 |  8 |\n",
       "|  0 |  6 |\n",
       "|  0 |  7 |\n",
       "| 10 | 10 |\n",
       "\n"
      ],
      "text/plain": [
       "  temperatura quantidade\n",
       "1  0           7        \n",
       "2  0           8        \n",
       "3  0           8        \n",
       "4  0           6        \n",
       "5  0           7        \n",
       "6 10          10        "
      ]
     },
     "metadata": {},
     "output_type": "display_data"
    }
   ],
   "source": [
    "#Entrando com os dados\n",
    "x=seq(0,90,by=10)                                       #Entrando com os dados da temperatura\n",
    "temperatura=rep(x,each = 5, times = 1) \n",
    "quantidade=c(7,8,8,6,7,10,12,11,10,12,15,18,\n",
    "             17,18,20,22,25,28,21,26,32, 30,\n",
    "             35,33,32,38,37,38,40,41,46,43,\n",
    "             49,45,48,50,52,54,52,53,55,58,\n",
    "             56,58,56,60,64,58,59,61)                  #Entrando com os dados da quantidade\n",
    "\n",
    "dados=data.frame(temperatura,quantidade)               #Agrupando os dados\n",
    "head(dados)                                            #Apresentando os 10 primeiros valores"
   ]
  },
  {
   "cell_type": "code",
   "execution_count": 2,
   "metadata": {},
   "outputs": [
    {
     "data": {
      "text/plain": [
       "\n",
       "Call:\n",
       "lm(formula = temperatura ~ quantidade, data = dados)\n",
       "\n",
       "Residuals:\n",
       "    Min      1Q  Median      3Q     Max \n",
       "-7.3240 -2.0863 -0.2326  2.0011  8.6455 \n",
       "\n",
       "Coefficients:\n",
       "            Estimate Std. Error t value Pr(>|t|)    \n",
       "(Intercept) -9.06411    1.07937  -8.398 5.56e-11 ***\n",
       "quantidade   1.55894    0.02753  56.626  < 2e-16 ***\n",
       "---\n",
       "Signif. codes:  0 '***' 0.001 '**' 0.01 '*' 0.05 '.' 0.1 ' ' 1\n",
       "\n",
       "Residual standard error: 3.56 on 48 degrees of freedom\n",
       "Multiple R-squared:  0.9853,\tAdjusted R-squared:  0.9849 \n",
       "F-statistic:  3207 on 1 and 48 DF,  p-value: < 2.2e-16\n"
      ]
     },
     "metadata": {},
     "output_type": "display_data"
    }
   ],
   "source": [
    "#Determinando os coeficientes do modelo\n",
    "\n",
    "ajuste=lm(temperatura~quantidade,data=dados)           #Realizando o ajuste dos dados\n",
    "summary(ajuste)                                        #Apresentando os resultados"
   ]
  },
  {
   "cell_type": "markdown",
   "metadata": {},
   "source": [
    "$\\color{red}{\\text{a)}}$  Estime os coeficientes da reta que estabelece a relação entre a temperatura e a quantidade do componente;"
   ]
  },
  {
   "cell_type": "markdown",
   "metadata": {},
   "source": [
    "Os coeficientes do modelo de regressão estimado são $\\beta_0=-9,06411$ e $\\beta_1=1,55894$, portanto o modelo é dado por $\\hat{y}=-9,06411+1,55894X$."
   ]
  },
  {
   "cell_type": "code",
   "execution_count": 3,
   "metadata": {},
   "outputs": [
    {
     "data": {
      "image/png": "[encoded data removed]",
      "text/plain": [
       "Plot with title \"Temperatura vs Quantidade\""
      ]
     },
     "metadata": {},
     "output_type": "display_data"
    }
   ],
   "source": [
    "scatter.smooth(x=quantidade, y=temperatura, main=\"Temperatura vs Quantidade\") \n",
    "\n",
    "#plot(quantidade~temperatura,pch=16,data=dados)                        #Outra forma de plotar o gráfico estimado\n",
    "#abline(ajuste,col=\"red\")                                              #Adicionando uma linha de regressão \n"
   ]
  },
  {
   "cell_type": "markdown",
   "metadata": {},
   "source": [
    "$\\color{red}{\\text{b)}}$  Construa intervalos de confiança de 90% para $\\beta_0$, $\\beta_1$ e $\\sigma^2$."
   ]
  },
  {
   "cell_type": "code",
   "execution_count": 4,
   "metadata": {},
   "outputs": [
    {
     "data": {
      "text/html": [
       "<table>\n",
       "<thead><tr><th></th><th scope=col>5 %</th><th scope=col>95 %</th></tr></thead>\n",
       "<tbody>\n",
       "\t<tr><th scope=row>(Intercept)</th><td>-10.874459</td><td>-7.253758 </td></tr>\n",
       "\t<tr><th scope=row>quantidade</th><td>  1.512767</td><td> 1.605117 </td></tr>\n",
       "</tbody>\n",
       "</table>\n"
      ],
      "text/latex": [
       "\\begin{tabular}{r|ll}\n",
       "  & 5 \\% & 95 \\%\\\\\n",
       "\\hline\n",
       "\t(Intercept) & -10.874459 & -7.253758 \\\\\n",
       "\tquantidade &   1.512767 &  1.605117 \\\\\n",
       "\\end{tabular}\n"
      ],
      "text/markdown": [
       "\n",
       "| <!--/--> | 5 % | 95 % |\n",
       "|---|---|---|\n",
       "| (Intercept) | -10.874459 | -7.253758  |\n",
       "| quantidade |   1.512767 |  1.605117  |\n",
       "\n"
      ],
      "text/plain": [
       "            5 %        95 %     \n",
       "(Intercept) -10.874459 -7.253758\n",
       "quantidade    1.512767  1.605117"
      ]
     },
     "metadata": {},
     "output_type": "display_data"
    }
   ],
   "source": [
    "#Os intervalos de confiança para Beta0, beta1 e sigma2\n",
    "\n",
    "confint(ajuste,level=0.9)"
   ]
  },
  {
   "cell_type": "markdown",
   "metadata": {},
   "source": [
    "Portanto, os intervalos de confiança para $\\beta_0$ e $\\beta_1$ são respectivamente: $(-10.874459 \\leq \\beta_0 \\leq -7.253758)$ e $(1.512767 \\leq \\beta_1 \\leq 1.605117)$, ao nível de 90% de confiança."
   ]
  },
  {
   "cell_type": "code",
   "execution_count": 5,
   "metadata": {},
   "outputs": [
    {
     "data": {
      "text/html": [
       "<table>\n",
       "<thead><tr><th></th><th scope=col>Df</th><th scope=col>Sum Sq</th><th scope=col>Mean Sq</th><th scope=col>F value</th><th scope=col>Pr(&gt;F)</th></tr></thead>\n",
       "<tbody>\n",
       "\t<tr><th scope=row>quantidade</th><td> 1         </td><td>40641.618  </td><td>40641.61795</td><td>3206.534   </td><td>1.29483e-45</td></tr>\n",
       "\t<tr><th scope=row>Residuals</th><td>48         </td><td>  608.382  </td><td>   12.67463</td><td>      NA   </td><td>         NA</td></tr>\n",
       "</tbody>\n",
       "</table>\n"
      ],
      "text/latex": [
       "\\begin{tabular}{r|lllll}\n",
       "  & Df & Sum Sq & Mean Sq & F value & Pr(>F)\\\\\n",
       "\\hline\n",
       "\tquantidade &  1          & 40641.618   & 40641.61795 & 3206.534    & 1.29483e-45\\\\\n",
       "\tResiduals & 48          &   608.382   &    12.67463 &       NA    &          NA\\\\\n",
       "\\end{tabular}\n"
      ],
      "text/markdown": [
       "\n",
       "| <!--/--> | Df | Sum Sq | Mean Sq | F value | Pr(>F) |\n",
       "|---|---|---|---|---|---|\n",
       "| quantidade |  1          | 40641.618   | 40641.61795 | 3206.534    | 1.29483e-45 |\n",
       "| Residuals | 48          |   608.382   |    12.67463 |       NA    |          NA |\n",
       "\n"
      ],
      "text/plain": [
       "           Df Sum Sq    Mean Sq     F value  Pr(>F)     \n",
       "quantidade  1 40641.618 40641.61795 3206.534 1.29483e-45\n",
       "Residuals  48   608.382    12.67463       NA          NA"
      ]
     },
     "metadata": {},
     "output_type": "display_data"
    }
   ],
   "source": [
    "# O valor da variância (indicando a variação aleatória em torno da linha verdadeira de regressão):\n",
    "anova(ajuste)"
   ]
  },
  {
   "cell_type": "code",
   "execution_count": 6,
   "metadata": {},
   "outputs": [
    {
     "name": "stdout",
     "output_type": "stream",
     "text": [
      "A variação aleatória em torno da linha verdadeira de regressão é 12.67463"
     ]
    }
   ],
   "source": [
    "cat(\"A variação aleatória em torno da linha verdadeira de regressão é\", 12.67463)"
   ]
  },
  {
   "cell_type": "markdown",
   "metadata": {},
   "source": [
    "$\\color{red}{\\text{Exercício 4}}$ - **Retirado do livro: Análise de Modelos de Regressão Linear com Aplicações, de Charnet, Freire, Charnet e Bonvino** - Os dados abaixo apresentam o peso, em kg, de carros de corrida de uma certa categoria e a velocidade máxima, em km/h, que conseguem atingir, durante o percurso.\n",
    "\n",
    "| Peso | Velocidade | Velocidade | Velocidade | Velocidade |\n",
    "|:----:|:----------:|:----------:|:----------:|:----------:|\n",
    "|  720 |     257    |     253    |     266    |            |\n",
    "|  730 |     269    |     271    |            |            |\n",
    "|  740 |     275    |     274    |     278    |            |\n",
    "|  750 |     278    |     257    |     280    |     284    |\n",
    "|  760 |     281    |     286    |     289    |            |\n",
    "|  770 |     293    |     297    |            |            |\n",
    "|  780 |     295    |     299    |     299    |     301    |\n",
    "|  790 |     296    |     303    |     308    |            |\n",
    "\n",
    "+ a) Estime $\\beta_0$, $\\beta_1$ e $\\sigma^2$;\n",
    "+ b) Encontre intervalos de confiança de 99% para $\\beta_0$, $\\beta_1$ e $\\sigma^2$;\n",
    "+ c) Qual modelo deve ser escolhido, o modelo simples ou o MRLS?"
   ]
  },
  {
   "cell_type": "code",
   "execution_count": 7,
   "metadata": {},
   "outputs": [
    {
     "data": {
      "text/html": [
       "<table>\n",
       "<thead><tr><th scope=col>peso</th><th scope=col>velocidade</th></tr></thead>\n",
       "<tbody>\n",
       "\t<tr><td>720</td><td>257</td></tr>\n",
       "\t<tr><td>720</td><td>253</td></tr>\n",
       "\t<tr><td>720</td><td>266</td></tr>\n",
       "\t<tr><td>730</td><td>269</td></tr>\n",
       "\t<tr><td>730</td><td>271</td></tr>\n",
       "\t<tr><td>740</td><td>275</td></tr>\n",
       "</tbody>\n",
       "</table>\n"
      ],
      "text/latex": [
       "\\begin{tabular}{r|ll}\n",
       " peso & velocidade\\\\\n",
       "\\hline\n",
       "\t 720 & 257\\\\\n",
       "\t 720 & 253\\\\\n",
       "\t 720 & 266\\\\\n",
       "\t 730 & 269\\\\\n",
       "\t 730 & 271\\\\\n",
       "\t 740 & 275\\\\\n",
       "\\end{tabular}\n"
      ],
      "text/markdown": [
       "\n",
       "| peso | velocidade |\n",
       "|---|---|\n",
       "| 720 | 257 |\n",
       "| 720 | 253 |\n",
       "| 720 | 266 |\n",
       "| 730 | 269 |\n",
       "| 730 | 271 |\n",
       "| 740 | 275 |\n",
       "\n"
      ],
      "text/plain": [
       "  peso velocidade\n",
       "1 720  257       \n",
       "2 720  253       \n",
       "3 720  266       \n",
       "4 730  269       \n",
       "5 730  271       \n",
       "6 740  275       "
      ]
     },
     "metadata": {},
     "output_type": "display_data"
    }
   ],
   "source": [
    "### Entrando com os dados\n",
    "x=seq(720,790,by=10)\n",
    "peso=rep(x, c(3,2,3,4,3,2,4,3))\n",
    "velocidade=c(257,253,266,269,271,275,274,278,278,257,280,284,281,286,289,293,297,295,299,299,301,296,303,308)\n",
    "dados=data.frame(peso,velocidade)\n",
    "head(dados)"
   ]
  },
  {
   "cell_type": "code",
   "execution_count": 8,
   "metadata": {},
   "outputs": [
    {
     "data": {
      "text/plain": [
       "\n",
       "Call:\n",
       "lm(formula = velocidade ~ peso, data = dados)\n",
       "\n",
       "Residuals:\n",
       "    Min      1Q  Median      3Q     Max \n",
       "-21.993  -1.401   1.373   3.887   5.641 \n",
       "\n",
       "Coefficients:\n",
       "              Estimate Std. Error t value Pr(>|t|)    \n",
       "(Intercept) -186.85642   41.92439  -4.457 0.000198 ***\n",
       "peso           0.62113    0.05541  11.209 1.45e-10 ***\n",
       "---\n",
       "Signif. codes:  0 '***' 0.001 '**' 0.01 '*' 0.05 '.' 0.1 ' ' 1\n",
       "\n",
       "Residual standard error: 6.161 on 22 degrees of freedom\n",
       "Multiple R-squared:  0.851,\tAdjusted R-squared:  0.8442 \n",
       "F-statistic: 125.6 on 1 and 22 DF,  p-value: 1.455e-10\n"
      ]
     },
     "metadata": {},
     "output_type": "display_data"
    }
   ],
   "source": [
    "#Estimando os coeficientes do modelo\n",
    "\n",
    "ajuste=lm(velocidade~peso,data=dados)\n",
    "summary(ajuste)"
   ]
  },
  {
   "cell_type": "markdown",
   "metadata": {},
   "source": [
    "Os coeficientes para o modelo estimado, são: $\\beta_0=-186,85642$ e $\\beta_1=0,62113$, portanto temos $\\hat{y}=-186,85642+0,62113X$"
   ]
  },
  {
   "cell_type": "code",
   "execution_count": 9,
   "metadata": {},
   "outputs": [
    {
     "data": {
      "text/html": [
       "<table>\n",
       "<thead><tr><th></th><th scope=col>Df</th><th scope=col>Sum Sq</th><th scope=col>Mean Sq</th><th scope=col>F value</th><th scope=col>Pr(&gt;F)</th></tr></thead>\n",
       "<tbody>\n",
       "\t<tr><th scope=row>peso</th><td> 1          </td><td>4769.5209   </td><td>4769.52085  </td><td>125.6484    </td><td>1.454952e-10</td></tr>\n",
       "\t<tr><th scope=row>Residuals</th><td>22          </td><td> 835.1041   </td><td>  37.95928  </td><td>      NA    </td><td>          NA</td></tr>\n",
       "</tbody>\n",
       "</table>\n"
      ],
      "text/latex": [
       "\\begin{tabular}{r|lllll}\n",
       "  & Df & Sum Sq & Mean Sq & F value & Pr(>F)\\\\\n",
       "\\hline\n",
       "\tpeso &  1           & 4769.5209    & 4769.52085   & 125.6484     & 1.454952e-10\\\\\n",
       "\tResiduals & 22           &  835.1041    &   37.95928   &       NA     &           NA\\\\\n",
       "\\end{tabular}\n"
      ],
      "text/markdown": [
       "\n",
       "| <!--/--> | Df | Sum Sq | Mean Sq | F value | Pr(>F) |\n",
       "|---|---|---|---|---|---|\n",
       "| peso |  1           | 4769.5209    | 4769.52085   | 125.6484     | 1.454952e-10 |\n",
       "| Residuals | 22           |  835.1041    |   37.95928   |       NA     |           NA |\n",
       "\n"
      ],
      "text/plain": [
       "          Df Sum Sq    Mean Sq    F value  Pr(>F)      \n",
       "peso       1 4769.5209 4769.52085 125.6484 1.454952e-10\n",
       "Residuals 22  835.1041   37.95928       NA           NA"
      ]
     },
     "metadata": {},
     "output_type": "display_data"
    }
   ],
   "source": [
    "#Determinação da variância do modelo - (Sq Mean Residuals) \n",
    "anova(ajuste)"
   ]
  },
  {
   "cell_type": "markdown",
   "metadata": {},
   "source": [
    "Portanto a variância estimada para o modelo previsto é de $\\sigma^2=37,95928$."
   ]
  },
  {
   "cell_type": "code",
   "execution_count": 10,
   "metadata": {},
   "outputs": [
    {
     "data": {
      "text/html": [
       "<table>\n",
       "<thead><tr><th></th><th scope=col>0.5 %</th><th scope=col>99.5 %</th></tr></thead>\n",
       "<tbody>\n",
       "\t<tr><th scope=row>(Intercept)</th><td>-305.0310359</td><td>-68.6818054 </td></tr>\n",
       "\t<tr><th scope=row>peso</th><td>   0.4649388</td><td>  0.7773261 </td></tr>\n",
       "</tbody>\n",
       "</table>\n"
      ],
      "text/latex": [
       "\\begin{tabular}{r|ll}\n",
       "  & 0.5 \\% & 99.5 \\%\\\\\n",
       "\\hline\n",
       "\t(Intercept) & -305.0310359 & -68.6818054 \\\\\n",
       "\tpeso &    0.4649388 &   0.7773261 \\\\\n",
       "\\end{tabular}\n"
      ],
      "text/markdown": [
       "\n",
       "| <!--/--> | 0.5 % | 99.5 % |\n",
       "|---|---|---|\n",
       "| (Intercept) | -305.0310359 | -68.6818054  |\n",
       "| peso |    0.4649388 |   0.7773261  |\n",
       "\n"
      ],
      "text/plain": [
       "            0.5 %        99.5 %     \n",
       "(Intercept) -305.0310359 -68.6818054\n",
       "peso           0.4649388   0.7773261"
      ]
     },
     "metadata": {},
     "output_type": "display_data"
    }
   ],
   "source": [
    "#Os intervalos de confiança para B0, B1 e sigma^2\n",
    "\n",
    "confint(ajuste,level=0.99)"
   ]
  },
  {
   "cell_type": "markdown",
   "metadata": {},
   "source": [
    "Os intervalos de confiança para $\\beta_0$ e $\\beta_1$ são respectivamente iguais a $(-305.0310359 \\leq \\beta_0 \\leq -68.6818054)$ e $(0.4649388 \\leq \\beta_1 \\leq 0.7773261)$."
   ]
  },
  {
   "cell_type": "code",
   "execution_count": 11,
   "metadata": {},
   "outputs": [
    {
     "data": {
      "text/plain": [
       "\n",
       "Call:\n",
       "lm(formula = velocidade ~ peso, data = dados)\n",
       "\n",
       "Residuals:\n",
       "    Min      1Q  Median      3Q     Max \n",
       "-21.993  -1.401   1.373   3.887   5.641 \n",
       "\n",
       "Coefficients:\n",
       "              Estimate Std. Error t value Pr(>|t|)    \n",
       "(Intercept) -186.85642   41.92439  -4.457 0.000198 ***\n",
       "peso           0.62113    0.05541  11.209 1.45e-10 ***\n",
       "---\n",
       "Signif. codes:  0 '***' 0.001 '**' 0.01 '*' 0.05 '.' 0.1 ' ' 1\n",
       "\n",
       "Residual standard error: 6.161 on 22 degrees of freedom\n",
       "Multiple R-squared:  0.851,\tAdjusted R-squared:  0.8442 \n",
       "F-statistic: 125.6 on 1 and 22 DF,  p-value: 1.455e-10\n"
      ]
     },
     "metadata": {},
     "output_type": "display_data"
    }
   ],
   "source": [
    "#Para testarmos entre um modelo simpes e o MRLS, deveremos testar H0: B1 = 0 vs H1: B1 dif 0. Se não rejeitarmos H0 signfica que\n",
    "# a inclusão de um novo termo não surtil efeito, logo o modelo simples deve ser considerado como signficativo.\n",
    "\n",
    "summary(ajuste)"
   ]
  },
  {
   "cell_type": "markdown",
   "metadata": {},
   "source": [
    "Portanto, como $\\beta_1=0,62113$ apresenta um *p-valor=1.45e-10*, rejeita-se a hipótese de nulidade, ou seja, o parâmetro é considerado significativo para o modelo, portanto o modelo de regressão linear simples é preferível à um modelo simples."
   ]
  },
  {
   "cell_type": "markdown",
   "metadata": {},
   "source": [
    "$\\color{red}{\\text{Exercício 5}}$ - **Retirado do livro: Análise de Modelos de Regressão Linear com Aplicações, de Charnet, Freire, Charnet e Bonvino** - Para os dados do exercício 1, qual modelo seria preferido?"
   ]
  },
  {
   "cell_type": "code",
   "execution_count": 12,
   "metadata": {},
   "outputs": [
    {
     "data": {
      "text/plain": [
       "\n",
       "Call:\n",
       "lm(formula = lab ~ teo, data = q5)\n",
       "\n",
       "Residuals:\n",
       "     Min       1Q   Median       3Q      Max \n",
       "-21.2727  -3.2955   0.1364   4.4318   9.7273 \n",
       "\n",
       "Coefficients:\n",
       "            Estimate Std. Error t value Pr(>|t|)    \n",
       "(Intercept)  0.54545    1.67590   0.325    0.746    \n",
       "teo          0.95455    0.03139  30.407   <2e-16 ***\n",
       "---\n",
       "Signif. codes:  0 '***' 0.001 '**' 0.01 '*' 0.05 '.' 0.1 ' ' 1\n",
       "\n",
       "Residual standard error: 6.376 on 48 degrees of freedom\n",
       "Multiple R-squared:  0.9506,\tAdjusted R-squared:  0.9496 \n",
       "F-statistic: 924.6 on 1 and 48 DF,  p-value: < 2.2e-16\n"
      ]
     },
     "metadata": {},
     "output_type": "display_data"
    }
   ],
   "source": [
    "#Dados do exercício 1\n",
    "x=seq(0,90,by=10)\n",
    "teo=rep(x, each = 5)\n",
    "lab=c(0,4,3,10,8,6,8,10,7,16,15,18,15,22,29,13,22,28,25,35,29,36,33,41,48,42,27,50,53,58,55,58,61,63,66,59,64,66,69,73,71,77,79,81,84,85,84,88,90,91)\n",
    "q5=data.frame(teo,lab)\n",
    "\n",
    "ajusteq5=lm(lab~teo,data=q5)\n",
    "summary(ajusteq5)\n"
   ]
  },
  {
   "cell_type": "markdown",
   "metadata": {},
   "source": [
    "Como $\\beta_1=0,95455$ apresenta um p-valor = $2e-16$, rejeitaremos a hipótese de não significância do parâmetros $\\beta_1$ estimado, ou seja, o modelo de regressão liear simples é considerado signfiicativo para o conjunto de dados."
   ]
  },
  {
   "cell_type": "markdown",
   "metadata": {},
   "source": [
    "$\\color{red}{\\text{Exercício 6}}$ - **Retirado do livro: Análise de Modelos de Regressão Linear com Aplicações, de Charnet, Freire, Charnet e Bonvino** - Analise o desempenho do modelo simples e do MRLS para os dados apresentados nos exercícios 2 e 3."
   ]
  },
  {
   "cell_type": "code",
   "execution_count": 13,
   "metadata": {},
   "outputs": [
    {
     "data": {
      "text/plain": [
       "\n",
       "Call:\n",
       "lm(formula = tempo ~ ano, data = baseq2)\n",
       "\n",
       "Residuals:\n",
       "    Min      1Q  Median      3Q     Max \n",
       "-0.9779 -0.2514 -0.0250  0.2986  0.6957 \n",
       "\n",
       "Coefficients:\n",
       "             Estimate Std. Error t value Pr(>|t|)    \n",
       "(Intercept) 13.319286   0.179441   74.23   <2e-16 ***\n",
       "ano         -0.067357   0.003332  -20.21   <2e-16 ***\n",
       "---\n",
       "Signif. codes:  0 '***' 0.001 '**' 0.01 '*' 0.05 '.' 0.1 ' ' 1\n",
       "\n",
       "Residual standard error: 0.3943 on 33 degrees of freedom\n",
       "Multiple R-squared:  0.9253,\tAdjusted R-squared:  0.923 \n",
       "F-statistic: 408.6 on 1 and 33 DF,  p-value: < 2.2e-16\n"
      ]
     },
     "metadata": {},
     "output_type": "display_data"
    }
   ],
   "source": [
    "#Entrando com os dados\n",
    "x6=seq(20,80,by=10)\n",
    "ano=rep(x6,each=5)\n",
    "tempo=c(12.3, 11.8, 11.5, 12.1, 11.7, 11.8, 11.5, 11.4, 11.7, 11.2, 10.9, 11.2, 10.8, 10.6, 10.3, 10.4, 9.8, 9.5, 9.9, 9.2, 9.6, 9, 8.7, 8.3, 9.1, 9.1, 9.3, 8.5, 8.6, 8.3, 8.4, 8.1, 8.1, 7.7, 7.9)\n",
    "baseq2=data.frame(ano,tempo)\n",
    "\n",
    "ajusteq2=lm(tempo~ano,data=baseq2)\n",
    "summary(ajusteq2)"
   ]
  },
  {
   "cell_type": "markdown",
   "metadata": {},
   "source": [
    "Para o parâmetro $\\beta_1=-0.067357$ existe um p-valor de $<2e-16$, indicando que a hipótese de não significância deste parâmetro foi rejeitada, ou seja, pode-se considerar o modelo de regressão linear simples como signficativo para este modelo."
   ]
  },
  {
   "cell_type": "code",
   "execution_count": 14,
   "metadata": {},
   "outputs": [
    {
     "data": {
      "text/plain": [
       "\n",
       "Call:\n",
       "lm(formula = temperatura ~ quantidade, data = dados)\n",
       "\n",
       "Residuals:\n",
       "    Min      1Q  Median      3Q     Max \n",
       "-7.3240 -2.0863 -0.2326  2.0011  8.6455 \n",
       "\n",
       "Coefficients:\n",
       "            Estimate Std. Error t value Pr(>|t|)    \n",
       "(Intercept) -9.06411    1.07937  -8.398 5.56e-11 ***\n",
       "quantidade   1.55894    0.02753  56.626  < 2e-16 ***\n",
       "---\n",
       "Signif. codes:  0 '***' 0.001 '**' 0.01 '*' 0.05 '.' 0.1 ' ' 1\n",
       "\n",
       "Residual standard error: 3.56 on 48 degrees of freedom\n",
       "Multiple R-squared:  0.9853,\tAdjusted R-squared:  0.9849 \n",
       "F-statistic:  3207 on 1 and 48 DF,  p-value: < 2.2e-16\n"
      ]
     },
     "metadata": {},
     "output_type": "display_data"
    }
   ],
   "source": [
    "#Para o terceiro exercício, temos\n",
    "ajuste=lm(temperatura~quantidade,data=dados)           #Realizando o ajuste dos dados\n",
    "summary(ajuste) "
   ]
  },
  {
   "cell_type": "markdown",
   "metadata": {},
   "source": [
    "Da mesma forma que no exercício 2, os parâmetros estimados são considerados significativos, portanto o modelo de regressão linear simples é considerado um bom modelo para realizar estimarivas para as variáveis em estudo."
   ]
  },
  {
   "cell_type": "markdown",
   "metadata": {},
   "source": [
    "$\\color{red}{\\text{Exercício 7}}$ - **Retirado do livro: Análise de Modelos de Regressão Linear com Aplicações, de Charnet, Freire, Charnet e Bonvino** - Para se conhecer o efetio do carbono contido em (%) em fios de aço, em resistências (em $\\mu$ ohms cm a 20C), foi realizado um experimento, obtendo-se os resultados apresentados a seguir:\n",
    "\n",
    "+ a) Estime $\\beta_0$, $\\beta_1$ e $\\sigma^2$, pontualmente e por intervalo;\n",
    "+ Qual dos modelos (simples ou MRLS) seria o mais indicado para o ajuste desses dados?\n",
    "\n",
    "| Carbono | Resistencia | Resistencia | Resistencia | Resistencia |\n",
    "|:-------:|:-----------:|:-----------:|:-----------:|:-----------:|\n",
    "|   0,05  |     11,7    |     12,4    |     13,2    |             |\n",
    "|   0,10  |     12,9    |     13,8    |      14     |     14,9    |\n",
    "|   0,15  |     14,6    |     15,8    |             |             |\n",
    "|   0,20  |      15     |     15,9    |     16,4    |             |\n",
    "|   0,25  |     16,1    |     16,6    |     16,9    |             |\n",
    "|   0,30  |     16,5    |     17,3    |             |             |\n",
    "|   0,40  |     17,7    |     18,2    |     18,9    |             |\n",
    "|   0,50  |     19,2    |     19,5    |     20,4    |             |\n",
    "|   0,60  |     20,6    |     21,2    |      22     |             |\n",
    "|   0,70  |      22     |     22,5    |     23,1    |     23,7    |\n",
    "|   0,75  |     22,4    |     23,6    |      24     |             |\n",
    "|   0,80  |     23,7    |     24,4    |     24,9    |     25,3    |\n",
    "|   0,85  |     24,8    |     25,6    |     26,9    |             |\n",
    "|   0,90  |     26,4    |      27     |     27,8    |      28     |\n",
    "|   0,95  |     27,1    |     27,8    |     28,5    |             |"
   ]
  },
  {
   "cell_type": "code",
   "execution_count": 15,
   "metadata": {},
   "outputs": [
    {
     "data": {
      "text/plain": [
       "\n",
       "Call:\n",
       "lm(formula = resistencia ~ carbono, data = baseq7)\n",
       "\n",
       "Residuals:\n",
       "     Min       1Q   Median       3Q      Max \n",
       "-1.67814 -0.50703 -0.01213  0.45656  1.53205 \n",
       "\n",
       "Coefficients:\n",
       "            Estimate Std. Error t value Pr(>|t|)    \n",
       "(Intercept)  12.1291     0.2276   53.30   <2e-16 ***\n",
       "carbono      15.9320     0.3760   42.37   <2e-16 ***\n",
       "---\n",
       "Signif. codes:  0 '***' 0.001 '**' 0.01 '*' 0.05 '.' 0.1 ' ' 1\n",
       "\n",
       "Residual standard error: 0.7878 on 45 degrees of freedom\n",
       "Multiple R-squared:  0.9755,\tAdjusted R-squared:  0.975 \n",
       "F-statistic:  1795 on 1 and 45 DF,  p-value: < 2.2e-16\n"
      ]
     },
     "metadata": {},
     "output_type": "display_data"
    }
   ],
   "source": [
    "#Entrando com os dados\n",
    "q7seq1=seq(0.05,0.30,by=0.05)                                                           #A sequencia inicial vai de 0,05 até 0,30 de 0,05 em 0,05  \n",
    "q7seq2=seq(0.40,0.7,by=0.10)                                                            #A segunda sequência vai de 0,40 até 0,70, indo de 0,10 em 0,10\n",
    "q7seq3=seq(0.75,0.95,by=0.05)                                                           #A terceira sequência vai de 0.75 até 0.95, indo de 0,05 em 0,05.\n",
    "carbono=rep(c(q7seq1,q7seq2,q7seq3),c(3,4,2,3,3,2,3,3,3,4,3,4,3,4,3))                   \n",
    "resistencia=c(11.7, 12.4, 13.2, 12.9, 13.8, 14, 14.9, 14.6, 15.8, 15, 15.9, 16.4, 16.1, 16.6, \n",
    "              16.9, 16.5, 17.3, 17.7, 18.2, 18.9, 19.2, 19.5, 20.4, 20.6, 21.2, 22, 22, 22.5,\n",
    "              23.1, 23.7, 22.4, 23.6, 24, 23.7, 24.4, 24.9, 25.3, 24.8, 25.6, 26.9,26.4,27, \n",
    "              27.8, 28, 27.1,27.8,28.5)\n",
    "baseq7=data.frame(carbono,resistencia)\n",
    "ajusteq7=lm(resistencia~carbono,data=baseq7)\n",
    "summary(ajusteq7)"
   ]
  },
  {
   "cell_type": "markdown",
   "metadata": {},
   "source": [
    "$\\color{red}{\\text{a)}}$ - Estime $\\beta_0$, $\\beta_1$ e $\\sigma^2$, pontualmente e por intervalo;"
   ]
  },
  {
   "cell_type": "markdown",
   "metadata": {},
   "source": [
    "Os valores estimados para $\\beta_0=12.1291$, $\\beta_1=15.9320$  e $\\sigma^2=(0.7878)^2=0,6206$. Os valores estimados para os parâmetros em intervalos são apresentados a seguir:"
   ]
  },
  {
   "cell_type": "code",
   "execution_count": 16,
   "metadata": {},
   "outputs": [
    {
     "data": {
      "text/html": [
       "<table>\n",
       "<thead><tr><th></th><th scope=col>2.5 %</th><th scope=col>97.5 %</th></tr></thead>\n",
       "<tbody>\n",
       "\t<tr><th scope=row>(Intercept)</th><td>11.67078</td><td>12.58745</td></tr>\n",
       "\t<tr><th scope=row>carbono</th><td>15.17466</td><td>16.68941</td></tr>\n",
       "</tbody>\n",
       "</table>\n"
      ],
      "text/latex": [
       "\\begin{tabular}{r|ll}\n",
       "  & 2.5 \\% & 97.5 \\%\\\\\n",
       "\\hline\n",
       "\t(Intercept) & 11.67078 & 12.58745\\\\\n",
       "\tcarbono & 15.17466 & 16.68941\\\\\n",
       "\\end{tabular}\n"
      ],
      "text/markdown": [
       "\n",
       "| <!--/--> | 2.5 % | 97.5 % |\n",
       "|---|---|---|\n",
       "| (Intercept) | 11.67078 | 12.58745 |\n",
       "| carbono | 15.17466 | 16.68941 |\n",
       "\n"
      ],
      "text/plain": [
       "            2.5 %    97.5 %  \n",
       "(Intercept) 11.67078 12.58745\n",
       "carbono     15.17466 16.68941"
      ]
     },
     "metadata": {},
     "output_type": "display_data"
    }
   ],
   "source": [
    "confint(ajusteq7)"
   ]
  },
  {
   "cell_type": "markdown",
   "metadata": {},
   "source": [
    "Portanto os intervalos de confiança para os parâmetros estimados são: $(11.67078 \\leq \\beta_0 \\leq 12.58745)$ e $(15.17466 \\leq \\beta_1 \\leq 16.68941)$, ao nível de 95% de confiança."
   ]
  },
  {
   "cell_type": "markdown",
   "metadata": {},
   "source": [
    "$\\color{red}{\\text{b)}}$ Qual dos modelos (simples ou MRLS) seriam o mais indicado para o ajuste desses dados?"
   ]
  },
  {
   "cell_type": "markdown",
   "metadata": {},
   "source": [
    "De acordo com os resultados encontrados na letra (a), o modelo de regressão linear simples (MRLS) seria o mais adequado, visto que o parâmetro encontrado $\\beta_1$\n",
    "é significativo para o modelo"
   ]
  }
 ],
 "metadata": {
  "kernelspec": {
   "display_name": "R",
   "language": "R",
   "name": "ir"
  },
  "language_info": {
   "codemirror_mode": "r",
   "file_extension": ".r",
   "mimetype": "text/x-r-source",
   "name": "R",
   "pygments_lexer": "r",
   "version": "3.6.1"
  }
 },
 "nbformat": 4,
 "nbformat_minor": 4
}
