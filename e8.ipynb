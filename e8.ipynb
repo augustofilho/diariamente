{
 "cells": [
  {
   "cell_type": "markdown",
   "metadata": {},
   "source": [
    "# Day 8:30 daily statistics - Exercícios Diversos"
   ]
  },
  {
   "cell_type": "markdown",
   "metadata": {},
   "source": [
    "$\\color{red}{\\text{Exercício 1}}$ - **Retirado do livro: Análise de Modelos de Regressão Linear com Aplicações, de Charnet, Freire, Charnet e Bonvino**.  Considere os seguintes dados: "
   ]
  },
  {
   "cell_type": "markdown",
   "metadata": {},
   "source": [
    "| x | 1 | 2 | 3 | 4 | 5 | 6 |\n",
    "|:-:|:-:|:-:|:-:|:-:|:-:|:-:|\n",
    "| y | 6 | 4 | 3 | 5 | 4 | 2 |\n",
    "\n",
    "+ a) Encontre a reta de quadrados mínimos\n",
    "+ b) Determine os valores calculados e os resíduos\n",
    "+ c) Construa um gráfico, colocando os pares de pontos e a reta encontrada."
   ]
  },
  {
   "cell_type": "code",
   "execution_count": 1,
   "metadata": {},
   "outputs": [
    {
     "data": {
      "text/html": [
       "<table>\n",
       "<thead><tr><th scope=col>x</th><th scope=col>y</th></tr></thead>\n",
       "<tbody>\n",
       "\t<tr><td>1</td><td>6</td></tr>\n",
       "\t<tr><td>2</td><td>4</td></tr>\n",
       "\t<tr><td>3</td><td>3</td></tr>\n",
       "\t<tr><td>4</td><td>5</td></tr>\n",
       "\t<tr><td>5</td><td>4</td></tr>\n",
       "\t<tr><td>6</td><td>2</td></tr>\n",
       "</tbody>\n",
       "</table>\n"
      ],
      "text/latex": [
       "\\begin{tabular}{r|ll}\n",
       " x & y\\\\\n",
       "\\hline\n",
       "\t 1 & 6\\\\\n",
       "\t 2 & 4\\\\\n",
       "\t 3 & 3\\\\\n",
       "\t 4 & 5\\\\\n",
       "\t 5 & 4\\\\\n",
       "\t 6 & 2\\\\\n",
       "\\end{tabular}\n"
      ],
      "text/markdown": [
       "\n",
       "| x | y |\n",
       "|---|---|\n",
       "| 1 | 6 |\n",
       "| 2 | 4 |\n",
       "| 3 | 3 |\n",
       "| 4 | 5 |\n",
       "| 5 | 4 |\n",
       "| 6 | 2 |\n",
       "\n"
      ],
      "text/plain": [
       "  x y\n",
       "1 1 6\n",
       "2 2 4\n",
       "3 3 3\n",
       "4 4 5\n",
       "5 5 4\n",
       "6 6 2"
      ]
     },
     "metadata": {},
     "output_type": "display_data"
    },
    {
     "data": {
      "text/plain": [
       "\n",
       "Call:\n",
       "lm(formula = y ~ x, data = ex1)\n",
       "\n",
       "Residuals:\n",
       "      1       2       3       4       5       6 \n",
       " 0.7143 -0.7714 -1.2571  1.2571  0.7714 -0.7143 \n",
       "\n",
       "Coefficients:\n",
       "            Estimate Std. Error t value Pr(>|t|)   \n",
       "(Intercept)   5.8000     1.0788   5.376  0.00578 **\n",
       "x            -0.5143     0.2770  -1.857  0.13695   \n",
       "---\n",
       "Signif. codes:  0 '***' 0.001 '**' 0.01 '*' 0.05 '.' 0.1 ' ' 1\n",
       "\n",
       "Residual standard error: 1.159 on 4 degrees of freedom\n",
       "Multiple R-squared:  0.4629,\tAdjusted R-squared:  0.3286 \n",
       "F-statistic: 3.447 on 1 and 4 DF,  p-value: 0.1369\n"
      ]
     },
     "metadata": {},
     "output_type": "display_data"
    }
   ],
   "source": [
    "# Encontrando a reta de quadrados mínimos\n",
    "x=c(1,2,3,4,5,6)\n",
    "y=c(6,4,3,5,4,2)\n",
    "ex1=data.frame(x,y)                         #Criando uma tabela com os valores x e y\n",
    "ex1                                         #Armazenando a tabela em (dados)\n",
    "\n",
    "ajuste_ex1=lm(y~x,data=ex1)                     #Ajuste linear\n",
    "summary(ajuste_ex1)                               #Apresentação da reta de quadrados mínimos "
   ]
  },
  {
   "cell_type": "markdown",
   "metadata": {},
   "source": [
    "O modelo encontrado foi $\\hat{y}=5,80 - 0,5143\\cdot x$. "
   ]
  },
  {
   "cell_type": "code",
   "execution_count": 2,
   "metadata": {},
   "outputs": [
    {
     "data": {
      "text/html": [
       "<table>\n",
       "<thead><tr><th scope=col>y</th><th scope=col>previsao_ex1</th><th scope=col>residuos_ex1</th></tr></thead>\n",
       "<tbody>\n",
       "\t<tr><td>6         </td><td>5.285714  </td><td> 0.7142857</td></tr>\n",
       "\t<tr><td>4         </td><td>4.771429  </td><td>-0.7714286</td></tr>\n",
       "\t<tr><td>3         </td><td>4.257143  </td><td>-1.2571429</td></tr>\n",
       "\t<tr><td>5         </td><td>3.742857  </td><td> 1.2571429</td></tr>\n",
       "\t<tr><td>4         </td><td>3.228571  </td><td> 0.7714286</td></tr>\n",
       "\t<tr><td>2         </td><td>2.714286  </td><td>-0.7142857</td></tr>\n",
       "</tbody>\n",
       "</table>\n"
      ],
      "text/latex": [
       "\\begin{tabular}{r|lll}\n",
       " y & previsao\\_ex1 & residuos\\_ex1\\\\\n",
       "\\hline\n",
       "\t 6          & 5.285714   &  0.7142857\\\\\n",
       "\t 4          & 4.771429   & -0.7714286\\\\\n",
       "\t 3          & 4.257143   & -1.2571429\\\\\n",
       "\t 5          & 3.742857   &  1.2571429\\\\\n",
       "\t 4          & 3.228571   &  0.7714286\\\\\n",
       "\t 2          & 2.714286   & -0.7142857\\\\\n",
       "\\end{tabular}\n"
      ],
      "text/markdown": [
       "\n",
       "| y | previsao_ex1 | residuos_ex1 |\n",
       "|---|---|---|\n",
       "| 6          | 5.285714   |  0.7142857 |\n",
       "| 4          | 4.771429   | -0.7714286 |\n",
       "| 3          | 4.257143   | -1.2571429 |\n",
       "| 5          | 3.742857   |  1.2571429 |\n",
       "| 4          | 3.228571   |  0.7714286 |\n",
       "| 2          | 2.714286   | -0.7142857 |\n",
       "\n"
      ],
      "text/plain": [
       "  y previsao_ex1 residuos_ex1\n",
       "1 6 5.285714      0.7142857  \n",
       "2 4 4.771429     -0.7714286  \n",
       "3 3 4.257143     -1.2571429  \n",
       "4 5 3.742857      1.2571429  \n",
       "5 4 3.228571      0.7714286  \n",
       "6 2 2.714286     -0.7142857  "
      ]
     },
     "metadata": {},
     "output_type": "display_data"
    }
   ],
   "source": [
    "# Apresentação dos valores estimados e resíduos\n",
    "\n",
    "previsao_ex1=predict(ajuste_ex1)                         #Valores previstos\n",
    "residuos_ex1=residuals(ajuste_ex1)                       #Valores residuais\n",
    "\n",
    "resultados_ex1=data.frame(y,previsao_ex1,residuos_ex1)\n",
    "resultados_ex1                                          #Valores reais Y, previstos e resíduos "
   ]
  },
  {
   "cell_type": "code",
   "execution_count": 3,
   "metadata": {},
   "outputs": [
    {
     "data": {
      "image/png": "[encoded data removed]",
      "text/plain": [
       "plot without title"
      ]
     },
     "metadata": {},
     "output_type": "display_data"
    }
   ],
   "source": [
    "# Construção do gráfico de previsão\n",
    "\n",
    "plot(y~x,pch=16,data=ex1)\n",
    "abline(ajuste_ex1,col=\"red\")"
   ]
  },
  {
   "cell_type": "markdown",
   "metadata": {},
   "source": [
    "$\\color{red}{\\text{Exercício 2}}$ - **Retirado do livro: Análise de Modelos de Regressão Linear com Aplicações, de Charnet, Freire, Charnet e Bonvino**. Obtenha para os valores abaixo, a reta de quadrados mínimos, os valores calculados e os resíduos. Obtenha também um gráfico.\n",
    "\n",
    "| x |  1  |  2  |  3  |  4  |  5  |  6  |  7  |  8  |\n",
    "|:-:|:---:|:---:|:---:|:---:|:---:|:---:|:---:|:---:|\n",
    "| y | 1,7 | 2,3 | 3,2 | 3,6 | 4,5 | 5,3 | 6,0 | 6,5 |"
   ]
  },
  {
   "cell_type": "code",
   "execution_count": 4,
   "metadata": {},
   "outputs": [
    {
     "data": {
      "text/plain": [
       "\n",
       "Call:\n",
       "lm(formula = y ~ x, data = exercicio2)\n",
       "\n",
       "Residuals:\n",
       "     Min       1Q   Median       3Q      Max \n",
       "-0.18452 -0.08155  0.02143  0.09911  0.12143 \n",
       "\n",
       "Coefficients:\n",
       "            Estimate Std. Error t value Pr(>|t|)    \n",
       "(Intercept)  0.96071    0.09397   10.22 5.10e-05 ***\n",
       "x            0.70595    0.01861   37.94 2.24e-08 ***\n",
       "---\n",
       "Signif. codes:  0 '***' 0.001 '**' 0.01 '*' 0.05 '.' 0.1 ' ' 1\n",
       "\n",
       "Residual standard error: 0.1206 on 6 degrees of freedom\n",
       "Multiple R-squared:  0.9958,\tAdjusted R-squared:  0.9952 \n",
       "F-statistic:  1439 on 1 and 6 DF,  p-value: 2.24e-08\n"
      ]
     },
     "metadata": {},
     "output_type": "display_data"
    }
   ],
   "source": [
    "# A reta de quadrados mínimos\n",
    "\n",
    "x=seq(1,8,by=1)                                 #Criando uma sequência com início em 1 e terminando em 8\n",
    "y=c(1.7, 2.3, 3.2, 3.6, 4.5, 5.3, 6, 6.5)       #Valores de y\n",
    "exercicio2=data.frame(x,y)                      #Criação do dataframe\n",
    "\n",
    "ajuste2=lm(y~x,data=exercicio2)                  #Estimação dos valores de B0 e B1 pelo métodos dos m. quadrados \n",
    "summary(ajuste2)                                 #Apresentação dos resultados"
   ]
  },
  {
   "cell_type": "code",
   "execution_count": 5,
   "metadata": {},
   "outputs": [
    {
     "data": {
      "text/html": [
       "<table>\n",
       "<thead><tr><th scope=col>y</th><th scope=col>previsto2</th><th scope=col>residuos2</th></tr></thead>\n",
       "<tbody>\n",
       "\t<tr><td>1.7        </td><td>1.666667   </td><td> 0.03333333</td></tr>\n",
       "\t<tr><td>2.3        </td><td>2.372619   </td><td>-0.07261905</td></tr>\n",
       "\t<tr><td>3.2        </td><td>3.078571   </td><td> 0.12142857</td></tr>\n",
       "\t<tr><td>3.6        </td><td>3.784524   </td><td>-0.18452381</td></tr>\n",
       "\t<tr><td>4.5        </td><td>4.490476   </td><td> 0.00952381</td></tr>\n",
       "\t<tr><td>5.3        </td><td>5.196429   </td><td> 0.10357143</td></tr>\n",
       "\t<tr><td>6.0        </td><td>5.902381   </td><td> 0.09761905</td></tr>\n",
       "\t<tr><td>6.5        </td><td>6.608333   </td><td>-0.10833333</td></tr>\n",
       "</tbody>\n",
       "</table>\n"
      ],
      "text/latex": [
       "\\begin{tabular}{r|lll}\n",
       " y & previsto2 & residuos2\\\\\n",
       "\\hline\n",
       "\t 1.7         & 1.666667    &  0.03333333\\\\\n",
       "\t 2.3         & 2.372619    & -0.07261905\\\\\n",
       "\t 3.2         & 3.078571    &  0.12142857\\\\\n",
       "\t 3.6         & 3.784524    & -0.18452381\\\\\n",
       "\t 4.5         & 4.490476    &  0.00952381\\\\\n",
       "\t 5.3         & 5.196429    &  0.10357143\\\\\n",
       "\t 6.0         & 5.902381    &  0.09761905\\\\\n",
       "\t 6.5         & 6.608333    & -0.10833333\\\\\n",
       "\\end{tabular}\n"
      ],
      "text/markdown": [
       "\n",
       "| y | previsto2 | residuos2 |\n",
       "|---|---|---|\n",
       "| 1.7         | 1.666667    |  0.03333333 |\n",
       "| 2.3         | 2.372619    | -0.07261905 |\n",
       "| 3.2         | 3.078571    |  0.12142857 |\n",
       "| 3.6         | 3.784524    | -0.18452381 |\n",
       "| 4.5         | 4.490476    |  0.00952381 |\n",
       "| 5.3         | 5.196429    |  0.10357143 |\n",
       "| 6.0         | 5.902381    |  0.09761905 |\n",
       "| 6.5         | 6.608333    | -0.10833333 |\n",
       "\n"
      ],
      "text/plain": [
       "  y   previsto2 residuos2  \n",
       "1 1.7 1.666667   0.03333333\n",
       "2 2.3 2.372619  -0.07261905\n",
       "3 3.2 3.078571   0.12142857\n",
       "4 3.6 3.784524  -0.18452381\n",
       "5 4.5 4.490476   0.00952381\n",
       "6 5.3 5.196429   0.10357143\n",
       "7 6.0 5.902381   0.09761905\n",
       "8 6.5 6.608333  -0.10833333"
      ]
     },
     "metadata": {},
     "output_type": "display_data"
    }
   ],
   "source": [
    "#Apresentação dos valores previstos, residuos em uma tabela\n",
    "\n",
    "previsto2=predict(ajuste2)                         #Valores previstos\n",
    "residuos2=residuals(ajuste2)                       #Valores residuais\n",
    "resultado2=data.frame(y,previsto2,residuos2)        #Dataframe com a união dos resultados\n",
    "resultado2                                        #Apresentação dos resultados"
   ]
  },
  {
   "cell_type": "code",
   "execution_count": 6,
   "metadata": {},
   "outputs": [
    {
     "data": {
      "image/png": "[encoded data removed]",
      "text/plain": [
       "plot without title"
      ]
     },
     "metadata": {},
     "output_type": "display_data"
    }
   ],
   "source": [
    "#Apresentação do Gráfico\n",
    "plot(y~x,pch=16,data=exercicio2)\n",
    "abline(ajuste2,col=\"red\")"
   ]
  },
  {
   "cell_type": "markdown",
   "metadata": {},
   "source": [
    "$\\color{red}{\\text{Exercício 3}}$ - **Retirado do livro: Análise de Modelos de Regressão Linear com Aplicações, de Charnet, Freire, Charnet e Bonvino** - Para os dados abaixo construa um gráfico e encontre a reta de regressão e os resíduos.\n",
    "\n",
    "| x | -3 | -1 | 0 | 1 | 3 |\n",
    "|:-:|:--:|:--:|:-:|:-:|:-:|\n",
    "| y |  5 |  2 | 2 | 1 | 0 |"
   ]
  },
  {
   "cell_type": "code",
   "execution_count": 7,
   "metadata": {},
   "outputs": [
    {
     "data": {
      "text/plain": [
       "\n",
       "Call:\n",
       "lm(formula = y ~ x, data = exercicio3)\n",
       "\n",
       "Residuals:\n",
       "         1          2          3          4          5 \n",
       " 6.000e-01 -8.000e-01 -4.163e-16 -2.000e-01  4.000e-01 \n",
       "\n",
       "Coefficients:\n",
       "            Estimate Std. Error t value Pr(>|t|)   \n",
       "(Intercept)   2.0000     0.2828   7.071  0.00582 **\n",
       "x            -0.8000     0.1414  -5.657  0.01094 * \n",
       "---\n",
       "Signif. codes:  0 '***' 0.001 '**' 0.01 '*' 0.05 '.' 0.1 ' ' 1\n",
       "\n",
       "Residual standard error: 0.6325 on 3 degrees of freedom\n",
       "Multiple R-squared:  0.9143,\tAdjusted R-squared:  0.8857 \n",
       "F-statistic:    32 on 1 and 3 DF,  p-value: 0.01094\n"
      ]
     },
     "metadata": {},
     "output_type": "display_data"
    }
   ],
   "source": [
    "# Construção da entrada de dados\n",
    "x=c(-3,-1,0,1,3)                        #Entrada de dados de x\n",
    "y=c(5,2,2,1,0)                          #Entrada de dados de y\n",
    "\n",
    "exercicio3=data.frame(x,y)              #Data Frame   \n",
    "\n",
    "ajuste=lm(y~x,data=exercicio3)          #Estimação dos coeficientes de regressão\n",
    "summary(ajuste)                         #Resultados apresentados"
   ]
  },
  {
   "cell_type": "code",
   "execution_count": 8,
   "metadata": {},
   "outputs": [
    {
     "data": {
      "text/html": [
       "<table>\n",
       "<thead><tr><th scope=col>y</th><th scope=col>previsto</th><th scope=col>residuos</th></tr></thead>\n",
       "<tbody>\n",
       "\t<tr><td>5            </td><td> 4.4         </td><td> 6.000000e-01</td></tr>\n",
       "\t<tr><td>2            </td><td> 2.8         </td><td>-8.000000e-01</td></tr>\n",
       "\t<tr><td>2            </td><td> 2.0         </td><td>-4.163336e-16</td></tr>\n",
       "\t<tr><td>1            </td><td> 1.2         </td><td>-2.000000e-01</td></tr>\n",
       "\t<tr><td>0            </td><td>-0.4         </td><td> 4.000000e-01</td></tr>\n",
       "</tbody>\n",
       "</table>\n"
      ],
      "text/latex": [
       "\\begin{tabular}{r|lll}\n",
       " y & previsto & residuos\\\\\n",
       "\\hline\n",
       "\t 5             &  4.4          &  6.000000e-01\\\\\n",
       "\t 2             &  2.8          & -8.000000e-01\\\\\n",
       "\t 2             &  2.0          & -4.163336e-16\\\\\n",
       "\t 1             &  1.2          & -2.000000e-01\\\\\n",
       "\t 0             & -0.4          &  4.000000e-01\\\\\n",
       "\\end{tabular}\n"
      ],
      "text/markdown": [
       "\n",
       "| y | previsto | residuos |\n",
       "|---|---|---|\n",
       "| 5             |  4.4          |  6.000000e-01 |\n",
       "| 2             |  2.8          | -8.000000e-01 |\n",
       "| 2             |  2.0          | -4.163336e-16 |\n",
       "| 1             |  1.2          | -2.000000e-01 |\n",
       "| 0             | -0.4          |  4.000000e-01 |\n",
       "\n"
      ],
      "text/plain": [
       "  y previsto residuos     \n",
       "1 5  4.4      6.000000e-01\n",
       "2 2  2.8     -8.000000e-01\n",
       "3 2  2.0     -4.163336e-16\n",
       "4 1  1.2     -2.000000e-01\n",
       "5 0 -0.4      4.000000e-01"
      ]
     },
     "metadata": {},
     "output_type": "display_data"
    }
   ],
   "source": [
    "#Apresentação dos resultados estimados\n",
    "\n",
    "previsto=predict(ajuste)                         #Resultados previstos\n",
    "residuos=residuals(ajuste)                       #Resultados dos resíduos\n",
    "resultado=data.frame(y,previsto,residuos)\n",
    "resultado                                        #Resultado consolidado"
   ]
  },
  {
   "cell_type": "code",
   "execution_count": 9,
   "metadata": {},
   "outputs": [
    {
     "data": {
      "image/png": "[encoded data removed]",
      "text/plain": [
       "plot without title"
      ]
     },
     "metadata": {},
     "output_type": "display_data"
    }
   ],
   "source": [
    " #Gráfico para a função ajustada\n",
    "\n",
    "plot(y~x,pch=16,data=exercicio3)\n",
    "abline(ajuste,col=\"red\")"
   ]
  },
  {
   "cell_type": "markdown",
   "metadata": {},
   "source": [
    "$\\color{red}{\\text{Exercício 4}}$ - **Retirado do livro: Análise de Modelos de Regressão Linear com Aplicações, de Charnet, Freire, Charnet e Bonvino** - Considere os seguintes pares de observações: (-5,0); (-3,1); (-1,1); (1,2);(3,2);(5,3). Obtenha a reta de quadrados mínimos e os resíduos. Represente graficametne os dados e a reta encontrada. "
   ]
  },
  {
   "cell_type": "code",
   "execution_count": 10,
   "metadata": {},
   "outputs": [
    {
     "data": {
      "text/plain": [
       "\n",
       "Call:\n",
       "lm(formula = y ~ x, data = exercicio4)\n",
       "\n",
       "Residuals:\n",
       "      1       2       3       4       5       6 \n",
       "-0.1429  0.3143 -0.2286  0.2286 -0.3143  0.1429 \n",
       "\n",
       "Coefficients:\n",
       "            Estimate Std. Error t value Pr(>|t|)    \n",
       "(Intercept)  1.50000    0.11952  12.550 0.000232 ***\n",
       "x            0.27143    0.03499   7.757 0.001489 ** \n",
       "---\n",
       "Signif. codes:  0 '***' 0.001 '**' 0.01 '*' 0.05 '.' 0.1 ' ' 1\n",
       "\n",
       "Residual standard error: 0.2928 on 4 degrees of freedom\n",
       "Multiple R-squared:  0.9377,\tAdjusted R-squared:  0.9221 \n",
       "F-statistic: 60.17 on 1 and 4 DF,  p-value: 0.001489\n"
      ]
     },
     "metadata": {},
     "output_type": "display_data"
    }
   ],
   "source": [
    "#Entrando com os dados\n",
    "y=c(0,1,1,2,2,3)\n",
    "x=c(-5,-3,-1,1,3,5)\n",
    "exercicio4=data.frame(x,y)\n",
    "\n",
    "# Reta estimada\n",
    "ajuste=lm(y~x,data=exercicio4)\n",
    "summary(ajuste)\n"
   ]
  },
  {
   "cell_type": "code",
   "execution_count": 11,
   "metadata": {},
   "outputs": [
    {
     "data": {
      "text/html": [
       "<table>\n",
       "<thead><tr><th scope=col>y</th><th scope=col>previstos</th><th scope=col>residuos</th></tr></thead>\n",
       "<tbody>\n",
       "\t<tr><td>0         </td><td>0.1428571 </td><td>-0.1428571</td></tr>\n",
       "\t<tr><td>1         </td><td>0.6857143 </td><td> 0.3142857</td></tr>\n",
       "\t<tr><td>1         </td><td>1.2285714 </td><td>-0.2285714</td></tr>\n",
       "\t<tr><td>2         </td><td>1.7714286 </td><td> 0.2285714</td></tr>\n",
       "\t<tr><td>2         </td><td>2.3142857 </td><td>-0.3142857</td></tr>\n",
       "\t<tr><td>3         </td><td>2.8571429 </td><td> 0.1428571</td></tr>\n",
       "</tbody>\n",
       "</table>\n"
      ],
      "text/latex": [
       "\\begin{tabular}{r|lll}\n",
       " y & previstos & residuos\\\\\n",
       "\\hline\n",
       "\t 0          & 0.1428571  & -0.1428571\\\\\n",
       "\t 1          & 0.6857143  &  0.3142857\\\\\n",
       "\t 1          & 1.2285714  & -0.2285714\\\\\n",
       "\t 2          & 1.7714286  &  0.2285714\\\\\n",
       "\t 2          & 2.3142857  & -0.3142857\\\\\n",
       "\t 3          & 2.8571429  &  0.1428571\\\\\n",
       "\\end{tabular}\n"
      ],
      "text/markdown": [
       "\n",
       "| y | previstos | residuos |\n",
       "|---|---|---|\n",
       "| 0          | 0.1428571  | -0.1428571 |\n",
       "| 1          | 0.6857143  |  0.3142857 |\n",
       "| 1          | 1.2285714  | -0.2285714 |\n",
       "| 2          | 1.7714286  |  0.2285714 |\n",
       "| 2          | 2.3142857  | -0.3142857 |\n",
       "| 3          | 2.8571429  |  0.1428571 |\n",
       "\n"
      ],
      "text/plain": [
       "  y previstos residuos  \n",
       "1 0 0.1428571 -0.1428571\n",
       "2 1 0.6857143  0.3142857\n",
       "3 1 1.2285714 -0.2285714\n",
       "4 2 1.7714286  0.2285714\n",
       "5 2 2.3142857 -0.3142857\n",
       "6 3 2.8571429  0.1428571"
      ]
     },
     "metadata": {},
     "output_type": "display_data"
    }
   ],
   "source": [
    "# Valores estimados para Y e resíduos\n",
    "\n",
    "previstos=predict(ajuste)\n",
    "residuos=residuals(ajuste)\n",
    "resultado=data.frame(y,previstos,residuos)\n",
    "resultado\n"
   ]
  },
  {
   "cell_type": "code",
   "execution_count": 12,
   "metadata": {},
   "outputs": [
    {
     "data": {
      "image/png": "[encoded data removed]",
      "text/plain": [
       "plot without title"
      ]
     },
     "metadata": {},
     "output_type": "display_data"
    }
   ],
   "source": [
    "#Gráfico da função estimada\n",
    "\n",
    "plot(y~x,pch=16,data=exercicio4)\n",
    "abline(ajuste,col=\"red\")"
   ]
  },
  {
   "cell_type": "markdown",
   "metadata": {},
   "source": [
    "$\\color{red}{\\text{Exercício 5}}$ - **Retirado do livro: Análise de Modelos de Regressão Linear com Aplicações, de Charnet, Freire, Charnet e Bonvino** - Para cada um dos conjuntos de observações abaixo, encontre a reta de regressão pelo método dos quadrados mínimos e construa um gráfico.\n",
    "\n",
    "a)\n",
    "\n",
    "| x | 1 | 2 | 3 | 4 | 5 | 6 |\n",
    "|:-:|:-:|:-:|:-:|:-:|:-:|:-:|\n",
    "| y | 8 | 6 | 6 | 4 | 3 | 1 |\n",
    "\n",
    "b)\n",
    "\n",
    "| x | -2 | -1 | 0 | 1 | 2 |   |\n",
    "|:-:|:--:|:--:|:-:|:-:|:-:|:-:|\n",
    "| y |  1 |  1 | 2 | 3 | 3 |   |\n"
   ]
  },
  {
   "cell_type": "code",
   "execution_count": 13,
   "metadata": {},
   "outputs": [
    {
     "data": {
      "text/plain": [
       "\n",
       "Call:\n",
       "lm(formula = y ~ x, data = dados)\n",
       "\n",
       "Residuals:\n",
       "        1         2         3         4         5         6 \n",
       " 0.047619 -0.638095  0.676190 -0.009524  0.304762 -0.380952 \n",
       "\n",
       "Coefficients:\n",
       "            Estimate Std. Error t value Pr(>|t|)    \n",
       "(Intercept)   9.2667     0.4892   18.94 4.58e-05 ***\n",
       "x            -1.3143     0.1256  -10.46 0.000472 ***\n",
       "---\n",
       "Signif. codes:  0 '***' 0.001 '**' 0.01 '*' 0.05 '.' 0.1 ' ' 1\n",
       "\n",
       "Residual standard error: 0.5255 on 4 degrees of freedom\n",
       "Multiple R-squared:  0.9647,\tAdjusted R-squared:  0.9559 \n",
       "F-statistic: 109.4 on 1 and 4 DF,  p-value: 0.0004718\n"
      ]
     },
     "metadata": {},
     "output_type": "display_data"
    }
   ],
   "source": [
    "# para a letra (a), temos\n",
    "\n",
    "x=seq(1,6,by=1)\n",
    "y=c(8,6,6,4,3,1)\n",
    "dados=data.frame(x,y)\n",
    "ajuste=lm(y~x,data=dados)\n",
    "summary(ajuste)"
   ]
  },
  {
   "cell_type": "code",
   "execution_count": 14,
   "metadata": {},
   "outputs": [
    {
     "data": {
      "image/png": "[encoded data removed]",
      "text/plain": [
       "plot without title"
      ]
     },
     "metadata": {},
     "output_type": "display_data"
    }
   ],
   "source": [
    "#Reta ajustada\n",
    "plot(x~y,pch=16,data=dados)\n",
    "abline(ajuste,col=\"red\")"
   ]
  },
  {
   "cell_type": "code",
   "execution_count": 15,
   "metadata": {},
   "outputs": [
    {
     "data": {
      "text/plain": [
       "\n",
       "Call:\n",
       "lm(formula = y ~ x, data = dados)\n",
       "\n",
       "Residuals:\n",
       "         1          2          3          4          5 \n",
       " 2.000e-01 -4.000e-01  6.245e-17  4.000e-01 -2.000e-01 \n",
       "\n",
       "Coefficients:\n",
       "            Estimate Std. Error t value Pr(>|t|)   \n",
       "(Intercept)   2.0000     0.1633  12.247  0.00117 **\n",
       "x             0.6000     0.1155   5.196  0.01385 * \n",
       "---\n",
       "Signif. codes:  0 '***' 0.001 '**' 0.01 '*' 0.05 '.' 0.1 ' ' 1\n",
       "\n",
       "Residual standard error: 0.3651 on 3 degrees of freedom\n",
       "Multiple R-squared:    0.9,\tAdjusted R-squared:  0.8667 \n",
       "F-statistic:    27 on 1 and 3 DF,  p-value: 0.01385\n"
      ]
     },
     "metadata": {},
     "output_type": "display_data"
    }
   ],
   "source": [
    "#Para a letra b), temos:\n",
    "\n",
    "x=c(-2,-1,0,1,2)\n",
    "y=c(1,1,2,3,3)\n",
    "dados=data.frame(x,y)\n",
    "ajuste=lm(y~x,data=dados)\n",
    "summary(ajuste)"
   ]
  },
  {
   "cell_type": "code",
   "execution_count": 16,
   "metadata": {},
   "outputs": [
    {
     "data": {
      "image/png": "[encoded data removed]",
      "text/plain": [
       "plot without title"
      ]
     },
     "metadata": {},
     "output_type": "display_data"
    }
   ],
   "source": [
    "#Gráficos\n",
    "\n",
    "plot(y~x,pch=16,data=dados)\n",
    "abline(ajuste,col=\"red\")"
   ]
  }
 ],
 "metadata": {
  "kernelspec": {
   "display_name": "R",
   "language": "R",
   "name": "ir"
  },
  "language_info": {
   "codemirror_mode": "r",
   "file_extension": ".r",
   "mimetype": "text/x-r-source",
   "name": "R",
   "pygments_lexer": "r",
   "version": "3.6.1"
  }
 },
 "nbformat": 4,
 "nbformat_minor": 4
}
