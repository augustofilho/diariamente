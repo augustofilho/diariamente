{
 "cells": [
  {
   "cell_type": "markdown",
   "metadata": {},
   "source": [
    "Day 16:30 daily statistics - Adequacao - P1"
   ]
  },
  {
   "cell_type": "markdown",
   "metadata": {},
   "source": [
    "$\\color{red}{\\text{Exercício 1}}$ - **Retirado do livro: Análise de Modelos de Regressão Linear com Aplicações, de Charnet, Freire, Charnet e Bonvino** - Os dados abaixo são relativos ao peso (em gramas) de embriões de galinha e idade (em dias) desses embrições\n",
    "\n",
    "| Idade |  Peso |\n",
    "|:-----:|:-----:|\n",
    "|   6   | 0,029 |\n",
    "|   7   | 0,052 |\n",
    "|   8   | 0,079 |\n",
    "|   9   | 0,125 |\n",
    "|   10  | 0,181 |\n",
    "|   11  | 0,261 |\n",
    "|   12  | 0,425 |\n",
    "|   13  | 0,738 |\n",
    "|   14  | 1,130 |\n",
    "|   15  | 1,882 |\n",
    "|   16  | 2,812 |\n",
    "\n",
    "+ a) Construa um gráfico de dispersão do peso em função da idade. Comente a possível relação entre peso e idade;\n",
    "+ b) Ajuste um MRLS de peso em função da idade. Comente as estimativas dos parâmetros do modelo;\n",
    "+ c) Calcule o coeficiente de determinação do modelo em (b). Qual a sua opinião sobre o ajsute desse modelo?\n",
    "+ d) Considere a transformação $Z=\\log_{10}(peso)$. Ajuste um MRLS de Z em termos da idade;\n",
    "+ e) Calcule o coeficiente de determinaçaõ do modelo acima;\n",
    "+ f) Compare os dois modelos ajustados e escolha o melhor deles."
   ]
  },
  {
   "cell_type": "markdown",
   "metadata": {},
   "source": [
    "$\\color{red}{\\text{a)}}$ **O gráfico de dispersão do peso em função da idade é apresentado a seguir**"
   ]
  },
  {
   "cell_type": "code",
   "execution_count": 1,
   "metadata": {},
   "outputs": [
    {
     "data": {
      "image/png": "[encoded data removed]",
      "text/plain": [
       "plot without title"
      ]
     },
     "metadata": {},
     "output_type": "display_data"
    }
   ],
   "source": [
    "#Entrando com os dados\n",
    "idade=seq(6,16,by=1)\n",
    "peso=c(0.029, 0.052, 0.079, 0.125, 0.181, 0.261, 0.425, 0.738, 1.130, 1.882, 2.812)\n",
    "\n",
    "#Gráfico de dispersão\n",
    "plot(idade,peso)"
   ]
  },
  {
   "cell_type": "markdown",
   "metadata": {},
   "source": [
    "$\\color{red}{\\text{b)}}$ **O ajuste de um MRLS de peso em função da idade é apresentado a seguir**"
   ]
  },
  {
   "cell_type": "code",
   "execution_count": 2,
   "metadata": {},
   "outputs": [
    {
     "data": {
      "text/plain": [
       "\n",
       "Call:\n",
       "lm(formula = peso ~ idade, data = dados)\n",
       "\n",
       "Residuals:\n",
       "    Min      1Q  Median      3Q     Max \n",
       "-0.5113 -0.3593 -0.1061  0.2657  0.9354 \n",
       "\n",
       "Coefficients:\n",
       "            Estimate Std. Error t value Pr(>|t|)    \n",
       "(Intercept) -1.88453    0.52584  -3.584 0.005895 ** \n",
       "idade        0.23507    0.04594   5.117 0.000631 ***\n",
       "---\n",
       "Signif. codes:  0 '***' 0.001 '**' 0.01 '*' 0.05 '.' 0.1 ' ' 1\n",
       "\n",
       "Residual standard error: 0.4818 on 9 degrees of freedom\n",
       "Multiple R-squared:  0.7442,\tAdjusted R-squared:  0.7158 \n",
       "F-statistic: 26.18 on 1 and 9 DF,  p-value: 0.0006308\n"
      ]
     },
     "metadata": {},
     "output_type": "display_data"
    }
   ],
   "source": [
    "#Entrando com os dados\n",
    "dados=data.frame(peso,idade)\n",
    "ajuste=lm(peso~idade,data=dados)\n",
    "summary(ajuste)"
   ]
  },
  {
   "cell_type": "markdown",
   "metadata": {},
   "source": [
    "O modelo estimado é apresentado por $\\hat{y}=-1,88453+0,23507X$, com um coeficiente de determinação de 74,42%. O modelo estimado estipula que a cada aumento na idade em uma unidade o custo aumenta em média 0,23507."
   ]
  },
  {
   "cell_type": "markdown",
   "metadata": {},
   "source": [
    "$\\color{red}{\\text{c)}}$ **Calcule o coeficiente de determinação**"
   ]
  },
  {
   "cell_type": "markdown",
   "metadata": {},
   "source": [
    "Conforme visto anteriormente, o coeficiente de determinação estimado foi de 74,42%, indicando que o modelo explica cerca de quase 75% a variação que ocorre no processo. Em minha opinião o modelo estimado não é adequado, visto que o comportamento dos dados sugerem um ajuste não linear ao conjunto de dados ou que haja alguma transformação linear ao conjunto de dados."
   ]
  },
  {
   "cell_type": "markdown",
   "metadata": {},
   "source": [
    "$\\color{red}{\\text{d)}}$ **Considere a transformação $Z=\\log_{10}(peso)$. Ajuste um MRLS de Z em termos da idade.**"
   ]
  },
  {
   "cell_type": "code",
   "execution_count": 3,
   "metadata": {},
   "outputs": [
    {
     "data": {
      "text/plain": [
       "\n",
       "Call:\n",
       "lm(formula = z ~ idade, data = dados2)\n",
       "\n",
       "Residuals:\n",
       "      Min        1Q    Median        3Q       Max \n",
       "-0.048852 -0.017811  0.004118  0.021479  0.034035 \n",
       "\n",
       "Coefficients:\n",
       "             Estimate Std. Error t value Pr(>|t|)    \n",
       "(Intercept) -2.689198   0.030552  -88.02  1.6e-14 ***\n",
       "idade        0.195881   0.002669   73.38  8.2e-14 ***\n",
       "---\n",
       "Signif. codes:  0 '***' 0.001 '**' 0.01 '*' 0.05 '.' 0.1 ' ' 1\n",
       "\n",
       "Residual standard error: 0.028 on 9 degrees of freedom\n",
       "Multiple R-squared:  0.9983,\tAdjusted R-squared:  0.9981 \n",
       "F-statistic:  5385 on 1 and 9 DF,  p-value: 8.196e-14\n"
      ]
     },
     "metadata": {},
     "output_type": "display_data"
    }
   ],
   "source": [
    "#Transformação\n",
    "z=log(peso,10)\n",
    "dados2=data.frame(z,idade)\n",
    "ajuste2=lm(z~idade,data=dados2)\n",
    "summary(ajuste2)"
   ]
  },
  {
   "cell_type": "markdown",
   "metadata": {},
   "source": [
    "O modelo ajustado é dado por $\\hat{y}=-2,689198+0,195881X$, com um coeficiente de determinação de 99,83%. Este modelo ajustado a partir de um ajuste dos dados é melhor que o modelo anterior."
   ]
  },
  {
   "cell_type": "code",
   "execution_count": 4,
   "metadata": {},
   "outputs": [
    {
     "data": {
      "image/png": "[encoded data removed]",
      "text/plain": [
       "plot without title"
      ]
     },
     "metadata": {},
     "output_type": "display_data"
    }
   ],
   "source": [
    "plot(z~idade,pch=16)\n",
    "abline(ajuste2,col=\"red\")"
   ]
  },
  {
   "cell_type": "markdown",
   "metadata": {},
   "source": [
    "$\\color{red}{\\text{e)}}$ **O coeficiente de determinação é apresentado a seguir:**"
   ]
  },
  {
   "cell_type": "code",
   "execution_count": 5,
   "metadata": {},
   "outputs": [
    {
     "name": "stdout",
     "output_type": "stream",
     "text": [
      "O coeficiente de determinação é o quadrado da correlação linear 0.9983315"
     ]
    }
   ],
   "source": [
    "#O coeficiente de determinação é 0,9983. No entanto, obtendo manualmente no R, teríamos:\n",
    "r2=fitted(ajuste2)\n",
    "cat(\"O coeficiente de determinação é o quadrado da correlação linear\",cor(z,r2)^2)"
   ]
  },
  {
   "cell_type": "markdown",
   "metadata": {},
   "source": [
    "$\\color{red}{\\text{f)}}$ **Compare os dois modelos ajustados:**"
   ]
  },
  {
   "cell_type": "markdown",
   "metadata": {},
   "source": [
    "Ao comparamos os dois modelos ajustados, será escolhido o modelo que apresentar o maior coeficiente de determinação, indicando que o modelo ajustado explica melhor a variabilidade que é considerada inerente a um processo, portanto o modelo escolhido será o $\\hat{z}_{ajustado}=-2,689198+0,195881X$"
   ]
  },
  {
   "cell_type": "markdown",
   "metadata": {},
   "source": [
    "$\\color{red}{\\text{Exercício 2}}$ - **Retirado do livro: Análise de Modelos de Regressão Linear com Aplicações, de Charnet, Freire, Charnet e Bonvino** Um estudo foi realizado para se determinar a relação entre renda familiar mensal e tempo de espera para o nascimento do primeiro filho. Foram amostrados 20 casais com pelo menos um filho. O interesse principal estava em saber se a renda explicaria o tempo de espera. Foi então ajustado um MRLS do tempo (Y) em função da renda (X) e foram obtidas as seguintes  informações:\n",
    "\n",
    "$$\\hat{y}=19,6+0,00928X, \\qquad SQT=2.433,8 \\qquad S_{xx}=5.236,680 \\qquad p=0,058$$\n",
    "\n",
    "+ a) Calcule o coeficiente de determinação desse modelo;\n",
    "+ b) Com base nas informações fornecidas acima, o que você concluiria sobre a relação entre tempo  e renda?\n"
   ]
  },
  {
   "cell_type": "markdown",
   "metadata": {},
   "source": [
    "$\\color{red}{\\text{a)}}$ - **O coeficiente de determinação é dado por:**\n",
    "\n",
    "$$R^2=\\frac{SQ_{regressão}}{SQ_{total}}$$\n",
    "\n",
    "Portanto, temos:\n",
    "\n",
    "$$SQ_{regressão}=\\hat{\\beta}^2_1\\times S_{xx}$$\n",
    "\n",
    "Temos que $\\hat{\\beta}_0=19,6$ assim como  $\\hat{\\beta}_1=0,00928$ e $S_{xx}=\\sum(x_i-\\overline{x})^2$.\n",
    "\n",
    "Portanto, temos:\n",
    "\n",
    "$$SQ_{regressão}=\\hat{\\beta}^2_1\\times S_{xx}=0,00928^2\\times 5.236.689=450,9752$$\n",
    "\n",
    "Portanto $$R^2=\\frac{450,9752}{2433,8}=0,1853$$"
   ]
  },
  {
   "cell_type": "markdown",
   "metadata": {},
   "source": [
    "$\\color{red}{\\text{b)}}$ - **Com base nas informações fornecidas acima, o qeu é possível concluir sobre a relação entre tempo e venda**\n",
    "\n",
    "Visto que o coeficiente de determinação obtido foi de $R^2=0,1853$ indicando que o modelo estimado explica apenas 18,53% da variação que é inerente ao processo, ainda é possível observar que o coeficiente de correlação entra as variáveis é igual a $\\rho=\\sqrt{R^2}=\\sqrt{0,1853}=0,4304$ indicando que existe uma fraca correlação linear entre as variáveis envolvidas no estudo."
   ]
  },
  {
   "cell_type": "markdown",
   "metadata": {},
   "source": [
    "$\\color{red}{\\text{Exercício 3}}$ - **Retirado do livro: Análise de Modelos de Regressão Linear com Aplicações, de Charnet, Freire, Charnet e Bonvino** Após um acidente, o velocímetro de uma locomotiva de carga foi enviado para a manutenção e posterior calibragem, para se determinar a sua precisão. Para tanto o velocímetro foi sumetido a uma série de velocidade pré-determinadas, e anotou-se a velocidade assinalada pelo mesmo. Os seguintes dados foram obtidos:\n",
    "\n",
    "| Velocidade Real | Velocidade assinalada |\n",
    "|:---------------:|:---------------------:|\n",
    "|      40,00      |         33,60         |\n",
    "|      50,24      |         41,60         |\n",
    "|      62,88      |         54,40         |\n",
    "|      61,44      |         51,68         |\n",
    "|      39,52      |         32,48         |\n",
    "|      64,16      |         55,36         |\n",
    "|      36,32      |         29,44         |\n",
    "|      51,84      |         44,80         |\n",
    "\n",
    "Verifique se, de acordo com os dados acima, o velocímetro está aferido de forma satisfatória. Utilize um MRLS para a sua análise."
   ]
  },
  {
   "cell_type": "code",
   "execution_count": 6,
   "metadata": {},
   "outputs": [
    {
     "data": {
      "image/png": "[encoded data removed]",
      "text/plain": [
       "plot without title"
      ]
     },
     "metadata": {},
     "output_type": "display_data"
    }
   ],
   "source": [
    "#Entrando com os dados\n",
    "real=c(40,50.24, 62.88, 61.44, 39.52, 64.16, 36.32, 51.84)\n",
    "assinalada=c(33.6, 41.6, 54.4, 51.68, 32.48, 55.36, 29.44, 44.80)\n",
    "\n",
    "#Gráfico \n",
    "plot(real,assinalada)"
   ]
  },
  {
   "cell_type": "code",
   "execution_count": 7,
   "metadata": {},
   "outputs": [
    {
     "name": "stdout",
     "output_type": "stream",
     "text": [
      "A correlação linear entre as duas variáveis é de 0.9979394"
     ]
    }
   ],
   "source": [
    "#correlação entre a variável Real e a variável assinalada\n",
    "cat(\"A correlação linear entre as duas variáveis é de\",cor(real, assinalada))"
   ]
  },
  {
   "cell_type": "code",
   "execution_count": 8,
   "metadata": {},
   "outputs": [
    {
     "data": {
      "text/plain": [
       "\n",
       "Call:\n",
       "lm(formula = assinalada ~ real, data = tabela)\n",
       "\n",
       "Residuals:\n",
       "    Min      1Q  Median      3Q     Max \n",
       "-0.9480 -0.4035  0.0511  0.4771  0.9311 \n",
       "\n",
       "Coefficients:\n",
       "            Estimate Std. Error t value Pr(>|t|)    \n",
       "(Intercept) -3.43030    1.24267   -2.76   0.0328 *  \n",
       "real         0.91241    0.02395   38.10 2.18e-08 ***\n",
       "---\n",
       "Signif. codes:  0 '***' 0.001 '**' 0.01 '*' 0.05 '.' 0.1 ' ' 1\n",
       "\n",
       "Residual standard error: 0.7155 on 6 degrees of freedom\n",
       "Multiple R-squared:  0.9959,\tAdjusted R-squared:  0.9952 \n",
       "F-statistic:  1451 on 1 and 6 DF,  p-value: 2.184e-08\n"
      ]
     },
     "metadata": {},
     "output_type": "display_data"
    }
   ],
   "source": [
    "#Ajuste de um modelo de regressão linear\n",
    "tabela=data.frame(real,assinalada)\n",
    "ajustereal=lm(assinalada~real,data=tabela)\n",
    "summary(ajustereal)"
   ]
  },
  {
   "cell_type": "markdown",
   "metadata": {},
   "source": [
    "O modelo estimado foi $\\hat{y}=-3,43030+0,91241X$, com um coeficiente de determinação de 99,59%. "
   ]
  },
  {
   "cell_type": "code",
   "execution_count": 9,
   "metadata": {},
   "outputs": [
    {
     "data": {
      "image/png": "[encoded data removed]",
      "text/plain": [
       "plot without title"
      ]
     },
     "metadata": {},
     "output_type": "display_data"
    }
   ],
   "source": [
    "plot(assinalada~real,pch=16)\n",
    "abline(ajustereal,col=\"red\")"
   ]
  },
  {
   "cell_type": "markdown",
   "metadata": {},
   "source": [
    "O modelo linear simples consegue um bom ajuste ao conjunto de dados. "
   ]
  },
  {
   "cell_type": "markdown",
   "metadata": {},
   "source": [
    "$\\color{red}{\\text{Exercício 4}}$ - **Retirado do livro: Análise de Modelos de Regressão Linear com Aplicações, de Charnet, Freire, Charnet e Bonvino** A faculdade de economia que fez o levantamento dos salários dos seus formandos resolveu refazer a pesquisa, só que desta vez selecionando apenas 5 formandos de cada um dos anos considerados. Os dados foram os seguintes:\n",
    "\n",
    "| Anos | Salários | Salários | Salários | Salários | Salários |\n",
    "|:----:|:--------:|:--------:|:--------:|:--------:|:--------:|\n",
    "|  87  | 1.056,42 | 1.131,62 | 1.063,25 | 1.082,89 | 1.047,18 |\n",
    "|  88  | 1.202,32 | 1.160,46 | 1.336,04 | 1.090,78 | 1.118,94 |\n",
    "|  89  | 1.232,46 | 1.346,49 | 1.141,38 | 1.266,01 | 1.334,23 |\n",
    "|  90  | 1.302,18 | 1.432,95 | 1.395,09 | 1.350,77 | 1.332,83 |\n",
    "|  91  | 1.455,37 | 1.492,35 | 1.529,65 | 1.397,54 | 1.235,04 |\n",
    "|  92  | 1.530,37 | 1.670,41 | 1.685,58 | 1.605,43 | 1.641,18 |\n",
    "|  93  | 1.638,24 | 1.483,88 | 1.653,36 | 1.803,77 | 1.628,48 |\n",
    "\n",
    "+ a) Ajuste um MRLS que explique salários em termos dos anos;\n",
    "+ b) Faça todos os testes pertinentes para a análise desses dados;\n",
    "+ c) Você acha que o modelo ajustado em (a) pode ser melhorado? Jutifique sua resposta. \n",
    "\n"
   ]
  },
  {
   "cell_type": "markdown",
   "metadata": {},
   "source": [
    "$\\color{red}{\\text{a)}}$ - **O ajuste através de um modelo MRLS é dado a seguir**"
   ]
  },
  {
   "cell_type": "code",
   "execution_count": 10,
   "metadata": {},
   "outputs": [
    {
     "data": {
      "text/plain": [
       "\n",
       "Call:\n",
       "lm(formula = salarios ~ ano)\n",
       "\n",
       "Residuals:\n",
       "    Min      1Q  Median      3Q     Max \n",
       "-230.80  -34.24  -10.47   60.76  164.15 \n",
       "\n",
       "Coefficients:\n",
       "             Estimate Std. Error t value Pr(>|t|)    \n",
       "(Intercept) -7450.441    638.017  -11.68 2.91e-13 ***\n",
       "ano            97.981      7.087   13.82 2.78e-15 ***\n",
       "---\n",
       "Signif. codes:  0 '***' 0.001 '**' 0.01 '*' 0.05 '.' 0.1 ' ' 1\n",
       "\n",
       "Residual standard error: 83.86 on 33 degrees of freedom\n",
       "Multiple R-squared:  0.8528,\tAdjusted R-squared:  0.8483 \n",
       "F-statistic: 191.1 on 1 and 33 DF,  p-value: 2.781e-15\n"
      ]
     },
     "metadata": {},
     "output_type": "display_data"
    }
   ],
   "source": [
    "#Entrando com os dados\n",
    "x=seq(87,93,by=1)\n",
    "ano=rep(x,each=5)\n",
    "salarios=c(1056.42, 1131.62, 1063.25,  1082.89,  1047.18,\n",
    "           1202.32, 1160.46, 1336.04,  1090.78,  1118.94, \n",
    "           1232.46, 1346.49, 1141.38,  1266.01,  1334.23, \n",
    "           1302.18, 1432.95, 1395.09,  1350.77,  1332.83, \n",
    "           1455.37, 1492.35, 1529.65,  1397.54,  1235.04, \n",
    "           1530.37, 1670.41, 1685.58,  1605.43,  1641.18, \n",
    "           1638.24, 1483.88, 1653.36,  1803.77,  1628.48)\n",
    "\n",
    "base4=data.frame(ano,salarios)\n",
    "ajuste4=lm(salarios~ano)\n",
    "summary(ajuste4)"
   ]
  },
  {
   "cell_type": "markdown",
   "metadata": {},
   "source": [
    "O modelo encontrado é $\\hat{y}=-7450,441+97,981X$, com um coeficiente de determinação de 83,86%."
   ]
  },
  {
   "cell_type": "markdown",
   "metadata": {},
   "source": [
    "$\\color{red}{\\text{b)}}$ - **Os testes pertinentes para este modelo são apresentado a seguir**"
   ]
  },
  {
   "cell_type": "code",
   "execution_count": 11,
   "metadata": {},
   "outputs": [
    {
     "data": {
      "text/html": [
       "<table>\n",
       "<thead><tr><th></th><th scope=col>Df</th><th scope=col>Sum Sq</th><th scope=col>Mean Sq</th><th scope=col>F value</th><th scope=col>Pr(&gt;F)</th></tr></thead>\n",
       "<tbody>\n",
       "\t<tr><th scope=row>ano</th><td> 1          </td><td>1344041     </td><td>1344040.650 </td><td>191.1255    </td><td>2.781222e-15</td></tr>\n",
       "\t<tr><th scope=row>Residuals</th><td>33          </td><td> 232064     </td><td>   7032.241 </td><td>      NA    </td><td>          NA</td></tr>\n",
       "</tbody>\n",
       "</table>\n"
      ],
      "text/latex": [
       "\\begin{tabular}{r|lllll}\n",
       "  & Df & Sum Sq & Mean Sq & F value & Pr(>F)\\\\\n",
       "\\hline\n",
       "\tano &  1           & 1344041      & 1344040.650  & 191.1255     & 2.781222e-15\\\\\n",
       "\tResiduals & 33           &  232064      &    7032.241  &       NA     &           NA\\\\\n",
       "\\end{tabular}\n"
      ],
      "text/markdown": [
       "\n",
       "| <!--/--> | Df | Sum Sq | Mean Sq | F value | Pr(>F) |\n",
       "|---|---|---|---|---|---|\n",
       "| ano |  1           | 1344041      | 1344040.650  | 191.1255     | 2.781222e-15 |\n",
       "| Residuals | 33           |  232064      |    7032.241  |       NA     |           NA |\n",
       "\n"
      ],
      "text/plain": [
       "          Df Sum Sq  Mean Sq     F value  Pr(>F)      \n",
       "ano        1 1344041 1344040.650 191.1255 2.781222e-15\n",
       "Residuals 33  232064    7032.241       NA           NA"
      ]
     },
     "metadata": {},
     "output_type": "display_data"
    }
   ],
   "source": [
    "anova(ajuste4)"
   ]
  },
  {
   "cell_type": "markdown",
   "metadata": {},
   "source": [
    "As variáveis anos e salários são fortemente correlacionadas linearmente $(\\rho=0,92)$, com um coeficiente de determinação de 83,86% indicando que o modelo estimado consegue prever o comportamento dos dados com grande acertividade. Os parâmetros $\\beta_0$ e $\\beta_1$ foram considerados significativos ao nível de 5% de significância assim como o modelo foi considerado significativo através da análise de variância apresentada acima."
   ]
  },
  {
   "cell_type": "markdown",
   "metadata": {},
   "source": [
    "$\\color{red}{\\text{c)}}$ - **Você acha que o modelo ajustado em (a) pode ser melhorado? Justifique sua resposta.**\n",
    "\n",
    "Os dados não apresentam **outliers** o que influenciaria de modo digno de nota a repregressão apresentada. Desta forma e levando-se em conta os valores dos coeficientes de determinação e coeficientes de correlação linear, pode-se dizer que foi estimado um bom modelo."
   ]
  },
  {
   "cell_type": "markdown",
   "metadata": {},
   "source": [
    "$\\color{red}{\\text{Exercício 5}}$ - **Retirado do livro: Análise de Modelos de Regressão Linear com Aplicações, de Charnet, Freire, Charnet e Bonvino** Uma agência de empregos faz anuncios uma vez por emana na seção de classificados de um determinado journal. Desconfia-se que o número de respostas aos anuncios está relacionado com o número de linhas utilizadas no anúncio. Foram selecionados 14 anúncios e o número de respostas a cada um deles foi observado. Os dados foram os seguintes:\n",
    "\n",
    "| Número de linhas | Respostas | Respostas |\n",
    "|:----------------:|:---------:|:---------:|\n",
    "|         3        |     3     |     7     |\n",
    "|         4        |     3     |           |\n",
    "|         5        |     5     |           |\n",
    "|         6        |     7     |           |\n",
    "|         8        |     7     |     16    |\n",
    "|        10        |     10    |     12    |\n",
    "|        12        |     10    |     8     |\n",
    "|        14        |     14    |     16    |\n",
    "|        16        |     14    |           |\n",
    "\n",
    "+ a) Ajuste um MRLS do número de respostas em termos do número de linhas\n",
    "+ b) Faça a análise completa do modelo e faça sugestões para possíveis melhoras."
   ]
  },
  {
   "cell_type": "markdown",
   "metadata": {},
   "source": [
    "$\\color{red}{\\text{a)}}$ - **Ajuste um MRLS do número de repostas em termos do número de linhas**"
   ]
  },
  {
   "cell_type": "code",
   "execution_count": 12,
   "metadata": {},
   "outputs": [
    {
     "data": {
      "text/plain": [
       "\n",
       "Call:\n",
       "lm(formula = resp ~ linhas, data = base5)\n",
       "\n",
       "Residuals:\n",
       "    Min      1Q  Median      3Q     Max \n",
       "-3.8868 -1.6849 -0.6872  1.4136  7.3146 \n",
       "\n",
       "Coefficients:\n",
       "            Estimate Std. Error t value Pr(>|t|)   \n",
       "(Intercept)   2.2826     1.8413   1.240  0.23880   \n",
       "linhas        0.8004     0.1869   4.283  0.00106 **\n",
       "---\n",
       "Signif. codes:  0 '***' 0.001 '**' 0.01 '*' 0.05 '.' 0.1 ' ' 1\n",
       "\n",
       "Residual standard error: 2.913 on 12 degrees of freedom\n",
       "Multiple R-squared:  0.6045,\tAdjusted R-squared:  0.5715 \n",
       "F-statistic: 18.34 on 1 and 12 DF,  p-value: 0.001064\n"
      ]
     },
     "metadata": {},
     "output_type": "display_data"
    }
   ],
   "source": [
    "#Entrando com os dados\n",
    "seq1=seq(3,6,by=1)\n",
    "seq2=seq(8,16,by=2)\n",
    "linhas=rep(c(seq1,seq2),c(2,1,1,1,2,2,2,2,1))\n",
    "resp=c(3,7,3,5,7,7,16,10,12,10,8,14,16,14)\n",
    "\n",
    "#Base de dados\n",
    "base5=data.frame(linhas,resp)\n",
    "ajuste5=lm(resp~linhas,data=base5)\n",
    "summary(ajuste5)"
   ]
  },
  {
   "cell_type": "code",
   "execution_count": 13,
   "metadata": {},
   "outputs": [
    {
     "data": {
      "image/png": "[encoded data removed]",
      "text/plain": [
       "plot without title"
      ]
     },
     "metadata": {},
     "output_type": "display_data"
    }
   ],
   "source": [
    "plot(linhas~resp,pch=16)\n",
    "abline(ajuste5,col=\"red\")"
   ]
  },
  {
   "cell_type": "markdown",
   "metadata": {},
   "source": [
    "O modelo ajustado estimado encontrado foi $\\hat{y}=2.2826+ 0.8004X$, com um coeficiente de determinação de 60,45%, indicando que o modelo explica apenas 60% da variabilidade do processo."
   ]
  },
  {
   "cell_type": "markdown",
   "metadata": {},
   "source": [
    "$\\color{red}{\\text{b)}}$ - **Faça a análsie completa do modelo e faça sugestões para possíveis melhoras**"
   ]
  },
  {
   "cell_type": "markdown",
   "metadata": {},
   "source": [
    "O modelo não é considerado adequado, possuíndo parâmetros não signficativos, tais como $\\beta_0$. O modelo explica apenas 60,45% da variabilidade que é inerente ao processo. Com o objetivo de tornar o modelo mais parciomonioso é necessário que seja utilizado transformações (Logaritmica, por exemplo), objetivando melhorar a significância dos parâmetros estimados para compor o modelo de previsão."
   ]
  }
 ],
 "metadata": {
  "kernelspec": {
   "display_name": "R",
   "language": "R",
   "name": "ir"
  },
  "language_info": {
   "codemirror_mode": "r",
   "file_extension": ".r",
   "mimetype": "text/x-r-source",
   "name": "R",
   "pygments_lexer": "r",
   "version": "3.6.1"
  }
 },
 "nbformat": 4,
 "nbformat_minor": 4
}
