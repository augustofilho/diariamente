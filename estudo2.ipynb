{
 "cells": [
  {
   "cell_type": "markdown",
   "metadata": {},
   "source": [
    "# Day 2:30 daily statistics"
   ]
  },
  {
   "cell_type": "markdown",
   "metadata": {},
   "source": [
    "O desafio de hoje é modelar um conjunto de dados no R que não possui necessariamente um comportamento linear. Os dados referem-se à produção de certa variedade de grãos (prd) em relação à quantidade de fertilizante aplicado na lavoura (fert);"
   ]
  },
  {
   "cell_type": "code",
   "execution_count": 1,
   "metadata": {},
   "outputs": [
    {
     "data": {
      "image/png": "[encoded data removed]",
      "text/plain": [
       "plot without title"
      ]
     },
     "metadata": {},
     "output_type": "display_data"
    }
   ],
   "source": [
    "#Entrando com os dados\n",
    "fert<- c(10,20,30,40,50,60,70,80,90,100)   #variavel independente\n",
    "prd <- c(42,61,81,94,98,96,83,79,59,43)    #variavel dependente\n",
    "\n",
    "#visualizando o comportamento dos dados\n",
    "plot(fert,prd)"
   ]
  },
  {
   "cell_type": "markdown",
   "metadata": {},
   "source": [
    "Pelo diagrama de dispersão é possível perceber um comportamento quadrático, desta forma, dentro do comando $lm()$ usaremos  o comando $I()$. Esse comando permite inserirmos diretamente no modelo termos do tipo $x^2$"
   ]
  },
  {
   "cell_type": "code",
   "execution_count": 2,
   "metadata": {},
   "outputs": [
    {
     "data": {
      "text/plain": [
       "\n",
       "Call:\n",
       "lm(formula = prd ~ fert + I(fert^2))\n",
       "\n",
       "Coefficients:\n",
       "(Intercept)         fert    I(fert^2)  \n",
       "   15.51667      2.95720     -0.02716  \n"
      ]
     },
     "metadata": {},
     "output_type": "display_data"
    }
   ],
   "source": [
    "reg <- lm(                  #Ajuste da regressão\n",
    "    prd~fert+I(fert^2))      #Modelo quadrático\n",
    "\n",
    "reg"
   ]
  },
  {
   "cell_type": "markdown",
   "metadata": {},
   "source": [
    "Ajustando a curva ajustada, temos: $\\hat{y}=15,516667+2,95720\\cdot fert -0,0271\\cdot fert^2$. Para escrevermos essa equação diretamente no R, deveremos proceder da seguinte forma: $curve(15.51667+2.95720 * x-0.02716 * x*x)$."
   ]
  },
  {
   "cell_type": "code",
   "execution_count": 3,
   "metadata": {},
   "outputs": [
    {
     "data": {
      "image/png": "[encoded data removed]",
      "text/plain": [
       "plot without title"
      ]
     },
     "metadata": {},
     "output_type": "display_data"
    }
   ],
   "source": [
    "#inserindo a equação\n",
    "curve(15.51667 + 2.95720 * x-0.02716 * x * x,      #equação\n",
    "                                       0,110,      #limite do eixo das abscissas\n",
    "                                       col=2,      #desenhar a curva em vermelho\n",
    "                                       add=F)       #adicionar ao gráfico existente\n",
    "\n",
    "segments(                                          #desenha segmentos de reta\n",
    "                                    fert,          #de (coord. x)\n",
    "                                    prd,           #de (coord. y)\n",
    "                                    fert,          #para (coord. x)\n",
    "                                    predict(reg),  #para (coord. y)\n",
    "                                    col='blue')    #cor azul"
   ]
  },
  {
   "cell_type": "markdown",
   "metadata": {},
   "source": [
    "A próxima análise envolve a ANOVA, para determinação da significância do modelo encontrado, desta forma, temos: $anova(reg)$"
   ]
  },
  {
   "cell_type": "code",
   "execution_count": 4,
   "metadata": {},
   "outputs": [
    {
     "data": {
      "text/html": [
       "<table>\n",
       "<thead><tr><th></th><th scope=col>Df</th><th scope=col>Sum Sq</th><th scope=col>Mean Sq</th><th scope=col>F value</th><th scope=col>Pr(&gt;F)</th></tr></thead>\n",
       "<tbody>\n",
       "\t<tr><th scope=row>fert</th><td>1           </td><td>   7.575758 </td><td>   7.575758 </td><td>  0.58785   </td><td>4.683158e-01</td></tr>\n",
       "\t<tr><th scope=row>I(fert^2)</th><td>1           </td><td>3894.613636 </td><td>3894.613636 </td><td>302.20721   </td><td>5.125802e-07</td></tr>\n",
       "\t<tr><th scope=row>Residuals</th><td>7           </td><td>  90.210606 </td><td>  12.887229 </td><td>       NA   </td><td>          NA</td></tr>\n",
       "</tbody>\n",
       "</table>\n"
      ],
      "text/latex": [
       "\\begin{tabular}{r|lllll}\n",
       "  & Df & Sum Sq & Mean Sq & F value & Pr(>F)\\\\\n",
       "\\hline\n",
       "\tfert & 1            &    7.575758  &    7.575758  &   0.58785    & 4.683158e-01\\\\\n",
       "\tI(fert\\textasciicircum{}2) & 1            & 3894.613636  & 3894.613636  & 302.20721    & 5.125802e-07\\\\\n",
       "\tResiduals & 7            &   90.210606  &   12.887229  &        NA    &           NA\\\\\n",
       "\\end{tabular}\n"
      ],
      "text/markdown": [
       "\n",
       "| <!--/--> | Df | Sum Sq | Mean Sq | F value | Pr(>F) |\n",
       "|---|---|---|---|---|---|\n",
       "| fert | 1            |    7.575758  |    7.575758  |   0.58785    | 4.683158e-01 |\n",
       "| I(fert^2) | 1            | 3894.613636  | 3894.613636  | 302.20721    | 5.125802e-07 |\n",
       "| Residuals | 7            |   90.210606  |   12.887229  |        NA    |           NA |\n",
       "\n"
      ],
      "text/plain": [
       "          Df Sum Sq      Mean Sq     F value   Pr(>F)      \n",
       "fert      1     7.575758    7.575758   0.58785 4.683158e-01\n",
       "I(fert^2) 1  3894.613636 3894.613636 302.20721 5.125802e-07\n",
       "Residuals 7    90.210606   12.887229        NA           NA"
      ]
     },
     "metadata": {},
     "output_type": "display_data"
    }
   ],
   "source": [
    "#Análise de Variância no R\n",
    "anova(reg)"
   ]
  },
  {
   "cell_type": "markdown",
   "metadata": {},
   "source": [
    "Os resultados encontrados nos levam a rejeição da hipótese nula, indicando que os coeficientes do modelo estimado podem ser considerados singificativos para o modelo.\n",
    "\n",
    "Mais eu imagino o Professor Hidelbrando dizendo: E se nós quisermos construir uma função para realizar todo o cálculo, como seria? Um exemplo de criação de função é apresentado a seguir. "
   ]
  },
  {
   "cell_type": "code",
   "execution_count": 5,
   "metadata": {},
   "outputs": [],
   "source": [
    "hidel=function(n){                                               #Entrada de dados 10 dados\n",
    "    cat(\"Digite os valores para o fertilizante: \\n\")             #Pedindo para entrar com os dados e pulando uma linha\n",
    "    fert=scan(,nlines=n)                                         #digite 10 valores entrando com Enter\n",
    "    cat(\"Digite os valores para prd: \\n\")\n",
    "    prd=scan(,nlines=n)                                          #informe 10 valores entrando com Enter\n",
    "    x = cbind(fert,fert2=fert^2)                                 #juntando os elementos como colunas \n",
    "    reg = lm(prd~x)                                              #realizando a regressão \n",
    "    return(reg)                                                  #apresentando o resultado desejado\n",
    "}\n",
    "\n",
    "#Para rodar o algoritmo, use:\n",
    "# hidel(10)                                                       #O 10 significa que você irá entrar com 10 valores para fert e prd."
   ]
  }
 ],
 "metadata": {
  "kernelspec": {
   "display_name": "R",
   "language": "R",
   "name": "ir"
  },
  "language_info": {
   "codemirror_mode": "r",
   "file_extension": ".r",
   "mimetype": "text/x-r-source",
   "name": "R",
   "pygments_lexer": "r",
   "version": "3.6.1"
  }
 },
 "nbformat": 4,
 "nbformat_minor": 4
}
